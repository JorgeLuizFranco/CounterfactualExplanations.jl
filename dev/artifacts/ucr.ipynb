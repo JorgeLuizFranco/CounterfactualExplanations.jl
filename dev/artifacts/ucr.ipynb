{
 "cells": [
  {
   "cell_type": "markdown",
   "metadata": {},
   "source": [
    "# UCR Data"
   ]
  },
  {
   "cell_type": "code",
   "execution_count": 8,
   "metadata": {},
   "outputs": [],
   "source": [
    "include(\"generate_artifacts.jl\")\n",
    "data_dir = \"../data\"\n",
    "artifact_name = \"ucr\";"
   ]
  },
  {
   "cell_type": "markdown",
   "metadata": {},
   "source": [
    "### Retrieve data"
   ]
  },
  {
   "cell_type": "code",
   "execution_count": 9,
   "metadata": {},
   "outputs": [
    {
     "name": "stderr",
     "output_type": "stream",
     "text": [
      "/Users/FA31DU/.julia/conda/3/lib/python3.9/site-packages/tslearn/bases/bases.py:15: UserWarning: h5py not installed, hdf5 features will not be supported.\n",
      "Install h5py to use hdf5 features: http://docs.h5py.org/\n",
      "  warn(h5py_msg)\n"
     ]
    }
   ],
   "source": [
    "using PyCall\n",
    "using BSON: @save\n",
    "run = true\n",
    "if run \n",
    "    py\"\"\"\n",
    "    from tslearn.datasets import UCR_UEA_datasets\n",
    "\n",
    "    X_train, y_train, X_test, y_test = UCR_UEA_datasets().load_dataset('ECG200')\n",
    "    \"\"\"\n",
    "    \n",
    "    # Relabel: \n",
    "    y_train = ifelse.(py\"y_train\".==-1,0,1)\n",
    "    y_test = ifelse.(py\"y_test\".==-1,0,1)\n",
    "\n",
    "\n",
    "    data = Dict(\n",
    "        \"X_train\" => py\"X_train\",\n",
    "        \"y_train\" => y_train,\n",
    "        \"X_test\" => py\"X_test\",\n",
    "        \"y_test\" => y_test\n",
    "    )\n",
    "\n",
    "    @save joinpath(data_dir, artifact_name * \"_data.bson\") data\n",
    "end"
   ]
  },
  {
   "cell_type": "code",
   "execution_count": 10,
   "metadata": {},
   "outputs": [],
   "source": [
    "using BSON: @load\n",
    "@load joinpath(data_dir, artifact_name * \"_data.bson\") data\n",
    "y_train, X_train, X_test, y_test = values(data)\n",
    "n_train = size(X_train)[1]\n",
    "input_dim = size(X_train)[2]\n",
    "output_dim = 1;"
   ]
  },
  {
   "cell_type": "markdown",
   "metadata": {},
   "source": [
    "### Classifier"
   ]
  },
  {
   "cell_type": "markdown",
   "metadata": {},
   "source": [
    "#### MLP"
   ]
  },
  {
   "cell_type": "code",
   "execution_count": 11,
   "metadata": {},
   "outputs": [
    {
     "data": {
      "text/plain": [
       "mlp (generic function with 1 method)"
      ]
     },
     "metadata": {},
     "output_type": "display_data"
    }
   ],
   "source": [
    "using Flux\n",
    "# MLP\n",
    "function mlp(;input_dim, hidden_dim, output_dim, activation=Flux.relu)\n",
    "    model = Chain(\n",
    "        Dense(input_dim, hidden_dim, activation),\n",
    "        Dropout(0.1),\n",
    "        Dense(hidden_dim, output_dim)\n",
    "    )  \n",
    "    return model\n",
    "end"
   ]
  },
  {
   "cell_type": "code",
   "execution_count": 12,
   "metadata": {},
   "outputs": [],
   "source": [
    "using Flux: DataLoader\n",
    "kw_args = (input_dim=input_dim,hidden_dim=128,output_dim=output_dim)\n",
    "model = mlp(;kw_args...)\n",
    "loss(x, y) = Flux.Losses.logitbinarycrossentropy(model(x), y)\n",
    "bs = Int(round(n_train/10))\n",
    "data = DataLoader((X_train[:,:,1]',Flux.unsqueeze(y_train,1)),batchsize=bs)\n",
    "test_data = zip(Flux.unstack(X_test[:,:,1],1),Flux.unsqueeze(y_test,1));"
   ]
  },
  {
   "cell_type": "code",
   "execution_count": 15,
   "metadata": {},
   "outputs": [
    {
     "name": "stdout",
     "output_type": "stream",
     "text": [
      "Epoch 1\n"
     ]
    },
    {
     "name": "stdout",
     "output_type": "stream",
     "text": [
      "avg_loss(data) = 0.43564407463113186\n",
      "accuracy(data) = "
     ]
    },
    {
     "name": "stdout",
     "output_type": "stream",
     "text": [
      "0.7699999999999999\n"
     ]
    },
    {
     "name": "stdout",
     "output_type": "stream",
     "text": [
      "accuracy(test_data) = 0.79\n",
      "Epoch 2\n",
      "avg_loss(data) = 0.34004401632163284\n",
      "accuracy(data) = 0.85\n",
      "accuracy(test_data) = 0.8\n",
      "Epoch 3\n",
      "avg_loss(data) = 0.3028721270873455\n",
      "accuracy(data) = 0.86\n",
      "accuracy(test_data) = 0.81\n",
      "Epoch 4\n",
      "avg_loss(data) = 0.27314380899935975\n",
      "accuracy(data) = 0.8600000000000001\n",
      "accuracy(test_data) = 0.84\n",
      "Epoch 5\n",
      "avg_loss(data) = 0.25103696045054885\n",
      "accuracy(data) = 0.8800000000000001\n",
      "accuracy(test_data) = 0.84\n",
      "Epoch 6\n",
      "avg_loss(data) = 0.2334818298950181\n",
      "accuracy(data) = 0.9000000000000001\n",
      "accuracy(test_data) = 0.85\n",
      "Epoch 7\n",
      "avg_loss(data) = 0.21950813887769596\n",
      "accuracy(data) = 0.9200000000000002\n",
      "accuracy(test_data) = 0.86\n",
      "Epoch 8\n",
      "avg_loss(data) = 0.20873821320936078\n",
      "accuracy(data) = 0.9200000000000002\n",
      "accuracy(test_data) = 0.85\n",
      "Epoch 9\n",
      "avg_loss(data) = 0.19853346934855418\n",
      "accuracy(data) = 0.93\n",
      "accuracy(test_data) = 0.85\n",
      "Epoch 10\n",
      "avg_loss(data) = 0.18743479852722733\n",
      "accuracy(data) = 0.9400000000000002\n",
      "accuracy(test_data) = 0.85\n",
      "Epoch 11\n",
      "avg_loss(data) = 0.17871306372098092\n",
      "accuracy(data) = 0.95\n",
      "accuracy(test_data) = 0.85\n",
      "Epoch 12\n",
      "avg_loss(data) = "
     ]
    },
    {
     "name": "stdout",
     "output_type": "stream",
     "text": [
      "0.17007527346369813\n",
      "accuracy(data) = 0.95\n",
      "accuracy(test_data) = 0.85\n",
      "Epoch 13\n",
      "avg_loss(data) = 0.16173779092380702\n",
      "accuracy(data) = 0.95\n",
      "accuracy(test_data) = 0.85\n",
      "Epoch 14\n",
      "avg_loss(data) = 0.15473807646148968\n",
      "accuracy(data) = 0.95\n",
      "accuracy(test_data) = 0.85\n",
      "Epoch 15\n",
      "avg_loss(data) = 0.14955395759877854\n",
      "accuracy(data) = 0.95\n",
      "accuracy(test_data) = 0.87\n",
      "Epoch 16\n",
      "avg_loss(data) = 0.14219930797140307\n",
      "accuracy(data) = 0.95\n",
      "accuracy(test_data) = 0.84\n",
      "Epoch 17\n",
      "avg_loss(data) = 0.1365292525088101\n",
      "accuracy(data) = 0.95\n",
      "accuracy(test_data) = 0.86\n",
      "Epoch 18\n",
      "avg_loss(data) = 0.1304868182398107\n",
      "accuracy(data) = 0.9600000000000002\n",
      "accuracy(test_data) = 0.85\n",
      "Epoch 19\n",
      "avg_loss(data) = 0.12487738929514436\n",
      "accuracy(data) = 0.9600000000000002\n",
      "accuracy(test_data) = 0.86\n",
      "Epoch 20\n",
      "avg_loss(data) = 0.1198903205060956\n",
      "accuracy(data) = 0.9700000000000001\n",
      "accuracy(test_data) = 0.85\n"
     ]
    }
   ],
   "source": [
    "using Flux.Optimise: update!, ADAM\n",
    "using Statistics\n",
    "opt = ADAM()\n",
    "epochs = 20\n",
    "avg_loss(data) = mean(map(d -> loss(d[1],d[2]), data))\n",
    "accuracy(data) = mean(map(d -> mean(round.(Flux.σ.(model(d[1]))) .== d[2]), data))\n",
    "\n",
    "if true\n",
    "  for epoch = 1:epochs\n",
    "    for d in data\n",
    "      gs = gradient(params(model)) do\n",
    "        l = loss(d...)\n",
    "      end\n",
    "      update!(opt, params(model), gs)\n",
    "    end\n",
    "    println(\"Epoch \" * string(epoch))\n",
    "    @show avg_loss(data)\n",
    "    @show accuracy(data)\n",
    "    @show accuracy(test_data)\n",
    "  end\n",
    "  @save joinpath(data_dir, artifact_name * \"_model.bson\") model\n",
    "end"
   ]
  },
  {
   "cell_type": "markdown",
   "metadata": {},
   "source": [
    "### Generate artifact"
   ]
  },
  {
   "cell_type": "code",
   "execution_count": 16,
   "metadata": {},
   "outputs": [
    {
     "name": "stderr",
     "output_type": "stream",
     "text": [
      "┌ Warning: For automatic github deployment, need GITHUB_TOKEN. Not found in ENV, attemptimg global git config.\n",
      "└ @ Main /Users/FA31DU/Documents/code/CounterfactualExplanations.jl/dev/artifacts/generate_artifacts.jl:13\n"
     ]
    },
    {
     "name": "stderr",
     "output_type": "stream",
     "text": [
      "┌ Info: Binding ucr_data in Artifacts.toml...\n",
      "└ @ Main /Users/FA31DU/Documents/code/CounterfactualExplanations.jl/dev/artifacts/generate_artifacts.jl:56\n"
     ]
    },
    {
     "name": "stderr",
     "output_type": "stream",
     "text": [
      "┌ Info: Binding ucr_model in Artifacts.toml...\n",
      "└ @ Main /Users/FA31DU/Documents/code/CounterfactualExplanations.jl/dev/artifacts/generate_artifacts.jl:56\n",
      "┌ Info: Uploading tarballs to pat-alt/CounterfactualExplanations.jl tag `data`\n",
      "└ @ Main /Users/FA31DU/Documents/code/CounterfactualExplanations.jl/dev/artifacts/generate_artifacts.jl:67\n"
     ]
    },
    {
     "name": "stdout",
     "output_type": "stream",
     "text": [
      "WARNING: found release (data). Use existing one.\n",
      "--> Deleting: ucr_model.tar.gz\n",
      "--> Deleting: ucr_data.tar.gz\n",
      "--> Uploading: ucr_model.tar.gz\n",
      "--> Uploading: ucr_data.tar.gz\n"
     ]
    },
    {
     "name": "stderr",
     "output_type": "stream",
     "text": [
      "┌ Info: Artifacts.toml file now contains all bound artifact names\n",
      "└ @ Main /Users/FA31DU/Documents/code/CounterfactualExplanations.jl/dev/artifacts/generate_artifacts.jl:73\n"
     ]
    }
   ],
   "source": [
    "datafiles = [artifact_name * \"_data.bson\",artifact_name * \"_model.bson\"]\n",
    "generate_artifact(datafiles)"
   ]
  }
 ],
 "metadata": {
  "kernelspec": {
   "display_name": "Julia 1.6.4",
   "language": "julia",
   "name": "julia-1.6"
  },
  "language_info": {
   "file_extension": ".jl",
   "mimetype": "application/julia",
   "name": "julia",
   "version": "1.6.4"
  },
  "orig_nbformat": 4
 },
 "nbformat": 4,
 "nbformat_minor": 2
}
