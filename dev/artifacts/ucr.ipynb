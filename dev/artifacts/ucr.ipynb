{
 "cells": [
  {
   "cell_type": "markdown",
   "metadata": {},
   "source": [
    "# UCR Data"
   ]
  },
  {
   "cell_type": "code",
   "execution_count": 1,
   "metadata": {},
   "outputs": [],
   "source": [
    "include(\"generate_artifacts.jl\")\n",
    "data_dir = \"../data\"\n",
    "artifact_name = \"ucr\";"
   ]
  },
  {
   "cell_type": "markdown",
   "metadata": {},
   "source": [
    "### Retrieve data"
   ]
  },
  {
   "cell_type": "code",
   "execution_count": 2,
   "metadata": {},
   "outputs": [],
   "source": [
    "using PyCall\n",
    "using BSON: @save\n",
    "run = false\n",
    "if run \n",
    "    py\"\"\"\n",
    "    from tslearn.datasets import UCR_UEA_datasets\n",
    "\n",
    "    X_train, y_train, X_test, y_test = UCR_UEA_datasets().load_dataset('ECG200')\n",
    "    \"\"\"\n",
    "    \n",
    "    # Relabel: \n",
    "    y_train = ifelse.(py\"y_train\".==-1,0,1)\n",
    "    y_test = ifelse.(py\"y_test\".==-1,0,1)\n",
    "\n",
    "\n",
    "    data = Dict(\n",
    "        \"X_train\" => py\"X_train\",\n",
    "        \"y_train\" => y_train,\n",
    "        \"X_test\" => py\"X_test\",\n",
    "        \"y_test\" => y_test\n",
    "    )\n",
    "\n",
    "    @save joinpath(data_dir, artifact_name * \"_data.bson\") data\n",
    "end"
   ]
  },
  {
   "cell_type": "code",
   "execution_count": 3,
   "metadata": {},
   "outputs": [],
   "source": [
    "using BSON: @load\n",
    "@load joinpath(data_dir, artifact_name * \"_data.bson\") data\n",
    "y_train, X_train, X_test, y_test = values(data)\n",
    "n_train = size(X_train)[1]\n",
    "input_dim = size(X_train)[2]\n",
    "output_dim = 1;"
   ]
  },
  {
   "cell_type": "markdown",
   "metadata": {},
   "source": [
    "### Classifier"
   ]
  },
  {
   "cell_type": "markdown",
   "metadata": {},
   "source": [
    "#### MLP"
   ]
  },
  {
   "cell_type": "code",
   "execution_count": 4,
   "metadata": {},
   "outputs": [
    {
     "data": {
      "text/plain": [
       "mlp (generic function with 1 method)"
      ]
     },
     "metadata": {},
     "output_type": "display_data"
    }
   ],
   "source": [
    "using Flux\n",
    "# MLP\n",
    "function mlp(;input_dim, hidden_dim, output_dim, activation=Flux.relu)\n",
    "    model = Chain(\n",
    "        Dense(input_dim, hidden_dim, activation),\n",
    "        Dropout(0.1),\n",
    "        Dense(hidden_dim, output_dim)\n",
    "    )  \n",
    "    return model\n",
    "end"
   ]
  },
  {
   "cell_type": "code",
   "execution_count": 5,
   "metadata": {},
   "outputs": [],
   "source": [
    "using Flux: DataLoader\n",
    "kw_args = (input_dim=input_dim,hidden_dim=128,output_dim=output_dim)\n",
    "model = mlp(;kw_args...)\n",
    "loss(x, y) = Flux.Losses.logitbinarycrossentropy(model(x), y)\n",
    "bs = Int(round(n_train/10))\n",
    "data = DataLoader((X_train[:,:,1]',Flux.unsqueeze(y_train,1)),batchsize=bs)\n",
    "test_data = zip(Flux.unstack(X_test[:,:,1],1),Flux.unsqueeze(y_test,1));"
   ]
  },
  {
   "cell_type": "code",
   "execution_count": 6,
   "metadata": {},
   "outputs": [],
   "source": [
    "using Flux.Optimise: update!, ADAM\n",
    "using Statistics\n",
    "opt = ADAM()\n",
    "epochs = 20\n",
    "avg_loss(data) = mean(map(d -> loss(d[1],d[2]), data))\n",
    "accuracy(data) = mean(map(d -> mean(round.(Flux.σ.(model(d[1]))) .== d[2]), data))\n",
    "\n",
    "if false\n",
    "  for epoch = 1:epochs\n",
    "    for d in data\n",
    "      gs = gradient(params(model)) do\n",
    "        l = loss(d...)\n",
    "      end\n",
    "      update!(opt, params(model), gs)\n",
    "    end\n",
    "    println(\"Epoch \" * string(epoch))\n",
    "    @show avg_loss(data)\n",
    "    @show accuracy(data)\n",
    "    @show accuracy(test_data)\n",
    "  end\n",
    "  @save joinpath(data_dir, artifact_name * \"_model.bson\") model\n",
    "end"
   ]
  },
  {
   "cell_type": "markdown",
   "metadata": {},
   "source": [
    "### Generate artifact"
   ]
  },
  {
   "cell_type": "code",
   "execution_count": 7,
   "metadata": {},
   "outputs": [
    {
     "name": "stderr",
     "output_type": "stream",
     "text": [
      "┌ Warning: For automatic github deployment, need GITHUB_TOKEN. Not found in ENV, attemptimg global git config.\n",
      "└ @ Main /Users/patrickaltmeyer/Documents/code/AlgorithmicRecourse.jl/dev/artifacts/generate_artifacts.jl:14\n"
     ]
    },
    {
     "name": "stderr",
     "output_type": "stream",
     "text": [
      "┌ Info: Binding ucr_data in Artifacts.toml...\n",
      "└ @ Main /Users/patrickaltmeyer/Documents/code/AlgorithmicRecourse.jl/dev/artifacts/generate_artifacts.jl:58\n"
     ]
    },
    {
     "name": "stderr",
     "output_type": "stream",
     "text": [
      "┌ Info: Binding ucr_model in Artifacts.toml...\n",
      "└ @ Main /Users/patrickaltmeyer/Documents/code/AlgorithmicRecourse.jl/dev/artifacts/generate_artifacts.jl:58\n",
      "┌ Info: Uploading tarballs to pat-alt/AlgorithmicRecourse.jl tag `data`\n",
      "└ @ Main /Users/patrickaltmeyer/Documents/code/AlgorithmicRecourse.jl/dev/artifacts/generate_artifacts.jl:69\n"
     ]
    },
    {
     "name": "stdout",
     "output_type": "stream",
     "text": [
      "WARNING: found release (data). Use existing one.\n",
      "--> Uploading: ucr_model.tar.gz\n",
      "--> Uploading: ucr_data.tar.gz\n"
     ]
    },
    {
     "name": "stderr",
     "output_type": "stream",
     "text": [
      "┌ Info: Artifacts.toml file now contains all bound artifact names\n",
      "└ @ Main /Users/patrickaltmeyer/Documents/code/AlgorithmicRecourse.jl/dev/artifacts/generate_artifacts.jl:75\n"
     ]
    }
   ],
   "source": [
    "generate_artifact()"
   ]
  }
 ],
 "metadata": {
  "kernelspec": {
   "display_name": "Julia 1.6.5",
   "language": "julia",
   "name": "julia-1.6"
  },
  "language_info": {
   "file_extension": ".jl",
   "mimetype": "application/julia",
   "name": "julia",
   "version": "1.6.5"
  },
  "orig_nbformat": 4
 },
 "nbformat": 4,
 "nbformat_minor": 2
}
