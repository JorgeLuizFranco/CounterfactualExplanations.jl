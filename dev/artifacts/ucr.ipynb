{
 "cells": [
  {
   "cell_type": "markdown",
   "metadata": {},
   "source": [
    "# UCR Data"
   ]
  },
  {
   "cell_type": "code",
   "execution_count": 1,
   "metadata": {},
   "outputs": [],
   "source": [
    "include(\"generate_artifacts.jl\")\n",
    "data_dir = \"../data\"\n",
    "artifact_name = \"ucr\";"
   ]
  },
  {
   "cell_type": "markdown",
   "metadata": {},
   "source": [
    "### Retrieve data"
   ]
  },
  {
   "cell_type": "code",
   "execution_count": 2,
   "metadata": {},
   "outputs": [],
   "source": [
    "using PyCall\n",
    "using BSON: @save\n",
    "run = false\n",
    "if run \n",
    "    py\"\"\"\n",
    "    from tslearn.datasets import UCR_UEA_datasets\n",
    "\n",
    "    X_train, y_train, X_test, y_test = UCR_UEA_datasets().load_dataset('ECG200')\n",
    "    \"\"\"\n",
    "    \n",
    "    # Relabel: \n",
    "    y_train = ifelse.(py\"y_train\".==-1,0,1)\n",
    "    y_test = ifelse.(py\"y_test\".==-1,0,1)\n",
    "\n",
    "\n",
    "    data = Dict(\n",
    "        \"X_train\" => py\"X_train\",\n",
    "        \"y_train\" => y_train,\n",
    "        \"X_test\" => py\"X_test\",\n",
    "        \"y_test\" => y_test\n",
    "    )\n",
    "\n",
    "    @save joinpath(data_dir, artifact_name * \"_data.bson\") data\n",
    "end"
   ]
  },
  {
   "cell_type": "code",
   "execution_count": 3,
   "metadata": {},
   "outputs": [],
   "source": [
    "using BSON: @load\n",
    "@load joinpath(data_dir, artifact_name * \"_data.bson\") data\n",
    "y_train, X_train, X_test, y_test = values(data)\n",
    "n_train = size(X_train)[1]\n",
    "input_dim = size(X_train)[2]\n",
    "output_dim = 1;"
   ]
  },
  {
   "cell_type": "markdown",
   "metadata": {},
   "source": [
    "### Classifier"
   ]
  },
  {
   "cell_type": "markdown",
   "metadata": {},
   "source": [
    "#### MLP"
   ]
  },
  {
   "cell_type": "code",
   "execution_count": 4,
   "metadata": {},
   "outputs": [
    {
     "data": {
      "text/plain": [
       "mlp (generic function with 1 method)"
      ]
     },
     "metadata": {},
     "output_type": "display_data"
    }
   ],
   "source": [
    "using Flux\n",
    "# MLP\n",
    "function mlp(;input_dim, hidden_dim, output_dim, activation=Flux.relu)\n",
    "    model = Chain(\n",
    "        Dense(input_dim, hidden_dim, activation),\n",
    "        Dropout(0.1),\n",
    "        Dense(hidden_dim, output_dim)\n",
    "    )  \n",
    "    return model\n",
    "end"
   ]
  },
  {
   "cell_type": "code",
   "execution_count": 5,
   "metadata": {},
   "outputs": [],
   "source": [
    "using Flux: DataLoader\n",
    "kw_args = (input_dim=input_dim,hidden_dim=128,output_dim=output_dim)\n",
    "model = mlp(;kw_args...)\n",
    "loss(x, y) = Flux.Losses.logitbinarycrossentropy(model(x), y)\n",
    "bs = Int(round(n_train/10))\n",
    "data = DataLoader((X_train[:,:,1]',Flux.unsqueeze(y_train,1)),batchsize=bs)\n",
    "test_data = zip(Flux.unstack(X_test[:,:,1],1),Flux.unsqueeze(y_test,1));"
   ]
  },
  {
   "cell_type": "code",
   "execution_count": 6,
   "metadata": {},
   "outputs": [],
   "source": [
    "using Flux.Optimise: update!, ADAM\n",
    "using Statistics\n",
    "opt = ADAM()\n",
    "epochs = 20\n",
    "avg_loss(data) = mean(map(d -> loss(d[1],d[2]), data))\n",
    "accuracy(data) = mean(map(d -> mean(round.(Flux.σ.(model(d[1]))) .== d[2]), data))\n",
    "\n",
    "if false\n",
    "  for epoch = 1:epochs\n",
    "    for d in data\n",
    "      gs = gradient(params(model)) do\n",
    "        l = loss(d...)\n",
    "      end\n",
    "      update!(opt, params(model), gs)\n",
    "    end\n",
    "    println(\"Epoch \" * string(epoch))\n",
    "    @show avg_loss(data)\n",
    "    @show accuracy(data)\n",
    "    @show accuracy(test_data)\n",
    "  end\n",
    "  @save joinpath(data_dir, artifact_name * \"_model.bson\") model\n",
    "end"
   ]
  },
  {
   "cell_type": "markdown",
   "metadata": {},
   "source": [
    "### Generate artifact"
   ]
  },
  {
   "cell_type": "code",
   "execution_count": 7,
   "metadata": {},
   "outputs": [
    {
     "name": "stderr",
     "output_type": "stream",
     "text": [
      "┌ Info: Binding ucr_data in Artifacts.toml...\n",
      "└ @ Main /Users/patrickaltmeyer/Documents/code/AlgorithmicRecourse.jl/dev/artifacts/generate_artifacts.jl:58\n"
     ]
    },
    {
     "ename": "MethodError",
     "evalue": "MethodError: objects of type Bool are not callable",
     "output_type": "error",
     "traceback": [
      "MethodError: objects of type Bool are not callable\n",
      "\n",
      "Stacktrace:\n",
      "  [1] (::var\"#6#10\"{String})(ghr_exe::String)\n",
      "    @ Main ~/Documents/code/AlgorithmicRecourse.jl/dev/artifacts/generate_artifacts.jl:71\n",
      "  [2] (::JLLWrappers.var\"#2#3\"{var\"#6#10\"{String}, String})()\n",
      "    @ JLLWrappers ~/.julia/packages/JLLWrappers/QpMQW/src/runtime.jl:49\n",
      "  [3] withenv(::JLLWrappers.var\"#2#3\"{var\"#6#10\"{String}, String}, ::Pair{String, String}, ::Vararg{Pair{String, String}, N} where N)\n",
      "    @ Base ./env.jl:161\n",
      "  [4] withenv_executable_wrapper(f::Function, executable_path::String, PATH::String, LIBPATH::String, adjust_PATH::Bool, adjust_LIBPATH::Bool)\n",
      "    @ JLLWrappers ~/.julia/packages/JLLWrappers/QpMQW/src/runtime.jl:48\n",
      "  [5] invokelatest(::Any, ::Any, ::Vararg{Any, N} where N; kwargs::Base.Iterators.Pairs{Union{}, Union{}, Tuple{}, NamedTuple{(), Tuple{}}})\n",
      "    @ Base ./essentials.jl:708\n",
      "  [6] invokelatest(::Any, ::Any, ::Vararg{Any, N} where N)\n",
      "    @ Base ./essentials.jl:706\n",
      "  [7] ghr(f::Function; adjust_PATH::Bool, adjust_LIBPATH::Bool)\n",
      "    @ ghr_jll ~/.julia/packages/JLLWrappers/QpMQW/src/products/executable_generators.jl:21\n",
      "  [8] ghr(f::Function)\n",
      "    @ ghr_jll ~/.julia/packages/JLLWrappers/QpMQW/src/products/executable_generators.jl:21\n",
      "  [9] generate_artifact(; data_dir::String, root::String, artifact_toml::String, deploy::Bool, tag::String)\n",
      "    @ Main ~/Documents/code/AlgorithmicRecourse.jl/dev/artifacts/generate_artifacts.jl:70\n",
      " [10] generate_artifact()\n",
      "    @ Main ~/Documents/code/AlgorithmicRecourse.jl/dev/artifacts/generate_artifacts.jl:12\n",
      " [11] top-level scope\n",
      "    @ ~/Documents/code/AlgorithmicRecourse.jl/dev/artifacts/ucr.ipynb:1\n",
      " [12] eval\n",
      "    @ ./boot.jl:360 [inlined]\n",
      " [13] include_string(mapexpr::typeof(REPL.softscope), mod::Module, code::String, filename::String)\n",
      "    @ Base ./loading.jl:1116\n",
      " [14] #invokelatest#2\n",
      "    @ ./essentials.jl:708 [inlined]\n",
      " [15] invokelatest\n",
      "    @ ./essentials.jl:706 [inlined]\n",
      " [16] (::VSCodeServer.var\"#146#147\"{VSCodeServer.NotebookRunCellArguments, String})()\n",
      "    @ VSCodeServer ~/.vscode/extensions/julialang.language-julia-1.5.11/scripts/packages/VSCodeServer/src/serve_notebook.jl:18\n",
      " [17] withpath(f::VSCodeServer.var\"#146#147\"{VSCodeServer.NotebookRunCellArguments, String}, path::String)\n",
      "    @ VSCodeServer ~/.vscode/extensions/julialang.language-julia-1.5.11/scripts/packages/VSCodeServer/src/repl.jl:185\n",
      " [18] notebook_runcell_request(conn::VSCodeServer.JSONRPC.JSONRPCEndpoint{Base.PipeEndpoint, Base.PipeEndpoint}, params::VSCodeServer.NotebookRunCellArguments)\n",
      "    @ VSCodeServer ~/.vscode/extensions/julialang.language-julia-1.5.11/scripts/packages/VSCodeServer/src/serve_notebook.jl:14\n",
      " [19] dispatch_msg(x::VSCodeServer.JSONRPC.JSONRPCEndpoint{Base.PipeEndpoint, Base.PipeEndpoint}, dispatcher::VSCodeServer.JSONRPC.MsgDispatcher, msg::Dict{String, Any})\n",
      "    @ VSCodeServer.JSONRPC ~/.vscode/extensions/julialang.language-julia-1.5.11/scripts/packages/JSONRPC/src/typed.jl:67\n",
      " [20] serve_notebook(pipename::String; crashreporting_pipename::String)\n",
      "    @ VSCodeServer ~/.vscode/extensions/julialang.language-julia-1.5.11/scripts/packages/VSCodeServer/src/serve_notebook.jl:94\n",
      " [21] top-level scope\n",
      "    @ ~/.vscode/extensions/julialang.language-julia-1.5.11/scripts/notebook/notebook.jl:12\n",
      " [22] include(mod::Module, _path::String)\n",
      "    @ Base ./Base.jl:384\n",
      " [23] exec_options(opts::Base.JLOptions)\n",
      "    @ Base ./client.jl:285\n",
      " [24] _start()\n",
      "    @ Base ./client.jl:485"
     ]
    }
   ],
   "source": [
    "generate_artifact()"
   ]
  }
 ],
 "metadata": {
  "kernelspec": {
   "display_name": "Julia 1.6.5",
   "language": "julia",
   "name": "julia-1.6"
  },
  "language_info": {
   "file_extension": ".jl",
   "mimetype": "application/julia",
   "name": "julia",
   "version": "1.6.5"
  },
  "orig_nbformat": 4
 },
 "nbformat": 4,
 "nbformat_minor": 2
}
