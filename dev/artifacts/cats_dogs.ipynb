{
 "cells": [
  {
   "cell_type": "markdown",
   "metadata": {},
   "source": [
    "# Cats and dogs"
   ]
  },
  {
   "cell_type": "code",
   "execution_count": 27,
   "metadata": {},
   "outputs": [],
   "source": [
    "include(\"generate_artifacts.jl\")\n",
    "data_dir = \"../data\"\n",
    "artifact_name = \"cats_dogs\";"
   ]
  },
  {
   "cell_type": "markdown",
   "metadata": {},
   "source": [
    "### Generate toy data"
   ]
  },
  {
   "cell_type": "code",
   "execution_count": 24,
   "metadata": {},
   "outputs": [],
   "source": [
    "using Random\n",
    "Random.seed!(1234)\n",
    "averages = (dog=[100;20],cat=[50;50])\n",
    "D = 2\n",
    "N = 1000\n",
    "y = rand([0,1],N)\n",
    "dog_label = 1\n",
    "cat_label = 0\n",
    "X = zeros(D,N)\n",
    "dogs = findall(y.==dog_label)\n",
    "cats = findall(y.==cat_label)\n",
    "noise = 0.1\n",
    "noise_cats = randn(D,length(cats)) .* noise .*averages.cat \n",
    "noise_dogs = randn(D,length(dogs)) .* noise .*averages.dog \n",
    "X[:,cats] .= averages.cat .+ noise_cats\n",
    "X[:,dogs] .= averages.dog .+ noise_dogs\n",
    "data = Dict(\n",
    "        \"X\" => X,\n",
    "        \"y\" => y\n",
    "    )\n",
    "using BSON: @save\n",
    "datafile = artifact_name * \"_data.bson\"\n",
    "@save joinpath(data_dir, datafile) data"
   ]
  },
  {
   "cell_type": "code",
   "execution_count": 28,
   "metadata": {},
   "outputs": [
    {
     "name": "stderr",
     "output_type": "stream",
     "text": [
      "┌ Warning: For automatic github deployment, need GITHUB_TOKEN. Not found in ENV, attemptimg global git config.\n",
      "└ @ Main /Users/patrickaltmeyer/Documents/code/AlgorithmicRecourse.jl/dev/artifacts/generate_artifacts.jl:13\n",
      "┌ Info: Binding cats_dogs_data in Artifacts.toml...\n",
      "└ @ Main /Users/patrickaltmeyer/Documents/code/AlgorithmicRecourse.jl/dev/artifacts/generate_artifacts.jl:57\n",
      "┌ Info: Uploading tarballs to pat-alt/AlgorithmicRecourse.jl tag `data`\n",
      "└ @ Main /Users/patrickaltmeyer/Documents/code/AlgorithmicRecourse.jl/dev/artifacts/generate_artifacts.jl:68\n"
     ]
    },
    {
     "name": "stdout",
     "output_type": "stream",
     "text": [
      "WARNING: found release (data). Use existing one.\n",
      "--> Deleting: cats_dogs_data.tar.gz\n",
      "--> Uploading: cats_dogs_data.tar.gz\n"
     ]
    },
    {
     "name": "stderr",
     "output_type": "stream",
     "text": [
      "┌ Info: Artifacts.toml file now contains all bound artifact names\n",
      "└ @ Main /Users/patrickaltmeyer/Documents/code/AlgorithmicRecourse.jl/dev/artifacts/generate_artifacts.jl:74\n"
     ]
    }
   ],
   "source": [
    "datafiles = [datafile]\n",
    "generate_artifact(datafiles)"
   ]
  }
 ],
 "metadata": {
  "kernelspec": {
   "display_name": "Julia 1.6.5",
   "language": "julia",
   "name": "julia-1.6"
  },
  "language_info": {
   "file_extension": ".jl",
   "mimetype": "application/julia",
   "name": "julia",
   "version": "1.6.5"
  },
  "orig_nbformat": 4
 },
 "nbformat": 4,
 "nbformat_minor": 2
}
