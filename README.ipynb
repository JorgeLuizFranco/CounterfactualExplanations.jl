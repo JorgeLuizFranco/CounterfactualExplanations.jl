{
  "cells": [
    {
      "cell_type": "raw",
      "metadata": {},
      "source": [
        "---\n",
        "format:\n",
        "  commonmark:\n",
        "    variant: '-raw_html'\n",
        "    wrap: none\n",
        "    self-contained: true\n",
        "crossref:\n",
        "  fig-prefix: Figure\n",
        "  tbl-prefix: Table\n",
        "bibliography: 'https://raw.githubusercontent.com/pat-alt/bib/main/bib.bib'\n",
        "output: asis\n",
        "execute:\n",
        "  eval: false\n",
        "  echo: true\n",
        "---"
      ],
      "id": "ba4adba6"
    },
    {
      "cell_type": "markdown",
      "metadata": {},
      "source": [
        "# CounterfactualExplanations\n",
        "\n",
        "<!-- [![Stable](https://img.shields.io/badge/docs-stable-blue.svg)](https://pat-alt.github.io/CounterfactualExplanations.jl/stable) -->\n",
        "[![Dev](https://img.shields.io/badge/docs-dev-blue.svg)](https://pat-alt.github.io/CounterfactualExplanations.jl/dev)\n",
        "[![Build Status](https://github.com/pat-alt/CounterfactualExplanations.jl/actions/workflows/CI.yml/badge.svg?branch=main)](https://github.com/pat-alt/CounterfactualExplanations.jl/actions/workflows/CI.yml?query=branch%3Amain)\n",
        "[![Coverage](https://codecov.io/gh/pat-alt/CounterfactualExplanations.jl/branch/main/graph/badge.svg)](https://codecov.io/gh/pat-alt/CounterfactualExplanations.jl)\n",
        "\n",
        "```{r, child='docs/src/intro.qmd'}\n",
        "```"
      ],
      "id": "17d0cfda"
    }
  ],
  "metadata": {
    "kernelspec": {
      "name": "julia-1.6",
      "language": "julia",
      "display_name": "Julia 1.6.5"
    }
  },
  "nbformat": 4,
  "nbformat_minor": 5
}