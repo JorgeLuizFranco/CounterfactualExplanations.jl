{
  "cells": [
    {
      "cell_type": "markdown",
      "metadata": {},
      "source": [
        "```@meta\n",
        "CurrentModule = CounterfactualExplanations \n",
        "```\n"
      ],
      "id": "b6c03b18"
    },
    {
      "cell_type": "code",
      "metadata": {},
      "source": [
        "#| echo: false\n",
        "include(\"$(pwd())/docs/setup_docs.jl\")\n",
        "eval(setup_docs)"
      ],
      "id": "26391c46",
      "execution_count": null,
      "outputs": []
    },
    {
      "cell_type": "markdown",
      "metadata": {},
      "source": [
        "# Categorical Features\n",
        "\n",
        "To illustrate how data is preprocessed under the hood, we consider a simple toy dataset with three categorical features (`name`, `grade` and `sex`) and one continuous feature (`age`):\n"
      ],
      "id": "8cedc3e8"
    },
    {
      "cell_type": "code",
      "metadata": {},
      "source": [
        "X = (\n",
        "    name=categorical([\"Danesh\", \"Lee\", \"Mary\", \"John\"]),\n",
        "    grade=categorical([\"A\", \"B\", \"A\", \"C\"], ordered=true),\n",
        "    sex=categorical([\"male\",\"female\",\"male\",\"male\"]),\n",
        "    height=[1.85, 1.67, 1.5, 1.67],\n",
        ")\n",
        "schema(X)"
      ],
      "id": "fe24e251",
      "execution_count": null,
      "outputs": []
    },
    {
      "cell_type": "markdown",
      "metadata": {},
      "source": [
        "Categorical features are expected to be one-hot or dummy encoded. To this end, we could use `MLJ`, for example:\n"
      ],
      "id": "fc390b0d"
    },
    {
      "cell_type": "code",
      "metadata": {},
      "source": [
        "#| output: true\n",
        "hot = OneHotEncoder()\n",
        "mach = fit!(machine(hot, X))\n",
        "W = transform(mach, X)\n",
        "schema(W)"
      ],
      "id": "3af024d6",
      "execution_count": null,
      "outputs": []
    },
    {
      "cell_type": "markdown",
      "metadata": {},
      "source": [
        "The matrix that will be perturbed during the counterfactual search looks as follows:\n"
      ],
      "id": "b05fc55d"
    },
    {
      "cell_type": "code",
      "metadata": {},
      "source": [
        "#| output: true\n",
        "X = permutedims(MLJBase.matrix(W))"
      ],
      "id": "9fb24470",
      "execution_count": null,
      "outputs": []
    },
    {
      "cell_type": "markdown",
      "metadata": {},
      "source": [
        "The `CounterfactualData` constructor takes two optional arguments that can be used to specify the indices of categorical and continuous features. If nothing is supplied, all features are assumed to be continuous. For categorical features, the constructor expects and array of arrays of integers (`Vector{Vector{Int}}`) where each subarray includes the indices of a all one-hot encoded rows related to a single categorical feature. In the example above, the `name` feature is one-hot encoded across rows 1, 2 and 3 of `X`.\n"
      ],
      "id": "2ef40162"
    },
    {
      "cell_type": "code",
      "metadata": {},
      "source": [
        "features_categorical = [\n",
        "    [1,2,3,4],    # name\n",
        "    [5,6,7],    # grade\n",
        "    [8,9]       # sex\n",
        "]\n",
        "features_continuous = [10]"
      ],
      "id": "f3bfd837",
      "execution_count": null,
      "outputs": []
    },
    {
      "cell_type": "markdown",
      "metadata": {},
      "source": [
        "We propose the following simple logic for reconstructing categorical encodings after perturbations:\n",
        "\n",
        "- For one-hot encoded features with multiple classes, choose the maximum.\n",
        "- For binary features, clip the perturbed value to fall into $[0,1]$ and round to the nearest of the two integers.\n"
      ],
      "id": "9a014f86"
    },
    {
      "cell_type": "code",
      "metadata": {},
      "source": [
        "function reconstruct_cat_encoding(x)\n",
        "    map(features_categorical) do cat_group_index\n",
        "        if length(cat_group_index) > 1\n",
        "            x[cat_group_index] = Int.(x[cat_group_index] .== maximum(x[cat_group_index]))\n",
        "            if sum(x[cat_group_index]) > 1\n",
        "                ties = findall(x[cat_group_index] .== 1)\n",
        "                _x = zeros(length(x[cat_group_index]))\n",
        "                winner = rand(ties,1)[1]\n",
        "                _x[winner] = 1\n",
        "                x[cat_group_index] = _x\n",
        "            end\n",
        "        else\n",
        "            x[cat_group_index] = [round(clamp(x[cat_group_index][1],0,1))]\n",
        "        end\n",
        "    end\n",
        "    return x\n",
        "end"
      ],
      "id": "9a3c7a5e",
      "execution_count": null,
      "outputs": []
    },
    {
      "cell_type": "markdown",
      "metadata": {},
      "source": [
        "Let's look at a few simple examples to see how this function works. Firstly, consider the case of perturbing a single element:\n"
      ],
      "id": "1102ed45"
    },
    {
      "cell_type": "code",
      "metadata": {},
      "source": [
        "#| output: true\n",
        "x = X[:,1]\n",
        "x[1] = 1.1\n",
        "x"
      ],
      "id": "57a317b4",
      "execution_count": null,
      "outputs": []
    },
    {
      "cell_type": "markdown",
      "metadata": {},
      "source": [
        "The reconstructed one-hot-encoded vector will look like this: \n"
      ],
      "id": "c8cce135"
    },
    {
      "cell_type": "code",
      "metadata": {},
      "source": [
        "#| output: true\n",
        "reconstruct_cat_encoding(x)"
      ],
      "id": "303d9d8e",
      "execution_count": null,
      "outputs": []
    },
    {
      "cell_type": "markdown",
      "metadata": {},
      "source": [
        "Next, consider the case of perturbing multiple elements:\n"
      ],
      "id": "2dd066da"
    },
    {
      "cell_type": "code",
      "metadata": {},
      "source": [
        "#| output: true\n",
        "x[2] = 1.1\n",
        "x[3] = -1.2\n",
        "x"
      ],
      "id": "c938d97a",
      "execution_count": null,
      "outputs": []
    },
    {
      "cell_type": "markdown",
      "metadata": {},
      "source": [
        "The reconstructed one-hot-encoded vector will look like this: \n"
      ],
      "id": "b6ec08a4"
    },
    {
      "cell_type": "code",
      "metadata": {},
      "source": [
        "#| output: true\n",
        "reconstruct_cat_encoding(x)"
      ],
      "id": "fe2dc0b4",
      "execution_count": null,
      "outputs": []
    },
    {
      "cell_type": "markdown",
      "metadata": {},
      "source": [
        "Finally, let's introduce a tie:\n"
      ],
      "id": "989f28e7"
    },
    {
      "cell_type": "code",
      "metadata": {},
      "source": [
        "#| output: true\n",
        "x[1] = 1.0\n",
        "x"
      ],
      "id": "c3014ce6",
      "execution_count": null,
      "outputs": []
    },
    {
      "cell_type": "markdown",
      "metadata": {},
      "source": [
        "The reconstructed one-hot-encoded vector will look like this: \n"
      ],
      "id": "fc6d7fbe"
    },
    {
      "cell_type": "code",
      "metadata": {},
      "source": [
        "#| output: true\n",
        "reconstruct_cat_encoding(x)"
      ],
      "id": "efaf6e3a",
      "execution_count": null,
      "outputs": []
    }
  ],
  "metadata": {
    "kernelspec": {
      "name": "julia-1.9",
      "language": "julia",
      "display_name": "Julia 1.9.0"
    }
  },
  "nbformat": 4,
  "nbformat_minor": 5
}