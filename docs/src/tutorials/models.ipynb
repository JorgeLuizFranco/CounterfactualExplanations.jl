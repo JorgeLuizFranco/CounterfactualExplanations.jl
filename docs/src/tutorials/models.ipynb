{
 "cells": [
  {
   "cell_type": "markdown",
   "metadata": {},
   "source": [
    "```@meta\n",
    "CurrentModule = AlgorithmicRecourse \n",
    "```"
   ]
  },
  {
   "cell_type": "markdown",
   "metadata": {},
   "source": [
    "# Models"
   ]
  },
  {
   "cell_type": "markdown",
   "metadata": {},
   "source": [
    "## Custom models\n",
    "\n",
    "Instead of ..."
   ]
  },
  {
   "cell_type": "markdown",
   "metadata": {},
   "source": [
    "### Neural network"
   ]
  },
  {
   "cell_type": "code",
   "execution_count": 1,
   "metadata": {},
   "outputs": [
    {
     "name": "stderr",
     "output_type": "stream",
     "text": [
      "\u001b[91m\u001b[1mERROR: \u001b[22m\u001b[39m"
     ]
    },
    {
     "name": "stderr",
     "output_type": "stream",
     "text": [
      "LoadError: LoadError: InitError: "
     ]
    },
    {
     "name": "stderr",
     "output_type": "stream",
     "text": [
      "Artifact \"CompilerSupportLibraries\" was not installed correctly. Try `using Pkg; Pkg.instantiate()` to re-install all missing resources.\n",
      "Stacktrace:\n",
      "  [1] "
     ]
    },
    {
     "name": "stderr",
     "output_type": "stream",
     "text": [
      "\u001b[0m\u001b[1merror\u001b[22m\u001b[0m\u001b[1m(\u001b[22m\u001b[90ms\u001b[39m::\u001b[0mString\u001b[0m\u001b[1m)\u001b[22m\n",
      "\u001b[90m    @ \u001b[39m"
     ]
    },
    {
     "name": "stderr",
     "output_type": "stream",
     "text": [
      "\u001b[90mBase\u001b[39m \u001b[90m./\u001b[39m\u001b[90;4merror.jl:33\u001b[0m\n",
      "  [2] \u001b[0m\u001b[1m_artifact_str\u001b[22m\u001b[0m\u001b[1m(\u001b[22m\u001b[90m__module__\u001b[39m::\u001b[0mModule, \u001b[90martifacts_toml\u001b[39m::\u001b[0mString, \u001b[90mname\u001b[39m::\u001b[0mSubString\u001b[90m{String}\u001b[39m, \u001b[90mpath_tail\u001b[39m::\u001b[0mString, \u001b[90martifact_dict\u001b[39m::\u001b[0mDict\u001b[90m{String, Any}\u001b[39m, \u001b[90mhash\u001b[39m::\u001b[0mBase.SHA1, \u001b[90mplatform\u001b[39m::\u001b[0mBase.BinaryPlatforms.Platform, \u001b[90mlazyartifacts\u001b[39m::\u001b[0mAny\u001b[0m\u001b[1m)\u001b[22m\n",
      "\u001b[90m    @ \u001b[39m\u001b[35mArtifacts\u001b[39m \u001b[90m/Users/julia/buildbot/worker/package_macos64/build/usr/share/julia/stdlib/v1.6/Artifacts/src/\u001b[39m\u001b[90;4mArtifacts.jl:551\u001b[0m\n",
      "  [3] \u001b[0m\u001b[1minvokelatest\u001b[22m\u001b[0m\u001b[1m(\u001b[22m::\u001b[0mAny, ::\u001b[0mAny, ::\u001b[0mVararg\u001b[90m{Any, N} where N\u001b[39m; \u001b[90mkwargs\u001b[39m::\u001b[0mBase.Iterators.Pairs\u001b[90m{Union{}, Union{}, Tuple{}, NamedTuple{(), Tuple{}}}\u001b[39m\u001b[0m\u001b[1m)\u001b[22m\n",
      "\u001b[90m    @ \u001b[39m\u001b[90mBase\u001b[39m \u001b[90m./\u001b[39m\u001b[90;4messentials.jl:708\u001b[0m\n",
      "  [4] \u001b[0m\u001b[1minvokelatest\u001b[22m\u001b[0m\u001b[1m(\u001b[22m::\u001b[0mAny, ::\u001b[0mAny, ::\u001b[0mVararg\u001b[90m{Any, N} where N\u001b[39m\u001b[0m\u001b[1m)\u001b[22m\n",
      "\u001b[90m    @ \u001b[39m\u001b[90mBase\u001b[39m \u001b[90m./\u001b[39m\u001b[90;4messentials.jl:706\u001b[0m\n",
      "  [5] \u001b[0m\u001b[1mmacro expansion\u001b[22m\n",
      "\u001b[90m    @ \u001b[39m\u001b[90m/Users/julia/buildbot/worker/package_macos64/build/usr/share/julia/stdlib/v1.6/Artifacts/src/\u001b[39m\u001b[90;4mArtifacts.jl:680\u001b[0m\u001b[90m [inlined]\u001b[39m\n",
      "  [6] \u001b[0m\u001b[1mfind_artifact_dir\u001b[22m\u001b[0m\u001b[1m(\u001b[22m\u001b[0m\u001b[1m)\u001b[22m\n",
      "\u001b[90m    @ \u001b[39m\u001b[36mCompilerSupportLibraries_jll\u001b[39m \u001b[90m~/.julia/packages/JLLWrappers/bkwIo/src/\u001b[39m\u001b[90;4mwrapper_generators.jl:15\u001b[0m\n",
      "  [7] \u001b[0m\u001b[1m__init__\u001b[22m\u001b[0m\u001b[1m(\u001b[22m\u001b[0m\u001b[1m)\u001b[22m\n",
      "\u001b[90m    @ \u001b[39m\u001b[36mCompilerSupportLibraries_jll\u001b[39m \u001b[90m~/.julia/packages/CompilerSupportLibraries_jll/790hI/src/wrappers/\u001b[39m\u001b[90;4mx86_64-apple-darwin-libgfortran4.jl:11\u001b[0m\n",
      "  [8] \u001b[0m\u001b[1m_include_from_serialized\u001b[22m\u001b[0m\u001b[1m(\u001b[22m\u001b[90mpath\u001b[39m::\u001b[0mString, \u001b[90mdepmods\u001b[39m::\u001b[0mVector\u001b[90m{Any}\u001b[39m\u001b[0m\u001b[1m)\u001b[22m\n",
      "\u001b[90m    @ \u001b[39m\u001b[90mBase\u001b[39m \u001b[90m./\u001b[39m\u001b[90;4mloading.jl:696\u001b[0m\n",
      "  [9] \u001b[0m\u001b[1m_require_search_from_serialized\u001b[22m\u001b[0m\u001b[1m(\u001b[22m\u001b[90mpkg\u001b[39m::\u001b[0mBase.PkgId, \u001b[90msourcepath\u001b[39m::\u001b[0mString\u001b[0m\u001b[1m)\u001b[22m\n",
      "\u001b[90m    @ \u001b[39m\u001b[90mBase\u001b[39m \u001b[90m./\u001b[39m\u001b[90;4mloading.jl:782\u001b[0m\n",
      " [10] \u001b[0m\u001b[1m_require\u001b[22m\u001b[0m\u001b[1m(\u001b[22m\u001b[90mpkg\u001b[39m::\u001b[0mBase.PkgId\u001b[0m\u001b[1m)\u001b[22m\n",
      "\u001b[90m    @ \u001b[39m\u001b[90mBase\u001b[39m \u001b[90m./\u001b[39m\u001b[90;4mloading.jl:1020\u001b[0m\n",
      " [11] \u001b[0m\u001b[1mrequire\u001b[22m\u001b[0m\u001b[1m(\u001b[22m\u001b[90muuidkey\u001b[39m::\u001b[0mBase.PkgId\u001b[0m\u001b[1m)\u001b[22m\n",
      "\u001b[90m    @ \u001b[39m\u001b[90mBase\u001b[39m \u001b[90m./\u001b[39m\u001b[90;4mloading.jl:936\u001b[0m\n",
      " [12] \u001b[0m\u001b[1mrequire\u001b[22m\u001b[0m\u001b[1m(\u001b[22m\u001b[90minto\u001b[39m::\u001b[0mModule, \u001b[90mmod\u001b[39m::\u001b[0mSymbol\u001b[0m\u001b[1m)\u001b[22m\n",
      "\u001b[90m    @ \u001b[39m\u001b[90mBase\u001b[39m \u001b[90m./\u001b[39m\u001b[90;4mloading.jl:923\u001b[0m\n",
      " [13] \u001b[0m\u001b[1minclude\u001b[22m\u001b[0m\u001b[1m(\u001b[22m\u001b[90mmod\u001b[39m::\u001b[0mModule, \u001b[90m_path\u001b[39m::\u001b[0mString\u001b[0m\u001b[1m)\u001b[22m\n",
      "\u001b[90m    @ \u001b[39m\u001b[90mBase\u001b[39m \u001b[90m./\u001b[39m\u001b[90;4mBase.jl:384\u001b[0m\n",
      " [14] top-level scope\n",
      "\u001b[90m    @ \u001b[39m\u001b[90m~/.julia/packages/JLLWrappers/bkwIo/src/\u001b[39m\u001b[90;4mtoplevel_generators.jl:170\u001b[0m\n",
      " [15] \u001b[0m\u001b[1minclude\u001b[22m\n",
      "\u001b[90m    @ \u001b[39m\u001b[90m./\u001b[39m\u001b[90;4mBase.jl:384\u001b[0m\u001b[90m [inlined]\u001b[39m\n",
      " [16] \u001b[0m\u001b[1minclude_package_for_output\u001b[22m\u001b[0m\u001b[1m(\u001b[22m\u001b[90mpkg\u001b[39m::\u001b[0mBase.PkgId, \u001b[90minput\u001b[39m::\u001b[0mString, \u001b[90mdepot_path\u001b[39m::\u001b[0mVector\u001b[90m{String}\u001b[39m, \u001b[90mdl_load_path\u001b[39m::\u001b[0mVector\u001b[90m{String}\u001b[39m, \u001b[90mload_path\u001b[39m::\u001b[0mVector\u001b[90m{String}\u001b[39m, \u001b[90mconcrete_deps\u001b[39m::\u001b[0mVector\u001b[90m{Pair{Base.PkgId, UInt64}}\u001b[39m, \u001b[90msource\u001b[39m::\u001b[0mString\u001b[0m\u001b[1m)\u001b[22m\n",
      "\u001b[90m    @ \u001b[39m\u001b[90mBase\u001b[39m \u001b[90m./\u001b[39m\u001b[90;4mloading.jl:1235\u001b[0m\n",
      " [17] top-level scope\n",
      "\u001b[90m    @ \u001b[39m\u001b[90;4mnone:1\u001b[0m\n",
      " [18] \u001b[0m\u001b[1meval\u001b[22m\n",
      "\u001b[90m    @ \u001b[39m\u001b[90m./\u001b[39m\u001b[90;4mboot.jl:360\u001b[0m\u001b[90m [inlined]\u001b[39m\n",
      " [19] \u001b[0m\u001b[1meval\u001b[22m\u001b[0m\u001b[1m(\u001b[22m\u001b[90mx\u001b[39m::\u001b[0mExpr\u001b[0m\u001b[1m)\u001b[22m\n",
      "\u001b[90m    @ \u001b[39m\u001b[90mBase.MainInclude\u001b[39m \u001b[90m./\u001b[39m\u001b[90;4mclient.jl:446\u001b[0m\n",
      " [20] top-level scope\n",
      "\u001b[90m    @ \u001b[39m\u001b[90;4mnone:1\u001b[0m\n",
      "during initialization of module CompilerSupportLibraries_jll\n",
      "in expression starting at /Users/patrickaltmeyer/.julia/packages/OpenSpecFun_jll/Xw8XK/src/wrappers/x86_64-apple-darwin-libgfortran4.jl:4\n",
      "in expression starting at /Users/patrickaltmeyer/.julia/packages/OpenSpecFun_jll/Xw8XK/src/OpenSpecFun_jll.jl:2\n"
     ]
    },
    {
     "name": "stderr",
     "output_type": "stream",
     "text": [
      "\u001b[91m\u001b[1mERROR: \u001b[22m\u001b[39mLoadError: "
     ]
    },
    {
     "name": "stderr",
     "output_type": "stream",
     "text": [
      "Failed to precompile OpenSpecFun_jll [efe28fd5-8261-553b-a9e1-b2916fc3738e] to /Users/patrickaltmeyer/.julia/compiled/v1.6/OpenSpecFun_jll/jl_1C6dQF.\n",
      "Stacktrace:\n",
      "  [1] "
     ]
    },
    {
     "name": "stderr",
     "output_type": "stream",
     "text": [
      "\u001b[0m\u001b[1merror\u001b[22m\u001b[0m\u001b[1m(\u001b[22m\u001b[90ms\u001b[39m::\u001b[0mString\u001b[0m\u001b[1m)\u001b[22m\n",
      "\u001b[90m    @ \u001b[39m\u001b[90mBase\u001b[39m \u001b[90m./\u001b[39m\u001b[90;4merror.jl:33\u001b[0m\n",
      "  [2] \u001b[0m\u001b[1mcompilecache\u001b[22m\u001b[0m\u001b[1m(\u001b[22m\u001b[90mpkg\u001b[39m::\u001b[0mBase.PkgId, \u001b[90mpath\u001b[39m::\u001b[0mString, \u001b[90minternal_stderr\u001b[39m::\u001b[0mIOContext\u001b[90m{Base.PipeEndpoint}\u001b[39m, \u001b[90minternal_stdout\u001b[39m::\u001b[0mIOContext\u001b[90m{Base.PipeEndpoint}\u001b[39m, \u001b[90mignore_loaded_modules\u001b[39m::\u001b[0mBool\u001b[0m\u001b[1m)\u001b[22m\n",
      "\u001b[90m    @ \u001b[39m\u001b[90mBase\u001b[39m \u001b[90m./\u001b[39m\u001b[90;4mloading.jl:1385\u001b[0m\n",
      "  [3] \u001b[0m\u001b[1mcompilecache\u001b[22m\u001b[0m\u001b[1m(\u001b[22m\u001b[90mpkg\u001b[39m::\u001b[0mBase.PkgId, \u001b[90mpath\u001b[39m::\u001b[0mString\u001b[0m\u001b[1m)\u001b[22m\n",
      "\u001b[90m    @ \u001b[39m\u001b[90mBase\u001b[39m \u001b[90m./\u001b[39m\u001b[90;4mloading.jl:1329\u001b[0m\n",
      "  [4] \u001b[0m\u001b[1m_require\u001b[22m\u001b[0m\u001b[1m(\u001b[22m\u001b[90mpkg\u001b[39m::\u001b[0mBase.PkgId\u001b[0m\u001b[1m)\u001b[22m\n",
      "\u001b[90m    @ \u001b[39m\u001b[90mBase\u001b[39m \u001b[90m./\u001b[39m\u001b[90;4mloading.jl:1043\u001b[0m\n",
      "  [5] \u001b[0m\u001b[1mrequire\u001b[22m\u001b[0m\u001b[1m(\u001b[22m\u001b[90muuidkey\u001b[39m::\u001b[0mBase.PkgId\u001b[0m\u001b[1m)\u001b[22m\n",
      "\u001b[90m    @ \u001b[39m\u001b[90mBase\u001b[39m \u001b[90m./\u001b[39m\u001b[90;4mloading.jl:936\u001b[0m\n",
      "  [6] \u001b[0m\u001b[1mrequire\u001b[22m\u001b[0m\u001b[1m(\u001b[22m\u001b[90minto\u001b[39m::\u001b[0mModule, \u001b[90mmod\u001b[39m::\u001b[0mSymbol\u001b[0m\u001b[1m)\u001b[22m\n",
      "\u001b[90m    @ \u001b[39m\u001b[90mBase\u001b[39m \u001b[90m./\u001b[39m\u001b[90;4mloading.jl:923\u001b[0m\n",
      "  [7] "
     ]
    },
    {
     "name": "stderr",
     "output_type": "stream",
     "text": [
      "\u001b[0m\u001b[1minclude\u001b[22m\n",
      "\u001b[90m    @ \u001b[39m\u001b[90m./\u001b[39m\u001b[90;4mBase.jl:384\u001b[0m\u001b[90m [inlined]\u001b[39m\n",
      "  [8] \u001b[0m\u001b[1minclude_package_for_output\u001b[22m\u001b[0m\u001b[1m(\u001b[22m\u001b[90mpkg\u001b[39m::\u001b[0mBase.PkgId, \u001b[90minput\u001b[39m::\u001b[0mString, \u001b[90mdepot_path\u001b[39m::\u001b[0mVector\u001b[90m{String}\u001b[39m, \u001b[90mdl_load_path\u001b[39m::\u001b[0mVector\u001b[90m{String}\u001b[39m, \u001b[90mload_path\u001b[39m::\u001b[0mVector\u001b[90m{String}\u001b[39m, \u001b[90mconcrete_deps\u001b[39m::\u001b[0mVector\u001b[90m{Pair{Base.PkgId, UInt64}}\u001b[39m, \u001b[90msource\u001b[39m::\u001b[0mString\u001b[0m\u001b[1m)\u001b[22m\n",
      "\u001b[90m    @ \u001b[39m\u001b[90mBase\u001b[39m \u001b[90m./\u001b[39m\u001b[90;4mloading.jl:1235\u001b[0m\n",
      "  [9] top-level scope\n",
      "\u001b[90m    @ \u001b[39m\u001b[90;4mnone:1\u001b[0m\n",
      " [10] \u001b[0m\u001b[1meval\u001b[22m\n",
      "\u001b[90m    @ \u001b[39m\u001b[90m./\u001b[39m\u001b[90;4mboot.jl:360\u001b[0m\u001b[90m [inlined]\u001b[39m\n",
      " [11] \u001b[0m\u001b[1meval\u001b[22m\u001b[0m\u001b[1m(\u001b[22m\u001b[90mx\u001b[39m::\u001b[0mExpr\u001b[0m\u001b[1m)\u001b[22m\n",
      "\u001b[90m    @ \u001b[39m\u001b[90mBase.MainInclude\u001b[39m \u001b[90m./\u001b[39m\u001b[90;4mclient.jl:446\u001b[0m\n",
      " [12] top-level scope\n",
      "\u001b[90m    @ \u001b[39m\u001b[90;4mnone:1\u001b[0m\n",
      "in expression starting at /Users/patrickaltmeyer/.julia/packages/SpecialFunctions/NBIqR/src/SpecialFunctions.jl:1\n"
     ]
    },
    {
     "name": "stderr",
     "output_type": "stream",
     "text": [
      "\u001b[91m\u001b[1mERROR: \u001b[22m\u001b[39m"
     ]
    },
    {
     "name": "stderr",
     "output_type": "stream",
     "text": [
      "LoadError: LoadError: LoadError: "
     ]
    },
    {
     "name": "stderr",
     "output_type": "stream",
     "text": [
      "Failed to precompile SpecialFunctions [276daf66-3868-5448-9aa4-cd146d93841b] to /Users/patrickaltmeyer/.julia/compiled/v1.6/SpecialFunctions/jl_hKyJVJ.\n",
      "Stacktrace:\n",
      "  [1] \u001b[0m\u001b[1merror\u001b[22m\u001b[0m\u001b[1m(\u001b[22m\u001b[90ms\u001b[39m::"
     ]
    },
    {
     "name": "stderr",
     "output_type": "stream",
     "text": [
      "\u001b[0mString\u001b[0m\u001b[1m)\u001b[22m\n",
      "\u001b[90m    @ \u001b[39m\u001b[90mBase\u001b[39m \u001b[90m./\u001b[39m\u001b[90;4merror.jl:33\u001b[0m\n",
      "  [2] \u001b[0m\u001b[1mcompilecache\u001b[22m\u001b[0m\u001b[1m(\u001b[22m\u001b[90mpkg\u001b[39m::\u001b[0mBase.PkgId, \u001b[90mpath\u001b[39m::\u001b[0mString, \u001b[90minternal_stderr\u001b[39m::\u001b[0mIOContext\u001b[90m{Base.PipeEndpoint}\u001b[39m, \u001b[90minternal_stdout\u001b[39m::\u001b[0mIOContext\u001b[90m{Base.PipeEndpoint}\u001b[39m, \u001b[90mignore_loaded_modules\u001b[39m::\u001b[0mBool\u001b[0m\u001b[1m)\u001b[22m\n",
      "\u001b[90m    @ \u001b[39m\u001b[90mBase\u001b[39m \u001b[90m./\u001b[39m\u001b[90;4mloading.jl:1385\u001b[0m\n",
      "  [3] \u001b[0m\u001b[1mcompilecache\u001b[22m\u001b[0m\u001b[1m(\u001b[22m\u001b[90mpkg\u001b[39m::\u001b[0mBase.PkgId, \u001b[90mpath\u001b[39m::\u001b[0mString\u001b[0m\u001b[1m)\u001b[22m\n",
      "\u001b[90m    @ \u001b[39m\u001b[90mBase\u001b[39m \u001b[90m./\u001b[39m\u001b[90;4mloading.jl:1329\u001b[0m\n",
      "  [4] \u001b[0m\u001b[1m_require\u001b[22m\u001b[0m\u001b[1m(\u001b[22m\u001b[90mpkg\u001b[39m::\u001b[0mBase.PkgId\u001b[0m\u001b[1m)\u001b[22m\n",
      "\u001b[90m    @ \u001b[39m\u001b[90mBase\u001b[39m \u001b[90m./\u001b[39m\u001b[90;4mloading.jl:1043\u001b[0m\n",
      "  [5] \u001b[0m\u001b[1mrequire\u001b[22m\u001b[0m\u001b[1m(\u001b[22m\u001b[90muuidkey\u001b[39m::\u001b[0mBase.PkgId\u001b[0m\u001b[1m)\u001b[22m\n",
      "\u001b[90m    @ \u001b[39m\u001b[90mBase\u001b[39m \u001b[90m./\u001b[39m\u001b[90;4mloading.jl:936\u001b[0m\n",
      "  [6] \u001b[0m\u001b[1mrequire\u001b[22m\u001b[0m\u001b[1m(\u001b[22m\u001b[90minto\u001b[39m::\u001b[0mModule, \u001b[90mmod\u001b[39m::\u001b[0mSymbol\u001b[0m\u001b[1m)\u001b[22m\n",
      "\u001b[90m    @ \u001b[39m\u001b[90mBase\u001b[39m \u001b[90m./\u001b[39m\u001b[90;4mloading.jl:923\u001b[0m\n",
      "  [7] \u001b[0m\u001b[1minclude\u001b[22m\u001b[0m\u001b[1m(\u001b[22m\u001b[90mmod\u001b[39m::\u001b[0mModule, \u001b[90m_path\u001b[39m::\u001b[0mString\u001b[0m\u001b[1m)\u001b[22m\n",
      "\u001b[90m    @ \u001b[39m\u001b[90mBase\u001b[39m \u001b[90m./\u001b[39m\u001b[90;4mBase.jl:384\u001b[0m\n",
      "  [8] \u001b[0m\u001b[1minclude\u001b[22m\u001b[0m\u001b[1m(\u001b[22m\u001b[90mx\u001b[39m::\u001b[0mString\u001b[0m\u001b[1m)\u001b[22m\n",
      "\u001b[90m    @ \u001b[39m\u001b[35mZygote.Forward\u001b[39m \u001b[90m~/.julia/packages/Zygote/zowrf/src/forward/\u001b[39m\u001b[90;4mForward.jl:1\u001b[0m\n",
      "  [9] top-level scope\n",
      "\u001b[90m    @ \u001b[39m\u001b[90m~/.julia/packages/Zygote/zowrf/src/forward/\u001b[39m\u001b[90;4mForward.jl:11\u001b[0m\n",
      " [10] \u001b[0m\u001b[1minclude\u001b[22m\u001b[0m\u001b[1m(\u001b[22m\u001b[90mmod\u001b[39m::\u001b[0mModule, \u001b[90m_path\u001b[39m::\u001b[0mString\u001b[0m\u001b[1m)\u001b[22m\n",
      "\u001b[90m    @ \u001b[39m\u001b[90mBase\u001b[39m \u001b[90m./\u001b[39m\u001b[90;4mBase.jl:384\u001b[0m\n",
      " [11] \u001b[0m\u001b[1minclude\u001b[22m\u001b[0m\u001b[1m(\u001b[22m\u001b[90mx\u001b[39m::\u001b[0mString\u001b[0m\u001b[1m)\u001b[22m\n",
      "\u001b[90m    @ \u001b[39m\u001b[35mZygote\u001b[39m \u001b[90m~/.julia/packages/Zygote/zowrf/src/\u001b[39m\u001b[90;4mZygote.jl:1\u001b[0m\n",
      " [12] top-level scope\n",
      "\u001b[90m    @ \u001b[39m\u001b[90m~/.julia/packages/Zygote/zowrf/src/\u001b[39m\u001b[90;4mZygote.jl:23\u001b[0m\n",
      " [13] \u001b[0m\u001b[1minclude\u001b[22m\n",
      "\u001b[90m    @ \u001b[39m\u001b[90m./\u001b[39m\u001b[90;4mBase.jl:384\u001b[0m\u001b[90m [inlined]\u001b[39m\n",
      " [14] \u001b[0m\u001b[1minclude_package_for_output\u001b[22m\u001b[0m\u001b[1m(\u001b[22m\u001b[90mpkg\u001b[39m::\u001b[0mBase.PkgId, \u001b[90minput\u001b[39m::\u001b[0mString, \u001b[90mdepot_path\u001b[39m::\u001b[0mVector\u001b[90m{String}\u001b[39m, \u001b[90mdl_load_path\u001b[39m::\u001b[0mVector\u001b[90m{String}\u001b[39m, \u001b[90mload_path\u001b[39m::\u001b[0mVector\u001b[90m{String}\u001b[39m, \u001b[90mconcrete_deps\u001b[39m::\u001b[0mVector\u001b[90m{Pair{Base.PkgId, UInt64}}\u001b[39m, \u001b[90msource\u001b[39m::\u001b[0mString\u001b[0m\u001b[1m)\u001b[22m\n",
      "\u001b[90m    @ \u001b[39m\u001b[90mBase\u001b[39m \u001b[90m./\u001b[39m\u001b[90;4mloading.jl:1235\u001b[0m\n",
      " [15] top-level scope\n",
      "\u001b[90m    @ \u001b[39m\u001b[90;4mnone:1\u001b[0m\n",
      " [16] \u001b[0m\u001b[1meval\u001b[22m\n",
      "\u001b[90m    @ \u001b[39m\u001b[90m./\u001b[39m\u001b[90;4mboot.jl:360\u001b[0m\u001b[90m [inlined]\u001b[39m\n",
      " [17] \u001b[0m\u001b[1meval\u001b[22m\u001b[0m\u001b[1m(\u001b[22m\u001b[90mx\u001b[39m::\u001b[0mExpr\u001b[0m\u001b[1m)\u001b[22m\n",
      "\u001b[90m    @ \u001b[39m\u001b[90mBase.MainInclude\u001b[39m \u001b[90m./\u001b[39m\u001b[90;4mclient.jl:446\u001b[0m\n",
      " [18] top-level scope\n",
      "\u001b[90m    @ \u001b[39m\u001b[90;4mnone:1\u001b[0m\n",
      "in expression starting at /Users/patrickaltmeyer/.julia/packages/Zygote/zowrf/src/forward/number.jl:1\n",
      "in expression starting at /Users/patrickaltmeyer/.julia/packages/Zygote/zowrf/src/forward/Forward.jl:1\n",
      "in expression starting at /Users/patrickaltmeyer/.julia/packages/Zygote/zowrf/src/Zygote.jl:1\n"
     ]
    },
    {
     "name": "stderr",
     "output_type": "stream",
     "text": [
      "\u001b[91m\u001b[1mERROR: \u001b[22m\u001b[39m"
     ]
    },
    {
     "name": "stderr",
     "output_type": "stream",
     "text": [
      "LoadError: "
     ]
    },
    {
     "name": "stderr",
     "output_type": "stream",
     "text": [
      "Failed to precompile Zygote [e88e6eb3-aa80-5325-afca-941959d7151f] to /Users/patrickaltmeyer/.julia/compiled/v1.6/Zygote/jl_usGc4T.\n",
      "Stacktrace:\n",
      "  [1] \u001b[0m\u001b[1merror\u001b[22m\u001b[0m\u001b[1m(\u001b[22m"
     ]
    },
    {
     "ename": "ErrorException",
     "evalue": "Failed to precompile Flux [587475ba-b771-5e3f-ad9e-33799f191a9c] to /Users/patrickaltmeyer/.julia/compiled/v1.6/Flux/jl_NY2xJW.",
     "output_type": "error",
     "traceback": [
      "Failed to precompile Flux [587475ba-b771-5e3f-ad9e-33799f191a9c] to /Users/patrickaltmeyer/.julia/compiled/v1.6/Flux/jl_NY2xJW.\n",
      "\n",
      "Stacktrace:\n",
      "  [1] error(s::String)\n",
      "    @ Base ./error.jl:33\n",
      "  [2] compilecache(pkg::Base.PkgId, path::String, internal_stderr::VSCodeServer.IJuliaCore.IJuliaStdio{Base.PipeEndpoint, typeof(VSCodeServer.io_send_callback)}, internal_stdout::VSCodeServer.IJuliaCore.IJuliaStdio{Base.PipeEndpoint, typeof(VSCodeServer.io_send_callback)}, ignore_loaded_modules::Bool)\n",
      "    @ Base ./loading.jl:1385\n",
      "  [3] compilecache(pkg::Base.PkgId, path::String)\n",
      "    @ Base ./loading.jl:1329\n",
      "  [4] _require(pkg::Base.PkgId)\n",
      "    @ Base ./loading.jl:1043\n",
      "  [5] require(uuidkey::Base.PkgId)\n",
      "    @ Base ./loading.jl:936\n",
      "  [6] require(into::Module, mod::Symbol)\n",
      "    @ Base ./loading.jl:923\n",
      "  [7] eval\n",
      "    @ ./boot.jl:360 [inlined]\n",
      "  [8] include_string(mapexpr::typeof(REPL.softscope), mod::Module, code::String, filename::String)\n",
      "    @ Base ./loading.jl:1116\n",
      "  [9] #invokelatest#2\n",
      "    @ ./essentials.jl:708 [inlined]\n",
      " [10] invokelatest\n",
      "    @ ./essentials.jl:706 [inlined]\n",
      " [11] (::VSCodeServer.var\"#146#147\"{VSCodeServer.NotebookRunCellArguments, String})()\n",
      "    @ VSCodeServer ~/.vscode/extensions/julialang.language-julia-1.5.10/scripts/packages/VSCodeServer/src/serve_notebook.jl:18\n",
      " [12] withpath(f::VSCodeServer.var\"#146#147\"{VSCodeServer.NotebookRunCellArguments, String}, path::String)\n",
      "    @ VSCodeServer ~/.vscode/extensions/julialang.language-julia-1.5.10/scripts/packages/VSCodeServer/src/repl.jl:185\n",
      " [13] notebook_runcell_request(conn::VSCodeServer.JSONRPC.JSONRPCEndpoint{Base.PipeEndpoint, Base.PipeEndpoint}, params::VSCodeServer.NotebookRunCellArguments)\n",
      "    @ VSCodeServer ~/.vscode/extensions/julialang.language-julia-1.5.10/scripts/packages/VSCodeServer/src/serve_notebook.jl:14\n",
      " [14] dispatch_msg(x::VSCodeServer.JSONRPC.JSONRPCEndpoint{Base.PipeEndpoint, Base.PipeEndpoint}, dispatcher::VSCodeServer.JSONRPC.MsgDispatcher, msg::Dict{String, Any})\n",
      "    @ VSCodeServer.JSONRPC ~/.vscode/extensions/julialang.language-julia-1.5.10/scripts/packages/JSONRPC/src/typed.jl:67\n",
      " [15] serve_notebook(pipename::String; crashreporting_pipename::String)\n",
      "    @ VSCodeServer ~/.vscode/extensions/julialang.language-julia-1.5.10/scripts/packages/VSCodeServer/src/serve_notebook.jl:94\n",
      " [16] top-level scope\n",
      "    @ ~/.vscode/extensions/julialang.language-julia-1.5.10/scripts/notebook/notebook.jl:12\n",
      " [17] include(mod::Module, _path::String)\n",
      "    @ Base ./Base.jl:384\n",
      " [18] exec_options(opts::Base.JLOptions)\n",
      "    @ Base ./client.jl:285\n",
      " [19] _start()\n",
      "    @ Base ./client.jl:485"
     ]
    }
   ],
   "source": [
    "# Import libraries.\n",
    "using Flux, Plots, Random, PlotThemes\n",
    "theme(:juno)"
   ]
  },
  {
   "cell_type": "markdown",
   "metadata": {},
   "source": [
    "Generate some toy data ...."
   ]
  },
  {
   "cell_type": "code",
   "execution_count": 17,
   "metadata": {},
   "outputs": [
    {
     "data": {
      "image/png": "[encoded data removed]",
      "image/svg+xml": "<?xml version=\"1.0\" encoding=\"utf-8\"?>\n<svg xmlns=\"http://www.w3.org/2000/svg\" xmlns:xlink=\"http://www.w3.org/1999/xlink\" width=\"600\" height=\"400\" viewBox=\"0 0 2400 1600\">\n<defs>\n  <clipPath id=\"clip670\">\n    <rect x=\"0\" y=\"0\" width=\"2400\" height=\"1600\"/>\n  </clipPath>\n</defs>\n<path clip-path=\"url(#clip670)\" d=\"\nM0 1600 L2400 1600 L2400 0 L0 0  Z\n  \" fill=\"#282c34\" fill-rule=\"evenodd\" fill-opacity=\"1\"/>\n<defs>\n  <clipPath id=\"clip671\">\n    <rect x=\"480\" y=\"0\" width=\"1681\" height=\"1600\"/>\n  </clipPath>\n</defs>\n<path clip-path=\"url(#clip670)\" d=\"\nM149.191 1486.45 L2352.76 1486.45 L2352.76 47.2441 L149.191 47.2441  Z\n  \" fill=\"#21252b\" fill-rule=\"evenodd\" fill-opacity=\"1\"/>\n<defs>\n  <clipPath id=\"clip672\">\n    <rect x=\"149\" y=\"47\" width=\"2205\" height=\"1440\"/>\n  </clipPath>\n</defs>\n<polyline clip-path=\"url(#clip672)\" style=\"stroke:#adb2b7; stroke-linecap:butt; stroke-linejoin:round; stroke-width:2; stroke-opacity:0.1; fill:none\" points=\"\n  398.527,1486.45 398.527,47.2441 \n  \"/>\n<polyline clip-path=\"url(#clip672)\" style=\"stroke:#adb2b7; stroke-linecap:butt; stroke-linejoin:round; stroke-width:2; stroke-opacity:0.1; fill:none\" points=\"\n  828.233,1486.45 828.233,47.2441 \n  \"/>\n<polyline clip-path=\"url(#clip672)\" style=\"stroke:#adb2b7; stroke-linecap:butt; stroke-linejoin:round; stroke-width:2; stroke-opacity:0.1; fill:none\" points=\"\n  1257.94,1486.45 1257.94,47.2441 \n  \"/>\n<polyline clip-path=\"url(#clip672)\" style=\"stroke:#adb2b7; stroke-linecap:butt; stroke-linejoin:round; stroke-width:2; stroke-opacity:0.1; fill:none\" points=\"\n  1687.64,1486.45 1687.64,47.2441 \n  \"/>\n<polyline clip-path=\"url(#clip672)\" style=\"stroke:#adb2b7; stroke-linecap:butt; stroke-linejoin:round; stroke-width:2; stroke-opacity:0.1; fill:none\" points=\"\n  2117.35,1486.45 2117.35,47.2441 \n  \"/>\n<polyline clip-path=\"url(#clip670)\" style=\"stroke:#adb2b7; stroke-linecap:butt; stroke-linejoin:round; stroke-width:4; stroke-opacity:1; fill:none\" points=\"\n  149.191,1486.45 2352.76,1486.45 \n  \"/>\n<polyline clip-path=\"url(#clip670)\" style=\"stroke:#adb2b7; stroke-linecap:butt; stroke-linejoin:round; stroke-width:4; stroke-opacity:1; fill:none\" points=\"\n  398.527,1486.45 398.527,1467.55 \n  \"/>\n<polyline clip-path=\"url(#clip670)\" style=\"stroke:#adb2b7; stroke-linecap:butt; stroke-linejoin:round; stroke-width:4; stroke-opacity:1; fill:none\" points=\"\n  828.233,1486.45 828.233,1467.55 \n  \"/>\n<polyline clip-path=\"url(#clip670)\" style=\"stroke:#adb2b7; stroke-linecap:butt; stroke-linejoin:round; stroke-width:4; stroke-opacity:1; fill:none\" points=\"\n  1257.94,1486.45 1257.94,1467.55 \n  \"/>\n<polyline clip-path=\"url(#clip670)\" style=\"stroke:#adb2b7; stroke-linecap:butt; stroke-linejoin:round; stroke-width:4; stroke-opacity:1; fill:none\" points=\"\n  1687.64,1486.45 1687.64,1467.55 \n  \"/>\n<polyline clip-path=\"url(#clip670)\" style=\"stroke:#adb2b7; stroke-linecap:butt; stroke-linejoin:round; stroke-width:4; stroke-opacity:1; fill:none\" points=\"\n  2117.35,1486.45 2117.35,1467.55 \n  \"/>\n<path clip-path=\"url(#clip670)\" d=\"M367.427 1532.02 L397.103 1532.02 L397.103 1535.95 L367.427 1535.95 L367.427 1532.02 Z\" fill=\"#9eb1be\" fill-rule=\"evenodd\" fill-opacity=\"1\" /><path clip-path=\"url(#clip670)\" d=\"M420.043 1518.36 L408.237 1536.81 L420.043 1536.81 L420.043 1518.36 M418.816 1514.29 L424.695 1514.29 L424.695 1536.81 L429.626 1536.81 L429.626 1540.7 L424.695 1540.7 L424.695 1548.85 L420.043 1548.85 L420.043 1540.7 L404.441 1540.7 L404.441 1536.19 L418.816 1514.29 Z\" fill=\"#9eb1be\" fill-rule=\"evenodd\" fill-opacity=\"1\" /><path clip-path=\"url(#clip670)\" d=\"M798.175 1532.02 L827.851 1532.02 L827.851 1535.95 L798.175 1535.95 L798.175 1532.02 Z\" fill=\"#9eb1be\" fill-rule=\"evenodd\" fill-opacity=\"1\" /><path clip-path=\"url(#clip670)\" d=\"M841.971 1544.91 L858.29 1544.91 L858.29 1548.85 L836.346 1548.85 L836.346 1544.91 Q839.008 1542.16 843.591 1537.53 Q848.198 1532.88 849.378 1531.53 Q851.624 1529.01 852.503 1527.27 Q853.406 1525.51 853.406 1523.82 Q853.406 1521.07 851.462 1519.33 Q849.54 1517.6 846.438 1517.6 Q844.239 1517.6 841.786 1518.36 Q839.355 1519.13 836.577 1520.68 L836.577 1515.95 Q839.401 1514.82 841.855 1514.24 Q844.309 1513.66 846.346 1513.66 Q851.716 1513.66 854.911 1516.35 Q858.105 1519.03 858.105 1523.52 Q858.105 1525.65 857.295 1527.57 Q856.508 1529.47 854.401 1532.07 Q853.823 1532.74 850.721 1535.95 Q847.619 1539.15 841.971 1544.91 Z\" fill=\"#9eb1be\" fill-rule=\"evenodd\" fill-opacity=\"1\" /><path clip-path=\"url(#clip670)\" d=\"M1257.94 1517.37 Q1254.33 1517.37 1252.5 1520.93 Q1250.69 1524.47 1250.69 1531.6 Q1250.69 1538.71 1252.5 1542.27 Q1254.33 1545.82 1257.94 1545.82 Q1261.57 1545.82 1263.38 1542.27 Q1265.21 1538.71 1265.21 1531.6 Q1265.21 1524.47 1263.38 1520.93 Q1261.57 1517.37 1257.94 1517.37 M1257.94 1513.66 Q1263.75 1513.66 1266.8 1518.27 Q1269.88 1522.85 1269.88 1531.6 Q1269.88 1540.33 1266.8 1544.94 Q1263.75 1549.52 1257.94 1549.52 Q1252.13 1549.52 1249.05 1544.94 Q1245.99 1540.33 1245.99 1531.6 Q1245.99 1522.85 1249.05 1518.27 Q1252.13 1513.66 1257.94 1513.66 Z\" fill=\"#9eb1be\" fill-rule=\"evenodd\" fill-opacity=\"1\" /><path clip-path=\"url(#clip670)\" d=\"M1682.3 1544.91 L1698.62 1544.91 L1698.62 1548.85 L1676.67 1548.85 L1676.67 1544.91 Q1679.33 1542.16 1683.92 1537.53 Q1688.52 1532.88 1689.7 1531.53 Q1691.95 1529.01 1692.83 1527.27 Q1693.73 1525.51 1693.73 1523.82 Q1693.73 1521.07 1691.79 1519.33 Q1689.87 1517.6 1686.76 1517.6 Q1684.57 1517.6 1682.11 1518.36 Q1679.68 1519.13 1676.9 1520.68 L1676.9 1515.95 Q1679.73 1514.82 1682.18 1514.24 Q1684.64 1513.66 1686.67 1513.66 Q1692.04 1513.66 1695.24 1516.35 Q1698.43 1519.03 1698.43 1523.52 Q1698.43 1525.65 1697.62 1527.57 Q1696.83 1529.47 1694.73 1532.07 Q1694.15 1532.74 1691.05 1535.95 Q1687.95 1539.15 1682.3 1544.91 Z\" fill=\"#9eb1be\" fill-rule=\"evenodd\" fill-opacity=\"1\" /><path clip-path=\"url(#clip670)\" d=\"M2120.36 1518.36 L2108.55 1536.81 L2120.36 1536.81 L2120.36 1518.36 M2119.13 1514.29 L2125.01 1514.29 L2125.01 1536.81 L2129.94 1536.81 L2129.94 1540.7 L2125.01 1540.7 L2125.01 1548.85 L2120.36 1548.85 L2120.36 1540.7 L2104.76 1540.7 L2104.76 1536.19 L2119.13 1514.29 Z\" fill=\"#9eb1be\" fill-rule=\"evenodd\" fill-opacity=\"1\" /><polyline clip-path=\"url(#clip672)\" style=\"stroke:#adb2b7; stroke-linecap:butt; stroke-linejoin:round; stroke-width:2; stroke-opacity:0.1; fill:none\" points=\"\n  149.191,1316.99 2352.76,1316.99 \n  \"/>\n<polyline clip-path=\"url(#clip672)\" style=\"stroke:#adb2b7; stroke-linecap:butt; stroke-linejoin:round; stroke-width:2; stroke-opacity:0.1; fill:none\" points=\"\n  149.191,1043.05 2352.76,1043.05 \n  \"/>\n<polyline clip-path=\"url(#clip672)\" style=\"stroke:#adb2b7; stroke-linecap:butt; stroke-linejoin:round; stroke-width:2; stroke-opacity:0.1; fill:none\" points=\"\n  149.191,769.117 2352.76,769.117 \n  \"/>\n<polyline clip-path=\"url(#clip672)\" style=\"stroke:#adb2b7; stroke-linecap:butt; stroke-linejoin:round; stroke-width:2; stroke-opacity:0.1; fill:none\" points=\"\n  149.191,495.181 2352.76,495.181 \n  \"/>\n<polyline clip-path=\"url(#clip672)\" style=\"stroke:#adb2b7; stroke-linecap:butt; stroke-linejoin:round; stroke-width:2; stroke-opacity:0.1; fill:none\" points=\"\n  149.191,221.244 2352.76,221.244 \n  \"/>\n<polyline clip-path=\"url(#clip670)\" style=\"stroke:#adb2b7; stroke-linecap:butt; stroke-linejoin:round; stroke-width:4; stroke-opacity:1; fill:none\" points=\"\n  149.191,1486.45 149.191,47.2441 \n  \"/>\n<polyline clip-path=\"url(#clip670)\" style=\"stroke:#adb2b7; stroke-linecap:butt; stroke-linejoin:round; stroke-width:4; stroke-opacity:1; fill:none\" points=\"\n  149.191,1316.99 168.089,1316.99 \n  \"/>\n<polyline clip-path=\"url(#clip670)\" style=\"stroke:#adb2b7; stroke-linecap:butt; stroke-linejoin:round; stroke-width:4; stroke-opacity:1; fill:none\" points=\"\n  149.191,1043.05 168.089,1043.05 \n  \"/>\n<polyline clip-path=\"url(#clip670)\" style=\"stroke:#adb2b7; stroke-linecap:butt; stroke-linejoin:round; stroke-width:4; stroke-opacity:1; fill:none\" points=\"\n  149.191,769.117 168.089,769.117 \n  \"/>\n<polyline clip-path=\"url(#clip670)\" style=\"stroke:#adb2b7; stroke-linecap:butt; stroke-linejoin:round; stroke-width:4; stroke-opacity:1; fill:none\" points=\"\n  149.191,495.181 168.089,495.181 \n  \"/>\n<polyline clip-path=\"url(#clip670)\" style=\"stroke:#adb2b7; stroke-linecap:butt; stroke-linejoin:round; stroke-width:4; stroke-opacity:1; fill:none\" points=\"\n  149.191,221.244 168.089,221.244 \n  \"/>\n<path clip-path=\"url(#clip670)\" d=\"M50.9921 1317.44 L80.6679 1317.44 L80.6679 1321.38 L50.9921 1321.38 L50.9921 1317.44 Z\" fill=\"#9eb1be\" fill-rule=\"evenodd\" fill-opacity=\"1\" /><path clip-path=\"url(#clip670)\" d=\"M103.608 1303.78 L91.8021 1322.23 L103.608 1322.23 L103.608 1303.78 M102.381 1299.71 L108.26 1299.71 L108.26 1322.23 L113.191 1322.23 L113.191 1326.12 L108.26 1326.12 L108.26 1334.27 L103.608 1334.27 L103.608 1326.12 L88.0058 1326.12 L88.0058 1321.61 L102.381 1299.71 Z\" fill=\"#9eb1be\" fill-rule=\"evenodd\" fill-opacity=\"1\" /><path clip-path=\"url(#clip670)\" d=\"M53.0754 1043.5 L82.7512 1043.5 L82.7512 1047.44 L53.0754 1047.44 L53.0754 1043.5 Z\" fill=\"#9eb1be\" fill-rule=\"evenodd\" fill-opacity=\"1\" /><path clip-path=\"url(#clip670)\" d=\"M96.8715 1056.4 L113.191 1056.4 L113.191 1060.33 L91.2465 1060.33 L91.2465 1056.4 Q93.9086 1053.64 98.4919 1049.01 Q103.098 1044.36 104.279 1043.02 Q106.524 1040.5 107.404 1038.76 Q108.307 1037 108.307 1035.31 Q108.307 1032.56 106.362 1030.82 Q104.441 1029.08 101.339 1029.08 Q99.14 1029.08 96.6863 1029.85 Q94.2558 1030.61 91.478 1032.16 L91.478 1027.44 Q94.3021 1026.31 96.7558 1025.73 Q99.2095 1025.15 101.246 1025.15 Q106.617 1025.15 109.811 1027.83 Q113.006 1030.52 113.006 1035.01 Q113.006 1037.14 112.196 1039.06 Q111.408 1040.96 109.302 1043.55 Q108.723 1044.22 105.621 1047.44 Q102.52 1050.63 96.8715 1056.4 Z\" fill=\"#9eb1be\" fill-rule=\"evenodd\" fill-opacity=\"1\" /><path clip-path=\"url(#clip670)\" d=\"M101.246 754.916 Q97.6354 754.916 95.8067 758.481 Q94.0012 762.022 94.0012 769.152 Q94.0012 776.258 95.8067 779.823 Q97.6354 783.365 101.246 783.365 Q104.881 783.365 106.686 779.823 Q108.515 776.258 108.515 769.152 Q108.515 762.022 106.686 758.481 Q104.881 754.916 101.246 754.916 M101.246 751.212 Q107.057 751.212 110.112 755.818 Q113.191 760.402 113.191 769.152 Q113.191 777.879 110.112 782.485 Q107.057 787.068 101.246 787.068 Q95.4363 787.068 92.3576 782.485 Q89.3021 777.879 89.3021 769.152 Q89.3021 760.402 92.3576 755.818 Q95.4363 751.212 101.246 751.212 Z\" fill=\"#9eb1be\" fill-rule=\"evenodd\" fill-opacity=\"1\" /><path clip-path=\"url(#clip670)\" d=\"M96.8715 508.526 L113.191 508.526 L113.191 512.461 L91.2465 512.461 L91.2465 508.526 Q93.9086 505.771 98.4919 501.141 Q103.098 496.489 104.279 495.146 Q106.524 492.623 107.404 490.887 Q108.307 489.128 108.307 487.438 Q108.307 484.683 106.362 482.947 Q104.441 481.211 101.339 481.211 Q99.14 481.211 96.6863 481.975 Q94.2558 482.739 91.478 484.29 L91.478 479.567 Q94.3021 478.433 96.7558 477.854 Q99.2095 477.276 101.246 477.276 Q106.617 477.276 109.811 479.961 Q113.006 482.646 113.006 487.137 Q113.006 489.266 112.196 491.188 Q111.408 493.086 109.302 495.678 Q108.723 496.35 105.621 499.567 Q102.52 502.762 96.8715 508.526 Z\" fill=\"#9eb1be\" fill-rule=\"evenodd\" fill-opacity=\"1\" /><path clip-path=\"url(#clip670)\" d=\"M103.608 208.039 L91.8021 226.487 L103.608 226.487 L103.608 208.039 M102.381 203.964 L108.26 203.964 L108.26 226.487 L113.191 226.487 L113.191 230.376 L108.26 230.376 L108.26 238.524 L103.608 238.524 L103.608 230.376 L88.0058 230.376 L88.0058 225.862 L102.381 203.964 Z\" fill=\"#9eb1be\" fill-rule=\"evenodd\" fill-opacity=\"1\" /><circle clip-path=\"url(#clip672)\" cx=\"1936.62\" cy=\"114.787\" r=\"14\" fill=\"#0096ff\" fill-rule=\"evenodd\" fill-opacity=\"1\" stroke=\"#adb2b7\" stroke-opacity=\"1\" stroke-width=\"3.2\"/>\n<circle clip-path=\"url(#clip672)\" cx=\"2106.73\" cy=\"106.052\" r=\"14\" fill=\"#0096ff\" fill-rule=\"evenodd\" fill-opacity=\"1\" stroke=\"#adb2b7\" stroke-opacity=\"1\" stroke-width=\"3.2\"/>\n<circle clip-path=\"url(#clip672)\" cx=\"1912.83\" cy=\"117.698\" r=\"14\" fill=\"#0096ff\" fill-rule=\"evenodd\" fill-opacity=\"1\" stroke=\"#adb2b7\" stroke-opacity=\"1\" stroke-width=\"3.2\"/>\n<circle clip-path=\"url(#clip672)\" cx=\"1810.19\" cy=\"213.771\" r=\"14\" fill=\"#0096ff\" fill-rule=\"evenodd\" fill-opacity=\"1\" stroke=\"#adb2b7\" stroke-opacity=\"1\" stroke-width=\"3.2\"/>\n<circle clip-path=\"url(#clip672)\" cx=\"2133.06\" cy=\"194.505\" r=\"14\" fill=\"#0096ff\" fill-rule=\"evenodd\" fill-opacity=\"1\" stroke=\"#adb2b7\" stroke-opacity=\"1\" stroke-width=\"3.2\"/>\n<circle clip-path=\"url(#clip672)\" cx=\"2191.19\" cy=\"679.578\" r=\"14\" fill=\"#0096ff\" fill-rule=\"evenodd\" fill-opacity=\"1\" stroke=\"#adb2b7\" stroke-opacity=\"1\" stroke-width=\"3.2\"/>\n<circle clip-path=\"url(#clip672)\" cx=\"1559.3\" cy=\"642.36\" r=\"14\" fill=\"#0096ff\" fill-rule=\"evenodd\" fill-opacity=\"1\" stroke=\"#adb2b7\" stroke-opacity=\"1\" stroke-width=\"3.2\"/>\n<circle clip-path=\"url(#clip672)\" cx=\"1654.08\" cy=\"506.526\" r=\"14\" fill=\"#0096ff\" fill-rule=\"evenodd\" fill-opacity=\"1\" stroke=\"#adb2b7\" stroke-opacity=\"1\" stroke-width=\"3.2\"/>\n<circle clip-path=\"url(#clip672)\" cx=\"1604.02\" cy=\"621.856\" r=\"14\" fill=\"#0096ff\" fill-rule=\"evenodd\" fill-opacity=\"1\" stroke=\"#adb2b7\" stroke-opacity=\"1\" stroke-width=\"3.2\"/>\n<circle clip-path=\"url(#clip672)\" cx=\"1925.81\" cy=\"470\" r=\"14\" fill=\"#0096ff\" fill-rule=\"evenodd\" fill-opacity=\"1\" stroke=\"#adb2b7\" stroke-opacity=\"1\" stroke-width=\"3.2\"/>\n<circle clip-path=\"url(#clip672)\" cx=\"1992.73\" cy=\"126.734\" r=\"14\" fill=\"#0096ff\" fill-rule=\"evenodd\" fill-opacity=\"1\" stroke=\"#adb2b7\" stroke-opacity=\"1\" stroke-width=\"3.2\"/>\n<circle clip-path=\"url(#clip672)\" cx=\"1375.91\" cy=\"430.09\" r=\"14\" fill=\"#0096ff\" fill-rule=\"evenodd\" fill-opacity=\"1\" stroke=\"#adb2b7\" stroke-opacity=\"1\" stroke-width=\"3.2\"/>\n<circle clip-path=\"url(#clip672)\" cx=\"1429.59\" cy=\"548.478\" r=\"14\" fill=\"#0096ff\" fill-rule=\"evenodd\" fill-opacity=\"1\" stroke=\"#adb2b7\" stroke-opacity=\"1\" stroke-width=\"3.2\"/>\n<circle clip-path=\"url(#clip672)\" cx=\"2290.39\" cy=\"693.348\" r=\"14\" fill=\"#0096ff\" fill-rule=\"evenodd\" fill-opacity=\"1\" stroke=\"#adb2b7\" stroke-opacity=\"1\" stroke-width=\"3.2\"/>\n<circle clip-path=\"url(#clip672)\" cx=\"1990.61\" cy=\"672.254\" r=\"14\" fill=\"#0096ff\" fill-rule=\"evenodd\" fill-opacity=\"1\" stroke=\"#adb2b7\" stroke-opacity=\"1\" stroke-width=\"3.2\"/>\n<circle clip-path=\"url(#clip672)\" cx=\"1474.12\" cy=\"394.816\" r=\"14\" fill=\"#0096ff\" fill-rule=\"evenodd\" fill-opacity=\"1\" stroke=\"#adb2b7\" stroke-opacity=\"1\" stroke-width=\"3.2\"/>\n<circle clip-path=\"url(#clip672)\" cx=\"1632.23\" cy=\"249.46\" r=\"14\" fill=\"#0096ff\" fill-rule=\"evenodd\" fill-opacity=\"1\" stroke=\"#adb2b7\" stroke-opacity=\"1\" stroke-width=\"3.2\"/>\n<circle clip-path=\"url(#clip672)\" cx=\"1995.42\" cy=\"516.307\" r=\"14\" fill=\"#0096ff\" fill-rule=\"evenodd\" fill-opacity=\"1\" stroke=\"#adb2b7\" stroke-opacity=\"1\" stroke-width=\"3.2\"/>\n<circle clip-path=\"url(#clip672)\" cx=\"1420.13\" cy=\"423.777\" r=\"14\" fill=\"#0096ff\" fill-rule=\"evenodd\" fill-opacity=\"1\" stroke=\"#adb2b7\" stroke-opacity=\"1\" stroke-width=\"3.2\"/>\n<circle clip-path=\"url(#clip672)\" cx=\"2180.13\" cy=\"161.262\" r=\"14\" fill=\"#0096ff\" fill-rule=\"evenodd\" fill-opacity=\"1\" stroke=\"#adb2b7\" stroke-opacity=\"1\" stroke-width=\"3.2\"/>\n<circle clip-path=\"url(#clip672)\" cx=\"228.427\" cy=\"1057.21\" r=\"14\" fill=\"#0096ff\" fill-rule=\"evenodd\" fill-opacity=\"1\" stroke=\"#adb2b7\" stroke-opacity=\"1\" stroke-width=\"3.2\"/>\n<circle clip-path=\"url(#clip672)\" cx=\"858.871\" cy=\"1206.54\" r=\"14\" fill=\"#0096ff\" fill-rule=\"evenodd\" fill-opacity=\"1\" stroke=\"#adb2b7\" stroke-opacity=\"1\" stroke-width=\"3.2\"/>\n<circle clip-path=\"url(#clip672)\" cx=\"536.675\" cy=\"1130.34\" r=\"14\" fill=\"#0096ff\" fill-rule=\"evenodd\" fill-opacity=\"1\" stroke=\"#adb2b7\" stroke-opacity=\"1\" stroke-width=\"3.2\"/>\n<circle clip-path=\"url(#clip672)\" cx=\"476.121\" cy=\"1076.74\" r=\"14\" fill=\"#0096ff\" fill-rule=\"evenodd\" fill-opacity=\"1\" stroke=\"#adb2b7\" stroke-opacity=\"1\" stroke-width=\"3.2\"/>\n<circle clip-path=\"url(#clip672)\" cx=\"543.894\" cy=\"1187.34\" r=\"14\" fill=\"#0096ff\" fill-rule=\"evenodd\" fill-opacity=\"1\" stroke=\"#adb2b7\" stroke-opacity=\"1\" stroke-width=\"3.2\"/>\n<circle clip-path=\"url(#clip672)\" cx=\"329.19\" cy=\"1403.29\" r=\"14\" fill=\"#0096ff\" fill-rule=\"evenodd\" fill-opacity=\"1\" stroke=\"#adb2b7\" stroke-opacity=\"1\" stroke-width=\"3.2\"/>\n<circle clip-path=\"url(#clip672)\" cx=\"326.117\" cy=\"1331.27\" r=\"14\" fill=\"#0096ff\" fill-rule=\"evenodd\" fill-opacity=\"1\" stroke=\"#adb2b7\" stroke-opacity=\"1\" stroke-width=\"3.2\"/>\n<circle clip-path=\"url(#clip672)\" cx=\"457.677\" cy=\"1098.89\" r=\"14\" fill=\"#0096ff\" fill-rule=\"evenodd\" fill-opacity=\"1\" stroke=\"#adb2b7\" stroke-opacity=\"1\" stroke-width=\"3.2\"/>\n<circle clip-path=\"url(#clip672)\" cx=\"575.198\" cy=\"1319.48\" r=\"14\" fill=\"#0096ff\" fill-rule=\"evenodd\" fill-opacity=\"1\" stroke=\"#adb2b7\" stroke-opacity=\"1\" stroke-width=\"3.2\"/>\n<circle clip-path=\"url(#clip672)\" cx=\"666.639\" cy=\"1230.81\" r=\"14\" fill=\"#0096ff\" fill-rule=\"evenodd\" fill-opacity=\"1\" stroke=\"#adb2b7\" stroke-opacity=\"1\" stroke-width=\"3.2\"/>\n<circle clip-path=\"url(#clip672)\" cx=\"820.641\" cy=\"1327.77\" r=\"14\" fill=\"#0096ff\" fill-rule=\"evenodd\" fill-opacity=\"1\" stroke=\"#adb2b7\" stroke-opacity=\"1\" stroke-width=\"3.2\"/>\n<circle clip-path=\"url(#clip672)\" cx=\"682.202\" cy=\"878.907\" r=\"14\" fill=\"#0096ff\" fill-rule=\"evenodd\" fill-opacity=\"1\" stroke=\"#adb2b7\" stroke-opacity=\"1\" stroke-width=\"3.2\"/>\n<circle clip-path=\"url(#clip672)\" cx=\"435.743\" cy=\"944.069\" r=\"14\" fill=\"#0096ff\" fill-rule=\"evenodd\" fill-opacity=\"1\" stroke=\"#adb2b7\" stroke-opacity=\"1\" stroke-width=\"3.2\"/>\n<circle clip-path=\"url(#clip672)\" cx=\"759.446\" cy=\"1392.75\" r=\"14\" fill=\"#0096ff\" fill-rule=\"evenodd\" fill-opacity=\"1\" stroke=\"#adb2b7\" stroke-opacity=\"1\" stroke-width=\"3.2\"/>\n<circle clip-path=\"url(#clip672)\" cx=\"466.437\" cy=\"1063\" r=\"14\" fill=\"#0096ff\" fill-rule=\"evenodd\" fill-opacity=\"1\" stroke=\"#adb2b7\" stroke-opacity=\"1\" stroke-width=\"3.2\"/>\n<circle clip-path=\"url(#clip672)\" cx=\"462.684\" cy=\"1372.16\" r=\"14\" fill=\"#0096ff\" fill-rule=\"evenodd\" fill-opacity=\"1\" stroke=\"#adb2b7\" stroke-opacity=\"1\" stroke-width=\"3.2\"/>\n<circle clip-path=\"url(#clip672)\" cx=\"781.334\" cy=\"976.162\" r=\"14\" fill=\"#0096ff\" fill-rule=\"evenodd\" fill-opacity=\"1\" stroke=\"#adb2b7\" stroke-opacity=\"1\" stroke-width=\"3.2\"/>\n<circle clip-path=\"url(#clip672)\" cx=\"825.906\" cy=\"918.198\" r=\"14\" fill=\"#0096ff\" fill-rule=\"evenodd\" fill-opacity=\"1\" stroke=\"#adb2b7\" stroke-opacity=\"1\" stroke-width=\"3.2\"/>\n<circle clip-path=\"url(#clip672)\" cx=\"912.194\" cy=\"1429.53\" r=\"14\" fill=\"#0096ff\" fill-rule=\"evenodd\" fill-opacity=\"1\" stroke=\"#adb2b7\" stroke-opacity=\"1\" stroke-width=\"3.2\"/>\n<circle clip-path=\"url(#clip672)\" cx=\"219.335\" cy=\"966.784\" r=\"14\" fill=\"#0096ff\" fill-rule=\"evenodd\" fill-opacity=\"1\" stroke=\"#adb2b7\" stroke-opacity=\"1\" stroke-width=\"3.2\"/>\n<circle clip-path=\"url(#clip672)\" cx=\"1782.25\" cy=\"1274.56\" r=\"14\" fill=\"#fe4365\" fill-rule=\"evenodd\" fill-opacity=\"1\" stroke=\"#adb2b7\" stroke-opacity=\"1\" stroke-width=\"3.2\"/>\n<circle clip-path=\"url(#clip672)\" cx=\"1498.46\" cy=\"1076.36\" r=\"14\" fill=\"#fe4365\" fill-rule=\"evenodd\" fill-opacity=\"1\" stroke=\"#adb2b7\" stroke-opacity=\"1\" stroke-width=\"3.2\"/>\n<circle clip-path=\"url(#clip672)\" cx=\"1953.28\" cy=\"1018.95\" r=\"14\" fill=\"#fe4365\" fill-rule=\"evenodd\" fill-opacity=\"1\" stroke=\"#adb2b7\" stroke-opacity=\"1\" stroke-width=\"3.2\"/>\n<circle clip-path=\"url(#clip672)\" cx=\"1611.96\" cy=\"1140.62\" r=\"14\" fill=\"#fe4365\" fill-rule=\"evenodd\" fill-opacity=\"1\" stroke=\"#adb2b7\" stroke-opacity=\"1\" stroke-width=\"3.2\"/>\n<circle clip-path=\"url(#clip672)\" cx=\"1847.56\" cy=\"1162.7\" r=\"14\" fill=\"#fe4365\" fill-rule=\"evenodd\" fill-opacity=\"1\" stroke=\"#adb2b7\" stroke-opacity=\"1\" stroke-width=\"3.2\"/>\n<circle clip-path=\"url(#clip672)\" cx=\"1456.28\" cy=\"1076.41\" r=\"14\" fill=\"#fe4365\" fill-rule=\"evenodd\" fill-opacity=\"1\" stroke=\"#adb2b7\" stroke-opacity=\"1\" stroke-width=\"3.2\"/>\n<circle clip-path=\"url(#clip672)\" cx=\"1873.04\" cy=\"1335.23\" r=\"14\" fill=\"#fe4365\" fill-rule=\"evenodd\" fill-opacity=\"1\" stroke=\"#adb2b7\" stroke-opacity=\"1\" stroke-width=\"3.2\"/>\n<circle clip-path=\"url(#clip672)\" cx=\"1622.07\" cy=\"929.395\" r=\"14\" fill=\"#fe4365\" fill-rule=\"evenodd\" fill-opacity=\"1\" stroke=\"#adb2b7\" stroke-opacity=\"1\" stroke-width=\"3.2\"/>\n<circle clip-path=\"url(#clip672)\" cx=\"1471.81\" cy=\"867.144\" r=\"14\" fill=\"#fe4365\" fill-rule=\"evenodd\" fill-opacity=\"1\" stroke=\"#adb2b7\" stroke-opacity=\"1\" stroke-width=\"3.2\"/>\n<circle clip-path=\"url(#clip672)\" cx=\"2172.06\" cy=\"963.929\" r=\"14\" fill=\"#fe4365\" fill-rule=\"evenodd\" fill-opacity=\"1\" stroke=\"#adb2b7\" stroke-opacity=\"1\" stroke-width=\"3.2\"/>\n<circle clip-path=\"url(#clip672)\" cx=\"1977.79\" cy=\"1165.45\" r=\"14\" fill=\"#fe4365\" fill-rule=\"evenodd\" fill-opacity=\"1\" stroke=\"#adb2b7\" stroke-opacity=\"1\" stroke-width=\"3.2\"/>\n<circle clip-path=\"url(#clip672)\" cx=\"1692.03\" cy=\"1395.29\" r=\"14\" fill=\"#fe4365\" fill-rule=\"evenodd\" fill-opacity=\"1\" stroke=\"#adb2b7\" stroke-opacity=\"1\" stroke-width=\"3.2\"/>\n<circle clip-path=\"url(#clip672)\" cx=\"1474.61\" cy=\"1005.4\" r=\"14\" fill=\"#fe4365\" fill-rule=\"evenodd\" fill-opacity=\"1\" stroke=\"#adb2b7\" stroke-opacity=\"1\" stroke-width=\"3.2\"/>\n<circle clip-path=\"url(#clip672)\" cx=\"2122.39\" cy=\"848.386\" r=\"14\" fill=\"#fe4365\" fill-rule=\"evenodd\" fill-opacity=\"1\" stroke=\"#adb2b7\" stroke-opacity=\"1\" stroke-width=\"3.2\"/>\n<circle clip-path=\"url(#clip672)\" cx=\"2175.62\" cy=\"1190.75\" r=\"14\" fill=\"#fe4365\" fill-rule=\"evenodd\" fill-opacity=\"1\" stroke=\"#adb2b7\" stroke-opacity=\"1\" stroke-width=\"3.2\"/>\n<circle clip-path=\"url(#clip672)\" cx=\"1450.31\" cy=\"1165.54\" r=\"14\" fill=\"#fe4365\" fill-rule=\"evenodd\" fill-opacity=\"1\" stroke=\"#adb2b7\" stroke-opacity=\"1\" stroke-width=\"3.2\"/>\n<circle clip-path=\"url(#clip672)\" cx=\"1739.11\" cy=\"930.716\" r=\"14\" fill=\"#fe4365\" fill-rule=\"evenodd\" fill-opacity=\"1\" stroke=\"#adb2b7\" stroke-opacity=\"1\" stroke-width=\"3.2\"/>\n<circle clip-path=\"url(#clip672)\" cx=\"1684.98\" cy=\"1109.63\" r=\"14\" fill=\"#fe4365\" fill-rule=\"evenodd\" fill-opacity=\"1\" stroke=\"#adb2b7\" stroke-opacity=\"1\" stroke-width=\"3.2\"/>\n<circle clip-path=\"url(#clip672)\" cx=\"2088.6\" cy=\"956.293\" r=\"14\" fill=\"#fe4365\" fill-rule=\"evenodd\" fill-opacity=\"1\" stroke=\"#adb2b7\" stroke-opacity=\"1\" stroke-width=\"3.2\"/>\n<circle clip-path=\"url(#clip672)\" cx=\"1622.15\" cy=\"1445.72\" r=\"14\" fill=\"#fe4365\" fill-rule=\"evenodd\" fill-opacity=\"1\" stroke=\"#adb2b7\" stroke-opacity=\"1\" stroke-width=\"3.2\"/>\n<circle clip-path=\"url(#clip672)\" cx=\"526.127\" cy=\"185.062\" r=\"14\" fill=\"#fe4365\" fill-rule=\"evenodd\" fill-opacity=\"1\" stroke=\"#adb2b7\" stroke-opacity=\"1\" stroke-width=\"3.2\"/>\n<circle clip-path=\"url(#clip672)\" cx=\"312.166\" cy=\"430.467\" r=\"14\" fill=\"#fe4365\" fill-rule=\"evenodd\" fill-opacity=\"1\" stroke=\"#adb2b7\" stroke-opacity=\"1\" stroke-width=\"3.2\"/>\n<circle clip-path=\"url(#clip672)\" cx=\"474.45\" cy=\"275.361\" r=\"14\" fill=\"#fe4365\" fill-rule=\"evenodd\" fill-opacity=\"1\" stroke=\"#adb2b7\" stroke-opacity=\"1\" stroke-width=\"3.2\"/>\n<circle clip-path=\"url(#clip672)\" cx=\"371.731\" cy=\"471.188\" r=\"14\" fill=\"#fe4365\" fill-rule=\"evenodd\" fill-opacity=\"1\" stroke=\"#adb2b7\" stroke-opacity=\"1\" stroke-width=\"3.2\"/>\n<circle clip-path=\"url(#clip672)\" cx=\"1038.07\" cy=\"518.892\" r=\"14\" fill=\"#fe4365\" fill-rule=\"evenodd\" fill-opacity=\"1\" stroke=\"#adb2b7\" stroke-opacity=\"1\" stroke-width=\"3.2\"/>\n<circle clip-path=\"url(#clip672)\" cx=\"249.225\" cy=\"271.457\" r=\"14\" fill=\"#fe4365\" fill-rule=\"evenodd\" fill-opacity=\"1\" stroke=\"#adb2b7\" stroke-opacity=\"1\" stroke-width=\"3.2\"/>\n<circle clip-path=\"url(#clip672)\" cx=\"211.556\" cy=\"495.784\" r=\"14\" fill=\"#fe4365\" fill-rule=\"evenodd\" fill-opacity=\"1\" stroke=\"#adb2b7\" stroke-opacity=\"1\" stroke-width=\"3.2\"/>\n<circle clip-path=\"url(#clip672)\" cx=\"729.558\" cy=\"444.793\" r=\"14\" fill=\"#fe4365\" fill-rule=\"evenodd\" fill-opacity=\"1\" stroke=\"#adb2b7\" stroke-opacity=\"1\" stroke-width=\"3.2\"/>\n<circle clip-path=\"url(#clip672)\" cx=\"762.683\" cy=\"328.585\" r=\"14\" fill=\"#fe4365\" fill-rule=\"evenodd\" fill-opacity=\"1\" stroke=\"#adb2b7\" stroke-opacity=\"1\" stroke-width=\"3.2\"/>\n<circle clip-path=\"url(#clip672)\" cx=\"477.26\" cy=\"673.281\" r=\"14\" fill=\"#fe4365\" fill-rule=\"evenodd\" fill-opacity=\"1\" stroke=\"#adb2b7\" stroke-opacity=\"1\" stroke-width=\"3.2\"/>\n<circle clip-path=\"url(#clip672)\" cx=\"667.794\" cy=\"136.247\" r=\"14\" fill=\"#fe4365\" fill-rule=\"evenodd\" fill-opacity=\"1\" stroke=\"#adb2b7\" stroke-opacity=\"1\" stroke-width=\"3.2\"/>\n<circle clip-path=\"url(#clip672)\" cx=\"580.046\" cy=\"471.149\" r=\"14\" fill=\"#fe4365\" fill-rule=\"evenodd\" fill-opacity=\"1\" stroke=\"#adb2b7\" stroke-opacity=\"1\" stroke-width=\"3.2\"/>\n<circle clip-path=\"url(#clip672)\" cx=\"325.154\" cy=\"630.965\" r=\"14\" fill=\"#fe4365\" fill-rule=\"evenodd\" fill-opacity=\"1\" stroke=\"#adb2b7\" stroke-opacity=\"1\" stroke-width=\"3.2\"/>\n<circle clip-path=\"url(#clip672)\" cx=\"809.293\" cy=\"287.567\" r=\"14\" fill=\"#fe4365\" fill-rule=\"evenodd\" fill-opacity=\"1\" stroke=\"#adb2b7\" stroke-opacity=\"1\" stroke-width=\"3.2\"/>\n<circle clip-path=\"url(#clip672)\" cx=\"1149.11\" cy=\"614.052\" r=\"14\" fill=\"#fe4365\" fill-rule=\"evenodd\" fill-opacity=\"1\" stroke=\"#adb2b7\" stroke-opacity=\"1\" stroke-width=\"3.2\"/>\n<circle clip-path=\"url(#clip672)\" cx=\"662.639\" cy=\"650.507\" r=\"14\" fill=\"#fe4365\" fill-rule=\"evenodd\" fill-opacity=\"1\" stroke=\"#adb2b7\" stroke-opacity=\"1\" stroke-width=\"3.2\"/>\n<circle clip-path=\"url(#clip672)\" cx=\"816.27\" cy=\"411.021\" r=\"14\" fill=\"#fe4365\" fill-rule=\"evenodd\" fill-opacity=\"1\" stroke=\"#adb2b7\" stroke-opacity=\"1\" stroke-width=\"3.2\"/>\n<circle clip-path=\"url(#clip672)\" cx=\"990.895\" cy=\"87.9763\" r=\"14\" fill=\"#fe4365\" fill-rule=\"evenodd\" fill-opacity=\"1\" stroke=\"#adb2b7\" stroke-opacity=\"1\" stroke-width=\"3.2\"/>\n<circle clip-path=\"url(#clip672)\" cx=\"585.552\" cy=\"481.32\" r=\"14\" fill=\"#fe4365\" fill-rule=\"evenodd\" fill-opacity=\"1\" stroke=\"#adb2b7\" stroke-opacity=\"1\" stroke-width=\"3.2\"/>\n<circle clip-path=\"url(#clip672)\" cx=\"360.37\" cy=\"598.852\" r=\"14\" fill=\"#fe4365\" fill-rule=\"evenodd\" fill-opacity=\"1\" stroke=\"#adb2b7\" stroke-opacity=\"1\" stroke-width=\"3.2\"/>\n<path clip-path=\"url(#clip670)\" d=\"\nM1982.03 250.738 L2279.3 250.738 L2279.3 95.2176 L1982.03 95.2176  Z\n  \" fill=\"#282c34\" fill-rule=\"evenodd\" fill-opacity=\"1\"/>\n<polyline clip-path=\"url(#clip670)\" style=\"stroke:#9eb1be; stroke-linecap:butt; stroke-linejoin:round; stroke-width:4; stroke-opacity:1; fill:none\" points=\"\n  1982.03,250.738 2279.3,250.738 2279.3,95.2176 1982.03,95.2176 1982.03,250.738 \n  \"/>\n<circle clip-path=\"url(#clip670)\" cx=\"2079.97\" cy=\"147.058\" r=\"23\" fill=\"#0096ff\" fill-rule=\"evenodd\" fill-opacity=\"1\" stroke=\"#adb2b7\" stroke-opacity=\"1\" stroke-width=\"5.12\"/>\n<path clip-path=\"url(#clip670)\" d=\"M2191.75 166.745 Q2189.94 171.375 2188.23 172.787 Q2186.52 174.199 2183.65 174.199 L2180.24 174.199 L2180.24 170.634 L2182.74 170.634 Q2184.5 170.634 2185.47 169.8 Q2186.45 168.967 2187.63 165.865 L2188.39 163.921 L2177.91 138.412 L2182.42 138.412 L2190.52 158.689 L2198.62 138.412 L2203.14 138.412 L2191.75 166.745 Z\" fill=\"#adb2b7\" fill-rule=\"evenodd\" fill-opacity=\"1\" /><path clip-path=\"url(#clip670)\" d=\"M2210.43 160.402 L2218.07 160.402 L2218.07 134.037 L2209.76 135.703 L2209.76 131.444 L2218.02 129.778 L2222.7 129.778 L2222.7 160.402 L2230.34 160.402 L2230.34 164.338 L2210.43 164.338 L2210.43 160.402 Z\" fill=\"#adb2b7\" fill-rule=\"evenodd\" fill-opacity=\"1\" /><circle clip-path=\"url(#clip670)\" cx=\"2079.97\" cy=\"198.898\" r=\"23\" fill=\"#fe4365\" fill-rule=\"evenodd\" fill-opacity=\"1\" stroke=\"#adb2b7\" stroke-opacity=\"1\" stroke-width=\"5.12\"/>\n<path clip-path=\"url(#clip670)\" d=\"M2191.75 218.585 Q2189.94 223.215 2188.23 224.627 Q2186.52 226.039 2183.65 226.039 L2180.24 226.039 L2180.24 222.474 L2182.74 222.474 Q2184.5 222.474 2185.47 221.64 Q2186.45 220.807 2187.63 217.705 L2188.39 215.761 L2177.91 190.252 L2182.42 190.252 L2190.52 210.529 L2198.62 190.252 L2203.14 190.252 L2191.75 218.585 Z\" fill=\"#adb2b7\" fill-rule=\"evenodd\" fill-opacity=\"1\" /><path clip-path=\"url(#clip670)\" d=\"M2213.65 212.242 L2229.97 212.242 L2229.97 216.178 L2208.02 216.178 L2208.02 212.242 Q2210.68 209.488 2215.27 204.858 Q2219.87 200.205 2221.05 198.863 Q2223.3 196.34 2224.18 194.604 Q2225.08 192.844 2225.08 191.155 Q2225.08 188.4 2223.14 186.664 Q2221.22 184.928 2218.11 184.928 Q2215.91 184.928 2213.46 185.692 Q2211.03 186.455 2208.25 188.006 L2208.25 183.284 Q2211.08 182.15 2213.53 181.571 Q2215.98 180.993 2218.02 180.993 Q2223.39 180.993 2226.59 183.678 Q2229.78 186.363 2229.78 190.854 Q2229.78 192.983 2228.97 194.905 Q2228.18 196.803 2226.08 199.395 Q2225.5 200.067 2222.4 203.284 Q2219.29 206.479 2213.65 212.242 Z\" fill=\"#adb2b7\" fill-rule=\"evenodd\" fill-opacity=\"1\" /></svg>\n",
      "text/html": [
       "<?xml version=\"1.0\" encoding=\"utf-8\"?>\n",
       "<svg xmlns=\"http://www.w3.org/2000/svg\" xmlns:xlink=\"http://www.w3.org/1999/xlink\" width=\"600\" height=\"400\" viewBox=\"0 0 2400 1600\">\n",
       "<defs>\n",
       "  <clipPath id=\"clip720\">\n",
       "    <rect x=\"0\" y=\"0\" width=\"2400\" height=\"1600\"/>\n",
       "  </clipPath>\n",
       "</defs>\n",
       "<path clip-path=\"url(#clip720)\" d=\"\n",
       "M0 1600 L2400 1600 L2400 0 L0 0  Z\n",
       "  \" fill=\"#282c34\" fill-rule=\"evenodd\" fill-opacity=\"1\"/>\n",
       "<defs>\n",
       "  <clipPath id=\"clip721\">\n",
       "    <rect x=\"480\" y=\"0\" width=\"1681\" height=\"1600\"/>\n",
       "  </clipPath>\n",
       "</defs>\n",
       "<path clip-path=\"url(#clip720)\" d=\"\n",
       "M149.191 1486.45 L2352.76 1486.45 L2352.76 47.2441 L149.191 47.2441  Z\n",
       "  \" fill=\"#21252b\" fill-rule=\"evenodd\" fill-opacity=\"1\"/>\n",
       "<defs>\n",
       "  <clipPath id=\"clip722\">\n",
       "    <rect x=\"149\" y=\"47\" width=\"2205\" height=\"1440\"/>\n",
       "  </clipPath>\n",
       "</defs>\n",
       "<polyline clip-path=\"url(#clip722)\" style=\"stroke:#adb2b7; stroke-linecap:butt; stroke-linejoin:round; stroke-width:2; stroke-opacity:0.1; fill:none\" points=\"\n",
       "  398.527,1486.45 398.527,47.2441 \n",
       "  \"/>\n",
       "<polyline clip-path=\"url(#clip722)\" style=\"stroke:#adb2b7; stroke-linecap:butt; stroke-linejoin:round; stroke-width:2; stroke-opacity:0.1; fill:none\" points=\"\n",
       "  828.233,1486.45 828.233,47.2441 \n",
       "  \"/>\n",
       "<polyline clip-path=\"url(#clip722)\" style=\"stroke:#adb2b7; stroke-linecap:butt; stroke-linejoin:round; stroke-width:2; stroke-opacity:0.1; fill:none\" points=\"\n",
       "  1257.94,1486.45 1257.94,47.2441 \n",
       "  \"/>\n",
       "<polyline clip-path=\"url(#clip722)\" style=\"stroke:#adb2b7; stroke-linecap:butt; stroke-linejoin:round; stroke-width:2; stroke-opacity:0.1; fill:none\" points=\"\n",
       "  1687.64,1486.45 1687.64,47.2441 \n",
       "  \"/>\n",
       "<polyline clip-path=\"url(#clip722)\" style=\"stroke:#adb2b7; stroke-linecap:butt; stroke-linejoin:round; stroke-width:2; stroke-opacity:0.1; fill:none\" points=\"\n",
       "  2117.35,1486.45 2117.35,47.2441 \n",
       "  \"/>\n",
       "<polyline clip-path=\"url(#clip720)\" style=\"stroke:#adb2b7; stroke-linecap:butt; stroke-linejoin:round; stroke-width:4; stroke-opacity:1; fill:none\" points=\"\n",
       "  149.191,1486.45 2352.76,1486.45 \n",
       "  \"/>\n",
       "<polyline clip-path=\"url(#clip720)\" style=\"stroke:#adb2b7; stroke-linecap:butt; stroke-linejoin:round; stroke-width:4; stroke-opacity:1; fill:none\" points=\"\n",
       "  398.527,1486.45 398.527,1467.55 \n",
       "  \"/>\n",
       "<polyline clip-path=\"url(#clip720)\" style=\"stroke:#adb2b7; stroke-linecap:butt; stroke-linejoin:round; stroke-width:4; stroke-opacity:1; fill:none\" points=\"\n",
       "  828.233,1486.45 828.233,1467.55 \n",
       "  \"/>\n",
       "<polyline clip-path=\"url(#clip720)\" style=\"stroke:#adb2b7; stroke-linecap:butt; stroke-linejoin:round; stroke-width:4; stroke-opacity:1; fill:none\" points=\"\n",
       "  1257.94,1486.45 1257.94,1467.55 \n",
       "  \"/>\n",
       "<polyline clip-path=\"url(#clip720)\" style=\"stroke:#adb2b7; stroke-linecap:butt; stroke-linejoin:round; stroke-width:4; stroke-opacity:1; fill:none\" points=\"\n",
       "  1687.64,1486.45 1687.64,1467.55 \n",
       "  \"/>\n",
       "<polyline clip-path=\"url(#clip720)\" style=\"stroke:#adb2b7; stroke-linecap:butt; stroke-linejoin:round; stroke-width:4; stroke-opacity:1; fill:none\" points=\"\n",
       "  2117.35,1486.45 2117.35,1467.55 \n",
       "  \"/>\n",
       "<path clip-path=\"url(#clip720)\" d=\"M367.427 1532.02 L397.103 1532.02 L397.103 1535.95 L367.427 1535.95 L367.427 1532.02 Z\" fill=\"#9eb1be\" fill-rule=\"evenodd\" fill-opacity=\"1\" /><path clip-path=\"url(#clip720)\" d=\"M420.043 1518.36 L408.237 1536.81 L420.043 1536.81 L420.043 1518.36 M418.816 1514.29 L424.695 1514.29 L424.695 1536.81 L429.626 1536.81 L429.626 1540.7 L424.695 1540.7 L424.695 1548.85 L420.043 1548.85 L420.043 1540.7 L404.441 1540.7 L404.441 1536.19 L418.816 1514.29 Z\" fill=\"#9eb1be\" fill-rule=\"evenodd\" fill-opacity=\"1\" /><path clip-path=\"url(#clip720)\" d=\"M798.175 1532.02 L827.851 1532.02 L827.851 1535.95 L798.175 1535.95 L798.175 1532.02 Z\" fill=\"#9eb1be\" fill-rule=\"evenodd\" fill-opacity=\"1\" /><path clip-path=\"url(#clip720)\" d=\"M841.971 1544.91 L858.29 1544.91 L858.29 1548.85 L836.346 1548.85 L836.346 1544.91 Q839.008 1542.16 843.591 1537.53 Q848.198 1532.88 849.378 1531.53 Q851.624 1529.01 852.503 1527.27 Q853.406 1525.51 853.406 1523.82 Q853.406 1521.07 851.462 1519.33 Q849.54 1517.6 846.438 1517.6 Q844.239 1517.6 841.786 1518.36 Q839.355 1519.13 836.577 1520.68 L836.577 1515.95 Q839.401 1514.82 841.855 1514.24 Q844.309 1513.66 846.346 1513.66 Q851.716 1513.66 854.911 1516.35 Q858.105 1519.03 858.105 1523.52 Q858.105 1525.65 857.295 1527.57 Q856.508 1529.47 854.401 1532.07 Q853.823 1532.74 850.721 1535.95 Q847.619 1539.15 841.971 1544.91 Z\" fill=\"#9eb1be\" fill-rule=\"evenodd\" fill-opacity=\"1\" /><path clip-path=\"url(#clip720)\" d=\"M1257.94 1517.37 Q1254.33 1517.37 1252.5 1520.93 Q1250.69 1524.47 1250.69 1531.6 Q1250.69 1538.71 1252.5 1542.27 Q1254.33 1545.82 1257.94 1545.82 Q1261.57 1545.82 1263.38 1542.27 Q1265.21 1538.71 1265.21 1531.6 Q1265.21 1524.47 1263.38 1520.93 Q1261.57 1517.37 1257.94 1517.37 M1257.94 1513.66 Q1263.75 1513.66 1266.8 1518.27 Q1269.88 1522.85 1269.88 1531.6 Q1269.88 1540.33 1266.8 1544.94 Q1263.75 1549.52 1257.94 1549.52 Q1252.13 1549.52 1249.05 1544.94 Q1245.99 1540.33 1245.99 1531.6 Q1245.99 1522.85 1249.05 1518.27 Q1252.13 1513.66 1257.94 1513.66 Z\" fill=\"#9eb1be\" fill-rule=\"evenodd\" fill-opacity=\"1\" /><path clip-path=\"url(#clip720)\" d=\"M1682.3 1544.91 L1698.62 1544.91 L1698.62 1548.85 L1676.67 1548.85 L1676.67 1544.91 Q1679.33 1542.16 1683.92 1537.53 Q1688.52 1532.88 1689.7 1531.53 Q1691.95 1529.01 1692.83 1527.27 Q1693.73 1525.51 1693.73 1523.82 Q1693.73 1521.07 1691.79 1519.33 Q1689.87 1517.6 1686.76 1517.6 Q1684.57 1517.6 1682.11 1518.36 Q1679.68 1519.13 1676.9 1520.68 L1676.9 1515.95 Q1679.73 1514.82 1682.18 1514.24 Q1684.64 1513.66 1686.67 1513.66 Q1692.04 1513.66 1695.24 1516.35 Q1698.43 1519.03 1698.43 1523.52 Q1698.43 1525.65 1697.62 1527.57 Q1696.83 1529.47 1694.73 1532.07 Q1694.15 1532.74 1691.05 1535.95 Q1687.95 1539.15 1682.3 1544.91 Z\" fill=\"#9eb1be\" fill-rule=\"evenodd\" fill-opacity=\"1\" /><path clip-path=\"url(#clip720)\" d=\"M2120.36 1518.36 L2108.55 1536.81 L2120.36 1536.81 L2120.36 1518.36 M2119.13 1514.29 L2125.01 1514.29 L2125.01 1536.81 L2129.94 1536.81 L2129.94 1540.7 L2125.01 1540.7 L2125.01 1548.85 L2120.36 1548.85 L2120.36 1540.7 L2104.76 1540.7 L2104.76 1536.19 L2119.13 1514.29 Z\" fill=\"#9eb1be\" fill-rule=\"evenodd\" fill-opacity=\"1\" /><polyline clip-path=\"url(#clip722)\" style=\"stroke:#adb2b7; stroke-linecap:butt; stroke-linejoin:round; stroke-width:2; stroke-opacity:0.1; fill:none\" points=\"\n",
       "  149.191,1316.99 2352.76,1316.99 \n",
       "  \"/>\n",
       "<polyline clip-path=\"url(#clip722)\" style=\"stroke:#adb2b7; stroke-linecap:butt; stroke-linejoin:round; stroke-width:2; stroke-opacity:0.1; fill:none\" points=\"\n",
       "  149.191,1043.05 2352.76,1043.05 \n",
       "  \"/>\n",
       "<polyline clip-path=\"url(#clip722)\" style=\"stroke:#adb2b7; stroke-linecap:butt; stroke-linejoin:round; stroke-width:2; stroke-opacity:0.1; fill:none\" points=\"\n",
       "  149.191,769.117 2352.76,769.117 \n",
       "  \"/>\n",
       "<polyline clip-path=\"url(#clip722)\" style=\"stroke:#adb2b7; stroke-linecap:butt; stroke-linejoin:round; stroke-width:2; stroke-opacity:0.1; fill:none\" points=\"\n",
       "  149.191,495.181 2352.76,495.181 \n",
       "  \"/>\n",
       "<polyline clip-path=\"url(#clip722)\" style=\"stroke:#adb2b7; stroke-linecap:butt; stroke-linejoin:round; stroke-width:2; stroke-opacity:0.1; fill:none\" points=\"\n",
       "  149.191,221.244 2352.76,221.244 \n",
       "  \"/>\n",
       "<polyline clip-path=\"url(#clip720)\" style=\"stroke:#adb2b7; stroke-linecap:butt; stroke-linejoin:round; stroke-width:4; stroke-opacity:1; fill:none\" points=\"\n",
       "  149.191,1486.45 149.191,47.2441 \n",
       "  \"/>\n",
       "<polyline clip-path=\"url(#clip720)\" style=\"stroke:#adb2b7; stroke-linecap:butt; stroke-linejoin:round; stroke-width:4; stroke-opacity:1; fill:none\" points=\"\n",
       "  149.191,1316.99 168.089,1316.99 \n",
       "  \"/>\n",
       "<polyline clip-path=\"url(#clip720)\" style=\"stroke:#adb2b7; stroke-linecap:butt; stroke-linejoin:round; stroke-width:4; stroke-opacity:1; fill:none\" points=\"\n",
       "  149.191,1043.05 168.089,1043.05 \n",
       "  \"/>\n",
       "<polyline clip-path=\"url(#clip720)\" style=\"stroke:#adb2b7; stroke-linecap:butt; stroke-linejoin:round; stroke-width:4; stroke-opacity:1; fill:none\" points=\"\n",
       "  149.191,769.117 168.089,769.117 \n",
       "  \"/>\n",
       "<polyline clip-path=\"url(#clip720)\" style=\"stroke:#adb2b7; stroke-linecap:butt; stroke-linejoin:round; stroke-width:4; stroke-opacity:1; fill:none\" points=\"\n",
       "  149.191,495.181 168.089,495.181 \n",
       "  \"/>\n",
       "<polyline clip-path=\"url(#clip720)\" style=\"stroke:#adb2b7; stroke-linecap:butt; stroke-linejoin:round; stroke-width:4; stroke-opacity:1; fill:none\" points=\"\n",
       "  149.191,221.244 168.089,221.244 \n",
       "  \"/>\n",
       "<path clip-path=\"url(#clip720)\" d=\"M50.9921 1317.44 L80.6679 1317.44 L80.6679 1321.38 L50.9921 1321.38 L50.9921 1317.44 Z\" fill=\"#9eb1be\" fill-rule=\"evenodd\" fill-opacity=\"1\" /><path clip-path=\"url(#clip720)\" d=\"M103.608 1303.78 L91.8021 1322.23 L103.608 1322.23 L103.608 1303.78 M102.381 1299.71 L108.26 1299.71 L108.26 1322.23 L113.191 1322.23 L113.191 1326.12 L108.26 1326.12 L108.26 1334.27 L103.608 1334.27 L103.608 1326.12 L88.0058 1326.12 L88.0058 1321.61 L102.381 1299.71 Z\" fill=\"#9eb1be\" fill-rule=\"evenodd\" fill-opacity=\"1\" /><path clip-path=\"url(#clip720)\" d=\"M53.0754 1043.5 L82.7512 1043.5 L82.7512 1047.44 L53.0754 1047.44 L53.0754 1043.5 Z\" fill=\"#9eb1be\" fill-rule=\"evenodd\" fill-opacity=\"1\" /><path clip-path=\"url(#clip720)\" d=\"M96.8715 1056.4 L113.191 1056.4 L113.191 1060.33 L91.2465 1060.33 L91.2465 1056.4 Q93.9086 1053.64 98.4919 1049.01 Q103.098 1044.36 104.279 1043.02 Q106.524 1040.5 107.404 1038.76 Q108.307 1037 108.307 1035.31 Q108.307 1032.56 106.362 1030.82 Q104.441 1029.08 101.339 1029.08 Q99.14 1029.08 96.6863 1029.85 Q94.2558 1030.61 91.478 1032.16 L91.478 1027.44 Q94.3021 1026.31 96.7558 1025.73 Q99.2095 1025.15 101.246 1025.15 Q106.617 1025.15 109.811 1027.83 Q113.006 1030.52 113.006 1035.01 Q113.006 1037.14 112.196 1039.06 Q111.408 1040.96 109.302 1043.55 Q108.723 1044.22 105.621 1047.44 Q102.52 1050.63 96.8715 1056.4 Z\" fill=\"#9eb1be\" fill-rule=\"evenodd\" fill-opacity=\"1\" /><path clip-path=\"url(#clip720)\" d=\"M101.246 754.916 Q97.6354 754.916 95.8067 758.481 Q94.0012 762.022 94.0012 769.152 Q94.0012 776.258 95.8067 779.823 Q97.6354 783.365 101.246 783.365 Q104.881 783.365 106.686 779.823 Q108.515 776.258 108.515 769.152 Q108.515 762.022 106.686 758.481 Q104.881 754.916 101.246 754.916 M101.246 751.212 Q107.057 751.212 110.112 755.818 Q113.191 760.402 113.191 769.152 Q113.191 777.879 110.112 782.485 Q107.057 787.068 101.246 787.068 Q95.4363 787.068 92.3576 782.485 Q89.3021 777.879 89.3021 769.152 Q89.3021 760.402 92.3576 755.818 Q95.4363 751.212 101.246 751.212 Z\" fill=\"#9eb1be\" fill-rule=\"evenodd\" fill-opacity=\"1\" /><path clip-path=\"url(#clip720)\" d=\"M96.8715 508.526 L113.191 508.526 L113.191 512.461 L91.2465 512.461 L91.2465 508.526 Q93.9086 505.771 98.4919 501.141 Q103.098 496.489 104.279 495.146 Q106.524 492.623 107.404 490.887 Q108.307 489.128 108.307 487.438 Q108.307 484.683 106.362 482.947 Q104.441 481.211 101.339 481.211 Q99.14 481.211 96.6863 481.975 Q94.2558 482.739 91.478 484.29 L91.478 479.567 Q94.3021 478.433 96.7558 477.854 Q99.2095 477.276 101.246 477.276 Q106.617 477.276 109.811 479.961 Q113.006 482.646 113.006 487.137 Q113.006 489.266 112.196 491.188 Q111.408 493.086 109.302 495.678 Q108.723 496.35 105.621 499.567 Q102.52 502.762 96.8715 508.526 Z\" fill=\"#9eb1be\" fill-rule=\"evenodd\" fill-opacity=\"1\" /><path clip-path=\"url(#clip720)\" d=\"M103.608 208.039 L91.8021 226.487 L103.608 226.487 L103.608 208.039 M102.381 203.964 L108.26 203.964 L108.26 226.487 L113.191 226.487 L113.191 230.376 L108.26 230.376 L108.26 238.524 L103.608 238.524 L103.608 230.376 L88.0058 230.376 L88.0058 225.862 L102.381 203.964 Z\" fill=\"#9eb1be\" fill-rule=\"evenodd\" fill-opacity=\"1\" /><circle clip-path=\"url(#clip722)\" cx=\"1936.62\" cy=\"114.787\" r=\"14\" fill=\"#0096ff\" fill-rule=\"evenodd\" fill-opacity=\"1\" stroke=\"#adb2b7\" stroke-opacity=\"1\" stroke-width=\"3.2\"/>\n",
       "<circle clip-path=\"url(#clip722)\" cx=\"2106.73\" cy=\"106.052\" r=\"14\" fill=\"#0096ff\" fill-rule=\"evenodd\" fill-opacity=\"1\" stroke=\"#adb2b7\" stroke-opacity=\"1\" stroke-width=\"3.2\"/>\n",
       "<circle clip-path=\"url(#clip722)\" cx=\"1912.83\" cy=\"117.698\" r=\"14\" fill=\"#0096ff\" fill-rule=\"evenodd\" fill-opacity=\"1\" stroke=\"#adb2b7\" stroke-opacity=\"1\" stroke-width=\"3.2\"/>\n",
       "<circle clip-path=\"url(#clip722)\" cx=\"1810.19\" cy=\"213.771\" r=\"14\" fill=\"#0096ff\" fill-rule=\"evenodd\" fill-opacity=\"1\" stroke=\"#adb2b7\" stroke-opacity=\"1\" stroke-width=\"3.2\"/>\n",
       "<circle clip-path=\"url(#clip722)\" cx=\"2133.06\" cy=\"194.505\" r=\"14\" fill=\"#0096ff\" fill-rule=\"evenodd\" fill-opacity=\"1\" stroke=\"#adb2b7\" stroke-opacity=\"1\" stroke-width=\"3.2\"/>\n",
       "<circle clip-path=\"url(#clip722)\" cx=\"2191.19\" cy=\"679.578\" r=\"14\" fill=\"#0096ff\" fill-rule=\"evenodd\" fill-opacity=\"1\" stroke=\"#adb2b7\" stroke-opacity=\"1\" stroke-width=\"3.2\"/>\n",
       "<circle clip-path=\"url(#clip722)\" cx=\"1559.3\" cy=\"642.36\" r=\"14\" fill=\"#0096ff\" fill-rule=\"evenodd\" fill-opacity=\"1\" stroke=\"#adb2b7\" stroke-opacity=\"1\" stroke-width=\"3.2\"/>\n",
       "<circle clip-path=\"url(#clip722)\" cx=\"1654.08\" cy=\"506.526\" r=\"14\" fill=\"#0096ff\" fill-rule=\"evenodd\" fill-opacity=\"1\" stroke=\"#adb2b7\" stroke-opacity=\"1\" stroke-width=\"3.2\"/>\n",
       "<circle clip-path=\"url(#clip722)\" cx=\"1604.02\" cy=\"621.856\" r=\"14\" fill=\"#0096ff\" fill-rule=\"evenodd\" fill-opacity=\"1\" stroke=\"#adb2b7\" stroke-opacity=\"1\" stroke-width=\"3.2\"/>\n",
       "<circle clip-path=\"url(#clip722)\" cx=\"1925.81\" cy=\"470\" r=\"14\" fill=\"#0096ff\" fill-rule=\"evenodd\" fill-opacity=\"1\" stroke=\"#adb2b7\" stroke-opacity=\"1\" stroke-width=\"3.2\"/>\n",
       "<circle clip-path=\"url(#clip722)\" cx=\"1992.73\" cy=\"126.734\" r=\"14\" fill=\"#0096ff\" fill-rule=\"evenodd\" fill-opacity=\"1\" stroke=\"#adb2b7\" stroke-opacity=\"1\" stroke-width=\"3.2\"/>\n",
       "<circle clip-path=\"url(#clip722)\" cx=\"1375.91\" cy=\"430.09\" r=\"14\" fill=\"#0096ff\" fill-rule=\"evenodd\" fill-opacity=\"1\" stroke=\"#adb2b7\" stroke-opacity=\"1\" stroke-width=\"3.2\"/>\n",
       "<circle clip-path=\"url(#clip722)\" cx=\"1429.59\" cy=\"548.478\" r=\"14\" fill=\"#0096ff\" fill-rule=\"evenodd\" fill-opacity=\"1\" stroke=\"#adb2b7\" stroke-opacity=\"1\" stroke-width=\"3.2\"/>\n",
       "<circle clip-path=\"url(#clip722)\" cx=\"2290.39\" cy=\"693.348\" r=\"14\" fill=\"#0096ff\" fill-rule=\"evenodd\" fill-opacity=\"1\" stroke=\"#adb2b7\" stroke-opacity=\"1\" stroke-width=\"3.2\"/>\n",
       "<circle clip-path=\"url(#clip722)\" cx=\"1990.61\" cy=\"672.254\" r=\"14\" fill=\"#0096ff\" fill-rule=\"evenodd\" fill-opacity=\"1\" stroke=\"#adb2b7\" stroke-opacity=\"1\" stroke-width=\"3.2\"/>\n",
       "<circle clip-path=\"url(#clip722)\" cx=\"1474.12\" cy=\"394.816\" r=\"14\" fill=\"#0096ff\" fill-rule=\"evenodd\" fill-opacity=\"1\" stroke=\"#adb2b7\" stroke-opacity=\"1\" stroke-width=\"3.2\"/>\n",
       "<circle clip-path=\"url(#clip722)\" cx=\"1632.23\" cy=\"249.46\" r=\"14\" fill=\"#0096ff\" fill-rule=\"evenodd\" fill-opacity=\"1\" stroke=\"#adb2b7\" stroke-opacity=\"1\" stroke-width=\"3.2\"/>\n",
       "<circle clip-path=\"url(#clip722)\" cx=\"1995.42\" cy=\"516.307\" r=\"14\" fill=\"#0096ff\" fill-rule=\"evenodd\" fill-opacity=\"1\" stroke=\"#adb2b7\" stroke-opacity=\"1\" stroke-width=\"3.2\"/>\n",
       "<circle clip-path=\"url(#clip722)\" cx=\"1420.13\" cy=\"423.777\" r=\"14\" fill=\"#0096ff\" fill-rule=\"evenodd\" fill-opacity=\"1\" stroke=\"#adb2b7\" stroke-opacity=\"1\" stroke-width=\"3.2\"/>\n",
       "<circle clip-path=\"url(#clip722)\" cx=\"2180.13\" cy=\"161.262\" r=\"14\" fill=\"#0096ff\" fill-rule=\"evenodd\" fill-opacity=\"1\" stroke=\"#adb2b7\" stroke-opacity=\"1\" stroke-width=\"3.2\"/>\n",
       "<circle clip-path=\"url(#clip722)\" cx=\"228.427\" cy=\"1057.21\" r=\"14\" fill=\"#0096ff\" fill-rule=\"evenodd\" fill-opacity=\"1\" stroke=\"#adb2b7\" stroke-opacity=\"1\" stroke-width=\"3.2\"/>\n",
       "<circle clip-path=\"url(#clip722)\" cx=\"858.871\" cy=\"1206.54\" r=\"14\" fill=\"#0096ff\" fill-rule=\"evenodd\" fill-opacity=\"1\" stroke=\"#adb2b7\" stroke-opacity=\"1\" stroke-width=\"3.2\"/>\n",
       "<circle clip-path=\"url(#clip722)\" cx=\"536.675\" cy=\"1130.34\" r=\"14\" fill=\"#0096ff\" fill-rule=\"evenodd\" fill-opacity=\"1\" stroke=\"#adb2b7\" stroke-opacity=\"1\" stroke-width=\"3.2\"/>\n",
       "<circle clip-path=\"url(#clip722)\" cx=\"476.121\" cy=\"1076.74\" r=\"14\" fill=\"#0096ff\" fill-rule=\"evenodd\" fill-opacity=\"1\" stroke=\"#adb2b7\" stroke-opacity=\"1\" stroke-width=\"3.2\"/>\n",
       "<circle clip-path=\"url(#clip722)\" cx=\"543.894\" cy=\"1187.34\" r=\"14\" fill=\"#0096ff\" fill-rule=\"evenodd\" fill-opacity=\"1\" stroke=\"#adb2b7\" stroke-opacity=\"1\" stroke-width=\"3.2\"/>\n",
       "<circle clip-path=\"url(#clip722)\" cx=\"329.19\" cy=\"1403.29\" r=\"14\" fill=\"#0096ff\" fill-rule=\"evenodd\" fill-opacity=\"1\" stroke=\"#adb2b7\" stroke-opacity=\"1\" stroke-width=\"3.2\"/>\n",
       "<circle clip-path=\"url(#clip722)\" cx=\"326.117\" cy=\"1331.27\" r=\"14\" fill=\"#0096ff\" fill-rule=\"evenodd\" fill-opacity=\"1\" stroke=\"#adb2b7\" stroke-opacity=\"1\" stroke-width=\"3.2\"/>\n",
       "<circle clip-path=\"url(#clip722)\" cx=\"457.677\" cy=\"1098.89\" r=\"14\" fill=\"#0096ff\" fill-rule=\"evenodd\" fill-opacity=\"1\" stroke=\"#adb2b7\" stroke-opacity=\"1\" stroke-width=\"3.2\"/>\n",
       "<circle clip-path=\"url(#clip722)\" cx=\"575.198\" cy=\"1319.48\" r=\"14\" fill=\"#0096ff\" fill-rule=\"evenodd\" fill-opacity=\"1\" stroke=\"#adb2b7\" stroke-opacity=\"1\" stroke-width=\"3.2\"/>\n",
       "<circle clip-path=\"url(#clip722)\" cx=\"666.639\" cy=\"1230.81\" r=\"14\" fill=\"#0096ff\" fill-rule=\"evenodd\" fill-opacity=\"1\" stroke=\"#adb2b7\" stroke-opacity=\"1\" stroke-width=\"3.2\"/>\n",
       "<circle clip-path=\"url(#clip722)\" cx=\"820.641\" cy=\"1327.77\" r=\"14\" fill=\"#0096ff\" fill-rule=\"evenodd\" fill-opacity=\"1\" stroke=\"#adb2b7\" stroke-opacity=\"1\" stroke-width=\"3.2\"/>\n",
       "<circle clip-path=\"url(#clip722)\" cx=\"682.202\" cy=\"878.907\" r=\"14\" fill=\"#0096ff\" fill-rule=\"evenodd\" fill-opacity=\"1\" stroke=\"#adb2b7\" stroke-opacity=\"1\" stroke-width=\"3.2\"/>\n",
       "<circle clip-path=\"url(#clip722)\" cx=\"435.743\" cy=\"944.069\" r=\"14\" fill=\"#0096ff\" fill-rule=\"evenodd\" fill-opacity=\"1\" stroke=\"#adb2b7\" stroke-opacity=\"1\" stroke-width=\"3.2\"/>\n",
       "<circle clip-path=\"url(#clip722)\" cx=\"759.446\" cy=\"1392.75\" r=\"14\" fill=\"#0096ff\" fill-rule=\"evenodd\" fill-opacity=\"1\" stroke=\"#adb2b7\" stroke-opacity=\"1\" stroke-width=\"3.2\"/>\n",
       "<circle clip-path=\"url(#clip722)\" cx=\"466.437\" cy=\"1063\" r=\"14\" fill=\"#0096ff\" fill-rule=\"evenodd\" fill-opacity=\"1\" stroke=\"#adb2b7\" stroke-opacity=\"1\" stroke-width=\"3.2\"/>\n",
       "<circle clip-path=\"url(#clip722)\" cx=\"462.684\" cy=\"1372.16\" r=\"14\" fill=\"#0096ff\" fill-rule=\"evenodd\" fill-opacity=\"1\" stroke=\"#adb2b7\" stroke-opacity=\"1\" stroke-width=\"3.2\"/>\n",
       "<circle clip-path=\"url(#clip722)\" cx=\"781.334\" cy=\"976.162\" r=\"14\" fill=\"#0096ff\" fill-rule=\"evenodd\" fill-opacity=\"1\" stroke=\"#adb2b7\" stroke-opacity=\"1\" stroke-width=\"3.2\"/>\n",
       "<circle clip-path=\"url(#clip722)\" cx=\"825.906\" cy=\"918.198\" r=\"14\" fill=\"#0096ff\" fill-rule=\"evenodd\" fill-opacity=\"1\" stroke=\"#adb2b7\" stroke-opacity=\"1\" stroke-width=\"3.2\"/>\n",
       "<circle clip-path=\"url(#clip722)\" cx=\"912.194\" cy=\"1429.53\" r=\"14\" fill=\"#0096ff\" fill-rule=\"evenodd\" fill-opacity=\"1\" stroke=\"#adb2b7\" stroke-opacity=\"1\" stroke-width=\"3.2\"/>\n",
       "<circle clip-path=\"url(#clip722)\" cx=\"219.335\" cy=\"966.784\" r=\"14\" fill=\"#0096ff\" fill-rule=\"evenodd\" fill-opacity=\"1\" stroke=\"#adb2b7\" stroke-opacity=\"1\" stroke-width=\"3.2\"/>\n",
       "<circle clip-path=\"url(#clip722)\" cx=\"1782.25\" cy=\"1274.56\" r=\"14\" fill=\"#fe4365\" fill-rule=\"evenodd\" fill-opacity=\"1\" stroke=\"#adb2b7\" stroke-opacity=\"1\" stroke-width=\"3.2\"/>\n",
       "<circle clip-path=\"url(#clip722)\" cx=\"1498.46\" cy=\"1076.36\" r=\"14\" fill=\"#fe4365\" fill-rule=\"evenodd\" fill-opacity=\"1\" stroke=\"#adb2b7\" stroke-opacity=\"1\" stroke-width=\"3.2\"/>\n",
       "<circle clip-path=\"url(#clip722)\" cx=\"1953.28\" cy=\"1018.95\" r=\"14\" fill=\"#fe4365\" fill-rule=\"evenodd\" fill-opacity=\"1\" stroke=\"#adb2b7\" stroke-opacity=\"1\" stroke-width=\"3.2\"/>\n",
       "<circle clip-path=\"url(#clip722)\" cx=\"1611.96\" cy=\"1140.62\" r=\"14\" fill=\"#fe4365\" fill-rule=\"evenodd\" fill-opacity=\"1\" stroke=\"#adb2b7\" stroke-opacity=\"1\" stroke-width=\"3.2\"/>\n",
       "<circle clip-path=\"url(#clip722)\" cx=\"1847.56\" cy=\"1162.7\" r=\"14\" fill=\"#fe4365\" fill-rule=\"evenodd\" fill-opacity=\"1\" stroke=\"#adb2b7\" stroke-opacity=\"1\" stroke-width=\"3.2\"/>\n",
       "<circle clip-path=\"url(#clip722)\" cx=\"1456.28\" cy=\"1076.41\" r=\"14\" fill=\"#fe4365\" fill-rule=\"evenodd\" fill-opacity=\"1\" stroke=\"#adb2b7\" stroke-opacity=\"1\" stroke-width=\"3.2\"/>\n",
       "<circle clip-path=\"url(#clip722)\" cx=\"1873.04\" cy=\"1335.23\" r=\"14\" fill=\"#fe4365\" fill-rule=\"evenodd\" fill-opacity=\"1\" stroke=\"#adb2b7\" stroke-opacity=\"1\" stroke-width=\"3.2\"/>\n",
       "<circle clip-path=\"url(#clip722)\" cx=\"1622.07\" cy=\"929.395\" r=\"14\" fill=\"#fe4365\" fill-rule=\"evenodd\" fill-opacity=\"1\" stroke=\"#adb2b7\" stroke-opacity=\"1\" stroke-width=\"3.2\"/>\n",
       "<circle clip-path=\"url(#clip722)\" cx=\"1471.81\" cy=\"867.144\" r=\"14\" fill=\"#fe4365\" fill-rule=\"evenodd\" fill-opacity=\"1\" stroke=\"#adb2b7\" stroke-opacity=\"1\" stroke-width=\"3.2\"/>\n",
       "<circle clip-path=\"url(#clip722)\" cx=\"2172.06\" cy=\"963.929\" r=\"14\" fill=\"#fe4365\" fill-rule=\"evenodd\" fill-opacity=\"1\" stroke=\"#adb2b7\" stroke-opacity=\"1\" stroke-width=\"3.2\"/>\n",
       "<circle clip-path=\"url(#clip722)\" cx=\"1977.79\" cy=\"1165.45\" r=\"14\" fill=\"#fe4365\" fill-rule=\"evenodd\" fill-opacity=\"1\" stroke=\"#adb2b7\" stroke-opacity=\"1\" stroke-width=\"3.2\"/>\n",
       "<circle clip-path=\"url(#clip722)\" cx=\"1692.03\" cy=\"1395.29\" r=\"14\" fill=\"#fe4365\" fill-rule=\"evenodd\" fill-opacity=\"1\" stroke=\"#adb2b7\" stroke-opacity=\"1\" stroke-width=\"3.2\"/>\n",
       "<circle clip-path=\"url(#clip722)\" cx=\"1474.61\" cy=\"1005.4\" r=\"14\" fill=\"#fe4365\" fill-rule=\"evenodd\" fill-opacity=\"1\" stroke=\"#adb2b7\" stroke-opacity=\"1\" stroke-width=\"3.2\"/>\n",
       "<circle clip-path=\"url(#clip722)\" cx=\"2122.39\" cy=\"848.386\" r=\"14\" fill=\"#fe4365\" fill-rule=\"evenodd\" fill-opacity=\"1\" stroke=\"#adb2b7\" stroke-opacity=\"1\" stroke-width=\"3.2\"/>\n",
       "<circle clip-path=\"url(#clip722)\" cx=\"2175.62\" cy=\"1190.75\" r=\"14\" fill=\"#fe4365\" fill-rule=\"evenodd\" fill-opacity=\"1\" stroke=\"#adb2b7\" stroke-opacity=\"1\" stroke-width=\"3.2\"/>\n",
       "<circle clip-path=\"url(#clip722)\" cx=\"1450.31\" cy=\"1165.54\" r=\"14\" fill=\"#fe4365\" fill-rule=\"evenodd\" fill-opacity=\"1\" stroke=\"#adb2b7\" stroke-opacity=\"1\" stroke-width=\"3.2\"/>\n",
       "<circle clip-path=\"url(#clip722)\" cx=\"1739.11\" cy=\"930.716\" r=\"14\" fill=\"#fe4365\" fill-rule=\"evenodd\" fill-opacity=\"1\" stroke=\"#adb2b7\" stroke-opacity=\"1\" stroke-width=\"3.2\"/>\n",
       "<circle clip-path=\"url(#clip722)\" cx=\"1684.98\" cy=\"1109.63\" r=\"14\" fill=\"#fe4365\" fill-rule=\"evenodd\" fill-opacity=\"1\" stroke=\"#adb2b7\" stroke-opacity=\"1\" stroke-width=\"3.2\"/>\n",
       "<circle clip-path=\"url(#clip722)\" cx=\"2088.6\" cy=\"956.293\" r=\"14\" fill=\"#fe4365\" fill-rule=\"evenodd\" fill-opacity=\"1\" stroke=\"#adb2b7\" stroke-opacity=\"1\" stroke-width=\"3.2\"/>\n",
       "<circle clip-path=\"url(#clip722)\" cx=\"1622.15\" cy=\"1445.72\" r=\"14\" fill=\"#fe4365\" fill-rule=\"evenodd\" fill-opacity=\"1\" stroke=\"#adb2b7\" stroke-opacity=\"1\" stroke-width=\"3.2\"/>\n",
       "<circle clip-path=\"url(#clip722)\" cx=\"526.127\" cy=\"185.062\" r=\"14\" fill=\"#fe4365\" fill-rule=\"evenodd\" fill-opacity=\"1\" stroke=\"#adb2b7\" stroke-opacity=\"1\" stroke-width=\"3.2\"/>\n",
       "<circle clip-path=\"url(#clip722)\" cx=\"312.166\" cy=\"430.467\" r=\"14\" fill=\"#fe4365\" fill-rule=\"evenodd\" fill-opacity=\"1\" stroke=\"#adb2b7\" stroke-opacity=\"1\" stroke-width=\"3.2\"/>\n",
       "<circle clip-path=\"url(#clip722)\" cx=\"474.45\" cy=\"275.361\" r=\"14\" fill=\"#fe4365\" fill-rule=\"evenodd\" fill-opacity=\"1\" stroke=\"#adb2b7\" stroke-opacity=\"1\" stroke-width=\"3.2\"/>\n",
       "<circle clip-path=\"url(#clip722)\" cx=\"371.731\" cy=\"471.188\" r=\"14\" fill=\"#fe4365\" fill-rule=\"evenodd\" fill-opacity=\"1\" stroke=\"#adb2b7\" stroke-opacity=\"1\" stroke-width=\"3.2\"/>\n",
       "<circle clip-path=\"url(#clip722)\" cx=\"1038.07\" cy=\"518.892\" r=\"14\" fill=\"#fe4365\" fill-rule=\"evenodd\" fill-opacity=\"1\" stroke=\"#adb2b7\" stroke-opacity=\"1\" stroke-width=\"3.2\"/>\n",
       "<circle clip-path=\"url(#clip722)\" cx=\"249.225\" cy=\"271.457\" r=\"14\" fill=\"#fe4365\" fill-rule=\"evenodd\" fill-opacity=\"1\" stroke=\"#adb2b7\" stroke-opacity=\"1\" stroke-width=\"3.2\"/>\n",
       "<circle clip-path=\"url(#clip722)\" cx=\"211.556\" cy=\"495.784\" r=\"14\" fill=\"#fe4365\" fill-rule=\"evenodd\" fill-opacity=\"1\" stroke=\"#adb2b7\" stroke-opacity=\"1\" stroke-width=\"3.2\"/>\n",
       "<circle clip-path=\"url(#clip722)\" cx=\"729.558\" cy=\"444.793\" r=\"14\" fill=\"#fe4365\" fill-rule=\"evenodd\" fill-opacity=\"1\" stroke=\"#adb2b7\" stroke-opacity=\"1\" stroke-width=\"3.2\"/>\n",
       "<circle clip-path=\"url(#clip722)\" cx=\"762.683\" cy=\"328.585\" r=\"14\" fill=\"#fe4365\" fill-rule=\"evenodd\" fill-opacity=\"1\" stroke=\"#adb2b7\" stroke-opacity=\"1\" stroke-width=\"3.2\"/>\n",
       "<circle clip-path=\"url(#clip722)\" cx=\"477.26\" cy=\"673.281\" r=\"14\" fill=\"#fe4365\" fill-rule=\"evenodd\" fill-opacity=\"1\" stroke=\"#adb2b7\" stroke-opacity=\"1\" stroke-width=\"3.2\"/>\n",
       "<circle clip-path=\"url(#clip722)\" cx=\"667.794\" cy=\"136.247\" r=\"14\" fill=\"#fe4365\" fill-rule=\"evenodd\" fill-opacity=\"1\" stroke=\"#adb2b7\" stroke-opacity=\"1\" stroke-width=\"3.2\"/>\n",
       "<circle clip-path=\"url(#clip722)\" cx=\"580.046\" cy=\"471.149\" r=\"14\" fill=\"#fe4365\" fill-rule=\"evenodd\" fill-opacity=\"1\" stroke=\"#adb2b7\" stroke-opacity=\"1\" stroke-width=\"3.2\"/>\n",
       "<circle clip-path=\"url(#clip722)\" cx=\"325.154\" cy=\"630.965\" r=\"14\" fill=\"#fe4365\" fill-rule=\"evenodd\" fill-opacity=\"1\" stroke=\"#adb2b7\" stroke-opacity=\"1\" stroke-width=\"3.2\"/>\n",
       "<circle clip-path=\"url(#clip722)\" cx=\"809.293\" cy=\"287.567\" r=\"14\" fill=\"#fe4365\" fill-rule=\"evenodd\" fill-opacity=\"1\" stroke=\"#adb2b7\" stroke-opacity=\"1\" stroke-width=\"3.2\"/>\n",
       "<circle clip-path=\"url(#clip722)\" cx=\"1149.11\" cy=\"614.052\" r=\"14\" fill=\"#fe4365\" fill-rule=\"evenodd\" fill-opacity=\"1\" stroke=\"#adb2b7\" stroke-opacity=\"1\" stroke-width=\"3.2\"/>\n",
       "<circle clip-path=\"url(#clip722)\" cx=\"662.639\" cy=\"650.507\" r=\"14\" fill=\"#fe4365\" fill-rule=\"evenodd\" fill-opacity=\"1\" stroke=\"#adb2b7\" stroke-opacity=\"1\" stroke-width=\"3.2\"/>\n",
       "<circle clip-path=\"url(#clip722)\" cx=\"816.27\" cy=\"411.021\" r=\"14\" fill=\"#fe4365\" fill-rule=\"evenodd\" fill-opacity=\"1\" stroke=\"#adb2b7\" stroke-opacity=\"1\" stroke-width=\"3.2\"/>\n",
       "<circle clip-path=\"url(#clip722)\" cx=\"990.895\" cy=\"87.9763\" r=\"14\" fill=\"#fe4365\" fill-rule=\"evenodd\" fill-opacity=\"1\" stroke=\"#adb2b7\" stroke-opacity=\"1\" stroke-width=\"3.2\"/>\n",
       "<circle clip-path=\"url(#clip722)\" cx=\"585.552\" cy=\"481.32\" r=\"14\" fill=\"#fe4365\" fill-rule=\"evenodd\" fill-opacity=\"1\" stroke=\"#adb2b7\" stroke-opacity=\"1\" stroke-width=\"3.2\"/>\n",
       "<circle clip-path=\"url(#clip722)\" cx=\"360.37\" cy=\"598.852\" r=\"14\" fill=\"#fe4365\" fill-rule=\"evenodd\" fill-opacity=\"1\" stroke=\"#adb2b7\" stroke-opacity=\"1\" stroke-width=\"3.2\"/>\n",
       "<path clip-path=\"url(#clip720)\" d=\"\n",
       "M1982.03 250.738 L2279.3 250.738 L2279.3 95.2176 L1982.03 95.2176  Z\n",
       "  \" fill=\"#282c34\" fill-rule=\"evenodd\" fill-opacity=\"1\"/>\n",
       "<polyline clip-path=\"url(#clip720)\" style=\"stroke:#9eb1be; stroke-linecap:butt; stroke-linejoin:round; stroke-width:4; stroke-opacity:1; fill:none\" points=\"\n",
       "  1982.03,250.738 2279.3,250.738 2279.3,95.2176 1982.03,95.2176 1982.03,250.738 \n",
       "  \"/>\n",
       "<circle clip-path=\"url(#clip720)\" cx=\"2079.97\" cy=\"147.058\" r=\"23\" fill=\"#0096ff\" fill-rule=\"evenodd\" fill-opacity=\"1\" stroke=\"#adb2b7\" stroke-opacity=\"1\" stroke-width=\"5.12\"/>\n",
       "<path clip-path=\"url(#clip720)\" d=\"M2191.75 166.745 Q2189.94 171.375 2188.23 172.787 Q2186.52 174.199 2183.65 174.199 L2180.24 174.199 L2180.24 170.634 L2182.74 170.634 Q2184.5 170.634 2185.47 169.8 Q2186.45 168.967 2187.63 165.865 L2188.39 163.921 L2177.91 138.412 L2182.42 138.412 L2190.52 158.689 L2198.62 138.412 L2203.14 138.412 L2191.75 166.745 Z\" fill=\"#adb2b7\" fill-rule=\"evenodd\" fill-opacity=\"1\" /><path clip-path=\"url(#clip720)\" d=\"M2210.43 160.402 L2218.07 160.402 L2218.07 134.037 L2209.76 135.703 L2209.76 131.444 L2218.02 129.778 L2222.7 129.778 L2222.7 160.402 L2230.34 160.402 L2230.34 164.338 L2210.43 164.338 L2210.43 160.402 Z\" fill=\"#adb2b7\" fill-rule=\"evenodd\" fill-opacity=\"1\" /><circle clip-path=\"url(#clip720)\" cx=\"2079.97\" cy=\"198.898\" r=\"23\" fill=\"#fe4365\" fill-rule=\"evenodd\" fill-opacity=\"1\" stroke=\"#adb2b7\" stroke-opacity=\"1\" stroke-width=\"5.12\"/>\n",
       "<path clip-path=\"url(#clip720)\" d=\"M2191.75 218.585 Q2189.94 223.215 2188.23 224.627 Q2186.52 226.039 2183.65 226.039 L2180.24 226.039 L2180.24 222.474 L2182.74 222.474 Q2184.5 222.474 2185.47 221.64 Q2186.45 220.807 2187.63 217.705 L2188.39 215.761 L2177.91 190.252 L2182.42 190.252 L2190.52 210.529 L2198.62 190.252 L2203.14 190.252 L2191.75 218.585 Z\" fill=\"#adb2b7\" fill-rule=\"evenodd\" fill-opacity=\"1\" /><path clip-path=\"url(#clip720)\" d=\"M2213.65 212.242 L2229.97 212.242 L2229.97 216.178 L2208.02 216.178 L2208.02 212.242 Q2210.68 209.488 2215.27 204.858 Q2219.87 200.205 2221.05 198.863 Q2223.3 196.34 2224.18 194.604 Q2225.08 192.844 2225.08 191.155 Q2225.08 188.4 2223.14 186.664 Q2221.22 184.928 2218.11 184.928 Q2215.91 184.928 2213.46 185.692 Q2211.03 186.455 2208.25 188.006 L2208.25 183.284 Q2211.08 182.15 2213.53 181.571 Q2215.98 180.993 2218.02 180.993 Q2223.39 180.993 2226.59 183.678 Q2229.78 186.363 2229.78 190.854 Q2229.78 192.983 2228.97 194.905 Q2228.18 196.803 2226.08 199.395 Q2225.5 200.067 2222.4 203.284 Q2219.29 206.479 2213.65 212.242 Z\" fill=\"#adb2b7\" fill-rule=\"evenodd\" fill-opacity=\"1\" /></svg>\n"
      ]
     },
     "metadata": {},
     "output_type": "display_data"
    }
   ],
   "source": [
    "# Number of points to generate.\n",
    "N = 80\n",
    "M = round(Int, N / 4)\n",
    "Random.seed!(1234)\n",
    "\n",
    "# Generate artificial data.\n",
    "x1s = rand(M) * 4.5; x2s = rand(M) * 4.5; \n",
    "xt1s = Array([[x1s[i] + 0.5; x2s[i] + 0.5] for i = 1:M])\n",
    "x1s = rand(M) * 4.5; x2s = rand(M) * 4.5; \n",
    "append!(xt1s, Array([[x1s[i] - 5; x2s[i] - 5] for i = 1:M]))\n",
    "\n",
    "x1s = rand(M) * 4.5; x2s = rand(M) * 4.5; \n",
    "xt0s = Array([[x1s[i] + 0.5; x2s[i] - 5] for i = 1:M])\n",
    "x1s = rand(M) * 4.5; x2s = rand(M) * 4.5; \n",
    "append!(xt0s, Array([[x1s[i] - 5; x2s[i] + 0.5] for i = 1:M]))\n",
    "\n",
    "# Store all the data for later.\n",
    "xs = [xt1s; xt0s]\n",
    "X = reshape(hcat(map(x -> x[1], xs), map(x -> x[2], xs)), (2,80))\n",
    "ts = [ones(2*M); zeros(2*M)]\n",
    "\n",
    "# Plot data points.\n",
    "function plot_data()\n",
    "    x1 = map(e -> e[1], xt1s)\n",
    "    y1 = map(e -> e[2], xt1s)\n",
    "    x2 = map(e -> e[1], xt0s)\n",
    "    y2 = map(e -> e[2], xt0s)\n",
    "\n",
    "    Plots.scatter(x1,y1, color=0, clim = (0,1))\n",
    "    Plots.scatter!(x2,y2, color=1, clim = (0,1))\n",
    "end\n",
    "\n",
    "plot_data()"
   ]
  },
  {
   "cell_type": "code",
   "execution_count": 18,
   "metadata": {},
   "outputs": [
    {
     "data": {
      "text/plain": [
       "Chain(Dense(2, 32, σ), Dense(32, 1))"
      ]
     },
     "metadata": {},
     "output_type": "display_data"
    }
   ],
   "source": [
    "function build_nn(;input_dim=2,n_hidden=32,output_dim=1)\n",
    "    \n",
    "    # Params:\n",
    "    W₁ = input_dim\n",
    "    b₁ = n_hidden\n",
    "    W₀ = n_hidden\n",
    "    b₀ = output_dim\n",
    "    \n",
    "    nn = Chain(\n",
    "        Dense(W₁, b₁, σ),\n",
    "        Dense(W₀, b₀))  \n",
    "\n",
    "    return nn\n",
    "\n",
    "end\n",
    "nn = build_nn()"
   ]
  },
  {
   "cell_type": "code",
   "execution_count": 19,
   "metadata": {},
   "outputs": [
    {
     "data": {
      "text/plain": [
       "1×80 Matrix{Float64}:\n",
       " 1.64944  1.64684  1.69388  1.54104  …  1.52938  1.50875  1.61062  1.57855"
      ]
     },
     "metadata": {},
     "output_type": "display_data"
    }
   ],
   "source": [
    "nn(X)"
   ]
  },
  {
   "cell_type": "code",
   "execution_count": 20,
   "metadata": {},
   "outputs": [
    {
     "data": {
      "text/plain": [
       "Params([Float32[-0.3548387 0.25249097; 0.110254146 0.28800523; … ; -0.41406566 -0.15154399; 0.04102333 0.41145942], Float32[0.0, 0.0, 0.0, 0.0, 0.0, 0.0, 0.0, 0.0, 0.0, 0.0  …  0.0, 0.0, 0.0, 0.0, 0.0, 0.0, 0.0, 0.0, 0.0, 0.0], Float32[-0.06597835 0.3264578 … -0.18607129 0.16409278], Float32[0.0]])"
      ]
     },
     "metadata": {},
     "output_type": "display_data"
    }
   ],
   "source": [
    "loss(x, y) = Flux.Losses.logitbinarycrossentropy(nn(x), y)\n",
    "ps = Flux.params(nn)"
   ]
  },
  {
   "cell_type": "code",
   "execution_count": 26,
   "metadata": {},
   "outputs": [
    {
     "data": {
      "text/plain": [
       "zip([[3.158800873995696, 4.777242832198855], [3.9505866642601664, 4.841013993719404], [3.0480683742778365, 4.755989323633605], [2.570384041081327, 4.054566571776309], [4.073115696493074, 4.195221891567315], [4.343659656705726, 0.6537204882024673], [1.4026371572022849, 0.9254502025880138], [1.8437642525453533, 1.9171680076399287], [1.6107673397450404, 1.0751445450215988], [3.1085250501606874, 2.183840216739833]  …  [-2.7467376128259584, 4.620563630454958], [-3.1551443704099023, 2.175455066999692], [-4.341500800236956, 1.008643355283404], [-2.0881502309239934, 3.5157833885107457], [-0.5065422759720368, 1.1321272713701434], [-2.7707280197780535, 0.8659694914362743], [-2.0556798361596385, 2.6144500379249975], [-1.2429117104575864, 4.97298670264245], [-3.1295196296580343, 2.101200411422793], [-4.177595688278877, 1.2430962187092964]], [1.0, 1.0, 1.0, 1.0, 1.0, 1.0, 1.0, 1.0, 1.0, 1.0  …  0.0, 0.0, 0.0, 0.0, 0.0, 0.0, 0.0, 0.0, 0.0, 0.0])"
      ]
     },
     "metadata": {},
     "output_type": "display_data"
    }
   ],
   "source": [
    "data = zip(xs,ts)\n",
    "data"
   ]
  },
  {
   "cell_type": "code",
   "execution_count": null,
   "metadata": {},
   "outputs": [],
   "source": []
  },
  {
   "cell_type": "code",
   "execution_count": 27,
   "metadata": {},
   "outputs": [
    {
     "name": "stderr",
     "output_type": "stream",
     "text": [
      "┌ Info: Epoch 1\n",
      "└ @ Main /Users/FA31DU/.julia/packages/Flux/qp1gc/src/optimise/train.jl:135\n",
      "┌ Info: Epoch 2\n",
      "└ @ Main /Users/FA31DU/.julia/packages/Flux/qp1gc/src/optimise/train.jl:135\n",
      "┌ Info: Epoch 3\n",
      "└ @ Main /Users/FA31DU/.julia/packages/Flux/qp1gc/src/optimise/train.jl:135\n",
      "┌ Info: Epoch 4\n",
      "└ @ Main /Users/FA31DU/.julia/packages/Flux/qp1gc/src/optimise/train.jl:135\n",
      "┌ Info: Epoch 5\n",
      "└ @ Main /Users/FA31DU/.julia/packages/Flux/qp1gc/src/optimise/train.jl:135\n",
      "┌ Info: Epoch 6\n",
      "└ @ Main /Users/FA31DU/.julia/packages/Flux/qp1gc/src/optimise/train.jl:135\n",
      "┌ Info: Epoch 7\n",
      "└ @ Main /Users/FA31DU/.julia/packages/Flux/qp1gc/src/optimise/train.jl:135\n",
      "┌ Info: Epoch 8\n",
      "└ @ Main /Users/FA31DU/.julia/packages/Flux/qp1gc/src/optimise/train.jl:135\n"
     ]
    },
    {
     "name": "stderr",
     "output_type": "stream",
     "text": [
      "┌ Info: Epoch 9\n",
      "└ @ Main /Users/FA31DU/.julia/packages/Flux/qp1gc/src/optimise/train.jl:135\n",
      "┌ Info: Epoch 10\n",
      "└ @ Main /Users/FA31DU/.julia/packages/Flux/qp1gc/src/optimise/train.jl:135\n"
     ]
    }
   ],
   "source": [
    "opt = ADAM()\n",
    "using Flux: @epochs\n",
    "@epochs 10 Flux.train!(loss, ps, data, opt)"
   ]
  },
  {
   "cell_type": "code",
   "execution_count": 29,
   "metadata": {},
   "outputs": [
    {
     "data": {
      "text/plain": [
       "1×80 Matrix{Float64}:\n",
       " 0.474975  0.475298  0.474859  0.467065  …  0.460469  0.471473  0.46766"
      ]
     },
     "metadata": {},
     "output_type": "display_data"
    }
   ],
   "source": [
    "σ.(nn(X))"
   ]
  },
  {
   "cell_type": "code",
   "execution_count": 4,
   "metadata": {},
   "outputs": [],
   "source": [
    "using AlgorithmicRecourse\n",
    "\n",
    "NeuralNet <: AlgorithmicRecourse.Models.FittedModel"
   ]
  }
 ],
 "metadata": {
  "kernelspec": {
   "display_name": "Julia 1.6.5",
   "language": "julia",
   "name": "julia-1.6"
  },
  "language_info": {
   "file_extension": ".jl",
   "mimetype": "application/julia",
   "name": "julia",
   "version": "1.6.5"
  },
  "orig_nbformat": 4
 },
 "nbformat": 4,
 "nbformat_minor": 2
}
