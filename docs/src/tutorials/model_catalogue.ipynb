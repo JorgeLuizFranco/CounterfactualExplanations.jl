{
  "cells": [
    {
      "cell_type": "markdown",
      "metadata": {},
      "source": [
        "```@meta\n",
        "CurrentModule = CounterfactualExplanations \n",
        "```\n"
      ],
      "id": "ddf2f7fc"
    },
    {
      "cell_type": "code",
      "metadata": {},
      "source": [
        "#| echo: false\n",
        "include(\"$(pwd())/docs/setup_docs.jl\")\n",
        "eval(setup_docs)"
      ],
      "id": "aa5e234a",
      "execution_count": null,
      "outputs": []
    },
    {
      "cell_type": "markdown",
      "metadata": {},
      "source": [
        "# Model Catalogue\n",
        "\n",
        "While in general it is assumed that users will use this package to explain their pre-trained models, we provide out-of-the-box functionality to train various simple default models. In this tutorial, we will see how these models can be fitted to `CounterfactualData`.\n",
        "\n",
        "## Available Models\n",
        "\n",
        "The `standard_models_catalogue` can be used to inspect the available default models: \n"
      ],
      "id": "83fb7219"
    },
    {
      "cell_type": "code",
      "metadata": {},
      "source": [
        "#| output: true\n",
        "standard_models_catalogue"
      ],
      "id": "cd6deb9c",
      "execution_count": null,
      "outputs": []
    },
    {
      "cell_type": "markdown",
      "metadata": {},
      "source": [
        "As with the [`data_catalogue`](@ref), the dictionary keys correspond to the model names. In this case, the dictionary values are constructors that can be used called on instances of type `CounterfactualData` to fit the corresponding model. In most cases, users will find it most convenient to use the [`fit_model`](@ref) API call instead.\n",
        "\n",
        "## Fitting Models\n",
        "\n",
        "Models from the standard model catalogue are a core part of the package and thus compatible with all offered counterfactual generators and functionalities.\n",
        "\n",
        "The `all_models_catalogue` can be used to inspect all models offered by the package:\n"
      ],
      "id": "5b06ec88"
    },
    {
      "cell_type": "code",
      "metadata": {},
      "source": [
        "all_models_catalogue"
      ],
      "id": "48bcde18",
      "execution_count": null,
      "outputs": []
    },
    {
      "cell_type": "markdown",
      "metadata": {},
      "source": [
        "However, when using models not included in the `standard_models_catalogue`, additional caution is advised: they might not be supported by all counterfactual generators or they might not be models native to Julia. Thus, a more thorough reading of their documentation may be necessary to make sure that they are used correctly.\n",
        "\n",
        "## Fitting Flux Models\n",
        "\n",
        "First, let's load one of the synthetic datasets:\n"
      ],
      "id": "bed58cc3"
    },
    {
      "cell_type": "code",
      "metadata": {},
      "source": [
        "n = 500\n",
        "counterfactual_data = load_multi_class(n)"
      ],
      "id": "bf653a34",
      "execution_count": null,
      "outputs": []
    },
    {
      "cell_type": "markdown",
      "metadata": {},
      "source": [
        "We could use a Deep Ensemble [@lakshminarayanan2016simple] as follows:\n"
      ],
      "id": "0b18da13"
    },
    {
      "cell_type": "code",
      "metadata": {},
      "source": [
        "M = fit_model(counterfactual_data, :DeepEnsemble)"
      ],
      "id": "104e1165",
      "execution_count": null,
      "outputs": []
    },
    {
      "cell_type": "markdown",
      "metadata": {},
      "source": [
        "The returned object is an instance of type `FluxEnsemble <: AbstractFittedModel` and can be used in downstream tasks without further ado. For example, the resulting fit can be visualised using the generic `plot()` method as:\n"
      ],
      "id": "31a8edf4"
    },
    {
      "cell_type": "code",
      "metadata": {},
      "source": [
        "#| output: true\n",
        "\n",
        "plts = []\n",
        "for target in counterfactual_data.y_levels\n",
        "    plt = plot(M, counterfactual_data; target=target, title=\"p(y=$(target)|x,θ)\")\n",
        "    plts = [plts..., plt]\n",
        "end\n",
        "plot(plts...)"
      ],
      "id": "38f8f9e9",
      "execution_count": null,
      "outputs": []
    },
    {
      "cell_type": "markdown",
      "metadata": {},
      "source": [
        "## Importing PyTorch models\n",
        "\n",
        "The package supports generating counterfactuals for any neural network that has been previously defined and trained using PyTorch, regardless of the specific architectural details of the model. To generate counterfactuals for a PyTorch model, save the model inside a `.pt` file and call the following function:\n",
        "\n",
        "```julia\n",
        "model_loaded = CounterfactualExplanations.Models.pytorch_model_loader(\n",
        "    \"$(pwd())/docs/src/tutorials/miscellaneous\",\n",
        "    \"neural_network_class\",\n",
        "    \"NeuralNetwork\",\n",
        "    \"$(pwd())/docs/src/tutorials/miscellaneous/pretrained_model.pt\"\n",
        ")\n",
        "```\n",
        "\n",
        "The method `pytorch_model_loader` requires four arguments:\n",
        "1. The path to the folder with a `.py` file where the PyTorch model is defined\n",
        "2. The name of the file where the PyTorch model is defined\n",
        "3. The name of the class of the PyTorch model\n",
        "4. The path to the Pickle file that holds the model weights\n",
        "\n",
        "In the above case:\n",
        "1. The file defining the model is inside `$(pwd())/docs/src/tutorials/miscellaneous`\n",
        "2. The name of the `.py` file holding the model definition is `neural_network_class`\n",
        "3. The name of the model class is NeuralNetwork\n",
        "4. The Pickle file is located at `$(pwd())/docs/src/tutorials/miscellaneous/pretrained_model.pt`\n",
        "\n",
        "Though the model file and Pickle file are inside the same directory in this tutorial, this does not necessarily have to be the case.\n",
        "\n",
        "The reason why the model file and Pickle file have to be provided separately is that the package expects an already trained PyTorch model as input. It is also possible to define new PyTorch models within the package, but since this is not the expected use of our package, special support is not offered for that. A guide for defining Python and PyTorch classes in Julia through `PythonCall.jl` can be found [here](https://cjdoris.github.io/PythonCall.jl/stable/pythoncall-reference/#Create-classes).\n",
        "\n",
        "Once the PyTorch model has been loaded into the package, wrap it inside the PyTorchModel class:\n",
        "\n",
        "```julia\n",
        "model_pytorch = CounterfactualExplanations.Models.PyTorchModel(model_loaded, counterfactual_data.likelihood)\n",
        "```\n",
        "\n",
        "This model can now be passed into the generators like any other.\n",
        "\n",
        "Please note that the functionality for generating counterfactuals for Python models is only available if your Julia version is 1.8 or above. For Julia 1.7 users, we recommend upgrading the version to 1.8 or 1.9 before loading a PyTorch model into the package.\n",
        "\n",
        "## Importing R torch models\n",
        "\n",
        "| !!! warning \\\"Not fully tested\\\"\n",
        "|     Please note that due to the incompatibility between RCall and PythonCall, it is not feasible to test both PyTorch and RTorch implementations within the same pipeline. While the RTorch implementation has been manually tested, we cannot ensure its consistent functionality as it is inherently susceptible to bugs.\n",
        "\n",
        "The CounterfactualExplanations package supports generating counterfactuals for neural networks that have been defined and trained using R torch. Regardless of the specific architectural details of the model, you can easily generate counterfactual explanations by following these steps.\n",
        "\n",
        "### Saving the R torch model\n",
        "\n",
        "First, save your trained R torch model as a `.pt` file using the `torch_save()` function provided by the R torch library. This function allows you to serialize the model and save it to a file. For example:\n",
        "\n",
        "```R\n",
        "torch_save(model, file = \"$(pwd())/docs/src/tutorials/miscellaneous/r_model.pt\")\n",
        "```\n",
        "\n",
        "Make sure to specify the correct file path where you want to save the model.\n",
        "\n",
        "### Loading the R torch model\n",
        "\n",
        "To import the R torch model into the CounterfactualExplanations package, use the `rtorch_model_loader()` function. This function loads the model from the previously saved `.pt` file. Here is an example of how to load the R torch model:\n",
        "\n",
        "```julia\n",
        "model_loaded = CounterfactualExplanations.Models.rtorch_model_loader(\"$(pwd())/docs/src/tutorials/miscellaneous/r_model.pt\")\n",
        "```\n",
        "\n",
        "The `rtorch_model_loader()` function requires only one argument:\n",
        "1. `model_path`: The path to the `.pt` file that contains the trained R torch model.\n",
        "\n",
        "### Wrapping the R torch model\n",
        "\n",
        "Once the R torch model has been loaded into the package, wrap it inside the `RTorchModel` class. This step prepares the model to be used by the counterfactual generators. Here is an example:\n",
        "\n",
        "```julia\n",
        "model_R = CounterfactualExplanations.Models.RTorchModel(model_loaded, counterfactual_data.likelihood)\n",
        "```\n",
        "\n",
        "### Generating counterfactuals with the R torch model\n",
        "\n",
        "Now that the R torch model has been wrapped inside the `RTorchModel` class, you can pass it into the counterfactual generators as you would with any other model.\n",
        "\n",
        "Please note that RCall is not fully compatible with PythonCall. Therefore, it is advisable not to import both R torch and PyTorch models within the same Julia session. Additionally, it's worth mentioning that the R torch integration is still untested in the CounterfactualExplanations package.\n",
        "\n",
        "## Tuning Flux Models\n",
        "\n",
        "By default, model architectures are very simple. Through optional arguments, users have some control over the neural network architecture and can choose to impose regularization through dropout. Let's tackle a more challenging dataset: MNIST [@lecun1998mnist]. \n"
      ],
      "id": "ed8f9afd"
    },
    {
      "cell_type": "code",
      "metadata": {},
      "source": [
        "counterfactual_data = load_mnist(10000)\n",
        "train_data, test_data = \n",
        "    CounterfactualExplanations.DataPreprocessing.train_test_split(counterfactual_data)"
      ],
      "id": "ad9446e2",
      "execution_count": null,
      "outputs": []
    },
    {
      "cell_type": "code",
      "metadata": {},
      "source": [
        "#| echo: false\n",
        "#| output: true\n",
        "\n",
        "img_size = 200\n",
        "n_images = 5\n",
        "input_dim = size(train_data.X, 1)\n",
        "plts = []\n",
        "for i in 1:n_images\n",
        "    x = counterfactual_data.X[:,rand(1:end)]\n",
        "    img = convert2image(MNIST, reshape(x,Int(√(input_dim)),Int(√(input_dim))))\n",
        "    plt = plot(img, axis=nothing)\n",
        "    plts = [plts..., plt]\n",
        "end\n",
        "plot(plts..., size=(n_images * img_size, img_size), layout=(1, n_images))"
      ],
      "id": "7c7eefaf",
      "execution_count": null,
      "outputs": []
    },
    {
      "cell_type": "markdown",
      "metadata": {},
      "source": [
        "In this case, we will use a Multi-Layer Perceptron (MLP) but we will adjust the model and training hyperparameters. Parameters related to training of `Flux.jl` models are currently stored in a mutable container:\n"
      ],
      "id": "28b17e8b"
    },
    {
      "cell_type": "code",
      "metadata": {},
      "source": [
        "#| output: true\n",
        "\n",
        "flux_training_params"
      ],
      "id": "09869f74",
      "execution_count": null,
      "outputs": []
    },
    {
      "cell_type": "markdown",
      "metadata": {},
      "source": [
        "In cases like this one, where model training can be expected to take a few moments, it can be useful to activate verbosity, so let's set the corresponding field value to `true`. We'll also impose mini-batch training:\n"
      ],
      "id": "9496b9ef"
    },
    {
      "cell_type": "code",
      "metadata": {},
      "source": [
        "flux_training_params.verbose = true\n",
        "flux_training_params.batchsize = round(size(train_data.X,2)/10)"
      ],
      "id": "ad1a61b4",
      "execution_count": null,
      "outputs": []
    },
    {
      "cell_type": "markdown",
      "metadata": {},
      "source": [
        "To account for the fact that this is a slightly more challenging task, we will use an appropriate number of hidden neurons per layer. We will also activate dropout regularization. To scale networks up further, it is also possible to adjust the number of hidden layers, which we will not do here.\n"
      ],
      "id": "c86055be"
    },
    {
      "cell_type": "code",
      "metadata": {},
      "source": [
        "model_params = (\n",
        "    n_hidden = 32,\n",
        "    dropout = true\n",
        ")"
      ],
      "id": "6957a663",
      "execution_count": null,
      "outputs": []
    },
    {
      "cell_type": "markdown",
      "metadata": {},
      "source": [
        "The `model_params` can be supplied to the familiar API call:\n"
      ],
      "id": "fa07a80f"
    },
    {
      "cell_type": "code",
      "metadata": {},
      "source": [
        "#| output: true\n",
        "M = fit_model(train_data, :MLP; model_params...)"
      ],
      "id": "cf5d7f6b",
      "execution_count": null,
      "outputs": []
    },
    {
      "cell_type": "markdown",
      "metadata": {},
      "source": [
        "The model performance on our test set can be evaluated as follows:\n"
      ],
      "id": "7440df8d"
    },
    {
      "cell_type": "code",
      "metadata": {},
      "source": [
        "#| output: true\n",
        "model_evaluation(M, test_data)"
      ],
      "id": "cb901407",
      "execution_count": null,
      "outputs": []
    },
    {
      "cell_type": "markdown",
      "metadata": {},
      "source": [
        "Finally, let's restore the default training parameters:\n"
      ],
      "id": "553374e6"
    },
    {
      "cell_type": "code",
      "metadata": {},
      "source": [
        "CounterfactualExplanations.reset!(flux_training_params)"
      ],
      "id": "41bbaaef",
      "execution_count": null,
      "outputs": []
    },
    {
      "cell_type": "markdown",
      "metadata": {},
      "source": [
        "## Fitting and tuning MLJ models\n",
        "\n",
        "Among models from the MLJ library, three models are supported as of now:\n"
      ],
      "id": "95761795"
    },
    {
      "cell_type": "code",
      "metadata": {},
      "source": [
        "mlj_models_catalogue"
      ],
      "id": "c28fae74",
      "execution_count": null,
      "outputs": []
    },
    {
      "cell_type": "markdown",
      "metadata": {},
      "source": [
        "From these models, the `DecisionTreeModel` and the `RandomForestModel` are compatible with the Feature Tweak generator. Support for other generators has not been implemented, as both decision trees and random forests are non-differentiable tree-based models and thus, gradient-based generators don't apply for them. Support for generating counterfactuals for the `EvoTreeModel` has not been implemented yet.\n",
        "\n",
        "Tuning MLJ models is very simple. As the first step, let's reload the dataset:\n"
      ],
      "id": "e95065da"
    },
    {
      "cell_type": "code",
      "metadata": {},
      "source": [
        "n = 500\n",
        "counterfactual_data = CounterfactualExplanations.Data.load_moons(n)"
      ],
      "id": "d1b73a5f",
      "execution_count": null,
      "outputs": []
    },
    {
      "cell_type": "markdown",
      "metadata": {},
      "source": [
        "Using the usual procedure for fitting models, we can call the following method:\n"
      ],
      "id": "fe444f17"
    },
    {
      "cell_type": "code",
      "metadata": {},
      "source": [
        "tree = CounterfactualExplanations.Models.fit_model(counterfactual_data, :DecisionTree)"
      ],
      "id": "1dda99ab",
      "execution_count": null,
      "outputs": []
    },
    {
      "cell_type": "markdown",
      "metadata": {},
      "source": [
        "However, it's also possible to tune the DecisionTreeClassifier's parameters. This can be done using the keyword arguments when calling `fit_model()` as follows:\n"
      ],
      "id": "b2fe7376"
    },
    {
      "cell_type": "code",
      "metadata": {},
      "source": [
        "tree = CounterfactualExplanations.Models.fit_model(counterfactual_data, :DecisionTree; max_depth=2, min_samples_leaf=3)"
      ],
      "id": "faa7a398",
      "execution_count": null,
      "outputs": []
    },
    {
      "cell_type": "markdown",
      "metadata": {},
      "source": [
        "For all supported MLJ models, every tunable parameter they have is supported as a keyword argument. The tunable parameters for the `DecisionTreeModel` and the `RandomForestModel` can be found from the [documentation of the `DecisionTree.jl` package](https://docs.juliahub.com/DecisionTree/pEDeB/0.10.11/) under the Decision Tree Classifier and Random Forest Classifier sections. The tunable parameters for the `EvoTreeModel` can be found from the [documentation of the `EvoTrees.jl` package](https://evovest.github.io/EvoTrees.jl/stable/) under the EvoTreeClassifier section.\n",
        "\n",
        "Please note again that generating counterfactuals for the `EvoTreeModel` is not supported yet.\n",
        "\n",
        "## References"
      ],
      "id": "db1ab4b4"
    }
  ],
  "metadata": {
    "kernelspec": {
      "name": "julia-1.9",
      "language": "julia",
      "display_name": "Julia 1.9.0"
    }
  },
  "nbformat": 4,
  "nbformat_minor": 5
}