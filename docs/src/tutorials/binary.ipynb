{
  "cells": [
    {
      "cell_type": "markdown",
      "metadata": {},
      "source": [
        "```@meta\n",
        "CurrentModule = CounterfactualExplanations \n",
        "```\n",
        "\n",
        "# Binary classification\n"
      ],
      "id": "33b366b4"
    },
    {
      "cell_type": "code",
      "metadata": {},
      "source": [
        "#| echo: false\n",
        "using Pkg; Pkg.activate(\"docs\")\n",
        "using Flux, Random, Plots, PlotThemes, CounterfactualExplanations\n",
        "theme(:wong)\n",
        "using Logging\n",
        "disable_logging(Logging.Info)\n",
        "include(\"dev/utils.jl\") # some plotting functions\n",
        "www_path = \"docs/src/tutorials/www\""
      ],
      "id": "c9686064",
      "execution_count": null,
      "outputs": []
    },
    {
      "cell_type": "markdown",
      "metadata": {},
      "source": [
        "To understand the core functionality of `CounterfactualExplanations.jl` we will look at two example use cases of the `generate_counterfactual` function. This function takes a structure of type `AbstractGenerator` as its main argument. You can utilize one of the [default generators](#default-generators): `GenericGenerator <: AbstractGenerator`, `GreedyGenerator <: AbstractGenerator`. Alternatively, you can also create your own custom generators as we will see in own of the following sections. \n",
        "\n",
        "## Default generators\n",
        "\n",
        "### `GenericGenerator`\n",
        "\n",
        "Let $t\\in\\{0,1\\}$ denote the target label, $M$ the model (classifier) and x′ ∈ ℝᴰ the vector of counterfactual features. In order to generate recourse the `GenericGenerator` optimizes the following objective function through steepest descent\n",
        "\n",
        "```math\n",
        "x\\prime = \\arg \\min_{x\\prime}  \\ell(M(x\\prime),t) + \\lambda h(x\\prime)\n",
        "```\n",
        "\n",
        "where $\\ell$ denotes some loss function targeting the deviation between the target label and the predicted label and $h(\\cdot)$ is a complexity penalty generally addressing the *realism* or *cost* of the proposed counterfactual. \n",
        "\n",
        "Let's generate some toy data:\n"
      ],
      "id": "414d4286"
    },
    {
      "cell_type": "code",
      "metadata": {},
      "source": [
        "# Some random data:\n",
        "using CounterfactualExplanations.Data\n",
        "Random.seed!(1234)\n",
        "N = 25\n",
        "w = [1.01 1.0]# true coefficients\n",
        "b = 0\n",
        "xs, ys = Data.toy_data_linear(N)\n",
        "X = hcat(xs...)\n",
        "counterfactual_data = CounterfactualData(X,ys')\n",
        "plt = plot()\n",
        "plt = scatter!(counterfactual_data)\n",
        "savefig(plt, joinpath(www_path, \"binary_samples.png\"))"
      ],
      "id": "6f7aa311",
      "execution_count": null,
      "outputs": []
    },
    {
      "cell_type": "markdown",
      "metadata": {},
      "source": [
        "![](www/binary_samples.png)\n",
        "\n",
        "For this toy data we will now generate counterfactual explanations as follows:\n",
        "\n",
        "- Use the coefficients `w` and `b` (assumed to be known or estimated) to define our model using `CounterfactualExplanations.Models.LogisticModel(w, b)`. (The first figure below shows the posterior predictive surface for this plugin estimator.)\n",
        "- Define our `GenericGenerator`.\n",
        "- Generate counterfactual.\n"
      ],
      "id": "fd77e18a"
    },
    {
      "cell_type": "code",
      "metadata": {},
      "source": [
        "# Logit model:\n",
        "using CounterfactualExplanations.Models: LogisticModel, probs \n",
        "M = LogisticModel(w, [b])\n",
        "# Randomly selected factual:\n",
        "Random.seed!(123)\n",
        "x = select_factual(counterfactual_data,rand(1:size(X)[2]))\n",
        "y = round(probs(M, x)[1])\n",
        "target = ifelse(y==1.0,0.0,1.0) # opposite label as target\n",
        "\n",
        "# Define generator:\n",
        "generator = GenericGenerator()\n",
        "\n",
        "# Generate explanations:\n",
        "counterfactual = generate_counterfactual(x, target, counterfactual_data, M, generator)"
      ],
      "id": "af083039",
      "execution_count": null,
      "outputs": []
    },
    {
      "cell_type": "code",
      "metadata": {},
      "source": [
        "#| echo: false\n",
        "plt = plot(M,counterfactual_data;title=\"Posterior predictive - Plugin\")\n",
        "savefig(plt, joinpath(www_path, \"binary_contour.png\"))"
      ],
      "id": "5984c7f0",
      "execution_count": null,
      "outputs": []
    },
    {
      "cell_type": "markdown",
      "metadata": {},
      "source": [
        "![](www/binary_contour.png)\n",
        "\n",
        "The animation below shows the resulting counterfactual path in the feature space (left) and the predicted probability (right). We can observe that the sample crosses the decision boundary and reaches the threshold target class probability $\\gamma$.\n"
      ],
      "id": "2f3464dc"
    },
    {
      "cell_type": "code",
      "metadata": {},
      "source": [
        "#| echo: false\n",
        "T = total_steps(counterfactual)\n",
        "X_path = reduce(hcat,path(counterfactual))\n",
        "ŷ = target_probs(counterfactual,X_path[:,:,1])\n",
        "p1 = plot(M,counterfactual_data;\n",
        "  colorbar=false, title=\"Posterior predictive - Plugin\")\n",
        "anim = @animate for t in 1:T\n",
        "    scatter!(p1, [X_path[:,t,:][1]], [X_path[:,t,:][2]], ms=10, color=Int(y), label=\"\")\n",
        "    p2 = plot(1:t, ŷ[1:t], xlim=(0,T), ylim=(0, 1), label=\"p(y′=\" * string(target) * \")\", title=\"Validity\", lc=:black)\n",
        "    Plots.abline!(p2,0,counterfactual.params[:γ],label=\"threshold γ\", ls=:dash) # decision boundary\n",
        "    plot(p1,p2,size=(800,400))\n",
        "end\n",
        "gif(anim, joinpath(www_path, \"binary_generic_recourse.gif\"), fps=25)"
      ],
      "id": "fa570283",
      "execution_count": null,
      "outputs": []
    },
    {
      "cell_type": "markdown",
      "metadata": {},
      "source": [
        "![](www/binary_generic_recourse.gif)\n",
        "\n",
        "### `GreedyGenerator`\n",
        "\n",
        "Next we will repeat the exercise above, but instead use the `GreedyGenerator` in the context of a Bayesian classifier. This generator is greedy in the sense that it simply chooses the most salient feature {x′}ᵈ where \n",
        "\n",
        "```math\n",
        "d=\\arg\\max_{d \\in [1,D]} \\nabla_{x\\prime} \\ell(M(x\\prime),t)\n",
        "```\n",
        "\n",
        "and perturbs it by a fixed amount $\\delta$. In other words, optimization is penalty-free. This is possible in the Bayesian context, because maximizing the predictive probability corresponds to minimizing the predictive uncertainty: by construction the generated counterfactual will therefore be *realistic* (low epistemic uncertainty) and *unambiguous* (low aleotoric uncertainty).\n"
      ],
      "id": "19abacdc"
    },
    {
      "cell_type": "code",
      "metadata": {},
      "source": [
        "using LinearAlgebra\n",
        "Σ = Symmetric(reshape(randn(9),3,3).*0.01 + UniformScaling(1)) # MAP covariance matrix\n",
        "μ = hcat(b, w)\n",
        "M = CounterfactualExplanations.Models.BayesianLogisticModel(μ, Σ)\n",
        "generator = GreedyGenerator(;δ=0.1,n=30)\n",
        "counterfactual = generate_counterfactual(x, target, counterfactual_data, M, generator)"
      ],
      "id": "1e3f08f1",
      "execution_count": null,
      "outputs": []
    },
    {
      "cell_type": "markdown",
      "metadata": {},
      "source": [
        "Once again we plot the resulting counterfactual path (left) and changes in the predicted probability (right). For the Bayesian classifier predicted probabilities fan out: uncertainty increases in regions with few samples. Note how the greedy approach selects the same most salient feature over and over again until its exhausted.\n"
      ],
      "id": "09273b7a"
    },
    {
      "cell_type": "code",
      "metadata": {},
      "source": [
        "#| echo: false\n",
        "T = total_steps(counterfactual)\n",
        "X_path = reduce(hcat,path(counterfactual))\n",
        "ŷ = target_probs(counterfactual,X_path[:,:,1])\n",
        "p1 = plot(M,counterfactual_data;\n",
        "  colorbar=false, title=\"Posterior predictive - Plugin\")\n",
        "anim = @animate for t in 1:T\n",
        "    scatter!(p1, [X_path[:,t,:][1]], [X_path[:,t,:][2]], ms=10, color=Int(y), label=\"\")\n",
        "    p2 = plot(1:t, ŷ[1:t], xlim=(0,T), ylim=(0, 1), label=\"p(y′=\" * string(target) * \")\", title=\"Validity\", lc=:black)\n",
        "    Plots.abline!(p2,0,counterfactual.params[:γ],label=\"threshold γ\", ls=:dash) # decision boundary\n",
        "    plot(p1,p2,size=(800,400))\n",
        "end\n",
        "gif(anim, joinpath(www_path, \"binary_greedy_recourse.gif\"), fps=25)"
      ],
      "id": "09ef29a8",
      "execution_count": null,
      "outputs": []
    },
    {
      "cell_type": "markdown",
      "metadata": {},
      "source": [
        "![](www/binary_greedy_recourse.gif)\n"
      ],
      "id": "7314bba7"
    }
  ],
  "metadata": {
    "kernelspec": {
      "name": "julia-1.6",
      "language": "julia",
      "display_name": "Julia 1.6.4"
    }
  },
  "nbformat": 4,
  "nbformat_minor": 5
}