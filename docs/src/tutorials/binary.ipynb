{
 "cells": [
  {
   "cell_type": "markdown",
   "metadata": {},
   "source": [
    "```@meta\n",
    "CurrentModule = AlgorithmicRecourse \n",
    "```"
   ]
  },
  {
   "cell_type": "markdown",
   "metadata": {},
   "source": [
    "# Recourse for binary targets"
   ]
  },
  {
   "cell_type": "code",
   "execution_count": 1,
   "metadata": {},
   "outputs": [
    {
     "data": {
      "text/plain": [
       "LogLevel(1)"
      ]
     },
     "metadata": {},
     "output_type": "display_data"
    }
   ],
   "source": [
    "using Flux\n",
    "using Random\n",
    "using Plots\n",
    "using PlotThemes\n",
    "theme(:juno)\n",
    "using Logging\n",
    "disable_logging(Logging.Info)"
   ]
  },
  {
   "cell_type": "markdown",
   "metadata": {},
   "source": [
    "To understand the core functionality of AlgorithmicRecourse.jl we will look at two example use cases of the `generate_recourse` function. This function takes a structure of type `Generator` as its main argument. Users can utilize one of the [default generators](#default-generators): `GenericGenerator <: Generator`, `GreedyGenerator <: Generator`. Alternatively, users can also create their own [custom generator](#custom-generators). "
   ]
  },
  {
   "cell_type": "markdown",
   "metadata": {},
   "source": [
    "## Default generators\n",
    "\n",
    "### `GenericGenerator`\n",
    "\n",
    "Let $t\\in\\{0,1\\}$ denote the target label, $M$ the model (classifier) and $\\underline{x}\\in\\mathbb{R}^D$ the vector of counterfactual features. In order to generate recourse the `GenericGenerator` optimizes the following objective function through steepest descent\n",
    "\n",
    "```math\n",
    "\\underline{x} = \\arg \\min_{\\underline{x}}  \\ell(M(\\underline{x}),t) + \\lambda h(\\underline{x})\n",
    "```\n",
    "\n",
    "where $\\ell$ denotes some loss function targeting the deviation between the target label and the predicted label and $h(\\cdot)$ as a complexity penality generally addressing the *realism* or *cost* of the proposed counterfactual. \n",
    "\n",
    "Let's generate some toy data:"
   ]
  },
  {
   "cell_type": "code",
   "execution_count": 6,
   "metadata": {},
   "outputs": [],
   "source": [
    "# Some random data:\n",
    "Random.seed!(1234);\n",
    "N = 25\n",
    "w = [1.0 -2.0]# true coefficients\n",
    "b = 0\n",
    "X = reshape(randn(2*N),2,N).*1 # random features\n",
    "y = Int.(round.(Flux.σ.(w*X .+ b))); # label based on sigmoid\n",
    "# Choose sample and plot:\n",
    "x̅ = X[:,5];"
   ]
  },
  {
   "cell_type": "markdown",
   "metadata": {},
   "source": [
    "For this toy data we will now implement algorithmic recourse as follows:\n",
    "\n",
    "- Use the coefficients `w` and `b` to define our model using `AlgorithmicRecourse.Models.LogisticModel(w, b)`.\n",
    "- Define our `GenericGenerator`.\n",
    "- Generate recourse."
   ]
  },
  {
   "cell_type": "code",
   "execution_count": 7,
   "metadata": {},
   "outputs": [],
   "source": [
    "using AlgorithmicRecourse\n",
    "𝑴 = AlgorithmicRecourse.Models.LogisticModel(w, [b]);\n",
    "y̅ = round.(AlgorithmicRecourse.Models.probs(𝑴, x̅))[1]\n",
    "target = ifelse(y̅==1.0,0.0,1.0)\n",
    "γ = ifelse(target==1.0,0.75,0.25)\n",
    "generator = GenericGenerator(0.1,0.1,1e-5,:logitbinarycrossentropy,nothing)\n",
    "recourse = generate_recourse(generator, x̅, 𝑴, target, γ); # generate recourse"
   ]
  },
  {
   "cell_type": "markdown",
   "metadata": {},
   "source": [
    "Now let's plot the resulting counterfactual path in the 2-D feature space (left) and the predicted probability (right):"
   ]
  },
  {
   "cell_type": "code",
   "execution_count": 9,
   "metadata": {},
   "outputs": [],
   "source": [
    "x1 = (minimum(X[1,:])-1):0.1:(maximum(X[1,:])+1)\n",
    "x2 = (minimum(X[2,:])-1):0.1:(maximum(X[2,:])+1)\n",
    "p1 = Plots.contourf(\n",
    "    x1,x2,(x, y) -> AlgorithmicRecourse.Models.probs(recourse.𝑴, [x,y])[1],\n",
    "    color = :viridis,\n",
    "    linewidth = 0,\n",
    "    legend=false\n",
    ")\n",
    "scatter!(p1,X[1,:],X[2,:],legend=false,color=y,title=\"Logistic Regression\") # features\n",
    "Plots.abline!(p1, -w[1]/w[2],0,color=\"black\") # decision boundary\n",
    "T = size(recourse.path)[1]\n",
    "probs = AlgorithmicRecourse.Models.probs(recourse.𝑴, recourse.path')\n",
    "anim = @animate for t in 1:T\n",
    "    scatter!(p1, [recourse.path[t,1]], [recourse.path[t,2]], ms=5, color=Int(y̅))\n",
    "    p2 = plot(1:t, probs[1:t], xlim=(0,T), ylim=(0, 1), label=\"p(y̲=1)\", title=\"Validity\")\n",
    "    Plots.abline!(p2,0,γ,label=\"threshold γ\") # decision boundary\n",
    "    plot(p1,p2,size=(800,400))\n",
    "end\n",
    "gif(anim, \"www/generic_recourse.gif\", fps=5);"
   ]
  },
  {
   "cell_type": "markdown",
   "metadata": {},
   "source": [
    "![](www/generic_recourse.gif)"
   ]
  },
  {
   "cell_type": "markdown",
   "metadata": {},
   "source": [
    "### `GreedyGenerator`\n",
    "\n",
    "Next we will repeat the exercise above, but instead use the `GreedyGenerator` in the context of a Bayesian classifier. This generator is greedy in the sense that it simply chooses the most salient feature $\\underline{x}[d]$ where $d=\\arg\\max_{d \\in [1,D]} \\nabla_{\\underline{x}} \\ell(M(\\underline{x}),t)$ and perturbs it by a fixed amount $\\delta$. In other words, optimization is penalty-free. This is possible in the Bayesian context, because maximizing the predictive probability $\\gamma$ corresponds to minimizing the predictive uncertainty: by construction the generated counterfactual will therefore be *realistic* (low epistemic uncertainty) and *unambiguous* (low aleotoric uncertainty)."
   ]
  },
  {
   "cell_type": "code",
   "execution_count": 10,
   "metadata": {},
   "outputs": [],
   "source": [
    "using LinearAlgebra\n",
    "Σ = Symmetric(reshape(randn(9),3,3).*0.01 + UniformScaling(1)) # MAP covariance matrix\n",
    "μ = hcat(b, w)\n",
    "𝑴 = AlgorithmicRecourse.Models.BayesianLogisticModel(μ, Σ);\n",
    "generator = GreedyGenerator(0.1,12,:logitbinarycrossentropy,nothing)\n",
    "recourse = generate_recourse(generator, x̅, 𝑴, target, γ); # generate recourse"
   ]
  },
  {
   "cell_type": "code",
   "execution_count": 18,
   "metadata": {},
   "outputs": [
    {
     "data": {
      "text/plain": [
       "20×2 Matrix{Float64}:\n",
       "  0.502334   -0.516984\n",
       "  0.502334   -0.416984\n",
       "  0.502334   -0.316984\n",
       "  0.502334   -0.216984\n",
       "  0.502334   -0.116984\n",
       "  0.502334   -0.0169836\n",
       "  0.502334    0.0830164\n",
       "  0.502334    0.183016\n",
       "  0.502334    0.283016\n",
       "  0.502334    0.383016\n",
       "  0.502334    0.483016\n",
       "  0.502334    0.583016\n",
       "  0.502334    0.683016\n",
       "  0.502334    0.683016\n",
       "  0.402334    0.683016\n",
       "  0.302334    0.683016\n",
       "  0.202334    0.683016\n",
       "  0.102334    0.683016\n",
       "  0.0023345   0.683016\n",
       " -0.0976655   0.683016"
      ]
     },
     "metadata": {},
     "output_type": "display_data"
    }
   ],
   "source": [
    "recourse.path"
   ]
  },
  {
   "cell_type": "markdown",
   "metadata": {},
   "source": [
    "Once again we plot the resulting counterfactual path (left) and changes in the predicted probability (right). For the Bayesian classifier predicted probabilities splash out: uncertainty increases in regions with few samples. Note how the greedy approach selects the same most salient feature over and over again until its exhausted (i.e. it has been chosen `GreedyGenerator.n` times)."
   ]
  },
  {
   "cell_type": "code",
   "execution_count": 20,
   "metadata": {},
   "outputs": [
    {
     "ename": "DimensionMismatch",
     "evalue": "DimensionMismatch(\"A has dimensions (1,3) but B has dimensions (41,1)\")",
     "output_type": "error",
     "traceback": [
      "DimensionMismatch(\"A has dimensions (1,3) but B has dimensions (41,1)\")\n",
      "\n",
      "Stacktrace:\n",
      "  [1] gemm_wrapper!(C::Matrix{Float64}, tA::Char, tB::Char, A::Matrix{Float64}, B::Matrix{Float64}, _add::LinearAlgebra.MulAddMul{true, true, Bool, Bool})\n",
      "    @ LinearAlgebra /Users/julia/buildbot/worker/package_macos64/build/usr/share/julia/stdlib/v1.6/LinearAlgebra/src/matmul.jl:643\n",
      "  [2] mul!\n",
      "    @ /Users/julia/buildbot/worker/package_macos64/build/usr/share/julia/stdlib/v1.6/LinearAlgebra/src/matmul.jl:169 [inlined]\n",
      "  [3] mul!\n",
      "    @ /Users/julia/buildbot/worker/package_macos64/build/usr/share/julia/stdlib/v1.6/LinearAlgebra/src/matmul.jl:275 [inlined]\n",
      "  [4] *(A::Matrix{Float64}, B::Matrix{Float64})\n",
      "    @ LinearAlgebra /Users/julia/buildbot/worker/package_macos64/build/usr/share/julia/stdlib/v1.6/LinearAlgebra/src/matmul.jl:160\n",
      "  [5] logits(𝑴::AlgorithmicRecourse.Models.BayesianLogisticModel, X::Adjoint{Float64, Matrix{Float64}})\n",
      "    @ AlgorithmicRecourse.Models ~/.julia/packages/AlgorithmicRecourse/rwVAR/src/models/functions.jl:124\n",
      "  [6] top-level scope\n",
      "    @ ~/OneDrive - Delft University of Technology/git/AlgorithmicRecourse.jl/docs/src/tutorials/binary.ipynb:10\n",
      "  [7] eval\n",
      "    @ ./boot.jl:360 [inlined]\n",
      "  [8] include_string(mapexpr::typeof(REPL.softscope), mod::Module, code::String, filename::String)\n",
      "    @ Base ./loading.jl:1116\n",
      "  [9] #invokelatest#2\n",
      "    @ ./essentials.jl:708 [inlined]\n",
      " [10] invokelatest\n",
      "    @ ./essentials.jl:706 [inlined]\n",
      " [11] (::VSCodeServer.var\"#146#147\"{VSCodeServer.NotebookRunCellArguments, String})()\n",
      "    @ VSCodeServer ~/.vscode/extensions/julialang.language-julia-1.5.10/scripts/packages/VSCodeServer/src/serve_notebook.jl:18\n",
      " [12] withpath(f::VSCodeServer.var\"#146#147\"{VSCodeServer.NotebookRunCellArguments, String}, path::String)\n",
      "    @ VSCodeServer ~/.vscode/extensions/julialang.language-julia-1.5.10/scripts/packages/VSCodeServer/src/repl.jl:185\n",
      " [13] notebook_runcell_request(conn::VSCodeServer.JSONRPC.JSONRPCEndpoint{Base.PipeEndpoint, Base.PipeEndpoint}, params::VSCodeServer.NotebookRunCellArguments)\n",
      "    @ VSCodeServer ~/.vscode/extensions/julialang.language-julia-1.5.10/scripts/packages/VSCodeServer/src/serve_notebook.jl:14\n",
      " [14] dispatch_msg(x::VSCodeServer.JSONRPC.JSONRPCEndpoint{Base.PipeEndpoint, Base.PipeEndpoint}, dispatcher::VSCodeServer.JSONRPC.MsgDispatcher, msg::Dict{String, Any})\n",
      "    @ VSCodeServer.JSONRPC ~/.vscode/extensions/julialang.language-julia-1.5.10/scripts/packages/JSONRPC/src/typed.jl:67\n",
      " [15] serve_notebook(pipename::String; crashreporting_pipename::String)\n",
      "    @ VSCodeServer ~/.vscode/extensions/julialang.language-julia-1.5.10/scripts/packages/VSCodeServer/src/serve_notebook.jl:94\n",
      " [16] top-level scope\n",
      "    @ ~/.vscode/extensions/julialang.language-julia-1.5.10/scripts/notebook/notebook.jl:12\n",
      " [17] include(mod::Module, _path::String)\n",
      "    @ Base ./Base.jl:384\n",
      " [18] exec_options(opts::Base.JLOptions)\n",
      "    @ Base ./client.jl:285\n",
      " [19] _start()\n",
      "    @ Base ./client.jl:485"
     ]
    }
   ],
   "source": [
    "p1 = Plots.contourf(\n",
    "    x1,x2,(x, y) -> AlgorithmicRecourse.Models.probs(recourse.𝑴, [x,y])[1],\n",
    "    color = :viridis,\n",
    "    linewidth = 0,\n",
    "    legend=false\n",
    ")\n",
    "scatter!(p1,X[1,:],X[2,:],legend=false,color=y,title=\"Bayesian Logistic Regression\") # features\n",
    "Plots.abline!(p1, -w[1]/w[2],0,color=\"black\") # decision boundary\n",
    "T = size(recourse.path)[1]\n",
    "probs = AlgorithmicRecourse.Models.logits(recourse.𝑴, recourse.path')\n",
    "anim = @animate for t in 1:T\n",
    "    scatter!(p1, [recourse.path[t,1]], [recourse.path[t,2]], ms=5, color=Int(y̅))\n",
    "    p2 = plot(1:t, probs[1:t], xlim=(0,T), ylim=(0, 1), label=\"p(y̲=1)\", title=\"Validity\")\n",
    "    Plots.abline!(p2,0,γ,label=\"threshold γ\") # decision boundary\n",
    "    plot(p1,p2,size=(800,400))\n",
    "end\n",
    "gif(anim, \"www/greedy_recourse.gif\", fps=5);"
   ]
  },
  {
   "cell_type": "markdown",
   "metadata": {},
   "source": [
    "![](www/greedy_recourse.gif)"
   ]
  }
 ],
 "metadata": {
  "kernelspec": {
   "display_name": "Julia 1.6.4",
   "language": "julia",
   "name": "julia-1.6"
  },
  "language_info": {
   "file_extension": ".jl",
   "mimetype": "application/julia",
   "name": "julia",
   "version": "1.6.4"
  },
  "orig_nbformat": 4
 },
 "nbformat": 4,
 "nbformat_minor": 2
}
