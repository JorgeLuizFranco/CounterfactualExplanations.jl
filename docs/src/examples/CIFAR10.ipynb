{
 "cells": [
  {
   "cell_type": "markdown",
   "metadata": {},
   "source": [
    "```@meta\n",
    "CurrentModule = AlgorithmicRecourse \n",
    "```"
   ]
  },
  {
   "cell_type": "markdown",
   "metadata": {},
   "source": [
    "# From cat to dog"
   ]
  },
  {
   "cell_type": "code",
   "execution_count": 1,
   "metadata": {},
   "outputs": [
    {
     "data": {
      "text/plain": [
       "LogLevel(1)"
      ]
     },
     "metadata": {},
     "output_type": "display_data"
    }
   ],
   "source": [
    "using Plots, AlgorithmicRecourse, Random\n",
    "using Logging\n",
    "disable_logging(Logging.Info)"
   ]
  },
  {
   "cell_type": "code",
   "execution_count": 72,
   "metadata": {},
   "outputs": [
    {
     "name": "stdout",
     "output_type": "stream",
     "text": [
      "Training accuracy: 0.8024444444444444\n"
     ]
    },
    {
     "name": "stdout",
     "output_type": "stream",
     "text": [
      "Validation accuracy: 0.716\n"
     ]
    }
   ],
   "source": [
    "retrain = false\n",
    "include(\"CIFAR10.jl\")\n",
    "# Load model\n",
    "n_epochs = 200\n",
    "BSON.@load \"data/CIFAR10_nn_\" * string(n_epochs) * \".bson\" nn\n",
    "println(\"Training accuracy: \" * string(accuracy(train_x, train_y)))\n",
    "println(\"Validation accuracy: \" * string(accuracy(val_x, val_y)))"
   ]
  },
  {
   "cell_type": "code",
   "execution_count": 73,
   "metadata": {},
   "outputs": [],
   "source": [
    "using AlgorithmicRecourse, AlgorithmicRecourse.Models\n",
    "import AlgorithmicRecourse.Models: logits, probs # import functions in order to extend\n",
    "\n",
    "# Step 1)\n",
    "struct NeuralNetwork <: Models.FittedModel\n",
    "    nn::Any\n",
    "end\n",
    "\n",
    "# Step 2)\n",
    "logits(𝑴::NeuralNetwork, X::AbstractArray) = 𝑴.nn(X)\n",
    "probs(𝑴::NeuralNetwork, X::AbstractArray)= σ.(logits(𝑴, X))\n",
    "𝑴 = NeuralNetwork(nn);"
   ]
  },
  {
   "cell_type": "code",
   "execution_count": 30,
   "metadata": {},
   "outputs": [],
   "source": [
    "ŷ = vec(round.(probs(𝑴, train_x))) # predicted class\n",
    "# ŷ = CIFAR10.trainlabels()[1:1000]\n",
    "cats = findall(ŷ .== 0)\n",
    "dogs = findall(ŷ .== 1)\n",
    "# Plot random samples:\n",
    "using Plots\n",
    "Random.seed!(123)\n",
    "n_samples = 10\n",
    "using StatsBase\n",
    "random_cats = sample(cats, n_samples, replace=false)\n",
    "random_dogs = sample(dogs, n_samples, replace=false)\n",
    "conv2image(x) = colorview(RGB, permutedims(x, (3, 2, 1)))\n",
    "p_list = [plot(conv2image(train_x[:,:,:,i]), size=(100,100), axis=nothing, title=ifelse(train_y[i]==ŷ[i],\"Correct\",\"Wrong\")) for i ∈ vcat(random_cats, random_dogs)];"
   ]
  },
  {
   "cell_type": "code",
   "execution_count": 31,
   "metadata": {},
   "outputs": [],
   "source": [
    "plt = plot(p_list...,layout=(2,n_samples), size=(1000,200))\n",
    "savefig(plt, \"www/CIFAR10_predictions.png\")"
   ]
  },
  {
   "cell_type": "markdown",
   "metadata": {},
   "source": [
    "![](www/CIFAR10_predictions.png)"
   ]
  },
  {
   "cell_type": "code",
   "execution_count": 6,
   "metadata": {},
   "outputs": [],
   "source": [
    "using Images, FileIO\n",
    "sad_cat = load(\"www/cat.png\")\n",
    "happy_dog = load(\"www/dog.png\");"
   ]
  },
  {
   "cell_type": "code",
   "execution_count": 7,
   "metadata": {},
   "outputs": [
    {
     "data": {
      "image/png": "[encoded data removed]",
      "text/plain": [
       "32×32 Array{RGBA{N0f8},2} with eltype RGBA{N0f8}:\n",
       " RGBA{N0f8}(0.941,0.996,0.996,1.0)  …  RGBA{N0f8}(0.886,0.62,0.682,1.0)\n",
       " RGBA{N0f8}(0.922,0.996,0.988,1.0)     RGBA{N0f8}(0.953,0.761,0.808,1.0)\n",
       " RGBA{N0f8}(0.878,0.918,0.914,1.0)     RGBA{N0f8}(0.8,0.592,0.655,1.0)\n",
       " RGBA{N0f8}(0.863,0.91,0.91,1.0)       RGBA{N0f8}(0.839,0.627,0.69,1.0)\n",
       " RGBA{N0f8}(0.082,0.11,0.133,1.0)      RGBA{N0f8}(0.843,0.627,0.69,1.0)\n",
       " RGBA{N0f8}(0.631,0.686,0.698,1.0)  …  RGBA{N0f8}(0.847,0.627,0.702,1.0)\n",
       " RGBA{N0f8}(0.659,0.714,0.725,1.0)     RGBA{N0f8}(0.827,0.608,0.682,1.0)\n",
       " RGBA{N0f8}(0.624,0.675,0.698,1.0)     RGBA{N0f8}(0.804,0.596,0.667,1.0)\n",
       " RGBA{N0f8}(0.49,0.529,0.557,1.0)      RGBA{N0f8}(0.808,0.6,0.671,1.0)\n",
       " RGBA{N0f8}(0.878,0.937,0.949,1.0)     RGBA{N0f8}(0.78,0.573,0.643,1.0)\n",
       " ⋮                                  ⋱  \n",
       " RGBA{N0f8}(0.98,0.765,0.847,1.0)      RGBA{N0f8}(0.788,0.541,0.616,1.0)\n",
       " RGBA{N0f8}(0.851,0.58,0.651,1.0)      RGBA{N0f8}(0.839,0.6,0.671,1.0)\n",
       " RGBA{N0f8}(0.831,0.557,0.631,1.0)  …  RGBA{N0f8}(0.824,0.584,0.655,1.0)\n",
       " RGBA{N0f8}(0.855,0.573,0.651,1.0)     RGBA{N0f8}(0.847,0.608,0.678,1.0)\n",
       " RGBA{N0f8}(0.855,0.592,0.659,1.0)     RGBA{N0f8}(0.812,0.58,0.651,1.0)\n",
       " RGBA{N0f8}(0.78,0.51,0.58,1.0)        RGBA{N0f8}(0.824,0.592,0.663,1.0)\n",
       " RGBA{N0f8}(0.906,0.647,0.718,1.0)     RGBA{N0f8}(0.706,0.49,0.545,1.0)\n",
       " RGBA{N0f8}(0.961,0.808,0.843,1.0)  …  RGBA{N0f8}(0.718,0.502,0.557,1.0)\n",
       " RGBA{N0f8}(0.843,0.71,0.718,1.0)      RGBA{N0f8}(0.537,0.388,0.408,1.0)"
      ]
     },
     "metadata": {},
     "output_type": "display_data"
    }
   ],
   "source": [
    "using ImageTransformations\n",
    "ratio = 32/size(happy_dog)[1]\n",
    "happy_dog = imresize(happy_dog, ratio=ratio)"
   ]
  },
  {
   "cell_type": "code",
   "execution_count": 8,
   "metadata": {},
   "outputs": [
    {
     "data": {
      "image/png": "[encoded data removed]",
      "text/plain": [
       "32×32 Array{RGB{N0f8},2} with eltype RGB{N0f8}:\n",
       " RGB{N0f8}(0.0,0.0,0.0)  …  RGB{N0f8}(1.0,0.0,0.0)\n",
       " RGB{N0f8}(0.0,0.0,0.0)     RGB{N0f8}(0.0,0.0,0.0)\n",
       " RGB{N0f8}(0.0,0.0,0.0)     RGB{N0f8}(0.0,0.0,0.0)\n",
       " RGB{N0f8}(0.0,0.0,0.0)     RGB{N0f8}(0.0,0.0,0.0)\n",
       " RGB{N0f8}(0.0,0.0,0.0)     RGB{N0f8}(0.0,0.0,0.0)\n",
       " RGB{N0f8}(0.0,0.0,0.0)  …  RGB{N0f8}(0.0,0.0,0.0)\n",
       " RGB{N0f8}(0.0,0.0,0.0)     RGB{N0f8}(0.0,0.0,0.0)\n",
       " RGB{N0f8}(0.0,0.0,0.0)     RGB{N0f8}(0.0,0.0,0.0)\n",
       " RGB{N0f8}(0.0,0.0,0.0)     RGB{N0f8}(0.0,0.0,0.0)\n",
       " RGB{N0f8}(0.0,0.0,0.0)     RGB{N0f8}(0.0,0.0,0.0)\n",
       " ⋮                       ⋱  \n",
       " RGB{N0f8}(0.0,0.0,0.0)     RGB{N0f8}(0.0,0.0,0.0)\n",
       " RGB{N0f8}(0.0,0.0,0.0)     RGB{N0f8}(0.0,0.0,0.0)\n",
       " RGB{N0f8}(0.0,0.0,0.0)  …  RGB{N0f8}(0.0,0.0,0.0)\n",
       " RGB{N0f8}(0.0,0.0,0.0)     RGB{N0f8}(0.0,0.0,0.0)\n",
       " RGB{N0f8}(0.0,0.0,0.0)     RGB{N0f8}(0.0,0.0,0.0)\n",
       " RGB{N0f8}(0.0,0.0,0.0)     RGB{N0f8}(0.0,0.0,0.0)\n",
       " RGB{N0f8}(0.0,0.0,0.0)     RGB{N0f8}(0.0,0.0,0.0)\n",
       " RGB{N0f8}(0.0,0.0,0.0)  …  RGB{N0f8}(0.0,0.0,0.0)\n",
       " RGB{N0f8}(1.0,0.0,0.0)     RGB{N0f8}(0.0,0.0,0.0)"
      ]
     },
     "metadata": {},
     "output_type": "display_data"
    }
   ],
   "source": [
    "cat_rgb = RGB.(sad_cat)"
   ]
  },
  {
   "cell_type": "code",
   "execution_count": 9,
   "metadata": {},
   "outputs": [
    {
     "data": {
      "text/plain": [
       "1×1 Matrix{Float32}:\n",
       " 0.47319576"
      ]
     },
     "metadata": {},
     "output_type": "display_data"
    }
   ],
   "source": [
    "cat_CHW = channelview(cat_rgb);\n",
    "cat_WHC = permutedims(cat_CHW, (3,2,1))\n",
    "cat_train = reshape(cat_CHW, (size(cat_WHC)...,1))\n",
    "cat_train = convert(Array{Float32},cat_train)\n",
    "probs(𝑴,cat_train)"
   ]
  },
  {
   "cell_type": "code",
   "execution_count": 10,
   "metadata": {},
   "outputs": [
    {
     "data": {
      "image/png": "[encoded data removed]",
      "text/plain": [
       "32×32 Array{RGB{N0f8},2} with eltype RGB{N0f8}:\n",
       " RGB{N0f8}(0.941,0.996,0.996)  …  RGB{N0f8}(0.886,0.62,0.682)\n",
       " RGB{N0f8}(0.922,0.996,0.988)     RGB{N0f8}(0.953,0.761,0.808)\n",
       " RGB{N0f8}(0.878,0.918,0.914)     RGB{N0f8}(0.8,0.592,0.655)\n",
       " RGB{N0f8}(0.863,0.91,0.91)       RGB{N0f8}(0.839,0.627,0.69)\n",
       " RGB{N0f8}(0.082,0.11,0.133)      RGB{N0f8}(0.843,0.627,0.69)\n",
       " RGB{N0f8}(0.631,0.686,0.698)  …  RGB{N0f8}(0.847,0.627,0.702)\n",
       " RGB{N0f8}(0.659,0.714,0.725)     RGB{N0f8}(0.827,0.608,0.682)\n",
       " RGB{N0f8}(0.624,0.675,0.698)     RGB{N0f8}(0.804,0.596,0.667)\n",
       " RGB{N0f8}(0.49,0.529,0.557)      RGB{N0f8}(0.808,0.6,0.671)\n",
       " RGB{N0f8}(0.878,0.937,0.949)     RGB{N0f8}(0.78,0.573,0.643)\n",
       " ⋮                             ⋱  \n",
       " RGB{N0f8}(0.98,0.765,0.847)      RGB{N0f8}(0.788,0.541,0.616)\n",
       " RGB{N0f8}(0.851,0.58,0.651)      RGB{N0f8}(0.839,0.6,0.671)\n",
       " RGB{N0f8}(0.831,0.557,0.631)  …  RGB{N0f8}(0.824,0.584,0.655)\n",
       " RGB{N0f8}(0.855,0.573,0.651)     RGB{N0f8}(0.847,0.608,0.678)\n",
       " RGB{N0f8}(0.855,0.592,0.659)     RGB{N0f8}(0.812,0.58,0.651)\n",
       " RGB{N0f8}(0.78,0.51,0.58)        RGB{N0f8}(0.824,0.592,0.663)\n",
       " RGB{N0f8}(0.906,0.647,0.718)     RGB{N0f8}(0.706,0.49,0.545)\n",
       " RGB{N0f8}(0.961,0.808,0.843)  …  RGB{N0f8}(0.718,0.502,0.557)\n",
       " RGB{N0f8}(0.843,0.71,0.718)      RGB{N0f8}(0.537,0.388,0.408)"
      ]
     },
     "metadata": {},
     "output_type": "display_data"
    }
   ],
   "source": [
    "dog_rgb = RGB.(happy_dog)"
   ]
  },
  {
   "cell_type": "code",
   "execution_count": 11,
   "metadata": {},
   "outputs": [
    {
     "name": "stderr",
     "output_type": "stream",
     "text": [
      "┌ Warning: Slow fallback implementation invoked for conv!  You probably don't want this; check your datatypes.\n",
      "│   yT = Float32\n",
      "│   T1 = N0f8\n",
      "│   T2 = Float32\n",
      "└ @ NNlib /Users/patrickaltmeyer/.julia/packages/NNlib/nYCKa/src/conv.jl:288\n"
     ]
    },
    {
     "data": {
      "text/plain": [
       "1×1 Matrix{Float32}:\n",
       " 0.5269804"
      ]
     },
     "metadata": {},
     "output_type": "display_data"
    }
   ],
   "source": [
    "dog_CHW = channelview(dog_rgb);\n",
    "dog_WHC = permutedims(dog_CHW, (3,2,1))\n",
    "dog_train = reshape(dog_CHW, (size(dog_WHC)...,1))\n",
    "# dog_train = convert(Array{Float32},dog_train)\n",
    "probs(𝑴,dog_train)"
   ]
  },
  {
   "cell_type": "code",
   "execution_count": 12,
   "metadata": {},
   "outputs": [],
   "source": [
    "using Pkg; Pkg.precompile()"
   ]
  },
  {
   "cell_type": "code",
   "execution_count": 13,
   "metadata": {},
   "outputs": [
    {
     "ename": "MethodError",
     "evalue": "MethodError: no method matching full(::BayesLaplace.Curvature.EmpiricalFisher, ::NamedTuple{(:data, :label), Tuple{Array{Float32, 4}, Vector{Int64}}})\nClosest candidates are:\n  full(::BayesLaplace.Curvature.EmpiricalFisher, !Matched::Tuple) at /Users/patrickaltmeyer/Documents/code/BayesLaplace.jl/src/Curvature.jl:31",
     "output_type": "error",
     "traceback": [
      "MethodError: no method matching full(::BayesLaplace.Curvature.EmpiricalFisher, ::NamedTuple{(:data, :label), Tuple{Array{Float32, 4}, Vector{Int64}}})\n",
      "Closest candidates are:\n",
      "  full(::BayesLaplace.Curvature.EmpiricalFisher, !Matched::Tuple) at /Users/patrickaltmeyer/Documents/code/BayesLaplace.jl/src/Curvature.jl:31\n",
      "\n",
      "Stacktrace:\n",
      "  [1] hessian_approximation(𝑳::BayesLaplace.LaplaceRedux, d::NamedTuple{(:data, :label), Tuple{Array{Float32, 4}, Vector{Int64}}})\n",
      "    @ BayesLaplace ~/Documents/code/BayesLaplace.jl/src/laplace.jl:77\n",
      "  [2] fit!(𝑳::BayesLaplace.LaplaceRedux, data::Flux.Data.DataLoader{NamedTuple{(:data, :label), Tuple{Array{Float32, 4}, Vector{Int64}}}, Random._GLOBAL_RNG})\n",
      "    @ BayesLaplace ~/Documents/code/BayesLaplace.jl/src/laplace.jl:102\n",
      "  [3] top-level scope\n",
      "    @ ~/Documents/code/AlgorithmicRecourse.jl/docs/src/examples/CIFAR10.ipynb:3\n",
      "  [4] eval\n",
      "    @ ./boot.jl:360 [inlined]\n",
      "  [5] include_string(mapexpr::typeof(REPL.softscope), mod::Module, code::String, filename::String)\n",
      "    @ Base ./loading.jl:1116\n",
      "  [6] #invokelatest#2\n",
      "    @ ./essentials.jl:708 [inlined]\n",
      "  [7] invokelatest\n",
      "    @ ./essentials.jl:706 [inlined]\n",
      "  [8] (::VSCodeServer.var\"#146#147\"{VSCodeServer.NotebookRunCellArguments, String})()\n",
      "    @ VSCodeServer ~/.vscode/extensions/julialang.language-julia-1.5.11/scripts/packages/VSCodeServer/src/serve_notebook.jl:18\n",
      "  [9] withpath(f::VSCodeServer.var\"#146#147\"{VSCodeServer.NotebookRunCellArguments, String}, path::String)\n",
      "    @ VSCodeServer ~/.vscode/extensions/julialang.language-julia-1.5.11/scripts/packages/VSCodeServer/src/repl.jl:185\n",
      " [10] notebook_runcell_request(conn::VSCodeServer.JSONRPC.JSONRPCEndpoint{Base.PipeEndpoint, Base.PipeEndpoint}, params::VSCodeServer.NotebookRunCellArguments)\n",
      "    @ VSCodeServer ~/.vscode/extensions/julialang.language-julia-1.5.11/scripts/packages/VSCodeServer/src/serve_notebook.jl:14\n",
      " [11] dispatch_msg(x::VSCodeServer.JSONRPC.JSONRPCEndpoint{Base.PipeEndpoint, Base.PipeEndpoint}, dispatcher::VSCodeServer.JSONRPC.MsgDispatcher, msg::Dict{String, Any})\n",
      "    @ VSCodeServer.JSONRPC ~/.vscode/extensions/julialang.language-julia-1.5.11/scripts/packages/JSONRPC/src/typed.jl:67\n",
      " [12] serve_notebook(pipename::String; crashreporting_pipename::String)\n",
      "    @ VSCodeServer ~/.vscode/extensions/julialang.language-julia-1.5.11/scripts/packages/VSCodeServer/src/serve_notebook.jl:94\n",
      " [13] top-level scope\n",
      "    @ ~/.vscode/extensions/julialang.language-julia-1.5.11/scripts/notebook/notebook.jl:12\n",
      " [14] include(mod::Module, _path::String)\n",
      "    @ Base ./Base.jl:384\n",
      " [15] exec_options(opts::Base.JLOptions)\n",
      "    @ Base ./client.jl:285\n",
      " [16] _start()\n",
      "    @ Base ./client.jl:485"
     ]
    }
   ],
   "source": [
    "using BayesLaplace\n",
    "la = laplace(nn)\n",
    "BayesLaplace.fit!(la, data)"
   ]
  },
  {
   "cell_type": "code",
   "execution_count": 14,
   "metadata": {},
   "outputs": [
    {
     "data": {
      "text/plain": [
       "NamedTuple{(:data, :label), Tuple{Array{Float32, 4}, Vector{Int64}}}"
      ]
     },
     "metadata": {},
     "output_type": "display_data"
    }
   ],
   "source": [
    "typeof(first(data))"
   ]
  },
  {
   "cell_type": "code",
   "execution_count": 15,
   "metadata": {},
   "outputs": [
    {
     "data": {
      "image/png": "[encoded data removed]",
      "text/plain": [
       "32×32 reinterpret(reshape, RGB{N0f8}, ::Array{N0f8,3}) with eltype RGB{N0f8}:\n",
       " RGB{N0f8}(0.941,0.286,0.071)  …  RGB{N0f8}(0.894,0.173,0.427)\n",
       " RGB{N0f8}(0.914,0.502,0.416)     RGB{N0f8}(0.929,0.176,0.133)\n",
       " RGB{N0f8}(0.686,0.216,0.549)     RGB{N0f8}(0.718,0.498,0.035)\n",
       " RGB{N0f8}(0.906,0.506,0.055)     RGB{N0f8}(0.89,0.251,0.149)\n",
       " RGB{N0f8}(0.91,0.663,0.145)      RGB{N0f8}(0.929,0.376,0.247)\n",
       " RGB{N0f8}(0.69,0.373,0.863)   …  RGB{N0f8}(0.847,0.604,0.047)\n",
       " RGB{N0f8}(0.451,0.612,0.078)     RGB{N0f8}(0.988,0.294,0.067)\n",
       " RGB{N0f8}(0.992,0.635,0.067)     RGB{N0f8}(0.82,0.561,0.475)\n",
       " RGB{N0f8}(0.565,0.49,0.82)       RGB{N0f8}(0.6,0.671,0.043)\n",
       " RGB{N0f8}(0.588,0.663,0.063)     RGB{N0f8}(0.824,0.451,0.043)\n",
       " ⋮                             ⋱  \n",
       " RGB{N0f8}(0.071,0.227,0.902)     RGB{N0f8}(0.047,0.584,0.565)\n",
       " RGB{N0f8}(0.541,0.62,0.639)      RGB{N0f8}(0.188,0.239,0.702)\n",
       " RGB{N0f8}(0.216,0.502,0.482)  …  RGB{N0f8}(0.098,0.071,0.322)\n",
       " RGB{N0f8}(0.114,0.106,0.918)     RGB{N0f8}(0.051,0.58,0.612)\n",
       " RGB{N0f8}(0.573,0.576,0.686)     RGB{N0f8}(0.09,0.349,0.78)\n",
       " RGB{N0f8}(0.125,0.486,0.561)     RGB{N0f8}(0.149,0.075,0.286)\n",
       " RGB{N0f8}(0.161,0.11,0.886)      RGB{N0f8}(0.129,0.435,0.537)\n",
       " RGB{N0f8}(0.31,0.427,0.612)   …  RGB{N0f8}(0.165,0.2,0.792)\n",
       " RGB{N0f8}(0.196,0.533,0.561)     RGB{N0f8}(0.275,0.043,0.408)"
      ]
     },
     "metadata": {},
     "output_type": "display_data"
    }
   ],
   "source": [
    "conv2image(dog_train[:,:,:,1])"
   ]
  },
  {
   "cell_type": "markdown",
   "metadata": {},
   "source": [
    "## Recourse"
   ]
  },
  {
   "cell_type": "code",
   "execution_count": 81,
   "metadata": {},
   "outputs": [
    {
     "data": {
      "image/png": "[encoded data removed]",
      "text/plain": [
       "32×32 reinterpret(reshape, RGB{Float32}, ::Array{Float32, 3}) with eltype RGB{Float32}:\n",
       " RGB{Float32}(0.478431,0.466667,0.517647)     …  RGB{Float32}(0.0313726,0.0901961,0.219608)\n",
       " RGB{Float32}(0.470588,0.458824,0.509804)        RGB{Float32}(0.0313726,0.0901961,0.219608)\n",
       " RGB{Float32}(0.466667,0.458824,0.513726)        RGB{Float32}(0.0313726,0.0901961,0.219608)\n",
       " RGB{Float32}(0.466667,0.458824,0.52549)         RGB{Float32}(0.0313726,0.0941176,0.219608)\n",
       " RGB{Float32}(0.466667,0.45098,0.509804)         RGB{Float32}(0.0352941,0.0901961,0.223529)\n",
       " RGB{Float32}(0.447059,0.431373,0.486275)     …  RGB{Float32}(0.0352941,0.0862745,0.211765)\n",
       " RGB{Float32}(0.403922,0.403922,0.466667)        RGB{Float32}(0.0352941,0.0745098,0.164706)\n",
       " RGB{Float32}(0.301961,0.345098,0.447059)        RGB{Float32}(0.0392157,0.054902,0.121569)\n",
       " RGB{Float32}(0.117647,0.215686,0.372549)        RGB{Float32}(0.0392157,0.0705882,0.168627)\n",
       " RGB{Float32}(0.0392157,0.14902,0.337255)        RGB{Float32}(0.0352941,0.0941176,0.239216)\n",
       " ⋮                                            ⋱  \n",
       " RGB{Float32}(0.0352941,0.0705882,0.164706)      RGB{Float32}(0.0392157,0.160784,0.392157)\n",
       " RGB{Float32}(0.0392157,0.0666667,0.145098)      RGB{Float32}(0.0352941,0.141176,0.345098)\n",
       " RGB{Float32}(0.0392157,0.0666667,0.133333)   …  RGB{Float32}(0.0392157,0.129412,0.321569)\n",
       " RGB{Float32}(0.0352941,0.0666667,0.117647)      RGB{Float32}(0.0352941,0.117647,0.301961)\n",
       " RGB{Float32}(0.0352941,0.0588235,0.105882)      RGB{Float32}(0.0352941,0.109804,0.27451)\n",
       " RGB{Float32}(0.0392157,0.054902,0.0901961)      RGB{Float32}(0.0352941,0.0980392,0.239216)\n",
       " RGB{Float32}(0.0392157,0.054902,0.0784314)      RGB{Float32}(0.0352941,0.0862745,0.207843)\n",
       " RGB{Float32}(0.0431373,0.054902,0.0745098)   …  RGB{Float32}(0.0392157,0.0823529,0.176471)\n",
       " RGB{Float32}(0.0431373,0.0627451,0.0784314)     RGB{Float32}(0.054902,0.0823529,0.160784)"
      ]
     },
     "metadata": {},
     "output_type": "display_data"
    }
   ],
   "source": [
    "chosen_sample = train_x[:,:,:,random_cats[1]]\n",
    "x̅ = reshape(chosen_sample,(size(chosen_sample)...,1))\n",
    "conv2image(x̅[:,:,:,1])"
   ]
  },
  {
   "cell_type": "code",
   "execution_count": 82,
   "metadata": {},
   "outputs": [],
   "source": [
    "y̅ = round(probs(𝑴, x̅)[1])\n",
    "target = 1.0\n",
    "γ = 0.99; # desired level of confidence"
   ]
  },
  {
   "cell_type": "code",
   "execution_count": 83,
   "metadata": {},
   "outputs": [],
   "source": [
    "generator = GenericGenerator(1,1,1e-5,:logitbinarycrossentropy,nothing)\n",
    "recourse = generate_recourse(generator, x̅, 𝑴, target, γ); # generate recourse"
   ]
  },
  {
   "cell_type": "code",
   "execution_count": 84,
   "metadata": {},
   "outputs": [
    {
     "data": {
      "text/plain": [
       "2"
      ]
     },
     "metadata": {},
     "output_type": "display_data"
    }
   ],
   "source": [
    "length(recourse.path)"
   ]
  },
  {
   "cell_type": "code",
   "execution_count": 85,
   "metadata": {},
   "outputs": [
    {
     "data": {
      "text/plain": [
       "0.9999999999999909"
      ]
     },
     "metadata": {},
     "output_type": "display_data"
    }
   ],
   "source": [
    "probs(𝑴, recourse.x̲)[1]"
   ]
  },
  {
   "cell_type": "code",
   "execution_count": 86,
   "metadata": {},
   "outputs": [
    {
     "data": {
      "image/png": "[encoded data removed]",
      "text/plain": [
       "32×32 reinterpret(reshape, RGB{Float32}, ::Array{Float32, 3}) with eltype RGB{Float32}:\n",
       " RGB{Float32}(0.478431,0.466667,0.517647)     …  RGB{Float32}(0.0313726,0.0901961,0.219608)\n",
       " RGB{Float32}(0.470588,0.458824,0.509804)        RGB{Float32}(0.0313726,0.0901961,0.219608)\n",
       " RGB{Float32}(0.466667,0.458824,0.513726)        RGB{Float32}(0.0313726,0.0901961,0.219608)\n",
       " RGB{Float32}(0.466667,0.458824,0.52549)         RGB{Float32}(0.0313726,0.0941176,0.219608)\n",
       " RGB{Float32}(0.466667,0.45098,0.509804)         RGB{Float32}(0.0352941,0.0901961,0.223529)\n",
       " RGB{Float32}(0.447059,0.431373,0.486275)     …  RGB{Float32}(0.0352941,0.0862745,0.211765)\n",
       " RGB{Float32}(0.403922,0.403922,0.466667)        RGB{Float32}(0.0352941,0.0745098,0.164706)\n",
       " RGB{Float32}(0.301961,0.345098,0.447059)        RGB{Float32}(0.0392157,0.054902,0.121569)\n",
       " RGB{Float32}(0.117647,0.215686,0.372549)        RGB{Float32}(0.0392157,0.0705882,0.168627)\n",
       " RGB{Float32}(0.0392157,0.14902,0.337255)        RGB{Float32}(0.0352941,0.0941176,0.239216)\n",
       " ⋮                                            ⋱  \n",
       " RGB{Float32}(0.0352941,0.0705882,0.164706)      RGB{Float32}(0.0392157,0.160784,0.392157)\n",
       " RGB{Float32}(0.0392157,0.0666667,0.145098)      RGB{Float32}(0.0352941,0.141176,0.345098)\n",
       " RGB{Float32}(0.0392157,0.0666667,0.133333)   …  RGB{Float32}(0.0392157,0.129412,0.321569)\n",
       " RGB{Float32}(0.0352941,0.0666667,0.117647)      RGB{Float32}(0.0352941,0.117647,0.301961)\n",
       " RGB{Float32}(0.0352941,0.0588235,0.105882)      RGB{Float32}(0.0352941,0.109804,0.27451)\n",
       " RGB{Float32}(0.0392157,0.054902,0.0901961)      RGB{Float32}(0.0352941,0.0980392,0.239216)\n",
       " RGB{Float32}(0.0392157,0.054902,0.0784314)      RGB{Float32}(0.0352941,0.0862745,0.207843)\n",
       " RGB{Float32}(0.0431373,0.054902,0.0745098)   …  RGB{Float32}(0.0392157,0.0823529,0.176471)\n",
       " RGB{Float32}(0.0431373,0.0627451,0.0784314)     RGB{Float32}(0.054902,0.0823529,0.160784)"
      ]
     },
     "metadata": {},
     "output_type": "display_data"
    }
   ],
   "source": [
    "conv2image(recourse.x̅[:,:,:,1])"
   ]
  },
  {
   "cell_type": "code",
   "execution_count": 87,
   "metadata": {},
   "outputs": [
    {
     "data": {
      "image/png": "[encoded data removed]",
      "text/plain": [
       "32×32 reinterpret(reshape, RGB{Float64}, ::Array{Float64, 3}) with eltype RGB{Float64}:\n",
       " RGB{Float64}(0.478431,0.466667,0.517647)     …  RGB{Float64}(0.0313726,0.0901961,0.219608)\n",
       " RGB{Float64}(0.470588,0.458824,0.509804)        RGB{Float64}(0.0313726,0.0901961,0.219608)\n",
       " RGB{Float64}(0.466667,0.458824,0.513726)        RGB{Float64}(0.0424263,0.0984464,0.280433)\n",
       " RGB{Float64}(0.466143,0.458496,0.525171)        RGB{Float64}(0.041845,0.110561,0.216535)\n",
       " RGB{Float64}(0.480765,0.429753,0.515738)        RGB{Float64}(0.00514317,0.0675577,0.219379)\n",
       " RGB{Float64}(0.445059,0.427657,0.505406)     …  RGB{Float64}(-0.00499609,0.0935281,0.228096)\n",
       " RGB{Float64}(0.411484,0.407539,0.467985)        RGB{Float64}(0.0441308,0.0372612,0.164149)\n",
       " RGB{Float64}(0.306166,0.320995,0.404706)        RGB{Float64}(0.105264,0.145656,0.177705)\n",
       " RGB{Float64}(0.0886824,0.197406,0.325072)       RGB{Float64}(0.122017,0.0960568,0.18102)\n",
       " RGB{Float64}(0.0607891,0.148996,0.347503)       RGB{Float64}(0.0334465,0.151916,0.260995)\n",
       " ⋮                                            ⋱  \n",
       " RGB{Float64}(0.0343648,0.0720582,0.16526)       RGB{Float64}(-0.0280502,0.0451039,0.390804)\n",
       " RGB{Float64}(0.0422838,0.0657144,0.144382)      RGB{Float64}(-0.0518452,0.0785687,0.35193)\n",
       " RGB{Float64}(0.0504712,0.0673514,0.13141)    …  RGB{Float64}(0.0418039,0.0709626,0.316438)\n",
       " RGB{Float64}(0.0252074,0.0618514,0.122318)      RGB{Float64}(0.0980002,0.152109,0.298746)\n",
       " RGB{Float64}(0.0314103,0.0416402,0.109053)      RGB{Float64}(0.0233892,0.105791,0.292468)\n",
       " RGB{Float64}(0.0358091,0.0391198,0.0809113)     RGB{Float64}(0.0615136,0.160319,0.254629)\n",
       " RGB{Float64}(0.0488698,0.0545198,0.0789611)     RGB{Float64}(0.0349629,0.085695,0.211212)\n",
       " RGB{Float64}(0.0468958,0.0500914,0.0759576)  …  RGB{Float64}(0.0252258,0.0669489,0.177373)\n",
       " RGB{Float64}(0.0403727,0.0583648,0.0756301)     RGB{Float64}(0.054902,0.0823529,0.160784)"
      ]
     },
     "metadata": {},
     "output_type": "display_data"
    }
   ],
   "source": [
    "conv2image(recourse.x̲[:,:,:,1])"
   ]
  },
  {
   "cell_type": "markdown",
   "metadata": {},
   "source": [
    "### Greedy"
   ]
  },
  {
   "cell_type": "code",
   "execution_count": 88,
   "metadata": {},
   "outputs": [],
   "source": [
    "generator = GreedyGenerator(0.25,20,:logitbinarycrossentropy,nothing)\n",
    "recourse = generate_recourse(generator, x̅, 𝑴, target, γ); # generate recourse"
   ]
  },
  {
   "cell_type": "code",
   "execution_count": 89,
   "metadata": {},
   "outputs": [
    {
     "data": {
      "text/plain": [
       "1×1 Matrix{Float64}:\n",
       " 0.9906357021080056"
      ]
     },
     "metadata": {},
     "output_type": "display_data"
    }
   ],
   "source": [
    "probs(𝑴, recourse.x̲)"
   ]
  },
  {
   "cell_type": "code",
   "execution_count": 90,
   "metadata": {},
   "outputs": [
    {
     "data": {
      "image/png": "[encoded data removed]",
      "text/plain": [
       "32×32 reinterpret(reshape, RGB{Float64}, ::Array{Float64, 3}) with eltype RGB{Float64}:\n",
       " RGB{Float64}(0.478431,0.466667,0.517647)     …  RGB{Float64}(0.0313726,0.0901961,0.219608)\n",
       " RGB{Float64}(0.470588,0.458824,0.509804)        RGB{Float64}(0.0313726,0.0901961,0.219608)\n",
       " RGB{Float64}(0.466667,0.458824,0.513726)        RGB{Float64}(0.0313726,0.0901961,0.219608)\n",
       " RGB{Float64}(0.466667,0.458824,0.52549)         RGB{Float64}(0.0313726,0.0941176,0.219608)\n",
       " RGB{Float64}(0.466667,0.45098,0.509804)         RGB{Float64}(0.0352941,0.0901961,0.223529)\n",
       " RGB{Float64}(0.447059,0.431373,0.486275)     …  RGB{Float64}(0.0352941,0.0862745,0.211765)\n",
       " RGB{Float64}(0.403922,0.403922,0.466667)        RGB{Float64}(0.0352941,0.0745098,0.164706)\n",
       " RGB{Float64}(0.301961,0.345098,0.447059)        RGB{Float64}(0.0392157,0.054902,0.121569)\n",
       " RGB{Float64}(0.117647,0.215686,0.372549)        RGB{Float64}(0.0392157,0.0705882,0.168627)\n",
       " RGB{Float64}(0.0392157,0.14902,0.337255)        RGB{Float64}(0.0352941,0.0941176,0.239216)\n",
       " ⋮                                            ⋱  \n",
       " RGB{Float64}(0.0352941,0.0705882,0.164706)      RGB{Float64}(0.0392157,0.160784,0.392157)\n",
       " RGB{Float64}(0.0392157,0.0666667,0.145098)      RGB{Float64}(0.0352941,0.141176,0.345098)\n",
       " RGB{Float64}(0.0392157,0.0666667,0.133333)   …  RGB{Float64}(0.0392157,0.129412,0.321569)\n",
       " RGB{Float64}(0.0352941,0.0666667,0.117647)      RGB{Float64}(0.0352941,0.117647,0.301961)\n",
       " RGB{Float64}(0.0352941,0.0588235,0.105882)      RGB{Float64}(0.0352941,0.109804,0.27451)\n",
       " RGB{Float64}(0.0392157,0.054902,0.0901961)      RGB{Float64}(0.0352941,0.0980392,0.239216)\n",
       " RGB{Float64}(0.0392157,0.054902,0.0784314)      RGB{Float64}(0.0352941,0.0862745,0.207843)\n",
       " RGB{Float64}(0.0431373,0.054902,0.0745098)   …  RGB{Float64}(0.0392157,0.0823529,0.176471)\n",
       " RGB{Float64}(0.0431373,0.0627451,0.0784314)     RGB{Float64}(0.054902,0.0823529,0.160784)"
      ]
     },
     "metadata": {},
     "output_type": "display_data"
    }
   ],
   "source": [
    "conv2image(recourse.x̲[:,:,:,1])"
   ]
  }
 ],
 "metadata": {
  "kernelspec": {
   "display_name": "Julia 1.6.4",
   "language": "julia",
   "name": "julia-1.6"
  },
  "language_info": {
   "file_extension": ".jl",
   "mimetype": "application/julia",
   "name": "julia",
   "version": "1.6.4"
  },
  "orig_nbformat": 4
 },
 "nbformat": 4,
 "nbformat_minor": 2
}
