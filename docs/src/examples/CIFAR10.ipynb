{
 "cells": [
  {
   "cell_type": "markdown",
   "metadata": {},
   "source": [
    "```@meta\n",
    "CurrentModule = AlgorithmicRecourse \n",
    "```"
   ]
  },
  {
   "cell_type": "markdown",
   "metadata": {},
   "source": [
    "# From cat to dog"
   ]
  },
  {
   "cell_type": "code",
   "execution_count": 161,
   "metadata": {},
   "outputs": [
    {
     "data": {
      "text/plain": [
       "LogLevel(1)"
      ]
     },
     "metadata": {},
     "output_type": "display_data"
    }
   ],
   "source": [
    "using Plots, AlgorithmicRecourse, Random\n",
    "using Logging\n",
    "disable_logging(Logging.Info)"
   ]
  },
  {
   "cell_type": "code",
   "execution_count": 162,
   "metadata": {},
   "outputs": [
    {
     "name": "stdout",
     "output_type": "stream",
     "text": [
      "Training loss\n"
     ]
    },
    {
     "name": "stdout",
     "output_type": "stream",
     "text": [
      "avg_loss(data) = 0.6825474f0\n",
      "Training accuracy\n"
     ]
    },
    {
     "name": "stdout",
     "output_type": "stream",
     "text": [
      "accuracy(train_x, train_y) = 0.5454444444444444\n",
      "Test accuracy\n"
     ]
    },
    {
     "name": "stdout",
     "output_type": "stream",
     "text": [
      "accuracy(val_x, val_y) = 0.552\n"
     ]
    },
    {
     "name": "stdout",
     "output_type": "stream",
     "text": [
      "Training loss\n"
     ]
    },
    {
     "name": "stdout",
     "output_type": "stream",
     "text": [
      "avg_loss(data) = 0.67651486f0\n",
      "Training accuracy\n"
     ]
    },
    {
     "name": "stdout",
     "output_type": "stream",
     "text": [
      "accuracy(train_x, train_y) = 0.574\n",
      "Test accuracy\n"
     ]
    },
    {
     "name": "stdout",
     "output_type": "stream",
     "text": [
      "accuracy(val_x, val_y) = 0.564\n"
     ]
    },
    {
     "name": "stdout",
     "output_type": "stream",
     "text": [
      "Training loss\n"
     ]
    },
    {
     "name": "stdout",
     "output_type": "stream",
     "text": [
      "avg_loss(data) = 0.6727616f0\n",
      "Training accuracy\n"
     ]
    },
    {
     "name": "stdout",
     "output_type": "stream",
     "text": [
      "accuracy(train_x, train_y) = 0.5798888888888889\n",
      "Test accuracy\n"
     ]
    },
    {
     "name": "stdout",
     "output_type": "stream",
     "text": [
      "accuracy(val_x, val_y) = 0.565\n"
     ]
    },
    {
     "name": "stdout",
     "output_type": "stream",
     "text": [
      "Training loss\n"
     ]
    },
    {
     "name": "stdout",
     "output_type": "stream",
     "text": [
      "avg_loss(data) = 0.67103076f0\n",
      "Training accuracy\n"
     ]
    },
    {
     "name": "stdout",
     "output_type": "stream",
     "text": [
      "accuracy(train_x, train_y) = 0.578\n",
      "Test accuracy\n"
     ]
    },
    {
     "name": "stdout",
     "output_type": "stream",
     "text": [
      "accuracy(val_x, val_y) = 0.558\n"
     ]
    },
    {
     "name": "stdout",
     "output_type": "stream",
     "text": [
      "Training loss\n"
     ]
    },
    {
     "name": "stdout",
     "output_type": "stream",
     "text": [
      "avg_loss(data) = 0.6684306f0\n",
      "Training accuracy\n"
     ]
    },
    {
     "name": "stdout",
     "output_type": "stream",
     "text": [
      "accuracy(train_x, train_y) = 0.5835555555555556\n",
      "Test accuracy\n"
     ]
    },
    {
     "name": "stdout",
     "output_type": "stream",
     "text": [
      "accuracy(val_x, val_y) = 0.568\n"
     ]
    },
    {
     "name": "stdout",
     "output_type": "stream",
     "text": [
      "Training loss\n"
     ]
    },
    {
     "name": "stdout",
     "output_type": "stream",
     "text": [
      "avg_loss(data) = 0.6642725f0\n",
      "Training accuracy\n"
     ]
    },
    {
     "name": "stdout",
     "output_type": "stream",
     "text": [
      "accuracy(train_x, train_y) = 0.6011111111111112\n",
      "Test accuracy\n"
     ]
    },
    {
     "name": "stdout",
     "output_type": "stream",
     "text": [
      "accuracy(val_x, val_y) = 0.584\n"
     ]
    },
    {
     "name": "stdout",
     "output_type": "stream",
     "text": [
      "Training loss\n"
     ]
    },
    {
     "name": "stdout",
     "output_type": "stream",
     "text": [
      "avg_loss(data) = 0.66158307f0\n",
      "Training accuracy\n"
     ]
    },
    {
     "name": "stdout",
     "output_type": "stream",
     "text": [
      "accuracy(train_x, train_y) = 0.605\n",
      "Test accuracy\n"
     ]
    },
    {
     "name": "stdout",
     "output_type": "stream",
     "text": [
      "accuracy(val_x, val_y) = 0.598\n"
     ]
    },
    {
     "name": "stdout",
     "output_type": "stream",
     "text": [
      "Training loss\n"
     ]
    },
    {
     "name": "stdout",
     "output_type": "stream",
     "text": [
      "avg_loss(data) = 0.65961385f0\n",
      "Training accuracy\n"
     ]
    },
    {
     "name": "stdout",
     "output_type": "stream",
     "text": [
      "accuracy(train_x, train_y) = 0.6057777777777777\n",
      "Test accuracy\n"
     ]
    },
    {
     "name": "stdout",
     "output_type": "stream",
     "text": [
      "accuracy(val_x, val_y) = 0.597\n"
     ]
    },
    {
     "name": "stdout",
     "output_type": "stream",
     "text": [
      "Training loss\n"
     ]
    },
    {
     "name": "stdout",
     "output_type": "stream",
     "text": [
      "avg_loss(data) = 0.65797454f0\n",
      "Training accuracy\n"
     ]
    },
    {
     "name": "stdout",
     "output_type": "stream",
     "text": [
      "accuracy(train_x, train_y) = 0.6095555555555555\n",
      "Test accuracy\n"
     ]
    },
    {
     "name": "stdout",
     "output_type": "stream",
     "text": [
      "accuracy(val_x, val_y) = 0.598\n"
     ]
    },
    {
     "name": "stdout",
     "output_type": "stream",
     "text": [
      "Training loss\n"
     ]
    },
    {
     "name": "stdout",
     "output_type": "stream",
     "text": [
      "avg_loss(data) = 0.65596473f0\n",
      "Training accuracy\n"
     ]
    },
    {
     "name": "stdout",
     "output_type": "stream",
     "text": [
      "accuracy(train_x, train_y) = 0.6106666666666667\n",
      "Test accuracy\n"
     ]
    },
    {
     "name": "stdout",
     "output_type": "stream",
     "text": [
      "accuracy(val_x, val_y) = 0.597\n"
     ]
    },
    {
     "name": "stdout",
     "output_type": "stream",
     "text": [
      "Training loss\n"
     ]
    },
    {
     "name": "stdout",
     "output_type": "stream",
     "text": [
      "avg_loss(data) = 0.6535014f0\n",
      "Training accuracy\n"
     ]
    },
    {
     "name": "stdout",
     "output_type": "stream",
     "text": [
      "accuracy(train_x, train_y) = 0.6127777777777778\n",
      "Test accuracy\n"
     ]
    },
    {
     "name": "stdout",
     "output_type": "stream",
     "text": [
      "accuracy(val_x, val_y) = 0.609\n"
     ]
    },
    {
     "name": "stdout",
     "output_type": "stream",
     "text": [
      "Training loss\n"
     ]
    },
    {
     "name": "stdout",
     "output_type": "stream",
     "text": [
      "avg_loss(data) = 0.6511977f0\n",
      "Training accuracy\n"
     ]
    },
    {
     "name": "stdout",
     "output_type": "stream",
     "text": [
      "accuracy(train_x, train_y) = 0.6154444444444445\n",
      "Test accuracy\n"
     ]
    },
    {
     "name": "stdout",
     "output_type": "stream",
     "text": [
      "accuracy(val_x, val_y) = 0.614\n"
     ]
    },
    {
     "name": "stdout",
     "output_type": "stream",
     "text": [
      "Training loss\n"
     ]
    },
    {
     "name": "stdout",
     "output_type": "stream",
     "text": [
      "avg_loss(data) = 0.6498718f0\n",
      "Training accuracy\n"
     ]
    },
    {
     "name": "stdout",
     "output_type": "stream",
     "text": [
      "accuracy(train_x, train_y) = 0.6187777777777778\n",
      "Test accuracy\n"
     ]
    },
    {
     "name": "stdout",
     "output_type": "stream",
     "text": [
      "accuracy(val_x, val_y) = 0.613\n"
     ]
    },
    {
     "name": "stdout",
     "output_type": "stream",
     "text": [
      "Training loss\n"
     ]
    },
    {
     "name": "stdout",
     "output_type": "stream",
     "text": [
      "avg_loss(data) = 0.64821625f0\n",
      "Training accuracy\n"
     ]
    },
    {
     "name": "stdout",
     "output_type": "stream",
     "text": [
      "accuracy(train_x, train_y) = 0.6196666666666667\n",
      "Test accuracy\n"
     ]
    },
    {
     "name": "stdout",
     "output_type": "stream",
     "text": [
      "accuracy(val_x, val_y) = 0.612\n"
     ]
    },
    {
     "name": "stdout",
     "output_type": "stream",
     "text": [
      "Training loss\n"
     ]
    },
    {
     "name": "stdout",
     "output_type": "stream",
     "text": [
      "avg_loss(data) = 0.64722216f0\n",
      "Training accuracy\n"
     ]
    },
    {
     "name": "stdout",
     "output_type": "stream",
     "text": [
      "accuracy(train_x, train_y) = 0.6197777777777778\n",
      "Test accuracy\n"
     ]
    },
    {
     "name": "stdout",
     "output_type": "stream",
     "text": [
      "accuracy(val_x, val_y) = 0.611\n"
     ]
    },
    {
     "name": "stdout",
     "output_type": "stream",
     "text": [
      "Training loss\n"
     ]
    },
    {
     "name": "stdout",
     "output_type": "stream",
     "text": [
      "avg_loss(data) = 0.6454185f0\n",
      "Training accuracy\n"
     ]
    },
    {
     "name": "stdout",
     "output_type": "stream",
     "text": [
      "accuracy(train_x, train_y) = 0.6226666666666667\n",
      "Test accuracy\n"
     ]
    },
    {
     "name": "stdout",
     "output_type": "stream",
     "text": [
      "accuracy(val_x, val_y) = 0.61\n"
     ]
    },
    {
     "name": "stdout",
     "output_type": "stream",
     "text": [
      "Training loss\n"
     ]
    },
    {
     "name": "stdout",
     "output_type": "stream",
     "text": [
      "avg_loss(data) = 0.6441344f0\n",
      "Training accuracy\n"
     ]
    },
    {
     "name": "stdout",
     "output_type": "stream",
     "text": [
      "accuracy(train_x, train_y) = 0.6237777777777778\n",
      "Test accuracy\n"
     ]
    },
    {
     "name": "stdout",
     "output_type": "stream",
     "text": [
      "accuracy(val_x, val_y) = 0.608\n"
     ]
    },
    {
     "name": "stdout",
     "output_type": "stream",
     "text": [
      "Training loss\n"
     ]
    },
    {
     "name": "stdout",
     "output_type": "stream",
     "text": [
      "avg_loss(data) = 0.6420594f0\n",
      "Training accuracy\n"
     ]
    },
    {
     "name": "stdout",
     "output_type": "stream",
     "text": [
      "accuracy(train_x, train_y) = 0.6262222222222222\n",
      "Test accuracy\n"
     ]
    },
    {
     "name": "stdout",
     "output_type": "stream",
     "text": [
      "accuracy(val_x, val_y) = 0.614\n"
     ]
    },
    {
     "name": "stdout",
     "output_type": "stream",
     "text": [
      "Training loss\n"
     ]
    },
    {
     "name": "stdout",
     "output_type": "stream",
     "text": [
      "avg_loss(data) = 0.6400754f0\n",
      "Training accuracy\n"
     ]
    },
    {
     "name": "stdout",
     "output_type": "stream",
     "text": [
      "accuracy(train_x, train_y) = 0.6291111111111111\n",
      "Test accuracy\n"
     ]
    },
    {
     "name": "stdout",
     "output_type": "stream",
     "text": [
      "accuracy(val_x, val_y) = 0.611\n"
     ]
    },
    {
     "name": "stdout",
     "output_type": "stream",
     "text": [
      "Training loss\n"
     ]
    },
    {
     "name": "stdout",
     "output_type": "stream",
     "text": [
      "avg_loss(data) = 0.6379264f0\n",
      "Training accuracy\n"
     ]
    },
    {
     "name": "stdout",
     "output_type": "stream",
     "text": [
      "accuracy(train_x, train_y) = 0.6307777777777778\n",
      "Test accuracy\n"
     ]
    },
    {
     "name": "stdout",
     "output_type": "stream",
     "text": [
      "accuracy(val_x, val_y) = 0.616\n"
     ]
    },
    {
     "name": "stdout",
     "output_type": "stream",
     "text": [
      "Training loss\n"
     ]
    },
    {
     "name": "stdout",
     "output_type": "stream",
     "text": [
      "avg_loss(data) = 0.63596666f0\n",
      "Training accuracy\n"
     ]
    },
    {
     "name": "stdout",
     "output_type": "stream",
     "text": [
      "accuracy(train_x, train_y) = 0.6327777777777778\n",
      "Test accuracy\n"
     ]
    },
    {
     "name": "stdout",
     "output_type": "stream",
     "text": [
      "accuracy(val_x, val_y) = 0.622\n"
     ]
    },
    {
     "name": "stdout",
     "output_type": "stream",
     "text": [
      "Training loss\n"
     ]
    },
    {
     "name": "stdout",
     "output_type": "stream",
     "text": [
      "avg_loss(data) = 0.633887f0\n",
      "Training accuracy\n"
     ]
    },
    {
     "name": "stdout",
     "output_type": "stream",
     "text": [
      "accuracy(train_x, train_y) = 0.6343333333333333\n",
      "Test accuracy\n"
     ]
    },
    {
     "name": "stdout",
     "output_type": "stream",
     "text": [
      "accuracy(val_x, val_y) = 0.624\n"
     ]
    },
    {
     "name": "stdout",
     "output_type": "stream",
     "text": [
      "Training loss\n"
     ]
    },
    {
     "name": "stdout",
     "output_type": "stream",
     "text": [
      "avg_loss(data) = 0.6316375f0\n",
      "Training accuracy\n"
     ]
    },
    {
     "name": "stdout",
     "output_type": "stream",
     "text": [
      "accuracy(train_x, train_y) = 0.6378888888888888\n",
      "Test accuracy\n"
     ]
    },
    {
     "name": "stdout",
     "output_type": "stream",
     "text": [
      "accuracy(val_x, val_y) = 0.625\n"
     ]
    },
    {
     "name": "stdout",
     "output_type": "stream",
     "text": [
      "Training loss\n"
     ]
    },
    {
     "name": "stdout",
     "output_type": "stream",
     "text": [
      "avg_loss(data) = 0.62976927f0\n",
      "Training accuracy\n"
     ]
    },
    {
     "name": "stdout",
     "output_type": "stream",
     "text": [
      "accuracy(train_x, train_y) = 0.6388888888888888\n",
      "Test accuracy\n"
     ]
    },
    {
     "name": "stdout",
     "output_type": "stream",
     "text": [
      "accuracy(val_x, val_y) = 0.627\n"
     ]
    },
    {
     "name": "stdout",
     "output_type": "stream",
     "text": [
      "Training loss\n"
     ]
    },
    {
     "name": "stdout",
     "output_type": "stream",
     "text": [
      "avg_loss(data) = 0.6265178f0\n",
      "Training accuracy\n"
     ]
    },
    {
     "name": "stdout",
     "output_type": "stream",
     "text": [
      "accuracy(train_x, train_y) = 0.6433333333333333\n",
      "Test accuracy\n"
     ]
    },
    {
     "name": "stdout",
     "output_type": "stream",
     "text": [
      "accuracy(val_x, val_y) = 0.626\n"
     ]
    },
    {
     "name": "stdout",
     "output_type": "stream",
     "text": [
      "Training loss\n"
     ]
    },
    {
     "name": "stdout",
     "output_type": "stream",
     "text": [
      "avg_loss(data) = 0.62418544f0\n",
      "Training accuracy\n"
     ]
    },
    {
     "name": "stdout",
     "output_type": "stream",
     "text": [
      "accuracy(train_x, train_y) = 0.646\n",
      "Test accuracy\n"
     ]
    },
    {
     "name": "stdout",
     "output_type": "stream",
     "text": [
      "accuracy(val_x, val_y) = 0.632\n"
     ]
    },
    {
     "name": "stdout",
     "output_type": "stream",
     "text": [
      "Training loss\n"
     ]
    },
    {
     "name": "stdout",
     "output_type": "stream",
     "text": [
      "avg_loss(data) = 0.6210043f0\n",
      "Training accuracy\n"
     ]
    },
    {
     "name": "stdout",
     "output_type": "stream",
     "text": [
      "accuracy(train_x, train_y) = 0.6497777777777778\n",
      "Test accuracy\n"
     ]
    },
    {
     "name": "stdout",
     "output_type": "stream",
     "text": [
      "accuracy(val_x, val_y) = 0.637\n"
     ]
    },
    {
     "name": "stdout",
     "output_type": "stream",
     "text": [
      "Training loss\n"
     ]
    },
    {
     "name": "stdout",
     "output_type": "stream",
     "text": [
      "avg_loss(data) = 0.6186775f0\n",
      "Training accuracy\n"
     ]
    },
    {
     "name": "stdout",
     "output_type": "stream",
     "text": [
      "accuracy(train_x, train_y) = 0.6501111111111111\n",
      "Test accuracy\n"
     ]
    },
    {
     "name": "stdout",
     "output_type": "stream",
     "text": [
      "accuracy(val_x, val_y) = 0.634\n"
     ]
    },
    {
     "name": "stdout",
     "output_type": "stream",
     "text": [
      "Training loss\n"
     ]
    },
    {
     "name": "stdout",
     "output_type": "stream",
     "text": [
      "avg_loss(data) = 0.6152058f0\n",
      "Training accuracy\n"
     ]
    },
    {
     "name": "stdout",
     "output_type": "stream",
     "text": [
      "accuracy(train_x, train_y) = 0.6573333333333333\n",
      "Test accuracy\n"
     ]
    },
    {
     "name": "stdout",
     "output_type": "stream",
     "text": [
      "accuracy(val_x, val_y) = 0.642\n"
     ]
    },
    {
     "name": "stdout",
     "output_type": "stream",
     "text": [
      "Training loss\n"
     ]
    },
    {
     "name": "stdout",
     "output_type": "stream",
     "text": [
      "avg_loss(data) = 0.6123416f0\n",
      "Training accuracy\n"
     ]
    },
    {
     "name": "stdout",
     "output_type": "stream",
     "text": [
      "accuracy(train_x, train_y) = 0.6626666666666666\n",
      "Test accuracy\n"
     ]
    },
    {
     "name": "stdout",
     "output_type": "stream",
     "text": [
      "accuracy(val_x, val_y) = 0.649\n"
     ]
    },
    {
     "name": "stdout",
     "output_type": "stream",
     "text": [
      "Training loss\n"
     ]
    },
    {
     "name": "stdout",
     "output_type": "stream",
     "text": [
      "avg_loss(data) = 0.60956544f0\n",
      "Training accuracy\n"
     ]
    },
    {
     "name": "stdout",
     "output_type": "stream",
     "text": [
      "accuracy(train_x, train_y) = 0.6643333333333333\n",
      "Test accuracy\n"
     ]
    },
    {
     "name": "stdout",
     "output_type": "stream",
     "text": [
      "accuracy(val_x, val_y) = 0.651\n"
     ]
    },
    {
     "name": "stdout",
     "output_type": "stream",
     "text": [
      "Training loss\n"
     ]
    },
    {
     "name": "stdout",
     "output_type": "stream",
     "text": [
      "avg_loss(data) = 0.60652244f0\n",
      "Training accuracy\n"
     ]
    },
    {
     "name": "stdout",
     "output_type": "stream",
     "text": [
      "accuracy(train_x, train_y) = 0.6694444444444444\n",
      "Test accuracy\n"
     ]
    },
    {
     "name": "stdout",
     "output_type": "stream",
     "text": [
      "accuracy(val_x, val_y) = 0.656\n"
     ]
    },
    {
     "name": "stdout",
     "output_type": "stream",
     "text": [
      "Training loss\n"
     ]
    },
    {
     "name": "stdout",
     "output_type": "stream",
     "text": [
      "avg_loss(data) = 0.60367805f0\n",
      "Training accuracy\n"
     ]
    },
    {
     "name": "stdout",
     "output_type": "stream",
     "text": [
      "accuracy(train_x, train_y) = 0.673\n",
      "Test accuracy\n"
     ]
    },
    {
     "name": "stdout",
     "output_type": "stream",
     "text": [
      "accuracy(val_x, val_y) = 0.657\n"
     ]
    },
    {
     "name": "stdout",
     "output_type": "stream",
     "text": [
      "Training loss\n"
     ]
    },
    {
     "name": "stdout",
     "output_type": "stream",
     "text": [
      "avg_loss(data) = 0.60096174f0\n",
      "Training accuracy\n"
     ]
    },
    {
     "name": "stdout",
     "output_type": "stream",
     "text": [
      "accuracy(train_x, train_y) = 0.6733333333333333\n",
      "Test accuracy\n"
     ]
    },
    {
     "name": "stdout",
     "output_type": "stream",
     "text": [
      "accuracy(val_x, val_y) = 0.653\n"
     ]
    },
    {
     "name": "stdout",
     "output_type": "stream",
     "text": [
      "Training loss\n"
     ]
    },
    {
     "name": "stdout",
     "output_type": "stream",
     "text": [
      "avg_loss(data) = 0.59827495f0\n",
      "Training accuracy\n"
     ]
    },
    {
     "name": "stdout",
     "output_type": "stream",
     "text": [
      "accuracy(train_x, train_y) = 0.6778888888888889\n",
      "Test accuracy\n"
     ]
    },
    {
     "name": "stdout",
     "output_type": "stream",
     "text": [
      "accuracy(val_x, val_y) = 0.653\n"
     ]
    },
    {
     "name": "stdout",
     "output_type": "stream",
     "text": [
      "Training loss\n"
     ]
    },
    {
     "name": "stdout",
     "output_type": "stream",
     "text": [
      "avg_loss(data) = 0.5952866f0\n",
      "Training accuracy\n"
     ]
    },
    {
     "name": "stdout",
     "output_type": "stream",
     "text": [
      "accuracy(train_x, train_y) = 0.6813333333333333\n",
      "Test accuracy\n"
     ]
    },
    {
     "name": "stdout",
     "output_type": "stream",
     "text": [
      "accuracy(val_x, val_y) = 0.666\n"
     ]
    },
    {
     "name": "stdout",
     "output_type": "stream",
     "text": [
      "Training loss\n"
     ]
    },
    {
     "name": "stdout",
     "output_type": "stream",
     "text": [
      "avg_loss(data) = 0.5927047f0\n",
      "Training accuracy\n"
     ]
    },
    {
     "name": "stdout",
     "output_type": "stream",
     "text": [
      "accuracy(train_x, train_y) = 0.6836666666666666\n",
      "Test accuracy\n"
     ]
    },
    {
     "name": "stdout",
     "output_type": "stream",
     "text": [
      "accuracy(val_x, val_y) = 0.667\n"
     ]
    },
    {
     "name": "stdout",
     "output_type": "stream",
     "text": [
      "Training loss\n"
     ]
    },
    {
     "name": "stdout",
     "output_type": "stream",
     "text": [
      "avg_loss(data) = 0.58970827f0\n",
      "Training accuracy\n"
     ]
    },
    {
     "name": "stdout",
     "output_type": "stream",
     "text": [
      "accuracy(train_x, train_y) = 0.6876666666666666\n",
      "Test accuracy\n"
     ]
    },
    {
     "name": "stdout",
     "output_type": "stream",
     "text": [
      "accuracy(val_x, val_y) = 0.669\n"
     ]
    },
    {
     "name": "stdout",
     "output_type": "stream",
     "text": [
      "Training loss\n"
     ]
    },
    {
     "name": "stdout",
     "output_type": "stream",
     "text": [
      "avg_loss(data) = 0.58593684f0\n",
      "Training accuracy\n"
     ]
    },
    {
     "name": "stdout",
     "output_type": "stream",
     "text": [
      "accuracy(train_x, train_y) = 0.6913333333333334\n",
      "Test accuracy\n"
     ]
    },
    {
     "name": "stdout",
     "output_type": "stream",
     "text": [
      "accuracy(val_x, val_y) = 0.67\n"
     ]
    },
    {
     "name": "stdout",
     "output_type": "stream",
     "text": [
      "Training loss\n"
     ]
    },
    {
     "name": "stdout",
     "output_type": "stream",
     "text": [
      "avg_loss(data) = 0.5815191f0\n",
      "Training accuracy\n"
     ]
    },
    {
     "name": "stdout",
     "output_type": "stream",
     "text": [
      "accuracy(train_x, train_y) = 0.6935555555555556\n",
      "Test accuracy\n"
     ]
    },
    {
     "name": "stdout",
     "output_type": "stream",
     "text": [
      "accuracy(val_x, val_y) = 0.665\n"
     ]
    },
    {
     "name": "stdout",
     "output_type": "stream",
     "text": [
      "Training loss\n"
     ]
    },
    {
     "name": "stdout",
     "output_type": "stream",
     "text": [
      "avg_loss(data) = 0.5784434f0\n",
      "Training accuracy\n"
     ]
    },
    {
     "name": "stdout",
     "output_type": "stream",
     "text": [
      "accuracy(train_x, train_y) = 0.6946666666666667\n",
      "Test accuracy\n"
     ]
    },
    {
     "name": "stdout",
     "output_type": "stream",
     "text": [
      "accuracy(val_x, val_y) = 0.67\n"
     ]
    },
    {
     "name": "stdout",
     "output_type": "stream",
     "text": [
      "Training loss\n"
     ]
    },
    {
     "name": "stdout",
     "output_type": "stream",
     "text": [
      "avg_loss(data) = 0.576957f0\n",
      "Training accuracy\n"
     ]
    },
    {
     "name": "stdout",
     "output_type": "stream",
     "text": [
      "accuracy(train_x, train_y) = 0.6991111111111111\n",
      "Test accuracy\n"
     ]
    },
    {
     "name": "stdout",
     "output_type": "stream",
     "text": [
      "accuracy(val_x, val_y) = 0.671\n"
     ]
    },
    {
     "name": "stdout",
     "output_type": "stream",
     "text": [
      "Training loss\n"
     ]
    },
    {
     "name": "stdout",
     "output_type": "stream",
     "text": [
      "avg_loss(data) = 0.57539487f0\n",
      "Training accuracy\n"
     ]
    },
    {
     "name": "stdout",
     "output_type": "stream",
     "text": [
      "accuracy(train_x, train_y) = 0.702\n",
      "Test accuracy\n"
     ]
    },
    {
     "name": "stdout",
     "output_type": "stream",
     "text": [
      "accuracy(val_x, val_y) = 0.679\n"
     ]
    },
    {
     "name": "stdout",
     "output_type": "stream",
     "text": [
      "Training loss\n"
     ]
    },
    {
     "name": "stdout",
     "output_type": "stream",
     "text": [
      "avg_loss(data) = 0.5723451f0\n",
      "Training accuracy\n"
     ]
    },
    {
     "name": "stdout",
     "output_type": "stream",
     "text": [
      "accuracy(train_x, train_y) = 0.7037777777777777\n",
      "Test accuracy\n"
     ]
    },
    {
     "name": "stdout",
     "output_type": "stream",
     "text": [
      "accuracy(val_x, val_y) = 0.681\n"
     ]
    },
    {
     "name": "stdout",
     "output_type": "stream",
     "text": [
      "Training loss\n"
     ]
    },
    {
     "name": "stdout",
     "output_type": "stream",
     "text": [
      "avg_loss(data) = 0.56888694f0\n",
      "Training accuracy\n"
     ]
    },
    {
     "name": "stdout",
     "output_type": "stream",
     "text": [
      "accuracy(train_x, train_y) = 0.704\n",
      "Test accuracy\n"
     ]
    },
    {
     "name": "stdout",
     "output_type": "stream",
     "text": [
      "accuracy(val_x, val_y) = 0.68\n"
     ]
    },
    {
     "name": "stdout",
     "output_type": "stream",
     "text": [
      "Training loss\n"
     ]
    },
    {
     "name": "stdout",
     "output_type": "stream",
     "text": [
      "avg_loss(data) = 0.5668952f0\n",
      "Training accuracy\n"
     ]
    },
    {
     "name": "stdout",
     "output_type": "stream",
     "text": [
      "accuracy(train_x, train_y) = 0.7028888888888889\n",
      "Test accuracy\n"
     ]
    },
    {
     "name": "stdout",
     "output_type": "stream",
     "text": [
      "accuracy(val_x, val_y) = 0.68\n"
     ]
    },
    {
     "name": "stdout",
     "output_type": "stream",
     "text": [
      "Training loss\n"
     ]
    },
    {
     "name": "stdout",
     "output_type": "stream",
     "text": [
      "avg_loss(data) = 0.5682556f0\n",
      "Training accuracy\n"
     ]
    },
    {
     "name": "stdout",
     "output_type": "stream",
     "text": [
      "accuracy(train_x, train_y) = 0.7008888888888889\n",
      "Test accuracy\n"
     ]
    },
    {
     "name": "stdout",
     "output_type": "stream",
     "text": [
      "accuracy(val_x, val_y) = 0.676\n"
     ]
    },
    {
     "name": "stdout",
     "output_type": "stream",
     "text": [
      "Training loss\n"
     ]
    },
    {
     "name": "stdout",
     "output_type": "stream",
     "text": [
      "avg_loss(data) = 0.57240564f0\n",
      "Training accuracy\n"
     ]
    },
    {
     "name": "stdout",
     "output_type": "stream",
     "text": [
      "accuracy(train_x, train_y) = 0.6978888888888889\n",
      "Test accuracy\n"
     ]
    },
    {
     "name": "stdout",
     "output_type": "stream",
     "text": [
      "accuracy(val_x, val_y) = 0.678\n"
     ]
    },
    {
     "name": "stdout",
     "output_type": "stream",
     "text": [
      "Training loss\n"
     ]
    },
    {
     "name": "stdout",
     "output_type": "stream",
     "text": [
      "avg_loss(data) = 0.57659715f0\n",
      "Training accuracy\n"
     ]
    },
    {
     "name": "stdout",
     "output_type": "stream",
     "text": [
      "accuracy(train_x, train_y) = 0.6953333333333334\n",
      "Test accuracy\n"
     ]
    },
    {
     "name": "stdout",
     "output_type": "stream",
     "text": [
      "accuracy(val_x, val_y) = 0.679\n"
     ]
    },
    {
     "name": "stdout",
     "output_type": "stream",
     "text": [
      "Training loss\n"
     ]
    },
    {
     "name": "stdout",
     "output_type": "stream",
     "text": [
      "avg_loss(data) = 0.57132995f0\n",
      "Training accuracy\n"
     ]
    },
    {
     "name": "stdout",
     "output_type": "stream",
     "text": [
      "accuracy(train_x, train_y) = 0.7008888888888889\n",
      "Test accuracy\n"
     ]
    },
    {
     "name": "stdout",
     "output_type": "stream",
     "text": [
      "accuracy(val_x, val_y) = 0.683\n"
     ]
    },
    {
     "name": "stdout",
     "output_type": "stream",
     "text": [
      "Training loss\n"
     ]
    },
    {
     "name": "stdout",
     "output_type": "stream",
     "text": [
      "avg_loss(data) = 0.55926585f0\n",
      "Training accuracy\n"
     ]
    },
    {
     "name": "stdout",
     "output_type": "stream",
     "text": [
      "accuracy(train_x, train_y) = 0.7073333333333334\n",
      "Test accuracy\n"
     ]
    },
    {
     "name": "stdout",
     "output_type": "stream",
     "text": [
      "accuracy(val_x, val_y) = 0.69\n"
     ]
    },
    {
     "name": "stdout",
     "output_type": "stream",
     "text": [
      "Training loss\n"
     ]
    },
    {
     "name": "stdout",
     "output_type": "stream",
     "text": [
      "avg_loss(data) = 0.5528214f0\n",
      "Training accuracy\n"
     ]
    },
    {
     "name": "stdout",
     "output_type": "stream",
     "text": [
      "accuracy(train_x, train_y) = 0.7118888888888889\n",
      "Test accuracy\n"
     ]
    },
    {
     "name": "stdout",
     "output_type": "stream",
     "text": [
      "accuracy(val_x, val_y) = 0.699\n"
     ]
    },
    {
     "name": "stdout",
     "output_type": "stream",
     "text": [
      "Training loss\n"
     ]
    },
    {
     "name": "stdout",
     "output_type": "stream",
     "text": [
      "avg_loss(data) = 0.5516312f0\n",
      "Training accuracy\n"
     ]
    },
    {
     "name": "stdout",
     "output_type": "stream",
     "text": [
      "accuracy(train_x, train_y) = 0.712\n",
      "Test accuracy\n"
     ]
    },
    {
     "name": "stdout",
     "output_type": "stream",
     "text": [
      "accuracy(val_x, val_y) = 0.702\n"
     ]
    },
    {
     "name": "stdout",
     "output_type": "stream",
     "text": [
      "Training loss\n"
     ]
    },
    {
     "name": "stdout",
     "output_type": "stream",
     "text": [
      "avg_loss(data) = 0.5514117f0\n",
      "Training accuracy\n"
     ]
    },
    {
     "name": "stdout",
     "output_type": "stream",
     "text": [
      "accuracy(train_x, train_y) = 0.7098888888888889\n",
      "Test accuracy\n"
     ]
    },
    {
     "name": "stdout",
     "output_type": "stream",
     "text": [
      "accuracy(val_x, val_y) = 0.698\n"
     ]
    },
    {
     "name": "stdout",
     "output_type": "stream",
     "text": [
      "Training loss\n"
     ]
    },
    {
     "name": "stdout",
     "output_type": "stream",
     "text": [
      "avg_loss(data) = 0.5484749f0\n",
      "Training accuracy\n"
     ]
    },
    {
     "name": "stdout",
     "output_type": "stream",
     "text": [
      "accuracy(train_x, train_y) = 0.714\n",
      "Test accuracy\n"
     ]
    },
    {
     "name": "stdout",
     "output_type": "stream",
     "text": [
      "accuracy(val_x, val_y) = 0.701\n"
     ]
    },
    {
     "name": "stdout",
     "output_type": "stream",
     "text": [
      "Training loss\n"
     ]
    },
    {
     "name": "stdout",
     "output_type": "stream",
     "text": [
      "avg_loss(data) = 0.5472001f0\n",
      "Training accuracy\n"
     ]
    },
    {
     "name": "stdout",
     "output_type": "stream",
     "text": [
      "accuracy(train_x, train_y) = 0.7135555555555556\n",
      "Test accuracy\n"
     ]
    },
    {
     "name": "stdout",
     "output_type": "stream",
     "text": [
      "accuracy(val_x, val_y) = 0.701\n"
     ]
    },
    {
     "name": "stdout",
     "output_type": "stream",
     "text": [
      "Training loss\n"
     ]
    },
    {
     "name": "stdout",
     "output_type": "stream",
     "text": [
      "avg_loss(data) = 0.54556966f0\n",
      "Training accuracy\n"
     ]
    },
    {
     "name": "stdout",
     "output_type": "stream",
     "text": [
      "accuracy(train_x, train_y) = 0.7151111111111111\n",
      "Test accuracy\n"
     ]
    },
    {
     "name": "stdout",
     "output_type": "stream",
     "text": [
      "accuracy(val_x, val_y) = 0.698\n"
     ]
    },
    {
     "name": "stdout",
     "output_type": "stream",
     "text": [
      "Training loss\n"
     ]
    },
    {
     "name": "stdout",
     "output_type": "stream",
     "text": [
      "avg_loss(data) = 0.5480826f0\n",
      "Training accuracy\n"
     ]
    },
    {
     "name": "stdout",
     "output_type": "stream",
     "text": [
      "accuracy(train_x, train_y) = 0.7137777777777777\n",
      "Test accuracy\n"
     ]
    },
    {
     "name": "stdout",
     "output_type": "stream",
     "text": [
      "accuracy(val_x, val_y) = 0.691\n"
     ]
    },
    {
     "name": "stdout",
     "output_type": "stream",
     "text": [
      "Training loss\n"
     ]
    },
    {
     "name": "stdout",
     "output_type": "stream",
     "text": [
      "avg_loss(data) = 0.54982746f0\n",
      "Training accuracy\n"
     ]
    },
    {
     "name": "stdout",
     "output_type": "stream",
     "text": [
      "accuracy(train_x, train_y) = 0.7136666666666667\n",
      "Test accuracy\n"
     ]
    },
    {
     "name": "stdout",
     "output_type": "stream",
     "text": [
      "accuracy(val_x, val_y) = 0.69\n"
     ]
    },
    {
     "name": "stdout",
     "output_type": "stream",
     "text": [
      "Training loss\n"
     ]
    },
    {
     "name": "stdout",
     "output_type": "stream",
     "text": [
      "avg_loss(data) = 0.54872894f0\n",
      "Training accuracy\n"
     ]
    },
    {
     "name": "stdout",
     "output_type": "stream",
     "text": [
      "accuracy(train_x, train_y) = 0.7144444444444444\n",
      "Test accuracy\n"
     ]
    },
    {
     "name": "stdout",
     "output_type": "stream",
     "text": [
      "accuracy(val_x, val_y) = 0.689\n"
     ]
    },
    {
     "name": "stdout",
     "output_type": "stream",
     "text": [
      "Training loss\n"
     ]
    },
    {
     "name": "stdout",
     "output_type": "stream",
     "text": [
      "avg_loss(data) = 0.5458472f0\n",
      "Training accuracy\n"
     ]
    },
    {
     "name": "stdout",
     "output_type": "stream",
     "text": [
      "accuracy(train_x, train_y) = 0.7166666666666667\n",
      "Test accuracy\n"
     ]
    },
    {
     "name": "stdout",
     "output_type": "stream",
     "text": [
      "accuracy(val_x, val_y) = 0.691\n"
     ]
    },
    {
     "name": "stdout",
     "output_type": "stream",
     "text": [
      "Training loss\n"
     ]
    },
    {
     "name": "stdout",
     "output_type": "stream",
     "text": [
      "avg_loss(data) = 0.5426929f0\n",
      "Training accuracy\n"
     ]
    },
    {
     "name": "stdout",
     "output_type": "stream",
     "text": [
      "accuracy(train_x, train_y) = 0.7211111111111111\n",
      "Test accuracy\n"
     ]
    },
    {
     "name": "stdout",
     "output_type": "stream",
     "text": [
      "accuracy(val_x, val_y) = 0.694\n"
     ]
    },
    {
     "name": "stdout",
     "output_type": "stream",
     "text": [
      "Training loss\n"
     ]
    },
    {
     "name": "stdout",
     "output_type": "stream",
     "text": [
      "avg_loss(data) = 0.5410088f0\n",
      "Training accuracy\n"
     ]
    },
    {
     "name": "stdout",
     "output_type": "stream",
     "text": [
      "accuracy(train_x, train_y) = 0.7205555555555555\n",
      "Test accuracy\n"
     ]
    },
    {
     "name": "stdout",
     "output_type": "stream",
     "text": [
      "accuracy(val_x, val_y) = 0.697\n"
     ]
    },
    {
     "name": "stdout",
     "output_type": "stream",
     "text": [
      "Training loss\n"
     ]
    },
    {
     "name": "stdout",
     "output_type": "stream",
     "text": [
      "avg_loss(data) = 0.5394941f0\n",
      "Training accuracy\n"
     ]
    },
    {
     "name": "stdout",
     "output_type": "stream",
     "text": [
      "accuracy(train_x, train_y) = 0.7206666666666667\n",
      "Test accuracy\n"
     ]
    },
    {
     "name": "stdout",
     "output_type": "stream",
     "text": [
      "accuracy(val_x, val_y) = 0.703\n"
     ]
    },
    {
     "name": "stdout",
     "output_type": "stream",
     "text": [
      "Training loss\n"
     ]
    },
    {
     "name": "stdout",
     "output_type": "stream",
     "text": [
      "avg_loss(data) = 0.53768724f0\n",
      "Training accuracy\n"
     ]
    },
    {
     "name": "stdout",
     "output_type": "stream",
     "text": [
      "accuracy(train_x, train_y) = 0.7216666666666667\n",
      "Test accuracy\n"
     ]
    },
    {
     "name": "stdout",
     "output_type": "stream",
     "text": [
      "accuracy(val_x, val_y) = 0.699\n"
     ]
    },
    {
     "name": "stdout",
     "output_type": "stream",
     "text": [
      "Training loss\n"
     ]
    },
    {
     "name": "stdout",
     "output_type": "stream",
     "text": [
      "avg_loss(data) = 0.5383284f0\n",
      "Training accuracy\n"
     ]
    },
    {
     "name": "stdout",
     "output_type": "stream",
     "text": [
      "accuracy(train_x, train_y) = 0.7205555555555555\n",
      "Test accuracy\n"
     ]
    },
    {
     "name": "stdout",
     "output_type": "stream",
     "text": [
      "accuracy(val_x, val_y) = 0.7\n"
     ]
    },
    {
     "name": "stdout",
     "output_type": "stream",
     "text": [
      "Training loss\n"
     ]
    },
    {
     "name": "stdout",
     "output_type": "stream",
     "text": [
      "avg_loss(data) = 0.5365827f0\n",
      "Training accuracy\n"
     ]
    },
    {
     "name": "stdout",
     "output_type": "stream",
     "text": [
      "accuracy(train_x, train_y) = 0.7224444444444444\n",
      "Test accuracy\n"
     ]
    },
    {
     "name": "stdout",
     "output_type": "stream",
     "text": [
      "accuracy(val_x, val_y) = 0.702\n"
     ]
    },
    {
     "name": "stdout",
     "output_type": "stream",
     "text": [
      "Training loss\n"
     ]
    },
    {
     "name": "stdout",
     "output_type": "stream",
     "text": [
      "avg_loss(data) = 0.53308606f0\n",
      "Training accuracy\n"
     ]
    },
    {
     "name": "stdout",
     "output_type": "stream",
     "text": [
      "accuracy(train_x, train_y) = 0.7266666666666667\n",
      "Test accuracy\n"
     ]
    },
    {
     "name": "stdout",
     "output_type": "stream",
     "text": [
      "accuracy(val_x, val_y) = 0.705\n"
     ]
    },
    {
     "name": "stdout",
     "output_type": "stream",
     "text": [
      "Training loss\n"
     ]
    },
    {
     "name": "stdout",
     "output_type": "stream",
     "text": [
      "avg_loss(data) = 0.52994514f0\n",
      "Training accuracy\n"
     ]
    },
    {
     "name": "stdout",
     "output_type": "stream",
     "text": [
      "accuracy(train_x, train_y) = 0.729\n",
      "Test accuracy\n"
     ]
    },
    {
     "name": "stdout",
     "output_type": "stream",
     "text": [
      "accuracy(val_x, val_y) = 0.702\n"
     ]
    },
    {
     "name": "stdout",
     "output_type": "stream",
     "text": [
      "Training loss\n"
     ]
    },
    {
     "name": "stdout",
     "output_type": "stream",
     "text": [
      "avg_loss(data) = 0.5282207f0\n",
      "Training accuracy\n"
     ]
    },
    {
     "name": "stdout",
     "output_type": "stream",
     "text": [
      "accuracy(train_x, train_y) = 0.7306666666666667\n",
      "Test accuracy\n"
     ]
    },
    {
     "name": "stdout",
     "output_type": "stream",
     "text": [
      "accuracy(val_x, val_y) = 0.702\n"
     ]
    },
    {
     "name": "stdout",
     "output_type": "stream",
     "text": [
      "Training loss\n"
     ]
    },
    {
     "name": "stdout",
     "output_type": "stream",
     "text": [
      "avg_loss(data) = 0.52736056f0\n",
      "Training accuracy\n"
     ]
    },
    {
     "name": "stdout",
     "output_type": "stream",
     "text": [
      "accuracy(train_x, train_y) = 0.7282222222222222\n",
      "Test accuracy\n"
     ]
    },
    {
     "name": "stdout",
     "output_type": "stream",
     "text": [
      "accuracy(val_x, val_y) = 0.706\n"
     ]
    },
    {
     "name": "stdout",
     "output_type": "stream",
     "text": [
      "Training loss\n"
     ]
    },
    {
     "name": "stdout",
     "output_type": "stream",
     "text": [
      "avg_loss(data) = 0.53005f0\n",
      "Training accuracy\n"
     ]
    },
    {
     "name": "stdout",
     "output_type": "stream",
     "text": [
      "accuracy(train_x, train_y) = 0.7242222222222222\n",
      "Test accuracy\n"
     ]
    },
    {
     "name": "stdout",
     "output_type": "stream",
     "text": [
      "accuracy(val_x, val_y) = 0.702\n"
     ]
    },
    {
     "name": "stdout",
     "output_type": "stream",
     "text": [
      "Training loss\n"
     ]
    },
    {
     "name": "stdout",
     "output_type": "stream",
     "text": [
      "avg_loss(data) = 0.5185888f0\n",
      "Training accuracy\n"
     ]
    },
    {
     "name": "stdout",
     "output_type": "stream",
     "text": [
      "accuracy(train_x, train_y) = 0.7351111111111112\n",
      "Test accuracy\n"
     ]
    },
    {
     "name": "stdout",
     "output_type": "stream",
     "text": [
      "accuracy(val_x, val_y) = 0.708\n"
     ]
    },
    {
     "name": "stdout",
     "output_type": "stream",
     "text": [
      "Training loss\n"
     ]
    },
    {
     "name": "stdout",
     "output_type": "stream",
     "text": [
      "avg_loss(data) = 0.5137688f0\n",
      "Training accuracy\n"
     ]
    },
    {
     "name": "stdout",
     "output_type": "stream",
     "text": [
      "accuracy(train_x, train_y) = 0.7403333333333333\n",
      "Test accuracy\n"
     ]
    },
    {
     "name": "stdout",
     "output_type": "stream",
     "text": [
      "accuracy(val_x, val_y) = 0.71\n"
     ]
    },
    {
     "name": "stdout",
     "output_type": "stream",
     "text": [
      "Training loss\n"
     ]
    },
    {
     "name": "stdout",
     "output_type": "stream",
     "text": [
      "avg_loss(data) = 0.51989627f0\n",
      "Training accuracy\n"
     ]
    },
    {
     "name": "stdout",
     "output_type": "stream",
     "text": [
      "accuracy(train_x, train_y) = 0.7351111111111112\n",
      "Test accuracy\n"
     ]
    },
    {
     "name": "stdout",
     "output_type": "stream",
     "text": [
      "accuracy(val_x, val_y) = 0.706\n"
     ]
    },
    {
     "name": "stdout",
     "output_type": "stream",
     "text": [
      "Training loss\n"
     ]
    },
    {
     "name": "stdout",
     "output_type": "stream",
     "text": [
      "avg_loss(data) = 0.52027184f0\n",
      "Training accuracy\n"
     ]
    },
    {
     "name": "stdout",
     "output_type": "stream",
     "text": [
      "accuracy(train_x, train_y) = 0.7382222222222222\n",
      "Test accuracy\n"
     ]
    },
    {
     "name": "stdout",
     "output_type": "stream",
     "text": [
      "accuracy(val_x, val_y) = 0.704\n"
     ]
    },
    {
     "name": "stdout",
     "output_type": "stream",
     "text": [
      "Training loss\n"
     ]
    },
    {
     "name": "stdout",
     "output_type": "stream",
     "text": [
      "avg_loss(data) = 0.52923703f0\n",
      "Training accuracy\n"
     ]
    },
    {
     "name": "stdout",
     "output_type": "stream",
     "text": [
      "accuracy(train_x, train_y) = 0.7317777777777777\n",
      "Test accuracy\n"
     ]
    },
    {
     "name": "stdout",
     "output_type": "stream",
     "text": [
      "accuracy(val_x, val_y) = 0.696\n"
     ]
    },
    {
     "name": "stdout",
     "output_type": "stream",
     "text": [
      "Training loss\n"
     ]
    },
    {
     "name": "stdout",
     "output_type": "stream",
     "text": [
      "avg_loss(data) = 0.5204903f0\n",
      "Training accuracy\n"
     ]
    },
    {
     "name": "stdout",
     "output_type": "stream",
     "text": [
      "accuracy(train_x, train_y) = 0.7386666666666667\n",
      "Test accuracy\n"
     ]
    },
    {
     "name": "stdout",
     "output_type": "stream",
     "text": [
      "accuracy(val_x, val_y) = 0.704\n"
     ]
    },
    {
     "name": "stdout",
     "output_type": "stream",
     "text": [
      "Training loss\n"
     ]
    },
    {
     "name": "stdout",
     "output_type": "stream",
     "text": [
      "avg_loss(data) = 0.51445466f0\n",
      "Training accuracy\n"
     ]
    },
    {
     "name": "stdout",
     "output_type": "stream",
     "text": [
      "accuracy(train_x, train_y) = 0.7405555555555555\n",
      "Test accuracy\n"
     ]
    },
    {
     "name": "stdout",
     "output_type": "stream",
     "text": [
      "accuracy(val_x, val_y) = 0.711\n"
     ]
    },
    {
     "name": "stdout",
     "output_type": "stream",
     "text": [
      "Training loss\n"
     ]
    },
    {
     "name": "stdout",
     "output_type": "stream",
     "text": [
      "avg_loss(data) = 0.51518977f0\n",
      "Training accuracy\n"
     ]
    },
    {
     "name": "stdout",
     "output_type": "stream",
     "text": [
      "accuracy(train_x, train_y) = 0.7407777777777778\n",
      "Test accuracy\n"
     ]
    },
    {
     "name": "stdout",
     "output_type": "stream",
     "text": [
      "accuracy(val_x, val_y) = 0.711\n"
     ]
    },
    {
     "name": "stdout",
     "output_type": "stream",
     "text": [
      "Training loss\n"
     ]
    },
    {
     "name": "stdout",
     "output_type": "stream",
     "text": [
      "avg_loss(data) = 0.51787776f0\n",
      "Training accuracy\n"
     ]
    },
    {
     "name": "stdout",
     "output_type": "stream",
     "text": [
      "accuracy(train_x, train_y) = 0.7362222222222222\n",
      "Test accuracy\n"
     ]
    },
    {
     "name": "stdout",
     "output_type": "stream",
     "text": [
      "accuracy(val_x, val_y) = 0.711\n"
     ]
    },
    {
     "name": "stdout",
     "output_type": "stream",
     "text": [
      "Training loss\n"
     ]
    },
    {
     "name": "stdout",
     "output_type": "stream",
     "text": [
      "avg_loss(data) = 0.5086073f0\n",
      "Training accuracy\n"
     ]
    },
    {
     "name": "stdout",
     "output_type": "stream",
     "text": [
      "accuracy(train_x, train_y) = 0.743\n",
      "Test accuracy\n"
     ]
    },
    {
     "name": "stdout",
     "output_type": "stream",
     "text": [
      "accuracy(val_x, val_y) = 0.714\n"
     ]
    },
    {
     "name": "stdout",
     "output_type": "stream",
     "text": [
      "Training loss\n"
     ]
    },
    {
     "name": "stdout",
     "output_type": "stream",
     "text": [
      "avg_loss(data) = 0.50300014f0\n",
      "Training accuracy\n"
     ]
    },
    {
     "name": "stdout",
     "output_type": "stream",
     "text": [
      "accuracy(train_x, train_y) = 0.7475555555555555\n",
      "Test accuracy\n"
     ]
    },
    {
     "name": "stdout",
     "output_type": "stream",
     "text": [
      "accuracy(val_x, val_y) = 0.717\n"
     ]
    },
    {
     "name": "stdout",
     "output_type": "stream",
     "text": [
      "Training loss\n"
     ]
    },
    {
     "name": "stdout",
     "output_type": "stream",
     "text": [
      "avg_loss(data) = 0.5094111f0\n",
      "Training accuracy\n"
     ]
    },
    {
     "name": "stdout",
     "output_type": "stream",
     "text": [
      "accuracy(train_x, train_y) = 0.7438888888888889\n",
      "Test accuracy\n"
     ]
    },
    {
     "name": "stdout",
     "output_type": "stream",
     "text": [
      "accuracy(val_x, val_y) = 0.706\n"
     ]
    },
    {
     "name": "stdout",
     "output_type": "stream",
     "text": [
      "Training loss\n"
     ]
    },
    {
     "name": "stdout",
     "output_type": "stream",
     "text": [
      "avg_loss(data) = 0.51804763f0\n",
      "Training accuracy\n"
     ]
    },
    {
     "name": "stdout",
     "output_type": "stream",
     "text": [
      "accuracy(train_x, train_y) = 0.7385555555555555\n",
      "Test accuracy\n"
     ]
    },
    {
     "name": "stdout",
     "output_type": "stream",
     "text": [
      "accuracy(val_x, val_y) = 0.701\n"
     ]
    },
    {
     "name": "stdout",
     "output_type": "stream",
     "text": [
      "Training loss\n"
     ]
    },
    {
     "name": "stdout",
     "output_type": "stream",
     "text": [
      "avg_loss(data) = 0.5154469f0\n",
      "Training accuracy\n"
     ]
    },
    {
     "name": "stdout",
     "output_type": "stream",
     "text": [
      "accuracy(train_x, train_y) = 0.7422222222222222\n",
      "Test accuracy\n"
     ]
    },
    {
     "name": "stdout",
     "output_type": "stream",
     "text": [
      "accuracy(val_x, val_y) = 0.704\n"
     ]
    },
    {
     "name": "stdout",
     "output_type": "stream",
     "text": [
      "Training loss\n"
     ]
    },
    {
     "name": "stdout",
     "output_type": "stream",
     "text": [
      "avg_loss(data) = 0.5135963f0\n",
      "Training accuracy\n"
     ]
    },
    {
     "name": "stdout",
     "output_type": "stream",
     "text": [
      "accuracy(train_x, train_y) = 0.741\n",
      "Test accuracy\n"
     ]
    },
    {
     "name": "stdout",
     "output_type": "stream",
     "text": [
      "accuracy(val_x, val_y) = 0.703\n"
     ]
    },
    {
     "name": "stdout",
     "output_type": "stream",
     "text": [
      "Training loss\n"
     ]
    },
    {
     "name": "stdout",
     "output_type": "stream",
     "text": [
      "avg_loss(data) = 0.49789396f0\n",
      "Training accuracy\n"
     ]
    },
    {
     "name": "stdout",
     "output_type": "stream",
     "text": [
      "accuracy(train_x, train_y) = 0.7543333333333333\n",
      "Test accuracy\n"
     ]
    },
    {
     "name": "stdout",
     "output_type": "stream",
     "text": [
      "accuracy(val_x, val_y) = 0.715\n"
     ]
    },
    {
     "name": "stdout",
     "output_type": "stream",
     "text": [
      "Training loss\n"
     ]
    },
    {
     "name": "stdout",
     "output_type": "stream",
     "text": [
      "avg_loss(data) = 0.49110115f0\n",
      "Training accuracy\n"
     ]
    },
    {
     "name": "stdout",
     "output_type": "stream",
     "text": [
      "accuracy(train_x, train_y) = 0.7616666666666667\n",
      "Test accuracy\n"
     ]
    },
    {
     "name": "stdout",
     "output_type": "stream",
     "text": [
      "accuracy(val_x, val_y) = 0.721\n"
     ]
    },
    {
     "name": "stdout",
     "output_type": "stream",
     "text": [
      "Training loss\n"
     ]
    },
    {
     "name": "stdout",
     "output_type": "stream",
     "text": [
      "avg_loss(data) = 0.49077293f0\n",
      "Training accuracy\n"
     ]
    },
    {
     "name": "stdout",
     "output_type": "stream",
     "text": [
      "accuracy(train_x, train_y) = 0.7597777777777778\n",
      "Test accuracy\n"
     ]
    },
    {
     "name": "stdout",
     "output_type": "stream",
     "text": [
      "accuracy(val_x, val_y) = 0.72\n"
     ]
    },
    {
     "name": "stdout",
     "output_type": "stream",
     "text": [
      "Training loss\n"
     ]
    },
    {
     "name": "stdout",
     "output_type": "stream",
     "text": [
      "avg_loss(data) = 0.48959494f0\n",
      "Training accuracy\n"
     ]
    },
    {
     "name": "stdout",
     "output_type": "stream",
     "text": [
      "accuracy(train_x, train_y) = 0.7638888888888888\n",
      "Test accuracy\n"
     ]
    },
    {
     "name": "stdout",
     "output_type": "stream",
     "text": [
      "accuracy(val_x, val_y) = 0.718\n"
     ]
    },
    {
     "name": "stdout",
     "output_type": "stream",
     "text": [
      "Training loss\n"
     ]
    },
    {
     "name": "stdout",
     "output_type": "stream",
     "text": [
      "avg_loss(data) = 0.488203f0\n",
      "Training accuracy\n"
     ]
    },
    {
     "name": "stdout",
     "output_type": "stream",
     "text": [
      "accuracy(train_x, train_y) = 0.7623333333333333\n",
      "Test accuracy\n"
     ]
    },
    {
     "name": "stdout",
     "output_type": "stream",
     "text": [
      "accuracy(val_x, val_y) = 0.717\n"
     ]
    },
    {
     "name": "stdout",
     "output_type": "stream",
     "text": [
      "Training loss\n"
     ]
    },
    {
     "name": "stdout",
     "output_type": "stream",
     "text": [
      "avg_loss(data) = 0.48874936f0\n",
      "Training accuracy\n"
     ]
    },
    {
     "name": "stdout",
     "output_type": "stream",
     "text": [
      "accuracy(train_x, train_y) = 0.7633333333333333\n",
      "Test accuracy\n"
     ]
    },
    {
     "name": "stdout",
     "output_type": "stream",
     "text": [
      "accuracy(val_x, val_y) = 0.716\n"
     ]
    },
    {
     "name": "stdout",
     "output_type": "stream",
     "text": [
      "Training loss\n"
     ]
    },
    {
     "name": "stdout",
     "output_type": "stream",
     "text": [
      "avg_loss(data) = 0.49037328f0\n",
      "Training accuracy\n"
     ]
    },
    {
     "name": "stdout",
     "output_type": "stream",
     "text": [
      "accuracy(train_x, train_y) = 0.7638888888888888\n",
      "Test accuracy\n"
     ]
    },
    {
     "name": "stdout",
     "output_type": "stream",
     "text": [
      "accuracy(val_x, val_y) = 0.717\n"
     ]
    },
    {
     "name": "stdout",
     "output_type": "stream",
     "text": [
      "Training loss\n"
     ]
    },
    {
     "name": "stdout",
     "output_type": "stream",
     "text": [
      "avg_loss(data) = 0.48382506f0\n",
      "Training accuracy\n"
     ]
    },
    {
     "name": "stdout",
     "output_type": "stream",
     "text": [
      "accuracy(train_x, train_y) = 0.768\n",
      "Test accuracy\n"
     ]
    },
    {
     "name": "stdout",
     "output_type": "stream",
     "text": [
      "accuracy(val_x, val_y) = 0.721\n"
     ]
    },
    {
     "name": "stdout",
     "output_type": "stream",
     "text": [
      "Training loss\n"
     ]
    },
    {
     "name": "stdout",
     "output_type": "stream",
     "text": [
      "avg_loss(data) = 0.48042285f0\n",
      "Training accuracy\n"
     ]
    },
    {
     "name": "stdout",
     "output_type": "stream",
     "text": [
      "accuracy(train_x, train_y) = 0.7698888888888888\n",
      "Test accuracy\n"
     ]
    },
    {
     "name": "stdout",
     "output_type": "stream",
     "text": [
      "accuracy(val_x, val_y) = 0.723\n"
     ]
    },
    {
     "name": "stdout",
     "output_type": "stream",
     "text": [
      "Training loss\n"
     ]
    },
    {
     "name": "stdout",
     "output_type": "stream",
     "text": [
      "avg_loss(data) = 0.4778373f0\n",
      "Training accuracy\n"
     ]
    },
    {
     "name": "stdout",
     "output_type": "stream",
     "text": [
      "accuracy(train_x, train_y) = 0.7733333333333333\n",
      "Test accuracy\n"
     ]
    },
    {
     "name": "stdout",
     "output_type": "stream",
     "text": [
      "accuracy(val_x, val_y) = 0.725\n"
     ]
    },
    {
     "name": "stdout",
     "output_type": "stream",
     "text": [
      "Training loss\n"
     ]
    },
    {
     "name": "stdout",
     "output_type": "stream",
     "text": [
      "avg_loss(data) = 0.47624412f0\n",
      "Training accuracy\n"
     ]
    },
    {
     "name": "stdout",
     "output_type": "stream",
     "text": [
      "accuracy(train_x, train_y) = 0.7726666666666666\n",
      "Test accuracy\n"
     ]
    },
    {
     "name": "stdout",
     "output_type": "stream",
     "text": [
      "accuracy(val_x, val_y) = 0.724\n"
     ]
    },
    {
     "name": "stdout",
     "output_type": "stream",
     "text": [
      "Training loss\n"
     ]
    },
    {
     "name": "stdout",
     "output_type": "stream",
     "text": [
      "avg_loss(data) = 0.4734453f0\n",
      "Training accuracy\n"
     ]
    },
    {
     "name": "stdout",
     "output_type": "stream",
     "text": [
      "accuracy(train_x, train_y) = 0.7762222222222223\n",
      "Test accuracy\n"
     ]
    },
    {
     "name": "stdout",
     "output_type": "stream",
     "text": [
      "accuracy(val_x, val_y) = 0.717\n"
     ]
    },
    {
     "name": "stdout",
     "output_type": "stream",
     "text": [
      "Training loss\n"
     ]
    },
    {
     "name": "stdout",
     "output_type": "stream",
     "text": [
      "avg_loss(data) = 0.47111738f0\n",
      "Training accuracy\n"
     ]
    },
    {
     "name": "stdout",
     "output_type": "stream",
     "text": [
      "accuracy(train_x, train_y) = 0.778\n",
      "Test accuracy\n"
     ]
    },
    {
     "name": "stdout",
     "output_type": "stream",
     "text": [
      "accuracy(val_x, val_y) = 0.724\n"
     ]
    },
    {
     "name": "stdout",
     "output_type": "stream",
     "text": [
      "Training loss\n"
     ]
    },
    {
     "name": "stdout",
     "output_type": "stream",
     "text": [
      "avg_loss(data) = 0.470847f0\n",
      "Training accuracy\n"
     ]
    },
    {
     "name": "stdout",
     "output_type": "stream",
     "text": [
      "accuracy(train_x, train_y) = 0.777\n",
      "Test accuracy\n"
     ]
    },
    {
     "name": "stdout",
     "output_type": "stream",
     "text": [
      "accuracy(val_x, val_y) = 0.724\n"
     ]
    },
    {
     "name": "stdout",
     "output_type": "stream",
     "text": [
      "Training loss\n"
     ]
    },
    {
     "name": "stdout",
     "output_type": "stream",
     "text": [
      "avg_loss(data) = 0.46832004f0\n",
      "Training accuracy\n"
     ]
    },
    {
     "name": "stdout",
     "output_type": "stream",
     "text": [
      "accuracy(train_x, train_y) = 0.7766666666666666\n",
      "Test accuracy\n"
     ]
    },
    {
     "name": "stdout",
     "output_type": "stream",
     "text": [
      "accuracy(val_x, val_y) = 0.723\n"
     ]
    },
    {
     "name": "stdout",
     "output_type": "stream",
     "text": [
      "Training loss\n"
     ]
    },
    {
     "name": "stdout",
     "output_type": "stream",
     "text": [
      "avg_loss(data) = 0.469688f0\n",
      "Training accuracy\n"
     ]
    },
    {
     "name": "stdout",
     "output_type": "stream",
     "text": [
      "accuracy(train_x, train_y) = 0.7788888888888889\n",
      "Test accuracy\n"
     ]
    },
    {
     "name": "stdout",
     "output_type": "stream",
     "text": [
      "accuracy(val_x, val_y) = 0.725\n"
     ]
    },
    {
     "name": "stdout",
     "output_type": "stream",
     "text": [
      "Training loss\n"
     ]
    },
    {
     "name": "stdout",
     "output_type": "stream",
     "text": [
      "avg_loss(data) = 0.4646721f0\n",
      "Training accuracy\n"
     ]
    },
    {
     "name": "stdout",
     "output_type": "stream",
     "text": [
      "accuracy(train_x, train_y) = 0.7793333333333333\n",
      "Test accuracy\n"
     ]
    },
    {
     "name": "stdout",
     "output_type": "stream",
     "text": [
      "accuracy(val_x, val_y) = 0.725\n"
     ]
    },
    {
     "name": "stdout",
     "output_type": "stream",
     "text": [
      "Training loss\n"
     ]
    },
    {
     "name": "stdout",
     "output_type": "stream",
     "text": [
      "avg_loss(data) = 0.46209526f0\n",
      "Training accuracy\n"
     ]
    },
    {
     "name": "stdout",
     "output_type": "stream",
     "text": [
      "accuracy(train_x, train_y) = 0.7831111111111111\n",
      "Test accuracy\n"
     ]
    },
    {
     "name": "stdout",
     "output_type": "stream",
     "text": [
      "accuracy(val_x, val_y) = 0.726\n"
     ]
    },
    {
     "name": "stdout",
     "output_type": "stream",
     "text": [
      "Training loss\n"
     ]
    },
    {
     "name": "stdout",
     "output_type": "stream",
     "text": [
      "avg_loss(data) = 0.46108913f0\n",
      "Training accuracy\n"
     ]
    },
    {
     "name": "stdout",
     "output_type": "stream",
     "text": [
      "accuracy(train_x, train_y) = 0.7817777777777778\n",
      "Test accuracy\n"
     ]
    },
    {
     "name": "stdout",
     "output_type": "stream",
     "text": [
      "accuracy(val_x, val_y) = 0.731\n"
     ]
    },
    {
     "name": "stdout",
     "output_type": "stream",
     "text": [
      "Training loss\n"
     ]
    },
    {
     "name": "stdout",
     "output_type": "stream",
     "text": [
      "avg_loss(data) = 0.4608283f0\n",
      "Training accuracy\n"
     ]
    },
    {
     "name": "stdout",
     "output_type": "stream",
     "text": [
      "accuracy(train_x, train_y) = 0.7802222222222223\n",
      "Test accuracy\n"
     ]
    },
    {
     "name": "stdout",
     "output_type": "stream",
     "text": [
      "accuracy(val_x, val_y) = 0.727\n"
     ]
    },
    {
     "name": "stdout",
     "output_type": "stream",
     "text": [
      "Training loss\n"
     ]
    },
    {
     "name": "stdout",
     "output_type": "stream",
     "text": [
      "avg_loss(data) = 0.45967504f0\n",
      "Training accuracy\n"
     ]
    },
    {
     "name": "stdout",
     "output_type": "stream",
     "text": [
      "accuracy(train_x, train_y) = 0.783\n",
      "Test accuracy\n"
     ]
    },
    {
     "name": "stdout",
     "output_type": "stream",
     "text": [
      "accuracy(val_x, val_y) = 0.731\n"
     ]
    },
    {
     "name": "stdout",
     "output_type": "stream",
     "text": [
      "Training loss\n"
     ]
    },
    {
     "name": "stdout",
     "output_type": "stream",
     "text": [
      "avg_loss(data) = 0.46048546f0\n",
      "Training accuracy\n"
     ]
    },
    {
     "name": "stdout",
     "output_type": "stream",
     "text": [
      "accuracy(train_x, train_y) = 0.7802222222222223\n",
      "Test accuracy\n"
     ]
    },
    {
     "name": "stdout",
     "output_type": "stream",
     "text": [
      "accuracy(val_x, val_y) = 0.725\n"
     ]
    },
    {
     "name": "stdout",
     "output_type": "stream",
     "text": [
      "Training loss\n"
     ]
    },
    {
     "name": "stdout",
     "output_type": "stream",
     "text": [
      "avg_loss(data) = 0.4593817f0\n",
      "Training accuracy\n"
     ]
    },
    {
     "name": "stdout",
     "output_type": "stream",
     "text": [
      "accuracy(train_x, train_y) = 0.784\n",
      "Test accuracy\n"
     ]
    },
    {
     "name": "stdout",
     "output_type": "stream",
     "text": [
      "accuracy(val_x, val_y) = 0.724\n"
     ]
    },
    {
     "name": "stdout",
     "output_type": "stream",
     "text": [
      "Training loss\n"
     ]
    },
    {
     "name": "stdout",
     "output_type": "stream",
     "text": [
      "avg_loss(data) = 0.4624406f0\n",
      "Training accuracy\n"
     ]
    },
    {
     "name": "stdout",
     "output_type": "stream",
     "text": [
      "accuracy(train_x, train_y) = 0.7785555555555556\n",
      "Test accuracy\n"
     ]
    },
    {
     "name": "stdout",
     "output_type": "stream",
     "text": [
      "accuracy(val_x, val_y) = 0.727\n"
     ]
    },
    {
     "name": "stdout",
     "output_type": "stream",
     "text": [
      "Training loss\n"
     ]
    },
    {
     "name": "stdout",
     "output_type": "stream",
     "text": [
      "avg_loss(data) = 0.45800072f0\n",
      "Training accuracy\n"
     ]
    },
    {
     "name": "stdout",
     "output_type": "stream",
     "text": [
      "accuracy(train_x, train_y) = 0.7847777777777778\n",
      "Test accuracy\n"
     ]
    },
    {
     "name": "stdout",
     "output_type": "stream",
     "text": [
      "accuracy(val_x, val_y) = 0.721\n"
     ]
    },
    {
     "name": "stdout",
     "output_type": "stream",
     "text": [
      "Training loss\n"
     ]
    },
    {
     "name": "stdout",
     "output_type": "stream",
     "text": [
      "avg_loss(data) = 0.45108998f0\n",
      "Training accuracy\n"
     ]
    },
    {
     "name": "stdout",
     "output_type": "stream",
     "text": [
      "accuracy(train_x, train_y) = 0.7874444444444444\n",
      "Test accuracy\n"
     ]
    },
    {
     "name": "stdout",
     "output_type": "stream",
     "text": [
      "accuracy(val_x, val_y) = 0.727\n"
     ]
    },
    {
     "name": "stdout",
     "output_type": "stream",
     "text": [
      "Training loss\n"
     ]
    },
    {
     "name": "stdout",
     "output_type": "stream",
     "text": [
      "avg_loss(data) = 0.4518276f0\n",
      "Training accuracy\n"
     ]
    },
    {
     "name": "stdout",
     "output_type": "stream",
     "text": [
      "accuracy(train_x, train_y) = 0.7871111111111111\n",
      "Test accuracy\n"
     ]
    },
    {
     "name": "stdout",
     "output_type": "stream",
     "text": [
      "accuracy(val_x, val_y) = 0.727\n"
     ]
    },
    {
     "name": "stdout",
     "output_type": "stream",
     "text": [
      "Training loss\n"
     ]
    },
    {
     "name": "stdout",
     "output_type": "stream",
     "text": [
      "avg_loss(data) = 0.45313862f0\n",
      "Training accuracy\n"
     ]
    },
    {
     "name": "stdout",
     "output_type": "stream",
     "text": [
      "accuracy(train_x, train_y) = 0.7871111111111111\n",
      "Test accuracy\n"
     ]
    },
    {
     "name": "stdout",
     "output_type": "stream",
     "text": [
      "accuracy(val_x, val_y) = 0.731\n"
     ]
    },
    {
     "name": "stdout",
     "output_type": "stream",
     "text": [
      "Training loss\n"
     ]
    },
    {
     "name": "stdout",
     "output_type": "stream",
     "text": [
      "avg_loss(data) = 0.45225397f0\n",
      "Training accuracy\n"
     ]
    },
    {
     "name": "stdout",
     "output_type": "stream",
     "text": [
      "accuracy(train_x, train_y) = 0.7873333333333333\n",
      "Test accuracy\n"
     ]
    },
    {
     "name": "stdout",
     "output_type": "stream",
     "text": [
      "accuracy(val_x, val_y) = 0.728\n"
     ]
    },
    {
     "name": "stdout",
     "output_type": "stream",
     "text": [
      "Training loss\n"
     ]
    },
    {
     "name": "stdout",
     "output_type": "stream",
     "text": [
      "avg_loss(data) = 0.45270646f0\n",
      "Training accuracy\n"
     ]
    },
    {
     "name": "stdout",
     "output_type": "stream",
     "text": [
      "accuracy(train_x, train_y) = 0.7858888888888889\n",
      "Test accuracy\n"
     ]
    },
    {
     "name": "stdout",
     "output_type": "stream",
     "text": [
      "accuracy(val_x, val_y) = 0.728\n"
     ]
    },
    {
     "name": "stdout",
     "output_type": "stream",
     "text": [
      "Training loss\n"
     ]
    },
    {
     "name": "stdout",
     "output_type": "stream",
     "text": [
      "avg_loss(data) = 0.44883573f0\n",
      "Training accuracy\n"
     ]
    },
    {
     "name": "stdout",
     "output_type": "stream",
     "text": [
      "accuracy(train_x, train_y) = 0.7874444444444444\n",
      "Test accuracy\n"
     ]
    },
    {
     "name": "stdout",
     "output_type": "stream",
     "text": [
      "accuracy(val_x, val_y) = 0.731\n"
     ]
    },
    {
     "name": "stdout",
     "output_type": "stream",
     "text": [
      "Training loss\n"
     ]
    },
    {
     "name": "stdout",
     "output_type": "stream",
     "text": [
      "avg_loss(data) = 0.44915327f0\n",
      "Training accuracy\n"
     ]
    },
    {
     "name": "stdout",
     "output_type": "stream",
     "text": [
      "accuracy(train_x, train_y) = 0.7864444444444444\n",
      "Test accuracy\n"
     ]
    },
    {
     "name": "stdout",
     "output_type": "stream",
     "text": [
      "accuracy(val_x, val_y) = 0.727\n"
     ]
    },
    {
     "name": "stdout",
     "output_type": "stream",
     "text": [
      "Training loss\n"
     ]
    },
    {
     "name": "stdout",
     "output_type": "stream",
     "text": [
      "avg_loss(data) = 0.4404439f0\n",
      "Training accuracy\n"
     ]
    },
    {
     "name": "stdout",
     "output_type": "stream",
     "text": [
      "accuracy(train_x, train_y) = 0.7932222222222223\n",
      "Test accuracy\n"
     ]
    },
    {
     "name": "stdout",
     "output_type": "stream",
     "text": [
      "accuracy(val_x, val_y) = 0.732\n"
     ]
    },
    {
     "name": "stdout",
     "output_type": "stream",
     "text": [
      "Training loss\n"
     ]
    },
    {
     "name": "stdout",
     "output_type": "stream",
     "text": [
      "avg_loss(data) = 0.43992132f0\n",
      "Training accuracy\n"
     ]
    },
    {
     "name": "stdout",
     "output_type": "stream",
     "text": [
      "accuracy(train_x, train_y) = 0.795\n",
      "Test accuracy\n"
     ]
    },
    {
     "name": "stdout",
     "output_type": "stream",
     "text": [
      "accuracy(val_x, val_y) = 0.726\n"
     ]
    },
    {
     "name": "stdout",
     "output_type": "stream",
     "text": [
      "Training loss\n"
     ]
    },
    {
     "name": "stdout",
     "output_type": "stream",
     "text": [
      "avg_loss(data) = 0.44246712f0\n",
      "Training accuracy\n"
     ]
    },
    {
     "name": "stdout",
     "output_type": "stream",
     "text": [
      "accuracy(train_x, train_y) = 0.792\n",
      "Test accuracy\n"
     ]
    },
    {
     "name": "stdout",
     "output_type": "stream",
     "text": [
      "accuracy(val_x, val_y) = 0.736\n"
     ]
    },
    {
     "name": "stdout",
     "output_type": "stream",
     "text": [
      "Training loss\n"
     ]
    },
    {
     "name": "stdout",
     "output_type": "stream",
     "text": [
      "avg_loss(data) = 0.4393786f0\n",
      "Training accuracy\n"
     ]
    },
    {
     "name": "stdout",
     "output_type": "stream",
     "text": [
      "accuracy(train_x, train_y) = 0.7955555555555556\n",
      "Test accuracy\n"
     ]
    },
    {
     "name": "stdout",
     "output_type": "stream",
     "text": [
      "accuracy(val_x, val_y) = 0.733\n"
     ]
    },
    {
     "name": "stdout",
     "output_type": "stream",
     "text": [
      "Training loss\n"
     ]
    },
    {
     "name": "stdout",
     "output_type": "stream",
     "text": [
      "avg_loss(data) = 0.4391896f0\n",
      "Training accuracy\n"
     ]
    },
    {
     "name": "stdout",
     "output_type": "stream",
     "text": [
      "accuracy(train_x, train_y) = 0.795\n",
      "Test accuracy\n"
     ]
    },
    {
     "name": "stdout",
     "output_type": "stream",
     "text": [
      "accuracy(val_x, val_y) = 0.731\n"
     ]
    },
    {
     "name": "stdout",
     "output_type": "stream",
     "text": [
      "Training loss\n"
     ]
    },
    {
     "name": "stdout",
     "output_type": "stream",
     "text": [
      "avg_loss(data) = 0.43607754f0\n",
      "Training accuracy\n"
     ]
    },
    {
     "name": "stdout",
     "output_type": "stream",
     "text": [
      "accuracy(train_x, train_y) = 0.7972222222222223\n",
      "Test accuracy\n"
     ]
    },
    {
     "name": "stdout",
     "output_type": "stream",
     "text": [
      "accuracy(val_x, val_y) = 0.725\n"
     ]
    },
    {
     "name": "stdout",
     "output_type": "stream",
     "text": [
      "Training loss\n"
     ]
    },
    {
     "name": "stdout",
     "output_type": "stream",
     "text": [
      "avg_loss(data) = 0.43243492f0\n",
      "Training accuracy\n"
     ]
    },
    {
     "name": "stdout",
     "output_type": "stream",
     "text": [
      "accuracy(train_x, train_y) = 0.8011111111111111\n",
      "Test accuracy\n"
     ]
    },
    {
     "name": "stdout",
     "output_type": "stream",
     "text": [
      "accuracy(val_x, val_y) = 0.733\n"
     ]
    },
    {
     "name": "stdout",
     "output_type": "stream",
     "text": [
      "Training loss\n"
     ]
    },
    {
     "name": "stdout",
     "output_type": "stream",
     "text": [
      "avg_loss(data) = 0.43062016f0\n",
      "Training accuracy\n"
     ]
    },
    {
     "name": "stdout",
     "output_type": "stream",
     "text": [
      "accuracy(train_x, train_y) = 0.8012222222222222\n",
      "Test accuracy\n"
     ]
    },
    {
     "name": "stdout",
     "output_type": "stream",
     "text": [
      "accuracy(val_x, val_y) = 0.737\n"
     ]
    },
    {
     "name": "stdout",
     "output_type": "stream",
     "text": [
      "Training loss\n"
     ]
    },
    {
     "name": "stdout",
     "output_type": "stream",
     "text": [
      "avg_loss(data) = 0.4298821f0\n",
      "Training accuracy\n"
     ]
    },
    {
     "name": "stdout",
     "output_type": "stream",
     "text": [
      "accuracy(train_x, train_y) = 0.8011111111111111\n",
      "Test accuracy\n"
     ]
    },
    {
     "name": "stdout",
     "output_type": "stream",
     "text": [
      "accuracy(val_x, val_y) = 0.735\n"
     ]
    },
    {
     "name": "stdout",
     "output_type": "stream",
     "text": [
      "Training loss\n"
     ]
    },
    {
     "name": "stdout",
     "output_type": "stream",
     "text": [
      "avg_loss(data) = 0.43401992f0\n",
      "Training accuracy\n"
     ]
    },
    {
     "name": "stdout",
     "output_type": "stream",
     "text": [
      "accuracy(train_x, train_y) = 0.7985555555555556\n",
      "Test accuracy\n"
     ]
    },
    {
     "name": "stdout",
     "output_type": "stream",
     "text": [
      "accuracy(val_x, val_y) = 0.731\n"
     ]
    },
    {
     "name": "stdout",
     "output_type": "stream",
     "text": [
      "Training loss\n"
     ]
    },
    {
     "name": "stdout",
     "output_type": "stream",
     "text": [
      "avg_loss(data) = 0.43449435f0\n",
      "Training accuracy\n"
     ]
    },
    {
     "name": "stdout",
     "output_type": "stream",
     "text": [
      "accuracy(train_x, train_y) = 0.7957777777777778\n",
      "Test accuracy\n"
     ]
    },
    {
     "name": "stdout",
     "output_type": "stream",
     "text": [
      "accuracy(val_x, val_y) = 0.733\n"
     ]
    },
    {
     "name": "stdout",
     "output_type": "stream",
     "text": [
      "Training loss\n"
     ]
    },
    {
     "name": "stdout",
     "output_type": "stream",
     "text": [
      "avg_loss(data) = 0.4358649f0\n",
      "Training accuracy\n"
     ]
    },
    {
     "name": "stdout",
     "output_type": "stream",
     "text": [
      "accuracy(train_x, train_y) = 0.7966666666666666\n",
      "Test accuracy\n"
     ]
    },
    {
     "name": "stdout",
     "output_type": "stream",
     "text": [
      "accuracy(val_x, val_y) = 0.741\n"
     ]
    },
    {
     "name": "stdout",
     "output_type": "stream",
     "text": [
      "Training loss\n"
     ]
    },
    {
     "name": "stdout",
     "output_type": "stream",
     "text": [
      "avg_loss(data) = 0.4322449f0\n",
      "Training accuracy\n"
     ]
    },
    {
     "name": "stdout",
     "output_type": "stream",
     "text": [
      "accuracy(train_x, train_y) = 0.7987777777777778\n",
      "Test accuracy\n"
     ]
    },
    {
     "name": "stdout",
     "output_type": "stream",
     "text": [
      "accuracy(val_x, val_y) = 0.735\n"
     ]
    },
    {
     "name": "stdout",
     "output_type": "stream",
     "text": [
      "Training loss\n"
     ]
    },
    {
     "name": "stdout",
     "output_type": "stream",
     "text": [
      "avg_loss(data) = 0.42734262f0\n",
      "Training accuracy\n"
     ]
    },
    {
     "name": "stdout",
     "output_type": "stream",
     "text": [
      "accuracy(train_x, train_y) = 0.7996666666666666\n",
      "Test accuracy\n"
     ]
    },
    {
     "name": "stdout",
     "output_type": "stream",
     "text": [
      "accuracy(val_x, val_y) = 0.735\n"
     ]
    },
    {
     "name": "stdout",
     "output_type": "stream",
     "text": [
      "Training loss\n"
     ]
    },
    {
     "name": "stdout",
     "output_type": "stream",
     "text": [
      "avg_loss(data) = 0.43692446f0\n",
      "Training accuracy\n"
     ]
    },
    {
     "name": "stdout",
     "output_type": "stream",
     "text": [
      "accuracy(train_x, train_y) = 0.7935555555555556\n",
      "Test accuracy\n"
     ]
    },
    {
     "name": "stdout",
     "output_type": "stream",
     "text": [
      "accuracy(val_x, val_y) = 0.724\n"
     ]
    },
    {
     "name": "stdout",
     "output_type": "stream",
     "text": [
      "Training loss\n"
     ]
    },
    {
     "name": "stdout",
     "output_type": "stream",
     "text": [
      "avg_loss(data) = 0.42303112f0\n",
      "Training accuracy\n"
     ]
    },
    {
     "name": "stdout",
     "output_type": "stream",
     "text": [
      "accuracy(train_x, train_y) = 0.8057777777777778\n",
      "Test accuracy\n"
     ]
    },
    {
     "name": "stdout",
     "output_type": "stream",
     "text": [
      "accuracy(val_x, val_y) = 0.727\n"
     ]
    },
    {
     "name": "stdout",
     "output_type": "stream",
     "text": [
      "Training loss\n"
     ]
    },
    {
     "name": "stdout",
     "output_type": "stream",
     "text": [
      "avg_loss(data) = 0.4199823f0\n",
      "Training accuracy\n"
     ]
    },
    {
     "name": "stdout",
     "output_type": "stream",
     "text": [
      "accuracy(train_x, train_y) = 0.8053333333333333\n",
      "Test accuracy\n"
     ]
    },
    {
     "name": "stdout",
     "output_type": "stream",
     "text": [
      "accuracy(val_x, val_y) = 0.73\n"
     ]
    },
    {
     "name": "stdout",
     "output_type": "stream",
     "text": [
      "Training loss\n"
     ]
    },
    {
     "name": "stdout",
     "output_type": "stream",
     "text": [
      "avg_loss(data) = 0.42188278f0\n",
      "Training accuracy\n"
     ]
    },
    {
     "name": "stdout",
     "output_type": "stream",
     "text": [
      "accuracy(train_x, train_y) = 0.8017777777777778\n",
      "Test accuracy\n"
     ]
    },
    {
     "name": "stdout",
     "output_type": "stream",
     "text": [
      "accuracy(val_x, val_y) = 0.723\n"
     ]
    },
    {
     "name": "stdout",
     "output_type": "stream",
     "text": [
      "Training loss\n"
     ]
    },
    {
     "name": "stdout",
     "output_type": "stream",
     "text": [
      "avg_loss(data) = 0.41894913f0\n",
      "Training accuracy\n"
     ]
    },
    {
     "name": "stdout",
     "output_type": "stream",
     "text": [
      "accuracy(train_x, train_y) = 0.8071111111111111\n",
      "Test accuracy\n"
     ]
    },
    {
     "name": "stdout",
     "output_type": "stream",
     "text": [
      "accuracy(val_x, val_y) = 0.731\n"
     ]
    },
    {
     "name": "stdout",
     "output_type": "stream",
     "text": [
      "Training loss\n"
     ]
    },
    {
     "name": "stdout",
     "output_type": "stream",
     "text": [
      "avg_loss(data) = 0.4185024f0\n",
      "Training accuracy\n"
     ]
    },
    {
     "name": "stdout",
     "output_type": "stream",
     "text": [
      "accuracy(train_x, train_y) = 0.8084444444444444\n",
      "Test accuracy\n"
     ]
    },
    {
     "name": "stdout",
     "output_type": "stream",
     "text": [
      "accuracy(val_x, val_y) = 0.732\n"
     ]
    },
    {
     "name": "stdout",
     "output_type": "stream",
     "text": [
      "Training loss\n"
     ]
    },
    {
     "name": "stdout",
     "output_type": "stream",
     "text": [
      "avg_loss(data) = 0.43199775f0\n",
      "Training accuracy\n"
     ]
    },
    {
     "name": "stdout",
     "output_type": "stream",
     "text": [
      "accuracy(train_x, train_y) = 0.7962222222222223\n",
      "Test accuracy\n"
     ]
    },
    {
     "name": "stdout",
     "output_type": "stream",
     "text": [
      "accuracy(val_x, val_y) = 0.726\n"
     ]
    },
    {
     "name": "stdout",
     "output_type": "stream",
     "text": [
      "Training loss\n"
     ]
    },
    {
     "name": "stdout",
     "output_type": "stream",
     "text": [
      "avg_loss(data) = 0.41896236f0\n",
      "Training accuracy\n"
     ]
    },
    {
     "name": "stdout",
     "output_type": "stream",
     "text": [
      "accuracy(train_x, train_y) = 0.8054444444444444\n",
      "Test accuracy\n"
     ]
    },
    {
     "name": "stdout",
     "output_type": "stream",
     "text": [
      "accuracy(val_x, val_y) = 0.736\n"
     ]
    },
    {
     "name": "stdout",
     "output_type": "stream",
     "text": [
      "Training loss\n"
     ]
    },
    {
     "name": "stdout",
     "output_type": "stream",
     "text": [
      "avg_loss(data) = 0.417538f0\n",
      "Training accuracy\n"
     ]
    },
    {
     "name": "stdout",
     "output_type": "stream",
     "text": [
      "accuracy(train_x, train_y) = 0.8053333333333333\n",
      "Test accuracy\n"
     ]
    },
    {
     "name": "stdout",
     "output_type": "stream",
     "text": [
      "accuracy(val_x, val_y) = 0.737\n"
     ]
    },
    {
     "name": "stdout",
     "output_type": "stream",
     "text": [
      "Training loss\n"
     ]
    },
    {
     "name": "stdout",
     "output_type": "stream",
     "text": [
      "avg_loss(data) = 0.4175608f0\n",
      "Training accuracy\n"
     ]
    },
    {
     "name": "stdout",
     "output_type": "stream",
     "text": [
      "accuracy(train_x, train_y) = 0.8073333333333333\n",
      "Test accuracy\n"
     ]
    },
    {
     "name": "stdout",
     "output_type": "stream",
     "text": [
      "accuracy(val_x, val_y) = 0.733\n"
     ]
    },
    {
     "name": "stdout",
     "output_type": "stream",
     "text": [
      "Training loss\n"
     ]
    },
    {
     "name": "stdout",
     "output_type": "stream",
     "text": [
      "avg_loss(data) = 0.41768366f0\n",
      "Training accuracy\n"
     ]
    },
    {
     "name": "stdout",
     "output_type": "stream",
     "text": [
      "accuracy(train_x, train_y) = 0.8061111111111111\n",
      "Test accuracy\n"
     ]
    },
    {
     "name": "stdout",
     "output_type": "stream",
     "text": [
      "accuracy(val_x, val_y) = 0.745\n"
     ]
    },
    {
     "name": "stdout",
     "output_type": "stream",
     "text": [
      "Training loss\n"
     ]
    },
    {
     "name": "stdout",
     "output_type": "stream",
     "text": [
      "avg_loss(data) = 0.40935716f0\n",
      "Training accuracy\n"
     ]
    },
    {
     "name": "stdout",
     "output_type": "stream",
     "text": [
      "accuracy(train_x, train_y) = 0.814\n",
      "Test accuracy\n"
     ]
    },
    {
     "name": "stdout",
     "output_type": "stream",
     "text": [
      "accuracy(val_x, val_y) = 0.738\n"
     ]
    },
    {
     "name": "stdout",
     "output_type": "stream",
     "text": [
      "Training loss\n"
     ]
    },
    {
     "name": "stdout",
     "output_type": "stream",
     "text": [
      "avg_loss(data) = 0.41493723f0\n",
      "Training accuracy\n"
     ]
    },
    {
     "name": "stdout",
     "output_type": "stream",
     "text": [
      "accuracy(train_x, train_y) = 0.8078888888888889\n",
      "Test accuracy\n"
     ]
    },
    {
     "name": "stdout",
     "output_type": "stream",
     "text": [
      "accuracy(val_x, val_y) = 0.736\n"
     ]
    },
    {
     "name": "stdout",
     "output_type": "stream",
     "text": [
      "Training loss\n"
     ]
    },
    {
     "name": "stdout",
     "output_type": "stream",
     "text": [
      "avg_loss(data) = 0.42449567f0\n",
      "Training accuracy\n"
     ]
    },
    {
     "name": "stdout",
     "output_type": "stream",
     "text": [
      "accuracy(train_x, train_y) = 0.8027777777777778\n",
      "Test accuracy\n"
     ]
    },
    {
     "name": "stdout",
     "output_type": "stream",
     "text": [
      "accuracy(val_x, val_y) = 0.722\n"
     ]
    },
    {
     "name": "stdout",
     "output_type": "stream",
     "text": [
      "Training loss\n"
     ]
    },
    {
     "name": "stdout",
     "output_type": "stream",
     "text": [
      "avg_loss(data) = 0.41900524f0\n",
      "Training accuracy\n"
     ]
    },
    {
     "name": "stdout",
     "output_type": "stream",
     "text": [
      "accuracy(train_x, train_y) = 0.8055555555555556\n",
      "Test accuracy\n"
     ]
    },
    {
     "name": "stdout",
     "output_type": "stream",
     "text": [
      "accuracy(val_x, val_y) = 0.73\n"
     ]
    },
    {
     "name": "stdout",
     "output_type": "stream",
     "text": [
      "Training loss\n"
     ]
    },
    {
     "name": "stdout",
     "output_type": "stream",
     "text": [
      "avg_loss(data) = 0.42509887f0\n",
      "Training accuracy\n"
     ]
    },
    {
     "name": "stdout",
     "output_type": "stream",
     "text": [
      "accuracy(train_x, train_y) = 0.8023333333333333\n",
      "Test accuracy\n"
     ]
    },
    {
     "name": "stdout",
     "output_type": "stream",
     "text": [
      "accuracy(val_x, val_y) = 0.737\n"
     ]
    },
    {
     "name": "stdout",
     "output_type": "stream",
     "text": [
      "Training loss\n"
     ]
    },
    {
     "name": "stdout",
     "output_type": "stream",
     "text": [
      "avg_loss(data) = 0.40694803f0\n",
      "Training accuracy\n"
     ]
    },
    {
     "name": "stdout",
     "output_type": "stream",
     "text": [
      "accuracy(train_x, train_y) = 0.813\n",
      "Test accuracy\n"
     ]
    },
    {
     "name": "stdout",
     "output_type": "stream",
     "text": [
      "accuracy(val_x, val_y) = 0.729\n"
     ]
    },
    {
     "name": "stdout",
     "output_type": "stream",
     "text": [
      "Training loss\n"
     ]
    },
    {
     "name": "stdout",
     "output_type": "stream",
     "text": [
      "avg_loss(data) = 0.4087513f0\n",
      "Training accuracy\n"
     ]
    },
    {
     "name": "stdout",
     "output_type": "stream",
     "text": [
      "accuracy(train_x, train_y) = 0.8122222222222222\n",
      "Test accuracy\n"
     ]
    },
    {
     "name": "stdout",
     "output_type": "stream",
     "text": [
      "accuracy(val_x, val_y) = 0.731\n"
     ]
    },
    {
     "name": "stdout",
     "output_type": "stream",
     "text": [
      "Training loss\n"
     ]
    },
    {
     "name": "stdout",
     "output_type": "stream",
     "text": [
      "avg_loss(data) = 0.41095382f0\n",
      "Training accuracy\n"
     ]
    },
    {
     "name": "stdout",
     "output_type": "stream",
     "text": [
      "accuracy(train_x, train_y) = 0.8094444444444444\n",
      "Test accuracy\n"
     ]
    },
    {
     "name": "stdout",
     "output_type": "stream",
     "text": [
      "accuracy(val_x, val_y) = 0.73\n"
     ]
    },
    {
     "name": "stdout",
     "output_type": "stream",
     "text": [
      "Training loss\n"
     ]
    },
    {
     "name": "stdout",
     "output_type": "stream",
     "text": [
      "avg_loss(data) = 0.40573502f0\n",
      "Training accuracy\n"
     ]
    },
    {
     "name": "stdout",
     "output_type": "stream",
     "text": [
      "accuracy(train_x, train_y) = 0.8141111111111111\n",
      "Test accuracy\n"
     ]
    },
    {
     "name": "stdout",
     "output_type": "stream",
     "text": [
      "accuracy(val_x, val_y) = 0.725\n"
     ]
    },
    {
     "name": "stdout",
     "output_type": "stream",
     "text": [
      "Training loss\n"
     ]
    },
    {
     "name": "stdout",
     "output_type": "stream",
     "text": [
      "avg_loss(data) = 0.42271015f0\n",
      "Training accuracy\n"
     ]
    },
    {
     "name": "stdout",
     "output_type": "stream",
     "text": [
      "accuracy(train_x, train_y) = 0.8026666666666666\n",
      "Test accuracy\n"
     ]
    },
    {
     "name": "stdout",
     "output_type": "stream",
     "text": [
      "accuracy(val_x, val_y) = 0.722\n"
     ]
    },
    {
     "name": "stdout",
     "output_type": "stream",
     "text": [
      "Training loss\n"
     ]
    },
    {
     "name": "stdout",
     "output_type": "stream",
     "text": [
      "avg_loss(data) = 0.39778602f0\n",
      "Training accuracy\n"
     ]
    },
    {
     "name": "stdout",
     "output_type": "stream",
     "text": [
      "accuracy(train_x, train_y) = 0.8196666666666667\n",
      "Test accuracy\n"
     ]
    },
    {
     "name": "stdout",
     "output_type": "stream",
     "text": [
      "accuracy(val_x, val_y) = 0.728\n"
     ]
    },
    {
     "name": "stdout",
     "output_type": "stream",
     "text": [
      "Training loss\n"
     ]
    },
    {
     "name": "stdout",
     "output_type": "stream",
     "text": [
      "avg_loss(data) = 0.39503968f0\n",
      "Training accuracy\n"
     ]
    },
    {
     "name": "stdout",
     "output_type": "stream",
     "text": [
      "accuracy(train_x, train_y) = 0.8208888888888889\n",
      "Test accuracy\n"
     ]
    },
    {
     "name": "stdout",
     "output_type": "stream",
     "text": [
      "accuracy(val_x, val_y) = 0.721\n"
     ]
    },
    {
     "name": "stdout",
     "output_type": "stream",
     "text": [
      "Training loss\n"
     ]
    },
    {
     "name": "stdout",
     "output_type": "stream",
     "text": [
      "avg_loss(data) = 0.40292406f0\n",
      "Training accuracy\n"
     ]
    },
    {
     "name": "stdout",
     "output_type": "stream",
     "text": [
      "accuracy(train_x, train_y) = 0.8137777777777778\n",
      "Test accuracy\n"
     ]
    },
    {
     "name": "stdout",
     "output_type": "stream",
     "text": [
      "accuracy(val_x, val_y) = 0.719\n"
     ]
    },
    {
     "name": "stdout",
     "output_type": "stream",
     "text": [
      "Training loss\n"
     ]
    },
    {
     "name": "stdout",
     "output_type": "stream",
     "text": [
      "avg_loss(data) = 0.3995719f0\n",
      "Training accuracy\n"
     ]
    },
    {
     "name": "stdout",
     "output_type": "stream",
     "text": [
      "accuracy(train_x, train_y) = 0.8162222222222222\n",
      "Test accuracy\n"
     ]
    },
    {
     "name": "stdout",
     "output_type": "stream",
     "text": [
      "accuracy(val_x, val_y) = 0.733\n"
     ]
    },
    {
     "name": "stdout",
     "output_type": "stream",
     "text": [
      "Training loss\n"
     ]
    },
    {
     "name": "stdout",
     "output_type": "stream",
     "text": [
      "avg_loss(data) = 0.393608f0\n",
      "Training accuracy\n"
     ]
    },
    {
     "name": "stdout",
     "output_type": "stream",
     "text": [
      "accuracy(train_x, train_y) = 0.8211111111111111\n",
      "Test accuracy\n"
     ]
    },
    {
     "name": "stdout",
     "output_type": "stream",
     "text": [
      "accuracy(val_x, val_y) = 0.725\n"
     ]
    },
    {
     "name": "stdout",
     "output_type": "stream",
     "text": [
      "Training loss\n"
     ]
    },
    {
     "name": "stdout",
     "output_type": "stream",
     "text": [
      "avg_loss(data) = 0.40973717f0\n",
      "Training accuracy\n"
     ]
    },
    {
     "name": "stdout",
     "output_type": "stream",
     "text": [
      "accuracy(train_x, train_y) = 0.8085555555555556\n",
      "Test accuracy\n"
     ]
    },
    {
     "name": "stdout",
     "output_type": "stream",
     "text": [
      "accuracy(val_x, val_y) = 0.725\n"
     ]
    },
    {
     "name": "stdout",
     "output_type": "stream",
     "text": [
      "Training loss\n"
     ]
    },
    {
     "name": "stdout",
     "output_type": "stream",
     "text": [
      "avg_loss(data) = 0.39164466f0\n",
      "Training accuracy\n"
     ]
    },
    {
     "name": "stdout",
     "output_type": "stream",
     "text": [
      "accuracy(train_x, train_y) = 0.8208888888888889\n",
      "Test accuracy\n"
     ]
    },
    {
     "name": "stdout",
     "output_type": "stream",
     "text": [
      "accuracy(val_x, val_y) = 0.732\n"
     ]
    },
    {
     "name": "stdout",
     "output_type": "stream",
     "text": [
      "Training loss\n"
     ]
    },
    {
     "name": "stdout",
     "output_type": "stream",
     "text": [
      "avg_loss(data) = 0.38829958f0\n",
      "Training accuracy\n"
     ]
    },
    {
     "name": "stdout",
     "output_type": "stream",
     "text": [
      "accuracy(train_x, train_y) = 0.8247777777777778\n",
      "Test accuracy\n"
     ]
    },
    {
     "name": "stdout",
     "output_type": "stream",
     "text": [
      "accuracy(val_x, val_y) = 0.731\n"
     ]
    },
    {
     "name": "stdout",
     "output_type": "stream",
     "text": [
      "Training loss\n"
     ]
    },
    {
     "name": "stdout",
     "output_type": "stream",
     "text": [
      "avg_loss(data) = 0.38756195f0\n",
      "Training accuracy\n"
     ]
    },
    {
     "name": "stdout",
     "output_type": "stream",
     "text": [
      "accuracy(train_x, train_y) = 0.8258888888888889\n",
      "Test accuracy\n"
     ]
    },
    {
     "name": "stdout",
     "output_type": "stream",
     "text": [
      "accuracy(val_x, val_y) = 0.725\n"
     ]
    },
    {
     "name": "stdout",
     "output_type": "stream",
     "text": [
      "Training loss\n"
     ]
    },
    {
     "name": "stdout",
     "output_type": "stream",
     "text": [
      "avg_loss(data) = 0.41009054f0\n",
      "Training accuracy\n"
     ]
    },
    {
     "name": "stdout",
     "output_type": "stream",
     "text": [
      "accuracy(train_x, train_y) = 0.8073333333333333\n",
      "Test accuracy\n"
     ]
    },
    {
     "name": "stdout",
     "output_type": "stream",
     "text": [
      "accuracy(val_x, val_y) = 0.721\n"
     ]
    },
    {
     "name": "stdout",
     "output_type": "stream",
     "text": [
      "Training loss\n"
     ]
    },
    {
     "name": "stdout",
     "output_type": "stream",
     "text": [
      "avg_loss(data) = 0.38947657f0\n",
      "Training accuracy\n"
     ]
    },
    {
     "name": "stdout",
     "output_type": "stream",
     "text": [
      "accuracy(train_x, train_y) = 0.8224444444444444\n",
      "Test accuracy\n"
     ]
    },
    {
     "name": "stdout",
     "output_type": "stream",
     "text": [
      "accuracy(val_x, val_y) = 0.727\n"
     ]
    },
    {
     "name": "stdout",
     "output_type": "stream",
     "text": [
      "Training loss\n"
     ]
    },
    {
     "name": "stdout",
     "output_type": "stream",
     "text": [
      "avg_loss(data) = 0.38449374f0\n",
      "Training accuracy\n"
     ]
    },
    {
     "name": "stdout",
     "output_type": "stream",
     "text": [
      "accuracy(train_x, train_y) = 0.8262222222222222\n",
      "Test accuracy\n"
     ]
    },
    {
     "name": "stdout",
     "output_type": "stream",
     "text": [
      "accuracy(val_x, val_y) = 0.734\n"
     ]
    },
    {
     "name": "stdout",
     "output_type": "stream",
     "text": [
      "Training loss\n"
     ]
    },
    {
     "name": "stdout",
     "output_type": "stream",
     "text": [
      "avg_loss(data) = 0.38717753f0\n",
      "Training accuracy\n"
     ]
    },
    {
     "name": "stdout",
     "output_type": "stream",
     "text": [
      "accuracy(train_x, train_y) = 0.8222222222222222\n",
      "Test accuracy\n"
     ]
    },
    {
     "name": "stdout",
     "output_type": "stream",
     "text": [
      "accuracy(val_x, val_y) = 0.736\n"
     ]
    },
    {
     "name": "stdout",
     "output_type": "stream",
     "text": [
      "Training loss\n"
     ]
    },
    {
     "name": "stdout",
     "output_type": "stream",
     "text": [
      "avg_loss(data) = 0.392157f0\n",
      "Training accuracy\n"
     ]
    },
    {
     "name": "stdout",
     "output_type": "stream",
     "text": [
      "accuracy(train_x, train_y) = 0.8215555555555556\n",
      "Test accuracy\n"
     ]
    },
    {
     "name": "stdout",
     "output_type": "stream",
     "text": [
      "accuracy(val_x, val_y) = 0.73\n"
     ]
    },
    {
     "name": "stdout",
     "output_type": "stream",
     "text": [
      "Training loss\n"
     ]
    },
    {
     "name": "stdout",
     "output_type": "stream",
     "text": [
      "avg_loss(data) = 0.38896635f0\n",
      "Training accuracy\n"
     ]
    },
    {
     "name": "stdout",
     "output_type": "stream",
     "text": [
      "accuracy(train_x, train_y) = 0.8238888888888889\n",
      "Test accuracy\n"
     ]
    },
    {
     "name": "stdout",
     "output_type": "stream",
     "text": [
      "accuracy(val_x, val_y) = 0.731\n"
     ]
    },
    {
     "name": "stdout",
     "output_type": "stream",
     "text": [
      "Training loss\n"
     ]
    },
    {
     "name": "stdout",
     "output_type": "stream",
     "text": [
      "avg_loss(data) = 0.38687897f0\n",
      "Training accuracy\n"
     ]
    },
    {
     "name": "stdout",
     "output_type": "stream",
     "text": [
      "accuracy(train_x, train_y) = 0.8258888888888889\n",
      "Test accuracy\n"
     ]
    },
    {
     "name": "stdout",
     "output_type": "stream",
     "text": [
      "accuracy(val_x, val_y) = 0.736\n"
     ]
    },
    {
     "name": "stdout",
     "output_type": "stream",
     "text": [
      "Training loss\n"
     ]
    },
    {
     "name": "stdout",
     "output_type": "stream",
     "text": [
      "avg_loss(data) = 0.38867822f0\n",
      "Training accuracy\n"
     ]
    },
    {
     "name": "stdout",
     "output_type": "stream",
     "text": [
      "accuracy(train_x, train_y) = 0.8243333333333334\n",
      "Test accuracy\n"
     ]
    },
    {
     "name": "stdout",
     "output_type": "stream",
     "text": [
      "accuracy(val_x, val_y) = 0.733\n"
     ]
    },
    {
     "name": "stdout",
     "output_type": "stream",
     "text": [
      "Training loss\n"
     ]
    },
    {
     "name": "stdout",
     "output_type": "stream",
     "text": [
      "avg_loss(data) = 0.3999071f0\n",
      "Training accuracy\n"
     ]
    },
    {
     "name": "stdout",
     "output_type": "stream",
     "text": [
      "accuracy(train_x, train_y) = 0.8113333333333334\n",
      "Test accuracy\n"
     ]
    },
    {
     "name": "stdout",
     "output_type": "stream",
     "text": [
      "accuracy(val_x, val_y) = 0.719\n"
     ]
    },
    {
     "name": "stdout",
     "output_type": "stream",
     "text": [
      "Training loss\n"
     ]
    },
    {
     "name": "stdout",
     "output_type": "stream",
     "text": [
      "avg_loss(data) = 0.3916581f0\n",
      "Training accuracy\n"
     ]
    },
    {
     "name": "stdout",
     "output_type": "stream",
     "text": [
      "accuracy(train_x, train_y) = 0.8201111111111111\n",
      "Test accuracy\n"
     ]
    },
    {
     "name": "stdout",
     "output_type": "stream",
     "text": [
      "accuracy(val_x, val_y) = 0.721\n"
     ]
    },
    {
     "name": "stdout",
     "output_type": "stream",
     "text": [
      "Training loss\n"
     ]
    },
    {
     "name": "stdout",
     "output_type": "stream",
     "text": [
      "avg_loss(data) = 0.38459814f0\n",
      "Training accuracy\n"
     ]
    },
    {
     "name": "stdout",
     "output_type": "stream",
     "text": [
      "accuracy(train_x, train_y) = 0.8285555555555556\n",
      "Test accuracy\n"
     ]
    },
    {
     "name": "stdout",
     "output_type": "stream",
     "text": [
      "accuracy(val_x, val_y) = 0.72\n"
     ]
    },
    {
     "name": "stdout",
     "output_type": "stream",
     "text": [
      "Training loss\n"
     ]
    },
    {
     "name": "stdout",
     "output_type": "stream",
     "text": [
      "avg_loss(data) = 0.41424972f0\n",
      "Training accuracy\n"
     ]
    },
    {
     "name": "stdout",
     "output_type": "stream",
     "text": [
      "accuracy(train_x, train_y) = 0.8073333333333333\n",
      "Test accuracy\n"
     ]
    },
    {
     "name": "stdout",
     "output_type": "stream",
     "text": [
      "accuracy(val_x, val_y) = 0.717\n"
     ]
    },
    {
     "name": "stdout",
     "output_type": "stream",
     "text": [
      "Training loss\n"
     ]
    },
    {
     "name": "stdout",
     "output_type": "stream",
     "text": [
      "avg_loss(data) = 0.4800469f0\n",
      "Training accuracy\n"
     ]
    },
    {
     "name": "stdout",
     "output_type": "stream",
     "text": [
      "accuracy(train_x, train_y) = 0.7658888888888888\n",
      "Test accuracy\n"
     ]
    },
    {
     "name": "stdout",
     "output_type": "stream",
     "text": [
      "accuracy(val_x, val_y) = 0.686\n"
     ]
    },
    {
     "name": "stdout",
     "output_type": "stream",
     "text": [
      "Training loss\n"
     ]
    },
    {
     "name": "stdout",
     "output_type": "stream",
     "text": [
      "avg_loss(data) = 0.4775647f0\n",
      "Training accuracy\n"
     ]
    },
    {
     "name": "stdout",
     "output_type": "stream",
     "text": [
      "accuracy(train_x, train_y) = 0.7777777777777778\n",
      "Test accuracy\n"
     ]
    },
    {
     "name": "stdout",
     "output_type": "stream",
     "text": [
      "accuracy(val_x, val_y) = 0.698\n"
     ]
    },
    {
     "name": "stdout",
     "output_type": "stream",
     "text": [
      "Training loss\n"
     ]
    },
    {
     "name": "stdout",
     "output_type": "stream",
     "text": [
      "avg_loss(data) = 0.45843711f0\n",
      "Training accuracy\n"
     ]
    },
    {
     "name": "stdout",
     "output_type": "stream",
     "text": [
      "accuracy(train_x, train_y) = 0.7778888888888889\n",
      "Test accuracy\n"
     ]
    },
    {
     "name": "stdout",
     "output_type": "stream",
     "text": [
      "accuracy(val_x, val_y) = 0.689\n"
     ]
    },
    {
     "name": "stdout",
     "output_type": "stream",
     "text": [
      "Training loss\n"
     ]
    },
    {
     "name": "stdout",
     "output_type": "stream",
     "text": [
      "avg_loss(data) = 0.42194843f0\n",
      "Training accuracy\n"
     ]
    },
    {
     "name": "stdout",
     "output_type": "stream",
     "text": [
      "accuracy(train_x, train_y) = 0.8034444444444444\n",
      "Test accuracy\n"
     ]
    },
    {
     "name": "stdout",
     "output_type": "stream",
     "text": [
      "accuracy(val_x, val_y) = 0.717\n"
     ]
    },
    {
     "name": "stdout",
     "output_type": "stream",
     "text": [
      "Training loss\n"
     ]
    },
    {
     "name": "stdout",
     "output_type": "stream",
     "text": [
      "avg_loss(data) = 0.3954563f0\n",
      "Training accuracy\n"
     ]
    },
    {
     "name": "stdout",
     "output_type": "stream",
     "text": [
      "accuracy(train_x, train_y) = 0.8203333333333334\n",
      "Test accuracy\n"
     ]
    },
    {
     "name": "stdout",
     "output_type": "stream",
     "text": [
      "accuracy(val_x, val_y) = 0.721\n"
     ]
    },
    {
     "name": "stdout",
     "output_type": "stream",
     "text": [
      "Training loss\n"
     ]
    },
    {
     "name": "stdout",
     "output_type": "stream",
     "text": [
      "avg_loss(data) = 0.38758978f0\n",
      "Training accuracy\n"
     ]
    },
    {
     "name": "stdout",
     "output_type": "stream",
     "text": [
      "accuracy(train_x, train_y) = 0.8251111111111111\n",
      "Test accuracy\n"
     ]
    },
    {
     "name": "stdout",
     "output_type": "stream",
     "text": [
      "accuracy(val_x, val_y) = 0.727\n"
     ]
    },
    {
     "name": "stdout",
     "output_type": "stream",
     "text": [
      "Training loss\n"
     ]
    },
    {
     "name": "stdout",
     "output_type": "stream",
     "text": [
      "avg_loss(data) = 0.3910493f0\n",
      "Training accuracy\n"
     ]
    },
    {
     "name": "stdout",
     "output_type": "stream",
     "text": [
      "accuracy(train_x, train_y) = 0.8213333333333334\n",
      "Test accuracy\n"
     ]
    },
    {
     "name": "stdout",
     "output_type": "stream",
     "text": [
      "accuracy(val_x, val_y) = 0.718\n"
     ]
    },
    {
     "name": "stdout",
     "output_type": "stream",
     "text": [
      "Training loss\n"
     ]
    },
    {
     "name": "stdout",
     "output_type": "stream",
     "text": [
      "avg_loss(data) = 0.38223433f0\n",
      "Training accuracy\n"
     ]
    },
    {
     "name": "stdout",
     "output_type": "stream",
     "text": [
      "accuracy(train_x, train_y) = 0.8265555555555556\n",
      "Test accuracy\n"
     ]
    },
    {
     "name": "stdout",
     "output_type": "stream",
     "text": [
      "accuracy(val_x, val_y) = 0.714\n"
     ]
    },
    {
     "name": "stdout",
     "output_type": "stream",
     "text": [
      "Training loss\n"
     ]
    },
    {
     "name": "stdout",
     "output_type": "stream",
     "text": [
      "avg_loss(data) = 0.38058212f0\n",
      "Training accuracy\n"
     ]
    },
    {
     "name": "stdout",
     "output_type": "stream",
     "text": [
      "accuracy(train_x, train_y) = 0.8287777777777777\n",
      "Test accuracy\n"
     ]
    },
    {
     "name": "stdout",
     "output_type": "stream",
     "text": [
      "accuracy(val_x, val_y) = 0.722\n"
     ]
    },
    {
     "name": "stdout",
     "output_type": "stream",
     "text": [
      "Training loss\n"
     ]
    },
    {
     "name": "stdout",
     "output_type": "stream",
     "text": [
      "avg_loss(data) = 0.39561906f0\n",
      "Training accuracy\n"
     ]
    },
    {
     "name": "stdout",
     "output_type": "stream",
     "text": [
      "accuracy(train_x, train_y) = 0.8185555555555556\n",
      "Test accuracy\n"
     ]
    },
    {
     "name": "stdout",
     "output_type": "stream",
     "text": [
      "accuracy(val_x, val_y) = 0.721\n"
     ]
    },
    {
     "name": "stdout",
     "output_type": "stream",
     "text": [
      "Training loss\n"
     ]
    },
    {
     "name": "stdout",
     "output_type": "stream",
     "text": [
      "avg_loss(data) = 0.41273764f0\n",
      "Training accuracy\n"
     ]
    },
    {
     "name": "stdout",
     "output_type": "stream",
     "text": [
      "accuracy(train_x, train_y) = 0.8101111111111111\n",
      "Test accuracy\n"
     ]
    },
    {
     "name": "stdout",
     "output_type": "stream",
     "text": [
      "accuracy(val_x, val_y) = 0.704\n"
     ]
    },
    {
     "name": "stdout",
     "output_type": "stream",
     "text": [
      "Training loss\n"
     ]
    },
    {
     "name": "stdout",
     "output_type": "stream",
     "text": [
      "avg_loss(data) = 0.3810971f0\n",
      "Training accuracy\n"
     ]
    },
    {
     "name": "stdout",
     "output_type": "stream",
     "text": [
      "accuracy(train_x, train_y) = 0.8284444444444444\n",
      "Test accuracy\n"
     ]
    },
    {
     "name": "stdout",
     "output_type": "stream",
     "text": [
      "accuracy(val_x, val_y) = 0.729\n"
     ]
    },
    {
     "name": "stdout",
     "output_type": "stream",
     "text": [
      "Training loss\n"
     ]
    },
    {
     "name": "stdout",
     "output_type": "stream",
     "text": [
      "avg_loss(data) = 0.37465852f0\n",
      "Training accuracy\n"
     ]
    },
    {
     "name": "stdout",
     "output_type": "stream",
     "text": [
      "accuracy(train_x, train_y) = 0.8316666666666667\n",
      "Test accuracy\n"
     ]
    },
    {
     "name": "stdout",
     "output_type": "stream",
     "text": [
      "accuracy(val_x, val_y) = 0.733\n"
     ]
    },
    {
     "name": "stdout",
     "output_type": "stream",
     "text": [
      "Training loss\n"
     ]
    },
    {
     "name": "stdout",
     "output_type": "stream",
     "text": [
      "avg_loss(data) = 0.3720976f0\n",
      "Training accuracy\n"
     ]
    },
    {
     "name": "stdout",
     "output_type": "stream",
     "text": [
      "accuracy(train_x, train_y) = 0.8314444444444444\n",
      "Test accuracy\n"
     ]
    },
    {
     "name": "stdout",
     "output_type": "stream",
     "text": [
      "accuracy(val_x, val_y) = 0.736\n"
     ]
    },
    {
     "name": "stdout",
     "output_type": "stream",
     "text": [
      "Training loss\n"
     ]
    },
    {
     "name": "stdout",
     "output_type": "stream",
     "text": [
      "avg_loss(data) = 0.37251684f0\n",
      "Training accuracy\n"
     ]
    },
    {
     "name": "stdout",
     "output_type": "stream",
     "text": [
      "accuracy(train_x, train_y) = 0.8296666666666667\n",
      "Test accuracy\n"
     ]
    },
    {
     "name": "stdout",
     "output_type": "stream",
     "text": [
      "accuracy(val_x, val_y) = 0.718\n"
     ]
    },
    {
     "name": "stdout",
     "output_type": "stream",
     "text": [
      "Training loss\n"
     ]
    },
    {
     "name": "stdout",
     "output_type": "stream",
     "text": [
      "avg_loss(data) = 0.37530887f0\n",
      "Training accuracy\n"
     ]
    },
    {
     "name": "stdout",
     "output_type": "stream",
     "text": [
      "accuracy(train_x, train_y) = 0.8291111111111111\n",
      "Test accuracy\n"
     ]
    },
    {
     "name": "stdout",
     "output_type": "stream",
     "text": [
      "accuracy(val_x, val_y) = 0.713\n"
     ]
    },
    {
     "name": "stdout",
     "output_type": "stream",
     "text": [
      "Training loss\n"
     ]
    },
    {
     "name": "stdout",
     "output_type": "stream",
     "text": [
      "avg_loss(data) = 0.3679481f0\n",
      "Training accuracy\n"
     ]
    },
    {
     "name": "stdout",
     "output_type": "stream",
     "text": [
      "accuracy(train_x, train_y) = 0.8347777777777777\n",
      "Test accuracy\n"
     ]
    },
    {
     "name": "stdout",
     "output_type": "stream",
     "text": [
      "accuracy(val_x, val_y) = 0.722\n"
     ]
    },
    {
     "name": "stdout",
     "output_type": "stream",
     "text": [
      "Training loss\n"
     ]
    },
    {
     "name": "stdout",
     "output_type": "stream",
     "text": [
      "avg_loss(data) = 0.3571662f0\n",
      "Training accuracy\n"
     ]
    },
    {
     "name": "stdout",
     "output_type": "stream",
     "text": [
      "accuracy(train_x, train_y) = 0.8403333333333334\n",
      "Test accuracy\n"
     ]
    },
    {
     "name": "stdout",
     "output_type": "stream",
     "text": [
      "accuracy(val_x, val_y) = 0.74\n"
     ]
    },
    {
     "name": "stdout",
     "output_type": "stream",
     "text": [
      "Training loss\n"
     ]
    },
    {
     "name": "stdout",
     "output_type": "stream",
     "text": [
      "avg_loss(data) = 0.3817682f0\n",
      "Training accuracy\n"
     ]
    },
    {
     "name": "stdout",
     "output_type": "stream",
     "text": [
      "accuracy(train_x, train_y) = 0.8224444444444444\n",
      "Test accuracy\n"
     ]
    },
    {
     "name": "stdout",
     "output_type": "stream",
     "text": [
      "accuracy(val_x, val_y) = 0.729\n"
     ]
    },
    {
     "name": "stdout",
     "output_type": "stream",
     "text": [
      "Training loss\n"
     ]
    },
    {
     "name": "stdout",
     "output_type": "stream",
     "text": [
      "avg_loss(data) = 0.36030126f0\n",
      "Training accuracy\n"
     ]
    },
    {
     "name": "stdout",
     "output_type": "stream",
     "text": [
      "accuracy(train_x, train_y) = 0.8393333333333334\n",
      "Test accuracy\n"
     ]
    },
    {
     "name": "stdout",
     "output_type": "stream",
     "text": [
      "accuracy(val_x, val_y) = 0.722\n"
     ]
    },
    {
     "name": "stdout",
     "output_type": "stream",
     "text": [
      "Training loss\n"
     ]
    },
    {
     "name": "stdout",
     "output_type": "stream",
     "text": [
      "avg_loss(data) = 0.35826373f0\n",
      "Training accuracy\n"
     ]
    },
    {
     "name": "stdout",
     "output_type": "stream",
     "text": [
      "accuracy(train_x, train_y) = 0.8435555555555555\n",
      "Test accuracy\n"
     ]
    },
    {
     "name": "stdout",
     "output_type": "stream",
     "text": [
      "accuracy(val_x, val_y) = 0.732\n"
     ]
    },
    {
     "name": "stdout",
     "output_type": "stream",
     "text": [
      "Training loss\n"
     ]
    },
    {
     "name": "stdout",
     "output_type": "stream",
     "text": [
      "avg_loss(data) = 0.36222357f0\n",
      "Training accuracy\n"
     ]
    },
    {
     "name": "stdout",
     "output_type": "stream",
     "text": [
      "accuracy(train_x, train_y) = 0.8364444444444444\n",
      "Test accuracy\n"
     ]
    },
    {
     "name": "stdout",
     "output_type": "stream",
     "text": [
      "accuracy(val_x, val_y) = 0.734\n"
     ]
    },
    {
     "name": "stdout",
     "output_type": "stream",
     "text": [
      "Training loss\n"
     ]
    },
    {
     "name": "stdout",
     "output_type": "stream",
     "text": [
      "avg_loss(data) = 0.36589655f0\n",
      "Training accuracy\n"
     ]
    },
    {
     "name": "stdout",
     "output_type": "stream",
     "text": [
      "accuracy(train_x, train_y) = 0.8334444444444444\n",
      "Test accuracy\n"
     ]
    },
    {
     "name": "stdout",
     "output_type": "stream",
     "text": [
      "accuracy(val_x, val_y) = 0.727\n"
     ]
    },
    {
     "name": "stdout",
     "output_type": "stream",
     "text": [
      "Training loss\n"
     ]
    },
    {
     "name": "stdout",
     "output_type": "stream",
     "text": [
      "avg_loss(data) = 0.35664594f0\n",
      "Training accuracy\n"
     ]
    },
    {
     "name": "stdout",
     "output_type": "stream",
     "text": [
      "accuracy(train_x, train_y) = 0.8411111111111111\n",
      "Test accuracy\n"
     ]
    },
    {
     "name": "stdout",
     "output_type": "stream",
     "text": [
      "accuracy(val_x, val_y) = 0.733\n"
     ]
    },
    {
     "name": "stdout",
     "output_type": "stream",
     "text": [
      "Training loss\n"
     ]
    },
    {
     "name": "stdout",
     "output_type": "stream",
     "text": [
      "avg_loss(data) = 0.3504218f0\n",
      "Training accuracy\n"
     ]
    },
    {
     "name": "stdout",
     "output_type": "stream",
     "text": [
      "accuracy(train_x, train_y) = 0.8423333333333334\n",
      "Test accuracy\n"
     ]
    },
    {
     "name": "stdout",
     "output_type": "stream",
     "text": [
      "accuracy(val_x, val_y) = 0.736\n"
     ]
    }
   ],
   "source": [
    "retrain = true\n",
    "include(\"CIFAR10.jl\")"
   ]
  },
  {
   "cell_type": "code",
   "execution_count": 155,
   "metadata": {},
   "outputs": [
    {
     "data": {
      "image/png": "[encoded data removed]",
      "image/svg+xml": "<?xml version=\"1.0\" encoding=\"utf-8\"?>\n<svg xmlns=\"http://www.w3.org/2000/svg\" xmlns:xlink=\"http://www.w3.org/1999/xlink\" width=\"100\" height=\"100\" viewBox=\"0 0 400 400\">\n<defs>\n  <clipPath id=\"clip280\">\n    <rect x=\"0\" y=\"0\" width=\"400\" height=\"400\"/>\n  </clipPath>\n</defs>\n<path clip-path=\"url(#clip280)\" d=\"\nM0 400 L400 400 L400 0 L0 0  Z\n  \" fill=\"#ffffff\" fill-rule=\"evenodd\" fill-opacity=\"1\"/>\n<defs>\n  <clipPath id=\"clip281\">\n    <rect x=\"80\" y=\"40\" width=\"281\" height=\"281\"/>\n  </clipPath>\n</defs>\n<path clip-path=\"url(#clip280)\" d=\"\nM120.696 280.236 L352.756 280.236 L352.756 48.1758 L120.696 48.1758  Z\n  \" fill=\"#ffffff\" fill-rule=\"evenodd\" fill-opacity=\"1\"/>\n<defs>\n  <clipPath id=\"clip282\">\n    <rect x=\"120\" y=\"48\" width=\"233\" height=\"233\"/>\n  </clipPath>\n</defs>\n<polyline clip-path=\"url(#clip282)\" style=\"stroke:#000000; stroke-linecap:butt; stroke-linejoin:round; stroke-width:2; stroke-opacity:0.1; fill:none\" points=\"\n  153.329,48.1758 153.329,280.236 \n  \"/>\n<polyline clip-path=\"url(#clip282)\" style=\"stroke:#000000; stroke-linecap:butt; stroke-linejoin:round; stroke-width:2; stroke-opacity:0.1; fill:none\" points=\"\n  189.588,48.1758 189.588,280.236 \n  \"/>\n<polyline clip-path=\"url(#clip282)\" style=\"stroke:#000000; stroke-linecap:butt; stroke-linejoin:round; stroke-width:2; stroke-opacity:0.1; fill:none\" points=\"\n  225.848,48.1758 225.848,280.236 \n  \"/>\n<polyline clip-path=\"url(#clip282)\" style=\"stroke:#000000; stroke-linecap:butt; stroke-linejoin:round; stroke-width:2; stroke-opacity:0.1; fill:none\" points=\"\n  262.107,48.1758 262.107,280.236 \n  \"/>\n<polyline clip-path=\"url(#clip282)\" style=\"stroke:#000000; stroke-linecap:butt; stroke-linejoin:round; stroke-width:2; stroke-opacity:0.1; fill:none\" points=\"\n  298.367,48.1758 298.367,280.236 \n  \"/>\n<polyline clip-path=\"url(#clip282)\" style=\"stroke:#000000; stroke-linecap:butt; stroke-linejoin:round; stroke-width:2; stroke-opacity:0.1; fill:none\" points=\"\n  334.626,48.1758 334.626,280.236 \n  \"/>\n<polyline clip-path=\"url(#clip280)\" style=\"stroke:#000000; stroke-linecap:butt; stroke-linejoin:round; stroke-width:4; stroke-opacity:1; fill:none\" points=\"\n  120.696,280.236 352.756,280.236 \n  \"/>\n<polyline clip-path=\"url(#clip280)\" style=\"stroke:#000000; stroke-linecap:butt; stroke-linejoin:round; stroke-width:4; stroke-opacity:1; fill:none\" points=\"\n  153.329,280.236 153.329,261.489 \n  \"/>\n<polyline clip-path=\"url(#clip280)\" style=\"stroke:#000000; stroke-linecap:butt; stroke-linejoin:round; stroke-width:4; stroke-opacity:1; fill:none\" points=\"\n  189.588,280.236 189.588,261.489 \n  \"/>\n<polyline clip-path=\"url(#clip280)\" style=\"stroke:#000000; stroke-linecap:butt; stroke-linejoin:round; stroke-width:4; stroke-opacity:1; fill:none\" points=\"\n  225.848,280.236 225.848,261.489 \n  \"/>\n<polyline clip-path=\"url(#clip280)\" style=\"stroke:#000000; stroke-linecap:butt; stroke-linejoin:round; stroke-width:4; stroke-opacity:1; fill:none\" points=\"\n  262.107,280.236 262.107,261.489 \n  \"/>\n<polyline clip-path=\"url(#clip280)\" style=\"stroke:#000000; stroke-linecap:butt; stroke-linejoin:round; stroke-width:4; stroke-opacity:1; fill:none\" points=\"\n  298.367,280.236 298.367,261.489 \n  \"/>\n<polyline clip-path=\"url(#clip280)\" style=\"stroke:#000000; stroke-linecap:butt; stroke-linejoin:round; stroke-width:4; stroke-opacity:1; fill:none\" points=\"\n  334.626,280.236 334.626,261.489 \n  \"/>\n<path clip-path=\"url(#clip280)\" d=\"M143.607 292.076 L161.963 292.076 L161.963 296.011 L147.889 296.011 L147.889 304.484 Q148.908 304.136 149.926 303.974 Q150.945 303.789 151.963 303.789 Q157.75 303.789 161.13 306.96 Q164.51 310.132 164.51 315.548 Q164.51 321.127 161.037 324.229 Q157.565 327.307 151.246 327.307 Q149.07 327.307 146.801 326.937 Q144.556 326.567 142.149 325.826 L142.149 321.127 Q144.232 322.261 146.454 322.817 Q148.676 323.372 151.153 323.372 Q155.158 323.372 157.496 321.266 Q159.834 319.159 159.834 315.548 Q159.834 311.937 157.496 309.831 Q155.158 307.724 151.153 307.724 Q149.278 307.724 147.403 308.141 Q145.551 308.558 143.607 309.437 L143.607 292.076 Z\" fill=\"#000000\" fill-rule=\"evenodd\" fill-opacity=\"1\" /><path clip-path=\"url(#clip280)\" d=\"M164.276 322.701 L171.915 322.701 L171.915 296.335 L163.605 298.002 L163.605 293.743 L171.869 292.076 L176.545 292.076 L176.545 322.701 L184.183 322.701 L184.183 326.636 L164.276 326.636 L164.276 322.701 Z\" fill=\"#000000\" fill-rule=\"evenodd\" fill-opacity=\"1\" /><path clip-path=\"url(#clip280)\" d=\"M203.628 295.155 Q200.017 295.155 198.188 298.72 Q196.382 302.261 196.382 309.391 Q196.382 316.497 198.188 320.062 Q200.017 323.604 203.628 323.604 Q207.262 323.604 209.068 320.062 Q210.896 316.497 210.896 309.391 Q210.896 302.261 209.068 298.72 Q207.262 295.155 203.628 295.155 M203.628 291.451 Q209.438 291.451 212.493 296.058 Q215.572 300.641 215.572 309.391 Q215.572 318.118 212.493 322.724 Q209.438 327.307 203.628 327.307 Q197.818 327.307 194.739 322.724 Q191.683 318.118 191.683 309.391 Q191.683 300.641 194.739 296.058 Q197.818 291.451 203.628 291.451 Z\" fill=\"#000000\" fill-rule=\"evenodd\" fill-opacity=\"1\" /><path clip-path=\"url(#clip280)\" d=\"M201.033 322.701 L208.672 322.701 L208.672 296.335 L200.362 298.002 L200.362 293.743 L208.626 292.076 L213.302 292.076 L213.302 322.701 L220.941 322.701 L220.941 326.636 L201.033 326.636 L201.033 322.701 Z\" fill=\"#000000\" fill-rule=\"evenodd\" fill-opacity=\"1\" /><path clip-path=\"url(#clip280)\" d=\"M230.431 292.076 L248.788 292.076 L248.788 296.011 L234.714 296.011 L234.714 304.484 Q235.732 304.136 236.751 303.974 Q237.769 303.789 238.788 303.789 Q244.575 303.789 247.954 306.96 Q251.334 310.132 251.334 315.548 Q251.334 321.127 247.862 324.229 Q244.389 327.307 238.07 327.307 Q235.894 327.307 233.626 326.937 Q231.38 326.567 228.973 325.826 L228.973 321.127 Q231.056 322.261 233.278 322.817 Q235.501 323.372 237.977 323.372 Q241.982 323.372 244.32 321.266 Q246.658 319.159 246.658 315.548 Q246.658 311.937 244.32 309.831 Q241.982 307.724 237.977 307.724 Q236.102 307.724 234.227 308.141 Q232.376 308.558 230.431 309.437 L230.431 292.076 Z\" fill=\"#000000\" fill-rule=\"evenodd\" fill-opacity=\"1\" /><path clip-path=\"url(#clip280)\" d=\"M240.881 322.701 L257.2 322.701 L257.2 326.636 L235.256 326.636 L235.256 322.701 Q237.918 319.946 242.501 315.317 Q247.107 310.664 248.288 309.321 Q250.533 306.798 251.413 305.062 Q252.316 303.303 252.316 301.613 Q252.316 298.859 250.371 297.122 Q248.45 295.386 245.348 295.386 Q243.149 295.386 240.695 296.15 Q238.265 296.914 235.487 298.465 L235.487 293.743 Q238.311 292.609 240.765 292.03 Q243.219 291.451 245.256 291.451 Q250.626 291.451 253.82 294.136 Q257.015 296.822 257.015 301.312 Q257.015 303.442 256.205 305.363 Q255.418 307.261 253.311 309.854 Q252.732 310.525 249.631 313.743 Q246.529 316.937 240.881 322.701 Z\" fill=\"#000000\" fill-rule=\"evenodd\" fill-opacity=\"1\" /><path clip-path=\"url(#clip280)\" d=\"M277.015 295.155 Q273.404 295.155 271.575 298.72 Q269.769 302.261 269.769 309.391 Q269.769 316.497 271.575 320.062 Q273.404 323.604 277.015 323.604 Q280.649 323.604 282.454 320.062 Q284.283 316.497 284.283 309.391 Q284.283 302.261 282.454 298.72 Q280.649 295.155 277.015 295.155 M277.015 291.451 Q282.825 291.451 285.88 296.058 Q288.959 300.641 288.959 309.391 Q288.959 318.118 285.88 322.724 Q282.825 327.307 277.015 327.307 Q271.204 327.307 268.126 322.724 Q265.07 318.118 265.07 309.391 Q265.07 300.641 268.126 296.058 Q271.204 291.451 277.015 291.451 Z\" fill=\"#000000\" fill-rule=\"evenodd\" fill-opacity=\"1\" /><path clip-path=\"url(#clip280)\" d=\"M277.638 322.701 L293.957 322.701 L293.957 326.636 L272.013 326.636 L272.013 322.701 Q274.675 319.946 279.258 315.317 Q283.865 310.664 285.045 309.321 Q287.29 306.798 288.17 305.062 Q289.073 303.303 289.073 301.613 Q289.073 298.859 287.128 297.122 Q285.207 295.386 282.105 295.386 Q279.906 295.386 277.453 296.15 Q275.022 296.914 272.244 298.465 L272.244 293.743 Q275.068 292.609 277.522 292.03 Q279.976 291.451 282.013 291.451 Q287.383 291.451 290.577 294.136 Q293.772 296.822 293.772 301.312 Q293.772 303.442 292.962 305.363 Q292.175 307.261 290.068 309.854 Q289.489 310.525 286.388 313.743 Q283.286 316.937 277.638 322.701 Z\" fill=\"#000000\" fill-rule=\"evenodd\" fill-opacity=\"1\" /><path clip-path=\"url(#clip280)\" d=\"M303.818 292.076 L322.175 292.076 L322.175 296.011 L308.101 296.011 L308.101 304.484 Q309.119 304.136 310.138 303.974 Q311.156 303.789 312.175 303.789 Q317.962 303.789 321.341 306.96 Q324.721 310.132 324.721 315.548 Q324.721 321.127 321.249 324.229 Q317.776 327.307 311.457 327.307 Q309.281 327.307 307.013 326.937 Q304.767 326.567 302.36 325.826 L302.36 321.127 Q304.443 322.261 306.665 322.817 Q308.888 323.372 311.364 323.372 Q315.369 323.372 317.707 321.266 Q320.045 319.159 320.045 315.548 Q320.045 311.937 317.707 309.831 Q315.369 307.724 311.364 307.724 Q309.489 307.724 307.614 308.141 Q305.763 308.558 303.818 309.437 L303.818 292.076 Z\" fill=\"#000000\" fill-rule=\"evenodd\" fill-opacity=\"1\" /><path clip-path=\"url(#clip280)\" d=\"M323.469 308.002 Q326.825 308.72 328.7 310.988 Q330.598 313.257 330.598 316.59 Q330.598 321.706 327.08 324.507 Q323.561 327.307 317.08 327.307 Q314.904 327.307 312.589 326.868 Q310.298 326.451 307.844 325.595 L307.844 321.081 Q309.788 322.215 312.103 322.794 Q314.418 323.372 316.941 323.372 Q321.339 323.372 323.631 321.636 Q325.946 319.9 325.946 316.59 Q325.946 313.534 323.793 311.821 Q321.663 310.085 317.844 310.085 L313.816 310.085 L313.816 306.243 L318.029 306.243 Q321.478 306.243 323.307 304.877 Q325.135 303.488 325.135 300.896 Q325.135 298.234 323.237 296.822 Q321.362 295.386 317.844 295.386 Q315.923 295.386 313.724 295.803 Q311.524 296.22 308.886 297.099 L308.886 292.933 Q311.548 292.192 313.862 291.822 Q316.2 291.451 318.261 291.451 Q323.585 291.451 326.686 293.882 Q329.788 296.289 329.788 300.409 Q329.788 303.28 328.145 305.271 Q326.501 307.238 323.469 308.002 Z\" fill=\"#000000\" fill-rule=\"evenodd\" fill-opacity=\"1\" /><path clip-path=\"url(#clip280)\" d=\"M349.464 295.155 Q345.853 295.155 344.024 298.72 Q342.219 302.261 342.219 309.391 Q342.219 316.497 344.024 320.062 Q345.853 323.604 349.464 323.604 Q353.098 323.604 354.904 320.062 Q356.733 316.497 356.733 309.391 Q356.733 302.261 354.904 298.72 Q353.098 295.155 349.464 295.155 M349.464 291.451 Q355.274 291.451 358.33 296.058 Q361.408 300.641 361.408 309.391 Q361.408 318.118 358.33 322.724 Q355.274 327.307 349.464 327.307 Q343.654 327.307 340.575 322.724 Q337.52 318.118 337.52 309.391 Q337.52 300.641 340.575 296.058 Q343.654 291.451 349.464 291.451 Z\" fill=\"#000000\" fill-rule=\"evenodd\" fill-opacity=\"1\" /><polyline clip-path=\"url(#clip282)\" style=\"stroke:#000000; stroke-linecap:butt; stroke-linejoin:round; stroke-width:2; stroke-opacity:0.1; fill:none\" points=\"\n  120.696,80.8093 352.756,80.8093 \n  \"/>\n<polyline clip-path=\"url(#clip282)\" style=\"stroke:#000000; stroke-linecap:butt; stroke-linejoin:round; stroke-width:2; stroke-opacity:0.1; fill:none\" points=\"\n  120.696,117.069 352.756,117.069 \n  \"/>\n<polyline clip-path=\"url(#clip282)\" style=\"stroke:#000000; stroke-linecap:butt; stroke-linejoin:round; stroke-width:2; stroke-opacity:0.1; fill:none\" points=\"\n  120.696,153.328 352.756,153.328 \n  \"/>\n<polyline clip-path=\"url(#clip282)\" style=\"stroke:#000000; stroke-linecap:butt; stroke-linejoin:round; stroke-width:2; stroke-opacity:0.1; fill:none\" points=\"\n  120.696,189.588 352.756,189.588 \n  \"/>\n<polyline clip-path=\"url(#clip282)\" style=\"stroke:#000000; stroke-linecap:butt; stroke-linejoin:round; stroke-width:2; stroke-opacity:0.1; fill:none\" points=\"\n  120.696,225.847 352.756,225.847 \n  \"/>\n<polyline clip-path=\"url(#clip282)\" style=\"stroke:#000000; stroke-linecap:butt; stroke-linejoin:round; stroke-width:2; stroke-opacity:0.1; fill:none\" points=\"\n  120.696,262.106 352.756,262.106 \n  \"/>\n<polyline clip-path=\"url(#clip280)\" style=\"stroke:#000000; stroke-linecap:butt; stroke-linejoin:round; stroke-width:4; stroke-opacity:1; fill:none\" points=\"\n  120.696,48.1758 120.696,280.236 \n  \"/>\n<polyline clip-path=\"url(#clip280)\" style=\"stroke:#000000; stroke-linecap:butt; stroke-linejoin:round; stroke-width:4; stroke-opacity:1; fill:none\" points=\"\n  120.696,80.8093 139.593,80.8093 \n  \"/>\n<polyline clip-path=\"url(#clip280)\" style=\"stroke:#000000; stroke-linecap:butt; stroke-linejoin:round; stroke-width:4; stroke-opacity:1; fill:none\" points=\"\n  120.696,117.069 139.593,117.069 \n  \"/>\n<polyline clip-path=\"url(#clip280)\" style=\"stroke:#000000; stroke-linecap:butt; stroke-linejoin:round; stroke-width:4; stroke-opacity:1; fill:none\" points=\"\n  120.696,153.328 139.593,153.328 \n  \"/>\n<polyline clip-path=\"url(#clip280)\" style=\"stroke:#000000; stroke-linecap:butt; stroke-linejoin:round; stroke-width:4; stroke-opacity:1; fill:none\" points=\"\n  120.696,189.588 139.593,189.588 \n  \"/>\n<polyline clip-path=\"url(#clip280)\" style=\"stroke:#000000; stroke-linecap:butt; stroke-linejoin:round; stroke-width:4; stroke-opacity:1; fill:none\" points=\"\n  120.696,225.847 139.593,225.847 \n  \"/>\n<polyline clip-path=\"url(#clip280)\" style=\"stroke:#000000; stroke-linecap:butt; stroke-linejoin:round; stroke-width:4; stroke-opacity:1; fill:none\" points=\"\n  120.696,262.106 139.593,262.106 \n  \"/>\n<path clip-path=\"url(#clip280)\" d=\"M93.7929 63.5293 L112.149 63.5293 L112.149 67.4645 L98.0753 67.4645 L98.0753 75.9366 Q99.0938 75.5894 100.112 75.4274 Q101.131 75.2422 102.149 75.2422 Q107.936 75.2422 111.316 78.4135 Q114.696 81.5847 114.696 87.0014 Q114.696 92.5801 111.223 95.6819 Q107.751 98.7606 101.432 98.7606 Q99.2558 98.7606 96.9873 98.3902 Q94.7419 98.0198 92.3346 97.2791 L92.3346 92.5801 Q94.4179 93.7143 96.6401 94.2699 Q98.8623 94.8254 101.339 94.8254 Q105.344 94.8254 107.682 92.7189 Q110.02 90.6125 110.02 87.0014 Q110.02 83.3903 107.682 81.2838 Q105.344 79.1774 101.339 79.1774 Q99.4641 79.1774 97.5892 79.594 Q95.7373 80.0107 93.7929 80.8903 L93.7929 63.5293 Z\" fill=\"#000000\" fill-rule=\"evenodd\" fill-opacity=\"1\" /><path clip-path=\"url(#clip280)\" d=\"M63.3995 130.414 L71.0384 130.414 L71.0384 104.048 L62.7282 105.715 L62.7282 101.455 L70.9921 99.7887 L75.668 99.7887 L75.668 130.414 L83.3068 130.414 L83.3068 134.349 L63.3995 134.349 L63.3995 130.414 Z\" fill=\"#000000\" fill-rule=\"evenodd\" fill-opacity=\"1\" /><path clip-path=\"url(#clip280)\" d=\"M102.751 102.867 Q99.1401 102.867 97.3114 106.432 Q95.5058 109.974 95.5058 117.103 Q95.5058 124.21 97.3114 127.775 Q99.1401 131.316 102.751 131.316 Q106.385 131.316 108.191 127.775 Q110.02 124.21 110.02 117.103 Q110.02 109.974 108.191 106.432 Q106.385 102.867 102.751 102.867 M102.751 99.1637 Q108.561 99.1637 111.617 103.77 Q114.696 108.353 114.696 117.103 Q114.696 125.83 111.617 130.437 Q108.561 135.02 102.751 135.02 Q96.941 135.02 93.8623 130.437 Q90.8068 125.83 90.8068 117.103 Q90.8068 108.353 93.8623 103.77 Q96.941 99.1637 102.751 99.1637 Z\" fill=\"#000000\" fill-rule=\"evenodd\" fill-opacity=\"1\" /><path clip-path=\"url(#clip280)\" d=\"M64.3949 166.673 L72.0337 166.673 L72.0337 140.307 L63.7236 141.974 L63.7236 137.715 L71.9874 136.048 L76.6633 136.048 L76.6633 166.673 L84.3022 166.673 L84.3022 170.608 L64.3949 170.608 L64.3949 166.673 Z\" fill=\"#000000\" fill-rule=\"evenodd\" fill-opacity=\"1\" /><path clip-path=\"url(#clip280)\" d=\"M93.7929 136.048 L112.149 136.048 L112.149 139.983 L98.0753 139.983 L98.0753 148.455 Q99.0938 148.108 100.112 147.946 Q101.131 147.761 102.149 147.761 Q107.936 147.761 111.316 150.932 Q114.696 154.104 114.696 159.52 Q114.696 165.099 111.223 168.201 Q107.751 171.279 101.432 171.279 Q99.2558 171.279 96.9873 170.909 Q94.7419 170.539 92.3346 169.798 L92.3346 165.099 Q94.4179 166.233 96.6401 166.789 Q98.8623 167.344 101.339 167.344 Q105.344 167.344 107.682 165.238 Q110.02 163.131 110.02 159.52 Q110.02 155.909 107.682 153.803 Q105.344 151.696 101.339 151.696 Q99.4641 151.696 97.5892 152.113 Q95.7373 152.53 93.7929 153.409 L93.7929 136.048 Z\" fill=\"#000000\" fill-rule=\"evenodd\" fill-opacity=\"1\" /><path clip-path=\"url(#clip280)\" d=\"M66.6171 202.932 L82.9365 202.932 L82.9365 206.868 L60.9921 206.868 L60.9921 202.932 Q63.6541 200.178 68.2375 195.548 Q72.8439 190.895 74.0245 189.553 Q76.2698 187.03 77.1494 185.294 Q78.0522 183.534 78.0522 181.845 Q78.0522 179.09 76.1078 177.354 Q74.1865 175.618 71.0847 175.618 Q68.8856 175.618 66.4319 176.382 Q64.0014 177.146 61.2236 178.696 L61.2236 173.974 Q64.0477 172.84 66.5014 172.261 Q68.955 171.683 70.9921 171.683 Q76.3624 171.683 79.5568 174.368 Q82.7513 177.053 82.7513 181.544 Q82.7513 183.673 81.9411 185.595 Q81.1541 187.493 79.0476 190.085 Q78.4689 190.757 75.367 193.974 Q72.2652 197.169 66.6171 202.932 Z\" fill=\"#000000\" fill-rule=\"evenodd\" fill-opacity=\"1\" /><path clip-path=\"url(#clip280)\" d=\"M102.751 175.386 Q99.1401 175.386 97.3114 178.951 Q95.5058 182.493 95.5058 189.622 Q95.5058 196.729 97.3114 200.294 Q99.1401 203.835 102.751 203.835 Q106.385 203.835 108.191 200.294 Q110.02 196.729 110.02 189.622 Q110.02 182.493 108.191 178.951 Q106.385 175.386 102.751 175.386 M102.751 171.683 Q108.561 171.683 111.617 176.289 Q114.696 180.872 114.696 189.622 Q114.696 198.349 111.617 202.956 Q108.561 207.539 102.751 207.539 Q96.941 207.539 93.8623 202.956 Q90.8068 198.349 90.8068 189.622 Q90.8068 180.872 93.8623 176.289 Q96.941 171.683 102.751 171.683 Z\" fill=\"#000000\" fill-rule=\"evenodd\" fill-opacity=\"1\" /><path clip-path=\"url(#clip280)\" d=\"M67.6125 239.192 L83.9318 239.192 L83.9318 243.127 L61.9875 243.127 L61.9875 239.192 Q64.6495 236.437 69.2328 231.808 Q73.8393 227.155 75.0198 225.812 Q77.2652 223.289 78.1448 221.553 Q79.0476 219.794 79.0476 218.104 Q79.0476 215.349 77.1032 213.613 Q75.1819 211.877 72.08 211.877 Q69.881 211.877 67.4273 212.641 Q64.9967 213.405 62.219 214.956 L62.219 210.234 Q65.043 209.099 67.4967 208.521 Q69.9504 207.942 71.9874 207.942 Q77.3578 207.942 80.5522 210.627 Q83.7466 213.312 83.7466 217.803 Q83.7466 219.933 82.9365 221.854 Q82.1494 223.752 80.0429 226.345 Q79.4642 227.016 76.3624 230.234 Q73.2606 233.428 67.6125 239.192 Z\" fill=\"#000000\" fill-rule=\"evenodd\" fill-opacity=\"1\" /><path clip-path=\"url(#clip280)\" d=\"M93.7929 208.567 L112.149 208.567 L112.149 212.502 L98.0753 212.502 L98.0753 220.974 Q99.0938 220.627 100.112 220.465 Q101.131 220.28 102.149 220.28 Q107.936 220.28 111.316 223.451 Q114.696 226.622 114.696 232.039 Q114.696 237.618 111.223 240.72 Q107.751 243.798 101.432 243.798 Q99.2558 243.798 96.9873 243.428 Q94.7419 243.058 92.3346 242.317 L92.3346 237.618 Q94.4179 238.752 96.6401 239.308 Q98.8623 239.863 101.339 239.863 Q105.344 239.863 107.682 237.757 Q110.02 235.65 110.02 232.039 Q110.02 228.428 107.682 226.322 Q105.344 224.215 101.339 224.215 Q99.4641 224.215 97.5892 224.632 Q95.7373 225.048 93.7929 225.928 L93.7929 208.567 Z\" fill=\"#000000\" fill-rule=\"evenodd\" fill-opacity=\"1\" /><path clip-path=\"url(#clip280)\" d=\"M76.7559 260.752 Q80.1124 261.47 81.9874 263.738 Q83.8855 266.007 83.8855 269.34 Q83.8855 274.456 80.367 277.257 Q76.8485 280.058 70.3671 280.058 Q68.1912 280.058 65.8764 279.618 Q63.5847 279.201 61.131 278.345 L61.131 273.831 Q63.0754 274.965 65.3903 275.544 Q67.7051 276.123 70.2282 276.123 Q74.6263 276.123 76.918 274.386 Q79.2328 272.65 79.2328 269.34 Q79.2328 266.285 77.08 264.572 Q74.9504 262.836 71.131 262.836 L67.1032 262.836 L67.1032 258.993 L71.3161 258.993 Q74.7652 258.993 76.5939 257.627 Q78.4226 256.238 78.4226 253.646 Q78.4226 250.984 76.5245 249.572 Q74.6495 248.137 71.131 248.137 Q69.2097 248.137 67.0106 248.553 Q64.8115 248.97 62.1727 249.85 L62.1727 245.683 Q64.8347 244.942 67.1495 244.572 Q69.4875 244.201 71.5476 244.201 Q76.8717 244.201 79.9735 246.632 Q83.0753 249.039 83.0753 253.16 Q83.0753 256.03 81.4318 258.021 Q79.7883 259.988 76.7559 260.752 Z\" fill=\"#000000\" fill-rule=\"evenodd\" fill-opacity=\"1\" /><path clip-path=\"url(#clip280)\" d=\"M102.751 247.905 Q99.1401 247.905 97.3114 251.47 Q95.5058 255.012 95.5058 262.141 Q95.5058 269.248 97.3114 272.812 Q99.1401 276.354 102.751 276.354 Q106.385 276.354 108.191 272.812 Q110.02 269.248 110.02 262.141 Q110.02 255.012 108.191 251.47 Q106.385 247.905 102.751 247.905 M102.751 244.201 Q108.561 244.201 111.617 248.808 Q114.696 253.391 114.696 262.141 Q114.696 270.868 111.617 275.474 Q108.561 280.058 102.751 280.058 Q96.941 280.058 93.8623 275.474 Q90.8068 270.868 90.8068 262.141 Q90.8068 253.391 93.8623 248.808 Q96.941 244.201 102.751 244.201 Z\" fill=\"#000000\" fill-rule=\"evenodd\" fill-opacity=\"1\" /><g clip-path=\"url(#clip282)\">\n<image width=\"232\" height=\"232\" xlink:href=\"data:image/png;base64,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\nBMYGNSYw/wOHVTYFOniHRwAAAABJRU5ErkJggg==\n\" transform=\"translate(121, 48)\"/>\n</g>\n</svg>\n",
      "text/html": [
       "<?xml version=\"1.0\" encoding=\"utf-8\"?>\n",
       "<svg xmlns=\"http://www.w3.org/2000/svg\" xmlns:xlink=\"http://www.w3.org/1999/xlink\" width=\"100\" height=\"100\" viewBox=\"0 0 400 400\">\n",
       "<defs>\n",
       "  <clipPath id=\"clip330\">\n",
       "    <rect x=\"0\" y=\"0\" width=\"400\" height=\"400\"/>\n",
       "  </clipPath>\n",
       "</defs>\n",
       "<path clip-path=\"url(#clip330)\" d=\"\n",
       "M0 400 L400 400 L400 0 L0 0  Z\n",
       "  \" fill=\"#ffffff\" fill-rule=\"evenodd\" fill-opacity=\"1\"/>\n",
       "<defs>\n",
       "  <clipPath id=\"clip331\">\n",
       "    <rect x=\"80\" y=\"40\" width=\"281\" height=\"281\"/>\n",
       "  </clipPath>\n",
       "</defs>\n",
       "<path clip-path=\"url(#clip330)\" d=\"\n",
       "M120.696 280.236 L352.756 280.236 L352.756 48.1758 L120.696 48.1758  Z\n",
       "  \" fill=\"#ffffff\" fill-rule=\"evenodd\" fill-opacity=\"1\"/>\n",
       "<defs>\n",
       "  <clipPath id=\"clip332\">\n",
       "    <rect x=\"120\" y=\"48\" width=\"233\" height=\"233\"/>\n",
       "  </clipPath>\n",
       "</defs>\n",
       "<polyline clip-path=\"url(#clip332)\" style=\"stroke:#000000; stroke-linecap:butt; stroke-linejoin:round; stroke-width:2; stroke-opacity:0.1; fill:none\" points=\"\n",
       "  153.329,48.1758 153.329,280.236 \n",
       "  \"/>\n",
       "<polyline clip-path=\"url(#clip332)\" style=\"stroke:#000000; stroke-linecap:butt; stroke-linejoin:round; stroke-width:2; stroke-opacity:0.1; fill:none\" points=\"\n",
       "  189.588,48.1758 189.588,280.236 \n",
       "  \"/>\n",
       "<polyline clip-path=\"url(#clip332)\" style=\"stroke:#000000; stroke-linecap:butt; stroke-linejoin:round; stroke-width:2; stroke-opacity:0.1; fill:none\" points=\"\n",
       "  225.848,48.1758 225.848,280.236 \n",
       "  \"/>\n",
       "<polyline clip-path=\"url(#clip332)\" style=\"stroke:#000000; stroke-linecap:butt; stroke-linejoin:round; stroke-width:2; stroke-opacity:0.1; fill:none\" points=\"\n",
       "  262.107,48.1758 262.107,280.236 \n",
       "  \"/>\n",
       "<polyline clip-path=\"url(#clip332)\" style=\"stroke:#000000; stroke-linecap:butt; stroke-linejoin:round; stroke-width:2; stroke-opacity:0.1; fill:none\" points=\"\n",
       "  298.367,48.1758 298.367,280.236 \n",
       "  \"/>\n",
       "<polyline clip-path=\"url(#clip332)\" style=\"stroke:#000000; stroke-linecap:butt; stroke-linejoin:round; stroke-width:2; stroke-opacity:0.1; fill:none\" points=\"\n",
       "  334.626,48.1758 334.626,280.236 \n",
       "  \"/>\n",
       "<polyline clip-path=\"url(#clip330)\" style=\"stroke:#000000; stroke-linecap:butt; stroke-linejoin:round; stroke-width:4; stroke-opacity:1; fill:none\" points=\"\n",
       "  120.696,280.236 352.756,280.236 \n",
       "  \"/>\n",
       "<polyline clip-path=\"url(#clip330)\" style=\"stroke:#000000; stroke-linecap:butt; stroke-linejoin:round; stroke-width:4; stroke-opacity:1; fill:none\" points=\"\n",
       "  153.329,280.236 153.329,261.489 \n",
       "  \"/>\n",
       "<polyline clip-path=\"url(#clip330)\" style=\"stroke:#000000; stroke-linecap:butt; stroke-linejoin:round; stroke-width:4; stroke-opacity:1; fill:none\" points=\"\n",
       "  189.588,280.236 189.588,261.489 \n",
       "  \"/>\n",
       "<polyline clip-path=\"url(#clip330)\" style=\"stroke:#000000; stroke-linecap:butt; stroke-linejoin:round; stroke-width:4; stroke-opacity:1; fill:none\" points=\"\n",
       "  225.848,280.236 225.848,261.489 \n",
       "  \"/>\n",
       "<polyline clip-path=\"url(#clip330)\" style=\"stroke:#000000; stroke-linecap:butt; stroke-linejoin:round; stroke-width:4; stroke-opacity:1; fill:none\" points=\"\n",
       "  262.107,280.236 262.107,261.489 \n",
       "  \"/>\n",
       "<polyline clip-path=\"url(#clip330)\" style=\"stroke:#000000; stroke-linecap:butt; stroke-linejoin:round; stroke-width:4; stroke-opacity:1; fill:none\" points=\"\n",
       "  298.367,280.236 298.367,261.489 \n",
       "  \"/>\n",
       "<polyline clip-path=\"url(#clip330)\" style=\"stroke:#000000; stroke-linecap:butt; stroke-linejoin:round; stroke-width:4; stroke-opacity:1; fill:none\" points=\"\n",
       "  334.626,280.236 334.626,261.489 \n",
       "  \"/>\n",
       "<path clip-path=\"url(#clip330)\" d=\"M143.607 292.076 L161.963 292.076 L161.963 296.011 L147.889 296.011 L147.889 304.484 Q148.908 304.136 149.926 303.974 Q150.945 303.789 151.963 303.789 Q157.75 303.789 161.13 306.96 Q164.51 310.132 164.51 315.548 Q164.51 321.127 161.037 324.229 Q157.565 327.307 151.246 327.307 Q149.07 327.307 146.801 326.937 Q144.556 326.567 142.149 325.826 L142.149 321.127 Q144.232 322.261 146.454 322.817 Q148.676 323.372 151.153 323.372 Q155.158 323.372 157.496 321.266 Q159.834 319.159 159.834 315.548 Q159.834 311.937 157.496 309.831 Q155.158 307.724 151.153 307.724 Q149.278 307.724 147.403 308.141 Q145.551 308.558 143.607 309.437 L143.607 292.076 Z\" fill=\"#000000\" fill-rule=\"evenodd\" fill-opacity=\"1\" /><path clip-path=\"url(#clip330)\" d=\"M164.276 322.701 L171.915 322.701 L171.915 296.335 L163.605 298.002 L163.605 293.743 L171.869 292.076 L176.545 292.076 L176.545 322.701 L184.183 322.701 L184.183 326.636 L164.276 326.636 L164.276 322.701 Z\" fill=\"#000000\" fill-rule=\"evenodd\" fill-opacity=\"1\" /><path clip-path=\"url(#clip330)\" d=\"M203.628 295.155 Q200.017 295.155 198.188 298.72 Q196.382 302.261 196.382 309.391 Q196.382 316.497 198.188 320.062 Q200.017 323.604 203.628 323.604 Q207.262 323.604 209.068 320.062 Q210.896 316.497 210.896 309.391 Q210.896 302.261 209.068 298.72 Q207.262 295.155 203.628 295.155 M203.628 291.451 Q209.438 291.451 212.493 296.058 Q215.572 300.641 215.572 309.391 Q215.572 318.118 212.493 322.724 Q209.438 327.307 203.628 327.307 Q197.818 327.307 194.739 322.724 Q191.683 318.118 191.683 309.391 Q191.683 300.641 194.739 296.058 Q197.818 291.451 203.628 291.451 Z\" fill=\"#000000\" fill-rule=\"evenodd\" fill-opacity=\"1\" /><path clip-path=\"url(#clip330)\" d=\"M201.033 322.701 L208.672 322.701 L208.672 296.335 L200.362 298.002 L200.362 293.743 L208.626 292.076 L213.302 292.076 L213.302 322.701 L220.941 322.701 L220.941 326.636 L201.033 326.636 L201.033 322.701 Z\" fill=\"#000000\" fill-rule=\"evenodd\" fill-opacity=\"1\" /><path clip-path=\"url(#clip330)\" d=\"M230.431 292.076 L248.788 292.076 L248.788 296.011 L234.714 296.011 L234.714 304.484 Q235.732 304.136 236.751 303.974 Q237.769 303.789 238.788 303.789 Q244.575 303.789 247.954 306.96 Q251.334 310.132 251.334 315.548 Q251.334 321.127 247.862 324.229 Q244.389 327.307 238.07 327.307 Q235.894 327.307 233.626 326.937 Q231.38 326.567 228.973 325.826 L228.973 321.127 Q231.056 322.261 233.278 322.817 Q235.501 323.372 237.977 323.372 Q241.982 323.372 244.32 321.266 Q246.658 319.159 246.658 315.548 Q246.658 311.937 244.32 309.831 Q241.982 307.724 237.977 307.724 Q236.102 307.724 234.227 308.141 Q232.376 308.558 230.431 309.437 L230.431 292.076 Z\" fill=\"#000000\" fill-rule=\"evenodd\" fill-opacity=\"1\" /><path clip-path=\"url(#clip330)\" d=\"M240.881 322.701 L257.2 322.701 L257.2 326.636 L235.256 326.636 L235.256 322.701 Q237.918 319.946 242.501 315.317 Q247.107 310.664 248.288 309.321 Q250.533 306.798 251.413 305.062 Q252.316 303.303 252.316 301.613 Q252.316 298.859 250.371 297.122 Q248.45 295.386 245.348 295.386 Q243.149 295.386 240.695 296.15 Q238.265 296.914 235.487 298.465 L235.487 293.743 Q238.311 292.609 240.765 292.03 Q243.219 291.451 245.256 291.451 Q250.626 291.451 253.82 294.136 Q257.015 296.822 257.015 301.312 Q257.015 303.442 256.205 305.363 Q255.418 307.261 253.311 309.854 Q252.732 310.525 249.631 313.743 Q246.529 316.937 240.881 322.701 Z\" fill=\"#000000\" fill-rule=\"evenodd\" fill-opacity=\"1\" /><path clip-path=\"url(#clip330)\" d=\"M277.015 295.155 Q273.404 295.155 271.575 298.72 Q269.769 302.261 269.769 309.391 Q269.769 316.497 271.575 320.062 Q273.404 323.604 277.015 323.604 Q280.649 323.604 282.454 320.062 Q284.283 316.497 284.283 309.391 Q284.283 302.261 282.454 298.72 Q280.649 295.155 277.015 295.155 M277.015 291.451 Q282.825 291.451 285.88 296.058 Q288.959 300.641 288.959 309.391 Q288.959 318.118 285.88 322.724 Q282.825 327.307 277.015 327.307 Q271.204 327.307 268.126 322.724 Q265.07 318.118 265.07 309.391 Q265.07 300.641 268.126 296.058 Q271.204 291.451 277.015 291.451 Z\" fill=\"#000000\" fill-rule=\"evenodd\" fill-opacity=\"1\" /><path clip-path=\"url(#clip330)\" d=\"M277.638 322.701 L293.957 322.701 L293.957 326.636 L272.013 326.636 L272.013 322.701 Q274.675 319.946 279.258 315.317 Q283.865 310.664 285.045 309.321 Q287.29 306.798 288.17 305.062 Q289.073 303.303 289.073 301.613 Q289.073 298.859 287.128 297.122 Q285.207 295.386 282.105 295.386 Q279.906 295.386 277.453 296.15 Q275.022 296.914 272.244 298.465 L272.244 293.743 Q275.068 292.609 277.522 292.03 Q279.976 291.451 282.013 291.451 Q287.383 291.451 290.577 294.136 Q293.772 296.822 293.772 301.312 Q293.772 303.442 292.962 305.363 Q292.175 307.261 290.068 309.854 Q289.489 310.525 286.388 313.743 Q283.286 316.937 277.638 322.701 Z\" fill=\"#000000\" fill-rule=\"evenodd\" fill-opacity=\"1\" /><path clip-path=\"url(#clip330)\" d=\"M303.818 292.076 L322.175 292.076 L322.175 296.011 L308.101 296.011 L308.101 304.484 Q309.119 304.136 310.138 303.974 Q311.156 303.789 312.175 303.789 Q317.962 303.789 321.341 306.96 Q324.721 310.132 324.721 315.548 Q324.721 321.127 321.249 324.229 Q317.776 327.307 311.457 327.307 Q309.281 327.307 307.013 326.937 Q304.767 326.567 302.36 325.826 L302.36 321.127 Q304.443 322.261 306.665 322.817 Q308.888 323.372 311.364 323.372 Q315.369 323.372 317.707 321.266 Q320.045 319.159 320.045 315.548 Q320.045 311.937 317.707 309.831 Q315.369 307.724 311.364 307.724 Q309.489 307.724 307.614 308.141 Q305.763 308.558 303.818 309.437 L303.818 292.076 Z\" fill=\"#000000\" fill-rule=\"evenodd\" fill-opacity=\"1\" /><path clip-path=\"url(#clip330)\" d=\"M323.469 308.002 Q326.825 308.72 328.7 310.988 Q330.598 313.257 330.598 316.59 Q330.598 321.706 327.08 324.507 Q323.561 327.307 317.08 327.307 Q314.904 327.307 312.589 326.868 Q310.298 326.451 307.844 325.595 L307.844 321.081 Q309.788 322.215 312.103 322.794 Q314.418 323.372 316.941 323.372 Q321.339 323.372 323.631 321.636 Q325.946 319.9 325.946 316.59 Q325.946 313.534 323.793 311.821 Q321.663 310.085 317.844 310.085 L313.816 310.085 L313.816 306.243 L318.029 306.243 Q321.478 306.243 323.307 304.877 Q325.135 303.488 325.135 300.896 Q325.135 298.234 323.237 296.822 Q321.362 295.386 317.844 295.386 Q315.923 295.386 313.724 295.803 Q311.524 296.22 308.886 297.099 L308.886 292.933 Q311.548 292.192 313.862 291.822 Q316.2 291.451 318.261 291.451 Q323.585 291.451 326.686 293.882 Q329.788 296.289 329.788 300.409 Q329.788 303.28 328.145 305.271 Q326.501 307.238 323.469 308.002 Z\" fill=\"#000000\" fill-rule=\"evenodd\" fill-opacity=\"1\" /><path clip-path=\"url(#clip330)\" d=\"M349.464 295.155 Q345.853 295.155 344.024 298.72 Q342.219 302.261 342.219 309.391 Q342.219 316.497 344.024 320.062 Q345.853 323.604 349.464 323.604 Q353.098 323.604 354.904 320.062 Q356.733 316.497 356.733 309.391 Q356.733 302.261 354.904 298.72 Q353.098 295.155 349.464 295.155 M349.464 291.451 Q355.274 291.451 358.33 296.058 Q361.408 300.641 361.408 309.391 Q361.408 318.118 358.33 322.724 Q355.274 327.307 349.464 327.307 Q343.654 327.307 340.575 322.724 Q337.52 318.118 337.52 309.391 Q337.52 300.641 340.575 296.058 Q343.654 291.451 349.464 291.451 Z\" fill=\"#000000\" fill-rule=\"evenodd\" fill-opacity=\"1\" /><polyline clip-path=\"url(#clip332)\" style=\"stroke:#000000; stroke-linecap:butt; stroke-linejoin:round; stroke-width:2; stroke-opacity:0.1; fill:none\" points=\"\n",
       "  120.696,80.8093 352.756,80.8093 \n",
       "  \"/>\n",
       "<polyline clip-path=\"url(#clip332)\" style=\"stroke:#000000; stroke-linecap:butt; stroke-linejoin:round; stroke-width:2; stroke-opacity:0.1; fill:none\" points=\"\n",
       "  120.696,117.069 352.756,117.069 \n",
       "  \"/>\n",
       "<polyline clip-path=\"url(#clip332)\" style=\"stroke:#000000; stroke-linecap:butt; stroke-linejoin:round; stroke-width:2; stroke-opacity:0.1; fill:none\" points=\"\n",
       "  120.696,153.328 352.756,153.328 \n",
       "  \"/>\n",
       "<polyline clip-path=\"url(#clip332)\" style=\"stroke:#000000; stroke-linecap:butt; stroke-linejoin:round; stroke-width:2; stroke-opacity:0.1; fill:none\" points=\"\n",
       "  120.696,189.588 352.756,189.588 \n",
       "  \"/>\n",
       "<polyline clip-path=\"url(#clip332)\" style=\"stroke:#000000; stroke-linecap:butt; stroke-linejoin:round; stroke-width:2; stroke-opacity:0.1; fill:none\" points=\"\n",
       "  120.696,225.847 352.756,225.847 \n",
       "  \"/>\n",
       "<polyline clip-path=\"url(#clip332)\" style=\"stroke:#000000; stroke-linecap:butt; stroke-linejoin:round; stroke-width:2; stroke-opacity:0.1; fill:none\" points=\"\n",
       "  120.696,262.106 352.756,262.106 \n",
       "  \"/>\n",
       "<polyline clip-path=\"url(#clip330)\" style=\"stroke:#000000; stroke-linecap:butt; stroke-linejoin:round; stroke-width:4; stroke-opacity:1; fill:none\" points=\"\n",
       "  120.696,48.1758 120.696,280.236 \n",
       "  \"/>\n",
       "<polyline clip-path=\"url(#clip330)\" style=\"stroke:#000000; stroke-linecap:butt; stroke-linejoin:round; stroke-width:4; stroke-opacity:1; fill:none\" points=\"\n",
       "  120.696,80.8093 139.593,80.8093 \n",
       "  \"/>\n",
       "<polyline clip-path=\"url(#clip330)\" style=\"stroke:#000000; stroke-linecap:butt; stroke-linejoin:round; stroke-width:4; stroke-opacity:1; fill:none\" points=\"\n",
       "  120.696,117.069 139.593,117.069 \n",
       "  \"/>\n",
       "<polyline clip-path=\"url(#clip330)\" style=\"stroke:#000000; stroke-linecap:butt; stroke-linejoin:round; stroke-width:4; stroke-opacity:1; fill:none\" points=\"\n",
       "  120.696,153.328 139.593,153.328 \n",
       "  \"/>\n",
       "<polyline clip-path=\"url(#clip330)\" style=\"stroke:#000000; stroke-linecap:butt; stroke-linejoin:round; stroke-width:4; stroke-opacity:1; fill:none\" points=\"\n",
       "  120.696,189.588 139.593,189.588 \n",
       "  \"/>\n",
       "<polyline clip-path=\"url(#clip330)\" style=\"stroke:#000000; stroke-linecap:butt; stroke-linejoin:round; stroke-width:4; stroke-opacity:1; fill:none\" points=\"\n",
       "  120.696,225.847 139.593,225.847 \n",
       "  \"/>\n",
       "<polyline clip-path=\"url(#clip330)\" style=\"stroke:#000000; stroke-linecap:butt; stroke-linejoin:round; stroke-width:4; stroke-opacity:1; fill:none\" points=\"\n",
       "  120.696,262.106 139.593,262.106 \n",
       "  \"/>\n",
       "<path clip-path=\"url(#clip330)\" d=\"M93.7929 63.5293 L112.149 63.5293 L112.149 67.4645 L98.0753 67.4645 L98.0753 75.9366 Q99.0938 75.5894 100.112 75.4274 Q101.131 75.2422 102.149 75.2422 Q107.936 75.2422 111.316 78.4135 Q114.696 81.5847 114.696 87.0014 Q114.696 92.5801 111.223 95.6819 Q107.751 98.7606 101.432 98.7606 Q99.2558 98.7606 96.9873 98.3902 Q94.7419 98.0198 92.3346 97.2791 L92.3346 92.5801 Q94.4179 93.7143 96.6401 94.2699 Q98.8623 94.8254 101.339 94.8254 Q105.344 94.8254 107.682 92.7189 Q110.02 90.6125 110.02 87.0014 Q110.02 83.3903 107.682 81.2838 Q105.344 79.1774 101.339 79.1774 Q99.4641 79.1774 97.5892 79.594 Q95.7373 80.0107 93.7929 80.8903 L93.7929 63.5293 Z\" fill=\"#000000\" fill-rule=\"evenodd\" fill-opacity=\"1\" /><path clip-path=\"url(#clip330)\" d=\"M63.3995 130.414 L71.0384 130.414 L71.0384 104.048 L62.7282 105.715 L62.7282 101.455 L70.9921 99.7887 L75.668 99.7887 L75.668 130.414 L83.3068 130.414 L83.3068 134.349 L63.3995 134.349 L63.3995 130.414 Z\" fill=\"#000000\" fill-rule=\"evenodd\" fill-opacity=\"1\" /><path clip-path=\"url(#clip330)\" d=\"M102.751 102.867 Q99.1401 102.867 97.3114 106.432 Q95.5058 109.974 95.5058 117.103 Q95.5058 124.21 97.3114 127.775 Q99.1401 131.316 102.751 131.316 Q106.385 131.316 108.191 127.775 Q110.02 124.21 110.02 117.103 Q110.02 109.974 108.191 106.432 Q106.385 102.867 102.751 102.867 M102.751 99.1637 Q108.561 99.1637 111.617 103.77 Q114.696 108.353 114.696 117.103 Q114.696 125.83 111.617 130.437 Q108.561 135.02 102.751 135.02 Q96.941 135.02 93.8623 130.437 Q90.8068 125.83 90.8068 117.103 Q90.8068 108.353 93.8623 103.77 Q96.941 99.1637 102.751 99.1637 Z\" fill=\"#000000\" fill-rule=\"evenodd\" fill-opacity=\"1\" /><path clip-path=\"url(#clip330)\" d=\"M64.3949 166.673 L72.0337 166.673 L72.0337 140.307 L63.7236 141.974 L63.7236 137.715 L71.9874 136.048 L76.6633 136.048 L76.6633 166.673 L84.3022 166.673 L84.3022 170.608 L64.3949 170.608 L64.3949 166.673 Z\" fill=\"#000000\" fill-rule=\"evenodd\" fill-opacity=\"1\" /><path clip-path=\"url(#clip330)\" d=\"M93.7929 136.048 L112.149 136.048 L112.149 139.983 L98.0753 139.983 L98.0753 148.455 Q99.0938 148.108 100.112 147.946 Q101.131 147.761 102.149 147.761 Q107.936 147.761 111.316 150.932 Q114.696 154.104 114.696 159.52 Q114.696 165.099 111.223 168.201 Q107.751 171.279 101.432 171.279 Q99.2558 171.279 96.9873 170.909 Q94.7419 170.539 92.3346 169.798 L92.3346 165.099 Q94.4179 166.233 96.6401 166.789 Q98.8623 167.344 101.339 167.344 Q105.344 167.344 107.682 165.238 Q110.02 163.131 110.02 159.52 Q110.02 155.909 107.682 153.803 Q105.344 151.696 101.339 151.696 Q99.4641 151.696 97.5892 152.113 Q95.7373 152.53 93.7929 153.409 L93.7929 136.048 Z\" fill=\"#000000\" fill-rule=\"evenodd\" fill-opacity=\"1\" /><path clip-path=\"url(#clip330)\" d=\"M66.6171 202.932 L82.9365 202.932 L82.9365 206.868 L60.9921 206.868 L60.9921 202.932 Q63.6541 200.178 68.2375 195.548 Q72.8439 190.895 74.0245 189.553 Q76.2698 187.03 77.1494 185.294 Q78.0522 183.534 78.0522 181.845 Q78.0522 179.09 76.1078 177.354 Q74.1865 175.618 71.0847 175.618 Q68.8856 175.618 66.4319 176.382 Q64.0014 177.146 61.2236 178.696 L61.2236 173.974 Q64.0477 172.84 66.5014 172.261 Q68.955 171.683 70.9921 171.683 Q76.3624 171.683 79.5568 174.368 Q82.7513 177.053 82.7513 181.544 Q82.7513 183.673 81.9411 185.595 Q81.1541 187.493 79.0476 190.085 Q78.4689 190.757 75.367 193.974 Q72.2652 197.169 66.6171 202.932 Z\" fill=\"#000000\" fill-rule=\"evenodd\" fill-opacity=\"1\" /><path clip-path=\"url(#clip330)\" d=\"M102.751 175.386 Q99.1401 175.386 97.3114 178.951 Q95.5058 182.493 95.5058 189.622 Q95.5058 196.729 97.3114 200.294 Q99.1401 203.835 102.751 203.835 Q106.385 203.835 108.191 200.294 Q110.02 196.729 110.02 189.622 Q110.02 182.493 108.191 178.951 Q106.385 175.386 102.751 175.386 M102.751 171.683 Q108.561 171.683 111.617 176.289 Q114.696 180.872 114.696 189.622 Q114.696 198.349 111.617 202.956 Q108.561 207.539 102.751 207.539 Q96.941 207.539 93.8623 202.956 Q90.8068 198.349 90.8068 189.622 Q90.8068 180.872 93.8623 176.289 Q96.941 171.683 102.751 171.683 Z\" fill=\"#000000\" fill-rule=\"evenodd\" fill-opacity=\"1\" /><path clip-path=\"url(#clip330)\" d=\"M67.6125 239.192 L83.9318 239.192 L83.9318 243.127 L61.9875 243.127 L61.9875 239.192 Q64.6495 236.437 69.2328 231.808 Q73.8393 227.155 75.0198 225.812 Q77.2652 223.289 78.1448 221.553 Q79.0476 219.794 79.0476 218.104 Q79.0476 215.349 77.1032 213.613 Q75.1819 211.877 72.08 211.877 Q69.881 211.877 67.4273 212.641 Q64.9967 213.405 62.219 214.956 L62.219 210.234 Q65.043 209.099 67.4967 208.521 Q69.9504 207.942 71.9874 207.942 Q77.3578 207.942 80.5522 210.627 Q83.7466 213.312 83.7466 217.803 Q83.7466 219.933 82.9365 221.854 Q82.1494 223.752 80.0429 226.345 Q79.4642 227.016 76.3624 230.234 Q73.2606 233.428 67.6125 239.192 Z\" fill=\"#000000\" fill-rule=\"evenodd\" fill-opacity=\"1\" /><path clip-path=\"url(#clip330)\" d=\"M93.7929 208.567 L112.149 208.567 L112.149 212.502 L98.0753 212.502 L98.0753 220.974 Q99.0938 220.627 100.112 220.465 Q101.131 220.28 102.149 220.28 Q107.936 220.28 111.316 223.451 Q114.696 226.622 114.696 232.039 Q114.696 237.618 111.223 240.72 Q107.751 243.798 101.432 243.798 Q99.2558 243.798 96.9873 243.428 Q94.7419 243.058 92.3346 242.317 L92.3346 237.618 Q94.4179 238.752 96.6401 239.308 Q98.8623 239.863 101.339 239.863 Q105.344 239.863 107.682 237.757 Q110.02 235.65 110.02 232.039 Q110.02 228.428 107.682 226.322 Q105.344 224.215 101.339 224.215 Q99.4641 224.215 97.5892 224.632 Q95.7373 225.048 93.7929 225.928 L93.7929 208.567 Z\" fill=\"#000000\" fill-rule=\"evenodd\" fill-opacity=\"1\" /><path clip-path=\"url(#clip330)\" d=\"M76.7559 260.752 Q80.1124 261.47 81.9874 263.738 Q83.8855 266.007 83.8855 269.34 Q83.8855 274.456 80.367 277.257 Q76.8485 280.058 70.3671 280.058 Q68.1912 280.058 65.8764 279.618 Q63.5847 279.201 61.131 278.345 L61.131 273.831 Q63.0754 274.965 65.3903 275.544 Q67.7051 276.123 70.2282 276.123 Q74.6263 276.123 76.918 274.386 Q79.2328 272.65 79.2328 269.34 Q79.2328 266.285 77.08 264.572 Q74.9504 262.836 71.131 262.836 L67.1032 262.836 L67.1032 258.993 L71.3161 258.993 Q74.7652 258.993 76.5939 257.627 Q78.4226 256.238 78.4226 253.646 Q78.4226 250.984 76.5245 249.572 Q74.6495 248.137 71.131 248.137 Q69.2097 248.137 67.0106 248.553 Q64.8115 248.97 62.1727 249.85 L62.1727 245.683 Q64.8347 244.942 67.1495 244.572 Q69.4875 244.201 71.5476 244.201 Q76.8717 244.201 79.9735 246.632 Q83.0753 249.039 83.0753 253.16 Q83.0753 256.03 81.4318 258.021 Q79.7883 259.988 76.7559 260.752 Z\" fill=\"#000000\" fill-rule=\"evenodd\" fill-opacity=\"1\" /><path clip-path=\"url(#clip330)\" d=\"M102.751 247.905 Q99.1401 247.905 97.3114 251.47 Q95.5058 255.012 95.5058 262.141 Q95.5058 269.248 97.3114 272.812 Q99.1401 276.354 102.751 276.354 Q106.385 276.354 108.191 272.812 Q110.02 269.248 110.02 262.141 Q110.02 255.012 108.191 251.47 Q106.385 247.905 102.751 247.905 M102.751 244.201 Q108.561 244.201 111.617 248.808 Q114.696 253.391 114.696 262.141 Q114.696 270.868 111.617 275.474 Q108.561 280.058 102.751 280.058 Q96.941 280.058 93.8623 275.474 Q90.8068 270.868 90.8068 262.141 Q90.8068 253.391 93.8623 248.808 Q96.941 244.201 102.751 244.201 Z\" fill=\"#000000\" fill-rule=\"evenodd\" fill-opacity=\"1\" /><g clip-path=\"url(#clip332)\">\n",
       "<image width=\"232\" height=\"232\" xlink:href=\"data:image/png;base64,\n",
       "iVBORw0KGgoAAAANSUhEUgAAAOgAAADoCAYAAADlqah4AAAT7UlEQVR4nO2d2Y8c53XFT229zb5z\n",
       "X4akRFJyLFu2Iie2jAAxJNvQU14C5O8KYCBPgZGHAPkLAiSw4cBxIkMyKCWUSGpEkRTNWclZeqa7\n",
       "urorD4re5pxC9KIb4Pwe57C+/qq6ThdQh/fe5Jf/9I81BJMJ1+qai62iUMvizocfUu0Xf/sLqh0f\n",
       "HMh10+T006mRyOOWV9eoNj83S7XxuJLr7u/z/SYZv0bzC0tUO+4PqbY435L7+fnbb1Lt7JlVqtX1\n",
       "mGrJqJSf+XznKdWKmRWqvffBp1S7c+cjqvW6+t6rKn4uO3uHVHv+gmsAAHWNEn7/pWnGNf2Jxphv\n",
       "EhvUmMDYoMYExgY1JjA2qDGBsUGNCYwNakxg8qSWMShEfINUZjs6d7x/7x7Vjl68oFqe88wIAGpy\n",
       "Plmmj5uemqJaJj5zc/OZXFflyGfOLfP9TPeo1mm3+aK1ziT7hzyXXb55mWqHxyOqPT/S2fRgyI9d\n",
       "PLdAtdde+y7VyiHPHD/++L7cT5LwL+Xs2hmq9Y915j2q+LVXbqiVj+QnGmO+UWxQYwJjgxoTGBvU\n",
       "mMDYoMYExgY1JjB5NdExy2TCX2fnGff3yfBErru9s021Wnxm0vCbMiExS5rq48qKv0I/2jumWjUW\n",
       "OQqAmdk5qqkIazg4otr8wjzVimxa7ufwiJeqqWRsdobHUHt7u/IzZxZ5SVnR4XHS2hTX/vLtn1Dt\n",
       "4uV1uZ/d7U2qpQUv1yt6/LsEgCePHlHt8JB/n2Nxv/sJakxgbFBjAmODGhMYG9SYwNigxgTGBjUm\n",
       "MDmLJb5iLGKYTjun2t4uj1EAYGd7h4sJ/93Qu+WoigEAKEtecXF8zGOWpu6FqozhQFSWdMS6/T7f\n",
       "z9IS78wHAE+f8ThpZ2+fapcv8UoXWV0DICt4PNFq8yjleCAiPhGH3Hr1ltxPNbpGteGQV6Rcu86P\n",
       "A4CHD3nMcv/BBtU+2/iMan6CGhMYG9SYwNigxgTGBjUmMDaoMYGxQY0JjA1qTGDypmCxlfGssyWy\n",
       "qMHxQK57dMAnRaUNHfgUCQkea9VeD8BwIErKSp6Nzczz0i8AWJjnk9G2tnhWXIr9noisrhrp86xH\n",
       "vGxsZ/c51c5fuES1NNdZcHdKlGml/B4aj/tUm4gbt+GrRiLKJPOC3+9LK4ty3SkxBe/spQtUu3CR\n",
       "a36CGhMYG9SYwNigxgTGBjUmMDaoMYGxQY0JTN4UPxRt/hp8VPFyoHFDGdukoZvg14aUd6lOgQAw\n",
       "POExS7vdodrqGT4ACQBWlnjE8PTJY7EfUebX4eVdWcLL5gCgyHj925YoAdwVA61q6Fis3eXRzrjm\n",
       "sUYm4pCJ6Kaohl0BPIoDgEnBtSavoOb3mOqKePuVm1TzE9SYwNigxgTGBjUmMDaoMYGxQY0JjA1q\n",
       "TGDyRE3MAaDa0lUjVVXBNQAYiS56qejqh7rpVTf5c1P3wjHvdje/sEC1s2fX9LojXtUzOOFaIroQ\n",
       "zq/w6GZmpiv3U4r93H/AY5/rN65TrWjprn7qFmuLGK8c8rgkzfhxNXSkpiq4ElG9VYlYEQDabXHt\n",
       "h3xoVZXze9pPUGMCY4MaExgb1JjA2KDGBMYGNSYwNqgxgbFBjQlMnjV0ZFPd5Tri2KQhd6wqnjvK\n",
       "bLYhBlXTxBTqOiyIHLTT1tdv92CPaqriLhc5qGp6WJb6Ao3G6nvh2qf37lNtek53u3v6xVO+n5p3\n",
       "RTxz/irVVpb5dR+VDTeBuAS1eGaNcp6RArqbYJbyL01N3vMT1JjA2KDGBMYGNSYwNqgxgbFBjQlM\n",
       "nja89jwZ8uqHVs7/936dNDRuEm9qVeWJeOH1pf41e5G1W7w6olWIN3ClnkEzP80bjq0s8TeYW9u8\n",
       "SdfBIa+MWF7g5wEAmbhA4xGvMLp791OqdWZ4szFAVy799ve7VPurv/4bqr3zF3xWzKRqahomSPkz\n",
       "KxGNygBgKBrTiWXRa/NqID9BjQmMDWpMYGxQYwJjgxoTGBvUmMDYoMYExgY1JjB5Uej/oV+NRAYo\n",
       "YqFE/O99AMhVFY3KMr9moUJTkYsauNNu8d+xqiEHzRN+ka5d4h0BD/aPuHbABz0tL07L/awt9ai2\n",
       "MM3zuPGYZ3zPD/vyM4dDXrk0FN3u/nDnLtX+5DY/j9Vl3WmxFucyERl81TA8KRdlRiq/V0UyfoIa\n",
       "Exgb1JjA2KDGBMYGNSYwNqgxgbFBjQlMXjcNIxKvh5OM+3t+dkYuOzc3S7XdZ5tUy3P9m1LToEXX\n",
       "obVE3KTnS+kARzWhWl7k1+Cl6+ep9mz7gGrbuzyeAYBUnMzCLC+NS0S9VEfEUABQ1zx+6LT5fh5t\n",
       "8Jjl17/mUdO7774r99MpeJxUVbw0Lm9oGia7wIn7YCyO8xPUmMDYoMYExgY1JjA2qDGBsUGNCYwN\n",
       "akxg8nJUyn+guu+NxLGzM1Ny3ctXLlJt4xM+B6SpaR+NWWodhwwGvCple5vPVynWVuS661fPUE2N\n",
       "dbkoKl1KXhyCD+9+Lvfz4MFDqhWiomd+nlfJTE/x7o4A8MWzZ1RLcx7tTESXwf/87X9Q7buvf1/u\n",
       "5/ZLN6g2FDFLWfIqGADotEQFl5rDoyI++YnGmG8UG9SYwNigxgTGBjUmMDaoMYGxQY0JjA1qTGDy\n",
       "USVCNQBpJvLDSpTJqOMAnLt4gWqtrigHKnkXOEAVf+kE9VB0pjtZ4NnY8gqfUAYA83M8I+yIHHRl\n",
       "ZYkf1+MZ85I4DgDOrM5R7eD5c6qdW1ug2lZDidvmFp9+Nrtwk2qTkxOq7e0eUu3BfZ6jA8DL6+tU\n",
       "e77HPzNv6+dZJu555YZU3Jt+ghoTGBvUmMDYoMYExgY1JjA2qDGBsUGNCUxetHSnMtX0L8+5uLe/\n",
       "L9f95ONPqDYe83UTNYUGQE0G3DSVqSHhv1Uz07zUqlU07KfiJXndWR7RtLo8DunMcO3ajUW5n/Ur\n",
       "l6n26T3eRW9vj3cS/OzxQ/mZYnYS2uBZ02SyyzVR+fXe734v97O6eo1qFy+eo9pMT3/XZcnjODWk\n",
       "TA1l8hPUmMDYoMYExgY1JjA2qDGBsUGNCYwNakxg8nqkhydNRM4yEU3Mnu/xTngA8NmDz6jGohIA\n",
       "SBuHFZ1O0nBcu92imkp2Tvq8CgYAZi7xKpBV1RGwxatgypJvaG5hVe5nbo7vZ3qKD3P611/9O9WG\n",
       "w4b4oeI3ynDEj82GvLJkvssrep58wY8DgH/+l99R7d2ffo9qs7M8ogKA6Wn+ndVjHvQNRUWZn6DG\n",
       "BMYGNSYwNqgxgbFBjQmMDWpMYGxQYwKTp6nISgCkImZJU+7vLNVVMqj5a2dVsVKr8povjz71r2qv\n",
       "X67LP7MseUWKSIS++mAqdUUTqrFoQKWadNUZr7wBgLm5ZapduPItql26yquTZrp35GcWOa/amRXa\n",
       "TCmiidmrVKsyHhcBwMYn71Ht7z7/gGpvvMkjGAB488/+lGory/y6qwTQT1BjAmODGhMYG9SYwNig\n",
       "xgTGBjUmMDaoMYHJMeGNjgBgcMyrNaZn+Cv9omiaYyHincYOX/93mmKWTkfMgxHVBqOGvT78gjfb\n",
       "Wj3H368fHPE5KTs7fE1A5z6PhjyieenmK1Sr+nwmTjXQF+Hl9Ve5Bl4BsrHHK1ZOEt7cqxjzSikA\n",
       "SDv8Xjjq8+vzm1/9m1z3o//ijfDe+elPqPbmm9+nmp+gxgTGBjUmMDaoMYGxQY0JjA1qTGBsUGMC\n",
       "Y4MaE5h8NBZTaABkLZ4PYsLzr5UlPcTn5VsvU+03T5/x/eS6PE4UscnjuiIHFbOc8Hxfd5CbmZ2h\n",
       "2pM/8qzz8ZNNqrVTvqHLZ/hgJQAYlfw8Hz18RLWixX/Lz1/W3e6WSp6XX97kA5LSFV5S9uxsh2rl\n",
       "I/2dDBOevS53+fVpHNxV8ax4+9kXVHu+f5NqfoIaExgb1JjA2KDGBMYGNSYwNqgxgbFBjQlMnqYN\n",
       "r45FlFKK/KFo81fZAPDWW39OtT8+fkK1hxsP5brsfJoq2Iaic5+qVHvxQpV+AeuX16i2JeKk0YC/\n",
       "sm+3+dkMjl7I/Vy+cYFqacYHSC3O8bgoLUQUB2B675hqE1HedfW1W1R7/WffodrGp+flfj54/32q\n",
       "razxeDBNmp5n3A/Xrl3nh4l1/QQ1JjA2qDGBsUGNCYwNakxgbFBjAmODGhOYXMwwAqDjiVHFOwKO\n",
       "GoYKXV1fp9o7P3ubar/8+3+Q6x7snz7kp9PhEQIAdNsF1fpHPAroNqy7u7NHtQvnlqjWafP4a2eX\n",
       "V8GMB3yvANDf55HHTfGd3Hv/HtU27nANANa7PNqZvsa783XeuEG1vMOHc732Hd5FEADOXzhDtW6P\n",
       "V8nUDWY5GfAqmjzn91dP3EN+ghoTGBvUmMDYoMYExgY1JjA2qDGBsUGNCUw+bohZVMOsScUbjuUF\n",
       "fw0OALVo4nVl/QrVllZ4NAEAO5tbp/7926/wJmUAsLa2QrWP7vIYYVLrPKlo8dfrWZtXgUz3xHHi\n",
       "8z7f2JD7qU54lUwptD98cJdq+R6PfQBg/hyPUhbf4lUp4/MLVKtEpJG0+NAlAOj2uD6Z8EFZrYZ7\n",
       "epjx76wQMUsu7iE/QY0JjA1qTGBsUGMCY4MaExgb1JjA2KDGBMYGNSYweZbrbAcTntGofoCNg2ZE\n",
       "6U5LlH6pYUT/u/Kpf339tW/Lo5ZXeQnSYMTL6ra3tuW6h/0B1Ta3eWnYrWsXqXZljeeDrVznsufP\n",
       "8vO8c/cx1f770VOq/SDhJVoAcGWB7xfL81Qaj/l1T0Qh5HiiB4LlopPlcclz0G5blxbmGU+oC5Gh\n",
       "VqJs009QYwJjgxoTGBvUmMDYoMYExgY1JjA2qDGBycfiFS8AlCUvQVJNzpKGQTOiUg2peF29urYq\n",
       "152eOb2U6Nw5PVBnbnGZaufP8VK0ouCREABU4kTVNdjc4SVcGxt8QJIqpQKAwyF/3X/n3udUO5Py\n",
       "7+SNW7z7HgBkP+CDgyY9vm5a84FWk1wU3dU6ZskSfuMKCYkMFoGuKB8sxXAu9Zl+ghoTGBvUmMDY\n",
       "oMYExgY1JjA2qDGBsUGNCUw+rvj/3geAluhGhvTr+7sWVTLtNo8Crqxflet+QKpdJtBVHgcHu1Rb\n",
       "W1mk2g9++GO57s4Oj0SyjF+//f0Dqj3e5FUwFxbn5H6GEFHAIe+U96OrvLpm6ec/lJ95ssojrAw8\n",
       "xssyHmuMSh4P1tAVWlkhoh3xnTTMA8NoxKOUwYBXNWUZ36+foMYExgY1JjA2qDGBsUGNCYwNakxg\n",
       "bFBjApN3GqoxVLWGGryk6wmAlvhpaLV4c6arV67IdRcXT49EdndPH6r0FeLtOm6+eptqy8s8ggGA\n",
       "SsRJU1O8Adr0FK9KuX6DV4ccH/flfj5/8oRqZ1v8df/tC2ep1r7Eq30AoKr5xe11u1QbDnlsMRSl\n",
       "QO2xvvtUpZUa+nUy5JEQAOQ5X7fb5fd04pjFmP+f2KDGBMYGNSYwNqgxgbFBjQmMDWpMYPKjvn4t\n",
       "3+7w6oeTAX/tPB7r//vfFvNXWmJeTN7Sc0C+99aPTv379OK0PO7MyhLVenNc2xLNvQCwUTEAgP7h\n",
       "IdUqcWCWcy1P9HXf2eSzZOYvXaBa8vqrVDse6YqoiZjT0z/m+1VN1VRpSd0Qs0BUsySiQmvcELPU\n",
       "Y37f1hWPjJDxk/ET1JjA2KDGBMYGNSYwNqgxgbFBjQmMDWpMYGxQYwKTTxoGwvRPeKe3scibskQM\n",
       "twEwETnpOOXrJqouDMCt29869e893egNnTYvBzo6FnnvRASdADIxCOpIlIZVJb8+6trp3QBXr1+j\n",
       "WveVW3w/HZ4/i4q6L/VafNdi0FGrxTP4dMKPS5u6TepbnlKKToIAMEn51Z+I+ySZ8BzZT1BjAmOD\n",
       "GhMYG9SYwNigxgTGBjUmMDaoMYHJU9HhDABSMcAmE6+zc9GpDACKTA1l4tK0eJUNAD3ShTBpCCCS\n",
       "hOup6ErX7fbkuoMhH5pTljwqODnmx6mYIM91vDU/O0u1tujql6b8Q4ucR1QAMBBDhVoihpIdJUc8\n",
       "+hpWOg5pifu2FMdWqo0lgEzcY23hh1oc5yeoMYGxQY0JjA1qTGBsUGMCY4MaExgb1JjA5HJqEICW\n",
       "eG2vooumgoFEdHqD0qA7yLXz01/NjyrdkS0RO65Fe7m9wwO5bjXm6+aie2Gny6tH5mf50KVuR0ce\n",
       "W1s7VGtlfGBTISpLalGtAgCdtjhWdS8UcUgtqmBOBrqrn6qSKQqutdpNI8H4uRQtHhmNRFdEP0GN\n",
       "CYwNakxgbFBjAmODGhMYG9SYwNigxgTGBjUmMDkaMizUPAdVDe2KhrInVb5Uia51VaX3Oxye3oWw\n",
       "3+eTxL5cl2dcMqvTp4neFM8Wp3o863yxzzv+9Y+PqTYU5W0A0B9wfXaWT4BTnfvGdUMZVs1LuJKU\n",
       "X8A05/dIKc5zkuhSR1FZiFzsp8j180x17qtEB8xRycvx/AQ1JjA2qDGBsUGNCYwNakxgbFBjAmOD\n",
       "GhOYfFLp8q2hylLE6/XhQMchB0e8TGsohtS0C11OxZiIATUAMNXj3fkKUS7VaTUNieKv1wdD/no9\n",
       "E90UxxXX9vt82BUAdETsA9XtTpREVY3Tk9SgI1HOqDoJtnhEdTLUZWGJyMZqcb+rkjEAODzgUV5d\n",
       "83NR5+knqDGBsUGNCYwNakxgbFBjAmODGhMYG9SYwOTlSL+S7vf3qTYc8KqKTAy+AXSVx2KPV1V0\n",
       "el25bkVio1Gpu/p1xSv0VofHLIMTfg0AYH+fv3qfEYOMVF/DXpdfg1arIYaSzRRVrMErRJKRHlZU\n",
       "qoopETGUIm5TVTBNFUbDIV83FRUrAxE1AcDJgMdmuYgHU/Gl+AlqTGBsUGMCY4MaExgb1JjA2KDG\n",
       "BMYGNSYw/wOHVTYFOniHRwAAAABJRU5ErkJggg==\n",
       "\" transform=\"translate(121, 48)\"/>\n",
       "</g>\n",
       "</svg>\n"
      ]
     },
     "metadata": {},
     "output_type": "display_data"
    }
   ],
   "source": [
    "using Plots\n",
    "conv2image(x) = colorview(RGB, permutedims(x, (3, 2, 1)))\n",
    "plot(conv2image(train_x[:,:,:,rand(1:end)]), size=(100,100))"
   ]
  },
  {
   "cell_type": "code",
   "execution_count": 171,
   "metadata": {},
   "outputs": [],
   "source": [
    "using AlgorithmicRecourse, AlgorithmicRecourse.Models\n",
    "import AlgorithmicRecourse.Models: logits, probs # import functions in order to extend\n",
    "\n",
    "# Step 1)\n",
    "struct NeuralNetwork <: Models.FittedModel\n",
    "    nn::Any\n",
    "end\n",
    "\n",
    "# Step 2)\n",
    "logits(𝑴::NeuralNetwork, X::AbstractArray) = 𝑴.nn(X)\n",
    "probs(𝑴::NeuralNetwork, X::AbstractArray)= σ.(logits(𝑴, X))\n",
    "𝑴 = NeuralNetwork(nn);"
   ]
  },
  {
   "cell_type": "code",
   "execution_count": 173,
   "metadata": {},
   "outputs": [
    {
     "ename": "BoundsError",
     "evalue": "BoundsError: attempt to access 32×32×3×9000 Array{Float32, 4} at index [1:32, 1:32, 1:3, 1, 4231]",
     "output_type": "error",
     "traceback": [
      "BoundsError: attempt to access 32×32×3×9000 Array{Float32, 4} at index [1:32, 1:32, 1:3, 1, 4231]\n",
      "\n",
      "Stacktrace:\n",
      "  [1] throw_boundserror(A::Array{Float32, 4}, I::Tuple{Base.Slice{Base.OneTo{Int64}}, Base.Slice{Base.OneTo{Int64}}, Base.Slice{Base.OneTo{Int64}}, Int64, Int64})\n",
      "    @ Base ./abstractarray.jl:651\n",
      "  [2] checkbounds\n",
      "    @ ./abstractarray.jl:616 [inlined]\n",
      "  [3] _getindex\n",
      "    @ ./multidimensional.jl:837 [inlined]\n",
      "  [4] getindex(::Array{Float32, 4}, ::Function, ::Function, ::Function, ::CartesianIndex{2})\n",
      "    @ Base ./abstractarray.jl:1170\n",
      "  [5] (::var\"#125#126\")(i::CartesianIndex{2})\n",
      "    @ Main ./none:0\n",
      "  [6] iterate\n",
      "    @ ./generator.jl:47 [inlined]\n",
      "  [7] collect(itr::Base.Generator{Vector{CartesianIndex{2}}, var\"#125#126\"})\n",
      "    @ Base ./array.jl:681\n",
      "  [8] top-level scope\n",
      "    @ ~/Documents/code/AlgorithmicRecourse.jl/docs/src/examples/CIFAR10.ipynb:12\n",
      "  [9] eval\n",
      "    @ ./boot.jl:360 [inlined]\n",
      " [10] include_string(mapexpr::typeof(REPL.softscope), mod::Module, code::String, filename::String)\n",
      "    @ Base ./loading.jl:1116\n",
      " [11] #invokelatest#2\n",
      "    @ ./essentials.jl:708 [inlined]\n",
      " [12] invokelatest\n",
      "    @ ./essentials.jl:706 [inlined]\n",
      " [13] (::VSCodeServer.var\"#146#147\"{VSCodeServer.NotebookRunCellArguments, String})()\n",
      "    @ VSCodeServer ~/.vscode/extensions/julialang.language-julia-1.5.11/scripts/packages/VSCodeServer/src/serve_notebook.jl:18\n",
      " [14] withpath(f::VSCodeServer.var\"#146#147\"{VSCodeServer.NotebookRunCellArguments, String}, path::String)\n",
      "    @ VSCodeServer ~/.vscode/extensions/julialang.language-julia-1.5.11/scripts/packages/VSCodeServer/src/repl.jl:185\n",
      " [15] notebook_runcell_request(conn::VSCodeServer.JSONRPC.JSONRPCEndpoint{Base.PipeEndpoint, Base.PipeEndpoint}, params::VSCodeServer.NotebookRunCellArguments)\n",
      "    @ VSCodeServer ~/.vscode/extensions/julialang.language-julia-1.5.11/scripts/packages/VSCodeServer/src/serve_notebook.jl:14\n",
      " [16] dispatch_msg(x::VSCodeServer.JSONRPC.JSONRPCEndpoint{Base.PipeEndpoint, Base.PipeEndpoint}, dispatcher::VSCodeServer.JSONRPC.MsgDispatcher, msg::Dict{String, Any})\n",
      "    @ VSCodeServer.JSONRPC ~/.vscode/extensions/julialang.language-julia-1.5.11/scripts/packages/JSONRPC/src/typed.jl:67\n",
      " [17] serve_notebook(pipename::String; crashreporting_pipename::String)\n",
      "    @ VSCodeServer ~/.vscode/extensions/julialang.language-julia-1.5.11/scripts/packages/VSCodeServer/src/serve_notebook.jl:94\n",
      " [18] top-level scope\n",
      "    @ ~/.vscode/extensions/julialang.language-julia-1.5.11/scripts/notebook/notebook.jl:12\n",
      " [19] include(mod::Module, _path::String)\n",
      "    @ Base ./Base.jl:384\n",
      " [20] exec_options(opts::Base.JLOptions)\n",
      "    @ Base ./client.jl:285\n",
      " [21] _start()\n",
      "    @ Base ./client.jl:485"
     ]
    }
   ],
   "source": [
    "ŷ = round.(probs(𝑴, train_x)) # predicted class\n",
    "# ŷ = CIFAR10.trainlabels()[1:1000]\n",
    "cats = findall(ŷ .== 0)\n",
    "dogs = findall(ŷ .== 1)\n",
    "# Plot random samples:\n",
    "using Plots\n",
    "Random.seed!(1234)\n",
    "n_samples = 10\n",
    "using StatsBase\n",
    "random_cats = sample(cats, n_samples, replace=false)\n",
    "random_dogs = sample(dogs, n_samples, replace=false)\n",
    "# p_list = [plot(conv2image(train_x[:,:,:,i]), size=(100,100), axis=nothing) for i ∈ vcat(random_cats, random_dogs)];"
   ]
  },
  {
   "cell_type": "code",
   "execution_count": 122,
   "metadata": {},
   "outputs": [
    {
     "data": {
      "image/png": "[encoded data removed]",
      "image/svg+xml": "<?xml version=\"1.0\" encoding=\"utf-8\"?>\n<svg xmlns=\"http://www.w3.org/2000/svg\" xmlns:xlink=\"http://www.w3.org/1999/xlink\" width=\"800\" height=\"150\" viewBox=\"0 0 3200 600\">\n<defs>\n  <clipPath id=\"clip400\">\n    <rect x=\"0\" y=\"0\" width=\"3200\" height=\"600\"/>\n  </clipPath>\n</defs>\n<path clip-path=\"url(#clip400)\" d=\"\nM0 600 L3200 600 L3200 0 L0 0  Z\n  \" fill=\"#ffffff\" fill-rule=\"evenodd\" fill-opacity=\"1\"/>\n<defs>\n  <clipPath id=\"clip401\">\n    <rect x=\"640\" y=\"0\" width=\"2241\" height=\"600\"/>\n  </clipPath>\n</defs>\n<path clip-path=\"url(#clip400)\" d=\"\nM57.2441 252.756 L262.756 252.756 L262.756 47.2441 L57.2441 47.2441  Z\n  \" fill=\"#ffffff\" fill-rule=\"evenodd\" fill-opacity=\"1\"/>\n<defs>\n  <clipPath id=\"clip402\">\n    <rect x=\"57\" y=\"47\" width=\"207\" height=\"207\"/>\n  </clipPath>\n</defs>\n<polyline clip-path=\"url(#clip400)\" style=\"stroke:#000000; stroke-linecap:butt; stroke-linejoin:round; stroke-width:4; stroke-opacity:1; fill:none\" points=\"\n  57.2441,252.756 262.756,252.756 \n  \"/>\n<polyline clip-path=\"url(#clip400)\" style=\"stroke:#000000; stroke-linecap:butt; stroke-linejoin:round; stroke-width:4; stroke-opacity:1; fill:none\" points=\"\n  57.2441,47.2441 57.2441,252.756 \n  \"/>\n<g clip-path=\"url(#clip402)\">\n<image width=\"206\" height=\"206\" xlink:href=\"data:image/png;base64,\niVBORw0KGgoAAAANSUhEUgAAAM4AAADOCAYAAAB2Hz3EAAAR4ElEQVR4nO2d2W8cZ3bFT1VXd7NJ\nNjeJpERLlmRaErXAy9iOMU5mgkxg5CnI/zgP854AgyRIYGtsx7It25JHtkRJo33jIlEUxa23qjxM\nHs/5DF4QRh7O7/EW71dL9+kCDu93b/b7P35RQVCWpTqEPM/lMUaWOKYuIEskZajxeKWvqxLrlfI8\n8tEgh3o2OmevN1pVei11LEs9NLVW6poFmfpE1UMGAAxoNM96MmNnbYXG/3zxM5mzeOUyjXd2OjRe\nFPy7BACjIy0a39u33xgDwMIxJoSFY0wAC8eYABaOMQEsHGMCFCnPN2VtRmxPuVYgR1qoubZWpYEc\nuADlFEub9q8H97ZYgsjzVyn9LGHhi4vOS24tZ1VfrjWU82PrK/dlzpef/InG71+/JXPQ4+epCde5\nNdSQSzWbBY37jWNMAAvHmAAWjjEBLBxjAlg4xgSwcIwJUOQJW7NMHFPVuapqOlS1m7BpB31uh5al\nrrRVtnMuqmPzXFfN7ivi2YRs+oSzrdbLUnZ0xU38XNjODVEBDQDL927S+MUL/yFzHt5+QOP1qi5z\n6gW3kEfGeKVzs8H/HgCawqr2G8eYABaOMQEsHGMCWDjGBLBwjAlQpMoL00bY/hV5KsqUq9YT7lmi\nT8JAOERlj/9+NFtDcq2UE6VzhHu2jz0HUj0PZErimdUr7pI1Bnz//oPFH+Val/7nAo2vPH0ic4qM\nX3Sjoe9zuMVdsuEh7sTVE65aoyEcV5lhjJFYOMYEsHCMCWDhGBPAwjEmQJHusLn3rdO/2JZq4QRl\nA+0QQWz3rYRzkyWcm7zBf3NSTpgiliMOJB7aoORJhXDOAKAJXpN2/fK3NH7ps/+Sa+2+2uTnyPXW\n5aLJr3m4rXPUVmhVxpgnnlmjzj9nv3GMCWDhGBPAwjEmgIVjTAALx5gAFo4xAYrYyKe9k1xJbWlO\nXZuwVgcDba0OhFVdqG6NuS7+k1cWeJyluBeUqSFZ/ESDSm8dL0Qv06LzUub8+duLNH75m29ofHdr\nR67VEFvUW029RX14hBfapoZBqYFoeY0/z2Hx+QNAXTWMlRnGGImFY0wAC8eYABaOMQEsHGMCFPtt\nqskRMHtfKj35XLhng35X5gxEZWS9xp2bKlX9J+60K2azAEBPbPdWTRxrmXaOKtH4r0iMPh+84u7Z\nD19/LnMWf7xC493dXRofaupGgcND/H6GE65arSbm8yR/8tXz5H9dV4NzABSN4T2cwRiTxMIxJoCF\nY0wAC8eYABaOMQEsHGMC6Oq2/+fkoitnXeyR/2uS6NgpivyqLNEVVBRgPl97IXNqwvYcHx8TGfpe\nWqIH687qssy59AnvB3Dz2qLMyVRhpNjXP9zS1m4u7qeoJ3Jyfp9VYiy8ehuMNLhV3k/8T6ZsTe3p\nHMaYBBaOMQEsHGMCWDjGBLBwjAlQ7OPuaACxDpOKVFdQtQ144/mKzNkUW2pboyP8HGJ6MQD0utt8\nLdH5EQCaQ8095dQSE5xXH9yl8csXPpU5S3dv0fhQoa+5EEWbzTr/bESDUwBALlxFNdkaADLxxSnq\nqW3togAX/F5aU6/Jtebf+Q2N+41jTAALx5gAFo4xASwcYwJYOMYEsHCMCVDsZ7fOKNLBTtjRW+u8\nmPLujz/InGJsksbzOi9YzFvcpgaAoSbPUYWcAJCJukQVf/yXq3Kt7y5coPHnj5/KnJrooVDTM5pQ\nz7kl3ix4kuoFAQADMdirJgpGASCrBeqQRQfW5vQJGj/x1q/lUpNzb/JT7P2qjDEWjjEBLBxjAlg4\nxgSwcIwJUFS/zHicn4FfRK+nu3LeXrxG4/eu8zgAzC2co/HqKS8M7SZ+VsZGeMFmo647WY622zS+\nscK7b1769BO51vrjx/z8uT5/JtzDWqG3IVcD/hl0dlVXVH1+CJe010nM9MnEtvbEeZrj0zR+8r3f\n0nh7+nW5Vld0F/Abx5gAFo4xASwcYwJYOMYEsHCMCVDoTatpcrFHWm1bLfO9z0DZ3d6UOU/v3afx\nfk9bgV99e5nGX/Z+pPHz53mdEgCcXThC40XekjnVFp8ps7LM68u6u3x7NgAMjfDzNBPboOsN7hCp\nadwAUA24e9Xr85yeqEcDgKIpauUS9u2gw88zdvSYzDn563+g8fb0HI2Xlb5mNanabxxjAlg4xgSw\ncIwJYOEYE8DCMSaAhWNMgGSRZ2paubKdVcFmaht0lnH99nodmbPxilvVO11dsLjT5dbm6irfhv39\nJW5fA0BvY4nGf/eP78mcluh+WXXWabw9qgsZe+IfCUVijnlNPOdKdEUFgG7JP4O8xgszh3ntKwBg\nIH6nt4XlDQBH5vm/BM5+yC1nAGiJos1S2N6p0e81MZ/HbxxjAlg4xgSwcIwJYOEYE8DCMSbAz3R7\nSzlh4limij91IZ86Sz+xdbvRHqfxtdVVmdMXCw4NDdN42edFmQDwYoVvt65VWzJnfJSfZ2GeF4zO\nTozKtZaX+flfrL2SOdub3CEbmpiVOYdn+DbkpQd81k6vsyHXQsbds0Mn3pYpp37z9zQ+NMkLNgGg\n7PH3QSaaK6YoRTGz3zjGBLBwjAlg4RgTwMIxJoCFY0wAC8eYAEk7upKz1xNNPoUdnVgKpbCJxyen\nZM7Cu++oxWRO9YwXU/aecQu5yHXx48xBbod3trQdXUxze7kxwm3aIuOdPwFgaoqvtbKi7eAbi3f4\neYaGZM7kLLfKxyYP0vijB7wXBABMTHJre+H9j2QOJvh5Oonq5KZ4HVTqW5v4cmbiPH7jGBPAwjEm\ngIVjTAALx5gAFo4xAX6myDM1IEe5GipHr1WW/NggUWQ6fZS7PatLD2XO0jp31VDxbcDtcT0N+cy5\neRrPMl2YubrCi0bH2vz+EwOsMTTEO3lOz+jfwn7FtxRPT0/InN3eMo2vdnnB5NyJ43KtuWOnaLw5\nxh1KABhU/CGUie3eFdS8HfVAE++PjOf4jWNMAAvHmAAWjjEBLBxjAlg4xgQo0kOn9dFKaU7UqqHS\nLkhNbMPudPXW5WfPuNvz6Il21V5t8MaDvS6fQ9PvatNxapI7Uduv9KTs5cf8mo8dn6TxiTFdQ5aL\nLnrdvj5/vcFzPjzP68EAYHKUP4Mvvud1bzcf61q1e3d4E8mJLT2H6NDMcRpvtLR7OVCvg0rUMao4\ngLrQgN84xgSwcIwJYOEYE8DCMSaAhWNMAAvHmABpOzox02Ygit9qYvR1I9NdFDee8a6UP3zztcy5\nde0ajb98viZz6mIb7LgYfd7d1OPSr3y7SOOHDs/InPGJERqfaPMOn62WLjLt9LiFWtV0Tm+Xfwa1\nRMvU2XF+bR9/wAs2jx9+Ltd6vM47iT7b5F1BAWDjER9l3xw7JHMGNW7jj7T4FvWjs3qL+qSYUeQ3\njjEBLBxjAlg4xgSwcIwJYOEYE6BIzsARW4oBIBfbU0dEE7/Vhw/kWl/+6Qsav33zpsyp+vw8qTk8\nqtA0VzkJh+rKzbs0frSjJ2WfW+Dbvdc2eWHm3Ije0lxlPGfQ1Q0RtzZ4keWumMYNAHmdu0rtNv/N\nPXvqqFzrpHDvtjb5dQHA8w0+72er/1jnvOTFwSt3+Hf2xZp21cZff43G/cYxJoCFY0wAC8eYABaO\nMQEsHGMCWDjGBCgyUZQJAHVheQJAucvnsCxe+4nGL1/8Rq61tPSMxqtS6zoXbS4TY1MA0f2x0+H2\nZU1YsQCQN3gh4aMlXWS6/oL3PDg6PUbj8/Mn5FptUXzZWedFkQCAAS8MzWq6t4IaV16JOUT1xE9x\ns+DnaY/w+weAmTY/1hX3AgCbB3Zo/E7FLez7d27ItT776TKN+41jTAALx5gAFo4xASwcYwJYOMYE\nKBqV7pa5fP8v8tjV776i8XvXeWHm7qY+T5VxtyWxc1sPCk7kZOJnYniEO2SlNhyRleKaE0Nt+qKY\ncnWFb9GuCu42AsCRo3yC80en+AwcAFh9xh2/tVfaoXq5zZ1F9ZjHhhNDfUTRcC/XxcSlasspnj8A\nDIsun+fOH6PxY6/rTqYPHvGt4H7jGBPAwjEmgIVjTAALx5gAFo4xASwcYwIUi5c+lwe//pz3AgCA\n50+XaDzLubVb5do+rIS3XMsSe+FFvEwU/5UlX6/RbIoE7W13e9yr1mcHjs2fpPG26DC5JopCAaAu\nLNcDYhAUADy8v0rjN5Z1MSkmeffR8Ta3nQ/V9G/xSMH7IRSF/lcFcv5EazVtYWfqOyC+TlMTekjV\n5MQUvyyZYYyRWDjGBLBwjAlg4RgTwMIxJkDx+X//pzy4saY7LBYZ73LZFwWbvVTFpqim7A20c1Kr\nuObVtHgAqIkCzHrGXa1eps8/PH2AxhfefV/mvP2rd2h89Qnvcjq+omfNdPrcidrq6O3uE5O8Y+U9\nvgseADC8w0fJPxfj4p9s65lCEwU//5iIA8BwgztkrbrumNoQRaOjYlx9o0wUmfb4Mb9xjAlg4RgT\nwMIxJoCFY0wAC8eYAMV2YktzlqgvKyvREFD8fS5m0wBAKbISBhkgri1LnKff48eKIV6PdfoM32oL\nAG+8+wGNjxw4rM/fFw7RKK+Vmjio1+qucVdpcfk7mXPowByNr93QNXGHTnJXqRjjblun0jOFNnvc\nWa11tePa2OYuYaumqwLXV7lL+eLRVRo/PsWbOwLA64dcq2bMvmHhGBPAwjEmgIVjTAALx5gAFo4x\nAYpBYnvwIOUHq+3OYt5OJltvAjWx3bZWF1uaAVTCjUy40Zg7xkeJz59/i8anZltyrWFRMLi7pQtj\nR0a47fyqz59ZAf3vgDdOn6Xxy1/xMfIAcOenhzR+/sN/kjnD4/ya5b8dRMHs/x2k4X5iqFEpftt7\niTarWwXvzPlvF3ln2s7KE7nWkRnb0cbsGxaOMQEsHGMCWDjGBLBwjAmQ/c3bH0i7qz9IDIgRWQ3l\nkAlHBQAGYlt1lZg1c3B6lsZn53gcAE4vnKPxXocXTN68/qVca2b6CI2/dpYXfwJAv8Zduky0MZw5\nzM8BADu8tx82N5ZlzugIL2acmEkUpmZiUvWA25e11IAiNcE6kaO+nGXC8W00eKHp1e/5TKdP//iv\ncq2aKMz1G8eYABaOMQEsHGMCWDjGBLBwjAlg4RgToOglijxTPQcy0TJTLddP+Iet8XEanz+9IHPO\n/+o9Gh+fmpA5L5d4Z8zHV2/QeEOMNweAvpj9vv2Mzw0CgMnj/H4qMVPo5Us9rr0PbtVPHtHWckMU\nze6IMeqA7uFQFx9nmSjmjaCKPFMWdqfL/42ycPo8jT+8dUuudfv6TzTuN44xASwcYwJYOMYEsHCM\nCWDhGBOgKEutncFAzyARphKaQ9y5mXvjuFzr/Y9+S+PzZ3hRJgDkDe5EpWbqHG5P03j3xUsav718\nRa61cpc7cfnYIZnzosedsEabu4rHjrwu15o6wGfKqPlEADBQ241zvd88U9uahXk2SNR4KiOsltju\nnqtR0QnU9vm8zotsP/i7v5VrvVhfEddljNkzFo4xASwcYwJYOMYEsHCMCWDhGBOg+Pif/0UevHlz\nUScW3FucP32Kxk+d4wV2ANCe4p0XB5nuOTAQNmme606SeYNbtQfPnKbx1bUzcq1TYpT7UqKV6OYO\nn4t+6sSbND4xwZ8LAPTEiHHRvgEAkKuCycQ1i1peXWKZsqPTBwX8AlIDxDLxv5K+uJfJ2dfkWh/9\n7mMa9xvHmAAWjjEBLBxjAlg4xgSwcIwJkP3h3y/Kva6bm690orBvRkb56PNAg8fkuHZ1/hQqpxIX\ncO27i3KtrXti9LcY4w4AB9/gRatZJebwaFMRVbb34kdFnnjQylVTRDZOh7y2wBbtSrwnssBV+41j\nTAALx5gAFo4xASwcYwJYOMYEKAYJR2G4zbfnAtBbZ0UNUZ7wTqRDlnJO9rHxXZ7z349zb70vc9Yn\n+Tbs0cO6IWCWc8cxH/AauqrqyrWqkH+lFov4WmqtiNv1y5CJbdipS66JGU1+4xgTwMIxJoCFY0wA\nC8eYABaOMQEsHGMCFFnCJi4T49qVhZurFp8J0zFSsKcs7FTxpzpPKTpcFk3elRQAZt/ks246ifss\nhVWfiW3YqQrLlL2/V/bRjA4V36Y+f3Usch51p5Gl/MYxJoCFY0wAC8eYABaOMQEsHGMC/C9DYqUi\nE9Qa0QAAAABJRU5ErkJggg==\n\" transform=\"translate(57, 47)\"/>\n</g>\n<path clip-path=\"url(#clip400)\" d=\"\nM377.244 252.756 L582.756 252.756 L582.756 47.2441 L377.244 47.2441  Z\n  \" fill=\"#ffffff\" fill-rule=\"evenodd\" fill-opacity=\"1\"/>\n<defs>\n  <clipPath id=\"clip403\">\n    <rect x=\"377\" y=\"47\" width=\"207\" height=\"207\"/>\n  </clipPath>\n</defs>\n<polyline clip-path=\"url(#clip400)\" style=\"stroke:#000000; stroke-linecap:butt; stroke-linejoin:round; stroke-width:4; stroke-opacity:1; fill:none\" points=\"\n  377.244,252.756 582.756,252.756 \n  \"/>\n<polyline clip-path=\"url(#clip400)\" style=\"stroke:#000000; stroke-linecap:butt; stroke-linejoin:round; stroke-width:4; stroke-opacity:1; fill:none\" points=\"\n  377.244,47.2441 377.244,252.756 \n  \"/>\n<g clip-path=\"url(#clip403)\">\n<image width=\"206\" height=\"206\" xlink:href=\"data:image/png;base64,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\ncIRI8D9bU1fjtHpRPAAAAABJRU5ErkJggg==\n\" transform=\"translate(377, 47)\"/>\n</g>\n<path clip-path=\"url(#clip400)\" d=\"\nM697.244 252.756 L902.756 252.756 L902.756 47.2441 L697.244 47.2441  Z\n  \" fill=\"#ffffff\" fill-rule=\"evenodd\" fill-opacity=\"1\"/>\n<defs>\n  <clipPath id=\"clip404\">\n    <rect x=\"697\" y=\"47\" width=\"207\" height=\"207\"/>\n  </clipPath>\n</defs>\n<polyline clip-path=\"url(#clip400)\" style=\"stroke:#000000; stroke-linecap:butt; stroke-linejoin:round; stroke-width:4; stroke-opacity:1; fill:none\" points=\"\n  697.244,252.756 902.756,252.756 \n  \"/>\n<polyline clip-path=\"url(#clip400)\" style=\"stroke:#000000; stroke-linecap:butt; stroke-linejoin:round; stroke-width:4; stroke-opacity:1; fill:none\" points=\"\n  697.244,47.2441 697.244,252.756 \n  \"/>\n<g clip-path=\"url(#clip404)\">\n<image width=\"206\" height=\"206\" xlink:href=\"data:image/png;base64,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\nAAAAAElFTkSuQmCC\n\" transform=\"translate(697, 47)\"/>\n</g>\n<path clip-path=\"url(#clip400)\" d=\"\nM1017.24 252.756 L1222.76 252.756 L1222.76 47.2441 L1017.24 47.2441  Z\n  \" fill=\"#ffffff\" fill-rule=\"evenodd\" fill-opacity=\"1\"/>\n<defs>\n  <clipPath id=\"clip405\">\n    <rect x=\"1017\" y=\"47\" width=\"207\" height=\"207\"/>\n  </clipPath>\n</defs>\n<polyline clip-path=\"url(#clip400)\" style=\"stroke:#000000; stroke-linecap:butt; stroke-linejoin:round; stroke-width:4; stroke-opacity:1; fill:none\" points=\"\n  1017.24,252.756 1222.76,252.756 \n  \"/>\n<polyline clip-path=\"url(#clip400)\" style=\"stroke:#000000; stroke-linecap:butt; stroke-linejoin:round; stroke-width:4; stroke-opacity:1; fill:none\" points=\"\n  1017.24,47.2441 1017.24,252.756 \n  \"/>\n<g clip-path=\"url(#clip405)\">\n<image width=\"206\" height=\"206\" xlink:href=\"data:image/png;base64,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\nOEIEkHCECCDhCBHg/wFr5prPYLuhRQAAAABJRU5ErkJggg==\n\" transform=\"translate(1017, 47)\"/>\n</g>\n<path clip-path=\"url(#clip400)\" d=\"\nM1337.24 252.756 L1542.76 252.756 L1542.76 47.2441 L1337.24 47.2441  Z\n  \" fill=\"#ffffff\" fill-rule=\"evenodd\" fill-opacity=\"1\"/>\n<defs>\n  <clipPath id=\"clip406\">\n    <rect x=\"1337\" y=\"47\" width=\"207\" height=\"207\"/>\n  </clipPath>\n</defs>\n<polyline clip-path=\"url(#clip400)\" style=\"stroke:#000000; stroke-linecap:butt; stroke-linejoin:round; stroke-width:4; stroke-opacity:1; fill:none\" points=\"\n  1337.24,252.756 1542.76,252.756 \n  \"/>\n<polyline clip-path=\"url(#clip400)\" style=\"stroke:#000000; stroke-linecap:butt; stroke-linejoin:round; stroke-width:4; stroke-opacity:1; fill:none\" points=\"\n  1337.24,47.2441 1337.24,252.756 \n  \"/>\n<g clip-path=\"url(#clip406)\">\n<image width=\"206\" height=\"206\" xlink:href=\"data:image/png;base64,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\n\" transform=\"translate(1337, 47)\"/>\n</g>\n<path clip-path=\"url(#clip400)\" d=\"\nM1657.24 252.756 L1862.76 252.756 L1862.76 47.2441 L1657.24 47.2441  Z\n  \" fill=\"#ffffff\" fill-rule=\"evenodd\" fill-opacity=\"1\"/>\n<defs>\n  <clipPath id=\"clip407\">\n    <rect x=\"1657\" y=\"47\" width=\"207\" height=\"207\"/>\n  </clipPath>\n</defs>\n<polyline clip-path=\"url(#clip400)\" style=\"stroke:#000000; stroke-linecap:butt; stroke-linejoin:round; stroke-width:4; stroke-opacity:1; fill:none\" points=\"\n  1657.24,252.756 1862.76,252.756 \n  \"/>\n<polyline clip-path=\"url(#clip400)\" style=\"stroke:#000000; stroke-linecap:butt; stroke-linejoin:round; stroke-width:4; stroke-opacity:1; fill:none\" points=\"\n  1657.24,47.2441 1657.24,252.756 \n  \"/>\n<g clip-path=\"url(#clip407)\">\n<image width=\"206\" height=\"206\" xlink:href=\"data:image/png;base64,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\n\" transform=\"translate(1657, 47)\"/>\n</g>\n<path clip-path=\"url(#clip400)\" d=\"\nM1977.24 252.756 L2182.76 252.756 L2182.76 47.2441 L1977.24 47.2441  Z\n  \" fill=\"#ffffff\" fill-rule=\"evenodd\" fill-opacity=\"1\"/>\n<defs>\n  <clipPath id=\"clip408\">\n    <rect x=\"1977\" y=\"47\" width=\"207\" height=\"207\"/>\n  </clipPath>\n</defs>\n<polyline clip-path=\"url(#clip400)\" style=\"stroke:#000000; stroke-linecap:butt; stroke-linejoin:round; stroke-width:4; stroke-opacity:1; fill:none\" points=\"\n  1977.24,252.756 2182.76,252.756 \n  \"/>\n<polyline clip-path=\"url(#clip400)\" style=\"stroke:#000000; stroke-linecap:butt; stroke-linejoin:round; stroke-width:4; stroke-opacity:1; fill:none\" points=\"\n  1977.24,47.2441 1977.24,252.756 \n  \"/>\n<g clip-path=\"url(#clip408)\">\n<image width=\"206\" height=\"206\" xlink:href=\"data:image/png;base64,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\nChwhAihwhAigwBEigAJHiAD/ATj6DmQ4VK04AAAAAElFTkSuQmCC\n\" transform=\"translate(1977, 47)\"/>\n</g>\n<path clip-path=\"url(#clip400)\" d=\"\nM2297.24 252.756 L2502.76 252.756 L2502.76 47.2441 L2297.24 47.2441  Z\n  \" fill=\"#ffffff\" fill-rule=\"evenodd\" fill-opacity=\"1\"/>\n<defs>\n  <clipPath id=\"clip409\">\n    <rect x=\"2297\" y=\"47\" width=\"207\" height=\"207\"/>\n  </clipPath>\n</defs>\n<polyline clip-path=\"url(#clip400)\" style=\"stroke:#000000; stroke-linecap:butt; stroke-linejoin:round; stroke-width:4; stroke-opacity:1; fill:none\" points=\"\n  2297.24,252.756 2502.76,252.756 \n  \"/>\n<polyline clip-path=\"url(#clip400)\" style=\"stroke:#000000; stroke-linecap:butt; stroke-linejoin:round; stroke-width:4; stroke-opacity:1; fill:none\" points=\"\n  2297.24,47.2441 2297.24,252.756 \n  \"/>\n<g clip-path=\"url(#clip409)\">\n<image width=\"206\" height=\"206\" xlink:href=\"data:image/png;base64,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\nWDjGJGDhGJOAhWNMAv8LNiW+l+GEMtwAAAAASUVORK5CYII=\n\" transform=\"translate(2297, 47)\"/>\n</g>\n<path clip-path=\"url(#clip400)\" d=\"\nM2617.24 252.756 L2822.76 252.756 L2822.76 47.2441 L2617.24 47.2441  Z\n  \" fill=\"#ffffff\" fill-rule=\"evenodd\" fill-opacity=\"1\"/>\n<defs>\n  <clipPath id=\"clip4010\">\n    <rect x=\"2617\" y=\"47\" width=\"207\" height=\"207\"/>\n  </clipPath>\n</defs>\n<polyline clip-path=\"url(#clip400)\" style=\"stroke:#000000; stroke-linecap:butt; stroke-linejoin:round; stroke-width:4; stroke-opacity:1; fill:none\" points=\"\n  2617.24,252.756 2822.76,252.756 \n  \"/>\n<polyline clip-path=\"url(#clip400)\" style=\"stroke:#000000; stroke-linecap:butt; stroke-linejoin:round; stroke-width:4; stroke-opacity:1; fill:none\" points=\"\n  2617.24,47.2441 2617.24,252.756 \n  \"/>\n<g clip-path=\"url(#clip4010)\">\n<image width=\"206\" height=\"206\" xlink:href=\"data:image/png;base64,\niVBORw0KGgoAAAANSUhEUgAAAM4AAADOCAYAAAB2Hz3EAAATxklEQVR4nO2dyY4k13mFTwwZGZlV\nWXN3dVez2SRbJimKkiATJmQYXlnwE/mV/ABeaeOFLRswZMumRZsD3KLInmrsGnKOjNELbs8JQBdc\nnm/5JyLujcg4GcDJf4j+/h//roMgiiL1ESLwz4pNQeNd18pzxTGP56ORPCYfDmm8LCt5zKZc03gy\n5Hseb/E1AABdQsNxxOMAEMUpP6bm8UTcYwAoqxnfFvT1RxG/0Ys5vy8AUNT8extvT8T64ssEULb8\nXMsVv/8AcHO3ovH//uyFPOYPX4t702zxeM+zOdke0Li+SmOMxMIxJgALx5gALBxjArBwjAnAwjEm\ngDRJtH3ZCvsQAAZZRuPZkMdj5Tn3fNZ3TNc1fF8D6a4jTfne2pafq9vIU6GuaxrPxfV/vzf+Wd3w\n9dOhtrZH4x0a35Tcvv0efr6y0vdstV7S+N1yTuPzJb8vALBa8efp7OJaHvPyBf/s1XO+PgCUa2E7\nN9zeb1p9/dMbvr7fOMYEYOEYE4CFY0wAFo4xAVg4xgRg4RgTQNqW2vLcbLS1mAprM895RnMU6XMl\nCbcpk0TrWtnBfT8FWSqynTueAdvU3CYGgKrkGb1Voy38dMQ314p16kTfM0R8na7TN6BYlTR+eTGV\nx5zd8s+mC36um2vt4S+WfG/TGT8XAMxu+b1ZL7TtP8q4VV+LjPbNRlv4TePsaGN+MCwcYwKwcIwJ\nwMIxJgALx5gA0q3hPflhX8k9RF7cVrZN43W7kKdqO14jnsba8euEq1RutKuTZPyCkkS4asLtA4BK\nJEaWpXbiIHo4pKlKvtS9AMqKJ+cOBvxaAL3n2xueyAkA11f8frYRd0/jbqzXX/M9d5XuLTEc8ITN\ncqD3nKTi+xTJtFGkkzyzzK6aMT8YFo4xAVg4xgRg4RgTgIVjTABpsdQu1P7envwsFnlkWcKdq7Qn\n76qLhNvR08lSOVRFq/Oe1uJam1jsLdHr18LVW9e6K2Wz5O5NPuCdPNcrXR7ctPxadnb0d5Zl3PE6\nvv9IHpMO+TpVxZ3AqtFW7Cjj1/P8xaU8ZiPKrZOE3zMA6Dr+DCSpONdAPzONcC/9xjEmAAvHmAAs\nHGMCsHCMCcDCMSYAC8eYANKiuJEfzkV5LABMJnywUFlxO7btdMfQ4ZBbi40YagQA6PgxZaFt79mC\n26Hb97lN22eH16JEOhbXAgDzFU90rSp+zGrOk18BoK65TTwe8e8FAIbC9t7Z4qXGALBev6HxQli+\nMXSSaxrz6xkNewZbiQrputa/+Y34SyISQ7fSQU9irugY6zeOMQFYOMYEYOEYE4CFY0wAFo4xAaRI\ndZLntCcBdLrkc0O2xrx0uqcKGrkonc0Gugy3BXfvkqF2wtINL8Ntil0a34gEP0A7bk2jy3DbmidA\ndlv85oxEHADSjruHWZfLY5pCuJSVbu63HZ3QeJ7zRoWbWjuxpxu+frTRrlYstjzK9XW2Lb+ecsP3\n1sb6melEoq/fOMYEYOEYE4CFY0wAFo4xAVg4xgRg4RgTQJpmPd0yK51k2bXcpluuuU0cqbp+AFXD\nbd/9Pd3hsWq4tTgcaZtys+Y25X/92wWNf/XlN3r9iq+/WulZK2nKkywPHx7Q+Lvv6S6rP3n6kMbb\nSHfyTDJula+X2kJe3vLvYO8et/DjWPdJ+ODpRzS+v6Pn83z17R9p/PxKHxN3fM9Jx5/ZQdSjAfE/\nit84xgRg4RgTgIVjTAAWjjEBWDjGBJCOxzqRcjbTM0hqMWtkOOSJjKtCz8fpwF2d+Vx3hdyUfG/D\ngS4D/s/fcofm1//wNY2vFtpVrBvuEtaVdg8j0X00+Zqv88V/6Ht2/nPuXv7qbz6Wx+wfc8dtOjuX\nx1yc83Lnw5NjGo96yt33j/iz9vAxPxcAnLyzT+O/+93n8pjrK+7sbUQyadEzU6kVTpzfOMYEYOEY\nE4CFY0wAFo4xAVg4xgRg4RgTQKrGfgPAQIy9BoDZlFuldc0TCYtSJz+WJT8mgk7YnE55kl9d6Ov5\n/LOXND6/Fcl/iba2IZI847YnMbbjn1U1t2lnhe4K+uXveQfW3bG2lv/ir35K45uV7pNweva/NP7W\njO+57HT30fKOPwOTXX2fd3b4XxKf/OIdecz1Ff+rYj7j69/e6cFWdW072pgfDAvHmAAsHGMCsHCM\nCcDCMSaAdN1T6juZ6NHfW1u8Y2dRcLcpG+iEzU50pYx7SlrThJdBX13rWSsXp9wJTFW5casduk6U\nbrci+RUAWuG4dWL0eyxmAAHAVIw1OnulExbvrnmJ9ulrfczFBf/s9ekVjZcdL0MHgI1IAD2seSIn\nAMQxfwazgX42jo/5sznZ5t/zINPPTC1ydv3GMSYAC8eYACwcYwKwcIwJwMIxJoC0r4HeYq7dhrVw\nz0Y5n0GT57q5oCopjmOdK7e3xx2i//uC56MBwPRONEsU5bER+sqg1WRj7apFEHls4lxtp3PI1uKr\nubric4sA4PXpHY1/8w13yADg7pY7i2vx2Ax3dSn+suTrz5Y8DgA7O/wZKHomoicR30NdifvZ8/pQ\nZrDfOMYEYOEYE4CFY0wAFo4xAVg4xgRg4RgTQFrV2j69vdE24WzKy1NVYmie6yTPnQm3lqtSJx8m\nKbeQLy+0tbpe8fPlMd9b1DPGW1nY/QjbW9jO0r4G0HbcJj6//E4e89nn/0LjV7fcpgeATMyH2Wx4\nAmpXaAs9Sfl9Ljb6L5H5kifm3r7RXWZ3JnzP6u+V65s38lx57vk4xvxgWDjGBGDhGBOAhWNMABaO\nMQGks7l2NLJcJ+zlFXeIZnPu0Mzmugz5bsYT9g72dEltEvHS6TfnOjFVGFFoM+EqdT2/KxF3lSLo\nkt5YJYCqZE5tUCESDt18rp3QL37/WxofDCbymJP9xzRe3fFmkU1PE8lqwF3NJNcOZVGJ+5nqddJc\nlJyv+TplqUvU45ZrwG8cYwKwcIwJwMIxJgALx5gALBxjArBwjAkg7ZkujjjVumqEVbtac8s1TrTl\nWHXcEh8sueUMANsZ79ZYrrQd3Ak3uAG3Sbuuz1rWnylU0mYUqURbneQpE0Z7DqmW3Kof9HTFzLe4\nJ57XuzR+e8tHpQPAdzevaPyd9/XfDs0uTwxNM92PAgnf8/GD+zT+1oMP5anmb/i5/MYxJgALx5gA\nLBxjArBwjAnAwjEmgLQWM0sAYH3XVzotJvjecudmmGuH7J2nj2i8WOqS3ufPvqTxRU9n0i7mDknT\nCscv0r8rkcrLFJOlv/9QzAES+1IdTr9fh8eTnnLvLuHuWV+J9lCYVwsxoGcz1Pd/Z8TL6rcG2lX7\n8n++ofF8rF21+/d4N9kH9/n17x3qc+2KPfuNY0wAFo4xAVg4xgRg4RgTgIVjTABpmvS4E/eP5GcP\njrmtc33Fc5UqMaUZgHSbhpluYrhYX9J4pA9BPuHXWha6rFvRisQ3NUH7e/g6TatctT/9d63XiRNW\nYCRcPQDYlPz7/Pa7KY1/8quP5bmyvQc0vt7wcwHAZMRd2ulKzwG6vODHXJzxidhvP9LrPzp6n8b9\nxjEmAAvHmAAsHGMCsHCMCcDCMSYAC8eYANLdXT6bBgCaRtu0azEvvBa282SbJ94BwCAT+u20t3zy\nmCeGxom2vafzP9B4cc5nrTStXj9qubXdqfpsAGjV/VR2dE/ptkjmjHp+C2PxUVXrOUQvL57T+K6Y\nKTTe1XveP+bl7lcXOpn3/fef0vimeyiP6Vr+bF5dnNN4UejE1Omcz87xG8eYACwcYwKwcIwJwMIx\nJgALx5gA0vNzniwJAHWj3YbhkM8UaUQVblXq5MdssEPjs5le/97xPRrf3tNJjouCl4KfDvnebs70\nZONqzd27rve36E+cj9MzIKcTU69b0agQACASQJuedeYVd6i2RG7wquEl1QBwvM1nzTwVM3gA4HbB\nz3d3rhMz84yX6f/Zjz6g8bjnOxtEfA6P3zjGBGDhGBOAhWNMABaOMQFYOMYEYOEYE0D66uWp/PDg\nSI9rPzzkHQ4XC25fXl7oGvH18orGe9Il8f5HfP1kqJM8H73Lbe9xwlf6eq3t6DdrbpV3PU0PVD+A\nTtrR+g606jdP9C8AgEh1+ezpU6DyXA/e4snB0Uj/7TAreM1/OtSJxoOcn+/gsCdpWHwHScxt6qjR\n15+k/G8Xv3GMCcDCMSYAC8eYACwcYwKwcIwJIM0y7Zzdv6fLU7MBdy7KDXebLs71rJ3rNwsaf/Q2\n7/wIADc3PDl10eeEXXL3rqy5e/XkA71+WXOH6OZMl5unkZoRxDNj+5Ivu0isIxxCANje5gmLw6F2\nlR68fULjn/4179i5e6DXX294wuZqpZ3IQTqi8cnWRB6TD/h1Xl+JDp+n2vHNR7wU3G8cYwKwcIwJ\nwMIxJgALx5gALBxjArBwjAkgffzoHfnh9pjbegCwEkmOMbh9mCQ6KW9nn6+zu8+TMgGgKrm1GKvR\n6wCyhHeSHB1xO/Tk4aE8VyFySa/OeedLAEjk1kSjhkQnTO6f8Hv2+Ol9eczeDv8O8qH+/fzgJ+/w\ndZ7wdRbFmTxXPecdQ+cz/RfC1ojvuYG+N6sF/6vg6op/aat1T2LqklvofuMYE4CFY0wAFo4xAVg4\nxgRg4RgTQFqstKNRjrWu6g13IgYxLzU9OtQO1ZfPntH4i1d6bz/72Yc0vjXWyX+7e6L7pthzNtQJ\nm8cnwvFL9ayZOOHr5ANut91/zMvDAeCXf8u7Ur77oU7MffYld/xefcddKABYFvs0XlR8b8Ncu5r3\nxtzVXE51MutyxefTpLnu8ppkPNF0T5RbJ6lwNQFM7/gz4zeOMQFYOMYEYOEYE4CFY0wAFo4xAaRp\n2uOcVdptWMx5rljU8cEp6UBPI14V/FxFpXOI7qZzGk9ESTcAbO/wMvHFmjthq0LPYDk85jl5x2/p\nnLy98RGNHx1wh+rpR3wGEAD8+Ofc1dvqKV2+vuJ7fvmtfgZevHpN42XDJ0VPhHMJAA/FvRnv6JzI\nNuLfzXCkHU81kVv1fex6ppuPx9yl9BvHmAAsHGMCsHCMCcDCMSYAC8eYACwcYwJI7x3rpEBlOQPA\nquCW3/npKxpvE63Rd5++R+OvT1/KY/7pn/+dxn/5l5/KYw6PeMLiH59zy3VrWydsPjnh9+3PP+XJ\nlwCwPz6m8Ux0q9zalafCYjWj8S7Xtv/eAU+0/cUnumPpuuJdLscT/rfD1q5+ZqIB/3ujKvR9znK+\nzmCkk0mbhlvydcut8skefy4AoN5w29tvHGMCsHCMCcDCMSYAC8eYACwcYwJIZ4VOpDy94ImUAHB7\nwx2Kl+c8MTLm5ggA4PiEz42ZTHRzvbbhxzStdpVOz3gZ7vkFbzp3MtCbjkS57cE9Xbq9mfNy37bi\n2YdpxUutAeDiin83D8e63LqL+Z6PHuo9lw3/bS0r7p4tlnrWTBNxt2s51c/gcsHvzZ6uxEfT8Gez\nLfn9XK10Mu98xmcq+Y1jTAAWjjEBWDjGBGDhGBOAhWNMABaOMQGkX32jEykvzvgYdQBYzHnN+c2C\nW45Zprs1Vq+55bc74TX6AHB07wmNN422kBdL3hk0z3k25c6eroW/nfHx81HMEzYBIBb9HcqSJ2zW\n6JlPNOPfzeBa3+fjI9EPIuZ2PADMbngC5mzO72Xa8z3f3PBjbi75swQAN2KmzeFSf8+bklv1xZLf\nsydv/VieCzG/Hr9xjAnAwjEmAAvHmAAsHGMCsHCMCSA9PeeODgBMr3W3xOWCux1Ny52gWpSzAsDd\nDU9+nN3puS3jLb7vvQPtatUtd2/iAd/z8+9O5bneeshnvbx38lge8+Y13/NidU7jJ/s6yTVt+XVu\nCv2dFQV3laKh7tg6X3KHqhHTvXe2dJLps2f8OhdT7ZCtl3ydy9d6Pk6UiBLtkh/z+uxbea7HTw5o\n3G8cYwKwcIwJwMIxJgALx5gALBxjArBwjAkgfXOmOy9iqev384jbsYWo924avU654Yl0RamTD4tS\n2N4dHx4FAFHK1xnkYnhRrYckJTFfZzzWdnie8yTH4xNe8x9nPSPJS27THkx0V87tAbeKI+iumIOM\n34ObW56YOxrpxNSo49e56Rng1ZT8t30uehEAwGDIryfOeG+Dsr6U55ou3cnTmB8MC8eYACwcYwKw\ncIwJwMIxJoB0NdNJgVmtO0nmqZhbEnEtbmq9TrnmSXkqkRAAOpEzOu+Z6YOYH7Qj2oweHfKR6ACw\nu8PLrcdj3mEUAHb3ueOWjPlY9mmhk1xLMVKmWOmumIOEH1SqkwE4e8E7c56f8q6o46Tnno14wmQ5\n1gnAgzE/XyXmMwHAzZTvLQJ3CKtKX3/T8PvpN44xAVg4xgRg4RgTgIVjTAAWjjEBpHmmc7vKoqeJ\nYMc/y3KRq9Rpt2eNIY1HqXb1hgPuUDWdzi9br3kZcLTHfz8O9nk+HgDsH3C3J0q1QxQPubM4W/B9\nvRKzhgAgifh93pT6mG3RYDEd6u95ecsdpzeiWeUo1U7gxz/9kMZ3xvoZ3B7x8vHhUI/k/s2//obG\n52t+LXGt3x9JzJ9Bv3GMCcDCMSYAC8eYACwcYwKwcIwJwMIxJoB0EPXMUc90Ih1aMetlJRLmdBU2\nWpH/GYl5MgDQ1XxvUdyzUMOPGSQ8vjfRY8zrkm96tebl0QCw3HCr+NUp73D54qUefT7MuFWepNqO\nvp3xzqQ/espnDQHARHTmPNwVI9F1Li+++PwrGt+eaDv66bv8O7i+1td5ecnvZ5dw231nX3cfnd7x\nvwr8xjEmAAvHmAAsHGMCsHCMCcDCMSaA/wdaAxdUze+ixAAAAABJRU5ErkJggg==\n\" transform=\"translate(2617, 47)\"/>\n</g>\n<path clip-path=\"url(#clip400)\" d=\"\nM2937.24 252.756 L3142.76 252.756 L3142.76 47.2441 L2937.24 47.2441  Z\n  \" fill=\"#ffffff\" fill-rule=\"evenodd\" fill-opacity=\"1\"/>\n<defs>\n  <clipPath id=\"clip4011\">\n    <rect x=\"2937\" y=\"47\" width=\"207\" height=\"207\"/>\n  </clipPath>\n</defs>\n<polyline clip-path=\"url(#clip400)\" style=\"stroke:#000000; stroke-linecap:butt; stroke-linejoin:round; stroke-width:4; stroke-opacity:1; fill:none\" points=\"\n  2937.24,252.756 3142.76,252.756 \n  \"/>\n<polyline clip-path=\"url(#clip400)\" style=\"stroke:#000000; stroke-linecap:butt; stroke-linejoin:round; stroke-width:4; stroke-opacity:1; fill:none\" points=\"\n  2937.24,47.2441 2937.24,252.756 \n  \"/>\n<g clip-path=\"url(#clip4011)\">\n<image width=\"206\" height=\"206\" xlink:href=\"data:image/png;base64,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\nQmCC\n\" transform=\"translate(2937, 47)\"/>\n</g>\n<path clip-path=\"url(#clip400)\" d=\"\nM57.2441 552.756 L262.756 552.756 L262.756 347.244 L57.2441 347.244  Z\n  \" fill=\"#ffffff\" fill-rule=\"evenodd\" fill-opacity=\"1\"/>\n<defs>\n  <clipPath id=\"clip4012\">\n    <rect x=\"57\" y=\"347\" width=\"207\" height=\"207\"/>\n  </clipPath>\n</defs>\n<polyline clip-path=\"url(#clip400)\" style=\"stroke:#000000; stroke-linecap:butt; stroke-linejoin:round; stroke-width:4; stroke-opacity:1; fill:none\" points=\"\n  57.2441,552.756 262.756,552.756 \n  \"/>\n<polyline clip-path=\"url(#clip400)\" style=\"stroke:#000000; stroke-linecap:butt; stroke-linejoin:round; stroke-width:4; stroke-opacity:1; fill:none\" points=\"\n  57.2441,347.244 57.2441,552.756 \n  \"/>\n<g clip-path=\"url(#clip4012)\">\n<image width=\"206\" height=\"206\" xlink:href=\"data:image/png;base64,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\nk8D/A8ZNUJaCFl24AAAAAElFTkSuQmCC\n\" transform=\"translate(57, 347)\"/>\n</g>\n<path clip-path=\"url(#clip400)\" d=\"\nM377.244 552.756 L582.756 552.756 L582.756 347.244 L377.244 347.244  Z\n  \" fill=\"#ffffff\" fill-rule=\"evenodd\" fill-opacity=\"1\"/>\n<defs>\n  <clipPath id=\"clip4013\">\n    <rect x=\"377\" y=\"347\" width=\"207\" height=\"207\"/>\n  </clipPath>\n</defs>\n<polyline clip-path=\"url(#clip400)\" style=\"stroke:#000000; stroke-linecap:butt; stroke-linejoin:round; stroke-width:4; stroke-opacity:1; fill:none\" points=\"\n  377.244,552.756 582.756,552.756 \n  \"/>\n<polyline clip-path=\"url(#clip400)\" style=\"stroke:#000000; stroke-linecap:butt; stroke-linejoin:round; stroke-width:4; stroke-opacity:1; fill:none\" points=\"\n  377.244,347.244 377.244,552.756 \n  \"/>\n<g clip-path=\"url(#clip4013)\">\n<image width=\"206\" height=\"206\" xlink:href=\"data:image/png;base64,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\n\" transform=\"translate(377, 347)\"/>\n</g>\n<path clip-path=\"url(#clip400)\" d=\"\nM697.244 552.756 L902.756 552.756 L902.756 347.244 L697.244 347.244  Z\n  \" fill=\"#ffffff\" fill-rule=\"evenodd\" fill-opacity=\"1\"/>\n<defs>\n  <clipPath id=\"clip4014\">\n    <rect x=\"697\" y=\"347\" width=\"207\" height=\"207\"/>\n  </clipPath>\n</defs>\n<polyline clip-path=\"url(#clip400)\" style=\"stroke:#000000; stroke-linecap:butt; stroke-linejoin:round; stroke-width:4; stroke-opacity:1; fill:none\" points=\"\n  697.244,552.756 902.756,552.756 \n  \"/>\n<polyline clip-path=\"url(#clip400)\" style=\"stroke:#000000; stroke-linecap:butt; stroke-linejoin:round; stroke-width:4; stroke-opacity:1; fill:none\" points=\"\n  697.244,347.244 697.244,552.756 \n  \"/>\n<g clip-path=\"url(#clip4014)\">\n<image width=\"206\" height=\"206\" xlink:href=\"data:image/png;base64,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\n\" transform=\"translate(697, 347)\"/>\n</g>\n<path clip-path=\"url(#clip400)\" d=\"\nM1017.24 552.756 L1222.76 552.756 L1222.76 347.244 L1017.24 347.244  Z\n  \" fill=\"#ffffff\" fill-rule=\"evenodd\" fill-opacity=\"1\"/>\n<defs>\n  <clipPath id=\"clip4015\">\n    <rect x=\"1017\" y=\"347\" width=\"207\" height=\"207\"/>\n  </clipPath>\n</defs>\n<polyline clip-path=\"url(#clip400)\" style=\"stroke:#000000; stroke-linecap:butt; stroke-linejoin:round; stroke-width:4; stroke-opacity:1; fill:none\" points=\"\n  1017.24,552.756 1222.76,552.756 \n  \"/>\n<polyline clip-path=\"url(#clip400)\" style=\"stroke:#000000; stroke-linecap:butt; stroke-linejoin:round; stroke-width:4; stroke-opacity:1; fill:none\" points=\"\n  1017.24,347.244 1017.24,552.756 \n  \"/>\n<g clip-path=\"url(#clip4015)\">\n<image width=\"206\" height=\"206\" xlink:href=\"data:image/png;base64,\niVBORw0KGgoAAAANSUhEUgAAAM4AAADOCAYAAAB2Hz3EAAAVBklEQVR4nO2duXMc13bGz8z07PsA\ng8FGgADBTeJmSo/anmzLLtkvcTm0U6cO/ec4cuLEmbNnu55Lr8p6i0QRIimKIkSQIPbBDGbflx4H\nTr9vglsOv194Gvd29+0+01UfvntO4N/++R9mRvjt13vskPn1Jox//vEmjKdKeTrXZaUC47XpMR1z\n3g/DeOUdvR1rj9owvpLPwPh6KETnmlkSxn/9m5d0zN272zD+5Rc4boMxnevrJ+9g/E8efUDHfPft\nH2E8OsNraWa2c20LxrfurMP4jyfP6FynJ5cw/t7mXTrGbw1xvNOgY4IefgfiqTSMT4cBOle9ht/z\nIB0hhKAocYRwQIkjhANKHCEcUOII4YASRwgHvN1vXtCDGysleiyYx1JtOo2lvUScS7unHSwT5wsp\nPqaM5cjV5AIdUw31YXy5hOXo1GTONZ8M8JgolzZX8lj27TeqMF4sFuhc6TSea//1j3TM1mYWxqvv\nWnTMxeERjG9s5mB83OzQuSIjLK8nPb5mZx28NqkYl9AbbTxm6mFpu13p0rli0xiM64sjhANKHCEc\nUOII4YASRwgHlDhCOKDEEcIBr1RcogdHPpZvzcxiKZxz+UU83ySI3cRmZvuvsDv6y7/9mI55c/gD\njC8XsExqZpaaTmG8Uceu3XbLo3OFA1gq/uwT7vT95KPrMJ7OMAkfy+RmZpk9LPs+2eVy9EcfXIHx\njVUu4QemWJI/+GkfxpvtOp8rhu/n1eEhHVMsYlf9yJ/QMdkM/jfKygJ2R18Gy3Su2DAO4/riCOGA\nEkcIB5Q4QjigxBHCASWOEA54A58b3NgecTOznesrMN4e4b+vNbiRMJEiysmY1w/wzYfxcuWEjskt\nYYUkMI3AeKWMjZxmZtEwNqau312kY8IZrOqd1fA639rEa2xmdnnRg/FUlBtjV0pYbRr0+P79iOG1\nqdawYXLc57/FZ1V8nivbXD0sX+L3880+r0dxdR0/g3wGm1zzy9xMWz/E16wvjhAOKHGEcECJI4QD\nShwhHFDiCOGA15yjqLw9OqXHIkm8dfWico7jVaxCmZldX1+F8Rc/P6djcst4S2vvjMh6ZlarY39X\nt409aafHuIqjmVk2jc+TX8B+MDOzt6evYbxKqqKGZwk6lxdh2425EugTBXV9myuB3Rr2hAU9fG3V\nNlbbzMz2fiBVPomqaWbmEfW0XeE+yoaHlcXmOn5mayWstpqZhbNYvdQXRwgHlDhCOKDEEcIBJY4Q\nDihxhHBAiSOEA95Clm9pvn9vhx6Lp/G4eALLl40xN5OmN6IwHuE7l+3kDMuRU+ODsmkse4ZGWPIM\nT/k15xL4PBE8lZmZ+WP8O7W8iOXgcg1X0TQzixJf4ucPfknHXN8uwnjjkhsmJ2SL8rCPZVq/wSX8\ne0Vssuw1+b8qMkv4mpsj/mziISyVT4hS/+YdNwYHWljC1hdHCAeUOEI4oMQRwgEljhAOKHGEcCDw\nT/94je5PHkx4XuUWsBL0+We46F4gyHugGFHCjl4c8PMHsUIWm/NbcHZ2BuONOl4Cb8rbpWc9Ypgs\n8eJ+FsYKVSyLTYbDOet/Rvao337vHh1TiOA1K5++pWPaTaySRXx8bcEBLxSY8LB6+qLOjaH5dazs\nvtqv0TGPn+FilV4cX3M8w820y0n8buqLI4QDShwhHFDiCOGAEkcIB5Q4QjigxBHCAa864BU2qzW+\nr/vWAu5D8+Q53ldfSPF93avZZRhvveP759NRLJNmM/w8ozGWFvsDLG1ur/GW4GsednPGA7jXj5nZ\ndEjup4Gvq9bmEn52iCXc1u4FH7OIpfKVMK+YuhDEsns8iq85FOO/xV4YH4uS1vNmZg0fv58f3Num\nYzIlLHt/9T9PYfzpU75m0Ye4hoS+OEI4oMQRwgEljhAOKHGEcECJI4QDXnCIO/GamTVP+DbY7yt7\nMB4KYrXlw/u36Fyb93H+ZgPcZBkwbMzbn6PErS/iMTt5bP7cynLDYsHD3ZixnvN/9IlIGU3jUYs5\nrhD6EXz+yYRXMg1P8RZlfhazSAw/gyFRYwf+nK3rObz+/oQ/5+oRNqBWe3zMx48e4fMQVTMV/4nO\n1WtixVVfHCEcUOII4YASRwgHlDhCOKDEEcIBJY4QDnihLq/kuVXYoMcCUyyHVuu4wmNkThvvUAcb\nFmc9bkD1Y0sw/rbMW8yv5LFUe/cKXoPFNL/mYAjv3w9yv6R5aSzHBuK4SVY6jStfmpl5YWwAbZIa\nAWZm3QY2bM6rBjHp4zVjhtn2lL9PzUssIcfyfM//Dml6tfeMVx+9qOI6BQ/ubcF4KsnrF8zGuEmV\nvjhCOKDEEcIBJY4QDihxhHBAiSOEA16zzZWre3f49tQOUc8uq7hd+0KCazdrOawevazzvD54uQvj\ny0Uuay2TbdV5onbZlE5lE9LvJ0jMn2ZmoSQ+vx/HJs8xUS7NzJpN/NyGA77OqSx+nv4IP0szM9/H\nxtChYVXxrM63Qf98jM/TamGTrZnZ7Q38EC7K3Mx68vg7GP/lRw9gvDfH6LyYx4qnvjhCOKDEEcIB\nJY4QDihxhHBAiSOEA968rbbjGZeVQgF87OYmLnp3tYS9ZWZmv/8K9zN593OVjslF8XX/Yof3p1lb\nIP6qAd5S64WxT8rMLB7DStikzxUiv4PP40+xQhVN8E3NM7JFOUW6YZuZRUk35l6IP2fWumb3Kb7P\n3TJvu71XwV61pQjvIF2MYR9Zq8vHGOl3s/v9KxivnfO5psR8qC+OEA4ocYRwQIkjhANKHCEcUOII\n4YASRwgHvJ3tFXqwkCvQY4M+NvP1u7g/zO9+iyVnM7Pa21N8gPSAMTP7y7/CbeFLi1xa7bU7MB6O\nY5NppLhG55r5+NqCE751ud/CcvTZKV4zL8UNq4MB2W7Ndy5bKoxl1/Mq74P01e8OYLzVxvd/NODr\nv3fUgPH3P8Nbnc3MCsvYgBkYcAn5/m0838kbbEDOzGnXXq0TMy8dIYSgKHGEcECJI4QDShwhHFDi\nCOGAt77DjYyNGlahzMzGQ9w7JpLCClXznBd9831s/vvzj6/SMWtL2MxYr/CChJkk3lacz2IzZdjn\nalNviNWj4ZArkXWiBFU6WG3qVY/oXBcVvP6LC3y79WYJd1B+vMuNvn98hbdop1P4md3Y4Wbe7du4\nwOV0whWy//4BK2GBApcPL6tYpVxYwsbcSpVvHV9YxO+zvjhCOKDEEcIBJY4QDihxhHBAiSOEA0oc\nIRzwssUcPfjs+x/psWEVy6Hvb63C+Hqey96tBG7Jfe0alxzHIyxvJ6IZOmZKaii06lh2j0y4YfGY\nGCMnE76eiew6js+wtN6vcMNoZgFL64kCrznQIp7Z1+cXdEw3hn9bF5ew7P7g/j0613kbm1z/8BOu\nFmpmlt/Aa5Zb4AbgSAw/t9JaEcbjKV7bYTwhZl46QghBUeII4YASRwgHlDhCOKDEEcIBbzjkBr/q\nBTdMTurY5JcglTSjWIQzM7Mk2SJ8WD6gYxKk6/K4zw17YY+YPIl4V/J535R0Gt9nOHWVjpkYvs9a\nE1fF7A74onkJrB4Oprw/zut9bH6cpbh6+OgBVsnCM3wv//UHrsTuHWIlNFjg1Vc7NaxeJhZ5xdBY\nEhtdowlSMXXAc6B+iZVNfXGEcECJI4QDShwhHFDiCOGAEkcIB7zjd6QYoJktZuaoSgVcEG8th5Wg\n1XSKzvW8jxWScZR71c7a2N/UqnOFhPW0mXr49yMz4QUBV3LYkzaMcoWqSxQavJJm4TDv4NwZYFXz\nosHPf0K2Wy+t86KU9Sb2l33zdA/Gf67yLuZ+kqz/4TEdEyljlXAyzNMxF8d4nR8+wM8zHODbzW2G\n3019cYRwQIkjhANKHCEcUOII4YASRwgHlDhCOOBdHGHjn5lZJsL7hmRjWMLLxLB8Nxtxw+iNG5sw\n3hhjKdTMLL+wDONemJ/noo6l0kEAbzeekC3NZmZd0mtnOkfC7rdx+/mQ4bVs97hh9aJJZNI5Ztp8\nAsv7J8d8zZ6/rcN4jcjhoxgT182iKbyeoTH/F0Iqio2Z56d863TlHMvRESLv//Kjh3SusI/H6Isj\nhANKHCEcUOII4YASRwgHlDhCOODFQ1wFeXT/Dj12cXAA480OKe6X4Ea6yQiPadR5f5qIYYXGC/Ct\nw7ffuwbjYR+rdyNSwNDMbDjC8tVswhWiVgOretMJLoh3esFVtf4Y/+b9zafv0zFp0pL6P57j/jxm\nZr8/wMcaIbLOc9bMG2DFMRThz2wawGP6PazqmZnNyHTf7mIzaWjOFvlPHt6CcX1xhHBAiSOEA0oc\nIRxQ4gjhgBJHCAeUOEI44HlhbmRcXcdGSjOzy1NcffK0iuPhAu9BMh1iOXhrGfdGMTPzQ1hCbDWx\nKdHM7PY1bCY9PsX9YSotbn4MBrHJ0p9xObo7xtLqwUEZxstVLuH/2V88gPH7H+CW6GZmT1/gPkRP\nXvO28OUOlsSnxHzpkQqfZmY+kfBDYTyXmVmng98Nz+eVPIMhPN9ognXq3ed4XczM7ty+jc9BRwgh\nKEocIRxQ4gjhgBJHCAeUOEI44C0Us/Tgy9dv6LEO2e6aiGO1q0o6DpuZ5SNY2VvK8K3bDR+rdHtv\nuEK0eILVq3YfGxOHQd7Buj7EY/pzeq3UutiY+K5Cui5Hufnw7oOrMH5R4R2k//0/ce+axz9zJbJP\nflvjxOSZjXOFjPlCmz2+ZmMfq3SJBK9yGicVQ1k8HODvZrOP10ZfHCEcUOII4YASRwgHlDhCOKDE\nEcIBJY4QDngB0sLczOyyyZsEVRu4TkCI1A/YzHKTZ5r4Aut1ItOa2XELt/5eWl6iY7pEdvZJtcbS\nKm+49O71Pr6uE1yt08wsnMC/U5Molkl3dvj5U1G8aK+f8kZhb09w9cvWiL8DoSi+5pBhk2UmzSX0\nfg/XkJjj1zTPw88mlea1MnJ5YkCN4BOtlhbpXJEEvmZ9cYRwQIkjhANKHCEcUOII4YASRwgHvOwC\nNzJWz7FCZmZW6+IttdeJEjXzuZGv0cPqWefNOR1jxON3d3ubDjkrd2Hc87BCtVTgLcFfTrESVunw\nBjURoh62x1jtSyd5i/v2OTYfhnx+/oUVPJ/XmFMxlYhX2RQ+EI1xk2erSZTYIN++75Pf9hD3eFo4\nhNdge2MNxnd2VulciTg25uqLI4QDShwhHFDiCOGAEkcIB5Q4QjjghYNcnhiPeGffGzu4uN+kixWa\nBtk2bGaWNCw3xedIJ4kgnu/wLfaQmZkdlbGyt1bEyuKwzb16/RG+tvMmV7WCA7w29Uu8dfe73Xd0\nro0oVqKiM37+9VVc4HDlDCuEZmbdLn4HMkHsb5uQAoZmZknSkTo2Z7t1Io23z9+9yZWwwBSrpxtF\nXGBz3OLqcbON59IXRwgHlDhCOKDEEcIBJY4QDihxhHBAiSOEA97FEa/imJhxmXDWwzJlv4vlu2Kh\nQOeKjrFM680xhk4nWPa8rOIt1WZmky6eb5TCJstWg/fHSSdxBdQfD/H9m5lNg/hYYoal7RGRVc3M\njlpYji+EeH+aKFnPqzm+rT2/jnsULZAqq1OP/wsjQWT/epdf82IRG21zZEu1mVkZF2y18BhL9StL\n3EwbTeFr1hdHCAeUOEI4oMQRwgEljhAOKHGEcMB78eyYHixleO+c6Ayb/Nqks3A8ws2HdWKyS4d5\nobzNFWzYa9W5qmaGFcTeACt0tQbvtTOb5WB8Xn+c9gAXxOsZVvXqdW6Y/PYZvrZ717gS2uhgxauY\n4arW+zdwgcFhD48p1/lzjofwfYayXCHLk1ewcVGhY2ZT/AyiAWxmTSV4HyYjy6kvjhAOKHGEcECJ\nI4QDShwhHFDiCOGAEkcIB7xcgUvOYyI5mpmVCliODU1Je+8kl0knQ7wXfkB6sJiZVUkNg0iY30+5\nhiXMbCEJ47k5lTx/eILbokeIYdPMbH0Zr5k/xvfSrPCaB+0hlup/PuVVOSc+lmODPpe9u70GjM+C\nuH5AKo/X0swsQeokrCxyA7Afw9Ly85e8HkMuiCX0eAQbNs8r/F8YjaFqDgjx/4YSRwgHlDhCOKDE\nEcIBJY4QDni3bpfowctDrKiYmaWzpG8J6yDdOeNzLeKtu76PTYFmZs9fHcD43Wt36Ji1rZswXq4e\nwnhon6tNe6+wejUdciUwm8Sq0tYG7noc9LboXFHifz0559u9h31S/dPnv5+tEVb27n2Eu3tfXeEK\nWZcYcCcj3l281cNKaK7IVdqtHO7RFAzh+6w0+Hs+DeHnqS+OEA4ocYRwQIkjhANKHCEcUOII4YAS\nRwgHvATvKWRPjvme+/4Am/nWrhIjY4c3lmr0sezsxec0llrERr6Xb/g1b5ZwnYIrG9dh/JvHz+lc\n7y6w+e/hh1fomF/96gGMh0m78h/3T+lc3z19BePJDF5/M7P9Y1xfYjKn6Vc0i5/N4hDXiSgm+b83\nAgP8so1HuLGWmVkmhWXnYJK/uFeWcPXROpHqM/kFOlc6jZ+NvjhCOKDEEcIBJY4QDihxhHBAiSOE\nA142gbeTmpklknwbbHoRKxH9IelBwwtcWjSFz9Nq823AtTo2H26XrtIxx+UmjPdbWDlZ3cRGRjOz\n/E2s+P3d339Bx1wjZs7XL/F9/su//obOlVrGz+3TL7FyZ2a2chMrbk++4y3u43m8rT1ewqpWpcVN\nptfXseI4anGTZSaDVb23F/w89SY2jR6cYJUynOD9gYoLWInVF0cIB5Q4QjigxBHCASWOEA4ocYRw\nwEvNUc6++OsP6bFMBheke/z9LozH0vw8Szm83XZnjpGuk8EFAfNZ7pX69f4ejLcbeIv0559u0rm2\n7t+C8e0rWIUxM2uVsXr0+OvvYbywwPu2/OJPr8H4Sgk/FzOzkOHuypk499cVlrB6F/CwV69V44UC\n22283zsW4P662gmWY1NxXniyR5TdIOnRFElxr96rE7ytXl8cIRxQ4gjhgBJHCAeUOEI4oMQRwgEl\njhAOeO0hl+JGQd5624thqfj+w4cwPujyqpyDS7wN1yNtt83MSsQw+MOrMh1TWMTy7qM7uPrnUgGb\nP83McmSL8rDH16x6gc2HrUtsPl2K8Hb1Cx7+zct53LQ7CuNr7gZ4Jc1Ssgjj52TreCmLjaxmZpVT\n/Gw21riZNkj6DQ16+J0xM9u+eQPGl4p4bY7O8ZZyM7NWB/+rQl8cIRxQ4gjhgBJHCAeUOEI4oMQR\nwoH/BafM9CxkoHMZAAAAAElFTkSuQmCC\n\" transform=\"translate(1017, 347)\"/>\n</g>\n<path clip-path=\"url(#clip400)\" d=\"\nM1337.24 552.756 L1542.76 552.756 L1542.76 347.244 L1337.24 347.244  Z\n  \" fill=\"#ffffff\" fill-rule=\"evenodd\" fill-opacity=\"1\"/>\n<defs>\n  <clipPath id=\"clip4016\">\n    <rect x=\"1337\" y=\"347\" width=\"207\" height=\"207\"/>\n  </clipPath>\n</defs>\n<polyline clip-path=\"url(#clip400)\" style=\"stroke:#000000; stroke-linecap:butt; stroke-linejoin:round; stroke-width:4; stroke-opacity:1; fill:none\" points=\"\n  1337.24,552.756 1542.76,552.756 \n  \"/>\n<polyline clip-path=\"url(#clip400)\" style=\"stroke:#000000; stroke-linecap:butt; stroke-linejoin:round; stroke-width:4; stroke-opacity:1; fill:none\" points=\"\n  1337.24,347.244 1337.24,552.756 \n  \"/>\n<g clip-path=\"url(#clip4016)\">\n<image width=\"206\" height=\"206\" xlink:href=\"data:image/png;base64,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\nQmCC\n\" transform=\"translate(1337, 347)\"/>\n</g>\n<path clip-path=\"url(#clip400)\" d=\"\nM1657.24 552.756 L1862.76 552.756 L1862.76 347.244 L1657.24 347.244  Z\n  \" fill=\"#ffffff\" fill-rule=\"evenodd\" fill-opacity=\"1\"/>\n<defs>\n  <clipPath id=\"clip4017\">\n    <rect x=\"1657\" y=\"347\" width=\"207\" height=\"207\"/>\n  </clipPath>\n</defs>\n<polyline clip-path=\"url(#clip400)\" style=\"stroke:#000000; stroke-linecap:butt; stroke-linejoin:round; stroke-width:4; stroke-opacity:1; fill:none\" points=\"\n  1657.24,552.756 1862.76,552.756 \n  \"/>\n<polyline clip-path=\"url(#clip400)\" style=\"stroke:#000000; stroke-linecap:butt; stroke-linejoin:round; stroke-width:4; stroke-opacity:1; fill:none\" points=\"\n  1657.24,347.244 1657.24,552.756 \n  \"/>\n<g clip-path=\"url(#clip4017)\">\n<image width=\"206\" height=\"206\" xlink:href=\"data:image/png;base64,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\nOMYEsHCMCfB3FDMYMDvg6UwAAAAASUVORK5CYII=\n\" transform=\"translate(1657, 347)\"/>\n</g>\n<path clip-path=\"url(#clip400)\" d=\"\nM1977.24 552.756 L2182.76 552.756 L2182.76 347.244 L1977.24 347.244  Z\n  \" fill=\"#ffffff\" fill-rule=\"evenodd\" fill-opacity=\"1\"/>\n<defs>\n  <clipPath id=\"clip4018\">\n    <rect x=\"1977\" y=\"347\" width=\"207\" height=\"207\"/>\n  </clipPath>\n</defs>\n<polyline clip-path=\"url(#clip400)\" style=\"stroke:#000000; stroke-linecap:butt; stroke-linejoin:round; stroke-width:4; stroke-opacity:1; fill:none\" points=\"\n  1977.24,552.756 2182.76,552.756 \n  \"/>\n<polyline clip-path=\"url(#clip400)\" style=\"stroke:#000000; stroke-linecap:butt; stroke-linejoin:round; stroke-width:4; stroke-opacity:1; fill:none\" points=\"\n  1977.24,347.244 1977.24,552.756 \n  \"/>\n<g clip-path=\"url(#clip4018)\">\n<image width=\"206\" height=\"206\" xlink:href=\"data:image/png;base64,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\ngIVjTAD/C1HpDNS7eJnaAAAAAElFTkSuQmCC\n\" transform=\"translate(1977, 347)\"/>\n</g>\n<path clip-path=\"url(#clip400)\" d=\"\nM2297.24 552.756 L2502.76 552.756 L2502.76 347.244 L2297.24 347.244  Z\n  \" fill=\"#ffffff\" fill-rule=\"evenodd\" fill-opacity=\"1\"/>\n<defs>\n  <clipPath id=\"clip4019\">\n    <rect x=\"2297\" y=\"347\" width=\"207\" height=\"207\"/>\n  </clipPath>\n</defs>\n<polyline clip-path=\"url(#clip400)\" style=\"stroke:#000000; stroke-linecap:butt; stroke-linejoin:round; stroke-width:4; stroke-opacity:1; fill:none\" points=\"\n  2297.24,552.756 2502.76,552.756 \n  \"/>\n<polyline clip-path=\"url(#clip400)\" style=\"stroke:#000000; stroke-linecap:butt; stroke-linejoin:round; stroke-width:4; stroke-opacity:1; fill:none\" points=\"\n  2297.24,347.244 2297.24,552.756 \n  \"/>\n<g clip-path=\"url(#clip4019)\">\n<image width=\"206\" height=\"206\" xlink:href=\"data:image/png;base64,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\nDGOMxMIxJoCFY0wAC8eYABaOMQH+D/734DQVqX57AAAAAElFTkSuQmCC\n\" transform=\"translate(2297, 347)\"/>\n</g>\n<path clip-path=\"url(#clip400)\" d=\"\nM2617.24 552.756 L2822.76 552.756 L2822.76 347.244 L2617.24 347.244  Z\n  \" fill=\"#ffffff\" fill-rule=\"evenodd\" fill-opacity=\"1\"/>\n<defs>\n  <clipPath id=\"clip4020\">\n    <rect x=\"2617\" y=\"347\" width=\"207\" height=\"207\"/>\n  </clipPath>\n</defs>\n<polyline clip-path=\"url(#clip400)\" style=\"stroke:#000000; stroke-linecap:butt; stroke-linejoin:round; stroke-width:4; stroke-opacity:1; fill:none\" points=\"\n  2617.24,552.756 2822.76,552.756 \n  \"/>\n<polyline clip-path=\"url(#clip400)\" style=\"stroke:#000000; stroke-linecap:butt; stroke-linejoin:round; stroke-width:4; stroke-opacity:1; fill:none\" points=\"\n  2617.24,347.244 2617.24,552.756 \n  \"/>\n<g clip-path=\"url(#clip4020)\">\n<image width=\"206\" height=\"206\" xlink:href=\"data:image/png;base64,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\n/w/YcuzrML6FPAAAAABJRU5ErkJggg==\n\" transform=\"translate(2617, 347)\"/>\n</g>\n<path clip-path=\"url(#clip400)\" d=\"\nM2937.24 552.756 L3142.76 552.756 L3142.76 347.244 L2937.24 347.244  Z\n  \" fill=\"#ffffff\" fill-rule=\"evenodd\" fill-opacity=\"1\"/>\n<defs>\n  <clipPath id=\"clip4021\">\n    <rect x=\"2937\" y=\"347\" width=\"207\" height=\"207\"/>\n  </clipPath>\n</defs>\n<polyline clip-path=\"url(#clip400)\" style=\"stroke:#000000; stroke-linecap:butt; stroke-linejoin:round; stroke-width:4; stroke-opacity:1; fill:none\" points=\"\n  2937.24,552.756 3142.76,552.756 \n  \"/>\n<polyline clip-path=\"url(#clip400)\" style=\"stroke:#000000; stroke-linecap:butt; stroke-linejoin:round; stroke-width:4; stroke-opacity:1; fill:none\" points=\"\n  2937.24,347.244 2937.24,552.756 \n  \"/>\n<g clip-path=\"url(#clip4021)\">\n<image width=\"206\" height=\"206\" xlink:href=\"data:image/png;base64,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\n\" transform=\"translate(2937, 347)\"/>\n</g>\n</svg>\n",
      "text/html": [
       "<?xml version=\"1.0\" encoding=\"utf-8\"?>\n",
       "<svg xmlns=\"http://www.w3.org/2000/svg\" xmlns:xlink=\"http://www.w3.org/1999/xlink\" width=\"800\" height=\"150\" viewBox=\"0 0 3200 600\">\n",
       "<defs>\n",
       "  <clipPath id=\"clip430\">\n",
       "    <rect x=\"0\" y=\"0\" width=\"3200\" height=\"600\"/>\n",
       "  </clipPath>\n",
       "</defs>\n",
       "<path clip-path=\"url(#clip430)\" d=\"\n",
       "M0 600 L3200 600 L3200 0 L0 0  Z\n",
       "  \" fill=\"#ffffff\" fill-rule=\"evenodd\" fill-opacity=\"1\"/>\n",
       "<defs>\n",
       "  <clipPath id=\"clip431\">\n",
       "    <rect x=\"640\" y=\"0\" width=\"2241\" height=\"600\"/>\n",
       "  </clipPath>\n",
       "</defs>\n",
       "<path clip-path=\"url(#clip430)\" d=\"\n",
       "M57.2441 252.756 L262.756 252.756 L262.756 47.2441 L57.2441 47.2441  Z\n",
       "  \" fill=\"#ffffff\" fill-rule=\"evenodd\" fill-opacity=\"1\"/>\n",
       "<defs>\n",
       "  <clipPath id=\"clip432\">\n",
       "    <rect x=\"57\" y=\"47\" width=\"207\" height=\"207\"/>\n",
       "  </clipPath>\n",
       "</defs>\n",
       "<polyline clip-path=\"url(#clip430)\" style=\"stroke:#000000; stroke-linecap:butt; stroke-linejoin:round; stroke-width:4; stroke-opacity:1; fill:none\" points=\"\n",
       "  57.2441,252.756 262.756,252.756 \n",
       "  \"/>\n",
       "<polyline clip-path=\"url(#clip430)\" style=\"stroke:#000000; stroke-linecap:butt; stroke-linejoin:round; stroke-width:4; stroke-opacity:1; fill:none\" points=\"\n",
       "  57.2441,47.2441 57.2441,252.756 \n",
       "  \"/>\n",
       "<g clip-path=\"url(#clip432)\">\n",
       "<image width=\"206\" height=\"206\" xlink:href=\"data:image/png;base64,\n",
       "iVBORw0KGgoAAAANSUhEUgAAAM4AAADOCAYAAAB2Hz3EAAAR4ElEQVR4nO2d2W8cZ3bFT1VXd7NJ\n",
       "NjeJpERLlmRaErXAy9iOMU5mgkxg5CnI/zgP854AgyRIYGtsx7It25JHtkRJo33jIlEUxa23qjxM\n",
       "Hs/5DF4QRh7O7/EW71dL9+kCDu93b/b7P35RQVCWpTqEPM/lMUaWOKYuIEskZajxeKWvqxLrlfI8\n",
       "8tEgh3o2OmevN1pVei11LEs9NLVW6poFmfpE1UMGAAxoNM96MmNnbYXG/3zxM5mzeOUyjXd2OjRe\n",
       "FPy7BACjIy0a39u33xgDwMIxJoSFY0wAC8eYABaOMQEsHGMCFCnPN2VtRmxPuVYgR1qoubZWpYEc\n",
       "uADlFEub9q8H97ZYgsjzVyn9LGHhi4vOS24tZ1VfrjWU82PrK/dlzpef/InG71+/JXPQ4+epCde5\n",
       "NdSQSzWbBY37jWNMAAvHmAAWjjEBLBxjAlg4xgSwcIwJUOQJW7NMHFPVuapqOlS1m7BpB31uh5al\n",
       "rrRVtnMuqmPzXFfN7ivi2YRs+oSzrdbLUnZ0xU38XNjODVEBDQDL927S+MUL/yFzHt5+QOP1qi5z\n",
       "6gW3kEfGeKVzs8H/HgCawqr2G8eYABaOMQEsHGMCWDjGBLBwjAlQpMoL00bY/hV5KsqUq9YT7lmi\n",
       "T8JAOERlj/9+NFtDcq2UE6VzhHu2jz0HUj0PZErimdUr7pI1Bnz//oPFH+Val/7nAo2vPH0ic4qM\n",
       "X3Sjoe9zuMVdsuEh7sTVE65aoyEcV5lhjJFYOMYEsHCMCWDhGBPAwjEmQJHusLn3rdO/2JZq4QRl\n",
       "A+0QQWz3rYRzkyWcm7zBf3NSTpgiliMOJB7aoORJhXDOAKAJXpN2/fK3NH7ps/+Sa+2+2uTnyPXW\n",
       "5aLJr3m4rXPUVmhVxpgnnlmjzj9nv3GMCWDhGBPAwjEmgIVjTAALx5gAFo4xAYrYyKe9k1xJbWlO\n",
       "XZuwVgcDba0OhFVdqG6NuS7+k1cWeJyluBeUqSFZ/ESDSm8dL0Qv06LzUub8+duLNH75m29ofHdr\n",
       "R67VEFvUW029RX14hBfapoZBqYFoeY0/z2Hx+QNAXTWMlRnGGImFY0wAC8eYABaOMQEsHGMCFPtt\n",
       "qskRMHtfKj35XLhng35X5gxEZWS9xp2bKlX9J+60K2azAEBPbPdWTRxrmXaOKtH4r0iMPh+84u7Z\n",
       "D19/LnMWf7xC493dXRofaupGgcND/H6GE65arSbm8yR/8tXz5H9dV4NzABSN4T2cwRiTxMIxJoCF\n",
       "Y0wAC8eYABaOMQEsHGMC6Oq2/+fkoitnXeyR/2uS6NgpivyqLNEVVBRgPl97IXNqwvYcHx8TGfpe\n",
       "WqIH687qssy59AnvB3Dz2qLMyVRhpNjXP9zS1m4u7qeoJ3Jyfp9VYiy8ehuMNLhV3k/8T6ZsTe3p\n",
       "HMaYBBaOMQEsHGMCWDjGBLBwjAlQ7OPuaACxDpOKVFdQtQ144/mKzNkUW2pboyP8HGJ6MQD0utt8\n",
       "LdH5EQCaQ8095dQSE5xXH9yl8csXPpU5S3dv0fhQoa+5EEWbzTr/bESDUwBALlxFNdkaADLxxSnq\n",
       "qW3togAX/F5aU6/Jtebf+Q2N+41jTAALx5gAFo4xASwcYwJYOMYEsHCMCVDsZ7fOKNLBTtjRW+u8\n",
       "mPLujz/InGJsksbzOi9YzFvcpgaAoSbPUYWcAJCJukQVf/yXq3Kt7y5coPHnj5/KnJrooVDTM5pQ\n",
       "z7kl3ix4kuoFAQADMdirJgpGASCrBeqQRQfW5vQJGj/x1q/lUpNzb/JT7P2qjDEWjjEBLBxjAlg4\n",
       "xgSwcIwJUFS/zHicn4FfRK+nu3LeXrxG4/eu8zgAzC2co/HqKS8M7SZ+VsZGeMFmo647WY622zS+\n",
       "scK7b1769BO51vrjx/z8uT5/JtzDWqG3IVcD/hl0dlVXVH1+CJe010nM9MnEtvbEeZrj0zR+8r3f\n",
       "0nh7+nW5Vld0F/Abx5gAFo4xASwcYwJYOMYEsHCMCVDoTatpcrFHWm1bLfO9z0DZ3d6UOU/v3afx\n",
       "fk9bgV99e5nGX/Z+pPHz53mdEgCcXThC40XekjnVFp8ps7LM68u6u3x7NgAMjfDzNBPboOsN7hCp\n",
       "adwAUA24e9Xr85yeqEcDgKIpauUS9u2gw88zdvSYzDn563+g8fb0HI2Xlb5mNanabxxjAlg4xgSw\n",
       "cIwJYOEYE8DCMSaAhWNMgGSRZ2paubKdVcFmaht0lnH99nodmbPxilvVO11dsLjT5dbm6irfhv39\n",
       "JW5fA0BvY4nGf/eP78mcluh+WXXWabw9qgsZe+IfCUVijnlNPOdKdEUFgG7JP4O8xgszh3ntKwBg\n",
       "IH6nt4XlDQBH5vm/BM5+yC1nAGiJos1S2N6p0e81MZ/HbxxjAlg4xgSwcIwJYOEYE8DCMSbAz3R7\n",
       "Szlh4limij91IZ86Sz+xdbvRHqfxtdVVmdMXCw4NDdN42edFmQDwYoVvt65VWzJnfJSfZ2GeF4zO\n",
       "TozKtZaX+flfrL2SOdub3CEbmpiVOYdn+DbkpQd81k6vsyHXQsbds0Mn3pYpp37z9zQ+NMkLNgGg\n",
       "7PH3QSaaK6YoRTGz3zjGBLBwjAlg4RgTwMIxJoCFY0wAC8eYAEk7upKz1xNNPoUdnVgKpbCJxyen\n",
       "ZM7Cu++oxWRO9YwXU/aecQu5yHXx48xBbod3trQdXUxze7kxwm3aIuOdPwFgaoqvtbKi7eAbi3f4\n",
       "eYaGZM7kLLfKxyYP0vijB7wXBABMTHJre+H9j2QOJvh5Oonq5KZ4HVTqW5v4cmbiPH7jGBPAwjEm\n",
       "gIVjTAALx5gAFo4xAX6myDM1IEe5GipHr1WW/NggUWQ6fZS7PatLD2XO0jp31VDxbcDtcT0N+cy5\n",
       "eRrPMl2YubrCi0bH2vz+EwOsMTTEO3lOz+jfwn7FtxRPT0/InN3eMo2vdnnB5NyJ43KtuWOnaLw5\n",
       "xh1KABhU/CGUie3eFdS8HfVAE++PjOf4jWNMAAvHmAAWjjEBLBxjAlg4xgQo0kOn9dFKaU7UqqHS\n",
       "LkhNbMPudPXW5WfPuNvz6Il21V5t8MaDvS6fQ9PvatNxapI7Uduv9KTs5cf8mo8dn6TxiTFdQ5aL\n",
       "Lnrdvj5/vcFzPjzP68EAYHKUP4Mvvud1bzcf61q1e3d4E8mJLT2H6NDMcRpvtLR7OVCvg0rUMao4\n",
       "gLrQgN84xgSwcIwJYOEYE8DCMSaAhWNMAAvHmABpOzox02Ygit9qYvR1I9NdFDee8a6UP3zztcy5\n",
       "de0ajb98viZz6mIb7LgYfd7d1OPSr3y7SOOHDs/InPGJERqfaPMOn62WLjLt9LiFWtV0Tm+Xfwa1\n",
       "RMvU2XF+bR9/wAs2jx9+Ltd6vM47iT7b5F1BAWDjER9l3xw7JHMGNW7jj7T4FvWjs3qL+qSYUeQ3\n",
       "jjEBLBxjAlg4xgSwcIwJYOEYE6BIzsARW4oBIBfbU0dEE7/Vhw/kWl/+6Qsav33zpsyp+vw8qTk8\n",
       "qtA0VzkJh+rKzbs0frSjJ2WfW+Dbvdc2eWHm3Ije0lxlPGfQ1Q0RtzZ4keWumMYNAHmdu0rtNv/N\n",
       "PXvqqFzrpHDvtjb5dQHA8w0+72er/1jnvOTFwSt3+Hf2xZp21cZff43G/cYxJoCFY0wAC8eYABaO\n",
       "MQEsHGMCWDjGBCgyUZQJAHVheQJAucvnsCxe+4nGL1/8Rq61tPSMxqtS6zoXbS4TY1MA0f2x0+H2\n",
       "ZU1YsQCQN3gh4aMlXWS6/oL3PDg6PUbj8/Mn5FptUXzZWedFkQCAAS8MzWq6t4IaV16JOUT1xE9x\n",
       "s+DnaY/w+weAmTY/1hX3AgCbB3Zo/E7FLez7d27ItT776TKN+41jTAALx5gAFo4xASwcYwJYOMYE\n",
       "KBqV7pa5fP8v8tjV776i8XvXeWHm7qY+T5VxtyWxc1sPCk7kZOJnYniEO2SlNhyRleKaE0Nt+qKY\n",
       "cnWFb9GuCu42AsCRo3yC80en+AwcAFh9xh2/tVfaoXq5zZ1F9ZjHhhNDfUTRcC/XxcSlasspnj8A\n",
       "DIsun+fOH6PxY6/rTqYPHvGt4H7jGBPAwjEmgIVjTAALx5gAFo4xASwcYwIUi5c+lwe//pz3AgCA\n",
       "50+XaDzLubVb5do+rIS3XMsSe+FFvEwU/5UlX6/RbIoE7W13e9yr1mcHjs2fpPG26DC5JopCAaAu\n",
       "LNcDYhAUADy8v0rjN5Z1MSkmeffR8Ta3nQ/V9G/xSMH7IRSF/lcFcv5EazVtYWfqOyC+TlMTekjV\n",
       "5MQUvyyZYYyRWDjGBLBwjAlg4RgTwMIxJkDx+X//pzy4saY7LBYZ73LZFwWbvVTFpqim7A20c1Kr\n",
       "uObVtHgAqIkCzHrGXa1eps8/PH2AxhfefV/mvP2rd2h89Qnvcjq+omfNdPrcidrq6O3uE5O8Y+U9\n",
       "vgseADC8w0fJPxfj4p9s65lCEwU//5iIA8BwgztkrbrumNoQRaOjYlx9o0wUmfb4Mb9xjAlg4RgT\n",
       "wMIxJoCFY0wAC8eYAMV2YktzlqgvKyvREFD8fS5m0wBAKbISBhkgri1LnKff48eKIV6PdfoM32oL\n",
       "AG+8+wGNjxw4rM/fFw7RKK+Vmjio1+qucVdpcfk7mXPowByNr93QNXGHTnJXqRjjblun0jOFNnvc\n",
       "Wa11tePa2OYuYaumqwLXV7lL+eLRVRo/PsWbOwLA64dcq2bMvmHhGBPAwjEmgIVjTAALx5gAFo4x\n",
       "AYpBYnvwIOUHq+3OYt5OJltvAjWx3bZWF1uaAVTCjUy40Zg7xkeJz59/i8anZltyrWFRMLi7pQtj\n",
       "R0a47fyqz59ZAf3vgDdOn6Xxy1/xMfIAcOenhzR+/sN/kjnD4/ya5b8dRMHs/x2k4X5iqFEpftt7\n",
       "iTarWwXvzPlvF3ln2s7KE7nWkRnb0cbsGxaOMQEsHGMCWDjGBLBwjAmQ/c3bH0i7qz9IDIgRWQ3l\n",
       "kAlHBQAGYlt1lZg1c3B6lsZn53gcAE4vnKPxXocXTN68/qVca2b6CI2/dpYXfwJAv8Zduky0MZw5\n",
       "zM8BADu8tx82N5ZlzugIL2acmEkUpmZiUvWA25e11IAiNcE6kaO+nGXC8W00eKHp1e/5TKdP//iv\n",
       "cq2aKMz1G8eYABaOMQEsHGMCWDjGBLBwjAlg4RgToOglijxTPQcy0TJTLddP+Iet8XEanz+9IHPO\n",
       "/+o9Gh+fmpA5L5d4Z8zHV2/QeEOMNweAvpj9vv2Mzw0CgMnj/H4qMVPo5Us9rr0PbtVPHtHWckMU\n",
       "ze6IMeqA7uFQFx9nmSjmjaCKPFMWdqfL/42ycPo8jT+8dUuudfv6TzTuN44xASwcYwJYOMYEsHCM\n",
       "CWDhGBOgKEutncFAzyARphKaQ9y5mXvjuFzr/Y9+S+PzZ3hRJgDkDe5EpWbqHG5P03j3xUsav718\n",
       "Ra61cpc7cfnYIZnzosedsEabu4rHjrwu15o6wGfKqPlEADBQ241zvd88U9uahXk2SNR4KiOsltju\n",
       "nqtR0QnU9vm8zotsP/i7v5VrvVhfEddljNkzFo4xASwcYwJYOMYEsHCMCWDhGBOg+Pif/0UevHlz\n",
       "UScW3FucP32Kxk+d4wV2ANCe4p0XB5nuOTAQNmme606SeYNbtQfPnKbx1bUzcq1TYpT7UqKV6OYO\n",
       "n4t+6sSbND4xwZ8LAPTEiHHRvgEAkKuCycQ1i1peXWKZsqPTBwX8AlIDxDLxv5K+uJfJ2dfkWh/9\n",
       "7mMa9xvHmAAWjjEBLBxjAlg4xgSwcIwJkP3h3y/Kva6bm690orBvRkb56PNAg8fkuHZ1/hQqpxIX\n",
       "cO27i3KtrXti9LcY4w4AB9/gRatZJebwaFMRVbb34kdFnnjQylVTRDZOh7y2wBbtSrwnssBV+41j\n",
       "TAALx5gAFo4xASwcYwJYOMYEKAYJR2G4zbfnAtBbZ0UNUZ7wTqRDlnJO9rHxXZ7z349zb70vc9Yn\n",
       "+Tbs0cO6IWCWc8cxH/AauqrqyrWqkH+lFov4WmqtiNv1y5CJbdipS66JGU1+4xgTwMIxJoCFY0wA\n",
       "C8eYABaOMQEsHGMCFFnCJi4T49qVhZurFp8J0zFSsKcs7FTxpzpPKTpcFk3elRQAZt/ks246ifss\n",
       "hVWfiW3YqQrLlL2/V/bRjA4V36Y+f3Usch51p5Gl/MYxJoCFY0wAC8eYABaOMQEsHGMC/C9DYqUi\n",
       "E9Qa0QAAAABJRU5ErkJggg==\n",
       "\" transform=\"translate(57, 47)\"/>\n",
       "</g>\n",
       "<path clip-path=\"url(#clip430)\" d=\"\n",
       "M377.244 252.756 L582.756 252.756 L582.756 47.2441 L377.244 47.2441  Z\n",
       "  \" fill=\"#ffffff\" fill-rule=\"evenodd\" fill-opacity=\"1\"/>\n",
       "<defs>\n",
       "  <clipPath id=\"clip433\">\n",
       "    <rect x=\"377\" y=\"47\" width=\"207\" height=\"207\"/>\n",
       "  </clipPath>\n",
       "</defs>\n",
       "<polyline clip-path=\"url(#clip430)\" style=\"stroke:#000000; stroke-linecap:butt; stroke-linejoin:round; stroke-width:4; stroke-opacity:1; fill:none\" points=\"\n",
       "  377.244,252.756 582.756,252.756 \n",
       "  \"/>\n",
       "<polyline clip-path=\"url(#clip430)\" style=\"stroke:#000000; stroke-linecap:butt; stroke-linejoin:round; stroke-width:4; stroke-opacity:1; fill:none\" points=\"\n",
       "  377.244,47.2441 377.244,252.756 \n",
       "  \"/>\n",
       "<g clip-path=\"url(#clip433)\">\n",
       "<image width=\"206\" height=\"206\" xlink:href=\"data:image/png;base64,\n",
       "iVBORw0KGgoAAAANSUhEUgAAAM4AAADOCAYAAAB2Hz3EAAAQIUlEQVR4nO2dSY8dZxWGT1V9dW/P\n",
       "HtrYSScKJCEkwAJlIAgEQiwRErBgx59jw4oVQoIYyAoJgUIQYXZAISGJO7bT7na7x1sTC7M8z5Hu\n",
       "Ue/yPstT/dX83pLePkP14je+PRkx8aaqrt14DXGzCvdl5h9nHMdgjb+/tqzwUSq4HojXRtdiVlnx\n",
       "N9R8ncPkX0/fL+AYwfXDvqbwnvlE95m2dV3nxuvg+vEdCN6zEbZNwRp6B6vKP/4E99LMbDL/2fCb\n",
       "IYRAJBwhEkg4QiSQcIRIIOEIkUDCESJBMbDozNi+M2M7mizHum4SxxlwDR1nqvg4de3bjlVFx+Hf\n",
       "lbrxbe+JbGozs+4U9kV2fM/Hr+DfAYEbPI7+dYbPGTaxtcvHR6s6OL4N/jnzvz2Wpwpu2jTCfb6w\n",
       "owvxCULCESKBhCNEAglHiAQSjhAJJBwhEpTSsH0bQQ7iNPkboqRdsinrmq1dsiOj3OD5zF9z49oV\n",
       "N366YG/1+Lx14+dnfAZ0p+nXaxFklDeNf2+iX8K+JwuZbf+2pWfg35u+ZwudiOxwIsqOZqvcXxPb\n",
       "8bKjhbgwJBwhEkg4QiSQcIRIIOEIkaBEyXKR21CK77aMg+9cdH3ggoB7RI6GmVkDSaNN8FOw2vqO\n",
       "15c+/4wff+VruK9b//nYjf/q5uu4ZmV91Y0Po+/Q7R2d477Q1oSkSDN24uj+/3/jUvuK3qcBzi3j\n",
       "kF2kExf3L/DfM31xhEgg4QiRQMIRIoGEI0QCCUeIBCVyJyK3gRySpvEdonmQdxZ37PQhx211zrl3\n",
       "Lzx9zY3fv/2OG3/mie/jvj7zzOfc+MG9d3HNmvku2d7eoRt/69aHuK+Hp9BhMnC1qMtnXfvPzMxs\n",
       "gvL1Uvz7XFX8nM/Oztx4Jr8tgt7bTLk16UNfHCESSDhCJJBwhEgg4QiRQMIRIoGEI0SCQvaxWWxH\n",
       "4zAeWEJJgWZmdb188h0df2ONB0s99eRjbvzmz37ixv/x97/gvl762rf8+IvP45qf/vhHbnwcZ268\n",
       "FH42pfW3xamPUWdUHxrsRP9B6DrfJjdjO5is7Uf4VzRAV9IIemeid5PQF0eIBBKOEAkkHCESSDhC\n",
       "JJBwhEhQ2tYv5zUzq7GFnlk/+AmLnDMalafSFvaIqBS7nc9xzQKuZ237uhufb1zCfV26ctWNv/Ly\n",
       "l3HN3/7wOze+e/fAjy+OcF9VgZHkPbtN5F7R3Bwzs6H3nahSfCcwAsfSBz/f1KxyCvJCqyW/B9Hx\n",
       "yTzWF0eIBBKOEAkkHCESSDhCJJBwhEgg4QiRoJQgybMKRo8PMEq8goTNqFtkam4JxKnDqJnZMPqr\n",
       "Xnr16258tu7PzTEz2723768x9km/+70fuPHXXv+NG//r+2/ivqjD5BQcP0qaJZbtpBklTJLtTb0Q\n",
       "IqIEWOqHQec8Dnz8rvPvp744QiSQcIRIIOEIkUDCESKBhCNEghL5LGMwa4WS70bIikuMMwldoBbc\n",
       "s8eu38A116/5pdP7D/wky9+/8Rbu65XKTyatO78rp5nZ9taWG+973yEbumA+EUwLrwNXER0icOjM\n",
       "zObgklH3zQLJp4+O419P1/Mafgf53vTg3tG7GdHQfV56T0IICUeIDBKOEAkkHCESSDhCJJBwhEhQ\n",
       "Qsu5ChJAycKEhL0oyZM6PEYDp7bA2n3p5ZdxzfXty2787O233XhbcVfQ0vo1908/+TSuGaFPwtFx\n",
       "58abiuv6C8ylj/oHNM3yo885ARd6HgS9JahPQfScqedBlK/K3WmpKykfv4H7rC+OEAkkHCESSDhC\n",
       "JJBwhEgg4QiRIBwMEiVZVrgNOi9G+0pkgJIT16xwZ9KVTb8z53xlzY3PgjLgf/3Tn51ztreJa77w\n",
       "xRfdeAUuUBuUB0O+pA0T/xayExZQ+c+tFJhbM/gOoZlZD11GoyTTtvWTabtgxDucMtI0vICuR18c\n",
       "IRJIOEIkkHCESCDhCJFAwhEiQSF3yoxng5ixQ1ODpUF//2jN8vqdr/h5ZM0au2oj5Ep9dPeOGz89\n",
       "5TLov/75DTf+7FNP4Jor13bc+P7hAze+Mo9cNd/VKmS3GTfqo3jEZFQiH3h0kKsX+XoF8uuiRppd\n",
       "7zth4+gfn/LRzHhStb44QiSQcIRIIOEIkUDCESKBhCNEAglHiASFOhWamVWBTUe24wQj0auKEyZr\n",
       "SLIrLa/57PPPufHNrW1cc+/jj934h+//240f7N3GfdnCt6obu4ZLHh76M3XI8iwt3/8WrPV2WL6T\n",
       "Z9dxYiaVGw8DdPIM3hkq3R4ntsNpdk4Nc5geHQc6o4LtPgXl3tOkTp5CXBgSjhAJJBwhEkg4QiSQ\n",
       "cIRIQDl0ZhY3l+NSaHJ1omnQ52786qd46vONx/1kyocPFrjm3u1dNz51fpLlWstu0/YN/9weu7yB\n",
       "a2aQUEt5kYvuFPdFibFBP0Js4hc19+PnDKXTUXNBcrXCuTX+8SmR0yxyfKkhYeDqwfXriyNEAglH\n",
       "iAQSjhAJJBwhEkg4QiSQcIRIUCIvsgrq1wmcdQM16mZmHXRL3Nz059mYmTWN33Pg/Jw7PJLreOXy\n",
       "Vf/v13g+TTP557y+zna0QZfNk2Pfdo5s0vNz38Kvwuas/rOOuqwOA82noZHoUf8CSPIMLOwoAZOI\n",
       "9rcs2Fvjwo4gxCcICUeIBBKOEAkkHCESSDhCJChR58WMO1EZuCqBQTdBh8Wo3Lrr/HM7O+Mkzw46\n",
       "STZl3Y3PgrLyevKPsxGUbp+C40fnHM2N6aHcmUqNzcxmM7/75Xzuz6B5dG6+49dTV87IBIN3IOom\n",
       "O4CzOJux47lsx9LIVaQL0hdHiAQSjhAJJBwhEkg4QiSQcIRIEM7H6YPJvuRETDAfp2nZIWpg1snR\n",
       "wxNcc//+nhvvq8CJgryrk1Pfbbm0zm7T9hW/dPr6zlO4ZnfvwI0fHh678SEoKaaGhNGoG3qebcuz\n",
       "ZsgKo6Z/kUHV9b57GJVOk7M7BdO16d1MzQFS6bQQF4eEI0QCCUeIBBKOEAkkHCESSDhCJChxghuD\n",
       "diSW53KW5zT622YztoMfHPp29MOg++WnH7vhxskO3z/wj2Fmdvnymhtf3eBy7/5j346eoDy3BP8q\n",
       "mM/90vGuY8s1M669FD/RlnJJw+cMZd1RibjBvzciKHGZ3tkol7mu/XPWF0eIBBKOEAkkHCESSDhC\n",
       "JJBwhEgQlk43wQRhSv6jBm7DEOwLnJirV9mhOji658bv33kf11xa9d2zs8WZHz/xky8frfEbAtYt\n",
       "O4Ef3r7jxsmJqoOGkFQiHT9P31WKknlpd5QcHM3HoTWRs9tQ+XhUik+JmXD86D6PUNavL44QCSQc\n",
       "IRJIOEIkkHCESCDhCJFAwhEiQYm6dUbWJtWJV5Vv+VYT9wJoi3+cfsEJm3t3P/I3zP2unGZmx0f+\n",
       "WPb9+75NvDj1LW8zs4MHW278g9t3cc277/3X30D9G4LftQV08ox/C/3jlBL0aQCrmt6bpgnm88A7\n",
       "MyXs4KhlKI6yJ5s6eM9NSZ5CXBwSjhAJJBwhEkg4QiSQcIRIkJ6PQwmgFWqRNVpVfunsRx+8h2tO\n",
       "Hz50449v7+CaOXSsXCz8jqFDT86V2TFMiv5wl524wweHbpxcnSj5ETuwBmu4KyYuMXKvUl0x4R3A\n",
       "RM7g+D10BTXjSdl0zpT8ahY4cbhCCIFIOEIkkHCESCDhCJFAwhEigYQjRIIS2YrR0KnIxvZha5sS\n",
       "Rs9O/V4AZmx7Rwl7Vy75PQy6hW85Lk55X7OZn+RZYOCTmdnpqW9hN63fFbRq+Pj0ZKrQ2vWJ/u1A\n",
       "ljh3xQzaYtLxJ34H6T3LWPXYyTTqJKpx7UJcHBKOEAkkHCESSDhCJJBwhEgQjmuPoES6qqJ44NBB\n",
       "6ezmlu9cmZl1+34C5vGRn/xpZtbAtW5u+KPXq3XuJLqz86wbP9j3y7PN+B7gfJhgNkwNJcqR2zSB\n",
       "e1VaLnduGt8lPAOHMHKo2uIn2fYDnzO9Z2Fi5pJdTkP3GDbpiyNEAglHiAQSjhAJJBwhEkg4QiQo\n",
       "Xbf8bBQzdjXI7BgGPk5j/iJyYczM6sp3gs5POL+N8tgubfnu2dr6Bu7r6rY/wfqdN/+IayoY6jJS\n",
       "o76R79kC7mfcYJIa9fFxxhF+W8E9LYV/i7venykU5UuS4xhNqiZnkVy1KO8S5wPhCiEEIuEIkUDC\n",
       "ESKBhCNEAglHiAQSjhAJSlyCunyXT7Kd466g/nFWV1eDc4PR44G9Tr8SGxv+TJ2ty5u4r9mKn/x4\n",
       "BB0+zcxo1MsEZeV90El0hOTHyMJfwIj52YzXVGD7Uyl8ZC3zTKWolSiVbnNiKlvYifsM56wvjhAJ\n",
       "JBwhEkg4QiSQcIRIIOEIkaC0QdlsplEdxoMpweTqXIYGgmZmu7swKfrcd47MzB7sH7jxjU2/IeDW\n",
       "FZ5gvbfvz8GhGThm7Pg1M98hjFo+kkOVcbWiNbSNm/6xq0lkZjSRE/uIZd9NBsutgzVCCEDCESKB\n",
       "hCNEAglHiAQSjhAJJBwhEpTFECUSBnNDwKajWSfdOfcCeHLHr9/f2bmGa/701htu/OyE7ejTk2M3\n",
       "Pg7+6O8T6FZpZrY4P3Ljx0d+3Ixn19STfy+pi6WZ2aws38lzpFkvgbNL48q7hf/eUFJkdG7ROZNT\n",
       "TYmxZmaLzn+efQ//Dgi6gmo+jhAXiIQjRAIJR4gEEo4QCSQcIRKURVA2OgTbqANogeS/EZwOM7Pb\n",
       "tz/w98UVvXb4cM/fMPFvwQsvPOfGb/7yF258/cEc9/WVV7/qxofxt7imBidocQ73OUh+rGnqc5Cy\n",
       "OEIC5nmQmNnO/HtQN/Cce3a7KGGzgENoxomp5JCZcWLmfO6Xu0f7ImdTXxwhEkg4QiSQcIRIIOEI\n",
       "kUDCESKBhCNEgnJ+xkmRXWAhU2LeCHZ0zS6l7X7k9w/YvbPLi8Da3XniCVyx/Sl/LHtdfPty7z5Y\n",
       "3ma2tu73KXju+c/imlu3brlxGvhEg7DMzMbJt3Cpw6mZWdv61nKUZElWcR8koBKUTNm2/H+HEdqf\n",
       "jiPfm9LC/aSx7BO/5w28uPriCJFAwhEigYQjRAIJR4gEEo4QCUo0kh1dCIu7L7oHKoHbs+K7KosF\n",
       "l1sbzFTpgxHnP3/NT+a8c/euGz+BUmszs5u/+rUbryt2iNq5v41crah0esI54pwwaTUN6Al6WVb+\n",
       "cyO3ra75+mne0nzOybRd55fir67yddIcILrPqysbuC9aoy+OEAkkHCESSDhCJJBwhEgg4QiRoPrm\n",
       "d36IlkpmPg7lFpVgSjA5ZNMUTJAGyQ8jl3vTOZfGd4IohyzatrLi57CZmU1wP+kBhLlqBi4luGBm\n",
       "0TPjxpM17K+CEvXIiZ3N/NLlyJ+l5oJRfh3NIVp21o+Z4cnpiyNEAglHiAQSjhAJJBwhEkg4QiSQ\n",
       "cIRIUKgjpFls+fFMERhvHZT0UrfGyFql0umo+2UDtjP9flTGFjpdf1XxmtGWHGUeXD/dz2j0ONnh\n",
       "9O8AM7MKzmGCBNQh+BfGOZQoR+/ZYuHPKBqDf1V0Cy6F9oiSacmq1xdHiAQSjhAJJBwhEkg4QiSQ\n",
       "cIRI8D9bU1fjtHpRPAAAAABJRU5ErkJggg==\n",
       "\" transform=\"translate(377, 47)\"/>\n",
       "</g>\n",
       "<path clip-path=\"url(#clip430)\" d=\"\n",
       "M697.244 252.756 L902.756 252.756 L902.756 47.2441 L697.244 47.2441  Z\n",
       "  \" fill=\"#ffffff\" fill-rule=\"evenodd\" fill-opacity=\"1\"/>\n",
       "<defs>\n",
       "  <clipPath id=\"clip434\">\n",
       "    <rect x=\"697\" y=\"47\" width=\"207\" height=\"207\"/>\n",
       "  </clipPath>\n",
       "</defs>\n",
       "<polyline clip-path=\"url(#clip430)\" style=\"stroke:#000000; stroke-linecap:butt; stroke-linejoin:round; stroke-width:4; stroke-opacity:1; fill:none\" points=\"\n",
       "  697.244,252.756 902.756,252.756 \n",
       "  \"/>\n",
       "<polyline clip-path=\"url(#clip430)\" style=\"stroke:#000000; stroke-linecap:butt; stroke-linejoin:round; stroke-width:4; stroke-opacity:1; fill:none\" points=\"\n",
       "  697.244,47.2441 697.244,252.756 \n",
       "  \"/>\n",
       "<g clip-path=\"url(#clip434)\">\n",
       "<image width=\"206\" height=\"206\" xlink:href=\"data:image/png;base64,\n",
       "iVBORw0KGgoAAAANSUhEUgAAAM4AAADOCAYAAAB2Hz3EAAAUiElEQVR4nO2dyY8j6XXEg5nJfSvW\n",
       "wtq6q3umuzWazSN4NLIhQYIM6OCj/1EbhgEfDPjkgw1YkAB5VkuzdldXdS0s7ksmk0kf5GMEDx90\n",
       "jN/xEd+Xycx8TCAY773S0YfVLQSz2Vp9hFYnovH9wwqNL+e53Gs+K8Qn/BgAUCqVafynH30i19y9\n",
       "uqXxr7/6E42/+9FzuVez3aLxr776Vq6ZryY03utXafyw35N7XVy8R+NPHj+Ra4bDGxr/w+e/k2sa\n",
       "+3UaT/MljT/cDuReScS/Z2ePHwMANtsFjc9nG7kmRpPGl/MpjW+36vkDKlX+nOkn0xgjceIYE4AT\n",
       "x5gAnDjGBODEMSYAJ44xASTreSw/LG9LeqFQ8Molvt8m1pLfLOeK+DrdIROKE1hOZ3JNtcGlxVq3\n",
       "RuM3t5dyr80Vl0NTrtL+mYL/TuUr/v3TWSa3uvnhmsY//vFP5Jq9Gpd9X/3wUq6ZrbgcPBzOaTza\n",
       "6t/idcqv2WzMjwEA3R6/Z0VZH2c2Esd54M9zmum/Sqo1fm/8xjEmACeOMQE4cYwJwIljTABOHGMC\n",
       "cOIYE0BSLXPHKgAU2oCKIkt5POVydDrX0mppxddUhEwNAD/78F0a7/b097m84+7oVpd/0elcu8Or\n",
       "NS5tPr7QTt+84N+zXOVyeDrV3/98n7ug33n8vlxz+YY7txuVhlzz8pJL8qWYX7OucI0DwHTMn4Hp\n",
       "Djk6KvF7cLB/INekU36cSllc/1jfs/WaS9V+4xgTgBPHmACcOMYE4MQxJgAnjjEBJJOHsfww1943\n",
       "dHtciclzbsrL1lyFA4B6m/cpaNe0QlYpccXpRVerLR8e92l8lPNz++1XX8u9Rjmv36/taSVuI67n\n",
       "4DXvRfD8RBs2P3nvIxq/+/YbuWY8u6LxNzev5JpiyxWqplAC1+kOw6Rob3F2fiTX1Or8ecI2kWse\n",
       "Ym70rYvjlyL9/ii2/Dn3G8eYAJw4xgTgxDEmACeOMQE4cYwJIDl9S/uUVkvtldoKiShNuaJR5Nqr\n",
       "Nku5qpUVWqH58oaXDr/71oVc04foJCn8ev1P/lbu9dlL3v3z9fhertnfP6XxX7z9jMbfveB+PABY\n",
       "DrjvLl9p9TKdc/VOdasEgLroijm4GtF4rc4VUgCoNfjv9M31UK5JKlw96+zwxG1F+f54xsu9u722\n",
       "3Kt3wFVav3GMCcCJY0wAThxjAnDiGBOAE8eYAJw4xgSQbBtacq4KKRAAiox/Vtrw/babHebHtejK\n",
       "uWPgTw7eMvM/vvxMrvnlsxc0flTnhsV2Tcu0P3/GB1j96P2fyzU9IUeXIl6GvF3zQUgAcP+an9to\n",
       "dCfXfHH5FY0/DLhMCwBXN1x23qz4XwVzPacMe8oYvKNEf1Pwc9v09HFae11+/I+Oabxc0fd5NOQm\n",
       "aL9xjAnAiWNMAE4cYwJw4hgTgBPHmACS6UQrV8uFnjXT7e7ReCFKmmv7HblXbS3mmRTaGBpt+Hl/\n",
       "+/1ruWZwxUeJn/S5ke8ffqkVst/87GMab1a1+fDVyy9pfLngytX5uR7X/qNzfpybuh7Q03vJ1cPl\n",
       "YiXXVBJugI2rPD5f6b3ur4XJtKJ/v2tN0UQw0rOb8jU/h/EDN8DWa/y6AEBU4s+Z3zjGBODEMSYA\n",
       "J44xAThxjAnAiWNMAE4cYwJIuntaiksqWqou17hUvLfPDXYHB1paLdZ8r8WOceWDO2E+1H49jMVx\n",
       "3lz9QOMfDz+Qe/WO+fe5/Zb3IgCA25ef0nia8fkw66W+ZpGYaZNB92lotPnFefyE/7UAAEMx+nx4\n",
       "xaXlJNYycXuP/yUR64atiBJ+/LX4OwIA5hN+PXNxbp2GPoFyzN8tfuMYE4ATx5gAnDjGBODEMSYA\n",
       "J44xASS9vp64u7dDojrqc1WnkvBOjteXuqQ3E2XVR109NyVb8fOeR9rk2CrzrpSz73mJ8mCoS4r/\n",
       "+V/+jcZPmvqa9U9OaHy94ebDq6Eunf7Hf/pXfvxTrZC9/ZPHNN7QjwAqDX6fV2JS9HisjcHlKv+d\n",
       "Lrf173cmyqrna106nQjFMRaTsrc7xqvXm9xM6zeOMQE4cYwJwIljTABOHGMCcOIYE4ATx5gAkrae\n",
       "qYOkpA2gapJ6tuRy8PhBS6uDGy5tzqq6+ydEzXlR1ybHbod/n/Pj5zT+i5/9Wu41fMNHnw93mBw/\n",
       "/JiPX5/MuIS7bnEjJQD8+u/4cWqJluOTlugHoWdB4XbGz2GV87r+JOY9AgAgXfH7meklGC/4s1Gr\n",
       "a2NmUzwbuehtUa3q4WpF4Z4DxvzFcOIYE4ATx5gAnDjGBODEMSaApF7R6kSx1gpROhfGuJwrV/WE\n",
       "l1QDwEaMa5/Md3Sl3Bej13fMtKlt+e/EJx9wteuksy/3+tXHfD5Op7tDpizx4w8WXKFrdXVX0L/+\n",
       "CZeiZvffyDVFnSthTx8dyjV3f/qexnvn3BnaOdTfv94W83GiHSX6Uy75DW604rgV85aqTf48d/e4\n",
       "+RcAum3+PPuNY0wAThxjAnDiGBOAE8eYAJw4xgSQVCLt03l9y+fJAMB4yP1Viyn3Qw3vuXL2/ydB\n",
       "4+WazuvpjCtuzR1zeN6+4KXDP/2r92n8vadP5F5nogx6KhRCAPjP3/6exv/7d7xRoZpGDQAnPeEV\n",
       "y+7lmsfPeCn6owOtqn3xmit+SZNPHS+gJ5WvhNqFlf6e2YL725Zi1g0AVI+4SlZWgmtJN748fXRG\n",
       "437jGBOAE8eYAJw4xgTgxDEmACeOMQE4cYwJIBm80Z0XIUavA0AR8c/ipjDYbbVhtFblRr7NRJdB\n",
       "z0b8OMUP2hj6zjE/h4M2NywedLT5sFhz2TeCrgMeDF/S+H/9/t9pXBlZAWD7hEuuwpP458/u+e/k\n",
       "B2dP5Zovu69p/A831zReSfQJlERZea2izay1Epeq623dZfVcyO6bnJdhf/3dpdyrSPgz6DeOMQE4\n",
       "cYwJwIljTABOHGMCcOIYE0AyXWqz3MVTbnADgFqLG0BXK65qnVV2yD0RNwauBvrclm2uthRbrQSu\n",
       "Mm4YHE0eaDzPtdqTZPycI3EMAPj7vzml8R+d/IbGP/vid3Kv69tXNL7eaPVyXRcqYarL2k8PDmj8\n",
       "f67f0Ph8oVXNs6d9Gt8utTG0ecYnb3d3zNRptUT5fpN/l6sbfi0BoFLniqvfOMYE4MQxJgAnjjEB\n",
       "OHGMCcCJY0wAThxjAkiKqjbLbWJe1w4ASYUbM087XMIeDLSZdD4b03iRamn1+tWQxqMds1YmHd6P\n",
       "4Oaam/ymQgoFgM4Jl1YnI13zf/n9VzTeSLjs3t8xt2ZU4rJvutb188N7LtXPVvo+q36Z77z/jMYX\n",
       "ay1HpyX+DBwf6xHzr6f8b4+yPmWUwGX3sujyut/Xxz97xO+z3zjGBODEMSYAJ44xAThxjAnAiWNM\n",
       "AEkiTGwAMJ7rSdGn/WMaX4mZNvMFN1ICQBW8DPj2litnALAViltR0ibL4Q1XvDYZL6ldrLQSuFxy\n",
       "A+h0rtf88bvv+JoxN0zOVvqaTVMuK6WpVrWKKr9mUUlLke0nvPvptsfn4LRjbRjNwJ+n5o7p5i8+\n",
       "uqDx4b1+NhcFVylrLa6qRXV9fDVd228cYwJw4hgTgBPHmACcOMYE4MQxJoDkyQuujgFAvKO5XrvN\n",
       "jVTNPa5czJZavSsXfM3hsS7dLpd5ue1sNJJroox7tbIe32sZa9/XcsaPM3nQXrXbhTg38fMV1/Ts\n",
       "om3B1bt6ppsolva44hU/4rN+AODkvec0fl/mJ72calWvUePP2kxcSwB48atHNF6u6HtzfXdH46WI\n",
       "exVnsx3GNwglcscKY4zAiWNMAE4cYwJw4hgTgBPHmACcOMYEkNQT3a1yU+j5NNUml6MT0bHzeYt3\n",
       "UQSAEnj5dltI2wAAMWsFmR493qnxUuhmm5fOrha6rPzujn82HKhiY2C95fJ+dMBl4t4h7/wJAOl3\n",
       "XHZei/JkACg/54bJ5nM9lr7a4Qbc+ppLuK0jLvkCQDnmsv/+ITeMAkAWcdNuXmgzb0+UQscx/0uk\n",
       "2tA16rUqPze/cYwJwIljTABOHGMCcOIYE4ATx5gAkounWu3qn+sy2FpHzKcRZbilrd5rKEqHNyU9\n",
       "Hyep8onM9R0TjJdTfs55iRsGx7daIUtnXNUbTHlzRQBYLrkBsvtjYWa90I3yjoUB9+vJF3JN3OP3\n",
       "oHyolbBKif+2HrX4dd4m+rd4POKl8OVYly7HMVdWx2NtzFwsubLYaPP7XClrM+16zZ9Bv3GMCcCJ\n",
       "Y0wAThxjAnDiGBOAE8eYAJw4xgSQPHpHS55JVdd1l2JucoxyLh+ul7p/wV6dn8N6q+XoWpsb9ta5\n",
       "NqaWy1yO7nT4XrMr3T/ghzH/7ORA90k4XHLD5CYWs24aWlo/fcQ7bJ7d6pr/g2Nu5mz1juSa1YLL\n",
       "63GVGyPzlb7+8wHvLbBKeC8IAOj1+N8lm7l+NgrRWwLKmLxDDgf4Xn7jGBOAE8eYAJw4xgTgxDEm\n",
       "ACeOMQEk1UQb/PJczyCZTriqVqlwVW27I0dbNdFhUXRkBICR6JjZEZOlAWCvxUunG01eHvvQ1Occ\n",
       "PeXHuXj6llxTL3Ml6E0slKsGV+EAoLXhJteTtlbiBq+uaby2o9y5XuP73U/5s7GYaFWv1+Fl7a2O\n",
       "Puc856pW/0ArgXuH/D5Pc24yvb/XnUS3QqDzG8eYAJw4xgTgxDEmACeOMQE4cYwJwIljTABJu7ov\n",
       "P1yueedFALga81HiSZWb/OKyrhFPV7y2/+5e1++3W7xOPFtok2EW83NYlPjxkxKXfAEgKouBQ8L8\n",
       "CABnfW4AnQhj5vhGS7ujNddJJ5NbuWZa5kbbVsYNowDQLPGhU13RcyBpvJZ7bcUY9cVcm2lzYdg8\n",
       "O9LdR5cLfg0m6Q2Nt8R3AYAsE91X5QpjjMSJY0wAThxjAnDiGBOAE8eYAJI01SWoy5SXGgNAr8tn\n",
       "t7T2uELx8vKV3Gu24Apdp6XnpsQi59VIdgCYD/hxujmfNVNd63LvxUaNpdeqXjLnpejpgKt9Q+gZ\n",
       "MJGYnZN0tTG00+Pfp17Tc4hqCS8rz6t8zXS4kHvNJty0u1npEn1kYg7SUo+lzwuuBrf74plt8u8I\n",
       "AJejb2jcbxxjAnDiGBOAE8eYAJw4xgTgxDEmgETNpgGAh5Geutw74mWw6zVXgnoHujy3esCVk3yu\n",
       "lZMo4z6yVkWrSusl96TFQtSpi6aHAFDd57NmplrUQ/+El/S2Znyvru4ViVz47va7/BgAMBXN9WY3\n",
       "unR4mHLfV9bgytU61vesWHEf32zHrJvtmv+2b1KtXp6dPqXx8partH/84ku5VyrKrf3GMSYAJ44x\n",
       "AThxjAnAiWNMAE4cYwJw4hgTQJJmu+ap6G6Jy4xruOspN40eHWiZeD7nkmcqzJcAUOR8psl2q79P\n",
       "t8rXtOtcDp5NtEx7d8U/6+3ra3a6x4/TPuMy6ctMdzJdjvh1ftZ7Ltdscy773gy5+RUAVgX/SyJN\n",
       "+V8I1T2toceRMJnW9bMR1fk9azR1ufNoxf9iiTJeOj2d6utcjkWJvFxhjJE4cYwJwIljTABOHGMC\n",
       "cOIYE0BSFNqVePfADW4AsAUvnW1EPH430XvdP1zSeFzjKhQAVJpcodkmM7kmFc0KNxuu3pUTPY24\n",
       "teHXrZZoJXAsGu8tU15ufCVKvQGgHHH1LtsxU6cYc5PraMjVJgAohNM0jngjy+tL3VwwqXAD8NnZ\n",
       "hVyzEVPMN6UdjSfX/BmYi5lO2Or3R7ri99NvHGMCcOIYE4ATx5gAnDjGBODEMSYAJ44xASSzxY4O\n",
       "m7oUHHHEjYnLjNeiP1xpaTUSyuLRqZ5Pc/sw4B8kuitkr8tn6pRiYQyda6k+X/LvM8r5SHQAaNS4\n",
       "tNurc2n5uK07bN6Jcen/+/nncs1Flxsjj2LdD6J3/A6N54lYM9fdX/vnfE3U0LL/3ZDfm7isn41u\n",
       "i8/0qW74Az2PdG+NjXg4/cYxJgAnjjEBOHGMCcCJY0wAThxjAkg2uTZFloT5EQCaNa6EFODmy/PH\n",
       "53KvV9/yScUPI61QtXtcoWm19DTiR4+5mTAvuHIzW+ky7Ob+AY0vCj31Ocv471SnzNW2ZKKnbmev\n",
       "xaTumb5nvRf8OJ2zZ3JNPuWm0UfnfM2opcuQRxNhJt3oSd35hqu0swct+d6OuOLYrXLTcLajfcAm\n",
       "tqpmzF8MJ44xAThxjAnAiWNMAE4cYwJw4hgTQJKOtcFvtdQy3X6NDzBapiIXIy057vW5+TCOtVSe\n",
       "LXknzU2ZG/wAYDXj0mazw79L/UwbCdst/tnVtZaDtyu+RrV96Db079o7Hzym8eaOaVTDLZdWh1Vt\n",
       "Zq0IqXZz9ye+10z3L1gk3Jjb3+dj1AEgiXgnzRa4YRcAcjHh/fol/3tjuxULAFQb/Ln1G8eYAJw4\n",
       "xgTgxDEmACeOMQE4cYwJIDnaYYpc1bWqlq64QrURyk0l0eWprTI3hpY3vFskAKxjnvP1jh6xfnDG\n",
       "FadyxJWw8UqXe39z/T2NJ6lW1eaiQvimwg2bm7buVjmv8O+fbUVJOYDhgM/U2Sb6OjfrvMvom9Wn\n",
       "NF7XQiRO+o/4XgNtZo1rXD1rtHXH0kaDl/W/2OcK8qbQiu/lzbc07jeOMQE4cYwJwIljTABOHGMC\n",
       "cOIYE0AyFZOIASDPtRKWZdzflNS4QrYucUUHANoNrtCl99pDddh7QeOdA67cAMD9HZ/Ds1rwcudp\n",
       "rlXF0ZgrQaeHh3LNtMI9UXnEmyjmooEiACzf8Hsz+PpKrqmJZpFxRyuByw6/B3tHXLmqVHQTxc8/\n",
       "/Zofv6kbErb3+fOEfMdMmyG/Nsdt3vjx2Vtvy73qwi/oN44xAThxjAnAiWNMAE4cYwJw4hgTgBPH\n",
       "mACS5Q7JNZty8yEAlCMulUZCjowj7f7LhFK9hV4zW/DR38lKGyMnogx4OuRl2M0e79YJAMd93hXy\n",
       "5op3JQWARYMfvywqd7eqphpAXPBrc9Z/Kte0N/x3MulqCfk25eXr40t+0+ot/Vvcbx7TeLyjRDyb\n",
       "8fscRXoOTz7h8v5gzU27s9UXcq/Fhv/t4DeOMQE4cYwJwIljTABOHGMCcOIYE8D/AcBU1Lu8ZcHk\n",
       "AAAAAElFTkSuQmCC\n",
       "\" transform=\"translate(697, 47)\"/>\n",
       "</g>\n",
       "<path clip-path=\"url(#clip430)\" d=\"\n",
       "M1017.24 252.756 L1222.76 252.756 L1222.76 47.2441 L1017.24 47.2441  Z\n",
       "  \" fill=\"#ffffff\" fill-rule=\"evenodd\" fill-opacity=\"1\"/>\n",
       "<defs>\n",
       "  <clipPath id=\"clip435\">\n",
       "    <rect x=\"1017\" y=\"47\" width=\"207\" height=\"207\"/>\n",
       "  </clipPath>\n",
       "</defs>\n",
       "<polyline clip-path=\"url(#clip430)\" style=\"stroke:#000000; stroke-linecap:butt; stroke-linejoin:round; stroke-width:4; stroke-opacity:1; fill:none\" points=\"\n",
       "  1017.24,252.756 1222.76,252.756 \n",
       "  \"/>\n",
       "<polyline clip-path=\"url(#clip430)\" style=\"stroke:#000000; stroke-linecap:butt; stroke-linejoin:round; stroke-width:4; stroke-opacity:1; fill:none\" points=\"\n",
       "  1017.24,47.2441 1017.24,252.756 \n",
       "  \"/>\n",
       "<g clip-path=\"url(#clip435)\">\n",
       "<image width=\"206\" height=\"206\" xlink:href=\"data:image/png;base64,\n",
       "iVBORw0KGgoAAAANSUhEUgAAAM4AAADOCAYAAAB2Hz3EAAAR8klEQVR4nO2dSY8lx3WFT0ZG5nv1\n",
       "aujq6majmxRNSTQlUqKgAZA2gmHagP+WDf81e2dvRNiSIA4iqYHFrnZ3ja/eyynCi97ecwFeaHm+\n",
       "ZWRFRE7nJXDqDs2//eu/VxDeOHvADuHD994xx3e7yRy/2w10rT988ok5/vjRG3TO8cHKHD89O6Rz\n",
       "SmnN8UruwLSMdK2GTKqzff0AMI339gG2/zTTtbquM8dTSnROKYs5Pk78OudSzPH7vX0tL68u6VqA\n",
       "fW6psZ8LADSNfXNKoa8tri7v7DmLff3f/d4zutbByn7P+F0WQlAkHCECSDhCBJBwhAgg4QgRQMIR\n",
       "IkD+5LPP6cGrx0/osXax7eWLi5f2WpdXdK2CbK/1yrYVAaDMtlV7fLSmc87OHpvjB2t7ToFtXwLA\n",
       "OBDbeeF2dNfa6202th3btg3ff9zZ2zv7j5N9rDrXmZJt+3Zr+5m9+eyYrpVbe04Ct6Nzto/ZJvlr\n",
       "5rdO7X3INl3P91/Ie6YvjhABJBwhAkg4QgSQcIQIIOEIEUDCESJAPrAdQgDApRPp+vtqa26639ob\n",
       "gdukmwd2FPbLK25Hb7f2Prc726YFgK/+8rU5/p3v2NGx+3u+/9cXF+b45RW33c9OT8zxf/nol+b4\n",
       "asMfzn5/a46nhlvLB71tb6eW27GotvGbk71Wl3u6FAl0Rmq47d6Sn/ZCzgsAmhW5HjJlnvg9W1EL\n",
       "XQjxrZFwhAgg4QgRQMIRIoCEI0SA/KdvvqIHD49sFwgA2mw7EZXktTcLd7tu/892iE5Ozuic1Wpj\n",
       "ju+HPZ2zvbs2x58/J3Mqz/k/PrLdlvWBfV4AcEiCOftsz9ne3NC12tZ2KTvHIFu3dv48SF0BAEiN\n",
       "/dvaFDK+57UA2Fq06AKApdj1EBYnypMd6ohD1pJrAYC8IrUd+PZCCIaEI0QACUeIABKOEAEkHCEC\n",
       "5H/+px/Tgy2cGCISeJRb24VoFm73TKTC4jjx6p9dZzskBbySZ20OzPE2k/RgJ4YrJ/s6u4bHlzXV\n",
       "vs7DQzu+a56ceCziXlYnDXkiadXVqYrJqn9W8m40jtvVZuJqsYA0AGCuHgt8A38HW5KGXd2TVuq0\n",
       "EH8zJBwhAkg4QgSQcIQIIOEIEUDCESJA/snbf08Peo2NRlLJE4mkoXL3kKbuLk5jJyTbQpwWvtE4\n",
       "k/WyvVZyflcSsdfXLU8dblm6L7GJNx3f/+jADsAdibUPAJXY4R4NsXZBUqdz5ufcEGvZu8/jaL+D\n",
       "s3OdrGJoS6z6RGxqgFdG1RdHiAASjhABJBwhAkg4QgSQcIQIkC+HF/SgF3yXiHmUSE8Xz9BJxHJb\n",
       "OW5HC9vtqZkHpi7Z7oPD6uHNDXcV54UE/5F+Mq/3sY/t7u3U7Vp4EceGuFfZCX5cSCo4c7sAIBGH\n",
       "apntBzoPPGCyJW3ZnXqENK05eQHIxHFjr3Nb+HvGgmb1xREigIQjRAAJR4gAEo4QASQcIQJIOEIE\n",
       "yE3P7cvqVHhsiIfIAuycVHyq3kosz9eT7AU923sh9i61Np0eLB2xcJeBW9jMDx1Ge5+TngeMHpD9\n",
       "J8fCnou9Xsv6mAMos/1+tMnev1RuE7P77NV2YE11ihM1PJL287tKApOrU32U1EnQF0eIABKOEAEk\n",
       "HCECSDhCBJBwhAiQH5YjetDrBtyw6o97ew6roggAlblXTvAfiHuzOJNyb/eHKZU4UY7b1Lf2fcsN\n",
       "749zc2v3AQLZ/+Ur3lPo/NzuiP3gzK5WCgBnp3aQ68zS3QHM5Nxm8sgqybQGQJ9ndRwy5mvyXjt8\n",
       "HxZN2jrfD1bkU18cIQJIOEIEkHCECCDhCBFAwhEigIQjRIA8O32va3ECFsm0ltQcKKRGAADMJCjv\n",
       "zmnxTvPXC28s9cfPzu197u7tPRw7uhbmrfLfoh988AE5Yu/zl4tLutYnn31pjp8cH9M577/3pjn+\n",
       "8DGPwD1+ZJ9baW0Lmd4XAB27n0711Y7826Enzx/ggcaVBnM63w9ya/TFESKAhCNEAAlHiAASjhAB\n",
       "JBwhAuTqpE7PjttBA+mIc7IkntJLA/n23Dn55hs7Dfb2jrd4//JPz83xFxf2+DI7lTxn+3qePX1G\n",
       "57z7wQ/M8fNz2+272dpuHwDsR7v65/SSX/9/3dyY44cbO/gTAN793mNz/P0PH5EZ3KErxMF13jI0\n",
       "2T7KnFgAIMU/aU+dzgtAJmenL44QASQcIQJIOEIEkHCECCDhCBEgTy13YZij4UIKBRanuN8y2Bbd\n",
       "H397Reecv7Adostbfj3349Yc35Fu1OOer9WSInoNSc8GgE+/+LM5fr21U6p3I++6ze7n4txnlm7+\n",
       "4tp26ADg6jfX5viPP3xijueOO1Qzsbu8DtILiS9bvGKZ3zYkzYnXLKREgL44QgSQcIQIIOEIEUDC\n",
       "ESKAhCNEAAlHiADZs4lJdiwAoBKb7r7aFSbXiQcSfv77r83x//74KzqnP7Rt37stt5CHiQRGTqz1\n",
       "Ov9dWR/YFTuv72ybHACGv35pjt/c2vfseMOrrB4fP7D3GJ3+OIt9rFRue0/EKZ5JlO808PufSa8Z\n",
       "N8qTWNheAC4a+6QTscoXJ2CUVZnVF0eIABKOEAEkHCECSDhCBJBwhAiQh4E7KqyzNABMiz2PGBpo\n",
       "O67R33z8mTl+cW0HGALAZrELD97c2A6VBwsYPN7wXjcNCWZtSDE8ABiJRcWewebA6QbNijjueMDm\n",
       "fm87fg8O+T6//NUPzfGFWWFOB+e52OdcaPI80JJCloVGcgIp2ccadm7k7wHQApP64ggRQMIRIoCE\n",
       "I0QACUeIABKOEAEkHCEC5PW65wedHiTTYmuuJb1ekqPRp2+dmOPnL17ROds7u36Ax36wrdpCbEqv\n",
       "XT1a21plOfIArwrZNnbA4vWrC7rWUmwLe7Xiz+zpO3ZVzn/49ft0zpNHdr+dsZBgUtIfCQBGFmTq\n",
       "RHmSMglIXj2MRHo0kefJ++YASAryFOJvhoQjRAAJR4gAEo4QASQcIQLkymwLAJMTfMca5KRku3TJ\n",
       "Ccr79Ud2IOHjN07pnP/4z9+Z46s1r6R5eWuf8/nFC3P85z95m671059/1xz/4nPeKXqebVfv+9//\n",
       "O/vvvf5EJDB1JCntANBW+94cnfLfz6vBDgxtyHvjGZHMPWsz37/CduI8l7Yh680sDdo56WYh7zmd\n",
       "IYSgSDhCBJBwhAgg4QgRQMIRIkDG7DgaXqhWY8+rxAny+rZMxAh69/2ndM7H//OlOf7gyI6tAoBh\n",
       "tjfqOjvd+Uc/4q7am2/Zjl9e81ixLz634+uevXNGZvBCeW2xz/nV1Y7O+fRT+9g7I3/QK5IKXkg8\n",
       "WOP8FleSOt056eZzseP4MuluDgATKVbI/MZK3mUAWCopbkhnCCEoEo4QASQcIQJIOEIEkHCECCDh\n",
       "CBEgJ8dz9lpizyQAtCU2ZUdSqgGgb+zA0LnyXi8f/ePP7H1ISjMArH9rV+a8ubErhj59aqcaAwAm\n",
       "+3rOTrgd/r+39j77K/ucHz7kaxVybx6f8p4654e2Tdtlnj6f6L8R7HNuG7vyJgAs5F2beTFZsJjV\n",
       "PQn+BAAQe3ma7Dldx895Ina4vjhCBJBwhAgg4QgRQMIRIoCEI0SADCdt1es6TYsVEpOudTo4J2Kd\n",
       "NI5D89bbdhfreeZdj39B+t0cn9jXsnGKNS7MbCJBgQDww/cemePX1/Y5l8L3b7Kdhp0ydy+fPbPv\n",
       "2fPnvLjj0UP72Qyku/Sq46nrLQnMnFlra/B06wW863QmvYvYd2I38cBYFhqqL44QASQcIQJIOEIE\n",
       "kHCECCDhCBFAwhEiQB4Xbt96VRkX0saa2cENqfAJ8Pz5ifSAARw72KkYWkhg4HsfvGmOXw33fC1S\n",
       "W6FJ3Fo9fGjfs4u/2nP60yu6ViLBtKxaJwDkjb3PxVf8Ph+c2hb2Qv5XsQe3dhv6vwo6hQYaJ6d3\n",
       "01xtq7pt7Tll4c+sb+1/ieiLI0QACUeIABKOEAEkHCECSDhCBMijE2BXSTdkAEiN7YTlajsXo5Mf\n",
       "2xGHZnTcjkLcluqke5NTxkDctqbla9Hik4Vbkd2aVL8kTtw487XWh/Y9m0lnZwAoxKVM2XbOAOCO\n",
       "tPvpHtj3ZqZ2J9AW+3c6OZU0+0TOzQlAblhaP3GCnYKpKCQAWV8cIQJIOEIEkHCECCDhCBFAwhEi\n",
       "gIQjRIDMKhUCruOHQuzldWsHGY6F26T3sx0YuDitx1lxg50TmNlXO9B03dvnzPLqAV5ltDp3re7t\n",
       "c+7XdsXOi3O7rgAAbJZbc9xx41EqC0zl/yr4+s/2vem39v6rQ34CPQn0TcwmBpCSfZ+L06isJdVc\n",
       "E6kY6zjoNNBZXxwhAkg4QgSQcIQIIOEIEUDCESJAnqvTnISlugLIpAJoSSTV1THIEjH26sL3Z/v0\n",
       "Xq8T4gSy9t6sBw0AVJKiTYyr1+tN9j1rSGBm13FXb0uqfzZOZVbaB4Y4VwBw9NAO2l3GQ3O8VF4V\n",
       "tPR2ZOzs3LPVihzMTop8Jan4i/2c97PTa4dsoy+OEAEkHCECSDhCBJBwhAgg4QgRIE8Ld9W8uKuF\n",
       "pLs2xKGYnMKHtFOxk7qcSA+UhuY0g6bIJvL74fXnWUiMX+tU1yud7RKmlX2dh4kXFyzVTilunKZG\n",
       "42LHvvWt7ZABQMfcKxJfNnpOKLEcMykUCABltu+N1x+nFvu5VeKSHnh9kBoS90ZnCCEoEo4QASQc\n",
       "IQJIOEIEkHCECCDhCBEgO3Gc6HunXTizI3e25TglngbcdvZafeb7zwOxdukMYEVSpFmQaan85vTZ\n",
       "Xqud+RlMDQnm7O05U+PY8eTUDroTvv9kp5U3TgTudrTntKQq6dGKW+jMwi7OPVutbGt5Hngfnkr6\n",
       "LRXyzBJpIw8AE+m1oy+OEAEkHCECSDhCBJBwhAgg4QgRIJ/lR/Rg63T2ZfGPhQRmLg13W5qJFKrz\n",
       "AvnWtuZbJ3V4HEl/GJLSW71KdSRgszhdrzOxwlKyz3ntBJn25NkU4igBwJrcMxawCgCr1n42hfzm\n",
       "Vid3PJEA2MUJJh73tnvWLPw6WxKY2tKChPw5d6Tfk744QgSQcIQIIOEIEUDCESKAhCNEAAlHiADZ\n",
       "y93uWq6rTKzFhth30+jYxINtH/ZHPBe+BbGQJ6c/Damkyap/ku7iAIBtsfvDeBb+qj8wxxOpk9As\n",
       "nrVr0zj7TyR/Hk6dgESqYi6syqnTen0mtvd+4NU/96TKaSZ9mACgJ+fQd+TejF4wr13bQV8cIQJI\n",
       "OEIEkHCECCDhCBFAwhEiQK5Oc5LdyKtvronbsJDu0ql1crQ72+3x+qZU2IF5jdOpuiPnwK5zcTob\n",
       "92vbicteJdHJ3n8Z7ODT0QkyzcS97Jx066Xa97l1Kmmyaq4rUmXUCYtFzfb1s+cCAGck0LWw3HEA\n",
       "iR1jJ3fgrUXG6QwhBEXCESKAhCNEAAlHiAASjhABJBwhAmTHvUVxctG3xQ7Mq8QmbUbH2iXBd9vb\n",
       "GzpnfXxkjg8TDxhMpB5AIdGcM+tEBQA7247dLnblSwA0mHImzZOuJ16t8snhsTk+ejUPNva/EJi1\n",
       "DwALscTnifw7wKn5AFYnwPGwC6kympzqoyO5n+xfBdUJdE7ZnqMvjhABJBwhAkg4QgSQcIQIIOEI\n",
       "ESCj4QFuy8JdpTLbxwbiaLRetcaF9IchawHAcG07bi0vfomS7PVSIpVEiUMIcMetOu3SM+kDlIr9\n",
       "DJ4k2zkDAJA5g/M85519/cPMnUCaWk/ctsbpNcPiT7Pz0OZin9vhynZVAaAU+9nc7+0eTZU4ZwAw\n",
       "3F2b4/riCBFAwhEigIQjRAAJR4gAEo4QATLrxAwAveN2VOJ4PX5AUqpJbBPA6+HVxFO3QVy6fu30\n",
       "4SF5sONoO0d95tfP0pBZ0b3Xx0haOfn9yuBdt3eTnW49jDy+LZGu1557Wkn6eM/65iS+1rjY5+z1\n",
       "p6Hp5jN3D29JR+oB9vvU9xu61kKKQuqLI0QACUeIABKOEAEkHCECSDhCBJBwhAiQiUP4GietuiXW\n",
       "7nZvW35O7CNA0n0nYvkCQCYt1m8GHrC4am2rfJpsC7k6aciVBBJ6/WlmkqeeGnv/ybGJG1L90quK\n",
       "OZEoyybzc14G0uI92Vb9sOcvVEN6Gk0Dv851Y1vFxUsRn+x/ScyTvU9ycrc3+YTMEUJ8ayQcIQJI\n",
       "OEIEkHCECCDhCBHg/wFr5prPYLuhRQAAAABJRU5ErkJggg==\n",
       "\" transform=\"translate(1017, 47)\"/>\n",
       "</g>\n",
       "<path clip-path=\"url(#clip430)\" d=\"\n",
       "M1337.24 252.756 L1542.76 252.756 L1542.76 47.2441 L1337.24 47.2441  Z\n",
       "  \" fill=\"#ffffff\" fill-rule=\"evenodd\" fill-opacity=\"1\"/>\n",
       "<defs>\n",
       "  <clipPath id=\"clip436\">\n",
       "    <rect x=\"1337\" y=\"47\" width=\"207\" height=\"207\"/>\n",
       "  </clipPath>\n",
       "</defs>\n",
       "<polyline clip-path=\"url(#clip430)\" style=\"stroke:#000000; stroke-linecap:butt; stroke-linejoin:round; stroke-width:4; stroke-opacity:1; fill:none\" points=\"\n",
       "  1337.24,252.756 1542.76,252.756 \n",
       "  \"/>\n",
       "<polyline clip-path=\"url(#clip430)\" style=\"stroke:#000000; stroke-linecap:butt; stroke-linejoin:round; stroke-width:4; stroke-opacity:1; fill:none\" points=\"\n",
       "  1337.24,47.2441 1337.24,252.756 \n",
       "  \"/>\n",
       "<g clip-path=\"url(#clip436)\">\n",
       "<image width=\"206\" height=\"206\" xlink:href=\"data:image/png;base64,\n",
       "iVBORw0KGgoAAAANSUhEUgAAAM4AAADOCAYAAAB2Hz3EAAASsUlEQVR4nO2dyY8k13nEI7fKWrqq\n",
       "unu6Z3o2kiNaMk3B9ALZgK2r4ZPlg/9T/wUCDPhg0ZIoywZMETQ5GpKzdE/vXVtuPtDHiCf4wxzj\n",
       "d3zZ72VWVkYnEBXv+7K//OlfDRAcndxXh7C+XdHxAny5vm/kWvW4pON7e1M5Jyv5nL6o5Jz1jl/D\n",
       "CCM6PivHcq1qwo/lUz0nKwo+3vN71rbyq0E5ndPxoqrlnDffPufnHzo5p2v5elm/peOXF2/kWtcX\n",
       "d3R8ttiTc8aLAzr+s3/8Bznn8vQ7Ov7qq9/z8987kmvtwJ+zXM4wxkgsHGMCWDjGBLBwjAlg4RgT\n",
       "wMIxJkAJtPLg6dkrPTHjmqsqbge3nbajiz6j402zk3PyvucHKr4WANQVt4OLga+13V7LtaoZ/5zT\n",
       "ubaja2FVT0bc8s3FvQSA7Y7bpBD2KQAc3/+Yz8i17f36xQ1f64jbxN99wy1fAPj3Tz+j4x9+/CM5\n",
       "58kPfkjHf/sbvhYA3B/znxeePDqh49vRRK613fBnw28cYwJYOMYEsHCMCWDhGBPAwjEmgIVjTICy\n",
       "TlhxEPYtABTCjj44uidOpK3VUcYt5IVIIAPAYp/boQePH8s5kzlPW09F0vrrzz+Xaz159oyOHz19\n",
       "JOe0EBZ6x9PJWaH/r332iy/o+JuXr+Wcv//ZT+n4LGGh//PXP6fjF1eXdHyxfyjXmi/5sT//67+R\n",
       "cxYn3EJ+9UqnsPucf5+dSI5ntU6U5x3/ucZvHGMCWDjGBLBwjAlg4RgTwMIxJkC5mHMXDADqPe22\n",
       "jIVDMdvfp+MHx9ptuT0/5+fQeU0s93k9hL3lsZyTqfyjMA+Xx7rmws0tD4BWV6mQJ3cwxyMeSux7\n",
       "XQtgd8f37xfCuAMg3btGOEcAsGl4OPf2jteceO/xe3Ktk0dP+YFC37O7jj8EH/z4Ezlnr+GfZyc+\n",
       "yzbTIdcpeG0Fv3GMCWDhGBPAwjEmgIVjTAALx5gAJVptXa02V/JYjQUdf/OCV4u8utbZoqHlbs+y\n",
       "0Bmi3Y47J9wD+Z494V6tK/7/o4W+N93lLR1/vdbbvQ9OHtDxrXDbzi8u5FqtcIIWCffyu1fcCZyv\n",
       "eFVQALh3zLN3b075s7HqdSZR5QiHin8vADCI6qvzBX/+AKBQ2+p3wiETzx8ATMb83viNY0wAC8eY\n",
       "ABaOMQEsHGMCWDjGBLBwjAlQ3tvTTX1eJuzorWgsNJvxwN5IVFcEgL3JjI7v13pb9/puTcfniUqe\n",
       "5URU8hQVMw9rbdO+vOJWcbvVFUtXd9xCv7jmNnGz1eHLUoQfi5bb5ADw4rNf0vFcbF0HgC7j280f\n",
       "P3hCxy9uePgTAKoJv8+7Vlv4vbCQs8Q1j0Zi67RobtaKUCgAZB1/t/iNY0wAC8eYABaOMQEsHGMC\n",
       "WDjGBCj/9id/IQ/+7lQH6UoRTKxr4aolgnxj0R9mkpjz+sULfl2DdmgmB3yb+OWF6IOz2ci1MlGs\n",
       "ceh1f5qbNXd17j3gW4oniYKEr7/8Fzr+8nf/Kec8mPFg6JAIs7ZzHkx9/Ee8b83efuKZGXFXLRf9\n",
       "iQCgKPi1pbaV96LN/SDm9L121frG/XGMeWdYOMYEsHCMCWDhGBPAwjEmgIVjTIDycF+HPP949qE8\n",
       "dtPykGWXcy0qixAA2h23kNeJSp6VCJOeJvrDHInQ6PlbHma9SFTFnE64Vb44PJJz3lzzAORGtLJ/\n",
       "e65Dtt+endLxPlWVUvQHqms+DgDD0UM+55A/N9NKr5V1/IaOxrq2RKeqj4qqnAAwDMKqFhVbq0Qf\n",
       "KPXY+o1jTAALx5gAFo4xASwcYwJYOMYEKC9vdLXIJ+/x7bEA0Gbcufj6La/YeXrNuxQDwNCIrsuJ\n",
       "CotFxV21vNCBvfOvueO2G7h9d/DB+3KtccadmDdn2glb3Of9dvaPefh0mghM/t2Df6Lj69c8/AoA\n",
       "p1/+lo7frfV93j/mXZ8rcW0qFAkAhTDClKsK6J42ldjuDgAQHdHrMXdVm8R297uOO6F+4xgTwMIx\n",
       "JoCFY0wAC8eYABaOMQEsHGMClK/Oz+TB6VS30X7ykO9Ff7rPrdXdKmH5qUNjbcfWM24tzj/QNmW+\n",
       "5lUh//tXv6HjZceDrACw2vCLXl1o2/3Zhzw0W5U8MDqa7su1yiNuh/dLHdrdnPNrO35/KecUxzy0\n",
       "qiordIn/xZmoodD32o6uKn6mIlGPoW35TxJDxxObqUqeec5/qvAbx5gAFo4xASwcYwJYOMYEsHCM\n",
       "CVC+udX9TDbPfy+PfXPKt+4+FdUyf3RwLNe6EJUcs6V21VTIcJVph+Tym2/p+KzmDtVXv/w3uZYo\n",
       "SonFvv6cX3z2Czr+5Mef0PH9E94qHQDaS/69XT7/Hzkn77irKIwrAMBUfNBKBCm7hNul+tMgtd17\n",
       "qrdiy/Os+DPQi23YZamvuSj4tm6/cYwJYOEYE8DCMSaAhWNMAAvHmADl6J52gYaE29CLrNjtmLsw\n",
       "65XoQQNgu+WZsAeVdlv2RE+TTuTRAAA3vN/N6Rnf7l0V+vw7kVW7vL6Rc5589IyOnxzzLdWXb57L\n",
       "tZ5/+im/rjOdPWxK7iq9PftGznm//Akd70W+rhxpF2wkCv8Vubb16po/T6n+OGXJ82Wl6LXTic7S\n",
       "ALDb8ufJbxxjAlg4xgSwcIwJYOEYE8DCMSaAhWNMgPLoMd8CDQDz+Uwem4j+MBMxJx+0tVtfcgs3\n",
       "1VPn4tU5HV+v9Tbcpx9/RMcvX3EL9/kX/yHXygaR8sy0tToSgcmv/4tX2Hz5+WdyreaCX/O41Ofv\n",
       "Rfv5tVgLAF5NeJj2ZM63VO9EVdbvL4Bb+PWU/7Tx/Xr8mlVgE9BW9SC2QQ+DDgZ34mcPv3GMCWDh\n",
       "GBPAwjEmgIVjTAALx5gA5cOEq9Yl3AaIjtBDzoN8Xa4LBXaHvPBhM9YFESeP+Lbi1aUuCLhazun4\n",
       "8VPeB+fmOx2yXK94MDXb3co5X/76X/l1nb2l40txLwFgIjpI70TfIgAodqLrc6ODsdsVdzwXe/xe\n",
       "tpluFS4MKkwTrlrf82veNdo9LWQ4mbu0Q8LxVQUR/cYxJoCFY0wAC8eYABaOMQEsHGMCWDjGBBC7\n",
       "0L8nK3iQEwByUbFR7cUvtLMqTEKg3ej+NDfCDx8d8PAhAPlvoi1FhcmpDkzmGa/wOCR6rTSiamrR\n",
       "ihbnlbZ2ZU8Xsa8fAKop/0mgbfV5poe8MutoysOf3d2dXGtU83tWFolgKvi9Sc2pykQrd0Ke6/fH\n",
       "RgRj/cYxJoCFY0wAC8eYABaOMQEsHGMClFliq2+VcjtE+G674y5EWeog3USEOVPbYzthRA2J/jjj\n",
       "iXB1Rvxz3qx176B2y6+tUulXAE3D3btBbPVtRA8aABiJMOU44SgV4n72iWdgecwrvTY7HrJc3WpX\n",
       "bbrkLu1uqwObMoCpHyc5ZxB9mBIZT+QiaOs3jjEBLBxjAlg4xgSwcIwJYOEYE6CsEluai0znnlqx\n",
       "3VYYF8k8EIRD1AnnDgCaHXeo8l5bJIXoj1KP+Tbk9U47dFuRO5sJhw7Q3Z3Lgn8Hhch2AUAmtge3\n",
       "nb7mfhAXMF7KOZMFP9aJDtZ5oqdQJ9zDXvSgAbR7O5no7dZ6LXH+xDOjagT4jWNMAAvHmAAWjjEB\n",
       "LBxjAlg4xgSwcIwJUG7ueCgTALJEVUYV8isn3PJsW22TqmOp83eikmOXsGO3LZ+j7MjRWPcH6kXI\n",
       "s661HT0W1ubQ8C3iXZawSUXFzj6RWJwe8qqtk0TIsxhxS7xruYU839Pt2hthVfeJnjoqmFkk9uKP\n",
       "hO/fiGTw0OvnbHXn/jjGvDMsHGMCWDjGBLBwjAlg4RgToEwFKVXADgBata255VpM5EXl1tWi1JOK\n",
       "igcjVZAPAEqxXr08oOP37p/Itb674X1wpjPtKo3Bz7++EZ2VE1unIba1j0UoEwAeffJndPzqnPfA\n",
       "AYDbNb+2xZjf51z2pgFKUcRySPz/Vtuqr651H6JKBG2HTLiqiTZQ2w3XgN84xgSwcIwJYOEYE8DC\n",
       "MSaAhWNMAAvHmABlX2ntZAldVWPRa0XUAqjEvnoAqCe8kmeuNukDGETfFIggJwAUoipjJmzfhx/+\n",
       "UK717fOv6Pit6KcCAEPOr3m15n7o3uGhXKuccNs5X96Xc+oHH9Lxds0/CwBsNvzaHi/36XifqP6K\n",
       "QVjYOmOJXgQwt22qtgS/Bh0M1T+7bHv3xzHmnWHhGBPAwjEmgIVjTAALx5gAZSO2hv4hKhGyzIQL\n",
       "Uk91VcpabM+FCAUCqW7Eek4nHL+d2AZ+/+ShXOvpB8/o+Isvv5BzVPXNao+HTB9/9KdyrdeXPOS4\n",
       "uM+3RwP63symOpjab/m27kFsA2/bRE8jqGBw6hlU/XESAWRV5XXEn9khcfquccjTmHeGhWNMAAvH\n",
       "mAAWjjEBLBxjAlg4xgQo11fBSp6F8PAK1bxHe36yjXkq/acOJSpZNmL/urIvZzVvLw4A9XROx6fL\n",
       "e3LO8SG3nS/Ozuh4vjiSa6HlgcUnP+A2OaDb1TdTHrIFgKsdr9ipqq8mspcYxL/pLlXlVVRszRP/\n",
       "89sdfwabln/PfcJCV9Fkv3GMCWDhGBPAwjEmgIVjTAALx5gAZaq9d8pVU67W0HPnoqz0Wju13TgR\n",
       "2MzENug8Uf0yE7ZOLsZVwA8A1sK5mcy5cwYA5ZRvN+4q/vkvL67lWmp78NXNnZxzdcGDoUOjn4GN\n",
       "+G42Gx7+7HO9dTqr+HdWlnpb/XLB3cs88WxuxTPdiM85JPoQVWK7td84xgSwcIwJYOEYE8DCMSaA\n",
       "hWNMgLLa01uaU86F6l1TZNwhydUWWADrNXdo8kRn4Ubkm8pE4cNRyR2f3YbnsTaJ4oa96GBcT/bk\n",
       "nNWOz8lKkSG74/cFAA4f8t49Q5fK6gknMJHJU/2TVBHHhA8rO4J3qtcSgIlorFQleieJNkQY16Ig\n",
       "pV5JOr5+4xgTwMIxJoCFY0wAC8eYABaOMQEsHGMClOO5tk/zhKxExlLazteXV3KtXtiRdSKwWQkT\n",
       "cUi0a29EMLPPRJgz8flrYZX3wo4HtO3aNdzyXN1pm3i24mHaDrqNeSN819lC9+FZ7PPQqqrYOeT6\n",
       "/qsb2oqt8wDQiO+mT1Ty3Ilj8pmRKwGN+Dh+4xgTwMIxJoCFY0wAC8eYABaOMQHK3c1KHyxSIU8+\n",
       "3ii3Q4QFvz9PolOxoBLBxFQwVAYWhdtVZdrVUgHYLPFZ6poX/rsTW4fn+7yzNAB0ovDidqW/z/kB\n",
       "37qdavs8Wyz4+UV/ItU3B9D3uV3xkC0AbISzOhrrcHInfLJMXJtydQFdeNFvHGMCWDjGBLBwjAlg\n",
       "4RgTwMIxJoCFY0yAsrvV+9qHXMff8prbrsWIj9eZtmlzUbFzJWoRAMB6y4ORqZ46KmRZCAt7lEi5\n",
       "vj0/p+N7S93TZhAW8nzJLd/9Qx2+3IiQZZ+ozDobT+i46hsEAJ0IWSrbf0jcM9E6CUOiYuow5lb9\n",
       "WvQ0AoCd6IMzrsRPGAkLXfXa8RvHmAAWjjEBLBxjAlg4xgSwcIwJUKrgGwCk2+Pwg7moJJnqtbMV\n",
       "lTR3Wx3+myz4lu+yTlQmFY6bqkrZih4wgK7+uBChSADYCidwK7YOb4U7BAAb4SoVCVdrc8t753RI\n",
       "bHcW9ywXlTTzSrunKufbJ7bIj0WnbuWcAcAg7o0KxqZCxv3OIU9j3hkWjjEBLBxjAlg4xgSwcIwJ\n",
       "YOEYE6BsOm3rlQlrsxEVMwex33vodWD05pZXn6xnUzmnFoHFfKQraaowZyEaTp3d3Mi19kSFy+Wh\n",
       "2NcP4Oz0lI5XYv/8dDaTa7W9aMsuLFcAyMX32SfatasA5CDCj62wbwFgveY/L5QT/T236vOMdD2I\n",
       "esTvp3o2E93aMRUla/3GMSaAhWNMAAvHmAAWjjEBLBxjApSrtXBnABS7RH+airtXYxGy3IiAIwA0\n",
       "ovX5VJwDAHLhdqitrgBQiHbd7ZY7i3tzXUlz9tGf0PE+ET682/Iqm/uiYudup7c0qwBsKmSqtm6n\n",
       "qm+q/60qTDqIypcAkIuU57jU5+/VPUhU8qwqfqwb/n9OMAB0okGO3zjGBLBwjAlg4RgTwMIxJoCF\n",
       "Y0yAshOOFgD0iXxZJ7ZIt63om5LIUPVCv1dXuoPyaqW2NWtXTTmB6tpGIvMEAKVwbpTbBwBPn77P\n",
       "54iw1O11olikuObUFnU1R2XYUqi1VB4QAEZj3h8oF72OAGAQPZpSz1MncpSqD476e0C7pH7jGBPA\n",
       "wjEmgIVjTAALx5gAFo4xASwcYwKUo4pbhH8IZWEqlzBLaLQq+bE8EfLsGhEa7XQwMlf9WUSL+Zs7\n",
       "HUwdCm6hZonA4EhYq82W285tq9eaz+f8/Ak7OhPf2UhsHU+t14nA5qDKdSJR5VN8//93AXxKovon\n",
       "xE8iEN9znrhnrUOexrw7LBxjAlg4xgSwcIwJYOEYE+B/ARlMg3MlU79/AAAAAElFTkSuQmCC\n",
       "\" transform=\"translate(1337, 47)\"/>\n",
       "</g>\n",
       "<path clip-path=\"url(#clip430)\" d=\"\n",
       "M1657.24 252.756 L1862.76 252.756 L1862.76 47.2441 L1657.24 47.2441  Z\n",
       "  \" fill=\"#ffffff\" fill-rule=\"evenodd\" fill-opacity=\"1\"/>\n",
       "<defs>\n",
       "  <clipPath id=\"clip437\">\n",
       "    <rect x=\"1657\" y=\"47\" width=\"207\" height=\"207\"/>\n",
       "  </clipPath>\n",
       "</defs>\n",
       "<polyline clip-path=\"url(#clip430)\" style=\"stroke:#000000; stroke-linecap:butt; stroke-linejoin:round; stroke-width:4; stroke-opacity:1; fill:none\" points=\"\n",
       "  1657.24,252.756 1862.76,252.756 \n",
       "  \"/>\n",
       "<polyline clip-path=\"url(#clip430)\" style=\"stroke:#000000; stroke-linecap:butt; stroke-linejoin:round; stroke-width:4; stroke-opacity:1; fill:none\" points=\"\n",
       "  1657.24,47.2441 1657.24,252.756 \n",
       "  \"/>\n",
       "<g clip-path=\"url(#clip437)\">\n",
       "<image width=\"206\" height=\"206\" xlink:href=\"data:image/png;base64,\n",
       "iVBORw0KGgoAAAANSUhEUgAAAM4AAADOCAYAAAB2Hz3EAAASAUlEQVR4nO2dS4ht+VXGv/0+59x6\n",
       "3Kq+t7rtjkJ3RDtNJ0qICoKZKAhOFBxmqKMMnIjOMhMcO3PiRHAmYgaCKBpBRIiI0io2aTtpkg6d\n",
       "xL73dtWtqvPajwyuw/X7QxYOv9/wv2s/zj77Oxu++tZa1R995TcXERVvatp4/WRzEq63fY3H6pb4\n",
       "YA9PT3Gfzel5uL7fb3Gfvo3P09ZVuP5gs8Fjdd0Qrjd9x+fv+nC9rptwfdaIx1rq+H72DZ9fVfw5\n",
       "W7guSer7eNsyxc9G08SfRZLmOd5nmvhzTvMcrneFa16W+DwVnH+/42fmME3hOj/NxhjEwjEmgYVj\n",
       "TAILx5gEFo4xCSwcYxKQEytJagoW8uX5y+H6/f19uD4dY1tRks5OVrCFL263fR6u9x345JJ62FS1\n",
       "8XnqFX/+9Wodrp+ePcR9uja2sCv4nNPC96xuwY4F+1SSxiXeVoFNLUla4m0VXFtTsR0+zodwfbeL\n",
       "1yWpbuE7GNnC7uDeHPZ34foWnllJ2oMd7jeOMQksHGMSWDjGJLBwjElg4RiTwMIxJkE7z2zrNTNb\n",
       "i5tVnIJ9+fEr4fo4srXaVfE1HHclC/sCrousbalr48/TdvFnGU7ipLckrdvYjm7gHJI0g7V5BDu2\n",
       "bjlp3EM6W0N8XZJUgx19KNixyxzvM8JnoTSzJB1HsJ0hzSxJyxQf734bW8uStFnHFjrd//Wa79kD\n",
       "sLb9xjEmgYVjTAILx5gEFo4xCSwcYxK0V48ucWPfsUOlZR+vH2Mn6Hx9hod69DgOjF4/j4OcknR5\n",
       "+Thc76kZgqQGtjVQv17V7PYI6te/9cF3cZc/++rXwvX/fRZ/zkJeVV/8+c+F67/2y7+I+1TQJ2B7\n",
       "f4v7HCDMSe7ZWaFPQ1PFv9PkakrSBGHOphAAHqHvBJ2n68GhlFTBu8VvHGMSWDjGJLBwjElg4RiT\n",
       "wMIxJkH76tUj3EjZLklqoQ55Aw7V6WnhPH3sxJyexXk0SarBoaEyZEmqGvidgPrxCjp/StJyjF3F\n",
       "f/rXd3CfP/3Lvw/XD2Ps9jQFt+md9z4M1y/P2CH6wttvhevdwN9zU8X3YIbcWcGH1AJO5PEADq3w\n",
       "q1ElzsSRe1rBOuXuJGkPmTi/cYxJYOEYk8DCMSaBhWNMAgvHmAQWjjEJ2rMHHL68eMgB0BWENjsY\n",
       "klQqKaaOleOROzweoWPlUCiDXWCf/X0cJPzzf/hPPNYnN8dw/R+//j7u068ehOvj9XW4fvucbdqn\n",
       "m9ha/a/3PsB9Pv+zPxOut4US7RpKlysYbFUVBktNx/ie0bEktqO7wgAvGtRFYd7DYYfH2oPt7jeO\n",
       "MQksHGMSWDjGJLBwjElg4RiToH38+FO4cVUog6WSUkr5lYJ00xS7LS2FMsVOzPHIDRYPu9ilmpb4\n",
       "WH/113+Lx3rn3W+H66Ux4q+9Epd7/wDCh/vxCR7rAIFJCr9K0v3Ns3B9vebvmca1V6s4TFpX7Kq1\n",
       "EJqtCg0JJ3BCD4f4mZGkBZ6nmp6NwrO5ASfUbxxjElg4xiSwcIxJYOEYk8DCMSaBhWNMgraqua7+\n",
       "sCtYfuA6jlMciqPadYnDl1MhGEq2N9XCS9I8xXbkAnbo7//Wr+Ox/v3db4Trf/E3/4L7fPM7cZ+A\n",
       "YRVbvkPPv2vnp7GFvDk7x30GsoML09rJDqYR71VTOFgV3+fSuPga/u1QCqZOEEyldhTFALLHtRvz\n",
       "/4eFY0wCC8eYBBaOMQksHGMStMdCeXJX6GQ5HqCkFkKGTcEF6dbxHJ4KSmAlniA88S5qodyWSrQ/\n",
       "++breKzPf+7NcP1Xv/gF3Od3/+CPw/V/+8ZH4XpVc/hwHuPA6m7HZcA1zQEqlDtT/HIGtw2q4P/v\n",
       "RPHRpsIzWFOYtBAAng/x8TCAW2g/St1s/cYxJoGFY0wCC8eYBBaOMQksHGMSWDjGJGgHqCmXpJJV\n",
       "TbXlONipVFc+QpCwMC6du0IW/FCwymuq+d9zyPX5NrZ9Hz/iAVq/9+Uvhetf+p0/DNeXhfsn1BXc\n",
       "s5n3GTZx/Xzx55N6G8C/Cgpfs477+J5NI39nwxI/T2NhsBTM6VIPj+Z04Ht2hGCw3zjGJLBwjElg\n",
       "4RiTwMIxJoGFY0yC9tlT7hbZdBzy7Js4/EZdOe/un+Oxzs5jJ6oU5KNq27pQot13cWCQQoHHMR7V\n",
       "LUnDKg6mtgPP5/npT78Rrj86j2cNfeujj/FYqwen4frVFbt6PcwOmqnUWBzanKBEnUrnJamFZ2as\n",
       "2b2ka1sK7mFFnTnBpaWSekmi1gJ+4xiTwMIxJoGFY0wCC8eYBBaOMQnaonNWmPWy6mOHSordpgby\n",
       "YC+2xfrtBzqHJCj3nZY4wyVxufECuae50ChvD+7h/pNPcJ/7+zirdXMLk43b+F5K0sXFS+H6Gz/x\n",
       "Gu5DQTJqyChJEBXTcYZZQ+BQSlLdxd8ZuX0SZ+IqNuKwFJoaFVaFZ3OGd4vfOMYksHCMSWDhGJPA\n",
       "wjEmgYVjTAILx5gE7XrFo7pLNmUNNjaVTq8LM0ioY2dd6P5J6cOlMK5dE32eeL1UVi64tgVKjSVp\n",
       "f4hDo/tjbKGfnEKps6SryzgYevUotqklLlGnGTSSNEEAkgKb7Yq/5wXuf0Wet6QFrhmH3YifJ/xu\n",
       "oAxdko57+FcB7mGMQSwcYxJYOMYksHCMSWDhGJOgrQtTp0uu2s3zuBR6BbNu+p6DfAs0N1Th2gRu\n",
       "zzTyNa/XsUvVKnZV9oc4yChx4722EBg80ATjNv79WsM0akl6/dXYPXt4GpdUS9IC5y+GPKFZH5au\n",
       "F2Yq0ec87vk+Hw9xmrODWUcSvw2OUG69FErH1/A8+41jTAILx5gEFo4xCSwcYxJYOMYksHCMSdCO\n",
       "I4cil8Ic6w3UidfQC6Au1O/PENisCjNQKJa3phkwkpqexsLHvx/dio81g7V52N7jPtefXIfrI9jE\n",
       "6zXb0Z/9TNwVdBjYpp0gZDkVnoERZtpU0CdigZHsL7bFz8ZcsMNbGpdeGDGvJb62AQLNuzvuMotN\n",
       "QfnsxhjCwjEmgYVjTAILx5gEFo4xCdq+51BeqcPhehW7arv9NlzfwrqEg421qbmsewXnHycug63q\n",
       "2NmbxjhISB0+JWmGi+4LwcwnT2P3ZreNy3MvzjgY+/ZnfjJcbwth2u31s3CdPr8kdUP8eSYo954L\n",
       "pesNlFV3hY6xHZSvT6XvGbq50uyeBZ4LSVogNOw3jjEJLBxjElg4xiSwcIxJYOEYk6AdR3aOuoKr\n",
       "dPM0dmgEua/SrJsGmvuVHJrtHDf3KzXXO+xiZ6+qKHeFh1IPbk9VyFC9/+2PwvUWmju+/VOv47Eu\n",
       "T+Ic3e3NDe5D96YpNKWcYQ5QBSXSqzV/z+REVgVndwbHqyr85o9Qbk3zcQoGHWYs/cYxJoGFY0wC\n",
       "C8eYBBaOMQksHGMSWDjGJGjHQhfD3X1c6itJD87j+SxtF9uRJZt4mWM/cIAuipJ0oLHgVOsqqQfb\n",
       "t8HyXC5DnhcKhjL/8e43w/VhiC3sN9/4FB5rBXbwvtAVswULvYPvTJL2c/w5W+qkWbgBI/x7oSvM\n",
       "TmrA3i+VW9PsnIk6qZY6xsJj6zeOMQksHGMSWDjGJLBwjElg4RiToG06DiVWC7taFTR9ayCUt0DT\n",
       "QYmnIc81p+8mCAw2hfks9Duxh8nC3cC/K1Udn//IH1MfPYkDmKtV7Gr92NVDPNYC5y+Vu+8g5FrD\n",
       "lGZJ2u9il45ymcdCc0MKhlY4WZrL6ksB4OkYO4EjNJHsanb1dtCQ0W8cYxJYOMYksHCMSWDhGJPA\n",
       "wjEmgYVjTIK2L8xTUcXbWqqtn6FGHOr6Je68eNhBkFMcWGwKdiyNX5+X2KZsJ77mGXo1fPzkKe7z\n",
       "nQ+/H65fvHQerr/y0gUei+z4Be6lxP8q2G7j/g2StIIR9w18n1Vf6jkQ37Mj2MdS4ZcdwqeStMC2\n",
       "EWYX1R13P60pGIp7GGMQC8eYBBaOMQksHGMSWDjGJGjvCo7Kw9NL3EbuFblNc2kaMbg9bcNzU2rY\n",
       "h0KJEk+3bpr4WHeFacSrddz98sPvfYz73N7HgcG33vp0uP7okkOeVKJcFQKbC5QUV4UArqCsfT/C\n",
       "fYbJ0pLUwLbr59x99AQ6lqow04eejR7m8JTeHltw/PzGMSaBhWNMAgvHmAQWjjEJLBxjElg4xiRo\n",
       "z88e4UaYVC1JmqYfrSvjcR8H7CRpBstzKXRY7MFabQs9B0a45j3U4vcr7rnQgrX53+/Hw6Mk6QB1\n",
       "8lePY9v/IXRLlbhPQNMUOqZS/X6hT8C4hz4FcJ6pcKztGId2H4C1/+L8se1dwTMjSQew16lrbWGu\n",
       "FY6L9xvHmAQWjjEJLBxjElg4xiSwcIxJ0B7vuTxZnNcTpQwPULa6hm6VkrRAx84ZRmWXzg9mmyR2\n",
       "SIZVvH4ozJqh0d/vwUj20vkvL2DWUOHz07jyETpPSlIDM4pKd7nfxI4XOXT1VAjzVrHjVrrPa7C8\n",
       "lsIgHqoeH8AlraB0XpIm+Dx+4xiTwMIxJoGFY0wCC8eYBBaOMQna7ZbLVleFrNa8QHkq5Y5o0Ikk\n",
       "qtxtV6VmibHml0JzO4FLVYHb1IMLJkkzzFr5n/c+wH1WMEX77PQkXL+/59Lt4yHOkA2QoZN4DhGV\n",
       "VEvSMMTHm+lYhQzZqo3P06nQxJAsssLn7Lv4WRshRzcW5vPQc+Y3jjEJLBxjElg4xiSwcIxJYOEY\n",
       "k8DCMSZB24FFKklNyzZhD9v2+9t4fWKbuOtjO7amJKGk+RgHA0u/BF0XX3Pbxbb3YccdLm+u48/5\n",
       "vR/wfJz1Jp7Dsh7i63pQ+HfA3T3MeqG5RZJqslYLYdKRxqKjtc/HojBnaaYR/a+CPoskzRPMW4L5\n",
       "SH3P95mcer9xjElg4RiTwMIxJoGFY0wCC8eYBG1dCPgtJeeiip2LCsKfXVNw78AJGguzbjTFJd9j\n",
       "wYmjnwkyldBRkrQ6iSdF9xuY5yLpBIxFmttC5dGSdH4Gs3NKDRkh5DhDGbgk1TBFvIFp5cdCYLKB\n",
       "z3l3xzOaGirRLvzkt1BuTa7qbsfl5sMQP7d+4xiTwMIxJoGFY0wCC8eYBBaOMQksHGMStH/3z1/H\n",
       "jW/8+Ku47erxS+H66Tq2SamLoiRVYEcvB7Y2xyXWfFOw0MlePoLt3RZ6DlRtfM1DYdhK0/9oIdMa\n",
       "ziFJI3SYbGq24xuYqdMVLOwB7gFauIXeEnT+TWE+Tgszkmg+kyQdFfv+HYWWC//BoHlDfuMYk8DC\n",
       "MSaBhWNMAgvHmAQWjjEJ2ue3cQmwJF0/eYLbri4fh+uHQ+y29F2hPBZKXfdbDnlWgk6ShTLgBkJ+\n",
       "Nfx+DFDSLEl34CodDlwivoGOnQsEU5eZw5erdVyGPcK9lKQJXMXvfvx93OcevoPXLmNXtTTTqO1j\n",
       "93AuOGRqY1dvofavkqYx/g6GTXz/uzUHc6ljqt84xiSwcIxJYOEYk8DCMSaBhWNMAgvHmATtL/3c\n",
       "L+DGDdiHktRBMLFr4/WxNPAJUnY1hAIlaZxjzXcF23tN/QBgSNSuYIcfDnHPg7st16+fXcTXNoMd\n",
       "fXPDQ7+GfXz+bsUWOhnFJydsx3bQ5fIIA6To7yUe1LVM/D2LXOdCmHfoYqv+OMb3jMbYS1IDAVi/\n",
       "cYxJYOEYk8DCMSaBhWNMAgvHmATt1SV0hFR5jPcEXSEpsFgwQbQFJ6otlPRSyJHCn5K0u4tdqha6\n",
       "NZZClssBRn/DuiTNUO68g7ktNEZekirqcFmxQ0Vhys3ApcsnK+jMCu5p6beYrnkpuKcTdIytC3N4\n",
       "qDUruZfLyE4odSb1G8eYBBaOMQksHGMSWDjGJLBwjEnQ7mHOjCQNFbta5HhV4GjQbBZJWq1ih4wc\n",
       "uhcbY7djhvUX+8TXRtOI1xt2m6abuOR8e8cODX2aGu7zA5jBI0kDzJpZCt31JiirpvNLPIdmgaya\n",
       "Cq7mDPe/OEEan4GCqwb7kBN4e3uNhzqCseo3jjEJLBxjElg4xiSwcIxJYOEYk8DCMSZB+ydf/Rpu\n",
       "/O3f+BXcNpDkwFqsKi7Dvt/F3RJLg0s2TWwV14XzTEtsid9ex3bkYU/XJQm6RZ4+4NJlste32/hf\n",
       "AsdCV1AagwPjXF7sA95yCx1OJXTwNYMdffv8EzzWk+tn4fqrL7+G+8wQshyXQik+PIN30LV2t7vH\n",
       "Q52cXYTrfuMYk8DCMSaBhWNMAgvHmAQWjjEJfggDsjmrc7PjVwAAAABJRU5ErkJggg==\n",
       "\" transform=\"translate(1657, 47)\"/>\n",
       "</g>\n",
       "<path clip-path=\"url(#clip430)\" d=\"\n",
       "M1977.24 252.756 L2182.76 252.756 L2182.76 47.2441 L1977.24 47.2441  Z\n",
       "  \" fill=\"#ffffff\" fill-rule=\"evenodd\" fill-opacity=\"1\"/>\n",
       "<defs>\n",
       "  <clipPath id=\"clip438\">\n",
       "    <rect x=\"1977\" y=\"47\" width=\"207\" height=\"207\"/>\n",
       "  </clipPath>\n",
       "</defs>\n",
       "<polyline clip-path=\"url(#clip430)\" style=\"stroke:#000000; stroke-linecap:butt; stroke-linejoin:round; stroke-width:4; stroke-opacity:1; fill:none\" points=\"\n",
       "  1977.24,252.756 2182.76,252.756 \n",
       "  \"/>\n",
       "<polyline clip-path=\"url(#clip430)\" style=\"stroke:#000000; stroke-linecap:butt; stroke-linejoin:round; stroke-width:4; stroke-opacity:1; fill:none\" points=\"\n",
       "  1977.24,47.2441 1977.24,252.756 \n",
       "  \"/>\n",
       "<g clip-path=\"url(#clip438)\">\n",
       "<image width=\"206\" height=\"206\" xlink:href=\"data:image/png;base64,\n",
       "iVBORw0KGgoAAAANSUhEUgAAAM4AAADOCAYAAAB2Hz3EAAARTElEQVR4nO2d2Y8eVxHFT3ffXuZb\n",
       "5pvFsYc4JIEAisAQQRC8IiT+cqQ88IjAJASCTBw7Hs/mWb6lVx4sXqBORS758fweb8+93X27a1o6\n",
       "36mq7Lc//dEEwjTRQ6jr2hwviuKNxgEgpdwczzI6BXluzwH4NWewF2y7zhzfbjd0rauba3N8GEc6\n",
       "J0+lOT7fX5nj908e0rUKslY3DHTOONjX1vf8mqfJ3rO63iPn4Pt/fn5mjn/+xWM6Z7vdmuP8+fP3\n",
       "Zhz5tb3pYvzsQgiKAkeIAAocIQIocIQIoMARIoACR4gAyZOcM0cPHonsyud4UqAdv3nOz9+2rTk+\n",
       "OHJsWdoSLrvm0dmbvT1bjm1mMzonlZV9oEj2uHN+Ku87Mm2H3hzP+JZROZadf+jtcwBABvudSRm/\n",
       "z3yyL877j89+dijIpN75CWEkr6C+OEIEUOAIEUCBI0QABY4QARQ4QgRQ4AgRIHmuZe8Yg8nBg+Oa\n",
       "BWyZuO+5TjoMtuzpOWCZ9M7us93t6FrdSO7TOf+Y3ZnjJXEa13sLulZDrtkxlNOj5FZeHyP3wyR8\n",
       "z9FeV/ZzPjpY0jlMqp45sj9zTtOfIzwJv7ed8/riCBFAgSNEAAWOEAEUOEIEUOAIEYC4C1/TO4a9\n",
       "lNyp/0fX8bXoOZgrDzwXvqyIkRJARkyjTAibLff5+Yl61Dv3yRUq+z4HUgsBADqi+I2OrpYTM6n3\n",
       "LLvOltx6Ur+A1W8AgImYKY8P7JoLALBa2spiRRQyD6Z31s5azH+qL44QARQ4QgRQ4AgRQIEjRAAF\n",
       "jhAB3NRpv1qi74r6X5qmocfYJWxbrlDlRAkZMq4Q9cSUxRJnvdTplNtesaaZ0zkgChWr/jk5Xr1p\n",
       "sueMo6NEkvMkT6Ei+7klqt6us1PaASAnElXmpNXXpX3+uubqKUvrp+PE9wjwZ6AvjhABFDhCBFDg\n",
       "CBFAgSNEAAWOEAEUOEIESJ6s7MnRDJaG6sner9Z2A6er9ZrOYRUzmfkSAFoiO9I5Thp0QQ4tKjsN\n",
       "GgCWJEWaGVMLVvkTQDOzZe+U+ByWOl05xtiCGG2ZAbVz5Ojbqwtz/MX6FZ3D3s+dk9ZOU+ST/RNC\n",
       "7sUASVHXF0eIAAocIQIocIQIoMARIoACR4gAKWrkHEnhwYKk4d45CtmLM1tt6YiREgB6cox3OgEG\n",
       "ZiYsSBo261vjnOh2bbcXB4ChtSfNiS80Jz14AKAjBR5TzZ9nSRQiz+M5trbi2ZCt+eDkPl2rOzky\n",
       "xzOnIuLZmd3i/fr6ms5hZk5WkDB5RTlJWru+OEIEUOAIEUCBI0QABY4QARQ4QgRQ4AgRwO2P47U+\n",
       "r+raHGcS9t2d3RsGAAZSWyAj+eYAMOzsa8s8aZFI71lGjHyOHJ4T82NBpG0A6HtbQr68vrEnOHUa\n",
       "lkRZ70ktAgDIiflxINcFAGVu7/OsIu3at1d0rbqx++A8evSIzvnss8/oMQZ7p9m76f0kIzlaiLeI\n",
       "AkeIAAocIQIocIQIoMARIkDy+hQ3TrVExnpnp87eERUMAEbYKshEerAAQE+UuMIxLBak6zFT20pn\n",
       "sTLZx3JnP7Nk30+3sw2wL89P6VqLQ7tvTEq8p09Z2yrd4ZFtvgSAJtnPsy7s57k/4+c/OfnQHN+1\n",
       "XNV7/Oc/m+M3VzzdumDmXPKcc9I3CeBmZn1xhAigwBEigAJHiAAKHCECKHCECKDAESJAYpU3AZ6j\n",
       "DvDW121n59xvnG7tPTHSZaxXNoAJtkw4jY4cTGTvqrLly5IYWQGgTvYx9z8RuZ+c1Am4uDynSz1/\n",
       "/tQc/97JJ3TO73/3B3P8lz//BZ3z7dO/mONf/PVP5nju7T9penV2+pzOacnPG41TfZRV32w7UsmV\n",
       "1G8AeDMufXGECKDAESKAAkeIAAocIQIocIQIkFh1QwAYBrsHCgCApKH2va1c9E5L7IzEr9fGm/VA\n",
       "GZyqkAVTSIiyWFeeqmYbJr05RbLPM45sn7lCdXpmG0B3jd03CACKB+/Z59/n1Te//7NPzfEnp1+b\n",
       "42fPuDH1m789NsdvbuxqoQBwS/rgdE6KeEX2Lc/sOQNpyQ6oP44QbxUFjhABFDhCBFDgCBFAgSNE\n",
       "gNSR7sEAkE9cbWDFCm9u7eJ6o5MGzfrTwOlUzQ4R2xsAXmBwj3Swni/s9GQAWDYH5vhqtaJzmEq5\n",
       "3dmqUnJSt9fEd3VR2UX/AOCfvd1v5/RLuwcNAGwuvzLHP//ymTm+l/Nn1pHu4nnP343l8T1zvH/5\n",
       "LZ2Tk+ZF7NXw+uNMsH2M+uIIEUCBI0QABY4QARQ4QgRQ4AgRQIEjRICUnJbkNalWCQC71k5ppYY5\n",
       "7ldERg96qdNkLUfCppdA5kwjXyslO3W3rnmL9aKwjzGTqZe6/i65m71ky7cAsL22z3/x8pbOef6l\n",
       "beY8f2b/7NBk3LDJ2rJXJf///eFHH5njq31uZn325F/meE56/QyOHD6Sd0BfHCECKHCECKDAESKA\n",
       "AkeIAAocIQKkMnFVLXcMeyxFuu1tI6NTpw5MI/OiOiep254xtCNpuHeXdq+VYuBXMC9tA+hm46RO\n",
       "ky7aZWkrdIVTKG8+2YrngWOmXZItO3jnAZ2TndnHtk/svWm3pIM2gN1gF6t86hRevDy1zaRHK96H\n",
       "Z9fa72AincKrkquXJTEG64sjRAAFjhABFDhCBFDgCBFAgSNEAAWOEAFS5Rg5q5JryBsi7U7MfunI\n",
       "0Ux0ZdU6ASAjcjQ3jPL27z3pwbJZ39G1rm4u7XNU/H8RM3MuK7sq6PactyRfX1yZ4ye/4j8vNJV9\n",
       "n8Uhl9BX7aE5Pv/avubynL9PDVHKZzWvJPrN1/82x799ao8DwP7cNrPWlX1tzXxO18qJCVpfHCEC\n",
       "KHCECKDAESKAAkeIAAocIQKkqubde5Nj8lyQKpfLpW2+W1/x9NyBqGdMOfuuY29KRwyr42ZN5+zw\n",
       "0hy/2XEljhlTV42t6iwyrpDtL2zl6PLpEzrnHH80xx/++jd0TjW3DZMDS5F2+iCxY6ng79nxoV0Z\n",
       "dRq5EpbIq5FNpOs06ZsEAH1uK3H64ggRQIEjRAAFjhABFDhCBFDgCBGACRAAgJYUHQS4qnV0dGSO\n",
       "X6z5WsPOVm4iXae91Gmm3rG1etKDBgD6jZ0GvHlle8gAYCSpu3eN7fta1rzoXkNSek8f8/MPT78x\n",
       "xy+vbIUQAD79+H1zvF7bKdLXPX/OU2bvcyLjALBakD0Y+bNJuf1uDp3tr2xbfv6RKK764ggRQIEj\n",
       "RAAFjhABFDhCBFDgCBFAgSNEgFQ4lTzrmh9jtrhj2DLpq7UtBQLAi7MLc9wz39HUaUdf70nvnp60\n",
       "ns+dSpo5kbBHIoUCwEj2c0PmsPR0gMuktdNTpziz072zl/b+A8Ank20APZrs/7k3Xoo8kePLnD/n\n",
       "nMjuE7l/AGCFOVNjS9t9R3o6AViv36z1uxDCQYEjRAAFjhABFDhCBFDgCBEgjVQfA0aikAHASFSl\n",
       "urBllZMVT3VtSeG/S0eJo/1xHKjgxBQ6J6V3IErc5FxWzg629jNwml7TE3np7geFfc0P9/hFN8RM\n",
       "mTI75b4h3bgBICd1Dxe8hiEKsgn9lithI+xjHTF59o4xuGjUH0eIt4YCR4gAChwhAihwhAigwBEi\n",
       "gAJHiACp6+x8f4C3ZPdgxswycWmb9S3JSV6/d55x4vI6o2AtuYkpEQCIxxHDxGVSao0d7Dz9PafK\n",
       "6oP7dk+ZB4d2hVUAOCDr7Se75gEAvNqcmuM97Pfm3jGvk5BqsmlenYLW3s8C/OcN1rF+HO21bm55\n",
       "ldnzC7uVvL44QgRQ4AgRQIEjRAAFjhABFDhCBEjMrPhdsA7KzPzJ/h4AFqRLMJy0bqb4bbdciduR\n",
       "VOSeqDqDZyQlittEerAA/L8U63Xzww/eo2udPHjHPsfI778h1zxvuMty19sG3ETMj0XynKmEnL+D\n",
       "eUXOQ5RQAGhH+7mdn9oK4d//8RVdKyMmV31xhAigwBEigAJHiAAKHCECKHCECKDAESJActKtAaex\n",
       "E5ODmWm0KLi0fHx4aI7bjbr/ux4xZjqy9/m5bdi7IOOdszk9qb45nxFpHcDB3DZT3j9cmuPvv/uA\n",
       "rpUTM2m3cxL4afVRvmcH9+1nw7amdaqPDkTa7R1jbk7qPpQNf58WZJ+vCntvHh39gK513Nhvob44\n",
       "QgRQ4AgRQIEjRAAFjhABFDhCBEiejzHLnNRhIquUpa1csH42AECKf9K22wAAYvJbLPfplMXcTrdd\n",
       "EZOl12wnNfacjz/+CZ0zdrYB8+bCbpdeOfffVLZyNCSuqnVECR2dPkS3t7bJs6nsspyVc/5xtN+n\n",
       "wlH1SvJyZFxUAxNwf/z+u/ZaTk+hYaf+OEK8NRQ4QgRQ4AgRQIEjRAAFjhABElPHAK6ceceYVyw5\n",
       "BQkz5olzRLWWHOx6rhDtL21P2Iyk57bbNV2rJqraw+NjOufF82fmeEa6W9clLxS4Iuph123onB25\n",
       "n4hfsS7t/fcUurazU9TLkjTOAQDiyeu3PEV9R/oqpWS/m4PT1GjdkfeczhBCUBQ4QgRQ4AgRQIEj\n",
       "RAAFjhABFDhCBEiZY7AbnSqftF050TZZqjMA5MTI17ZO3xQyZ+fM2ZG04pqYKb3+QCWRXb057Bgz\n",
       "wG42XFruibTrtWuvKtv9WFW8Dw89f28//92OVxJNpJX7YsF7+rAW68PA+zplpC9825Jr6/meddf2\n",
       "HH1xhAigwBEigAJHiAAKHCECKHCECJA8tcvxWLqF/yxYx18AGEmb4H7gClXLlBDH5Nm3tkJTZvZ5\n",
       "Sid1eW/PNnlWJHUcAFpyfl7cke8xO0+W8ftniifrG+TNYUpgXXPDZl3be+YZQxPpkVSwfHsAZcnU\n",
       "Q3vPxpErdMulvZa+OEIEUOAIEUCBI0QABY4QARQ4QgRQ4AgRIL1NyRngMqXXFn4k/VFmsxk/D8kF\n",
       "3zmGPSqJB/597O/bOf+VI8fSKyMHvJoP7NnM57w/z0Ty910JnfQ7YhVbvZ83evJTwdYxs7ak+ikz\n",
       "rAJAkeyKrezXhdH54WXbqZKnEG8NBY4QARQ4QgRQ4AgRQIEjRIA0EIMl4LaHoaoOr+TJVZAdyXbe\n",
       "dVyJy0nvnppUawSAorCPjSQNdyRdigGgIlVBJ0ehWh4cmeOsU3PhmEwzUn2SGVkBoCZK1HyPK4He\n",
       "MQvWdRwAusFWyGonc3vW2NVMmz1e5ZT129lu7WurnXdza7cH0hdHiAgKHCECKHCECKDAESKAAkeI\n",
       "AAocIQKk2YzLel4lTZYnPo7MmMgNi8wYODo1B2qSP87MhwA3k27W9nnqhkuxl1dX5ri3ZyB7tpjb\n",
       "lSwzxxhbk+qb8xk3WVal/X8yc0yOA3kGzMzqGYOzjDRpcn72KEhDMq8ZVk307TkxDV/f3tK15kv7\n",
       "2eiLI0QABY4QARQ4QgRQ4AgRQIEjRIAEcJNnWXKFZhxtKcRLnWUMRG3y2njP53Z6rEdOXKslGfcq\n",
       "TN6en5vj7fUrOmd/aV9zRRLYK8dgydKqSef31xDTakWqkgK8D85mS/rGOKoaa4veE7UTAGaFrZAt\n",
       "nZ467LkxY2ixx9fKKnuOvjhCBFDgCBFAgSNEAAWOEAEUOEIESHD6qbAUVIB7iKqKeJicPGxaKNBR\n",
       "iHKixGSO8Yl5mJraVpuGjnvl2N54BR4n0im6JkUEPR+h1x+GsSNp8hNJKQaAo6NDc3x1fM8+h9Nr\n",
       "54YpjsTD9vo8x+b4waF9XQBPq2d9c5BxJXjX2fusL44QARQ4QgRQ4AgRQIEjRAAFjhABFDhCBEgH\n",
       "Byt6sO+5TMnMnEwkdVNqJ9JG20kdnpiRz0l3TkRCH4lhMtVcDs6Jm3JyDIsTkV1Zi/VEUp0B4N47\n",
       "tky7mHvP095Pr2Ire87sedYNN4w2xLTa7PFSngcru/rpZuPI3nd2+c2KpJvPHJPnam73QdIXR4gA\n",
       "ChwhAihwhAigwBEigAJHiAD/ATj6DmQ4VK04AAAAAElFTkSuQmCC\n",
       "\" transform=\"translate(1977, 47)\"/>\n",
       "</g>\n",
       "<path clip-path=\"url(#clip430)\" d=\"\n",
       "M2297.24 252.756 L2502.76 252.756 L2502.76 47.2441 L2297.24 47.2441  Z\n",
       "  \" fill=\"#ffffff\" fill-rule=\"evenodd\" fill-opacity=\"1\"/>\n",
       "<defs>\n",
       "  <clipPath id=\"clip439\">\n",
       "    <rect x=\"2297\" y=\"47\" width=\"207\" height=\"207\"/>\n",
       "  </clipPath>\n",
       "</defs>\n",
       "<polyline clip-path=\"url(#clip430)\" style=\"stroke:#000000; stroke-linecap:butt; stroke-linejoin:round; stroke-width:4; stroke-opacity:1; fill:none\" points=\"\n",
       "  2297.24,252.756 2502.76,252.756 \n",
       "  \"/>\n",
       "<polyline clip-path=\"url(#clip430)\" style=\"stroke:#000000; stroke-linecap:butt; stroke-linejoin:round; stroke-width:4; stroke-opacity:1; fill:none\" points=\"\n",
       "  2297.24,47.2441 2297.24,252.756 \n",
       "  \"/>\n",
       "<g clip-path=\"url(#clip439)\">\n",
       "<image width=\"206\" height=\"206\" xlink:href=\"data:image/png;base64,\n",
       "iVBORw0KGgoAAAANSUhEUgAAAM4AAADOCAYAAAB2Hz3EAAASnklEQVR4nO2dS4/cSH7Eg2SSrKqu\n",
       "6rdGWsk7o53Z8cELGAsYvvrur+GPa3htGD54jfXKO6PRtNTd6ke9+fZhrhEJOCH4FL9jFpJJJhlF\n",
       "IPh/ZP/4T/8wQZAhVz+hyPj4rKjo+KKcyWM1w0DH18eNnLM4OaPj/dDpddo1HX/18g0db1t9rMeH\n",
       "T3S8ygo5p8j5Vnf9kY7Pykt5rOurV3R8u3uSc5qmp+N5Vso5u+OOjvc5P1aWiwcDQAaxTiYfQQwj\n",
       "35sMes4iLOj4cr6i42Wpr38cxZ7JGcYYiYVjTAIWjjEJWDjGJGDhGJOAhWNMAiHi6mGEtmNHcJsu\n",
       "TNxaniIa7ZTtO+k5TdvS8bbdyzmZsoM7vn4r1gCAQliY46Q3dJr4npU1t+oXJ9xWBYBh5Pt8ODRy\n",
       "Tp5zq3wU5wXof9YSgY5no7ajB2E7x/YMAz+DAnqdUPF7k2V8Tuw+T+J59hvHmAQsHGMSsHCMScDC\n",
       "MSYBC8eYBCwcYxIIGXQ0L/JR/5TzKGiI6OB+0JZjCDUfh16/aYXtGom0zYSFOgzinLVLq8kj/0UT\n",
       "X382O6Xjal8AYLvlkePjGLl+aQdzyxWIRDuP/N7kkejoUKhnQ68/intWFnz8l3X4b7n4HNF2PAIb\n",
       "AIbB0dHGfDEsHGMSsHCMScDCMSYBC8eYBEIkvA55pnWl6hFMwqHKC53XDfVbrwMWC+FeTZHgv1LU\n",
       "PRh7Pmfstasnc94z7fbMKu6eVSV3KNfbgzwWJn5uRdDrq+uJBUyqu9YKt2nqYzUX+G/1TNejqCq+\n",
       "N1nk2eyFHdq0fD8Ph608lsJvHGMSsHCMScDCMSYBC8eYBCwcYxIIoYi4E5NOne47lW4q4qtEaBug\n",
       "01NHEQ8FABBpsLE5JzX3iGYVd3t260gadsHPuQhzOWc246nQbfdMx/tBX0shKqaWpXbV+oG7lGUk\n",
       "vu98dULHD3u+l+/+/JM81v2Gx9ddfnUt57x9+zUdF9nmAICm4depYtJUSjWg99NvHGMSsHCMScDC\n",
       "MSYBC8eYBCwcYxKwcIxJIMQaMU2RQLpxEBae6DiVRYI8RbwixkzbsZOoMjpBp+EuFjzIchLBj1Nk\n",
       "b0phbdczne68P/AmTVUhmjRFrr9pxZxa2+G5SF1+8+orOacWc27aRzreR6KG7+/4nPvP3I4HgM0z\n",
       "D8D8m7/9rZwziU8FslGY7Whj/n+wcIxJwMIxJgELx5gELBxjEghFJMhzGPVvZeC/1RWPvivFOAC0\n",
       "oj9NFrTbMXb/dycqL/g5bLe8xfkUKe6Xi9TtIRJkqnoElcJx3A66Xb061kKkGgPAX/2Kt3hfVLoP\n",
       "zx/+8O90/P3NBzoeIqnbiwUPGO067YQ+P3LH7ccf+PoAcPWrF3R8yPje5LleHyV/Bv3GMSYBC8eY\n",
       "BCwcYxKwcIxJwMIxJgELx5gEQh7r1y76ifwyUwRtCmt1vddVOTvRejxmByvXV+XiA0Anqk9u9jz4\n",
       "EhFrdRDnNgprHQDKggeAtg2fM0ZqAZQ1P7c311dyTiV6FL1/fyPnfH7me9Mc+f3sct36XMUML5b6\n",
       "U8Uw8r15ftaBodWc2+ulCMCdnUUKYoBfj984xiRg4RiTgIVjTAIWjjEJWDjGJBAQca6CCOQEgEL0\n",
       "dClFIOXhoN2mQaQoRxoYY5r4uclu2AA2W56G247cbZuLoEQAaDte5bMu9X62Da8kOXTcocoj3YvO\n",
       "l/zcpkgH558/PtDxD5/4OAAUJd/naq7us65+ujpf0vEp4uxWNb/Oq6/O5ZzZnLtn1UJ0Hc90e/G+\n",
       "dZCnMV8MC8eYBCwcYxKwcIxJwMIxJgELx5gEQpHrypNVrqtvhlxUOBQtufssYkf33KYdI1U5Vbt2\n",
       "Va0SADrRDOvy4oKOx6qcdj1v/V1OsdbnouZAxatvFrW+ltOC27R3EWv5x7/wPP3Nju8/AEyihkEh\n",
       "OjuFyOeNQQTzxqqfvnjF6wcsziLPrdi3asYjg88Wb+SxarHPfuMYk4CFY0wCFo4xCVg4xiRg4RiT\n",
       "QMgj7b2LWFa1GO9FkGEv0pZjBOGcAUApgkxj6c7KpapFxdAycspvX39Dx1fQTuRxz92rRgR5bvY8\n",
       "KBUA/ufmHV/joJ3ItUiDXkfW6UW+85TxfY6lu+9Eivrb776Tc04vXtLxZSTdWcXmrk54f6Tfvfk7\n",
       "eay7e95+3m8cYxKwcIxJwMIxJgELx5gELBxjEghDpOPukOlYKRWrNooOzuOk3ZZMODS1SNsFgJmI\n",
       "oeojRfwylQYs5nz/61/LYxUdP+f3d5/knI8Pt3T8KAoSbjfa7Xp+WtPxKtLrZiYK9cX2rBWVH7PA\n",
       "n41QaFdTGW7HSFr9wz134s4vVnLO0POYxAJ8zn+/+6M81vaZ77PfOMYkYOEYk4CFY0wCFo4xCVg4\n",
       "xiRg4RiTQAiihTUALJaX8rdp4jbl0PHW59WMpwcDQDHwqLzZXOs6n/P19xudOvym5r1j/voVt51v\n",
       "P2hr+U8qDVn0jQGAO2FHr9fccn1+En17ADQHbrmenZ3JOZfXPEW863U0a1aoiqn8M0aotB19csKf\n",
       "gW2k181CPDfbR21HF6LF+nF9T8eno97nKxEY6jeOMQlYOMYkYOEYk4CFY0wCFo4xCYQiUsAvj6Qu\n",
       "q67PEEGjKigUAOpS9DOpdPDfvuXBd/O5Tl3+7uVXdHwp0r3/5ecf5LE+Pj7S8TxWxLDhRQxVB+eq\n",
       "0kX3zs+443l5pZ3QTHQR397xvYydg3LbgihICQBdy/dmr7p+A4AqSjlpN3hWcpdW9WFanOheO5cX\n",
       "fD/9xjEmAQvHmAQsHGMSsHCMScDCMSYBC8eYBELX66DE3Y4HbALAJPrAjAP3qacpUhazEEF5nc65\n",
       "L8Dt7d+9fi3nnGY8YPCf//O/6Pinp408lrLjD0ddwyETrezrGZ8zX/AAQwC4enFNx6dIbYe+4/eg\n",
       "muk6BV0n+gANfP87Ua0UAHJhYS8veBt3AKhPuO1cFtqOnnr1bPLx5ZkOGEUQQa56hjFGYeEYk4CF\n",
       "Y0wCFo4xCVg4xiQQ8iKWNqt/Ox64e6JcnSrXfVvGjDt7ba/nfHPJU4S/XWmH5PaRBxM+7HnwX5br\n",
       "Yy3m/Dpz6D2bGu7SrVbcbbu44EGpAFCUfM7xyF0wAPLMwlxfZ15z90qlTk+RyrCHDd//xYlev665\n",
       "4zaK9QGgGfmVFuLcmkY7gU8d/81vHGMSsHCMScDCMSYBC8eYBCwcYxII86ALBU4itggARpHSOky8\n",
       "UN5QqFxroBPm2UXE7bma8ZTeW9E3BgDe3fACg/e3N3R83+i4r1E4N6rrNgBUM+GenfOCiEXQaeAb\n",
       "EUc4jtptEq2LgMDPCwCqnP8WMhGTKHPqgetr/qzVtX4Gq4r/VpR6b/Z77iyuRKfyaeTPLACMIuXf\n",
       "bxxjErBwjEnAwjEmAQvHmAQsHGMSsHCMSSBUk668uI2kwY4Nt/CCKNhZl9pyXIrW63OR6goAP73n\n",
       "lTQ3h72cc2x4MGnXcAu5yLRNOz/hwYeLE52GfHHFgzb3e257b7baWm9ExGbEDUYv06r1PiPjz0cm\n",
       "2rJ3g7Z21Zw6UklzvhT9aQr9qaCu+fugrkSVWV1kFuPIr99vHGMSsHCMScDCMSYBC8eYBCwcYxII\n",
       "ZdCuWhi0c1GKIoJXK+6CvL7ShQKXIpjx3R//JOd8/Mi7SxeVDv77+uvf0PHV8hUdP0Ysqkysk4lC\n",
       "iQAwCJdwmrjbN59rVw/CoWpE0UEAaCLFJxVBFOQbR+5E5mWkD1ItuovPdDBvWfE9yHPdh2hW8nPu\n",
       "RIr02OrnvBLPpt84xiRg4RiTgIVjTAIWjjEJWDjGJGDhGJNAyCKVF+dz3YNkALcDD6IPzo83P8lj\n",
       "lcKmffubb+Wc3//+7+n48aArWdbCwj2I6pfPvbY8f/zMAzA3Gx0Y23fc9iwy/v9VRKpV1sJynSJ/\n",
       "hbnIuR8jtrvqaZNlfC8z6Bbzdc2t5cVCW9jK3Q6FXqdvuVXeHfm9ORWVVAHg/PyCjvuNY0wCFo4x\n",
       "CVg4xiRg4RiTgIVjTALhea87O/eTrkqpHJqjKBd5MtMdlL95wQNA37x8qc+t445Xs9ep04+PPN16\n",
       "FOnBnzd6b1QfoCKS0tuK1G0VSztBu12qi/eoyqICmERH8DoSGKuMvTznc0IkDznUIsg1f5ZzxG3G\n",
       "Iuh060x0yn59zXsqLU51Wn/b8p4+fuMYk4CFY0wCFo4xCVg4xiRg4RiTgIVjTAKhbyPtxWXlR2Be\n",
       "8oqVlwseMLd/4K3KAeD9/gc6fn97J+ccRLv4WJ7+asWrb35+4uf2ELGjjy23lo8ikBAAOhU0Kra5\n",
       "E63CAWDK+H0bdFwqJhEBmk16z0LBbed6wS385Yk+1rblnwMOe10LYbXg1U/7jtvEAFAFbrsv59x2\n",
       "fljr+9y0fEP9xjEmAQvHmAQsHGMSsHCMScDCMSaBIAwIAMByzisvAsBw5G7Duz//hY7XtU7Dfvvd\n",
       "WzreT9pVWiz48b7/7fdyzs3dLR1f77mrtmt0GvZRtASfIu3ap4E7YW3Pe8pMoiU8AKDgN27MdMBm\n",
       "oYq2ZtqKq+c8aHN1xsfHUbtdz/sbOn559ULOub7kVT7X95/knI24NzfiPdFHygfsdg7yNOaLYeEY\n",
       "k4CFY0wCFo4xCVg4xiQQFjOdNppPka7PN9whWS55PNjX377V6wQerNV3OoZpvXmi4//6H/8m52w3\n",
       "3G0Zc9UDRndQHkVPm6ACzwAUYh3VWVmlRwPAQaT0lqKDNwCEkjtu46RdtX7kcVybHZ+jXCgAKCq+\n",
       "NwHaCbz78DM/r4jjOQj3clzy9VVKOQAEUSzSbxxjErBwjEnAwjEmAQvHmAQsHGMSsHCMSSBkkR4s\n",
       "QyRg8erqio6/eMFbnyNibR923Frc7HS69eMT708zjnqdkIsqkyL6MYjeMABwsuD9WbJIi3uIVu7K\n",
       "DO16faxaVFJdRgIW+5FbyEfR6wgA2pZb8oM4Vhv5hDANfJ+7Sq8/zfgzeGz0s1GIPkiPj/wTRiYq\n",
       "uQLA+Zn74xjzxbBwjEnAwjEmAQvHmAQsHGMSCCqIDQBQaIfm7Iz3Guk67hE1e+2cbHY8kFAVgwOA\n",
       "Iueu0hTp6aP64DQNnzOvI2nIwiHrIoGZKsjycOAOYS/6vADATKRI96N2iLZ7HoAZK+J4ecrTmvMl\n",
       "v/4PNzwoEwCaVgTzRoIss4LfGxV8+svxxDMtnMhGdB0HgLbjrqLfOMYkYOEYk4CFY0wCFo4xCVg4\n",
       "xiRg4RiTQOganVdfz3ggI6BjNjsR5Pf4xAPsAOB5ze3YKmIHj8J2Phy0tRhEPn4ugjn3kdbvpQwM\n",
       "1e3KDzt+vFCK4M9O/68pq77JtR2/PfB787TTFVMfttzCHjM+p1c9gACM4hPCU8b75gBALdrC7yPn\n",
       "PJ/x3k2qtsJur5/Nhyf3xzHmi2HhGJOAhWNMAhaOMQlYOMYkEIagtTNE0qpVq+SH9Wc6fvfAxwHg\n",
       "2HCHpO60q1dV3G1ZLHRl0izj59x23O3KReVNAJiJrstjJGBwaMUcEfwYSzfvO3Et0EGmg3D81vt7\n",
       "Oef4xF26MvD9L2QTHuB4fKbjp6faCWyP3Ak8X3LnDAAw8XPY7/n6WcSJrEt+D/zGMSYBC8eYBCwc\n",
       "YxKwcIxJwMIxJgELx5gEdEQigD5SyXO35TnfTyKYs4vkz+cZt1DLUufCVyIwso00HIJwd8eRX+ds\n",
       "obenEO3Su1EHH6r9bHu+zqeftU2sAhZPzniTKgAoAl+nDNr2bzIRBDzxOc9PusLm6Sm3kEtRCwAA\n",
       "tiLI9LDhgcGA/lRxeXVOx3PtoOPuM78HfuMYk4CFY0wCFo4xCVg4xiRg4RiTQIi11+46nQa7FunO\n",
       "hbAoVDorAEzgTth8pl21puHn3fU6FXwSsZSqvff5xUoeS8SLItLSBj14wOJydULH8zcv9bFEinIs\n",
       "MDWU3An7/Kwrac5PhOM18PVfv+GVPwHg+gV3tZqD3rRePINjr93L45H/dnfHA41jrloh0ur9xjEm\n",
       "AQvHmAQsHGMSsHCMScDCMSaB0EUKyMUcN9WNOA+iUF+trYtx5G5PE0kDbsDjvoqZjnsaRExaXfD1\n",
       "+0jqeCPss7HQTuBKuGd9y69zvtD/a0XBjxUryKhShLMs0lNo4Pd5dbKk4y9faidQrqOXRxCp2Ju1\n",
       "LhY5X3AHV7m0t7ef5LFU+yi/cYxJwMIxJgELx5gELBxjErBwjEnAwjEmgdCO2o4eoIP/plwE5lV8\n",
       "vJrpNOTdhq+TD9oOVum2QyTdOxPt2gfRLnwX6Y+zEHbsXLRRB4DjngcfDiO3o4NIdQZ0uvdetGQH\n",
       "APXpIeJGY1bw67m+5sGcdaXTsNeiymvf6v9vlW5+7PSnimLkz2AnHuddqzdgGsWzKWcYYyQWjjEJ\n",
       "WDjGJGDhGJOAhWNMAv8LNiW+l+GEMtwAAAAASUVORK5CYII=\n",
       "\" transform=\"translate(2297, 47)\"/>\n",
       "</g>\n",
       "<path clip-path=\"url(#clip430)\" d=\"\n",
       "M2617.24 252.756 L2822.76 252.756 L2822.76 47.2441 L2617.24 47.2441  Z\n",
       "  \" fill=\"#ffffff\" fill-rule=\"evenodd\" fill-opacity=\"1\"/>\n",
       "<defs>\n",
       "  <clipPath id=\"clip4310\">\n",
       "    <rect x=\"2617\" y=\"47\" width=\"207\" height=\"207\"/>\n",
       "  </clipPath>\n",
       "</defs>\n",
       "<polyline clip-path=\"url(#clip430)\" style=\"stroke:#000000; stroke-linecap:butt; stroke-linejoin:round; stroke-width:4; stroke-opacity:1; fill:none\" points=\"\n",
       "  2617.24,252.756 2822.76,252.756 \n",
       "  \"/>\n",
       "<polyline clip-path=\"url(#clip430)\" style=\"stroke:#000000; stroke-linecap:butt; stroke-linejoin:round; stroke-width:4; stroke-opacity:1; fill:none\" points=\"\n",
       "  2617.24,47.2441 2617.24,252.756 \n",
       "  \"/>\n",
       "<g clip-path=\"url(#clip4310)\">\n",
       "<image width=\"206\" height=\"206\" xlink:href=\"data:image/png;base64,\n",
       "iVBORw0KGgoAAAANSUhEUgAAAM4AAADOCAYAAAB2Hz3EAAATxklEQVR4nO2dyY4k13mFTwwZGZlV\n",
       "WXN3dVez2SRbJimKkiATJmQYXlnwE/mV/ABeaeOFLRswZMumRZsD3KLInmrsGnKOjNELbs8JQBdc\n",
       "nm/5JyLujcg4GcDJf4j+/h//roMgiiL1ESLwz4pNQeNd18pzxTGP56ORPCYfDmm8LCt5zKZc03gy\n",
       "5Hseb/E1AABdQsNxxOMAEMUpP6bm8UTcYwAoqxnfFvT1RxG/0Ys5vy8AUNT8extvT8T64ssEULb8\n",
       "XMsVv/8AcHO3ovH//uyFPOYPX4t702zxeM+zOdke0Li+SmOMxMIxJgALx5gALBxjArBwjAnAwjEm\n",
       "gDRJtH3ZCvsQAAZZRuPZkMdj5Tn3fNZ3TNc1fF8D6a4jTfne2pafq9vIU6GuaxrPxfV/vzf+Wd3w\n",
       "9dOhtrZH4x0a35Tcvv0efr6y0vdstV7S+N1yTuPzJb8vALBa8efp7OJaHvPyBf/s1XO+PgCUa2E7\n",
       "N9zeb1p9/dMbvr7fOMYEYOEYE4CFY0wAFo4xAVg4xgRg4RgTQNqW2vLcbLS1mAprM895RnMU6XMl\n",
       "Cbcpk0TrWtnBfT8FWSqynTueAdvU3CYGgKrkGb1Voy38dMQ314p16kTfM0R8na7TN6BYlTR+eTGV\n",
       "x5zd8s+mC36um2vt4S+WfG/TGT8XAMxu+b1ZL7TtP8q4VV+LjPbNRlv4TePsaGN+MCwcYwKwcIwJ\n",
       "wMIxJgALx5gA0q3hPflhX8k9RF7cVrZN43W7kKdqO14jnsba8euEq1RutKuTZPyCkkS4asLtA4BK\n",
       "JEaWpXbiIHo4pKlKvtS9AMqKJ+cOBvxaAL3n2xueyAkA11f8frYRd0/jbqzXX/M9d5XuLTEc8ITN\n",
       "cqD3nKTi+xTJtFGkkzyzzK6aMT8YFo4xAVg4xgRg4RgTgIVjTABpsdQu1P7envwsFnlkWcKdq7Qn\n",
       "76qLhNvR08lSOVRFq/Oe1uJam1jsLdHr18LVW9e6K2Wz5O5NPuCdPNcrXR7ctPxadnb0d5Zl3PE6\n",
       "vv9IHpMO+TpVxZ3AqtFW7Cjj1/P8xaU8ZiPKrZOE3zMA6Dr+DCSpONdAPzONcC/9xjEmAAvHmAAs\n",
       "HGMCsHCMCcDCMSYAC8eYANKiuJEfzkV5LABMJnywUFlxO7btdMfQ4ZBbi40YagQA6PgxZaFt79mC\n",
       "26Hb97lN22eH16JEOhbXAgDzFU90rSp+zGrOk18BoK65TTwe8e8FAIbC9t7Z4qXGALBev6HxQli+\n",
       "MXSSaxrz6xkNewZbiQrputa/+Y34SyISQ7fSQU9irugY6zeOMQFYOMYEYOEYE4CFY0wAFo4xAaRI\n",
       "dZLntCcBdLrkc0O2xrx0uqcKGrkonc0Gugy3BXfvkqF2wtINL8Ntil0a34gEP0A7bk2jy3DbmidA\n",
       "dlv85oxEHADSjruHWZfLY5pCuJSVbu63HZ3QeJ7zRoWbWjuxpxu+frTRrlYstjzK9XW2Lb+ecsP3\n",
       "1sb6melEoq/fOMYEYOEYE4CFY0wAFo4xAVg4xgRg4RgTQJpmPd0yK51k2bXcpluuuU0cqbp+AFXD\n",
       "bd/9Pd3hsWq4tTgcaZtys+Y25X/92wWNf/XlN3r9iq+/WulZK2nKkywPHx7Q+Lvv6S6rP3n6kMbb\n",
       "SHfyTDJula+X2kJe3vLvYO8et/DjWPdJ+ODpRzS+v6Pn83z17R9p/PxKHxN3fM9Jx5/ZQdSjAfE/\n",
       "it84xgRg4RgTgIVjTAAWjjEBWDjGBJCOxzqRcjbTM0hqMWtkOOSJjKtCz8fpwF2d+Vx3hdyUfG/D\n",
       "gS4D/s/fcofm1//wNY2vFtpVrBvuEtaVdg8j0X00+Zqv88V/6Ht2/nPuXv7qbz6Wx+wfc8dtOjuX\n",
       "x1yc83Lnw5NjGo96yt33j/iz9vAxPxcAnLyzT+O/+93n8pjrK+7sbUQyadEzU6kVTpzfOMYEYOEY\n",
       "E4CFY0wAFo4xAVg4xgRg4RgTQKrGfgPAQIy9BoDZlFuldc0TCYtSJz+WJT8mgk7YnE55kl9d6Ov5\n",
       "/LOXND6/Fcl/iba2IZI847YnMbbjn1U1t2lnhe4K+uXveQfW3bG2lv/ir35K45uV7pNweva/NP7W\n",
       "jO+57HT30fKOPwOTXX2fd3b4XxKf/OIdecz1Ff+rYj7j69/e6cFWdW072pgfDAvHmAAsHGMCsHCM\n",
       "CcDCMSaAdN1T6juZ6NHfW1u8Y2dRcLcpG+iEzU50pYx7SlrThJdBX13rWSsXp9wJTFW5casduk6U\n",
       "brci+RUAWuG4dWL0eyxmAAHAVIw1OnulExbvrnmJ9ulrfczFBf/s9ekVjZcdL0MHgI1IAD2seSIn\n",
       "AMQxfwazgX42jo/5sznZ5t/zINPPTC1ydv3GMSYAC8eYACwcYwKwcIwJwMIxJoC0r4HeYq7dhrVw\n",
       "z0Y5n0GT57q5oCopjmOdK7e3xx2i//uC56MBwPRONEsU5bER+sqg1WRj7apFEHls4lxtp3PI1uKr\n",
       "ubric4sA4PXpHY1/8w13yADg7pY7i2vx2Ax3dSn+suTrz5Y8DgA7O/wZKHomoicR30NdifvZ8/pQ\n",
       "ZrDfOMYEYOEYE4CFY0wAFo4xAVg4xgRg4RgTQFrV2j69vdE24WzKy1NVYmie6yTPnQm3lqtSJx8m\n",
       "KbeQLy+0tbpe8fPlMd9b1DPGW1nY/QjbW9jO0r4G0HbcJj6//E4e89nn/0LjV7fcpgeATMyH2Wx4\n",
       "AmpXaAs9Sfl9Ljb6L5H5kifm3r7RXWZ3JnzP6u+V65s38lx57vk4xvxgWDjGBGDhGBOAhWNMABaO\n",
       "MQGks7l2NLJcJ+zlFXeIZnPu0Mzmugz5bsYT9g72dEltEvHS6TfnOjFVGFFoM+EqdT2/KxF3lSLo\n",
       "kt5YJYCqZE5tUCESDt18rp3QL37/WxofDCbymJP9xzRe3fFmkU1PE8lqwF3NJNcOZVGJ+5nqddJc\n",
       "lJyv+TplqUvU45ZrwG8cYwKwcIwJwMIxJgALx5gALBxjArBwjAkg7ZkujjjVumqEVbtac8s1TrTl\n",
       "WHXcEh8sueUMANsZ79ZYrrQd3Ak3uAG3Sbuuz1rWnylU0mYUqURbneQpE0Z7DqmW3Kof9HTFzLe4\n",
       "J57XuzR+e8tHpQPAdzevaPyd9/XfDs0uTwxNM92PAgnf8/GD+zT+1oMP5anmb/i5/MYxJgALx5gA\n",
       "LBxjArBwjAnAwjEmgLQWM0sAYH3XVzotJvjecudmmGuH7J2nj2i8WOqS3ufPvqTxRU9n0i7mDknT\n",
       "Cscv0r8rkcrLFJOlv/9QzAES+1IdTr9fh8eTnnLvLuHuWV+J9lCYVwsxoGcz1Pd/Z8TL6rcG2lX7\n",
       "8n++ofF8rF21+/d4N9kH9/n17x3qc+2KPfuNY0wAFo4xAVg4xgRg4RgTgIVjTABpmvS4E/eP5GcP\n",
       "jrmtc33Fc5UqMaUZgHSbhpluYrhYX9J4pA9BPuHXWha6rFvRisQ3NUH7e/g6TatctT/9d63XiRNW\n",
       "YCRcPQDYlPz7/Pa7KY1/8quP5bmyvQc0vt7wcwHAZMRd2ulKzwG6vODHXJzxidhvP9LrPzp6n8b9\n",
       "xjEmAAvHmAAsHGMCsHCMCcDCMSYAC8eYANLdXT6bBgCaRtu0azEvvBa282SbJ94BwCAT+u20t3zy\n",
       "mCeGxom2vafzP9B4cc5nrTStXj9qubXdqfpsAGjV/VR2dE/ptkjmjHp+C2PxUVXrOUQvL57T+K6Y\n",
       "KTTe1XveP+bl7lcXOpn3/fef0vimeyiP6Vr+bF5dnNN4UejE1Omcz87xG8eYACwcYwKwcIwJwMIx\n",
       "JgALx5gA0vNzniwJAHWj3YbhkM8UaUQVblXq5MdssEPjs5le/97xPRrf3tNJjouCl4KfDvnebs70\n",
       "ZONqzd27rve36E+cj9MzIKcTU69b0agQACASQJuedeYVd6i2RG7wquEl1QBwvM1nzTwVM3gA4HbB\n",
       "z3d3rhMz84yX6f/Zjz6g8bjnOxtEfA6P3zjGBGDhGBOAhWNMABaOMQFYOMYEYOEYE0D66uWp/PDg\n",
       "SI9rPzzkHQ4XC25fXl7oGvH18orGe9Il8f5HfP1kqJM8H73Lbe9xwlf6eq3t6DdrbpV3PU0PVD+A\n",
       "TtrR+g606jdP9C8AgEh1+ezpU6DyXA/e4snB0Uj/7TAreM1/OtSJxoOcn+/gsCdpWHwHScxt6qjR\n",
       "15+k/G8Xv3GMCcDCMSYAC8eYACwcYwKwcIwJIM0y7Zzdv6fLU7MBdy7KDXebLs71rJ3rNwsaf/Q2\n",
       "7/wIADc3PDl10eeEXXL3rqy5e/XkA71+WXOH6OZMl5unkZoRxDNj+5Ivu0isIxxCANje5gmLw6F2\n",
       "lR68fULjn/4179i5e6DXX294wuZqpZ3IQTqi8cnWRB6TD/h1Xl+JDp+n2vHNR7wU3G8cYwKwcIwJ\n",
       "wMIxJgALx5gALBxjArBwjAkgffzoHfnh9pjbegCwEkmOMbh9mCQ6KW9nn6+zu8+TMgGgKrm1GKvR\n",
       "6wCyhHeSHB1xO/Tk4aE8VyFySa/OeedLAEjk1kSjhkQnTO6f8Hv2+Ol9eczeDv8O8qH+/fzgJ+/w\n",
       "dZ7wdRbFmTxXPecdQ+cz/RfC1ojvuYG+N6sF/6vg6op/aat1T2LqklvofuMYE4CFY0wAFo4xAVg4\n",
       "xgRg4RgTQFqstKNRjrWu6g13IgYxLzU9OtQO1ZfPntH4i1d6bz/72Yc0vjXWyX+7e6L7pthzNtQJ\n",
       "m8cnwvFL9ayZOOHr5ANut91/zMvDAeCXf8u7Ur77oU7MffYld/xefcddKABYFvs0XlR8b8Ncu5r3\n",
       "xtzVXE51MutyxefTpLnu8ppkPNF0T5RbJ6lwNQFM7/gz4zeOMQFYOMYEYOEYE4CFY0wAFo4xAaRp\n",
       "2uOcVdptWMx5rljU8cEp6UBPI14V/FxFpXOI7qZzGk9ESTcAbO/wMvHFmjthq0LPYDk85jl5x2/p\n",
       "nLy98RGNHx1wh+rpR3wGEAD8+Ofc1dvqKV2+vuJ7fvmtfgZevHpN42XDJ0VPhHMJAA/FvRnv6JzI\n",
       "NuLfzXCkHU81kVv1fex6ppuPx9yl9BvHmAAsHGMCsHCMCcDCMSYAC8eYACwcYwJI7x3rpEBlOQPA\n",
       "quCW3/npKxpvE63Rd5++R+OvT1/KY/7pn/+dxn/5l5/KYw6PeMLiH59zy3VrWydsPjnh9+3PP+XJ\n",
       "lwCwPz6m8Ux0q9zalafCYjWj8S7Xtv/eAU+0/cUnumPpuuJdLscT/rfD1q5+ZqIB/3ujKvR9znK+\n",
       "zmCkk0mbhlvydcut8skefy4AoN5w29tvHGMCsHCMCcDCMSYAC8eYACwcYwJIZ4VOpDy94ImUAHB7\n",
       "wx2Kl+c8MTLm5ggA4PiEz42ZTHRzvbbhxzStdpVOz3gZ7vkFbzp3MtCbjkS57cE9Xbq9mfNy37bi\n",
       "2YdpxUutAeDiin83D8e63LqL+Z6PHuo9lw3/bS0r7p4tlnrWTBNxt2s51c/gcsHvzZ6uxEfT8Gez\n",
       "Lfn9XK10Mu98xmcq+Y1jTAAWjjEBWDjGBGDhGBOAhWNMABaOMQGkX32jEykvzvgYdQBYzHnN+c2C\n",
       "W45Zprs1Vq+55bc74TX6AHB07wmNN422kBdL3hk0z3k25c6eroW/nfHx81HMEzYBIBb9HcqSJ2zW\n",
       "6JlPNOPfzeBa3+fjI9EPIuZ2PADMbngC5mzO72Xa8z3f3PBjbi75swQAN2KmzeFSf8+bklv1xZLf\n",
       "sydv/VieCzG/Hr9xjAnAwjEmAAvHmAAsHGMCsHCMCSA9PeeODgBMr3W3xOWCux1Ny52gWpSzAsDd\n",
       "DU9+nN3puS3jLb7vvQPtatUtd2/iAd/z8+9O5bneeshnvbx38lge8+Y13/NidU7jJ/s6yTVt+XVu\n",
       "Cv2dFQV3laKh7tg6X3KHqhHTvXe2dJLps2f8OhdT7ZCtl3ydy9d6Pk6UiBLtkh/z+uxbea7HTw5o\n",
       "3G8cYwKwcIwJwMIxJgALx5gALBxjArBwjAkgfXOmOy9iqev384jbsYWo924avU654Yl0RamTD4tS\n",
       "2N4dHx4FAFHK1xnkYnhRrYckJTFfZzzWdnie8yTH4xNe8x9nPSPJS27THkx0V87tAbeKI+iumIOM\n",
       "34ObW56YOxrpxNSo49e56Rng1ZT8t30uehEAwGDIryfOeG+Dsr6U55ou3cnTmB8MC8eYACwcYwKw\n",
       "cIwJwMIxJoB0NdNJgVmtO0nmqZhbEnEtbmq9TrnmSXkqkRAAOpEzOu+Z6YOYH7Qj2oweHfKR6ACw\n",
       "u8PLrcdj3mEUAHb3ueOWjPlY9mmhk1xLMVKmWOmumIOEH1SqkwE4e8E7c56f8q6o46Tnno14wmQ5\n",
       "1gnAgzE/XyXmMwHAzZTvLQJ3CKtKX3/T8PvpN44xAVg4xgRg4RgTgIVjTAAWjjEBpHmmc7vKoqeJ\n",
       "YMc/y3KRq9Rpt2eNIY1HqXb1hgPuUDWdzi9br3kZcLTHfz8O9nk+HgDsH3C3J0q1QxQPubM4W/B9\n",
       "vRKzhgAgifh93pT6mG3RYDEd6u95ecsdpzeiWeUo1U7gxz/9kMZ3xvoZ3B7x8vHhUI/k/s2//obG\n",
       "52t+LXGt3x9JzJ9Bv3GMCcDCMSYAC8eYACwcYwKwcIwJwMIxJoB0EPXMUc90Ih1aMetlJRLmdBU2\n",
       "WpH/GYl5MgDQ1XxvUdyzUMOPGSQ8vjfRY8zrkm96tebl0QCw3HCr+NUp73D54qUefT7MuFWepNqO\n",
       "vp3xzqQ/espnDQHARHTmPNwVI9F1Li+++PwrGt+eaDv66bv8O7i+1td5ecnvZ5dw231nX3cfnd7x\n",
       "vwr8xjEmAAvHmAAsHGMCsHCMCcDCMSaA/wdaAxdUze+ixAAAAABJRU5ErkJggg==\n",
       "\" transform=\"translate(2617, 47)\"/>\n",
       "</g>\n",
       "<path clip-path=\"url(#clip430)\" d=\"\n",
       "M2937.24 252.756 L3142.76 252.756 L3142.76 47.2441 L2937.24 47.2441  Z\n",
       "  \" fill=\"#ffffff\" fill-rule=\"evenodd\" fill-opacity=\"1\"/>\n",
       "<defs>\n",
       "  <clipPath id=\"clip4311\">\n",
       "    <rect x=\"2937\" y=\"47\" width=\"207\" height=\"207\"/>\n",
       "  </clipPath>\n",
       "</defs>\n",
       "<polyline clip-path=\"url(#clip430)\" style=\"stroke:#000000; stroke-linecap:butt; stroke-linejoin:round; stroke-width:4; stroke-opacity:1; fill:none\" points=\"\n",
       "  2937.24,252.756 3142.76,252.756 \n",
       "  \"/>\n",
       "<polyline clip-path=\"url(#clip430)\" style=\"stroke:#000000; stroke-linecap:butt; stroke-linejoin:round; stroke-width:4; stroke-opacity:1; fill:none\" points=\"\n",
       "  2937.24,47.2441 2937.24,252.756 \n",
       "  \"/>\n",
       "<g clip-path=\"url(#clip4311)\">\n",
       "<image width=\"206\" height=\"206\" xlink:href=\"data:image/png;base64,\n",
       "iVBORw0KGgoAAAANSUhEUgAAAM4AAADOCAYAAAB2Hz3EAAAR00lEQVR4nO2dyXMdZxXFz9f99Rv0\n",
       "ND5ZlmOwYzzEqRBSUKyACgv+ASj+U3YUZBfGyiaVEJIKJFZsxbHlSNb8hp5YeMPinlulW16e3/Jr\n",
       "3Z6Puuq8O6TV7dUehFyWbBNSUZjrXWrsv6/oYTAYD+yYTEPQ9LW93rQ0piA7TLDXB8MR3Vca2/dm\n",
       "dj6nMbhM9nF6+ziL2QXdVd0vzfWiqmhMGtjX2fNHg9TY5xyhTPY7g7l9LQBQL+xtKfHzKsm72ZB9\n",
       "oe3ovthxyJUIITwkHCECSDhCBJBwhAgg4QgRQMIRIkD2bL3O8SkrZkeTmJS45Tcc2TZpHnE7fGm7\n",
       "3jg/59ZmJlbtcDC0A5h9CqAobAu9Kfk9a4hVD/IMqhE5LwBtbd/PHvz4fUOO3zvX6f0mYO3KeWe6\n",
       "3j7nwnkHqyH5qcKJaVv7Jwn2BpaZXyM7jL44QgSQcIQIIOEIEUDCESKAhCNEAAlHiABX8xr/D2Y7\n",
       "svWu43b0cmlbyHk4pjGTySo5Pg1BS9zYXNm3oV7yc67n9rbxYMJPYN32Ni/PZvbfl45Nm2xrvWaW\n",
       "M4CyIPZ+z4/j3U+LgvxM8WpnZN2x8JlVnZyfCjpyOam0Y/qOH58dR18cIQJIOEIEkHCECCDhCBFA\n",
       "whEiQPZcEC9hjyXSpdJ2qLxkweWCOHSJJ2yOYTtEBZzEyN4+58tzu39Bx+wZAE1tn1vj+JQr4xVz\n",
       "PVWkRp63TwCIQ+bZpAV5nK1Tc99e0Vbz3ie2zTH16PELdjEAEumVkbK93i3t5/8KcnwnQghBkHCE\n",
       "CCDhCBFAwhEigIQjRADXVfPyy1hcKmxfx0kHohuZ2/bqQLbl5DmBDTFP6trO7ypJeTQAjAZ2Ht2C\n",
       "dYsEcNqcmessVw6Fk0NGHLcEpxSe3ICudcqtyf9WFlF450zL6h1bjWxqA+9mHtj5fb1zzxriHuuL\n",
       "I0QACUeIABKOEAEkHCECSDhCBJBwhAiQG8cn9vL7CmI7s+6XHbH1AKAgdmDrZDkuiLXqldS2JJtw\n",
       "tLJmro9X7XUAmKzb25rzSxrz/Mm+fV5j2yZlyYoAUIDEeMmPJDG0By+3Zrezru373zf8+CVJAPaS\n",
       "TAtyD0rv3hB7u8v2xbROJ9NEfvbQF0eIABKOEAEkHCECSDhCBJBwhAiQU8nHe3u2GnOoSjKFpEiO\n",
       "28M2OQ4NM4+GpDwZAJad7ZA8ePCW/fd0ogqAkZ0AOqu5E7hS2WPZq411c71jDQSdfdGR6ACODl6Y\n",
       "6+2CNEQEUCTbPStZmqfTEJHlf7J3CQB6kszpzbRhNCQztul5Ym4iL6e+OEIEkHCECCDhCBFAwhEi\n",
       "gIQjRAAJR4gA7rh2txacwBL2nJw82hV05Iwrz9m2g1eJtQsA29d37OMTC3U85vN5FmQ+ztnhOY0p\n",
       "h7ZVfvuebYcfnr6k+xqy5Eenfn62tG3n5mhBY5pLZkfbeInBHbHqWffXV/u7+rwl2g+Dn9qVj68v\n",
       "jhABJBwhAkg4QgSQcIQIIOEIESB7nS+9bYyOJFIGduV2pdycTs31tS17HQA6chLz2dwOcM757MQu\n",
       "kfbKgHviHo1W7EnVEyf5sK1tJ2x9lbuK0+mmuV5292jMoy8+N9ef7X9rrnvvDGsam7wZTWSdTSoH\n",
       "gEzm4LDjuDOiSJdTfXGECCDhCBFAwhEigIQjRAAJR4gAEo4QAdwkz5AdTRI2BwOesLm+bluom5u2\n",
       "fQoAG8SOHqxxO/a7b5/axyHHr50x3rm079t0h5/zytqqvaG1rdWJk+R6484tc315wfsHzM4vzPV7\n",
       "97kdPR7ZPSnmZFz96dExP/6lfW7Z+f/NLGSWGAzw93YwtH8O8OzoVp08hXh9SDhCBJBwhAgg4QgR\n",
       "QMIRIkCaXJ9S68wd5c5Gb5Pul2+/bZcHA8C7775rrs9m3CE6PD0x1186MbMzu6x5Qkav7z9+TPdV\n",
       "rduO12SdOGcA5uTcelJSfPO27ZwBwNFLu6z6/PiUxqyO7NLtdZL8CQDFin2d169dM9dPDnm59xf/\n",
       "+syOOeBO3KCyS+S90mnmqg2JQ9iQWUsA0CzsZFp9cYQIIOEIEUDCESKAhCNEAAlHiADZrQ/uuXOR\n",
       "yLTqguRwsYnDANCTEulHj/ZozPncdjsuaj6fZWd721yfbm3Zx7i0c7sAIK/ZDs3Oru02AcD+nu3S\n",
       "daTcepj57KLx0HYCqy3+v3CLTMpedvyebW7bjtvmtp0reO/+fbqvBw8emusf/OGPNOaQzPTxpk73\n",
       "5L1tSVk/K/d/tY3Me6IRQgiKhCNEAAlHiAASjhABJBwhAkg4QgTI2Rmj7tl0rOC6Xtr7+/yLL+m+\n",
       "nh58b65vkJJmAEBva35ztEFD7ty6a66ngX01d0hSIABUA3tbYjPJAdy+Zccs5nYn0b7gFv4bt35g\n",
       "rs9mfD5P25KExZqfc0USJtdGth0+IYmkADDP9nWmjv//bha2VV5VTrl1ebWZOh0Z4w4APWktoC+O\n",
       "EAEkHCECSDhCBJBwhAgg4QgRIPdOCWrplE7XtV1uyhI2c8UdKlaifXZ2RmNSspP8VkbcIWKu0v07\n",
       "dkO+z7+0Z8MAwPmZXe7rNXisSBlwtWbPx5kt7Bk8AHBKjr/lNHE8eGGXbp+dcCduZWiXgjekWeMn\n",
       "H39K9/Xov3vm+veHhzSmJ0nIreOEVVedOk0SlgGgHNjPTF8cIQJIOEIEkHCECCDhCBFAwhEigIQj\n",
       "RIDsdev0rNWmsZPvrt+0kw9/8f6v6b729/fN9U8/5dbmcGjbhCenvJPk9IZdc3+3sztmHh8d0H2d\n",
       "HNt28M7OdRpzdGLbrkdH9jlPr3Frebaw59PUM9tyB4C+t38SeP8Xv6ExTW1b4n//8O/m+mTCk2xP\n",
       "juzuqygcO3ho/+xQkkROACgHdnJst7STTD07OpFkUn1xhAgg4QgRQMIRIoCEI0QACUeIANnriFg7\n",
       "XTGZG8cGVb8k81wAYDKxkxzv3rVLnQFgQCYyX855YuQxccL++uFfzPUXB8/ovrZI98/1CZ+PMyJJ\n",
       "nsxUunnzh3RfLJl2Ot2lMV1rPzNWngwAn5OZNqtj+zovz52ZRs/trpwrZAYPABDzFqlw5uPATgBl\n",
       "CaOl5x7PbfdSXxwhAkg4QgSQcIQIIOEIEUDCESJA2rqxRRN12paXp7JtxcB2SN64dZvua3fXdoK8\n",
       "hoTMB5o5TmCzsB2fkkzK3t3hs27YHJjJKnfV2BTtywt7Ds8lcXQAYLxiO5Feufm//22Xgn/7hE/X\n",
       "7slz3r5mP7OvSXk0AAyG9ruRK+6QXc7sKdo5cyeMuWodme5dLvm+6gu5akK8NiQcIQJIOEIEkHCE\n",
       "CCDhCBFAwhEiQGZJmYA/Yp31RczZjikT1+iTx7YduvXee/zciOYPDni5c0HGeHdLu9y4XXCb9OTY\n",
       "TiZllisAzMkcnK+++tpcr4YjZ1/2OR8f27OGACBX9jNbnfCZNqzR65dk3tFwYM/NAYDJ2D7O8Rl/\n",
       "Zi0bl07mIwEAe9USSUzunJ9dcmMLRF8cIQJIOEIEkHCECCDhCBFAwhEiQE7gzllZ8LJqkPkkiwvb\n",
       "7TlxZqCsbtpN7E5P7QQ/ABiv2A7NuOAOSUNclcXSjnl+yMu9L/afmus7uzdozOa2nTS6dsMukV53\n",
       "3K6nT74x1996+A6NKUgy6/kpaRQI4Jtne+Z6R2qah6t28ikAzC7s4zTE1QQAVtVclM7//M4OSuTV\n",
       "aBuvDFsNCYV4bUg4QgSQcIQIIOEIEUDCESKAhCNEADfJ09vGZuf0JMiztvvWtgMPHQv753feNNfn\n",
       "F9zCLohV+uzAPn4FPmJ+Yzo119e3tmnM2qa97e2f/MxcX8zsXgQAcEH6FJSZn/P+np1Me3FqdzgF\n",
       "ANbpNWf7f25dX91azt67QRJznWnt6Mi8m8Rs6p73HGCH0RdHiAASjhABJBwhAkg4QgSQcIQIkNu2\n",
       "pht7x7pgJdI52w4Jc4EAIJMJ0h2r2wWfVP3Ww4c05rOvv7rScQ5fclcvJ/s6j19yV28wtufDXNve\n",
       "MddfHvN9nZzb7tXONu8k2hf2fR6vOh1TZ/Y7UNf8veHY7lVR8ERj5tK2xIl9tY10mWWumjN1ms2B\n",
       "0hdHiAASjhABJBwhAkg4QgSQcIQIIOEIESAnNiscQNdxy7EjNiFLyhuSgVMAHyz17bPvaEwmNec/\n",
       "fe9dGjMa2Z0xp1PbWv7uG7uvAACUxNrsyDoArKzaQ4o2VmwLee4MlnrnnR+b6wOn++q923fN9Sd7\n",
       "/6Uxj/7zibleFPZ1ejZxQ/oUsKRMj8JJDG3p/kjCKBnjDgCJbNMXR4gAEo4QASQcIQJIOEIEkHCE\n",
       "CJBT4o5C72xrSHJoWdqlu8uaO0SPyXycRBJGAZ5k+o9//JPG9CPb2Ts6sZMpK6cMeXtiJ0Y+ePA2\n",
       "jdm9ectcz6R099QpHb+4sMeyT2/+gMa8/8tfmet/A3dPnz7+wlxvW9shq2t7HeAJm51TBk3yQjEc\n",
       "2Amrr0Ls96bt7Hew7x33mDh0+uIIEUDCESKAhCNEAAlHiAASjhABck9brgElaToH8HLjorRtkOWS\n",
       "u2odyQfaufkGjfn+e3u68qDiTtzdH9v5XSD5Xe0ld4je3LXdq9//9nc0piHu2R//9IG5/vFH3CEs\n",
       "S/uenR48ozEvvtkz1x8/fkRjZrOZub5Y2KXbzDkDgETGQZPq5FcxxFbrnSaCiZS1s+aKtXPOBemi\n",
       "qC+OEAEkHCECSDhCBJBwhAgg4QgRQMIRIkDavrXhTcGhWzrSLTERb7GueUktkp1MORqt0ZCqspP8\n",
       "dm/YXTEBoBjbSZ6TDXtc/NmxnUgJAA9v/8hcJ5XjAIDnz+1Onl/v7ZnrJ6d8XHxJSpczsVwBoGK2\n",
       "O0nYBID5wrajW5KZmZ3E2JLY0c4vIqCuM7l+AKg7+3p6UrrdXF7SfWXWfZRGCCEoEo4QASQcIQJI\n",
       "OEIEkHCECJC9RM7GmYHSEfuImjpOfWyC7fY0Thnuzo6dAHp6brtAAFAu7f1Vw7G5PhzbDQwBYLpr\n",
       "u3cf/OnPNIbNCJrP5+Z6dhJWC9KQkY52BrAgz4A1kQQANqKoIS5pTxwtAEjECQVxuwCeAJyG3L3r\n",
       "mbNL3MPkaAAkYVRfHCECSDhCBJBwhAgg4QgRQMIRIoCEI0SA3DXOfBxnW02sXRYxcObj9L1tR/ct\n",
       "P/4xGaXeOhmDG9Mtc31Y2cd//uKA7usj0g+gbXlvhYZsa0lX1GrALde6tmv+PRKrn2fJlwCqof3c\n",
       "WPIlm4EDADW5TpYwDPCk4ez0CWD2OjPqafIpgFI9B4R4fUg4QgSQcIQIIOEIEUDCESJAmu6uX33k\n",
       "L3hnzsGKnRhZkYnPANC1V5/g3NS2EzNZXaExzCFakOS/xZI7V+OhfT0Dp3T44tJO8qxJMm3htbgk\n",
       "+BOc7W2lM6maPRvm0HkOWUEygL1kYnacquL3uSHn0JPn2ZGupABQaD6OEK8PCUeIABKOEAEkHCEC\n",
       "SDhCBJBwhAiQk2P5MisQAIbZtnZzadeVd07CJj++k8gH20Jekvp9ABgO7XObkdHn3sSj2cy2ljsn\n",
       "mZXfTnad/PrZkKSi4DGsY6eXmAky+rxgtfiZW9tlJjFO/wA22KlrHNubJoBe3ULvZUcL8fqQcIQI\n",
       "IOEIEUDCESKAhCNEgNzWnnPjOW625pYL4lBUTnkuKV3ue2eUPBu14pQUN2Qba+TYwhl2Qxyauuau\n",
       "HkvaTMQJY84hwB0qz71kZhPrygoAKGzHi5VOs7k5AFAU9nNO5PkDzoQmx1VriUtYkLakueAdUzu2\n",
       "LxohhKBIOEIEkHCECCDhCBFAwhEiQO4cF6Rjw1HAHaKWuB29kxNXDex9lRWP6Zmt4zSXY/NpGmI3\n",
       "eZ4aM2LSgDs0dU8cGpYTR0cuAy15Np5DxmbNOMPFebNCEtO1zvHJtqLkMUtyncnJ46MpjiTvzMui\n",
       "ZPdTXxwhAkg4QgSQcIQIIOEIEUDCESKAhCNEgNx2vIti3zlzQ0o7+Y9Zq94Y7w528qVTOQ2m+c7p\n",
       "StmQeT8FSWSsnOS/prXHwreJ30+QCuGyY/OBHDuazYBxyr3Z3JjW6f5ZEFOe/VRRet42+anC61ja\n",
       "kZegd+bjsBnzLS2RdsrNyeXoiyNEAAlHiAASjhABJBwhAkg4QgT4Hxl5ni7ec2w7AAAAAElFTkSu\n",
       "QmCC\n",
       "\" transform=\"translate(2937, 47)\"/>\n",
       "</g>\n",
       "<path clip-path=\"url(#clip430)\" d=\"\n",
       "M57.2441 552.756 L262.756 552.756 L262.756 347.244 L57.2441 347.244  Z\n",
       "  \" fill=\"#ffffff\" fill-rule=\"evenodd\" fill-opacity=\"1\"/>\n",
       "<defs>\n",
       "  <clipPath id=\"clip4312\">\n",
       "    <rect x=\"57\" y=\"347\" width=\"207\" height=\"207\"/>\n",
       "  </clipPath>\n",
       "</defs>\n",
       "<polyline clip-path=\"url(#clip430)\" style=\"stroke:#000000; stroke-linecap:butt; stroke-linejoin:round; stroke-width:4; stroke-opacity:1; fill:none\" points=\"\n",
       "  57.2441,552.756 262.756,552.756 \n",
       "  \"/>\n",
       "<polyline clip-path=\"url(#clip430)\" style=\"stroke:#000000; stroke-linecap:butt; stroke-linejoin:round; stroke-width:4; stroke-opacity:1; fill:none\" points=\"\n",
       "  57.2441,347.244 57.2441,552.756 \n",
       "  \"/>\n",
       "<g clip-path=\"url(#clip4312)\">\n",
       "<image width=\"206\" height=\"206\" xlink:href=\"data:image/png;base64,\n",
       "iVBORw0KGgoAAAANSUhEUgAAAM4AAADOCAYAAAB2Hz3EAAATBUlEQVR4nO2dyY8lx3nEo6qyqt7a\n",
       "+wyHw56F4mYBlmVfvNCEvNwM+GBAOknw3+erD7rpYMAgDFumJUuUCZLDnZyFnJ7p6e631+bDXCMS\n",
       "YGKO8Tvm66ysqlfRBcSL/L7s7X/6xQBB13XqIwyDmJZldLgMlTxWUQQ63kbW78Vnu6aRc5rdjn9Q\n",
       "8vULMQ4AENdfBD2nDCUd78HHBxTyWFXOxwvoe4aO35vYnBD4QledODexBgDU4J81YSrnbFt+n3P1\n",
       "/AEAxJyCn3ORi5sJoO96fqzI6sYYgYVjTAIWjjEJWDjGJGDhGJOAhWNMAmG1WskP+55bcYC2o3Nh\n",
       "7XVBW55Fwe1YdazYZ1XJjwVAWsgdd9AxRK4/Zf2q4pb8kIvxLHL9A7d2s7aVc6ZjbpXrHwqAg/mI\n",
       "jj9bbel4ryx/AD987Q4dv2hrOee///A5HQ8lPy8AaMU96MR4L35CieE3jjEJWDjGJGDhGJOAhWNM\n",
       "AhaOMQlYOMYkEFQyGQBGI/2ZTEfLv/9efw4gzY6OHk+kY9te2ZfaQs+EhRk7Lzmn5HNCJGldDPyc\n",
       "y0Kf8zjn9vqwXco5/eKKjr+yv0fHq0Gf80m5oeNnZ2dyzrTmx2uG728hq/sfoxDPjN84xiRg4RiT\n",
       "gIVjTAIWjjEJWDjGJBAQMRpiIU/lUCgXApHA4iCWibkg3zdkCkQCmAOf00QCk42obbDd8vBjjKLl\n",
       "N0CFTwFgVvEPrx/O5ZzV04d0/Or8iZxT3XiZjjfgIcsiYp9++gVf//6lvtBdz+sRdJ3+btTRlKta\n",
       "RoK5mXie/MYxJgELx5gELBxjErBwjEnAwjEmgdDl2tFold0F7V4VGXdVMn0olMIHqUQVSQBoc55h\n",
       "UrkvAKgGvq23aPmxQqe39FYVz4TFnEC93VpsnY7cs60wrx49W8s53eWCjp+e3pRzzsS9efD113T8\n",
       "jZduyGPttjM+vuYZNgDoC/Wc6ZvTb3j2rg3cCczF1nUAKO2qGfPisHCMScDCMSYBC8eYBCwcYxKw\n",
       "cIxJIHQR7WQRq1pVmexVmDPXQbq8595q20RClqLpUx7pqxTE5VSVsCl7ff1Nwy3UptGVLNVnmbDw\n",
       "C2GfAgBEk6pW3EsAOLl2jY7vz/k2aAB4+IBvnT6a8vDloaj8CQCPLniY9NXTiZyzDvyzxbNzOefG\n",
       "bX6dnz7mVWtXvW6G1YuKqX7jGJOAhWNMAhaOMQlYOMYkYOEYk0DI+siW5sg22B48ZJeJYOZQRLbH\n",
       "ijRjt9G9e5Tj1e20exdU9/OSr99Grl8XC9RO4GbLA5jrLXfbBuHcAUAtCkmqQoUAsMv4+sVct0s/\n",
       "EPesBt8ifjLTLeafFPz7vLrSDtn1mzyAek1ZpABuv/oSHT/vHtHxdqHvWZm7IKExLwwLx5gELBxj\n",
       "ErBwjEnAwjEmAQvHmARCLfqPAPFKnn0n0pTCDs06be2qqpSv3+ZVJAHgwXfP6Piztd5zLwOootdK\n",
       "rD9NWfHPymos51Sq14u4z7tYfx5RZTQTPXAAoBPX/8k3X8o5p7ev0/Gy5+d2dfGdPNbrd1+j4++9\n",
       "/76cs3pyScdvv8wtZwD46kteMfTpObfQW+jaErlIDfuNY0wCFo4xCVg4xiRg4RiTgIVjTAKhLHTA\n",
       "rRdbegGgE2HGQoTi+kYHNm/O+PbYn//jT+Scf/nXX9LxiwcXck4+4pUk+4yHKbNCuy2DqD6aIeLE\n",
       "BX68XFX/FOcFAHnOHaI8j4Q8wb+bbaeduHtff0vHX5pzt2nZ8a3WAPDGDw7o+PUTHcxtM36dy52+\n",
       "N8/WfLtzJ6qChiyy377l1U/9xjEmAQvHmAQsHGMSsHCMScDCMSYBC8eYBEK301UMY02S1F5sVadg\n",
       "KqxAAHj7Rz+k4998+L9yTr17SsdfO470OM95w6HVwG3imE07DNzC7HptR7eivkMv2sWXiNQ8EDUc\n",
       "ImUSsFX752dHeh3RSv7jbz6k4+uzz+WxJhNe5fOVmzqw+evff0THG1FzAQC6kv+80ffCqi/1M5OJ\n",
       "nlN+4xiTgIVjTAIWjjEJWDjGJGDhGJNAKETwDwCyiK6KTDg0wj072uMBy+dnwStJ/vq9/5JTrt3g\n",
       "W3p/cKB7vYwDt5zOV9xV+eoh7+cCAK3Ybl1P9NbprOSu0tNnfBv4dquDjId7fJ2Yq3e+FNvKY0ak\n",
       "2CI+Ob7FDyX6yQDAHz64R8dfXelzPprx9u/9VodZFwt+P0cdD5n2InwLACr+6TeOMQlYOMYkYOEY\n",
       "k4CFY0wCFo4xCWR/+7Ofy3RTnkdctUK4amLOZKJ7sORbniF7eO93ck6n+uMM2iWsM7HdO+Nbd7NI\n",
       "HqqueIhpf1+7erPZnI6vW9E3Z6e3Idcix3Yw1+7lZLpPxx890f1pzhruK43m3O2a9rrr9uLBB3R8\n",
       "N/Dt0QCwXnKX7vU3eHFDAPjzv/k7Ov7uezxHt+gjHdGdVTPmxWHhGJOAhWNMAhaOMQlYOMYkYOEY\n",
       "k0BArkN5XWwfrrR9RbXIjV7n4j63Cfst740CAHnOA5Ntq/8XbFtuezZB2NHCcgaA0PEA5uOrMzkn\n",
       "E/czjPlW30L2lwd2V7xiaa76FgGYjLlV3omfFgDg8M4pHd8TLd6LSOvzP33nbTr+8JJXCwWADz/h\n",
       "LdarIx7yBYCVeAZX4v7rJxOoxePkN44xCVg4xiRg4RiTgIVjTAIWjjEJhKrW+2a7aNdp7lB1orhe\n",
       "IYrxAcBszF2QTcShUW5gLoruAUDfi63D6liFvv6i5E5cWevAYCHcu6Lirlqz0+tLJy6P7IMecyfs\n",
       "4PBETjk64e5VEUT48tahPNbtGzyA+ul79+Wcg9PbdPwyskX73f95l45vd/z+N6LoIgAMjXg25Axj\n",
       "jMTCMSYBC8eYBCwcYxKwcIxJwMIxJoGw2/J21ACQi2qdAJCJVu5Dy8d3ETt6MhL1CPa0tXl+zvfJ\n",
       "56UOZqr94+Wa7+2vM2FfAygyUVsg8PApABSBn0AlKkmuNvq7aQpuk84i92y+z/vQZKWuPrq54vfg\n",
       "zbf4OrdO9f3/4t7v6fhLJ3r9mbCdRyMdQC7Fo7Zb8doWOfTPHsPAw7x+4xiTgIVjTAIWjjEJWDjG\n",
       "JGDhGJNAaNeR7dHQ4TcUKzo8DHxO1Wu3JRPrHB/pqpSjgjskZ094N2oA6MU5dKIb8WKp++Ngwa+/\n",
       "nvIeLAAwn/D1S9HdO8u0q5bVvGLmdE+vP6q4e1dl/FoA4MYJP+ef/Bm/Z2Wu79lhySujjme8nw0A\n",
       "1DN+nWXEPQ053z6eZ3y8KrQGVKdqv3GMScDCMSYBC8eYBCwcYxKwcIxJIEwimZ+q0q6aipf1ohvz\n",
       "9qnuoFx33NU5OdZzfvwj3mvm4QPttvz2N7zw3fENni9764/1luLvHvIM18WVLgh4teYFFpdrnsfq\n",
       "oPvW9A13yJaX2lXcFF/R8Vsv6f+ff/8Xf0XHXzl6SMefLT6Uxzq8xb+zUOpt0EXGn4Gu0c/mTny2\n",
       "E71+GtEf6fm5cSfQbxxjErBwjEnAwjEmAQvHmAQsHGMSsHCMSSD8wzu6VXYRdFXIuWgLfnXBt1u/\n",
       "/5t78lhvvsm3zr7+ltb1yQkP3z1+dCTnfPXlN3T8T/6I26Q//ZkOTDY7bmFfLfQ5f/YFDyz+26+4\n",
       "hfztA936/M5NPn54+LWcc+2EX+e393Ufos8//oKOz/f59T+54uFbACgC/9mhqnSYFx3/uaSAtpBb\n",
       "EeY9v+T3s+0i2+1z/n36jWNMAhaOMQlYOMYkYOEYk4CFY0wC4cdvaVetaSMF+cTW5a8uuAvy5h0d\n",
       "2Hznr3mvl3KkOzgPA3dI6lqH/+YzHvKbT/h41ujA5LTiDtHsmg553ry5T8fbNU/M/se/80KJAPDP\n",
       "v7hDx2/f5d2oAd0759OPj+WcDz76ko6vdnfp+OGxLohYlPx+DkNku3vHXdosEszsNtwl3BNdvNcr\n",
       "fc/U+n7jGJOAhWNMAhaOMQlYOMYkYOEYk4CFY0wC4cFD3RukqLVVPZly2/dc9CAZzyLrFHxvfRHp\n",
       "PN4PPLDYd3wvPgCMRIvzi4Yv9PUTbXmOSr7+AG27I/D7ObnOjzW/qcOHZ5f8Pr8MXUNiA94W/cYb\n",
       "L8s5u4H3ATp7wGsOnJ7q9a/f4P+na1GVFABa0aNpvdP3OZvxcygLYW1HCtaWgT8DfuMYk4CFY0wC\n",
       "Fo4xCVg4xiRg4RiTQECnuyQPrXaoLp/y7a4X57zXyUw0aQaADz7hrkoTcch2orv1VheFxOyVa3R8\n",
       "2fB78J+/1YHNvT2+/mwuSpwCmM349YzGt+j40ZF29T76jAcTp4c6sDmaiP+TecTVqvhni44HgJ9c\n",
       "6udJdbeezfX6sz3uxo5q/UWrjuh9y13NRmzPBoBs4NfjN44xCVg4xiRg4RiTgIVjTAIWjjEJWDjG\n",
       "JBByYZECQD/ozx6fcat0ueXVL8+/0/bh7z7jbckz0XYbAIqCJ/NGIx1MHXphYbeP6fizjQ5Z7ovr\n",
       "PG55XQEAWG74/6l2zWsr7Da6Xftkzq/l0Zm2dkPFr6eH/m6ahn+2WfNg7K7V39mm48/Mdeg6BfWE\n",
       "/7wxqnXF0JxnOTGI1PAwaDu660XrdznDGCOxcIxJwMIxJgELx5gELBxjEggjncnD8ko7NJWoCnn3\n",
       "lG8DvlhqF+Rg75SOD712lUYVdzuO93WaNJT8nDcDD0xut/r/yuqKOzGh0dVPDw758W7d5UHGk7/U\n",
       "Ic9GGEGbRve66TPukuY5D18CQAZ+bvkgHMdO70Mucn5v9vYj1VfHvF36uNbuJcQ5ty0fr7R5DMAh\n",
       "T2NeGBaOMQlYOMYkYOEYk4CFY0wC4dqcu2AAMIsUBLw54/NGI67FTBR2A4DZhG/DLgpdxHC95E5Y\n",
       "G9k7vVjwHNuzJXdOLhtd9O7mdR6Imu/p9adz7ni9LKJa4zKSIev4tXTCOQQAiG3ATRvZhhy4G1qW\n",
       "4vvs9Pptx11anQgEdiITN7T6ecrE6yCTITb9/ujh/jjGvDAsHGMSsHCMScDCMSYBC8eYBCwcYxII\n",
       "//eJblXd7fQ22NmYtys/POLW5rjSIc/NiicWh1h/nJ5rfrnSk5ZLUeFR2JH717XlWVf8OqtKBxZV\n",
       "JcuzhbhnqvImgLrm11nk2sIfRCXLTaO/59WSr9OILdK7JnL9otfNaKxTlvOJsLCDDtOGwL/n8YQH\n",
       "RvOcjwOAepr8xjEmAQvHmAQsHGMSsHCMScDCMSaBsNpqF2o6FqE4AEXNA5DbHXc72u2VPFYliguq\n",
       "gN3zE+AOVTHW/WmOD3mYtBm4q9WJIOXzOcJtgnZosONuT9NzJ2ySaVfvsOKBzZlw+wBgJPrQHOp6\n",
       "gDgWoc1OFHdc77Srtuv4dXa9Pueq4P/bx6Xe818Efg6h4scqIu3N7aoZ8wKxcIxJwMIxJgELx5gE\n",
       "LBxjErBwjEkg3H010t8cPMgJANkg9uOLfiJFZF93LizcUaXtWIiW3JsN73UDAO32KR1fiPAnBm0t\n",
       "16IEai7sUwDoe26TZj23yR/f19/N0/vcWj7a19bqaMS/m72pDnke7YlgZs3vTaj1TwhbUdug7fT6\n",
       "IRLAVLSizGnX8fXLUp9zCCIY+r3Pyhhj4RiTgoVjTAIWjjEJWDjGJBB2C92DBrnuxtsP3PFaCyNO\n",
       "NDwGAOxN+Tplpl2l+ZS7HSdHeqEi567WrhPXmeltyCHwCw2FXj/LxGfZhA4v9G5zNFu1vu5pNBrx\n",
       "YOx8ytcHgFz0mkHO/+cGRLZOizlFxNUalfyeqV43gHYvxfJoI5VMc7Hd228cYxKwcIxJwMIxJgEL\n",
       "x5gELBxjErBwjEkgjCMhulDpwGAl/OVFzvfpj3VHcEyn3A4cBr3nv6655ieTSGBPBDAnwkHNhH0N\n",
       "AG3Dz2271c2o0PObsG64hbzcRn4OEJU088g5qzoBshMTgJBz27sS+/fLSCazFyHLmLXcNfxnj1Zc\n",
       "PwDkooFUKyqWxo6lLHy/cYxJwMIxJgELx5gELBxjErBwjEkgXD/R25OnY+3Q1CV3ggZRrTHLtUPX\n",
       "C7drudLrL6546/PV+vv3OhnlvD/LZKLvTdvxcxbZy+fri3bpV6IHzbfnOuWZ59zVLArda0Z1Kz84\n",
       "0PdsPuGOUy8cunquA6MhcFetEdVfASDv+XeQD9pxzMWW91pYfvmgXbVmw78bv3GMScDCMSYBC8eY\n",
       "BCwcYxKwcIxJIHStDpFtNpH+MMI+ysV241BqjbZbUcQw0w7RVHYq1usMA3fpisDPeShiWTk+Ppnr\n",
       "vi2D6DUz3ud21/G1I3msXDiBbaezck2jMoHaoYJwAgvRu6fdxXJv/DpDHis8KdaJFDFsN6KL+cDX\n",
       "78X3AgCN2jkuZxhjJBaOMQlYOMYkYOEYk4CFY0wCFo4xCYTY9txNp8N/u0ZoTmzDrUVFRgBAx23i\n",
       "qtQ24US0ks/zSPXNgs8ZhOW53ekKj1th7faDDiyGgluoVcEt33Hk+jHwnwPmkV43wo3HeqW3m3f5\n",
       "lI7vRIv19ZVOuapKqnUVWb8XYVr1/AGA6MUk8sdoW62BqhJ9kPTqxhiFhWNMAhaOMQlYOMYkYOEY\n",
       "k8D/A8ZNUJaCFl24AAAAAElFTkSuQmCC\n",
       "\" transform=\"translate(57, 347)\"/>\n",
       "</g>\n",
       "<path clip-path=\"url(#clip430)\" d=\"\n",
       "M377.244 552.756 L582.756 552.756 L582.756 347.244 L377.244 347.244  Z\n",
       "  \" fill=\"#ffffff\" fill-rule=\"evenodd\" fill-opacity=\"1\"/>\n",
       "<defs>\n",
       "  <clipPath id=\"clip4313\">\n",
       "    <rect x=\"377\" y=\"347\" width=\"207\" height=\"207\"/>\n",
       "  </clipPath>\n",
       "</defs>\n",
       "<polyline clip-path=\"url(#clip430)\" style=\"stroke:#000000; stroke-linecap:butt; stroke-linejoin:round; stroke-width:4; stroke-opacity:1; fill:none\" points=\"\n",
       "  377.244,552.756 582.756,552.756 \n",
       "  \"/>\n",
       "<polyline clip-path=\"url(#clip430)\" style=\"stroke:#000000; stroke-linecap:butt; stroke-linejoin:round; stroke-width:4; stroke-opacity:1; fill:none\" points=\"\n",
       "  377.244,347.244 377.244,552.756 \n",
       "  \"/>\n",
       "<g clip-path=\"url(#clip4313)\">\n",
       "<image width=\"206\" height=\"206\" xlink:href=\"data:image/png;base64,\n",
       "iVBORw0KGgoAAAANSUhEUgAAAM4AAADOCAYAAAB2Hz3EAAASOUlEQVR4nO2dy6/dyHnEi2ST55z7\n",
       "lnQljz1PjyeeJAs7QBZZGEF2QbbZZRMgf2kQA8nAMMaxB4gDG3Fiy5I8Gl097uM8+GYW2lY1MB+0\n",
       "rN+yKTbJPiwRqFv9fcU//8s/LRBsjjbqEM7Pz+h4UfDpxmWWcy1FQcdTxccB4OL0mI7PQyfPqUo+\n",
       "3qz4c7atnAr9sKfjZdnLc8plTcc/+e6H/BrtnZzrzd0tHV9t+DUAYJxGOt71es2KItHxquLjKfFx\n",
       "AKjrmo7P0yTPKcHvOYn3DACGgZ8D8Pepqio5Vz/w31O8SsaYHBaOMQEsHGMCWDjGBLBwjAlg4RgT\n",
       "IH36PreVAeDk+EgeaxpuLa7WDR2vGq3Ru+0NHV9mbWHfv8ctxGLR9zyNAx2vC36d00f35FxVJdat\n",
       "4NcAgL7jVu1/f/UVHX9wzi13APjx5z+g40uhrd1h5NbqBH2dpeTr3HZ8rkZYzjkOB23hFyO3li8v\n",
       "LuQ5Zcnfta7jtnsp/hwCAEXia+MvjjEBLBxjAlg4xgSwcIwJYOEYE8DCMSZAenSuk6HHx/pYWXEL\n",
       "9+yUW66r9UrOdVNzm3C/4wlkAFgt/JxVo9PBaLhVXizcwj1Z6wTuMnObdIK2gwtxb/sDf873LvWf\n",
       "Co7XfJ3b9iDP6UeR6M6kgwvxnNXIr1Mnvf5JJKqbtb7+PPLfoFy07S+D0xN//kE8IwDMwin3F8eY\n",
       "ABaOMQEsHGMCWDjGBLBwjAmQ7p1pt6uqtKtUN9wJqQpuQ2Syh3h4zgN704l2le62Ozq+F3vxASA1\n",
       "3NUpa/4s13c8fAoAQ8uvX650yHEueW2D00fv0fH67ETO1S9iL/5aXz8V3PESxtVbBu5erYRDtq65\n",
       "cwnoAOiYqTnQivzlIIK5AFCAP1AH/iw322s5lwqA+otjTAALx5gAFo4xASwcYwJYOMYESLnKi6uV\n",
       "dkhq4VAtIvfVtrpaJJRDlzK6LoUTk7RD04tM0qbi262LSTs3XcezWkdi6/jb63O3Z3XK3bPmRDtk\n",
       "3bDlcyW9DXgUz7/vM/k6URl1EhUuc1m9k9NTOn7I5OtuhLNZr/R7m8QaHHq+ZsOiM5HFwt9Bf3GM\n",
       "CWDhGBPAwjEmgIVjTAALx5gAFo4xAVI7aPtwXHSFxYs1DwzWNQ+NlqXe6rrMwsIedGenfuYW5lBo\n",
       "a3FWdrSwHFOh7eCzY1HJdKPP2d7y9RzFlt4uYxO/OvC1OW50aHeEsMozzzmB37Ncf3FfADCAH+sy\n",
       "HbwGYYeXImQKACLjCSz8OuuV/rOD6EXlL44xESwcYwJYOMYEsHCMCWDhGBMgbbdv5MEqExicZu4E\n",
       "nZ/dp+Ol6LMCAG3P3Y5+1G7L3Y5vkW77zNbpmtste/GYzbHuj3N0zt2rbtLu4TgI90q4h4Vorw5o\n",
       "V2kq9DpDuIfTmAl5iq3DG9EWfoEO804zD1lWtX7PSuHSzmLrOADMqoqgCKAuGVNNHfIXx5gAFo4x\n",
       "ASwcYwJYOMYEsHCMCWDhGBMga0efZdqFt62wAxdu+S5Lpo23sFaLjLU6T/zYMmprsxb1AA57bqF2\n",
       "h5d6LtF+Pq34vnoAKApeW+BI9M05PdLPkhJ/lr7T1vLN7R0dnyddylNVxby4z+s05OpUDCM3d6dM\n",
       "KdGDaAs/idoWALBe8XdjFK3fD3sdZt6s+e/pL44xASwcYwJYOMYEsHCMCWDhGBMgXdw7lwdr0TcG\n",
       "ACrRqbgsuRM0ZZybaeBui3KOAOD06JKOZxoI4/ol74PSiO3Gg6jWCQBVze/54oF2ItU23Krizzn0\n",
       "+mF64TaNow6ZTjL8qFEB0P1O9KDpdWJymfmxotD/f7d7/htkq7yK6rSluLW16NsDABBBW39xjAlg\n",
       "4RgTwMIxJoCFY0wAC8eYABaOMQGSLnsIDKJVN6AbRdU1t+/WIiwHAF0rgnxDpl184hbyptYt3q87\n",
       "HnLc3fHxh5cP5FxHJ6qxlr5n4dRjFOHHoddzLaqBU6HPaUQDr17UfACAuuFWrbKQc4HNXlQmHTIV\n",
       "W1PFr9NkKnlWEMdUcQGdpUXfcQ34i2NMAAvHmAAWjjEBLBxjAlg4xgRIh4PuJ6N63QCAKPCISVSy\n",
       "7FpexREAqkpUa8xUslRZxtVaB/Yuzrnj1vb8nONjvj0YANYb7lDtM8HMYeDH1JbeHGqd50xPoypx\n",
       "V2m11g7VJEKbswpsKkcLwH63o+M593a95utcZKywSvT7mcS2+vzWcRFmlmcYYyQWjjEBLBxjAlg4\n",
       "xgSwcIwJkBqRRQLyW1r11mnutoyj3oa8EQXkllK7HSnxc6qkHZqLC75FeSl4QcCq1M8/zTyrl8S2\n",
       "XQDYHbh71vd8beZFO0dFyXNfUyb3VYj5MlEt9INw6US38mXKuWp8rjqzdbnt+Jp1Yrs9APQD/902\n",
       "olhiJl6IRWT//MUxJoCFY0wAC8eYABaOMQEsHGMCWDjGBEi5gF0ltq0C2nZV4c+VsJwBYF5UtUZd\n",
       "yVPtnB0nbceOopJlP4ibFu3N315HbPeGvuenT/kW7WLm9/zoUlcFVXZ8yoUfxe+52/H7AoB55vNV\n",
       "4BbybqtDwzfXPOh7esr7BgHALGz3ZqUDyNsdf6dH8TvnCnkW4k8i/uIYE8DCMSaAhWNMAAvHmAAW\n",
       "jjEBkuoE/JZccTnuXFSV6CeSMkk6tQ171ueMKnyYKcjXijDlOIkO0pmid5M45/ET3cX7y1/9kY5/\n",
       "+v37fHz5RM61F+7VZr2R5wyqIGCvnbjjDXevRtXdWmzpBoBGOIG92FIOAIsIE4thAEApXqjDnt/z\n",
       "uMoUkUzuj2PMO8PCMSaAhWNMAAvHmAAWjjEBLBxjAiQsmZbsRaYHiXAwS5HyrDLWbicqWRaiWiQA\n",
       "DOoceQYA8TzNSqT8MtdvD9zCfPwH3hIeAJ4+u6Lj33mPhzkzRUExzfx3U9Y6AIxiwiQqqb49xtdM\n",
       "VQUdRA8eADj73nfo+NUNr/AJAKOosrlu9D2vRe+km2sepq2PtIWf1rajjXlnWDjGBLBwjAlg4RgT\n",
       "wMIxJkC6ONPdoGeR4wOARmyF7oVzM3baoSrFNtxcVcxF9IHJdX1W863UFvFMJdEXex6yfPr0lTyn\n",
       "65Tnx5+/KvU27EKFDzO2Ykri4Kz//yzU/61iqkoEOQGgFA5dnTmnqfn1z4559VUAgHAjT1a839G6\n",
       "0a7avHAnzl8cYwJYOMYEsHCMCWDhGBPAwjEmQBo63ucFAA6t7mB8WvJ81aHllsb27lbOde+Cbx0e\n",
       "Ru1q1cKhGefMNlwxn6hTiDLjan399Z/o+OvXuiDfNIkOyotwFQudxxoL7lJOolAiACRhuaWkK/It\n",
       "Yvu6ejfGzHb33c0NHX/48JE85/SEFytcMv2W/vT4GR0/O/6AzzVn3FtRYNJfHGMCWDjGBLBwjAlg\n",
       "4RgTwMIxJoCFY0yAJHYgAwAyziL2oo32VtjRfWZLr2q9vWRSpqr9u+ob8/YYt10Pwtl8fvVSzvXV\n",
       "r39Px/eZMKu8r1Jsg85UuFSBzSnzgyp7fRC/5dub4C9BUfB7rjN9kMYlcx1BJ/5cUqi/IQDYiOqj\n",
       "pXgFu8yfPWZh4fuLY0wAC8eYABaOMQEsHGMCWDjGBEjbg3YnpkW7WlPNnYheBBZ3ojcLANx9zQvS\n",
       "5RyiN9e88F9d68De0YYHU19e8W7I//v4qZzr+UvRa2fRwdCU+Bps1vyey0x/oqYWfWMavj0YACax\n",
       "nGWVCXmKd0AVnpyFQwgAZ8JxG3r9Ds4TdykPex4YBYBNw59nGEVPp1r/ZpNYNH9xjAlg4RgTwMIx\n",
       "JoCFY0wAC8eYABaOMQESMr1RpkyQTjh7uBEtsZ881fbh6yu+T//uVtcp2G65hTxN2vZWlSR3O/6c\n",
       "rXpIAEXi1R/nTE+dtegpc3rC7dBC1BUAdLv6QtjUALCquR1flBk7uuJrMAibep/5E8Iw8MBmlask\n",
       "KmzvIZNALtTagD9LKarCAkDbu5KnMe8MC8eYABaOMQEsHGMCWDjGBEjbVmtnzw0FAMCLl7yD8vMX\n",
       "b+j4N8+1Q9YduHPStrpa46C2W2e2e88zd1UmcdIitgcDAEZx/YyrN8/8OTeig/JK51Vxt+fB2GXm\n",
       "lS8BoBC9ZnLdtQsRstx33AmdVTtyAPsDv+dNJpgKUWUzt+U/iZDnLDpYz6N+0bfbOzruL44xASwc\n",
       "YwJYOMYEsHCMCWDhGBPAwjEmQPri57+RB8dBe7vbLbeK24MIBQr7GAB6EabscnvRhYWqQoEAsECc\n",
       "I/59IY8As7jnedR29HbH57t+I2ouvK9bkrei/Og4ZJpRrfm91aqNO4BFPeeiqq/KqVBV3N7XKwZ0\n",
       "e24Hb+/4mgHAcnTBryNCpqW4L0DXVvAXx5gAFo4xASwcYwJYOMYEsHCMCZD+7w/P5cFVo10dFZhT\n",
       "Whwz4ce25SG7JZfYFA5ZJq8oUU5c3qET4xlbqev4GvzP75/Q8Y8/0Ou/PuJhznavrz8N3InbrPXW\n",
       "6XXNj1UlX4EuE5js9twl7Qd9juqRVGUqhva9cjxF9dGMe6tsQn9xjAlg4RgTwMIxJoCFY0wAC8eY\n",
       "AGmeMl2CMyGiSWypXcD3tM65XjvCccu5WnOuJbZAzafcu7yr9+1R9/z42Td0/NXdx3Kue8rXG3Wv\n",
       "F5WvO2R+6HR2Ssd70alZZRgBnS8bM12fm4ZvnZ4Lfc7Y8+scHZ3R8ZTZIl+I6/iLY0wAC8eYABaO\n",
       "MQEsHGMCWDjGBLBwjAmQMGnLd+h0fxgpOVHJccqkL8uST5brNfOurWJG3g7/9lu31XNevebbg588\n",
       "f61vbua9btbgfXsA4J6wlsuUC0yK30BYuCdH/BoAsErcKm9bHbKsxPt0d8v7IwFAsfBg6smGr5lq\n",
       "SQ8AhXjP/cUxJoCFY0wAC8eYABaOMQEsHGMCpCQ68QJAZrczipKH7xYRZFTjgHabch2klaul5oqQ\n",
       "c+4iTqCi70UH573+be7fu88PtPr6tWi4MyvrCECrmiQV/J43K+0qJrFmY8cLBQLAvUeXfK5Kb/c+\n",
       "iM7n7YH39ElJNyLq3HXamHeHhWNMAAvHmAAWjjEBLBxjAlg4xgRIf/eTv5EHf/rvX+gTK7G3veLW\n",
       "Xtdqy3EYVE+dTMhUkQt/fsuKnZGQZ8SOLkVgUo0DQCMs1HSk73kUFvLVm5fynGIQdRpm/nveLjqw\n",
       "eXbC27Ifb3RPn5vrN3S8SrrK6TTwuheteJ8a0d4dAPqRP4+/OMYEsHCMCWDhGBPAwjEmgIVjTID0\n",
       "j//wE3nwN7/+Uh5rznj4rtnwaom//OV/yrlG4USNolookKnKmanwqLraLKK7dJEJP8o+OJn+OIXY\n",
       "ont8xB3KdaOv33U8fFjV2qE6tLzC5b7l4UcAGHfcVVrX3PFbr7UTqH6ZutYhy9fXt3S8abR7OM18\n",
       "3dqOP8tBjAPAKKqf+otjTAALx5gAFo4xASwcYwJYOMYEsHCMCZDm7WN58LOPeeVDALj48Id0/MHl\n",
       "h3T8d7/9LznXK1GVsay0talKGMwLD/gBQCVavC/g15mlgart6FXS55yLMONHHz3g//5Mhw9nUY+h\n",
       "z9WQEIHNBG0HLyWfrxDt0lvRkv4tfK5l0QHgV6/5u5HJZaKqVXMtfs9dpl172/P3yV8cYwJYOMYE\n",
       "sHCMCWDhGBPAwjEmQLrd862pAPD9zz6Qxz76y8/p+F98/ld0/MWT38q5/vXf/oOOf/OaB/wAYFLB\n",
       "TGhXpxQuWSHDn/r/lXrFj332yffkOX/+6ft0/OI+d9sePDiRc61X/Jz+oF21YRBrM2knUFXMVFnW\n",
       "TlQlBYBx5O6ZCqwCwAJ+/SHT4n0vwqzNivcOanu9Zq3oEeUvjjEBLBxjAlg4xgSwcIwJYOEYEyC9\n",
       "2OnuvblA0Fzw7banJ9xu+fu//Ws51+WG6/enP/uFPOd3j5/R8eNjXvQOANZrXsRud+CuTpHpxvze\n",
       "d3m+7Ic/4M4ZAHz8Pu9psxLbjZfMf2uF6gOU2e6trLBRuW0AVrVwtQae7yqE2/n2+vzejjbn8pRZ\n",
       "bJE+HHS+rd8f6PhebJEeM66i2j7vL44xASwcYwJYOMYEsHCMCWDhGBPAwjEmQHp+cycPlpmW2FdX\n",
       "T+j4sz9e0PFm4RYhAPzoz7iFe36ie6B88eWv6PiU6Y9zcc7vbRTVP5ek/18pkqrYqatiAvx5Vs0p\n",
       "HX9zy8OKANCK7cZDq63lqVe9bvSaVeIdkBUuq5wdzY/1vb7+IAKY251e5zLxe35zxfsAdaKfDgA8\n",
       "vHzEryHPMMZILBxjAlg4xgSwcIwJYOEYE+D/AVmAAsx4NNwoAAAAAElFTkSuQmCC\n",
       "\" transform=\"translate(377, 347)\"/>\n",
       "</g>\n",
       "<path clip-path=\"url(#clip430)\" d=\"\n",
       "M697.244 552.756 L902.756 552.756 L902.756 347.244 L697.244 347.244  Z\n",
       "  \" fill=\"#ffffff\" fill-rule=\"evenodd\" fill-opacity=\"1\"/>\n",
       "<defs>\n",
       "  <clipPath id=\"clip4314\">\n",
       "    <rect x=\"697\" y=\"347\" width=\"207\" height=\"207\"/>\n",
       "  </clipPath>\n",
       "</defs>\n",
       "<polyline clip-path=\"url(#clip430)\" style=\"stroke:#000000; stroke-linecap:butt; stroke-linejoin:round; stroke-width:4; stroke-opacity:1; fill:none\" points=\"\n",
       "  697.244,552.756 902.756,552.756 \n",
       "  \"/>\n",
       "<polyline clip-path=\"url(#clip430)\" style=\"stroke:#000000; stroke-linecap:butt; stroke-linejoin:round; stroke-width:4; stroke-opacity:1; fill:none\" points=\"\n",
       "  697.244,347.244 697.244,552.756 \n",
       "  \"/>\n",
       "<g clip-path=\"url(#clip4314)\">\n",
       "<image width=\"206\" height=\"206\" xlink:href=\"data:image/png;base64,\n",
       "iVBORw0KGgoAAAANSUhEUgAAAM4AAADOCAYAAAB2Hz3EAAASN0lEQVR4nO2dW28cyZWEI7OyqvpK\n",
       "UhJFXUazA++DgYXh/7J/YH/zPtjwg2HY8AysHY1EUU12s7tumfsHTiTgAz3G91jNumVVdAPBOOeE\n",
       "//nv/yogbLsN+wghzPYHfbD/Pkd6rCYkc/v+Zkv3GcvF3j6d6T5X+2tze0pX5vb7+6/0WMMwmNsb\n",
       "8Pvcb/bkE/sR9H1Pj9U09vYlT3SfUpZ/6/wAMM72PjHa98nWBQBysc/Dzw4Mg30/zyf7+QNAG+x1\n",
       "K2TNcrbfWQDYtLYG+FMWQlAkHCEcSDhCOJBwhHAg4QjhQMIRwkG6ecEt567p+J7B1lwhUpynTA/V\n",
       "Emtzs13RfTbk2prGtpwB4OrKtp0vT7blOa/5/c+J3CixPAFgvbdt92lili8/VkfOP03c3C3EDp4X\n",
       "8q8FAJstWQPi4Ka2pcfK5NJmcv8AkBr7RKuOn6eQE8XOPlYe+LvZLPZn+sURwoGEI4QDCUcIBxKO\n",
       "EA4kHCEcSDhCOEj7PbdcU+KWX9PaCdTAgqaVBGrb2MdqmOULYCm2Tdi1tuULAGUeze0bcp6w4XY4\n",
       "YwK3dhOxdh8Pz+b2hi4mwDLFbeX+Q7S98pbFhgE05BUYR9vCb1CxlolXX3tmgfn77P8eAObFvoYZ\n",
       "9jWHppLPPtvn1y+OEA4kHCEcSDhCOJBwhHAg4QjhIK3W3FEJFVcnkd4CLQvfVXoOBOa41YrRiasy\n",
       "T7zmPs/2Z4kERuOWu4psbdrIXcqWBCDn1nbi8sLXv0nE7WHNCADMk+0qtpV9lsWu7Q/FvuYUa+6p\n",
       "7Z41kbtqmZh0mecyaZg1z6QfBj8Udfz0iyOEAwlHCAcSjhAOJBwhHEg4QjhIMVRySk3FCQu2rTHB\n",
       "7qQZKhqNpAx7RfJwANCQ3FUBd2h64nix0uWarRdg33+o7MNcsg0p0a51P52i3TGzELcLAFatfbxY\n",
       "OU+Z1ub2JtnPJibuKtLS7Zlf8zja9xkrXliCfQ0lkjYBLT/WVGwnVr84QjiQcIRwIOEI4UDCEcKB\n",
       "hCOEAwlHCAep5FrZLA85joNtOy+jbe3WgoS82rrWldI+TyCdHwEgEXs9EDeaWe4AUEh5LojlCgAt\n",
       "CTPGjtinM/9e64ntzodHAT0pUachW1RKwcm/MZbKsWi1c6Vl6RLJMKpKALgj9d55tncaJm6Hs+XU\n",
       "L44QDiQcIRxIOEI4kHCEcCDhCOEg1WaT5Ep9akNcskTCl83CHbo1GwufeUPAx4Pt6vXEoQKAc2c7\n",
       "UVsyFT4RRwfgY8xraxZI48N1Zwcpa4HJaSCl05Wvwlxsx2shM2AAIJES7YGUoQ8zH9c+kzroOXNX\n",
       "i5Wb11y1gQRDF/JsSs2J7dWQUIjvhoQjhAMJRwgHEo4QDiQcIRxIOEI4SE3FipsX3hWz7W2bkM20\n",
       "ef/6Az3Wfv3G3P6Xv/xC9/n22bYW91t+PyNxvdl8lLYyer1tbQ87kxk8ALAQC/U82fNx5vFAj9WQ\n",
       "aGxtXDr7z8NUmWmTWZiVrM1cmQ80k7VZMn/PCnkHWf8CgAdTTySY3LN/h0A9B4T4rkg4QjiQcIRw\n",
       "IOEI4UDCEcJBWu+4dZQrQbpCJviCBCOfpxM91vHxs7n9fOGBwUCck0JcEIBPSj48kQnWK+7Qsfxn\n",
       "YdYZgBDt8/ctOxh36AJx1XKl3DokUm5NgrkAkNmsGXJtc6hM3SaZ1UTCtwAwL6x0u1JWT8KkbNzT\n",
       "aXykx1rIefSLI4QDCUcIBxKOEA4kHCEcSDhCOJBwhHCQSmcH3wDePwAA2ECqSAYrfX38mR7rC/lo\n",
       "v76j+1y9JP0IKuG/88UePX4h9fNr7pIiZLsr5vm+0qfgbFvyb9/bgdH9Ne85QL1VMqQL4P0QKo8Z\n",
       "MwnAjottR8dS6blAkqF8sBfoV3vkWVYU0pmzX5N+GF2lk+hE1oyfXgjBkHCEcCDhCOFAwhHCgYQj\n",
       "hIP0PNlOEwA0JBQIAD0ZpR5J+rHmXJyeHszt+cw7eb54/YJ8wh2aJpFx4QNxgqaKq0gcokA6fAJA\n",
       "Hu3zPB1tt6275vcfk+2qsTH2ADBNLABbmY9DypqXYr83tZLmhcz0eTrydzAW2z57cUParwJIrGMn\n",
       "+Xs2TwcARjLKXr84QjiQcIRwIOEI4UDCEcKBhCOEg5QrDQlzJXe0kDkobWcfL1amTkfSxHCuOFRt\n",
       "a+e4UsudwHBhxyNrMPAy4NPFdsLW62u6z35rN14c49HcXklw4Tw9mdsL9Y54Vi1U8m3s7YikRLop\n",
       "leAbSIl6ZabR6avt6uU1v0+Wo0Qk5ea1+UBkbfSLI4QDCUcIBxKOEA4kHCEcSDhCOJBwhHCQ2obb\n",
       "t7WR2GyMN+ukWSpzxPd3dmDz+IkbspeLPVNmE+3wKQAU8j0xFjKf5mRvB4C2t0OGV3dXdJ9MGpOO\n",
       "5DSryrh2BHudp1wJTJJ/CYTK92dL1rNlL8fA/73BzG3mHgPA02J32ayFhj/9ai/0emPPwdlfVTqJ\n",
       "kpCrfnGEcCDhCOFAwhHCgYQjhAMJRwgHqVm4C1JqsiIBUBYYjJXy3IfDV3P7+cztlvBghww/f+YX\n",
       "/eb9e3N7v12b22Pkrl6/ssttS8P3Wcja5Gzf5+NX7pDtbu2y6kCClAAPwA6VMOvnj3YAdZXs858O\n",
       "fNZMS0rxBz4GCRfSXPA8cMv36Wg7YVc3pES68sxYAFS/OEI4kHCEcCDhCOFAwhHCgYQjhAMJRwgH\n",
       "KVVqxAeWSgQQW9YngNSVl0r4byTWYiX89/Ld3tz+1z9/pPs8kzkst2/tY71+/Yoeq5Ax4mHh1uZm\n",
       "YwdDF2J5zpX1T8W+5vsv3+g+169sOzYFHoz9+PP/mdtXa/v8N6/tICUAlGDf5zLxsfQD6T76p//9\n",
       "F92HPc89aQexZH7+VU/+VUH3EEJQJBwhHEg4QjiQcIRwIOEI4SCFSifPFPjckMCmHkfbocg8R4hh\n",
       "tJ2olW2OAAC2V7bm3//wlp9nsSdsf3mwnaOmY/NkgERmvUyVTqK7HSlD7sjcnjN/Nl9/s9f5+I2H\n",
       "H5mrRJqiAgBIk1W8/cG+z5uXO3osVj0f3vOX43KyrdW//+2e7rPMZD0nVrrN1zmSqdv6xRHCgYQj\n",
       "hAMJRwgHEo4QDiQcIRyk2HEXqN4Qz3Y7mpW9D2u6BwBzsV21n366ofscTnYm6+OvB7rP7//4ztx+\n",
       "296a2x/u+bFOB5JvmnlW7Orablb4nz/ZJd3ThT+bL7/a83HGueaS2jmy+cKzWn1nl0jfvrItzxIq\n",
       "peMLeZ8qJeppZef1fvd7brmeiRNHGyJWfj+WWQ0JhfhuSDhCOJBwhHAg4QjhQMIRwoGEI4SDFFiK\n",
       "D0CoDS7JdgA0svAnsZwBYL2zj7Xacmv1/mCX4Y6kPBoAVjvbWux39n22HQ8s/u1gB0O/Pthj3AFg\n",
       "IiW6//HBtt27hpchr8iI8xjtUl8AaIpth3+9/43uc36013l4sp9Zv6vY4azcnnQyBYBM5tOwYwHA\n",
       "y1e2hT7N9rOpzYEK0b42/eII4UDCEcKBhCOEAwlHCAcSjhAO0kxCbACQF94Qr23s5noNmWycyTRq\n",
       "ALi+sd2efs1DpvtX9nn6PXe1Uk+mLhMjaH/DHaq7N/ak7DbxmTavyT4PRztMupp4o8B3bz+Y2//x\n",
       "z7/SfT79YpcbH574mq2vbPfs42+/mts3R9vRAoA3d3fmdjaDBgCeR/uz9ZY7jlOw7ycn29WcRl66\n",
       "HSNxj+keQgiKhCOEAwlHCAcSjhAOJBwhHEg4QjhIoTJGPZOR7AAwL6Rj52BrcSJ/DwCptW3XXEnf\n",
       "dTvbQtzd8jr9w8G2xF+9tK3NkHj48ObGtpaX0R49DwDrvX0/hwfbwj4ePtNjPT3a6/nwYPciAABk\n",
       "Modn5Bb6j3+w7zOs7a6o45E/s/FCzj/zdW46+30KpBcBAGTYz3khs5tQCYzOZM30iyOEAwlHCAcS\n",
       "jhAOJBwhHEg4QjhIl0rArW35fJycbffk+fRobp9GHvKcRjswejlzh+Y82u7R1j4UAOB0sI+36m1X\n",
       "Kc38e+XxYK/bx595GfJmb3fs3O3tdX4ceFfQX/5pn+dy4k4oa8yaA2+zepnsoOv22nZjN6/4M2tI\n",
       "x9BYcdXatf0MSrJdPQBoYN/oMNhl9SVX5uNE26XVL44QDiQcIRxIOEI4kHCEcCDhCOFAwhHCQTqe\n",
       "eCiw73nNf0eCmQ0Zfb2QXgQAcDoSa/Gehw9jsq1F1vkRAL59sS3k2Nj3srnmgdEC20J+d8fHxUcy\n",
       "9Clu7HvZ3XKb9Hy21/PwyG3a48W+5g8f7MFaAADS9yCScfUl8POjta3qruf3OZNx6WwYGQBkMtyK\n",
       "9bBg490BYF7IO0P3EEJQJBwhHEg4QjiQcIRwIOEI4SANCw/4zRfukMyLHf5rSCl2m3hXzNXKdogu\n",
       "5we6TyJOGCqzTnri3gzEvOu3/HuFuYfrHU+ZdsQhmop9AYG4UACwf2lf25j5M/v4yS43/vDjS36e\n",
       "lf3cEgn5LpXv4kjup0QeNJ4nO7R6qcxBusz2e5Na21VLLP0KYJKrJsT3Q8IRwoGEI4QDCUcIBxKO\n",
       "EA5SyVw7zwNvInh5Jq7GQvJIHT/W5sqeujyXSh000XwAz8Ste7vxYBNIJo00owOAx0e7RLwl07gB\n",
       "4N3Wbu7Xk0nRp0pJc0+WZrWzZw0BwP1X+5r/9ZmXez8+2LN7Xry35+CsXvA1W23stWkangmcA3Ei\n",
       "6R7AONtOWCbvTNvwmT5hIvnCyvmFEAQJRwgHEo4QDiQcIRxIOEI4kHCEcJDW6x39sFQCgyi2TZfI\n",
       "rJG25ZZjTHb4sI98JHcutuVYSmXWyUT2WWxzs0/cDt+T+Tht5HZ4IGuzIuHDATzIOJLw43rHR7zP\n",
       "IDNtFm5hf/pmW9iXaB/rw/6aHisSm7ipJHNDa79n/YZbyOxdOz3bYdp5rMxh0rh2Ib4fEo4QDiQc\n",
       "IRxIOEI4kHCEcJACad4GAFfXdvgSANpkuxrTYAcTl8zLYxvigiz80pBJQ8DzwBss5sV2orpo30uJ\n",
       "/HulXdnXPBPnCABGUlZeBvu6HivToOfBPn/TnOg+r17b21PirlL/wr7m27e2G5sSby5YSBPBhQSD\n",
       "AaAjjmOuOGErUlbf7sl0c+JQAkCImjotxHdDwhHCgYQjhAMJRwgHEo4QDiQcIRykUgvYVT7LxF5O\n",
       "HZlBMnJveZjskGfFpQRzfUdSIw4ATWNb2JkEMw/HIz1WR+6zlMp6TnaY9Ip0y7wc7XUBgEis7Ssy\n",
       "+h0A+s4Oc15d8TDtamvb3j3pvlppH4C2t69tqfzfoQ0kNFsJ0+aBhHnJLhN5/wCgIc9TvzhCOJBw\n",
       "hHAg4QjhQMIRwoGEI4SDtFRCiafTF/rZamWXFW+3dunsas3n48yz3eXzuRLYbFo7mPnm5ke6z+Vi\n",
       "hyaHgZSIN9ztaYhDdK44cSsQJ46EDLeJu10jmdtyd8tn3fTrO3N7SLwv5hzszwJI+JG5YAByttcz\n",
       "RO5ELqTcPVZK5Flok7l3JfCQ50T0oV8cIRxIOEI4kHCEcCDhCOFAwhHCgYQjhIMUyAhxAIiJ23Qg\n",
       "NuU42TXvbcdtykI6VnbE8gWARPoUNC0fYBVn+5o71pW0Msa7JbX165e8K+aedAYNg/0MftjZ3UIB\n",
       "YCRdOUPg34WrtX0/D8Mnuk8p9nlSY/97oU38mVEHufL1PV9sO3iZ+dCtSA6YyLXNpOcDALDMrn5x\n",
       "hHAg4QjhQMIRwoGEI4QDCUcIByklrp0Q+ayVprFdslLsIGWohP82WzvMOC+VrpCBlG43vAx2s7Et\n",
       "krLYazBXyrAjCyaWSmCSuDrrlX3/W+JcAUBLRsmHyK/5zMKsla/PNthOHCur73r+nBeyT61jKpvD\n",
       "NC98dtMw2O/AONvbQ6g8Z/KZfnGEcCDhCOFAwhHCgYQjhAMJRwgH6XLm7kQmzg3AXbWWTAkumXeq\n",
       "y8TVCpnn6Fi5c+h5KXjXEpeQOIup0vSOGUETmWANAEu081VnMkE7X3geKzX2Oj+f+HycKds5vs2e\n",
       "T9eeRvs857N9bcPIy+1jYu8Mdw9jIZlE8GeTVsQlI69TbaZRJu+gfnGEcCDhCOFAwhHCgYQjhAMJ\n",
       "RwgHEo4QDtI88lLjruMhTzb6HMQmrZ2HTnKvdGucLvbxlpHbwc2ejGvv2Lj2f3/0eBN4989cWPjQ\n",
       "vuYGfP3jbAdGK5XTyKST5dO3A90ndfZ5Rvo8+b8QUkcurjIH6XIkYVay/gAQSFl/29oW9kTmFgFA\n",
       "yfY16xdHCAcSjhAOJBwhHEg4QjiQcIRw8P95Q1kAcP4gkAAAAABJRU5ErkJggg==\n",
       "\" transform=\"translate(697, 347)\"/>\n",
       "</g>\n",
       "<path clip-path=\"url(#clip430)\" d=\"\n",
       "M1017.24 552.756 L1222.76 552.756 L1222.76 347.244 L1017.24 347.244  Z\n",
       "  \" fill=\"#ffffff\" fill-rule=\"evenodd\" fill-opacity=\"1\"/>\n",
       "<defs>\n",
       "  <clipPath id=\"clip4315\">\n",
       "    <rect x=\"1017\" y=\"347\" width=\"207\" height=\"207\"/>\n",
       "  </clipPath>\n",
       "</defs>\n",
       "<polyline clip-path=\"url(#clip430)\" style=\"stroke:#000000; stroke-linecap:butt; stroke-linejoin:round; stroke-width:4; stroke-opacity:1; fill:none\" points=\"\n",
       "  1017.24,552.756 1222.76,552.756 \n",
       "  \"/>\n",
       "<polyline clip-path=\"url(#clip430)\" style=\"stroke:#000000; stroke-linecap:butt; stroke-linejoin:round; stroke-width:4; stroke-opacity:1; fill:none\" points=\"\n",
       "  1017.24,347.244 1017.24,552.756 \n",
       "  \"/>\n",
       "<g clip-path=\"url(#clip4315)\">\n",
       "<image width=\"206\" height=\"206\" xlink:href=\"data:image/png;base64,\n",
       "iVBORw0KGgoAAAANSUhEUgAAAM4AAADOCAYAAAB2Hz3EAAAVBklEQVR4nO2duXMc13bGz8z07PsA\n",
       "g8FGgADBTeJmSo/anmzLLtkvcTm0U6cO/ec4cuLEmbNnu55Lr8p6i0QRIimKIkSQIPbBDGbflx4H\n",
       "Tr9vglsOv194Gvd29+0+01UfvntO4N/++R9mRvjt13vskPn1Jox//vEmjKdKeTrXZaUC47XpMR1z\n",
       "3g/DeOUdvR1rj9owvpLPwPh6KETnmlkSxn/9m5d0zN272zD+5Rc4boMxnevrJ+9g/E8efUDHfPft\n",
       "H2E8OsNraWa2c20LxrfurMP4jyfP6FynJ5cw/t7mXTrGbw1xvNOgY4IefgfiqTSMT4cBOle9ht/z\n",
       "IB0hhKAocYRwQIkjhANKHCEcUOII4YASRwgHvN1vXtCDGysleiyYx1JtOo2lvUScS7unHSwT5wsp\n",
       "PqaM5cjV5AIdUw31YXy5hOXo1GTONZ8M8JgolzZX8lj27TeqMF4sFuhc6TSea//1j3TM1mYWxqvv\n",
       "WnTMxeERjG9s5mB83OzQuSIjLK8nPb5mZx28NqkYl9AbbTxm6mFpu13p0rli0xiM64sjhANKHCEc\n",
       "UOII4YASRwgHlDhCOKDEEcIBr1RcogdHPpZvzcxiKZxz+UU83ySI3cRmZvuvsDv6y7/9mI55c/gD\n",
       "jC8XsExqZpaaTmG8Uceu3XbLo3OFA1gq/uwT7vT95KPrMJ7OMAkfy+RmZpk9LPs+2eVy9EcfXIHx\n",
       "jVUu4QemWJI/+GkfxpvtOp8rhu/n1eEhHVMsYlf9yJ/QMdkM/jfKygJ2R18Gy3Su2DAO4/riCOGA\n",
       "EkcIB5Q4QjigxBHCASWOEA54A58b3NgecTOznesrMN4e4b+vNbiRMJEiysmY1w/wzYfxcuWEjskt\n",
       "YYUkMI3AeKWMjZxmZtEwNqau312kY8IZrOqd1fA639rEa2xmdnnRg/FUlBtjV0pYbRr0+P79iOG1\n",
       "qdawYXLc57/FZ1V8nivbXD0sX+L3880+r0dxdR0/g3wGm1zzy9xMWz/E16wvjhAOKHGEcECJI4QD\n",
       "ShwhHFDiCOGA15yjqLw9OqXHIkm8dfWico7jVaxCmZldX1+F8Rc/P6djcst4S2vvjMh6ZlarY39X\n",
       "t409aafHuIqjmVk2jc+TX8B+MDOzt6evYbxKqqKGZwk6lxdh2425EugTBXV9myuB3Rr2hAU9fG3V\n",
       "NlbbzMz2fiBVPomqaWbmEfW0XeE+yoaHlcXmOn5mayWstpqZhbNYvdQXRwgHlDhCOKDEEcIBJY4Q\n",
       "DihxhHBAiSOEA95Clm9pvn9vhx6Lp/G4eALLl40xN5OmN6IwHuE7l+3kDMuRU+ODsmkse4ZGWPIM\n",
       "T/k15xL4PBE8lZmZ+WP8O7W8iOXgcg1X0TQzixJf4ucPfknHXN8uwnjjkhsmJ2SL8rCPZVq/wSX8\n",
       "e0Vssuw1+b8qMkv4mpsj/mziISyVT4hS/+YdNwYHWljC1hdHCAeUOEI4oMQRwgEljhAOKHGEcCDw\n",
       "T/94je5PHkx4XuUWsBL0+We46F4gyHugGFHCjl4c8PMHsUIWm/NbcHZ2BuONOl4Cb8rbpWc9Ypgs\n",
       "8eJ+FsYKVSyLTYbDOet/Rvao337vHh1TiOA1K5++pWPaTaySRXx8bcEBLxSY8LB6+qLOjaH5dazs\n",
       "vtqv0TGPn+FilV4cX3M8w820y0n8buqLI4QDShwhHFDiCOGAEkcIB5Q4QjigxBHCAa864BU2qzW+\n",
       "r/vWAu5D8+Q53ldfSPF93avZZRhvveP759NRLJNmM/w8ozGWFvsDLG1ur/GW4GsednPGA7jXj5nZ\n",
       "dEjup4Gvq9bmEn52iCXc1u4FH7OIpfKVMK+YuhDEsns8iq85FOO/xV4YH4uS1vNmZg0fv58f3Num\n",
       "YzIlLHt/9T9PYfzpU75m0Ye4hoS+OEI4oMQRwgEljhAOKHGEcECJI4QDXnCIO/GamTVP+DbY7yt7\n",
       "MB4KYrXlw/u36Fyb93H+ZgPcZBkwbMzbn6PErS/iMTt5bP7cynLDYsHD3ZixnvN/9IlIGU3jUYs5\n",
       "rhD6EXz+yYRXMg1P8RZlfhazSAw/gyFRYwf+nK3rObz+/oQ/5+oRNqBWe3zMx48e4fMQVTMV/4nO\n",
       "1WtixVVfHCEcUOII4YASRwgHlDhCOKDEEcIBJY4QDnihLq/kuVXYoMcCUyyHVuu4wmNkThvvUAcb\n",
       "Fmc9bkD1Y0sw/rbMW8yv5LFUe/cKXoPFNL/mYAjv3w9yv6R5aSzHBuK4SVY6jStfmpl5YWwAbZIa\n",
       "AWZm3QY2bM6rBjHp4zVjhtn2lL9PzUssIcfyfM//Dml6tfeMVx+9qOI6BQ/ubcF4KsnrF8zGuEmV\n",
       "vjhCOKDEEcIBJY4QDihxhHBAiSOEA16zzZWre3f49tQOUc8uq7hd+0KCazdrOawevazzvD54uQvj\n",
       "y0Uuay2TbdV5onbZlE5lE9LvJ0jMn2ZmoSQ+vx/HJs8xUS7NzJpN/NyGA77OqSx+nv4IP0szM9/H\n",
       "xtChYVXxrM63Qf98jM/TamGTrZnZ7Q38EC7K3Mx68vg7GP/lRw9gvDfH6LyYx4qnvjhCOKDEEcIB\n",
       "JY4QDihxhHBAiSOEA968rbbjGZeVQgF87OYmLnp3tYS9ZWZmv/8K9zN593OVjslF8XX/Yof3p1lb\n",
       "IP6qAd5S64WxT8rMLB7DStikzxUiv4PP40+xQhVN8E3NM7JFOUW6YZuZRUk35l6IP2fWumb3Kb7P\n",
       "3TJvu71XwV61pQjvIF2MYR9Zq8vHGOl3s/v9KxivnfO5psR8qC+OEA4ocYRwQIkjhANKHCEcUOII\n",
       "4YASRwgHvJ3tFXqwkCvQY4M+NvP1u7g/zO9+iyVnM7Pa21N8gPSAMTP7y7/CbeFLi1xa7bU7MB6O\n",
       "Y5NppLhG55r5+NqCE751ud/CcvTZKV4zL8UNq4MB2W7Ndy5bKoxl1/Mq74P01e8OYLzVxvd/NODr\n",
       "v3fUgPH3P8Nbnc3MCsvYgBkYcAn5/m0838kbbEDOzGnXXq0TMy8dIYSgKHGEcECJI4QDShwhHFDi\n",
       "COGAt77DjYyNGlahzMzGQ9w7JpLCClXznBd9831s/vvzj6/SMWtL2MxYr/CChJkk3lacz2IzZdjn\n",
       "alNviNWj4ZArkXWiBFU6WG3qVY/oXBcVvP6LC3y79WYJd1B+vMuNvn98hbdop1P4md3Y4Wbe7du4\n",
       "wOV0whWy//4BK2GBApcPL6tYpVxYwsbcSpVvHV9YxO+zvjhCOKDEEcIBJY4QDihxhHBAiSOEA0oc\n",
       "IRzwssUcPfjs+x/psWEVy6Hvb63C+Hqey96tBG7Jfe0alxzHIyxvJ6IZOmZKaii06lh2j0y4YfGY\n",
       "GCMnE76eiew6js+wtN6vcMNoZgFL64kCrznQIp7Z1+cXdEw3hn9bF5ew7P7g/j0613kbm1z/8BOu\n",
       "Fmpmlt/Aa5Zb4AbgSAw/t9JaEcbjKV7bYTwhZl46QghBUeII4YASRwgHlDhCOKDEEcIBbzjkBr/q\n",
       "BTdMTurY5JcglTSjWIQzM7Mk2SJ8WD6gYxKk6/K4zw17YY+YPIl4V/J535R0Gt9nOHWVjpkYvs9a\n",
       "E1fF7A74onkJrB4Oprw/zut9bH6cpbh6+OgBVsnCM3wv//UHrsTuHWIlNFjg1Vc7NaxeJhZ5xdBY\n",
       "EhtdowlSMXXAc6B+iZVNfXGEcECJI4QDShwhHFDiCOGAEkcIB7zjd6QYoJktZuaoSgVcEG8th5Wg\n",
       "1XSKzvW8jxWScZR71c7a2N/UqnOFhPW0mXr49yMz4QUBV3LYkzaMcoWqSxQavJJm4TDv4NwZYFXz\n",
       "osHPf0K2Wy+t86KU9Sb2l33zdA/Gf67yLuZ+kqz/4TEdEyljlXAyzNMxF8d4nR8+wM8zHODbzW2G\n",
       "3019cYRwQIkjhANKHCEcUOII4YASRwgHlDhCOOBdHGHjn5lZJsL7hmRjWMLLxLB8Nxtxw+iNG5sw\n",
       "3hhjKdTMLL+wDONemJ/noo6l0kEAbzeekC3NZmZd0mtnOkfC7rdx+/mQ4bVs97hh9aJJZNI5Ztp8\n",
       "Asv7J8d8zZ6/rcN4jcjhoxgT182iKbyeoTH/F0Iqio2Z56d863TlHMvRESLv//Kjh3SusI/H6Isj\n",
       "hANKHCEcUOII4YASRwgHlDhCOODFQ1wFeXT/Dj12cXAA480OKe6X4Ea6yQiPadR5f5qIYYXGC/Ct\n",
       "w7ffuwbjYR+rdyNSwNDMbDjC8tVswhWiVgOretMJLoh3esFVtf4Y/+b9zafv0zFp0pL6P57j/jxm\n",
       "Zr8/wMcaIbLOc9bMG2DFMRThz2wawGP6PazqmZnNyHTf7mIzaWjOFvlPHt6CcX1xhHBAiSOEA0oc\n",
       "IRxQ4gjhgBJHCAeUOEI44HlhbmRcXcdGSjOzy1NcffK0iuPhAu9BMh1iOXhrGfdGMTPzQ1hCbDWx\n",
       "KdHM7PY1bCY9PsX9YSotbn4MBrHJ0p9xObo7xtLqwUEZxstVLuH/2V88gPH7H+CW6GZmT1/gPkRP\n",
       "XvO28OUOlsSnxHzpkQqfZmY+kfBDYTyXmVmng98Nz+eVPIMhPN9ognXq3ed4XczM7ty+jc9BRwgh\n",
       "KEocIRxQ4gjhgBJHCAeUOEI44C0Us/Tgy9dv6LEO2e6aiGO1q0o6DpuZ5SNY2VvK8K3bDR+rdHtv\n",
       "uEK0eILVq3YfGxOHQd7Buj7EY/pzeq3UutiY+K5Cui5Hufnw7oOrMH5R4R2k//0/ce+axz9zJbJP\n",
       "flvjxOSZjXOFjPlCmz2+ZmMfq3SJBK9yGicVQ1k8HODvZrOP10ZfHCEcUOII4YASRwgHlDhCOKDE\n",
       "EcIBJY4QDngB0sLczOyyyZsEVRu4TkCI1A/YzHKTZ5r4Aut1ItOa2XELt/5eWl6iY7pEdvZJtcbS\n",
       "Km+49O71Pr6uE1yt08wsnMC/U5Molkl3dvj5U1G8aK+f8kZhb09w9cvWiL8DoSi+5pBhk2UmzSX0\n",
       "fg/XkJjj1zTPw88mlea1MnJ5YkCN4BOtlhbpXJEEvmZ9cYRwQIkjhANKHCEcUOII4YASRwgHvOwC\n",
       "NzJWz7FCZmZW6+IttdeJEjXzuZGv0cPqWefNOR1jxON3d3ubDjkrd2Hc87BCtVTgLcFfTrESVunw\n",
       "BjURoh62x1jtSyd5i/v2OTYfhnx+/oUVPJ/XmFMxlYhX2RQ+EI1xk2erSZTYIN++75Pf9hD3eFo4\n",
       "hNdge2MNxnd2VulciTg25uqLI4QDShwhHFDiCOGAEkcIB5Q4QjjghYNcnhiPeGffGzu4uN+kixWa\n",
       "Btk2bGaWNCw3xedIJ4kgnu/wLfaQmZkdlbGyt1bEyuKwzb16/RG+tvMmV7WCA7w29Uu8dfe73Xd0\n",
       "ro0oVqKiM37+9VVc4HDlDCuEZmbdLn4HMkHsb5uQAoZmZknSkTo2Z7t1Io23z9+9yZWwwBSrpxtF\n",
       "XGBz3OLqcbON59IXRwgHlDhCOKDEEcIBJY4QDihxhHBAiSOEA97FEa/imJhxmXDWwzJlv4vlu2Kh\n",
       "QOeKjrFM680xhk4nWPa8rOIt1WZmky6eb5TCJstWg/fHSSdxBdQfD/H9m5lNg/hYYoal7RGRVc3M\n",
       "jlpYji+EeH+aKFnPqzm+rT2/jnsULZAqq1OP/wsjQWT/epdf82IRG21zZEu1mVkZF2y18BhL9StL\n",
       "3EwbTeFr1hdHCAeUOEI4oMQRwgEljhAOKHGEcMB78eyYHixleO+c6Ayb/Nqks3A8ws2HdWKyS4d5\n",
       "obzNFWzYa9W5qmaGFcTeACt0tQbvtTOb5WB8Xn+c9gAXxOsZVvXqdW6Y/PYZvrZ717gS2uhgxauY\n",
       "4arW+zdwgcFhD48p1/lzjofwfYayXCHLk1ewcVGhY2ZT/AyiAWxmTSV4HyYjy6kvjhAOKHGEcECJ\n",
       "I4QDShwhHFDiCOGAEkcIB7xcgUvOYyI5mpmVCliODU1Je+8kl0knQ7wXfkB6sJiZVUkNg0iY30+5\n",
       "hiXMbCEJ47k5lTx/eILbokeIYdPMbH0Zr5k/xvfSrPCaB+0hlup/PuVVOSc+lmODPpe9u70GjM+C\n",
       "uH5AKo/X0swsQeokrCxyA7Afw9Ly85e8HkMuiCX0eAQbNs8r/F8YjaFqDgjx/4YSRwgHlDhCOKDE\n",
       "EcIBJY4QDni3bpfowctDrKiYmaWzpG8J6yDdOeNzLeKtu76PTYFmZs9fHcD43Wt36Ji1rZswXq4e\n",
       "wnhon6tNe6+wejUdciUwm8Sq0tYG7noc9LboXFHifz0559u9h31S/dPnv5+tEVb27n2Eu3tfXeEK\n",
       "WZcYcCcj3l281cNKaK7IVdqtHO7RFAzh+6w0+Hs+DeHnqS+OEA4ocYRwQIkjhANKHCEcUOII4YAS\n",
       "RwgHvATvKWRPjvme+/4Am/nWrhIjY4c3lmr0sezsxec0llrERr6Xb/g1b5ZwnYIrG9dh/JvHz+lc\n",
       "7y6w+e/hh1fomF/96gGMh0m78h/3T+lc3z19BePJDF5/M7P9Y1xfYjKn6Vc0i5/N4hDXiSgm+b83\n",
       "AgP8so1HuLGWmVkmhWXnYJK/uFeWcPXROpHqM/kFOlc6jZ+NvjhCOKDEEcIBJY4QDihxhHBAiSOE\n",
       "A142gbeTmpklknwbbHoRKxH9IelBwwtcWjSFz9Nq823AtTo2H26XrtIxx+UmjPdbWDlZ3cRGRjOz\n",
       "/E2s+P3d339Bx1wjZs7XL/F9/su//obOlVrGz+3TL7FyZ2a2chMrbk++4y3u43m8rT1ewqpWpcVN\n",
       "ptfXseI4anGTZSaDVb23F/w89SY2jR6cYJUynOD9gYoLWInVF0cIB5Q4QjigxBHCASWOEA4ocYRw\n",
       "wEvNUc6++OsP6bFMBheke/z9LozH0vw8Szm83XZnjpGuk8EFAfNZ7pX69f4ejLcbeIv0559u0rm2\n",
       "7t+C8e0rWIUxM2uVsXr0+OvvYbywwPu2/OJPr8H4Sgk/FzOzkOHuypk499cVlrB6F/CwV69V44UC\n",
       "22283zsW4P662gmWY1NxXniyR5TdIOnRFElxr96rE7ytXl8cIRxQ4gjhgBJHCAeUOEI4oMQRwgEl\n",
       "jhAOeO0hl+JGQd5624thqfj+w4cwPujyqpyDS7wN1yNtt83MSsQw+MOrMh1TWMTy7qM7uPrnUgGb\n",
       "P83McmSL8rDH16x6gc2HrUtsPl2K8Hb1Cx7+zct53LQ7CuNr7gZ4Jc1Ssgjj52TreCmLjaxmZpVT\n",
       "/Gw21riZNkj6DQ16+J0xM9u+eQPGl4p4bY7O8ZZyM7NWB/+rQl8cIRxQ4gjhgBJHCAeUOEI4oMQR\n",
       "woH/BafM9CxkoHMZAAAAAElFTkSuQmCC\n",
       "\" transform=\"translate(1017, 347)\"/>\n",
       "</g>\n",
       "<path clip-path=\"url(#clip430)\" d=\"\n",
       "M1337.24 552.756 L1542.76 552.756 L1542.76 347.244 L1337.24 347.244  Z\n",
       "  \" fill=\"#ffffff\" fill-rule=\"evenodd\" fill-opacity=\"1\"/>\n",
       "<defs>\n",
       "  <clipPath id=\"clip4316\">\n",
       "    <rect x=\"1337\" y=\"347\" width=\"207\" height=\"207\"/>\n",
       "  </clipPath>\n",
       "</defs>\n",
       "<polyline clip-path=\"url(#clip430)\" style=\"stroke:#000000; stroke-linecap:butt; stroke-linejoin:round; stroke-width:4; stroke-opacity:1; fill:none\" points=\"\n",
       "  1337.24,552.756 1542.76,552.756 \n",
       "  \"/>\n",
       "<polyline clip-path=\"url(#clip430)\" style=\"stroke:#000000; stroke-linecap:butt; stroke-linejoin:round; stroke-width:4; stroke-opacity:1; fill:none\" points=\"\n",
       "  1337.24,347.244 1337.24,552.756 \n",
       "  \"/>\n",
       "<g clip-path=\"url(#clip4316)\">\n",
       "<image width=\"206\" height=\"206\" xlink:href=\"data:image/png;base64,\n",
       "iVBORw0KGgoAAAANSUhEUgAAAM4AAADOCAYAAAB2Hz3EAAAR00lEQVR4nO2dyY8dZxXFT1V9VfXq\n",
       "9eBOPMWOnRESgSAQxihAEKAsECA2bBDDhv8KgWDDirAIEoIwyIAySQwihIQhhDjxlLbdHrrd3e/V\n",
       "yKLZcc+VfOXl+S1v+fuqXlUdl3T6DtkPf/DdCYQ8z9kh1HVtxlNKtxX3jvV9T9eUZWnGvWsehsFe\n",
       "M2T2dWV2HADGvLUPFPR2gpwe7ZKt4ecfhs6Mdx2/ZwzvnhUFOUbWtB25LwC61r5mj4w9g2yka6bJ\n",
       "vtHs+U/8kWEcyTvDlwghGBKOEAEkHCECSDhCBJBwhAgg4QgRIK2sNPRglnM7tMiL21uTcc9vubQt\n",
       "zK7j9iWzXT1rlVmb02hf20gs34O97PPXdUXXYLLv2Uhs0r3FHt2qG+3z8yfGf39R2NcFACm3/1RQ\n",
       "FyTuvDPs/OPIrWVmB8OxkHNmoRPallvoE7k2fXGECCDhCBFAwhEigIQjRAAJR4gAEo4QARJxlf8H\n",
       "9/xGkoE69bZ95ziONGuYWYEHa8gi55qZHdpNtrXbtgu6VyIWdj6t8TXEqh1JFnjmPJsZsb1pNjEc\n",
       "a9Wxo5mzm4FZ9Y613O+bcS8Lnv15o8jt7HgAKNPMjE8kc71b8uc8TbKjhbhjSDhCBJBwhAgg4QgR\n",
       "QMIRIkBaLDxHgTtUrOafmTrT5KQfkvP4SabsmOMqkfhAkkkd4wYr+YoZryee5JkP9v9TGTtRxpxD\n",
       "oJrZa1onMZb5Xang9ywnyblNbSd5ej0HcvJ7ktOnoazs35kKfp/LZB+j7/M4p3sNxPHTF0eIABKO\n",
       "EAEkHCECSDhCBJBwhAiQ+p67ICPJ0wFAS6ELp3SZbkUcskScu4Pz2Gu8XC1WolsQvy0nZcMAsJ5s\n",
       "J2ZxeZeuOff2OTN+6OiGGS/v4r9/NrPzyyrHicxJx9Sy5A7VSEq0a+J2cbcTyMj9d6qgqePq5T5O\n",
       "JI+RdYxdaXj7gP19O79OXxwhAkg4QgSQcIQIIOEIEUDCESKAhCNEgJRKXja7XPKS1oHY2BPt8Mkv\n",
       "oqrsNV5XzJRIV0zHp+x626Zskm2tViRZEADq1rY2r1y5Ttfc3Nwy42urth26doKXYa/MyGAvpwya\n",
       "ZeBWju3PkjbZnypSwfeqKmJHO34067LJup8CQEFsZ9YVtO+9jrH2+fXFESKAhCNEAAlHiAASjhAB\n",
       "JBwhAiQ3Kc9NvyNJnqQMNyWu0ZKscQw/1OSgV1KLyW5UN5LfkjkJq4l0C1xs36JrTh09bsY/+JEP\n",
       "mPGh4Q5hRsaVZ559SZ8Zv9GsieGiW5J/z9+ZgiTNeq5aTn5nkXvnseMTcdUy5wISeQf0xREigIQj\n",
       "RAAJR4gAEo4QASQcIQJIOEIESBVJlgSAcoV3OGQWJqvrLhw7OhFrsSR7AUBFkkmb0k5+PDiPvYY5\n",
       "m8uc28E96Yu5Prct74Nrs5M5sxX73kwFT2RMZPQ7baUK+L4voSDvBzu/N+uGJYA6DjbY/+38zgAg\n",
       "tvMwEGt75PesIha6vjhCBJBwhAgg4QgRQMIRIoCEI0QA31UruUNUOd0fLbzcQ2a4sVJXACiIe+R4\n",
       "SrTDI/3/w5nbMiX72PoGL3de3iBTlxd2wmSxyl1F5mp6M43Y3WFu08F+7Jh9nqrk18w6o7Ytd+LY\n",
       "azM6L9Q42PuRQekoCuc+k/dMXxwhAkg4QgSQcIQIIOEIEUDCESKAhCNEgJQ72ingWNXEwhvZ6HXH\n",
       "J2ZtD7yunGxD7zw9saPbybYvO6eundm+q3ev0zU7V7bN+LC9MOP1Kt9rIJare88IPelwCgBdb1vl\n",
       "A/lTgWftDr19bZ4dzp6n9+eQjCWTktOw8e4AME2yo4W4Y0g4QgSQcIQIIOEIEUDCESJASjmfZ5I5\n",
       "umK5f6xbY0bGuwNATjbLvUQ+YpF0A591wkaPt4N9bb3TybQi7SIPHbuLrrnwxkUzvn3JnqnTHOGl\n",
       "64vRduJcV439HC8zliwayUyZdmFfFwAUxO2qK55MzEq3vdlFzCUb2HMmbh/ANaAvjhABJBwhAkg4\n",
       "QgSQcIQIIOEIESDRyljwuTEA0HekuRuZdeMaN+w8ThlwP9mujueQDKO9ZphIQ0CnU95Ernm92aBr\n",
       "0tx2yS6fv2zGjz5qz9MBABAzNHfmHbH8uqriDhWbn7Qgc2t6Z6bQfL5ixptmla7pWvuZ5WQ+EQCU\n",
       "xIljM4UGZ4I1SONJfXGECCDhCBFAwhEigIQjRAAJR4gAEo4QAdLk2Lcjse8AoCflrizFMncM6ZIk\n",
       "TGZOJ02WZdqhpUuYHV1Xtk3sjavversr58idVWwcP2LGt85dsM/v2PFNY88BYvYtAGSkDnlG9gKA\n",
       "kcy7aWZ2YmbeeP8X28dY500A6Eky6TDwZNKBdBNlHUO9P2GkZPv++uIIEUDCESKAhCNEAAlHiAAS\n",
       "jhABUkEcLQAYnUZxfmLc/5N5A3JIYmBBpkQDwEQct8yZIMzKcEviwhROGXKVbFepWePlzsdO2Wv+\n",
       "9YdXzPjVy1fpXsfvOmnGM2dSN+vuN7rP0r7Piczn6Tru6rHmfl1rO5QH+9nXljnNItuWTZ2213gJ\n",
       "ozkp+dcXR4gAEo4QASQcIQJIOEIEkHCECCDhCBEgra3zGSxdxxMmW3KM2dslsS8BIGejv2eOrsl2\n",
       "lWNHJ9Ixko0YT14nz7ox4/WM29HVUfva+nX7/Fe27A6fAPDAdL8Z7xxreW9h276Llj/ngiQ5sufp\n",
       "Tosn93O5Z8/gOdjPvmdlzTvQsjlIZUF6Kzh9N7qFfW/0xREigIQjRAAJR4gAEo4QASQcIQKkiUwP\n",
       "BniCGwAUpKw6J/H5nM9AYXNwitLppMnWJF67XJVrZrwliYl/+etf6F6vvfpPM76/x8uATxw7bcb/\n",
       "8Ip9nkP/4QmbDz70ADnCz5+Rrpx1yUun6RMg3U9rZxo0m90zn91+99Es3X7HUHaWnpRUA0A72o6f\n",
       "vjhCBJBwhAgg4QgRQMIRIoCEI0SANDplq96k6EQSfOrSziHKHPduImWww+CUTme2ezOb8fk0L7z4\n",
       "ZzP+zE9+asbfOvs23Wtvl9w3Up4LAMeP3GPGm8Z2HF/9x3m6V1bba776lS/SNadOHrMPkFlDALAk\n",
       "+W3eRHBGTkrkq5q7ejkp986ckv+c5NENxD0tnPlAI1mjL44QASQcIQJIOEIEkHCECCDhCBFAwhEi\n",
       "QMrI/BGAJwUCwKy0NdeQMuTJsbZzYmFPGU9yvLljJ9+9/PLLdM33vv8jM/7OxU0zXhHLFwAw2r//\n",
       "4fvtRE4A+NY3vm7G19fsxNRnnn2W7vXzMy+a8fOXt+ia73zbPv+Dp4lNDWDo7T8jkPFE6Mk8HQAo\n",
       "yXNmcQCoiVXdOzN1WDfR3Z1bZnxwrjkb1clTiDuGhCNEAAlHiAASjhABJBwhAiQ2VRgAEnHIAK44\n",
       "NimZJfgBfBry7j53/H72s1+b8V/88nm65twle97MQIpqlz1vlJcy22164smP0jXN3L43V66eNeMn\n",
       "7z1B9ypftcuDX3/jHbrmV7+1nbhvfu3LdE1iM4rIM/McskRm97CSagBYLu1n4Ll37NhEzkN/I4BZ\n",
       "bSeA6osjRAAJR4gAEo4QASQcIQJIOEIEkHCECJBmjW1rHuAOOzHpSc19xrICAUyTbR+ePXuBrnnp\n",
       "pT+a8c2rPMkxK23bceztGSip4EmuNekkOav4msXuDTO+t33NjG+s2DN4AODQmt2V9PrOLl3zt7+/\n",
       "YcZfefV1uuaTj7/PjLMOsKUzLp69TaxbJwAMZNZN4cxbYn/eqNi1DfzdZLnJ+uIIEUDCESKAhCNE\n",
       "AAlHiAASjhABUqq4c0PMCQBA19nJd21HEulKvllZ2W7HtWs36Zqta/ZE5qrhXSGps9fa5y/oRBVg\n",
       "PrPLqucVdyn7ffv8e9f37PNXfIL1Bpk3tHmVT6q+9O4VM/7cr87QNQ+Q7p9Hj9odU5fOBGtWBs3i\n",
       "gJPM6ThxLJmTPU2vKylNWqYrhBAUCUeIABKOEAEkHCECSDhCBJBwhAiQ2o7XbudOkmPPLD+yJDne\n",
       "Njt0+jTvinnX4SNm/Nam3VcAAFbntr3bLu170O5xa7UqbRv/xg2eZDlPdv36zo49vIlMHQcAHN4g\n",
       "Y+nP8gFePRnU9dY75+iai5u2hX3vvbZN3ba8TwODJXJ6xwanA21H+hRUiQw9y3li6mKhce1C3DEk\n",
       "HCECSDhCBJBwhAgg4QgRII3OqO5s4roqSZdPVtKaO/Nxssx26JpVnoC6urFuxtN1ewYKACTYrlZB\n",
       "kgyziZfn7i4XZvz5l1+ia97/yMNmfGzJSPSa3/9mbl9zPnGHaiSzbgZyXwBgKogTRRIjWYIlAIzE\n",
       "IWOlzt5+vePe5eR9qmv7t7Qtd5ZbUlavL44QASQcIQJIOEIEkHCECCDhCBEgFU4+WlFwXbFyV9Zc\n",
       "zhmPg7q0XZ2u26Frbt2yj+WOQ9MR94Tl5E1wHCrSkO/i5iW6JoN9/jXmkPFRM8jYDQ2UFM9JDh8A\n",
       "rB86ZMYHMvXZm4PEkhI9V40xOQ0uK1KKX1b2Dc2dXDVWcK0vjhABJBwhAkg4QgSQcIQIIOEIEUDC\n",
       "ESJAYiO0AdfZdGeaWGROV8xpso9tX7fnyQDAjS27pHfqeWLmSJJWR3L+oeOl0xlJpixJeS4A3Lhp\n",
       "dybd37Wv+e677W6ZALCzZyfnZs7o8YlMqKFzY8DHlbOx7JkzU6kjXT49C5u9Z8kZC8+uoOvIMyN/\n",
       "DgGAemZfm744QgSQcIQIIOEIEUDCESKAhCNEgDQ6pa50Ngl4kh0rnR6cRD7uavGy7tWZ7YQs3YZ4\n",
       "zD2yz1/kzjWT/M+7Dx+ma9p9ew7OjRv21OnNK3yC9vau/TvLyimDJg5VRcrgAWA+sxNQ2XNul/x9\n",
       "aomrxhw6gCeANs609OXSLkVfkPM7Q6eRkW+LvjhCBJBwhAgg4QgRQMIRIoCEI0QACUeIAGmxsDtS\n",
       "An4i5+0meQ6O59eTEe/HjtgzcADgU0983Iw/d+YFuqbLbAt1fc3uCnrl8rt0rylQc79P5rbs7Nr2\n",
       "6dlz5+leyG3buarJ3BzwmTKjk8zaEwu3Jb/FoyJWuddzgCaTOv0wQLqMDqP9znZkBg4AVNXMjOuL\n",
       "I0QACUeIABKOEAEkHCECSDhCBEh7e3biIeC7HSsrdpIdW+O5cIul7fbMnITFzzzxCTP+yt/+Ttds\n",
       "7drneeqpT5vxF37/O7rXm2++acY3Nzfpmu2b22acle5mBU++fPAhe9bOlNkuEABcePstM940diIn\n",
       "AFSl7USy5+wlDTNXjRc782TSzpmW3pIS6ZyUlffO1OuczBTSF0eIABKOEAEkHCECSDhCBJBwhAgg\n",
       "4QgRIDG7D/DtaHZsINaenxNq78U6PwLAfadPmfEvfO6zdM2Zl/5kxh977INm/PA6T5j88TPPmPEL\n",
       "F/lgKXYLHn7Pe834kcP2UCcA+NDjHzPjb529QNckMijryY/bvx8A1lbtoVNssJg7IoocXJI/RwDA\n",
       "giRgeu8tG2DVk0TjybnqxVLj2oW4Y0g4QgSQcIQIIOEIEUDCESJA8kZ1e4mZrMtnR8pzU8G7NRbE\n",
       "1RickdwTmU/zyY89TtfM5nZiakHGqH/4wx+ie21evGjGnzvzG7pmi3TsfPSRB834fSeP071OnLDL\n",
       "ynd27ERSAFhvTpvxzz/1JF0zJ6Psuz275H4i5ekAd6h2d3miMSvrXt9Yo2sqMpZ9f5/MFCJzkwCu\n",
       "AX1xhAgg4QgRQMIRIoCEI0QACUeIAMkxrtA65anMbZjN7NLd2imDHskcnKbhuWIs8Wt9lc9NeeIj\n",
       "j5nx1/79thnfIiW4AHD/vSfN+H2n7TgATDnJ41vumvGjTq5cRVzFUyeO0jWz8h4zfvgQd6i6HXvy\n",
       "9z7JIavmfK+isPPbUu5M9yZm7GrT0DUDeTm6zH7Zs8J5N8l91hdHiAASjhABJBwhAkg4QgSQcIQI\n",
       "IOEIESDduuXMBqm5TccS6fLM7j45TTz5Ly9s+zCRDpcA6AyU3rHXC5KweOIeO5ny0nnelbPft2fa\n",
       "fOnpp+maZt22yjvS4XNx7Sbda2zte3aM/BYAyMnv33W6ue5v79h7kTlAtTMfqCcl0q0zn2e1tt8z\n",
       "lmQMAGNu/86cdEb1Src7cm364ggRQMIRIoCEI0QACUeIABKOEAH+CxMDQpleZ5vFAAAAAElFTkSu\n",
       "QmCC\n",
       "\" transform=\"translate(1337, 347)\"/>\n",
       "</g>\n",
       "<path clip-path=\"url(#clip430)\" d=\"\n",
       "M1657.24 552.756 L1862.76 552.756 L1862.76 347.244 L1657.24 347.244  Z\n",
       "  \" fill=\"#ffffff\" fill-rule=\"evenodd\" fill-opacity=\"1\"/>\n",
       "<defs>\n",
       "  <clipPath id=\"clip4317\">\n",
       "    <rect x=\"1657\" y=\"347\" width=\"207\" height=\"207\"/>\n",
       "  </clipPath>\n",
       "</defs>\n",
       "<polyline clip-path=\"url(#clip430)\" style=\"stroke:#000000; stroke-linecap:butt; stroke-linejoin:round; stroke-width:4; stroke-opacity:1; fill:none\" points=\"\n",
       "  1657.24,552.756 1862.76,552.756 \n",
       "  \"/>\n",
       "<polyline clip-path=\"url(#clip430)\" style=\"stroke:#000000; stroke-linecap:butt; stroke-linejoin:round; stroke-width:4; stroke-opacity:1; fill:none\" points=\"\n",
       "  1657.24,347.244 1657.24,552.756 \n",
       "  \"/>\n",
       "<g clip-path=\"url(#clip4317)\">\n",
       "<image width=\"206\" height=\"206\" xlink:href=\"data:image/png;base64,\n",
       "iVBORw0KGgoAAAANSUhEUgAAAM4AAADOCAYAAAB2Hz3EAAASJklEQVR4nO2dyY8c2XnEI9daunrh\n",
       "2kOaHI0GAiTbR0E2YMA+CLroP9dR8AKPNnJINtlkL+y1ltx16GvEA/RhjvE7vur3MiszoxKIjvd9\n",
       "2W9///MJgqqcqY/waPGcjq/mKzpeFLlcC+IMxnGQU8ahp+NZlsk5eV6I8fIfOzEA4zjS8T5xzl3P\n",
       "z3kc+XGmiR8j9Vni66Oa1XS8Lvn4w8mJBdWlGfl3BIC+5ddGXRcAQCa+Z+Jx6vqWjg/ipLNMP+fN\n",
       "bkfHE4c3xigsHGMCWDjGBLBwjAlg4RgTwMIxJkC5mGsrriwq+dms5hZuISzfDNonVc5mylotCj6r\n",
       "KPjxHz7j5zwMfC1lEz/Af3MSp4wsE+tJ21kfP8uFHT5w+xQA2s2GjjeFtqPrYkHHi4xfy77fyrX6\n",
       "jp+z+M/Cw3FKfkXLxH2WV23ia6Xu2SQW8xvHmAAWjjEBLBxjAlg4xgSwcIwJYOEYE6CsSpUMTtvR\n",
       "uYynCssvFWeVqVU9JwO3I1N2dJ6r9cTxE78rk5ojjwEMyttUyfHE9x8nkbTudDq76USivNLXbBTp\n",
       "5HHs6HgrjgEAzY7PGQadAp/N+blN4t8eANCPPB09iuNkk75mfc/n+I1jTAALx5gAFo4xASwcYwJY\n",
       "OMYEKHMR1nv4UIf/9DzuqilDCQBGEbJMpe+UEZXapz+q/fMqsJkn6hfIkKc+fi4cGuQiZJq4ZsPA\n",
       "j9/3CSeu5/dsTDiR6t4Mok5A02iHar3hAdRRuGAAMIiHoJ70czuKugdDx109DNo9bjpRp0LOMMZI\n",
       "LBxjAlg4xgSwcIwJYOEYE6AsMJcfFpn+LMtEhkgYR6lsUTnn23OnRFXIoVvzOZNwTqDzdZNwaFQe\n",
       "DgAmkeGSeTRox28QVUFTlUwnYbllo/4tLMT3z8SW4odzEOcmTm1QziGASRynG/Q9GxruxPWpe6Ny\n",
       "fD0/6UE4ZwDQtfzZ9BvHmAAWjjEBLBxjAlg4xgSwcIwJYOEYE6DMwe02AMhGbUer6ot5xa3dg8fP\n",
       "5Fr7R4/5WonA5P31OR2/vTmVc/q+oeOZsFZTlURHsXW6F/YtoBsoNS23Y6fEWrmww1UlVQBQO6Sz\n",
       "PNXAS1joImSa2rpei8ZWHXRgsxfW8tDpiqUj+H1WlVm7Th+/GBzyNOYnw8IxJoCFY0wAC8eYABaO\n",
       "MQFK1cIcAIpcu2qzmn82Xy3peCu3LQNfLq/p+HevXsk5j46+oeMfT/Q5fz59xz9QfVMSe5cnEeZU\n",
       "gU0A6FruEHWqiGBirark962qtEuaZ6KN+chdKAAYxdblQhSrzBMFLidhU1aprcsNn9OnArDCJlWh\n",
       "2UQuFYuCH99vHGMCWDjGBLBwjAlg4RgTwMIxJoCFY0yAUlmxD2irWlVsvN1d0vFsxm1qADh+8ZqO\n",
       "7x8+lXPqgtvOr372L3JO03EL+frrBf/7Da9rAACDSLmmKnkOg7BDe7HnPlHJsy55YLLMtbU7TDwY\n",
       "OYheNwCQi/XKmo/raqnAIOzgLJGmHTr+294myrxmosyr+hfClHjO1b9r/MYxJoCFY0wAC8eYABaO\n",
       "MQEsHGMClEWRCOUluvG2YutqvZzR8V//+2/kWsfffEvHt+utnLMTvVbaRvdaOTriLt1yzh2/+7tb\n",
       "udb9PQ+mbtd3ck4nXLq25d8ztQ16gupdpF016dIlnNVChElL8dx0ifClcg93Ox0ybRvhhGW6d1M1\n",
       "F47fxJ+NbExsnXbI05ifDgvHmAAWjjEBLBxjAlg4xgSwcIwJUFai8iYA5IkgndrzPl9wK7ASth4A\n",
       "3F5f0fHPn3RVzvXdDR2/v9V2sOoZv1yK+gkLHUw9PDzgh1AlTgG8+/GvdPzulH+XYdDWetuLPf+J\n",
       "n0IVTE1kSVGIkGcuGot1oloqANwLO/42cc+2O34NVnv7cs5ChDz7gf8LY8q1BuYF//eK3zjGBLBw\n",
       "jAlg4RgTwMIxJoCFY0yAshbuGADpQgFAL3q9rPa4CzMk3Jb/+98f6fjN9ZmcMxfNXoqEQ9K23FVR\n",
       "gc2y0kHC/X3uqh0dPpJzvvs539ZdiG3Ip6cf5FqbLb+eKYdM9dQphQsFALkIc6pKnsi1e7pW17/R\n",
       "z0Yt7uei1vdmJr5PJc4tT6y1mPH77DeOMQEsHGMCWDjGBLBwjAlg4RgToCwS4aYx0Z9F1ZBbLrlD\n",
       "8c3xk8RpHNHR8/NDOePwgOfIqpJniwBgvdnQ8YtzXpDwRuThAODyls+5uBE9eABMIiuV9fxiHh3o\n",
       "PNbNDc93dTudlatL4SolihhmE7+fGfh1LnLtUKliifOEq7U348eZzRIZS7ndmT/rZal7Kiln1W8c\n",
       "YwJYOMYEsHCMCWDhGBPAwjEmgIVjTIBS9WwB0na0mtc0osLnTIdJf/u7/6Lje6uVnLNccmszE1t6\n",
       "AWArgpE3N7xi5/n5J7nW5dWf6fiP7/4g53x4/z90vL3lFS6bjb43ec7vzWKuLexp4L+T213iGZj4\n",
       "uQ2iKmbikUFVcGv3aF/f58VC2N51oj+OCLMO4txUPx0AGDMem/Ubx5gAFo4xASwcYwJYOMYEsHCM\n",
       "CVB2ne44nHbVeJjw7o6HD7+cfZZrzVbv6fiz58dyztcbfm5FYutuJ/qzrNe8UN6Ae7nWk6fcvVvs\n",
       "PZZznj97Qcfvrnin7rsb3fV6t+W/ecfHulP3o6NXdPzyUgdDr674db655XP6L3IprBrunk2jDlnm\n",
       "Fb+f7ah7Jw2TKrzI1+ozrYFGhGb9xjEmgIVjTAALx5gAFo4xASwcYwJYOMYEKAdRkRMA+kQANBNF\n",
       "Bzb3POT58ZMOTI7VGzp+fn0u5+SiLXgGbaF3g6g5cMk91PWdttD3lrweQV3pc7695pU5z8758dsu\n",
       "EfIU7do3je41c/LlhI7f3SXqNKx5Jcuu5xZyB/087R3s0fE807/fmahHsLeng6HI+HW7vvpKx6+u\n",
       "dG2J9ZYHgP3GMSaAhWNMAAvHmAAWjjEBLBxjApR9n9jrmmi2UhY85DhNvMLi9Tl3JwAgL97S8dlC\n",
       "BzYLsXU4tRW8FT16rkQfntsrHj4FgLrgPXWykQc2AWCz5XMa5WwmtoFPE/+em7muyqkuzedPurv1\n",
       "rahYOkzciSv14bGccyeuTvQhKoSrVopt2ABweMgrw373s2d0/NGRfjb//7//SMf9xjEmgIVjTAAL\n",
       "x5gAFo4xASwcYwKUmBKF3RKf5ZnoRiwyVLcXiTyQ6ENTzbVDpnJnRaI/zmzOs1JnF6d0/PTjX+Ra\n",
       "q5o7UdOgt/SqRs31nOfBskxvKZ5E35py0l2vy4wfZ2q0E7gTHbkH8OtfV/r6FyO3abPUfW75cdZ3\n",
       "V3LOpxPuRmbima0SVmBZuSChMT8ZFo4xASwcYwJYOMYEsHCMCWDhGBOgTLXXHnptE/Y9t+nGgQcp\n",
       "m46PA8DmklfMXO+0hb3dcZtydaBbvLctD1O2osLnMOiQZdnzdvElFnLOvOa9a4qB28R9r4+vzm3d\n",
       "aDtY/XOhyPU57+/z+5YX/NnIM71WnnM7uBTjgA6zDpN+npqWV0Bdr/m/CkbVOAfAYsGvs984xgSw\n",
       "cIwJYOEYE8DCMSaAhWNMgDJPbM/tRl1crutF12HhqrUdL1QIAL04TlVy5woAlo+5e/b1mocSAV14\n",
       "7n7DzzkTHYcB4Pifv6fj+3PtKmViu+84cVdnFIX1AGAQHtk06mAucn6dxS54AMBKBFDzXP3mJoLB\n",
       "oneRXgvohBs7Joo1Di1/NnPh0KW+/zDy59ZvHGMCWDjGBLBwjAlg4RgTwMIxJoCFY0yAEol+JlPi\n",
       "s27gll8nqmVOovImAIzCwhxG7ROefeH75Ndb3R9mEKVJt8LaLBI1F9SefzX+8KH6TFn12nKdJhGy\n",
       "FZYrACh3Pc/1da5yvh+/EPUQpsQ5q741SPQ06sVveykqiQJArW6b6MOjnmUAaMWp+Y1jTAALx5gA\n",
       "Fo4xASwcYwJYOMYEKIeEozBO2lXLclHhsBIOTaG3x568/0jHTz/rCpNqS+2Lf+I9UABgEK7SUpg9\n",
       "jw94wBEAdi13D+tSO1S1cHUyFbSdEs1mZABXHz8T7lmW8a3jAJALN7QQ7tmUCHlCVNKcEmHiXPy2\n",
       "Z4lrI0015Tgmtk5P4tXiN44xASwcYwJYOMYEsHCMCWDhGBPAwjEmQNkl2ptnmbYWS2Ev7xpubb55\n",
       "cyLXurvnFRb7Qdukr19+Q8frQof/VJhx9ZiHL5cLHdjciRoK2VZfsyNxPSthYZdij/7DJP7ZOCb2\n",
       "4ot/Lwyj/pfEJIKuk6gTkAnLHQAyVSch8ZzJWKgIuQLAJBpYjcJ1zhKVRFVNDr9xjAlg4RgTwMIx\n",
       "JoCFY0wAC8eYAOWorAYARaLEYSYcn2nHx6+v9JbmRvStSeUFVe+eIbF1t5zxYODeioc5b291VVDV\n",
       "Fn5zp+ccLnm7+EK4fWWhL4AyolpRxRIAelF9VbltD+egHCcR8hXh34cp/FnrB338vuefqfHkZ+Ka\n",
       "6e8IjD0/Z79xjAlg4RgTwMIxJoCFY0wAC8eYAGFXTea+lrynzfNnj+Ra9xue++oTXa9X+7yD89NH\n",
       "T+QcVffuzfv3dPzmWne9zkW+bF7pLb3KbyqKxBZptdbIc3ydcigBtJ3I/mX6GcjFdudCZNVUoUQA\n",
       "6EV377QTyL9P6jijyKqpPjypTKYyCf3GMSaAhWNMAAvHmAAWjjEBLBxjAlg4xgQoU7Ze0qaTn3EL\n",
       "+eVLbRM/fsqrb7attqNbUUnz6SFv4w4AL45f0vFtxy3PDx++yLWynJ9b/ZTb5ADQitbjfaV67cil\n",
       "0ArbuUuGH/k5q6qsAFCK/KOyfMdEVc5do/7toOeoZGbkuVVh2lTIdBLBVL9xjAlg4RgTwMIxJoCF\n",
       "Y0wAC8eYAGXKOUuhtk6rXGhdaxdks76i43/6Cw9fAsAkEpvH//ZrOef9h7/R8bNz7p7lhf5dmS24\n",
       "3fTk2ZGckxX8Gmy2vCAjEl2vlUOm3K7UnGTIM+fBzKHn12acdBFJ5YSlwsSKTjihD+fAv88gnEjl\n",
       "dgK68KLfOMYEsHCMCWDhGBPAwjEmgIVjTAALx5gAZcryTFmbVcUrWY7CJr6/4AE/ANh1vPrlxcWF\n",
       "Pn7Ng5FvT97KOZdnvP17u+N7/l8lgql3a16ZtCp0T53Xr17R8YtTXtvgfr2Ra6mKmWOikqlqiz5M\n",
       "if444HNKcfxSpUIBVLJOgbbDd6JOQiPqFwC6toIKBqd6ClUigOs3jjEBLBxjAlg4xgSwcIwJYOEY\n",
       "E6Ach0TAb64rTJbCbTgTTljbaIeu7birsdqfyzlqS+27k49yRrfjDtHh3lM6vr/Pq5I+HJ5ft+1G\n",
       "O1SHR3xb92rBx3/44c9yrd2OB0NTDpHYOZzchqy2wlcVd88Wtb5n08BdrfVOhyzvRQBWPTMA0LXc\n",
       "VVNbtzPh9gFAJ87ZbxxjAlg4xgSwcIwJYOEYE8DCMSaAhWNMgHKQ7Y6A+VJbi52ofqjM7V60vQaA\n",
       "u5t7Ol6XWtdZwddb3+u96M1OWJgTD3/Wc338Sfzm7FodZn3zltc8+Ndf/ZKOv/72uVzrTz/wtQbt\n",
       "0mIU9zrVXGw+45b83pJXLJ0n6jRs1/zayIZXAHaitkAiF4pBhJOzTIVM9VpbEQz1G8eYABaOMQEs\n",
       "HGMCWDjGBLBwjAlQiqwkAGC90Vt3P376RMfPznnIc7vVQb5x5J/tH+oKj5nY0puyW2SgNefjn8/O\n",
       "5Fq7napkqi2aDyfv6PizJ3t0fP8g0evn5TEd//HtiZzTC/esKrV7uloe0PHD1YqOF9JXBSZxn4vt\n",
       "Ws5RYd4+1a5dVKfNSh5a3m21E9p37o9jzE+GhWNMAAvHmAAWjjEBLBxjApSJyA+urnmhQAD4cn4u\n",
       "5tzS8b7TLkgtzmIQjgYAVAV3TuaJfFkmTDqV4eoSxy9KvnV8HPXW6bVwjy4ueH+eJrGl+PiYu2pf\n",
       "v+p7dnnDv8/33/9CzlnNF3R8UfOClMs9/vcA0Owe0fFcFJcEgMfP+E1bLbgTCQCj6AN0e8ufzVRW\n",
       "by3ydX7jGBPAwjEmgIVjTAALx5gAFo4xASwcYwKUWWLrdNOINuLQLa67nocvZ4kKj7NKBCZzvQ+4\n",
       "Fi2+s0zP0du6+fFV5UsA6IS9XgibHABUwcirG9UfR4cPq5rbvq+/fSHnbP7K783JR26HA8Cs5Beh\n",
       "FMHY1QEPfwJALypsfjrVYdq9fd6j6D9/8x9yzlz06Lm/51v0u0RV0EZs+fcbx5gAFo4xASwcYwJY\n",
       "OMYEsHCMCfB3FDMYMDvg6UwAAAAASUVORK5CYII=\n",
       "\" transform=\"translate(1657, 347)\"/>\n",
       "</g>\n",
       "<path clip-path=\"url(#clip430)\" d=\"\n",
       "M1977.24 552.756 L2182.76 552.756 L2182.76 347.244 L1977.24 347.244  Z\n",
       "  \" fill=\"#ffffff\" fill-rule=\"evenodd\" fill-opacity=\"1\"/>\n",
       "<defs>\n",
       "  <clipPath id=\"clip4318\">\n",
       "    <rect x=\"1977\" y=\"347\" width=\"207\" height=\"207\"/>\n",
       "  </clipPath>\n",
       "</defs>\n",
       "<polyline clip-path=\"url(#clip430)\" style=\"stroke:#000000; stroke-linecap:butt; stroke-linejoin:round; stroke-width:4; stroke-opacity:1; fill:none\" points=\"\n",
       "  1977.24,552.756 2182.76,552.756 \n",
       "  \"/>\n",
       "<polyline clip-path=\"url(#clip430)\" style=\"stroke:#000000; stroke-linecap:butt; stroke-linejoin:round; stroke-width:4; stroke-opacity:1; fill:none\" points=\"\n",
       "  1977.24,347.244 1977.24,552.756 \n",
       "  \"/>\n",
       "<g clip-path=\"url(#clip4318)\">\n",
       "<image width=\"206\" height=\"206\" xlink:href=\"data:image/png;base64,\n",
       "iVBORw0KGgoAAAANSUhEUgAAAM4AAADOCAYAAAB2Hz3EAAAVCUlEQVR4nO2d2W5jV3qFF6nDeRJF\n",
       "StRQqlINsl1xl4d0px0gCDJcBEjnEfIoeYk8Re4CBGjAAdJopDuO07Ddntplu6rsGqXSQHGQKM6H\n",
       "Qy76di0C2cjl+i5/au8z8CwdYPEfEv/8T3+6hODOjS31EfLZMo3PkzP+97m53GswStD4l88Hcs3R\n",
       "eZ/G7x/syDWlBF9z7/AGjc8X/O8BYBrzz9Lpklzz+jW/nq0aP34mGcm9Fgt+n+tbe3LNJOb7ffTx\n",
       "53JNvVGn8eevT2j81p035F6LCf+eRx19n1NJHm8OhnLNh7/7in+QSdNwvZiTe/387bdoXJyWMWYV\n",
       "Fo4xAVg4xgRg4RgTgIVjTAAWjjEBRGv5dfnhIOb2IQAMRz0az+b5mlx+Te51JfZaZlJyTXt8TeNf\n",
       "vJzINQfbFRpPnDfFefFjAMDGzjaNF5Pa2sxt8P9TbXGc6Vzb0Z1Oh8ajo5Zck09X+XEW+j6/Ormk\n",
       "8aNjfpx4zi1fALh7cJvG7xweyDXpiN+Dq0fP5JrGHrfkRwt+/0fjsdzr82/5cfzGMSYAC8eYACwc\n",
       "YwKwcIwJwMIxJgALx5gAom6fZ9kCQGIpE6exv9Wg8Wx6SuMbVW3TTpcLGu8ntbV56ya3tyfQtvc0\n",
       "za3N7pSfc2eVHXzF71s11vezBp4hvhTnddbj5wUAnQk/jkhO/+O55WMaX0RZuWa9yjPkazH/n5vJ\n",
       "673SmQyNn3fO9Rpxbv3RSK7Z2d2l8e+ev6bxwoqfZDpN/lOF3zjGBGDhGBOAhWNMABaOMQFYOMYE\n",
       "EPVH2rlZzrSrtl3nmru7x+vnI/CkRADIJ/le62v6+Ac1nrD59FQfp1DlazKi5jw71w7dK1En373S\n",
       "bs+ixK8zV+Tu4dm17rkwF25Tq6mvfzzhx9nf5N8ZAOTWuatWGXP7rpTV9yyecfe02+OJpACwXHLH\n",
       "sd3Va2apIo3PxzwB+IcXvH8CABze4PfGbxxjArBwjAnAwjEmAAvHmAAsHGMCiLbqNfnh6PpKfvbk\n",
       "B15SWhWNLKslnicFAOUCX5Rc0ckyseT7DYu6DLgoSrFVV8xlzF0gAIgWvES8WObOHQA0Ly/4XkPu\n",
       "EE3FMQAgI+5ZaZPngwFApci7ciLSOYG/+q+Pafz+vbs0ns5wRwsAkhG/n5c93cmz1VL3Rn/PV1d8\n",
       "v0qGO35xTl//xdErGvcbx5gALBxjArBwjAnAwjEmAAvHmAAsHGMCiA729CCmo2Ntx15d8E6OnQ63\n",
       "sJsX3IoFgJ3tTRpPLrVNuFPlg62KJV42CwCTJLdq+3N+nc1nL+VeawOeMLh3cEuuGRYKNK66cmbV\n",
       "VCUAaxG/lnihO5lmC3kaf/rkuVwzFY54TtjuTfFcAMB40KXx4YpE4/GUl5tnRBk2AMxEZ9T1HLfw\n",
       "t27yNgAAMLjke/mNY0wAFo4xAVg4xgRg4RgTgIVjTADR2lw7Go1NnQC6WeGzVgolXu6cq+jkv7MW\n",
       "b0hXSOi5JUXRLHGjxufWAMA4wV26aModmnpBn3NBJEYuhrp0Ol6KJMOYX0s6pcuQv3/8hMabTT5r\n",
       "CACK4vrfe/9dueb3j45p/OT8jMY3Ujr5stvl57aA7qK4WHJbbzzW9/mtu9zZbJ9zZ/fevnZik6Lx\n",
       "pd84xgRg4RgTgIVjTAAWjjEBWDjGBGDhGBNAVEzrbpmbdZ6UCACjMdfcMilm3VzrbonLEe9Y2err\n",
       "PgX5fT7TpN/V3S9j8P2mCX7OhRVdKaM8t6pzFVHXD2De4ue2THFr/3Kmrz+e8n4M1QrvvAkA9XWe\n",
       "zDjs6XuWmHPb9869N2i8ktKJuf1LPmumkNXPWRL8+VzM9E8V+Sy/N60xv87kUtvh52en4ryMMf9n\n",
       "LBxjArBwjAnAwjEmAAvHmACi4UAnBc4XQ/nZ9Zi7Jy/Peens7V3R4hPARp6XTr/q8ERCAGh3uNtz\n",
       "caZLtKtVUSae5a7aYoWrtVbm82mur7TbsyOmGyfy3FV70tJlyPs1fi21dX4vAeDPH7xP4+O2vmfF\n",
       "LE+AnU54ifx1XycN39rn59Y65yXVALBe2aDxnYYuUR8NePfPxeQ2jceikysAFMu8RN9vHGMCsHCM\n",
       "CcDCMSYAC8eYACwcYwKwcIwJILq61pZzNcWtQAC47nEL7/URtxZT0LXot3f4cerb3PIFgFKBd5Ls\n",
       "tvVxTo+FVTrn92B7T1voFdEBtTvWiaFrojHq7ia3o7MrulWuiXHp8ZB3ngSA69MjGp/39WCnaMzt\n",
       "9VnM16xXdcLmWZP3lhhN9Ih59ZylEtpCnsb8+8zmczTeXZEYvCaeW79xjAnAwjEmAAvHmAAsHGMC\n",
       "sHCMCSCKZ7p0ejLRn2HJHa+dxgGNHx3zslkA+O/ffk7jv/jFe3LN7bv3aLx3xWfAAMDrF7wMdlMk\n",
       "WR495l0sAWDr9ls0Xi1pV2nY5e7RZYvfm6KYZwMAt7Z48uF5WztU+ZzoGJrlewFAq83/t86XfA5P\n",
       "vKLD5mzC3au9LZ78CgC9Lt9vOOBJpgAgmn8CCe543r9/X+41GXAn1m8cYwKwcIwJwMIxJgALx5gA\n",
       "LBxjAogOD7k7BQCdls5hqhS5E5KMuKt00VpRnqsmSFd0c7vZgp/beKanLl90eR5X64iX2u7s6ly5\n",
       "xJLnkTXbfC8AmIqGeMetVzR+9/BA7rVI8us8uKeniI/n/PqHsxX/P8UcpJmYqxSLkmoAiJY87ys9\n",
       "0/l9ELlyhYp24i4HIr9uyZMFM1mewwYAswnPifMbx5gALBxjArBwjAnAwjEmAAvHmAAsHGMCiPZ2\n",
       "9TyXraruCjmL+XyY/oTbpPWGtpYTa9wS36qJWmMA4yG3fbN5nbDYUV1LB3yeylt13vkRAEYTfm6T\n",
       "eC7XqGLf0ga3VidTXdK7UeVl3Ztb3D4GgEGf27StC/2zw2jJE0NnSW4tp9a0tVuv8rHo7SOefAsA\n",
       "bx7wZ6N1rZNZG9t8RtDVkHdmffjdt3KvTJK/W/zGMSYAC8eYACwcYwKwcIwJwMIxJoDo5OiJ/HCj\n",
       "xKcUA0A2zV2VbJ7Xra7XeQNBAGiLhnDJuZ5PowYFl8raVUrm+DkvJzzJ8PJSJywOe9yJ+uR3n8g1\n",
       "5TJ3Fv/hr3iJeCnSTfeumm0aH1yvKF0ec4ds3tEzfS6H/B70emKmzULvdXOXu2qVjZpcky/wRNuU\n",
       "vkx0r7jjmshwJ/KirecQNTZ4s0y/cYwJwMIxJgALx5gALBxjArBwjAnAwjEmgCiT0kmJi6m2Y1MZ\n",
       "0bEyyZMfp1M9Fr6Y4jZpIaXn05TSPDGyOdTW5u3DN2j8/JvXNH724qXc69133qTxO3Vd899qndD4\n",
       "+pj//6ou9XeTuuQ1//NTPR9ndsUTcAsj1foSuJHmybzpdR6/mOhzXi65VX3S08/GeZt/Bze29fec\n",
       "Fr0Nnh3zzqzzhU4mHgz4rB2/cYwJwMIxJgALx5gALBxjArBwjAkgamzq0unBtU7YS+W5E5ZM8zLk\n",
       "1oq9uh3u3o1zulvjXEyKfvRMJ+x9/NuPaTzT58mUGxBTqgE8+/oRjT/4yZ/INecZnkz6/Rd/oPHK\n",
       "Uie5DkWSZ9zT2Y9xzN2j7rUu0S5s8jLkgzfvihPTZdjldf59Tku6Y+pkxJ3AdE6X4mPEXbX1df6s\n",
       "L4sr7vMVdyn9xjEmAAvHmAAsHGMCsHCMCcDCMSaAxFf/9o9ytHR1W5dOz8FdjRev+ATltbR2Tvoj\n",
       "7pDNprp0eG+HNws8P9G5WkcvuRP18jHPIbt8wuMAUMzwxoe9mF8LALTbfL8/+4t3aPynP9VTt7/+\n",
       "9Rf8+CfaVaxu8fL1eU7nanVjnscWCcNx0NSNAt9+cEjju3e25Zpphbtqg4jPJwKAZ6/49Tx5wXPV\n",
       "xrF2AudTvpffOMYEYOEYE4CFY0wAFo4xAVg4xgRg4RgTQNTvaisundOly0hxmzKd4iXVx8fcCv7j\n",
       "cfiaRFKX9MYLblWX69r2/svD92n8gw8e0Piv/+U/5F7Pv+czXUZjbe1mkrzL6HqeJx+uKuntxdym\n",
       "nUR69Hljb4/GF0lt+0+u+fORT/I5OO3jc7nX99/9SOMXqisogP33+E8irZn+2QFLnpiaFuX+py1t\n",
       "4V9fiS6z+ujGGIWFY0wAFo4xAVg4xgRg4RgTQLRV5/M/ACCZ0LoaTXm5aWOLuyCLRV4fR0wwLq5r\n",
       "hywWZc2ztRVlsOBlxYV1fm637u/r40/4vXn8w5lcE8349WQSPF4uaVdzmuLH7y50ufd4zl26LVHS\n",
       "DAC9FP9uaiU+kfzkxyO518kpdyJLDT3dvFTkjQcrZT1v6bOHPNG02ebu3Ug/MkDEnw2/cYwJwMIx\n",
       "JgALx5gALBxjArBwjAnAwjEmgKhY0h0RkynelRMAUmIGySLFEwb3b+qOoVMxUyVX0Rb28Rm3Nq8H\n",
       "PPkRAM473I6OFjyZ9NbhPblXr8s9zKfHuk9BOsGPU9/gs2ZKZW1Hv/PBz2j88fdP5Zr2gCcs7t/g\n",
       "yZ8AcHrE6/Rb53ymzd4t3gsCALZ2+Lj2Vl/3Kbi64j0c5ivm8Dx+/ITGuz1+/dcTbeGviWRWv3GM\n",
       "CcDCMSYAC8eYACwcYwKwcIwJIIoTumw2LXt8Ar0ed0LmaV5qWyjysmEAmIoy4Oml7tY4n3FXq7zi\n",
       "OO0OL5GdDvjsnr2b+vh33j6g8eFCz5opz7lLuV7jx5nG2u2ZioTN7lDPIdq5yZNWlwXuHAHATCT6\n",
       "PnnEnas39u7IvVIRdxVn0M9gJsfP7dmpTqa9aPFusmPxPF+0tKtXFsmsfuMYE4CFY0wAFo4xAVg4\n",
       "xgRg4RgTgIVjTADR2YpOnrsb2tpdzHiS3TzB7dBvHn4u99rf4zZpOseTHwGg1+EWYr2h11SyPDEV\n",
       "4jiFiu55sLG5Q+OH7xzINS++5CPexx2eMHl9rhMZP/zlL2m809MWdr3Gv89JU//uMJ7zzyo1btNe\n",
       "DXSHzYToE7FzR/ccuBrze9PY5wmjAFCq8sTUNfWayOr3x3LOnxm/cYwJwMIxJgALx5gALBxjArBw\n",
       "jAkg+vTLV/LDv/m57vK5s32XxtvX3AWpV7VG8znerXE44nsBwFaNzzpZxjzBDwDu7fPrGcbcOVlC\n",
       "z23Jr/NzTomkRADYu8vv2WWaJyyOxzr5cbPEu28eHt6Sa4qbvHz9N59/ItdcveZzjWppXtZdTQvn\n",
       "EkA2x13CbEmX6A9jXjo9vtSOY6XOz60m2gTUJrrcfh7zNX7jGBOAhWNMABaOMQFYOMYEYOEYE0CU\n",
       "SG3LD1st7epUiqq5Hs/hSmX53BwAuGhf0ngc66nLSHK3JZ7p0uV8mf+f6Ivmdq+auqT2MM8nVceX\n",
       "+vjpIXdoMmLq9nh8Jfcq58o0PrzmTRcBYFM4fsUd/d2sZ7l7+OCANx48fvy93Cue8etZW1WjL8qt\n",
       "1yLt3lWFq1ZtcCfy7EI7sa0Wv59+4xgTgIVjTAAWjjEBWDjGBGDhGBOAhWNMAFGnoxPcemXdFbIp\n",
       "LLyMSIqbLHQZcmKNfzaJdRn082PelXOy1Ml/l2IU0KNn5zTeams7+GHzSxovrfhf9GaVJ5lmRYfP\n",
       "eKyvH2luRz8/fi2X/M+//js/viiDBoC//dn7NP7WfW5HT6Z8bhEAPHvOn5nZisRQVQo+mvHvHwD6\n",
       "A54cnC2v0XhvpDVw0ec/L/iNY0wAFo4xAVg4xgRg4RgTgIVjTABRqaRnwCCpHaqTU5EYd8kdssFo\n",
       "RRlwnSeGdvu6WWJ9k5cIr5r6/PARP+dvnnAnaFVDxONz7sTdrelJ0XfqPGGyUuDHefmaJ78CwFGb\n",
       "J6AW67qJZE6Utc9F00EAeHnygsZ3N7lDNZzr72zvNk8o7k30s/HxZ9/ReJTR09J3drh72brg53Zx\n",
       "oRNzz5u8waLfOMYEYOEYE4CFY0wAFo4xAVg4xgRg4RgTQFSr686TixQfiQ4AuXSFxiczbsdulHW3\n",
       "xnqF27HdnrYJj59x23l796Zc89lX3NrsnPIkv0pd29H9gRgxv6ETJk+veMJit8u7ZT4914mMrQFP\n",
       "QC3n5RLEc34/a1u8Fh8AGnv8+2x2+QyacpUnnwJAqcyP89Gnf5BrlhG/oLOunsOTTPPk5K013tth\n",
       "bUUCcmOdr/Ebx5gALBxjArBwjAnAwjEmAAvHmACiRIIn6wFAp687WWbSvMNiMsFdmBV5hOiLQcnJ\n",
       "lHZ7altbNP70hXaiLprcJTw74smUs5lOJMyJ5NjzlnZ7qiV+b9bmPJl2ktLfzd49Pqn77/7+r+Wa\n",
       "6yk/tw9/9Ru55qLzksYbYg5PNNX/i9s9nmR5IpIvASBR4i7ddlUns06H/PtsNnmSbyRm/QDAUDi7\n",
       "fuMYE4CFY0wAFo4xAVg4xgRg4RgTgIVjTADRt18dyQ+rO9oOffDuHo23LniCXZTRlt/LDq85n8x0\n",
       "8t1XD3+k8WaHD5wCgMc/8C6XCzGue0sknwLARoMnuY5GesT7JObXudPg1vqb9/k9BoBPP/qUxj/7\n",
       "/X/KNdUtfs43dnRi5mWPj5LPZPizkVnRC+CrhzyZc7ni3/f+wQ0anyV1983OKf8ZJR/xA+00eI8C\n",
       "AJjF/Pr9xjEmAAvHmAAsHGMCsHCMCcDCMSaA6OsvXsgPb/5Ej3JPVXjCXGOTO0QXA+12Daa8rHrQ\n",
       "1/N5ZkLzy6XuClnf4C7Zgw/epPHhinHp6STvipkv6v9FpTy/zopIGM2k9Lj6/T3ukE2nImMWwGzJ\n",
       "kzwbG7reut3m9/Obr7+h8WqBlxoDQDbL5+BsbvMOpwDQ6fKOqRt1fc6NOj+HGw1e1p5O6/YBFy3+\n",
       "ffqNY0wAFo4xAVg4xgRg4RgTgIVjTADRcq7z0Xp97TZ8+4jnA6Wz3CGZLnipNQB0etyhQqwdoo0S\n",
       "P+9aTuddFe7xctsbN7gL073UrlZ1nefejce6iWNeOE7RckTj056YQQSgnOXl1vUb2gmNF/zcmsI5\n",
       "A4B6pUHj6QTfK7tigvSywvPYooqe0XTc5M9ZNNOzm/a2+T3Y3a7T+I9PX8m9shm7asb8v2HhGBOA\n",
       "hWNMABaOMQFYOMYEYOEYE0BUKmvLudnS1urgnHc4HI14y869fW4FAkC1xi3kUkVbm+WIW8XRTM/U\n",
       "eXD/Do1fxjyRMLnQ5blFYVPe2dXlzsOhsuR58ufwWl/L3ia3w0djbWEnkvycS3ldIn6we0Djly0+\n",
       "n6hW1Xv98OoFjc/T2lrOrvF7E1+veDZT3N7/sfuMxvtj/bPH9vYOjfuNY0wAFo4xAVg4xgRg4RgT\n",
       "gIVjTAD/C1HpDNS7eJnaAAAAAElFTkSuQmCC\n",
       "\" transform=\"translate(1977, 347)\"/>\n",
       "</g>\n",
       "<path clip-path=\"url(#clip430)\" d=\"\n",
       "M2297.24 552.756 L2502.76 552.756 L2502.76 347.244 L2297.24 347.244  Z\n",
       "  \" fill=\"#ffffff\" fill-rule=\"evenodd\" fill-opacity=\"1\"/>\n",
       "<defs>\n",
       "  <clipPath id=\"clip4319\">\n",
       "    <rect x=\"2297\" y=\"347\" width=\"207\" height=\"207\"/>\n",
       "  </clipPath>\n",
       "</defs>\n",
       "<polyline clip-path=\"url(#clip430)\" style=\"stroke:#000000; stroke-linecap:butt; stroke-linejoin:round; stroke-width:4; stroke-opacity:1; fill:none\" points=\"\n",
       "  2297.24,552.756 2502.76,552.756 \n",
       "  \"/>\n",
       "<polyline clip-path=\"url(#clip430)\" style=\"stroke:#000000; stroke-linecap:butt; stroke-linejoin:round; stroke-width:4; stroke-opacity:1; fill:none\" points=\"\n",
       "  2297.24,347.244 2297.24,552.756 \n",
       "  \"/>\n",
       "<g clip-path=\"url(#clip4319)\">\n",
       "<image width=\"206\" height=\"206\" xlink:href=\"data:image/png;base64,\n",
       "iVBORw0KGgoAAAANSUhEUgAAAM4AAADOCAYAAAB2Hz3EAAASbElEQVR4nO2d244dx3mFV3VX78Ps\n",
       "OYqURIqRGcvxIYkBA0mQvEIeIs+QV8nTJDcBglwGQmDDSGIbsGXZUiyR4gzJmT2zD32ozgVzuVYB\n",
       "/qHL9V1WT3VXV/faDaz5D+kf/+kfZggWbacOoZkTHU/Tgo7P41qea7fnS8hdlnOGofDxYyPnJHGn\n",
       "bcPnHPdHea5l4ntz93Yn52zfbOl4f+DX6YdRnmsqkzjC9wUAktiASU/Bx8+f0fG//rsf0/Ht7l6e\n",
       "6+tvXtHxl1+9kHPGhwc+Pg5yznHq6fh6zd/ZzYV+Z7o13zM9wxgjsXCMCWDhGBPAwjEmgIVjTAAL\n",
       "x5gAebnSBxetdKoxT9wq3d9wK/Bwf5Dn2vbcjv3gT96Xcx494fb2XCp2bM8t5Icbfv3tza081/Xr\n",
       "t3S8r1jYGLkdOvXC2hd//+5c3I5NSdnUQKOep/jXAgC8efElHf/Zf/D7Pwz6/kvha97o/zrg5DF/\n",
       "ZmXRyjnjgp9wfcGv32S95v2Rv7f+4hgTwMIxJoCFY0wAC8eYABaOMQEsHGMC5HnQlvPba21tfvFb\n",
       "Hul6/5JHB5dRa3TMfA2Ho44O/uiTx3R8sdDXOb7l9/P1Zzf8+nf6+mMvrE3oPRtGbtULN74anX5+\n",
       "JizXEx6dDgDLFd+brKcgL7m93y55pPfVUq+5y9z2XrQ8AvrdAvgz6DttIQ8r8dwWe36umoUu5OEv\n",
       "jjEBLBxjAlg4xgSwcIwJYOEYEyD/8lMexAcAu7c6kO6Bx/gBA3dOuqwj+ZI4dvulDgwtu2/4dZb6\n",
       "t6Dfcbfl4Q13Ag87HTBainK19JzVKXecLq54pO3lI32u80t+n8uVDthMDXf15ka7SnPDn0ER43Oj\n",
       "XdqU+P7PibtdAFBm7l6Ora45MC1EnQCxNlU/AwBywy1Hf3GMCWDhGBPAwjEmgIVjTAALx5gA+cWv\n",
       "deXFmhPWiCCeUYQJlVlX8szCPJq32qHZD9wh2rc6VmwCX9w0cYcmr/W5zh5zJ+bDj/Rv0dkpH28T\n",
       "d7XalXYVm44fa7N2myBctaICsgDMSaRoCyduqsTqFfE7PRft3qpU+FTJKoc4VsTLOY+V3G3hEvuL\n",
       "Y0wAC8eYABaOMQEsHGMCWDjGBLBwjAmQnz+tVESsVDjsCw+MFBnFyJVzrddLOr450Wm4rUip7dba\n",
       "jk0iADKJBlarM32uk0tuB9eCPAF+vlnYwW3FWk/i2DzXmlFxOxqTfgeSuJ2m8N/cYdZr7meRIj3q\n",
       "crLtzJ/NXEnFLwf+PhXZjEw/s2HH98xfHGMCWDjGBLBwjAlg4RgTwMIxJkD+7t9cy4NTxdUZG+4Q\n",
       "TTN3wmRvFgCLhQhyrMTeJdFiPYm0WQCYxBomYR0tljrIMouU3sNYc9XEmkXEYlvpo54mfi+1gM1p\n",
       "Eq7irF21qXCXbjzwOYd7EckKYLnkD3Qa9O/3oefBwVPiri4ATCM/Jh1C4dwBQNfx+/QXx5gAFo4x\n",
       "ASwcYwJYOMYEsHCMCWDhGBMg361eyINtxUJWx9pW1RbggXcAMDWiJTcqwYdZzKlYi6KQJOaW25fj\n",
       "JIIiATTK2pUzAIh8/CIs7EZY++8Q1q4q+gBgFhUrUyXnf5x5lc0H4Qa//LnegeePH/F1dXrNO9GW\n",
       "/vSZXnNeiToJPZ8zHCuBwWLP/MUxJoCFY0wAC8eYABaOMQEsHGMC5H050Qcn7XasOq65Rrg9VY3O\n",
       "vAdJbnT1z7Lnrt58rKRbiwDIfMqrmeaknRuICpNZdFYGACThUooty3OlwqZKka44gTOEE9roYN4Z\n",
       "PAB3sTrjl8dGnqv5+oqOj6tbOefqGe9u3S51BdqxEQ6uCJodRYVXAEhJvefGmD8aC8eYABaOMQEs\n",
       "HGMCWDjGBLBwjAmQ15VGRLlSlVHZ0aqxUdNWgvJEG+1Uaf09vOW27/b32g5uRG7/xZ9xO1xZkQBQ\n",
       "OnGfqksWgLblx5S1PPaVdvXiXwWtSqwHZARqU/n9XA38HTgZueW7vuCBnABwvOYVO+ejqPAJ4EIU\n",
       "+eyFTQ4AKHxtowiAbYVNDwBlFgG4+urGGIWFY0wAC8eYABaOMQEsHGMC5PcqaatNpfW2Sp3OrQiK\n",
       "q0g0CYckCUcDAM7WIpiwdiFxutUJv5db0QMIAMqB79uCG3QAgLnjCyiib808aLcnNzwyNFfjUvn5\n",
       "+kow79l0TsebFzyYtu11kO35I764Rc+vAQDbP3BnsZn1s1k+4vdTVI93kR4N6N5F/uIYE8DCMSaA\n",
       "hWNMAAvHmAAWjjEB8jxW0nOVCwFVWg8y6ic3NeeCj6u+MYCOO1uutauzv7mj48c7XnRvudGu4jqp\n",
       "goDaCZxUcTtRRHHZ627M2InOyn2lU7VIHb7MuljkauK/rdc33D582Onr75a/o+ObK/37fb/ljuvJ\n",
       "qO3LVeJziorjq8RRFlF40l8cYwJYOMYEsHCMCWDhGBPAwjEmgIVjTIA8qOqSANpawKSKmBTtvees\n",
       "zzXP/Ngw6KqUIsYSaX8h51x2vPrk5sDt4J98//vyXHdf8XTfT3/+33LO6kqtTfXHqfQHeuBt0d8/\n",
       "4fcIAL2y3fUrgCHxOU3i93LX6zTo9kNRMfUTHWT6ngh0nUolrVzs5ywqlqZW/9uj7fi74S+OMQEs\n",
       "HGMCWDjGBLBwjAlg4RgTIKtOxIBOtQV0rxVVxG8aK0GeMsqzkjosetc8vNFBhs2BBwb+6Mc/oeOn\n",
       "w4fyXP/2L/9Kx+8OuqfP+Xc/oOMfPOapw/Oke8AsTvicRSVgce54AGzF8MQs3LN+x5/nsf1KnuuJ\n",
       "2M72RBcXLAN/N1LRhTTV56Ab+f1PQ6WnUXGQpzHfGhaOMQEsHGMCWDjGBLBwjAlg4RgTII+i/wkA\n",
       "VFL+kZRVLKslViIJRVDeYqlz4ZeJW8u3wiYFgN2Wz2mE7fzv//xTea4k7PA//9EP5Jzv/OkTOr4S\n",
       "PXXe3Og9O91c0vG+53UVAOAoehe1Kx0YexxP6PjLu8/5hDNtoZclv/5h0NZyErUqUqtrS4yi7kID\n",
       "HrCZSqVOhKgh4S+OMQEsHGMCWDjGBLBwjAlg4RgTIFcMBTSV6pvqWM7cuaiZasqhUuP/vwI6uj7T\n",
       "DtHta76IX/zXb+n4fK/dnvNHj+n4Bx9/R8557xl31W5vXtDxdqWrVW4uRH+aQ+2B8me26/Xv55fX\n",
       "3KXblms6fvlRxaFqhYM76OfcZhFMWqlYOhzEezvyYNJ50g6dKlnrL44xASwcYwJYOMYEsHCMCWDh\n",
       "GBMgd7niKFRi1XLHNZdFN+qpYt/llrtHNbfjKGKIhkrX5292b/mBVzy+6u//9i/kud5ef0PHlwu9\n",
       "abLw3YLH5LWn2iG8F/FdpxvdU+f8hB/79Zfa8vzV57+h45c/4HbT4ko7kXPDr7MWztk7hK1VfTf5\n",
       "ezOIFP25ktavunv7i2NMAAvHmAAWjjEBLBxjAlg4xgSwcIwJkCFaeANAU+kbkiZuE/aj6EEibD0A\n",
       "mIQbWmt93opKjq/7V3LOseN9WN5/xitsik7dAIDS8IDBceLBjwBwOPIbHcuOjr/ZVtrFd3xxi07v\n",
       "2WHPgym/+IpfHwBe7/n9PHvMff8lz7QGAIyjeNCipxIAJFExtin6XxX9kb9rw8C/E4e93me1NH9x\n",
       "jAlg4RgTwMIxJoCFY0wAC8eYADkn7U7Mk3Y7WiG5ItyOudJBeVTu2Vwplpi527K44F2SAeC9p7wj\n",
       "8yff48X9Pv/NG3mul6+5E/V8cSXnfHPHHar9jndQvr7WfWM+fsq7TleyrfGzn/6ejv/qM/37efmE\n",
       "O1QXj/kzK5V+S1lEZpapkiI/8+v393rNt2/42npxnUpzc6iV+YtjTAALx5gAFo4xASwcYwJYOMYE\n",
       "sHCMCZD3x0ogZ6VBztxwzc2zsLBnnYveyABQbVNuNrwt+nBRsdDv+P1MwnZ/+ZZX2ASAXlSl/PQ/\n",
       "X8o5qXstjzHuttoOv7nl7dr/qvtLOecPN1s6ft/rmgM/fPqIjrfgFT73W/3vgEkEFJeir9+KQOO2\n",
       "8pu/WfL3qR35+9RV/lXSzrwehL84xgSwcIwJYOEYE8DCMSaAhWNMgNwXHUi4WGhdTYm7SktRlTFX\n",
       "et20qlpiowNQO+H41YpCNoUf/OILXuFzyNoh+uBjvub/faFTp5//8IGOn1/x+7y5kafCpYjm/J/P\n",
       "fifntDzGFWdF3+dhx5/zQTW3nnSKfCv2P9WaJxXRQboSALwQFUMb8c6USgfrw73qYG2M+aOxcIwJ\n",
       "YOEYE8DCMSaAhWNMAAvHmAB5tdI2cdPoqpAqmFM26anUNiiqWqN2NqG6dTejTrrvwBsrvXrFgx/z\n",
       "ib7/uy2vE3B+xWsBAMDmvVs6vnrEG1s9FTY1ACxGfv3Xr7S1vDjnz+x7z3T5zZtrfr5BFP9cr3lQ\n",
       "JAAkUT9ggg4ALoUXBJgrtQ0gbO+55/efKxZ6Klwf/uIYE8DCMSaAhWNMAAvHmAAWjjEBclt4CjIA\n",
       "lFGXOBxG4aqJ9NhUi74UwXe9CPADgOWSu2cL0fodAB4G7hB1a+7qpA13rgBgf8uvc7rRLuX9VvxO\n",
       "rUSvm6Xe/77wtOr1KU91BoCj6MNz9b52lQ47fp+NeM6ni0pl2IHvza7XrloSDtlUaV7UiBTpExFo\n",
       "nBr9zoytXTVjvjUsHGMCWDjGBLBwjAlg4RgTIL/+iqfzAkCutC1ZidTdnLkWU6VLcJd5DFmqLKAp\n",
       "/DrrhZ7Tn/E08e6cu1fNqXa1kojx2+100cHlhu9Bk4SrpLo0AygDdxzbrJ3IrvBnpgoyAsAE7p6p\n",
       "WLHtVr9PXeJxbAmVNau0+npLcDo8i/44U69jEocDP+YvjjEBLBxjAlg4xgSwcIwJYOEYE8DCMSZA\n",
       "3mQd4FezdledqKQp2qjXNLqQQXZ6zjxyC1ONA8BS9M5ZX3A7uIgeOADQnvP7POrCqDhZ8vONLV9X\n",
       "GrWF3yQRfLnUCyh7vua7rU6dHhO3l1VLmb3eMvTgQbOqKitQ6YMz1NrC88Xdi/8uVGKZ0Y/8+v7i\n",
       "GBPAwjEmgIVjTAALx5gAFo4xAfJGBGsCQMVUQyv64+RZBAWOOj0WE7c1uqzXNoO7gceaE7Xkx0ZR\n",
       "ePHuThf368R9HgZ9/bQTAYOJp6+Pgw4+bGdxL6KAHgBM4hHcvtW/nwcxpxV9cxqRagwAEHvW1vrj\n",
       "iBTtpnKfRQTHbsX+zyIoFAB60ZHbXxxjAlg4xgSwcIwJYOEYE8DCMSaAhWNMgDwOOt+8qelKxNhN\n",
       "IvhuElUcAWAuqr22Xlu35Hb0TuSIvzuhqOQo7Mh9r4Mfh4MKMtV29Ouvue3envI1j5W+MUnYtKty\n",
       "JefsXvM5x4H3BwKAtQhmTSr2svJvh0bsf1uxsGdhO4/CJgaA44Hvs7KW1fsHAIOImfUXx5gAFo4x\n",
       "ASwcYwJYOMYEsHCMCZCPlbRR1Q0aACD64/RFBF8Otc6+3ImqmB3YFNGHp1KV8rDnjs+048GcpfK7\n",
       "Mojqjwvo6xfwSpbTkV+/F0GRAKAagrdJb9qb2zs63ulG0ViKPdgd+H02rX7OynCTncoBFNEf51hx\n",
       "T0eR7qwcunnWz7m4P44x3x4WjjEBLBxjAlg4xgSwcIwJYOEYEyAfKsGX95WAvbnhQY7KJFQWIaDb\n",
       "wjeiqRAANC2PvltX7Ngk2nVPE7+XYdJrHidxnZlbvgCwWfEAzHYlLPyjtlynI19bES3ZAeDRE+47\n",
       "z7V/O4h9RhK1ACoBm0VEBqsaAQAwiH97FBEwCgB5pWx/vmfDsfIvhFnUVpAzjDESC8eYABaOMQEs\n",
       "HGMCWDjGBMg3d9qFWZxoV2txwqtsLoQUV60O5GuEq7Ra6dTlrhHRqUPNVePjZRAt5iuuXtdxV+mk\n",
       "q6SiF77m1PAgz4s1r/AJAEPD1zwV3aBmLCowU6d7z8KJVHup2rgDQBFp9U2lP86+565e5TI4iqDZ\n",
       "JKqs1lKnIQJA/cUxJoCFY0wAC8eYABaOMQEsHGMC5PVyJQ+uTrR1sepEfNWBuyBNp2OLFp1IdZ21\n",
       "Q7Xbi07Nla7HBdzVKiLuqs36+hdn/P5zox2qUeSpp5mfq9Y2Zm54HGHKFbtJuEdF5WEDaLJIaxdF\n",
       "HKdK12+RVV9Nke9ET6NaT5sk0upHERM5TBUncOL68BfHmAAWjjEBLBxjAlg4xgSwcIwJYOEYEyCX\n",
       "SdvER9WrG0ASrcT7QfSNEZbvO7jtq+xDAJh6Pmct+uYAQNOJ/ijiXE1bSZ0WVTaHSr+hWQRZ9nt+\n",
       "LpW2++4YH59U4yIAveipo9YF6PtZLnl68jBU0u3FK5Aqv99t4s+ziHsBgNzwPchLPj5X7Oitejfk\n",
       "DGOMxMIxJoCFY0wAC8eYABaOMQH+D/734DQVqX57AAAAAElFTkSuQmCC\n",
       "\" transform=\"translate(2297, 347)\"/>\n",
       "</g>\n",
       "<path clip-path=\"url(#clip430)\" d=\"\n",
       "M2617.24 552.756 L2822.76 552.756 L2822.76 347.244 L2617.24 347.244  Z\n",
       "  \" fill=\"#ffffff\" fill-rule=\"evenodd\" fill-opacity=\"1\"/>\n",
       "<defs>\n",
       "  <clipPath id=\"clip4320\">\n",
       "    <rect x=\"2617\" y=\"347\" width=\"207\" height=\"207\"/>\n",
       "  </clipPath>\n",
       "</defs>\n",
       "<polyline clip-path=\"url(#clip430)\" style=\"stroke:#000000; stroke-linecap:butt; stroke-linejoin:round; stroke-width:4; stroke-opacity:1; fill:none\" points=\"\n",
       "  2617.24,552.756 2822.76,552.756 \n",
       "  \"/>\n",
       "<polyline clip-path=\"url(#clip430)\" style=\"stroke:#000000; stroke-linecap:butt; stroke-linejoin:round; stroke-width:4; stroke-opacity:1; fill:none\" points=\"\n",
       "  2617.24,347.244 2617.24,552.756 \n",
       "  \"/>\n",
       "<g clip-path=\"url(#clip4320)\">\n",
       "<image width=\"206\" height=\"206\" xlink:href=\"data:image/png;base64,\n",
       "iVBORw0KGgoAAAANSUhEUgAAAM4AAADOCAYAAAB2Hz3EAAAUkklEQVR4nO2dWY8bV37FD4vFrbj2\n",
       "3mpZUkuW5bHH8TaZmTgDzEsGEyBI3vJt8iXyFYK85S0wgrwMMgEGGSc2PIIXyZK1tdRSt9Qb2dxZ\n",
       "ZJH5AufUw8U8nt/jn7i3WJc8LODwvxT+6V/+eQVBoRCpl1AsV2g8vTyg8V5/LPd6/72/ovHdRF//\n",
       "navXabxT35Zr/uvetzR+/OYpjfcmC7lX0tmk8cJSLsHl5TmNZ/MJja+W+v7jap3GJ9ORXNM9P6Hx\n",
       "RiWWa4YZ/3rUS/zzxyrnAKIiDU9W/P4BYH11SeOvemdyTXvnUxovLvl1vvj3z+VeT756ROP6kzHG\n",
       "SCwcYwKwcIwJwMIxJgALx5gALBxjAoiHi7l8sZDp1zolrrly+yqNJ9OHcq9nh/dofNRpyDXtpMSv\n",
       "X2rJNfNpj8ar4l4aSORey8WMxouLqVyTVLi1W66UaXwxy+ReizJfs1evyTWlZpXGL8fawn4x4vep\n",
       "fnGzpfx3A60a/8xaJR4HgF6P/42x2+H3DwAXkzc0Xq9v0fjOTf6dBYCTR69o3E8cYwKwcIwJwMIx\n",
       "JgALx5gALBxjArBwjAkgRkG/mFS0TRgXuO3YaXHLs7LQNnH3kmfATjKRgQvgctTla17+KNcM59x2\n",
       "nYBn7aLK7wUAimN+/Q50pm874fZ6POdZ2K9zMp07LZ4dPc/JGr779f/Q+LDC9wKA9Zt3aLwgsqDH\n",
       "U25fA0AM/p1R3yUAQGWdhhepPps44387VCo3aXzz2p7ca2uPX99PHGMCsHCMCcDCMSYAC8eYACwc\n",
       "YwKIpwOeEAcA1Yp2lU76vH794oInOSZVXddejrir1Otztw0A7he5EzPpP9fXqXVovF3ie20UdMJm\n",
       "OeLu2U6OE9eIeNJmMeLWZisVbh+Au/e+pvFnF9pVy3Z4n4ZmTSdMlsR3YDXu0/gyJ2k4LXBXcblK\n",
       "5ZrtJk9aPe2uyTWllPeQiCb8bJJmW+61tm9XzZg/GxaOMQFYOMYEYOEYE4CFY0wA8XasnatSNpCv\n",
       "1UV+0WrBnaNGpl21apW7OulK6/rslLt6vb5+z7st/to7e1do/EZdX78g8s5KRX2fWPD8rjK4c/Ts\n",
       "9anc6mzCXa3ffMS7WAJAt8zzBZ+e8/JgAFgsueNVKfH7LIsOrwBQE45jTsNYjCfc2axWde7jasFd\n",
       "slrGz7M30+5l5wrvDOsnjjEBWDjGBGDhGBOAhWNMABaOMQFYOMYEEH9/rJM8txM+PAkAWmXe5XIp\n",
       "OlkOc7pSNsUAqUqkh1G9W+dl3ZWGfs/ba9xavLHO12QzbW1fjHmS5yjTiaHRkiezRhNehr2aXMi9\n",
       "Pnv7LRr/cJcnJQLAgxP+WX/1SpebF5vcdk+SJo03Z7oMOhvw78As1hb++QU/m0WszxliIFerxM9/\n",
       "OtCJsU1x/37iGBOAhWNMABaOMQFYOMYEYOEYE0B8NNIjya+0dHnqeMWdkN6ClwGnuqIWdzZ3aHx2\n",
       "psugP7nGZ5384oNP5JplxJ3A7uETGh8NeSIlACRFvlelzN0mABjPhjQeVbnbdHuXJ58CwCrm5zw+\n",
       "fyzXdIbcJfybtna10iV3NrM+T/5MpzrJ8/sDPiNpsqbnEEVzfjaXM52cPJxzx629wZM/b23xknoA\n",
       "mKT82eInjjEBWDjGBGDhGBOAhWNMABaOMQFYOMYEEFeKuosjcsrnx1NuU1YrvH4+neh5JseHBzT+\n",
       "jx98KNfsb+/S+OGrY7lmPuZzU+aXPJmyCN4jAABKNZ7MWKrndCwFt1ZrLX5mRZGsCACTs9c0vqzk\n",
       "WLt1bruWIz0HaSJq/s9G/P+FS9GtFADWRQJssa77B1Tr3EL+ONJ/lQzG/Lu5VePnvNbWZ/ZqyO/T\n",
       "TxxjArBwjAnAwjEmAAvHmAAsHGMCiLHS81wmObNOqsKImYnum8rpAIBp9wWN/+FCJ1l+3uX7vX9F\n",
       "u1rvXeFlsPMJd8gqVZ2wOJ3ws0kXetbLbMJdvSjmpdu1SP+urTLh0NX05zmY83LvknCbACAVzl5x\n",
       "zhNWCyPtnhZF6fjTN/xcACDa4F02N8XcHACYLPl3IIl4fGulR6/XC/z6fuIYE4CFY0wAFo4xAVg4\n",
       "xgRg4RgTgIVjTABxp8Xr/QEgyamfrwnJDQfccqxH2tpudvh1fvfNPblms8at5b//7Jc5a8QAqxq3\n",
       "dsuJtjyjiNu+tZw1FdH9NAa3PKs1ba1XrvEzS7OZXLPWEd1XM53MGhW5hZ20+PVLokcAACwa/PrD\n",
       "pe7+eZzyvwSed/Wai3PesbSwyb8zgymPAwDE3yt+4hgTgIVjTAAWjjEBWDjGBGDhGBNAXKto7VQa\n",
       "etZKFIuumKdf03gr0sl/SbJB4+/8iscB4ErCnaitTV1Sm4An8yVNnrEalbVDNhhx92qy0E5YkvAz\n",
       "Ky14Mmua6i6rpZIo9820e1mu1ml8OddrsgH/3OZz/t4a4h4B4Pb1qzReE3N7AGA04GXtjyNd8n+j\n",
       "wT+3zRb/Pt891Umm67GTPI35s2HhGBOAhWNMABaOMQFYOMYEELer2gUa9PXU47dErtRelec2YcTd\n",
       "CQD41f4dGi+q+mwAP77gk5IzncIElPiLlwM+2Xg51k5gb8jzu6KcnLz1hpiGXOFu33yqbyYu8Vk3\n",
       "Jeg1qwIvd14stHvXu+SO39ODVzQ+GvKzBIDrO7zxYKvBmw4CwF6fl9X3Up1f9/6nfEbSoy7/PKsV\n",
       "ff2jx49o3E8cYwKwcIwJwMIxJgALx5gALBxjArBwjAkgThLeRRIAXh5zKxAA8JTbjgl4SfFZqjtc\n",
       "7jZ5Yua7e/q91ec8MS9NdcfQyuYejSdFnhQ4GvF5LgBQEg0zVSIlAKhRRGr0+mQirH0AkegwWYY+\n",
       "55KYz6OLnYH5il+nEPObeXx0JPca989p/Poun3UEAOUpt5D3a/qcX1yKmT5Tfs6ZuAYAPHn4jMb9\n",
       "xDEmAAvHmAAsHGMCsHCMCcDCMSaAuJzoUuNGVbtqywV3Ik7HXIurnGnIzw+f0PhPd/R7++DaPo33\n",
       "zg7lmploltfe4K7Ospwz0+eCu4r1RCem1tUcGjFTZ1HUCZuqQnpe0B7ZuXC85mIaNAA8OOKJod98\n",
       "d5/GHx3oqd9vmtzVOh+eyTULMVOnv66duNfn/D2vhBN5efBc7vXmkCc6+4ljTAAWjjEBWDjGBGDh\n",
       "GBOAhWNMABaOMQHEk6G2b1uiRh0Ajkfc9tza+wmN97q6W+OBmGcynOkkx3abJ4BW6zr5r//6gMYX\n",
       "M247N1vaDj8942czm+n6/UqJn9lSNEoYTfWsm2GX9xyoVXSHy76oub8c6d4Sf/qOJzn+/qsfaLxR\n",
       "0yPuf/7BWzTeXtMdUx8+P6HxlwPdw6Kzw/thFERi8KOHWgMQf2H4iWNMABaOMQFYOMYEYOEYE4CF\n",
       "Y0wA8YvDx/LF+ZB3cQSA0YJrrrku5qY0OnKvwYAnGR6ececIAOo17pxEJe221Bp8uvBClHUX57oM\n",
       "udHm158M9ZrJlHefnC/5WfYn2qFLRS5nLWduzFC4d31RUgwA623ukm11eAfYdkN3hp2v+HV+eK4/\n",
       "5++fcvcy3dXlzjc/4i7d2UP+Xa8scyZ1i/v3E8eYACwcYwKwcIwJwMIxJgALx5gA4tVS5xbV2nxK\n",
       "MADMhzzvpyty0rY6eoL12Zw7YX96xvOkAGCnxUuxO2u6RDuWzQK5EzabardnIV4bjPTclqEoKx+J\n",
       "OTyzuf5du3H1Oo2/Orwn1/zrf/yOxnu6chqlEj+bNOP3+epc5xceiLL2YU7jx1RMxN7bvSLXTIa8\n",
       "8eHhA/59urWnHd/HovGmnzjGBGDhGBOAhWNMABaOMQFYOMYEYOEYE0BcyRmJniTaQl6ueMLgasmt\n",
       "xXKFJ1gCwLLBkxlfX76Ua84H3I5tCZsaAIolngBZEvNp0pzR6y1RovztK20H/+cfv6TxqkhM/cuP\n",
       "P5N7/eLjD2n83z7/Vq65+5R32UzFDBwAKIoE1EKBf/7ZMm9cPD/PYqSTTFvbvER+6y3dyfPNE57M\n",
       "WRTdZ/d3bsq9vr3PS7f9xDEmAAvHmAAsHGMCsHCMCcDCMSaAeDHX5bmlSDtu+7tb/IUZT/4s5EwJ\n",
       "rla4q3N+rhvFHRy9pvEbe/tyzXLGEzOLK56wmOW4Te0WdwnXEv1bdDLkCZDDPm+I+Le/bsm9jo+e\n",
       "0vgXD/Ssl+sf/QWNTwY6mbV/fErjc1GGHRd0kmulwUua927tyzVX37lN48vsUq558IdvaPyjWzwx\n",
       "dCyaawKAMvz8xDEmAAvHmAAsHGMCsHCMCcDCMSYAC8eYAOII2nLNUm1Vt9d4AuhkwZM8uwNuawK6\n",
       "y2cv0nNTvnzG7dif/uQTuWa9LWrLMz4uvFqryr2mI24hX7vKZ8AAwF//3W9ofCL2un1tW+5175u7\n",
       "NL5x55Zc89aHP6Pxk5dP5JrhEa/Tz5b8r4qsopNs19f4+V/b55YzAMxSnpj57L+/kGti0cPg+h7v\n",
       "ofHH/3sg96o3+HfATxxjArBwjAnAwjEmAAvHmAAsHGMCiJOadq56Yz0fZ2e1R+PdlLsQF2Oe/AkA\n",
       "ax3uHrXX23LN0SvuhP3+rnZb/uHXv6Xxaolfp5jp5Mc45udWivV8mk6LryknvJvqZY+XOgPAeMkT\n",
       "RttX9KTsxYp35fz0Ni9DB4DjLe6SLUQC8Crnt3gy5cmUo1lOJ8+XP9L4QCSfAkCxyN/bo0cHNP7s\n",
       "lZ66vb7BP08/cYwJwMIxJgALx5gALBxjArBwjAnAwjEmgHhV0YmM4z63fAFgsuAJoJU6t3azibaj\n",
       "i6Kuu5XoPgVTkWT68EK/593vvqbxX//slzQ+n+r3jKIaS67Hld/Z4F0pD8/5dU4v+JAuAIiq3CYd\n",
       "9LS1+nadv7daTifNBbgdXYy5hb5c6u6no4zb0eMLbbt3ui9ofLDQvQ2mMz5+/dmTVzSudwK6fZ5k\n",
       "6ieOMQFYOMYEYOEYE4CFY0wAFo4xAcT1RJe6ThPtEE2nvJNipdKk8fGYlwcDQG/E96qXdQJqWcy6\n",
       "Sav6fv73kLsq9YTPlLm5qUuXo5Q7N5dTnbA4EvNZ1pu8K2h6diT3Snt8JPnbOU5kYcjf892cTp69\n",
       "Af/cCgveybPU1Im58ZgnpsbHB3LNrCtG2U+1E7gm8mwLwj+r6u4BGIjEVD9xjAnAwjEmAAvHmAAs\n",
       "HGMCsHCMCSCulbRztbEuZuAAUI0Mi0KKnRrPbQKA0YDnV61t8nkmAFAXOXEnA+7CAEBrhzeku/+a\n",
       "z9oZjXipMQAMLvia757q5nbv/Pw9Gp/MuHOV5rhdzYg7nh/u6GnMT6b8Oh+v63LrL4c8j+5wxs9m\n",
       "XUzQBoC1C553Vr3U+XXdEXfCklg7vutt7vjNpvw9N1M9KRsL7t75iWNMABaOMQFYOMYEYOEYE4CF\n",
       "Y0wAFo4xAcTTubbiYlE2CwAV4Tu3GjzJcNLmpc4AsJgOaTzLdBluJGz0Ysb3AoBJyu3IacLf27OT\n",
       "E7nXXCStLnOSTOM6TxodihLp074u3d5LeMl7MeKJnADw1u4GjY/0MWPjCv9LYjXhNvFmqseoX034\n",
       "+cfbunw/Sfh1Cm1tR29u8kTjp4/4KPtsrse1l1ZcH37iGBOAhWNMABaOMQFYOMYEYOEYE0DcyEmW\n",
       "S4WjAADLOXdvshV3QYo1MfEZwHzGbZ15jkPWKnP3qtTR7t1xn++3JpywRpvPWQEAiPk4u6235ZLD\n",
       "C379my3uAhVv6rk1xQpPmi20dcLmiy4vXR5Bu1rLSEyKXnCHanOsmyhWVvxzXuU0RKxV+W/7ZlW3\n",
       "Eby9zyd/T0UC8DLVTSyrEU9a9RPHmAAsHGMCsHCMCcDCMSYAC8eYACwcYwKImzU9XrwHnf132uXW\n",
       "atLkSZ6dmra9X7zh3S+HBW6fAkBb2NGFsraQ6xV+nZdnfD5L0tQ2aSHj1uZQJKwCeox4qc3n5kRt\n",
       "npQJANUG7/6ZJC25Jj3n91mp6O/AQoyMb50+pfHyQn9myyX/eyNvpk624nOYFhPdD+Lo8CWN37qx\n",
       "R+PpWCfG9gf8fvzEMSYAC8eYACwcYwKwcIwJwMIxJoA4XeVop6BfSwvccZqMePfJzZYuKe60uKsz\n",
       "7OuZOgXh+I1zphEnostkt8/LfQ8K3LkCgELKXcJ36/rMNrd5Aub90y6N14ra7eqIe+mNdbn1SpS7\n",
       "l1faVSp0uXsWp9xt0jsBkUgAzla6dHkp1uT94p+fnNL4RocnrN7c5x1eAeDRAU9m9RPHmAAsHGMC\n",
       "sHCMCcDCMSYAC8eYACwcYwKI45xEzlKOrJp1XiefzblNORnwZD0AmC54zfvFRHeFTHrcwkVRjyuf\n",
       "i1utiwTU/lRbuxuik2ZS0UmmE9E1dVXl/QvaOcmXa2Uxrn6pr5+teGJq+uKhXFM+5z0E5hAdLnP6\n",
       "BxQK3FpeiL82AGAJ/lrOEhRW/MXTN3zE/Xvv3ZF7DUf8zPzEMSYAC8eYACwcYwKwcIwJwMIxJoB4\n",
       "IZL1AKCUo6sk5q5OIuyOtKjHtc/EHJxySa85G/Iy6Faix4VHS34/00ueTLpe0cmH22Xuqt3vaSfu\n",
       "pkjarIM7Yd0c52i/yJNml6JbJgAsLo9ovPhSu2qZKHfOCtyJjMW9AEAU8deyvI6x0lXThxOJ1/qX\n",
       "fRofjXS5+60bvJuqnzjGBGDhGBOAhWNMABaOMQFYOMYEEE8jnnMGANOhdoggXJUfj3gzuFqic8i2\n",
       "WrxEeXutLdccd7kT1p1ql3A95r8Tn2zx6w8j3UTxiWjIOMq0Ewcxn6VW5w0JVyvtKv5wzkvURy9/\n",
       "lGtqR89ovJDpcvNFQbuUDGHCAQCKokw/g77GUpX257hqBTHzKS7y67x4zsujAeDOHZ7H5ieOMQFY\n",
       "OMYEYOEYE4CFY0wAFo4xAVg4xgQQIycpcDTWnTSLImFxvOAl0sOTE7nXbp0nTC4zPQNllvLXLrsX\n",
       "cs2GsLerHd5h8+GZvv9OZ5fGkykvzwWA/ozbvnGTn+VqoT+b/utDGo8efyvXFMTsnlXO72cm7OAl\n",
       "hFUvypYBIBZWdWGp7eiVun7OdaaiRL0u8k/nc/09O3zJ5wP5iWNMABaOMQFYOMYEYOEYE4CFY0wA\n",
       "/w/YcuzrML6FPAAAAABJRU5ErkJggg==\n",
       "\" transform=\"translate(2617, 347)\"/>\n",
       "</g>\n",
       "<path clip-path=\"url(#clip430)\" d=\"\n",
       "M2937.24 552.756 L3142.76 552.756 L3142.76 347.244 L2937.24 347.244  Z\n",
       "  \" fill=\"#ffffff\" fill-rule=\"evenodd\" fill-opacity=\"1\"/>\n",
       "<defs>\n",
       "  <clipPath id=\"clip4321\">\n",
       "    <rect x=\"2937\" y=\"347\" width=\"207\" height=\"207\"/>\n",
       "  </clipPath>\n",
       "</defs>\n",
       "<polyline clip-path=\"url(#clip430)\" style=\"stroke:#000000; stroke-linecap:butt; stroke-linejoin:round; stroke-width:4; stroke-opacity:1; fill:none\" points=\"\n",
       "  2937.24,552.756 3142.76,552.756 \n",
       "  \"/>\n",
       "<polyline clip-path=\"url(#clip430)\" style=\"stroke:#000000; stroke-linecap:butt; stroke-linejoin:round; stroke-width:4; stroke-opacity:1; fill:none\" points=\"\n",
       "  2937.24,347.244 2937.24,552.756 \n",
       "  \"/>\n",
       "<g clip-path=\"url(#clip4321)\">\n",
       "<image width=\"206\" height=\"206\" xlink:href=\"data:image/png;base64,\n",
       "iVBORw0KGgoAAAANSUhEUgAAAM4AAADOCAYAAAB2Hz3EAAAPlElEQVR4nO2dSW8lyXWFTw5vqCLZ\n",
       "VWqpqyR3ww0JkAB7qZXhhf//H/DOhtxqVdfQNZAsTi9HL+jlPRfICwLefN8yghGRme+dl8DhHZpf\n",
       "f/2wyrDf79zUZuwhkrTGs5U16SK7Jh5fFr/ZosYcn1zAupiJefv57lbcEZIW95yTc9Yl3nDZOJ7N\n",
       "zclFP+k5sxuPn78k/fzzz+F4a1cAgAXhABRAOAAFEA5AAYQDUADhABTo52W0k4lL54ldWmU+8eps\n",
       "4oSnXLMaO3RZ/AOYxlO8V2KTtubhdG0fn+8fptwpibNs7ehs0VY7uGITLwU7eq7Y0ebzzK95Csd5\n",
       "4wAUQDgABRAOQAGEA1AA4QAUQDgABfp59nb0lMjKG6UxqzVQH2fj4SzS2I37NdPpIRy/ufwcjr97\n",
       "83e71/t3b8Lx4f7erjk8Ow/Hv/vDD+H46+/jcUnaPz+LJ9rOrvn/t6NNFPoT29HuXwJujYuaflwz\n",
       "hOO8cQAKIByAAggHoADCASiAcAAK9NN0Zyfb5ulqDmQ23DjGzt7t9Ve75v2bt+H4MsYuiCTdf/o1\n",
       "HL/8EO/18dNHu9flQ+zQHffP7Jrj4RCOf3jzUzj+9uff273+6Y9/Cse/ffXKrtkdn4fjec0BV48h\n",
       "dqJcwOzjmnivSs2BUpCniVqe58SJnePPmTcOQAGEA1AA4QAUQDgABRAOQIHUVWta76p5k8zNZHFn\n",
       "8dzh4E/57XffhOO311/smmYw1zDE8V3tGseWSdL4OU6pXVYf+zcOsasz3cfX9XF5Z/fqd/Fn03b+\n",
       "mTnHLUu3tpU8bfXTJIbMuGdzcgGVdGfnuC3WVUv2muLYQ944AAUQDkABhANQAOEAFEA4AAUQDkCB\n",
       "fpxu/WxqR8e2Z2Pc0CaxPJ2B2vksYF28PMbjL3xg5O6H2I49rLG1vEuqnH69j238qyv/PL9+uQ7H\n",
       "777exOfv4nuUpKmLP5tm8kGuw0N8zWvynG2Qp7GWs4BRt2ZKrWVjRycWsr82Z1NnAaMEeQI8GQgH\n",
       "oADCASiAcAAKIByAAv04Jq5aIXW6Mbaa6w0jlVrqaHGTiavT97F91LexE7Vb4lRrSbpo4+f27Mz/\n",
       "Fr0wTtjtxctwfL8zRQclffgSp5Xf3FzZNZNi9/D4wp9jaxiWet1sL0hoAzYrfXhcunfWB2nCVQN4\n",
       "MhAOQAGEA1AA4QAUQDgABRAOQIF+HH3NATVxG3HJB3m6KE9nU0tSax3kpMKimTs0PmKxa1zQZLzm\n",
       "7s7f//s3cWDmvPjfomZnKmn2cYXP0ympX2D6Gs2mB5AkTbPp3dP7wNDGWPiref7OcpZ8xU7bt0e1\n",
       "PjzrxnoIS2JHj+aZ8cYBKIBwAAogHIACCAegAMIBKNAPo+9Bs8q7SjY00wy3iatmHbosyNPsd+x9\n",
       "uvEyxr8Td0Mc/Pj1+mT3encZzw2Td3v2sXmms7PYubLPRdIyx3Nzcv7DQ+wQjV18/5K0P4ufZ9PF\n",
       "z3JevUNlXa3kg3aOm0uDfjxnWzBpljqNqwbwhCAcgAIIB6AAwgEogHAACiAcgAL9MMXVJSVpzYI8\n",
       "bclOE+SZXIS3o72u1zVeczr5gMV5ju9nfIjt2OvLS7vXzV1sU97cZo26Yuv//CLe63j01vo8xbbv\n",
       "afAW+jjFc9O1Dwxdu/ic9hB/NouS4EsTTJm3a99ep8DXFtjeDMtVuuWNA1AA4QAUQDgABRAOQAGE\n",
       "A1CgH007aklSW0md3jSc7rUuftVqghwbE8goSd0SV9KcTrHbcnPjHbJpjB2qM+M2SbI/Uw8PcRr2\n",
       "ZNKjJanv48+m7ZMUdWMeXX7+bNesh3jRrt2H45mrpoqrVmgLb4M5jauWBYxOM5U8AZ4MhANQAOEA\n",
       "FEA4AAUQDkCBPuv428w+DdbHqsXDbZIe29r0WO8QOcOpGX1BwoOJfWvM70fT+/5Az89ehON9k7iU\n",
       "Jq24nUwadOZFtvHcfh+7XZLUm/487z68tWt2xvFbDuacNinIOJt0a9O3R5IW88xqBQnN9yyNe4u/\n",
       "aLxxAAogHIACCAegAMIBKIBwAAogHIAC/bL6QMIsPVUmddmlTi/u7yU1xqlukl4rSxNr/uzi3K7p\n",
       "pnjNw238DBp3YZJkLNTZpNpKklYXMBhbu1Py2cyzCVhN/4UQrzk+i/v2SD5FfRrNM/MOvmT+vZCm\n",
       "QW+0liVvL1fs6NkEpvLGASiAcAAKIByAAggHoADCASiQu2pJIJ2NP3TuWVJcUMY5ydKtW5PW3e29\n",
       "q7Qax2sc4qKM88mnTo938Zrl9N6fvxjHrXsW/30fB5JKkkyn6kVndknbxu7Z4eADY8c5LvA4mrjM\n",
       "zgSfSt4lnbOu0y4AuNCpems36se5+EZ54wAUQDgABRAOQAGEA1AA4QAUQDgABXqXUy3lFRZtCQFX\n",
       "iyAJ8vR2dGY5xjbp/clfc2vs5XmI++DMJx+wuQ5xr5vl9M6uWUwvomk1VTG7l3Yv7WILe3/8xi7p\n",
       "dvHclLR4Nx3u1ZpeQ1q8td2Y/xTMSv6F4AI2EzvaVea0dnS2lzmfNw5AAYQDUADhABRAOAAFEA5A\n",
       "gX5efRXFLHXZhWBaUy0J2bSp08nx7tpuxrjypCT1pirlfLoKx6f7L3av6RSnQY+DDwwdTE+d2QUZ\n",
       "drFzJ0ntHO/VJA6V61R9eem7TjcvYydu98wEma6+p1Jr5rKATedqpdU3NwaGpgGjuGoATwfCASiA\n",
       "cAAKIByAAggHoECfp41mycsxtm9OgjPvmsTtcIuGhziGTZK6W+N4PcTjy+JdrWGM54YhdrskydTw\n",
       "02qKCPa930smVu80e5f0dords//6h7/P75/FFQZfKB5fk9jHxRT3q7hauRO33T3buhdvHIACCAeg\n",
       "AMIBKIBwAAogHIACCAegwJPb0Z7tVqBLqX6cMlUhG38/v17FQZ73H+Igz4suOX+M7eBh8AGTwxCv\n",
       "sXb0FKdHS9LSx+nWH7/68//x+WM4ftr5nkLfm5jNtou/G6a7+uOcqYqZ/9dhu7W81Xau7MUbB6AA\n",
       "wgEogHAACiAcgAIIB6BAP8/ehWqyXie+QY4ZzZyO7Wts6mznC+KdumM4/ouJcfz8P7644I+vYrtp\n",
       "nzhxiwnAtJ2VB//Z/PIpDkz973c+MPTLEF/zv/3Hn+2aw/PYvbMpzZkTa24nLwhYcNU27pXZes51\n",
       "5o0DUADhABRAOAAFEA5AAYQDUADhABTosx44bSXI0yxpu9jWTDE56pIkU4F0Gv01d/vYjl4OcTDl\n",
       "T1/8+R8+xQGbP7yOc/El6Tfnpj+NKUbQdnG1TEm6m0yQZR+3ZJekb87j+//u9e/smv0uvobVtV5P\n",
       "gobdV23NIkONh50HZrpxM5G0gVomgjwBngyEA1AA4QAUQDgABRAOQIG+b3zabN/6Xie2YqfpLv18\n",
       "98LuNT7EzsXVpa8weX0V964ZTN8aSTqcxQGgP/7x9+F4t/rflb/959/C8dPs11w9xHP3D/fheN8l\n",
       "z984bn945V2189/Frt7FuXfvWpOKvph077RvjXNpF//MVvMZPGklz8TVW4x7yBsHoADCASiAcAAK\n",
       "IByAAggHoADCASjQH9vXdjIpiqm2jTXnXOqPb721/OGXuJLml4++9Xpjermfm0BGSbq4iK3ai2/j\n",
       "ANTvvv3B7vUvf/5rOH75Pr4XSbr6Es+dTDMq94wlaZ5ja3103askTU0cmPrprW9G9fLbi3D8YNq1\n",
       "7zp/zd0+ttdn0/BKkmZTpyGrR+Ge22oCUKekGZe7Hd44AAUQDkABhANQAOEAFEA4AAX6y9s4WFGS\n",
       "+t5XxfRBnvHwkjhE7SEOcuyO3m057uMU5W7v27UPJg327i4+p+l88F97jNOtO9/SRstlfP7l17gq\n",
       "58Pg3Z7nx9ghPBz8Z9a2sat0fX1p1/Qm/nNeXbp39p2JXbXx5J/zNMVzXevPOZoW864q5zD684dT\n",
       "/L3ljQNQAOEAFEA4AAUQDkABhANQoB8bHw+2NttdtcasOZ77FO3Xhzi+7MVv7RKZBsZSku7c7eNF\n",
       "7S521VZ5t2VuTXzZzgf4nU7xs/77T2/C8Y9XPr7vL3+K4+j++UdfXPD5i9jyu1t9T539efzMmj52\n",
       "Aucspdk8mrlP1ph+Q2NS+PD04IoYukPsVhrn+DPjjQNQAOEAFEA4AAUQDkABhANQAOEAFOizfiat\n",
       "qcopyVbsbIy3dzd4a9X6gYfEJzQ2ZdYufDHp1q7Xi+1IL1lvs00s/M71CDLjD1NiuZrgxyZJXT4z\n",
       "qeNd8vu5mvz52fQucoGUj3NuPGmX7lrZJ2s2t2VPvmaL8dB54wAUQDgABRAOQAGEA1AA4QAU6DMX\n",
       "xLRAkZSkTtsFPg3Y7ZSeYCSfXpZL63ZmS1KQsXFX1/jfor6PU4cPh9hVcwX0JGkc4g9nNunhktSY\n",
       "a2tbv8a5rs6JTB0ys5ftmyNptudk3a3NOa5vTnLNo0mr5o0DUADhABRAOAAFEA5AAYQDUADhABTo\n",
       "ZxMsKOXWrq85EI9XFJqkr9tg0ryNtxuPrzk5Xo1M8F/yzPamMurzQ1x5cpdY241pcb6OibV7Ms/s\n",
       "sL1dubeWt9vRcxaYO2+3o901zK7FfHLNE3Y0wNOBcAAKIByAAggHoADCASjQ54Gc2+dcN+gl6xK8\n",
       "NWA0I7HCfCVH4zYlx7hfnK6NHTJJ2h/i+zw8O4vP6P1eo7m6hzELDDX3uffp3qspmWrdNuOCSdLs\n",
       "KnkmXZ9dkOniNlOWor3dCZxMijhvHIACCAegAMIBKIBwAAogHIACCAegQD8n9mFjqjg+zrlKnubv\n",
       "E3N32bjX/11AOLxmhQLMnK/86H9XFsUWbpsEZnZ9XFugNxb2dPKt5+9v48ZON7f3ds3dfdx7fX/c\n",
       "XnNgMlVG58QmdnNZNVm3Jq+Vsa0eQh7kaSq22hUAYEE4AAUQDkABhANQAOEAFMhTp5OFPnV6+15p\n",
       "jrQ932xlUpofj4nPMXGpahK3ZdYYjndNEjXrqo+Ocbv0borbyEvScroNx4e7a7vm/i5275ozH+Q5\n",
       "r/H9TM4hy1w1812bsnRr68Rla1xavfn7xIh1QdC8cQAKIByAAggHoADCASiAcAAK9FOSapsWBNwa\n",
       "q5alYfupAtsLEsoUxGuSBzAZV21tvKu1HGP36tVfnoXj//7qX+1eXR//5vWHuAePJDV9fM2n0acu\n",
       "u54yLh6s4qplDpk9Jy186GLStv29REFCgCcF4QAUQDgABRAOQAGEA1AA4QAU6KchsaPnzEM2AZPu\n",
       "z5OLKAWGFvD9cVxKtb8CFzA6LHHwpeTTfVeTunzxKrapJckUmEwDFp3tOpnW71JWSXObTf04Z9Kw\n",
       "szToUlv4ranTdisN5pp54wAUQDgABRAOQAGEA1AA4QAU+F9+MDOV0GSSywAAAABJRU5ErkJggg==\n",
       "\" transform=\"translate(2937, 347)\"/>\n",
       "</g>\n",
       "</svg>\n"
      ]
     },
     "metadata": {},
     "output_type": "display_data"
    }
   ],
   "source": [
    "plot(p_list...,layout=(2,n_samples), size=(800,150))"
   ]
  }
 ],
 "metadata": {
  "kernelspec": {
   "display_name": "Julia 1.6.4",
   "language": "julia",
   "name": "julia-1.6"
  },
  "language_info": {
   "file_extension": ".jl",
   "mimetype": "application/julia",
   "name": "julia",
   "version": "1.6.4"
  },
  "orig_nbformat": 4
 },
 "nbformat": 4,
 "nbformat_minor": 2
}
