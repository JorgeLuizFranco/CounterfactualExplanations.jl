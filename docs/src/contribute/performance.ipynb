{
  "cells": [
    {
      "cell_type": "code",
      "metadata": {},
      "source": [
        "#| echo: false\n",
        "include(\"$(pwd())/docs/setup_docs.jl\")\n",
        "eval(setup_docs)"
      ],
      "id": "58d82da0",
      "execution_count": null,
      "outputs": []
    },
    {
      "cell_type": "code",
      "metadata": {},
      "source": [
        "# Counteractual data and model:\n",
        "counterfactual_data = load_linearly_separable()\n",
        "M = fit_model(counterfactual_data, :Linear)\n",
        "target = 2\n",
        "factual = 1\n",
        "chosen = rand(findall(predict_label(M, counterfactual_data) .== factual))\n",
        "x = select_factual(counterfactual_data, chosen)\n",
        "\n",
        "# Search:\n",
        "generator = GenericGenerator()\n",
        "ce = generate_counterfactual(x, target, counterfactual_data, M, generator)"
      ],
      "id": "444979cf",
      "execution_count": null,
      "outputs": []
    },
    {
      "cell_type": "code",
      "metadata": {},
      "source": [
        "counterfactual_data_large = load_linearly_separable(100000)"
      ],
      "id": "28ca22db",
      "execution_count": null,
      "outputs": []
    },
    {
      "cell_type": "code",
      "metadata": {},
      "source": [
        "@time generate_counterfactual(x, target, counterfactual_data, M, generator)"
      ],
      "id": "f2d4a15e",
      "execution_count": null,
      "outputs": []
    },
    {
      "cell_type": "code",
      "metadata": {},
      "source": [
        "@time generate_counterfactual(x, target, counterfactual_data_large, M, generator)"
      ],
      "id": "8fcecd26",
      "execution_count": null,
      "outputs": []
    }
  ],
  "metadata": {
    "kernelspec": {
      "name": "julia-1.9",
      "language": "julia",
      "display_name": "Julia 1.9.0"
    }
  },
  "nbformat": 4,
  "nbformat_minor": 5
}