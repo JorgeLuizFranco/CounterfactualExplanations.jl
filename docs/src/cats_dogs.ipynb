{
 "cells": [
  {
   "cell_type": "raw",
   "execution_count": 6,
   "metadata": {},
   "outputs": [
    {
     "ename": "ErrorException",
     "evalue": "syntax: invalid operator \"--\"",
     "output_type": "error",
     "traceback": [
      "syntax: invalid operator \"--\"\n",
      "\n",
      "Stacktrace:\n",
      "  [1] top-level scope\n",
      "    @ ~/Documents/code/CounterfactualExplanations.jl/docs/src/cats_dogs.ipynb:1\n",
      "  [2] eval\n",
      "    @ ./boot.jl:360 [inlined]\n",
      "  [3] include_string(mapexpr::typeof(REPL.softscope), mod::Module, code::String, filename::String)\n",
      "    @ Base ./loading.jl:1116\n",
      "  [4] #invokelatest#2\n",
      "    @ ./essentials.jl:708 [inlined]\n",
      "  [5] invokelatest\n",
      "    @ ./essentials.jl:706 [inlined]\n",
      "  [6] (::VSCodeServer.var\"#146#147\"{VSCodeServer.NotebookRunCellArguments, String})()\n",
      "    @ VSCodeServer ~/.vscode/extensions/julialang.language-julia-1.5.11/scripts/packages/VSCodeServer/src/serve_notebook.jl:18\n",
      "  [7] withpath(f::VSCodeServer.var\"#146#147\"{VSCodeServer.NotebookRunCellArguments, String}, path::String)\n",
      "    @ VSCodeServer ~/.vscode/extensions/julialang.language-julia-1.5.11/scripts/packages/VSCodeServer/src/repl.jl:185\n",
      "  [8] notebook_runcell_request(conn::VSCodeServer.JSONRPC.JSONRPCEndpoint{Base.PipeEndpoint, Base.PipeEndpoint}, params::VSCodeServer.NotebookRunCellArguments)\n",
      "    @ VSCodeServer ~/.vscode/extensions/julialang.language-julia-1.5.11/scripts/packages/VSCodeServer/src/serve_notebook.jl:14\n",
      "  [9] dispatch_msg(x::VSCodeServer.JSONRPC.JSONRPCEndpoint{Base.PipeEndpoint, Base.PipeEndpoint}, dispatcher::VSCodeServer.JSONRPC.MsgDispatcher, msg::Dict{String, Any})\n",
      "    @ VSCodeServer.JSONRPC ~/.vscode/extensions/julialang.language-julia-1.5.11/scripts/packages/JSONRPC/src/typed.jl:67\n",
      " [10] serve_notebook(pipename::String; crashreporting_pipename::String)\n",
      "    @ VSCodeServer ~/.vscode/extensions/julialang.language-julia-1.5.11/scripts/packages/VSCodeServer/src/serve_notebook.jl:94\n",
      " [11] top-level scope\n",
      "    @ ~/.vscode/extensions/julialang.language-julia-1.5.11/scripts/notebook/notebook.jl:12\n",
      " [12] include(mod::Module, _path::String)\n",
      "    @ Base ./Base.jl:384\n",
      " [13] exec_options(opts::Base.JLOptions)\n",
      "    @ Base ./client.jl:285\n",
      " [14] _start()\n",
      "    @ Base ./client.jl:485"
     ]
    }
   ],
   "source": [
    "---\n",
    "format: \n",
    "    commonmark:\n",
    "        variant: -raw_html\n",
    "        wrap: none\n",
    "        self-contained: true\n",
    "crossref:\n",
    "  fig-prefix: Figure\n",
    "  tbl-prefix: Table\n",
    "bibliography: https://raw.githubusercontent.com/pat-alt/bib/main/bib.bib\n",
    "output: asis\n",
    "---"
   ]
  },
  {
   "cell_type": "markdown",
   "metadata": {},
   "source": [
    "# From cat to dog\n",
    "\n",
    "#### *A simple and light-hearted motivating example for algorithmic recourse*"
   ]
  },
  {
   "cell_type": "code",
   "execution_count": 7,
   "metadata": {},
   "outputs": [],
   "source": [
    "include(\"utils.jl\");"
   ]
  },
  {
   "cell_type": "code",
   "execution_count": 8,
   "metadata": {},
   "outputs": [],
   "source": [
    "using CounterfactualExplanations, Flux\n",
    "data = CounterfactualExplanations.Data.cats_dogs()\n",
    "X, y = values(data)\n",
    "cats = findall(y.==0)\n",
    "dogs = findall(y.==1)\n",
    "x = Flux.unstack(X,2)\n",
    "data = zip(x,y);"
   ]
  },
  {
   "cell_type": "code",
   "execution_count": 9,
   "metadata": {},
   "outputs": [],
   "source": [
    "using Images, FileIO\n",
    "cat = load(\"www/cat.png\")\n",
    "dog = load(\"www/dog.png\")\n",
    "ms = 50\n",
    "marker = map(y -> y==0 ? cat : dog,y);"
   ]
  },
  {
   "cell_type": "code",
   "execution_count": 10,
   "metadata": {},
   "outputs": [],
   "source": [
    "using GLMakie: scatter, scatter!\n",
    "plt = scatter(X[1,cats],X[2,cats],marker=cat,markersize=ms,axis=(xlabel=\"Height\",ylabel=\"Tail length\"))\n",
    "scatter!(X[1,dogs],X[2,dogs],marker=dog,markersize=ms)\n",
    "save(\"www/samples.png\", plt);"
   ]
  },
  {
   "cell_type": "markdown",
   "metadata": {},
   "source": [
    "![A toy dataset of cats and dogs.](www/samples.png){#fig-samples}"
   ]
  },
  {
   "cell_type": "markdown",
   "metadata": {},
   "source": [
    "## The black-box systems"
   ]
  },
  {
   "cell_type": "markdown",
   "metadata": {},
   "source": [
    "### MLP"
   ]
  },
  {
   "cell_type": "code",
   "execution_count": 11,
   "metadata": {},
   "outputs": [],
   "source": [
    "nn = Chain(Dense(2,1))\n",
    "λ = 1\n",
    "sqnorm(x) = sum(abs2, x)\n",
    "weight_regularization(λ=λ) = 1/2 * λ^2 * sum(sqnorm, Flux.params(nn))\n",
    "loss(x, y) = Flux.Losses.logitbinarycrossentropy(nn(x), y) + weight_regularization();"
   ]
  },
  {
   "cell_type": "code",
   "execution_count": 12,
   "metadata": {},
   "outputs": [],
   "source": [
    "using Flux.Optimise: update!, ADAM\n",
    "using Statistics\n",
    "opt = ADAM()\n",
    "epochs = 10\n",
    "\n",
    "for epoch = 1:epochs\n",
    "  for d in data\n",
    "    gs = gradient(params(nn)) do\n",
    "      l = loss(d...)\n",
    "    end\n",
    "    update!(opt, params(nn), gs)\n",
    "  end\n",
    "end"
   ]
  },
  {
   "cell_type": "code",
   "execution_count": null,
   "metadata": {},
   "outputs": [],
   "source": [
    "using CounterfactualExplanations, CounterfactualExplanations.Models\n",
    "import CounterfactualExplanations.Models: logits, probs # import functions in order to extend\n",
    "\n",
    "# Step 1)\n",
    "struct NeuralNetwork <: Models.FittedModel\n",
    "    nn::Any\n",
    "end\n",
    "\n",
    "# Step 2)\n",
    "logits(𝑴::NeuralNetwork, X::AbstractArray) = 𝑴.nn(X)\n",
    "probs(𝑴::NeuralNetwork, X::AbstractArray)= σ.(logits(𝑴, X))\n",
    "𝑴 = NeuralNetwork(nn);"
   ]
  },
  {
   "cell_type": "markdown",
   "metadata": {},
   "source": [
    "### Laplace approximation"
   ]
  },
  {
   "cell_type": "code",
   "execution_count": null,
   "metadata": {},
   "outputs": [],
   "source": [
    "using BayesLaplace\n",
    "la = laplace(nn, λ=λ)\n",
    "fit!(la, data);"
   ]
  },
  {
   "cell_type": "code",
   "execution_count": null,
   "metadata": {},
   "outputs": [],
   "source": [
    "# Step 1)\n",
    "struct LaplaceNeuralNetwork <: Models.FittedModel\n",
    "    la::BayesLaplace.LaplaceRedux\n",
    "end\n",
    "\n",
    "# Step 2)\n",
    "logits(𝑴::LaplaceNeuralNetwork, X::AbstractArray) = 𝑴.la.model(X)\n",
    "probs(𝑴::LaplaceNeuralNetwork, X::AbstractArray)= BayesLaplace.predict(𝑴.la, X)\n",
    "𝑴ᴸ = LaplaceNeuralNetwork(la);"
   ]
  },
  {
   "cell_type": "code",
   "execution_count": null,
   "metadata": {},
   "outputs": [],
   "source": [
    "using Makie: contourf!\n",
    "function plot_contour_makie(X,y,𝑴;clegend=true,title=\"\",length_out=50,zoom=-1,xlim=nothing,ylim=nothing,linewidth=0.1)\n",
    "    \n",
    "    # Surface range:\n",
    "    if isnothing(xlim)\n",
    "        xlim = (minimum(X[:,1]),maximum(X[:,1])).+(zoom,-zoom)\n",
    "    else\n",
    "        xlim = xlim .+ (zoom,-zoom)\n",
    "    end\n",
    "    if isnothing(ylim)\n",
    "        ylim = (minimum(X[:,2]),maximum(X[:,2])).+(zoom,-zoom)\n",
    "    else\n",
    "        ylim = ylim .+ (zoom,-zoom)\n",
    "    end\n",
    "    x_range = collect(range(xlim[1],stop=xlim[2],length=length_out))\n",
    "    y_range = collect(range(ylim[1],stop=ylim[2],length=length_out))\n",
    "    Z = [Models.probs(𝑴,[x, y])[1] for x=x_range, y=y_range]\n",
    "\n",
    "    f = Figure()\n",
    "    Axis(f[1, 1])\n",
    "\n",
    "    # Plot:\n",
    "    co = contourf!(\n",
    "        x_range, y_range, Z; \n",
    "        colorbar=clegend, title=title, linewidth=linewidth,\n",
    "        xlim=xlim,\n",
    "        ylim=ylim\n",
    "    )\n",
    "\n",
    "    Colorbar(f[1,2],co)\n",
    "    \n",
    "    scatter!(X'[1,cats],X'[2,cats],marker=cat,markersize=ms)\n",
    "    scatter!(X'[1,dogs],X'[2,dogs],marker=dog,markersize=ms)\n",
    "\n",
    "    return plt\n",
    "end;"
   ]
  },
  {
   "cell_type": "code",
   "execution_count": null,
   "metadata": {},
   "outputs": [],
   "source": [
    "plt = plot_contour_makie(X',y,𝑴,title=\"MLP\")\n",
    "save(\"www/predictive_mlp.png\", plt)\n",
    "plt = plot_contour_makie(X',y,𝑴ᴸ,title=\"Laplace\")\n",
    "save(\"www/predictive_laplace.png\", plt);"
   ]
  },
  {
   "cell_type": "markdown",
   "metadata": {},
   "source": [
    "### Generating recourse"
   ]
  },
  {
   "cell_type": "code",
   "execution_count": null,
   "metadata": {},
   "outputs": [],
   "source": [
    "using Random\n",
    "Random.seed!(1234)\n",
    "cats = findall(y.==0)\n",
    "x̅ = X[:,rand(cats)]\n",
    "y̅ = 0.0\n",
    "target = 1.0 # opposite label as target\n",
    "γ = 0.75; # desired level of confidence"
   ]
  },
  {
   "cell_type": "code",
   "execution_count": null,
   "metadata": {},
   "outputs": [],
   "source": [
    "generator = GenericGenerator(0.01,2,1e-5,:logitbinarycrossentropy,nothing)\n",
    "recourse = generate_counterfactual(generator, x̅, 𝑴, target, γ); # generate recourse"
   ]
  },
  {
   "cell_type": "code",
   "execution_count": null,
   "metadata": {},
   "outputs": [],
   "source": [
    "T = size(recourse.path)[1]\n",
    "X_path = reduce(hcat,recourse.path)\n",
    "ŷ = CounterfactualExplanations.target_probs(probs(recourse.𝑴, X_path),target)\n",
    "plt = plot_contour_makie(X',y,𝑴)\n",
    "for t in 1:T\n",
    "    scatter!([recourse.path[t][1]], [recourse.path[t][2]],marker=cat,markersize=ms)    \n",
    "end\n",
    "save(\"www/recourse_mlp.png\",plt);"
   ]
  },
  {
   "cell_type": "code",
   "execution_count": null,
   "metadata": {},
   "outputs": [],
   "source": [
    "T = size(recourse.path)[1]\n",
    "X_path = reduce(hcat,recourse.path)\n",
    "ŷ = CounterfactualExplanations.target_probs(probs(recourse.𝑴, X_path),target)\n",
    "fig, ax, contourplot = plot_contour_makie(X',y,𝑴)\n",
    "\n",
    "# animation settings\n",
    "timestamps = range(1, T, step=1)\n",
    "\n",
    "record(fig, \"www/recourse_mlp.gif\", timestamps; framerate = 30) do t\n",
    "    scatter!([recourse.path[Int(t)][1]], [recourse.path[Int(t)][2]],marker=cat,markersize=ms)\n",
    "end;"
   ]
  },
  {
   "cell_type": "code",
   "execution_count": null,
   "metadata": {},
   "outputs": [],
   "source": [
    "generator = GreedyGenerator(1,30,:logitbinarycrossentropy,nothing)\n",
    "recourse = generate_counterfactual(generator, x̅, 𝑴ᴸ, target, γ); # generate recourse"
   ]
  },
  {
   "cell_type": "code",
   "execution_count": null,
   "metadata": {},
   "outputs": [],
   "source": [
    "T = size(recourse.path)[1]\n",
    "X_path = reduce(hcat,recourse.path)\n",
    "ŷ = CounterfactualExplanations.target_probs(probs(recourse.𝑴, X_path),target)\n",
    "plt = plot_contour_makie(X',y,𝑴ᴸ)\n",
    "for t in 1:T\n",
    "    scatter!([recourse.path[t][1]], [recourse.path[t][2]],marker=cat,markersize=ms)    \n",
    "end\n",
    "save(\"www/recourse_laplace.png\",plt);"
   ]
  },
  {
   "cell_type": "code",
   "execution_count": null,
   "metadata": {},
   "outputs": [],
   "source": [
    "T = size(recourse.path)[1]\n",
    "X_path = reduce(hcat,recourse.path)\n",
    "ŷ = CounterfactualExplanations.target_probs(probs(recourse.𝑴, X_path),target)\n",
    "fig, ax, contourplot = plot_contour_makie(X',y,𝑴ᴸ)\n",
    "\n",
    "# animation settings\n",
    "timestamps = range(1, T, step=1)\n",
    "\n",
    "record(fig, \"www/recourse_laplace.gif\", timestamps; framerate = 15) do t\n",
    "    scatter!([recourse.path[Int(t)][1]], [recourse.path[Int(t)][2]],marker=cat,markersize=ms)\n",
    "end;"
   ]
  }
 ],
 "metadata": {
  "kernelspec": {
   "display_name": "Julia 1.6.4",
   "language": "julia",
   "name": "julia-1.6"
  },
  "language_info": {
   "file_extension": ".jl",
   "mimetype": "application/julia",
   "name": "julia",
   "version": "1.6.4"
  },
  "orig_nbformat": 4
 },
 "nbformat": 4,
 "nbformat_minor": 2
}
