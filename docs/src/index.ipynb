{
 "cells": [
  {
   "cell_type": "markdown",
   "id": "4d17a365",
   "metadata": {},
   "source": [
    "```@meta\n",
    "CurrentModule = CounterfactualExplanations\n",
    "```\n",
    "\n",
    "# CounterfactualExplanations\n",
    "\n",
    "Documentation for [CounterfactualExplanations.jl](https://github.com/pat-alt/CounterfactualExplanations.jl).\n",
    "\n",
    "`CounterfactualExplanations.jl` is a package for generating Counterfactual Explanations (CE) and Algorithmic Recourse (AR) for black-box algorithms. Both CE and AR are related tools for explainable artificial intelligence (XAI). While the package is written purely in Julia, it can be used to explain machine learning algorithms developed and trained in other popular programming languages like Python and R. See below for short introduction and other resources or dive straight into the [docs](https://pat-alt.github.io/CounterfactualExplanations.jl/dev).\n",
    "\n",
    "## News 📣"
   ]
  },
  {
   "cell_type": "code",
   "execution_count": 1,
   "id": "b35be8ab",
   "metadata": {},
   "outputs": [
    {
     "name": "stdout",
     "output_type": "stream",
     "text": [
      "Julia Version 1.8.1\n",
      "Commit afb6c60d69a (2022-09-06 15:09 UTC)\n",
      "Platform Info:\n",
      "  OS: macOS (x86_64-apple-darwin21.4.0)\n",
      "  CPU: 16 × Intel(R) Core(TM) i9-9880H CPU @ 2.30GHz\n",
      "  WORD_SIZE: 64\n",
      "  LIBM: libopenlibm\n",
      "  LLVM: libLLVM-13.0.1 (ORCJIT, skylake)\n",
      "  Threads: 1 on 8 virtual cores\n",
      "Environment:\n",
      "  JULIA_EDITOR = code\n"
     ]
    }
   ],
   "source": [
    "#| output: true\n",
    "versioninfo()"
   ]
  },
  {
   "cell_type": "markdown",
   "id": "a9366600",
   "metadata": {},
   "source": [
    "**JuliaCon 2022**: This project was presented at JuliaCon 2022 in July 2022. See [here](https://pretalx.com/juliacon-2022/talk/HU8FVH/) for details.\n",
    "\n",
    "### Developmemts since v0.1.2\n",
    "\n",
    "- Added support for generating multiple counterfactuals instead of just one. \n",
    "- Implemented DiCE [@mothilal2020explaining].\n",
    "- Added option to add a random perturbation to the initial factual values, which is an easy way to mitigate adversarial attacks on CE [@slack2021counterfactual].\n",
    "- Visualizations: added various plotting methods to visualize results. For $n$-dimensional data where $n>2$ we use dimensionality reduction to embed the data in 2D. The decision boundary is then visualized using its a Voronoi based representation following @migut2015visualizing. Thanks to my student [Aleksander Buszydlik](https://github.com/abuszydlik) for bringing this idea to my attention.\n",
    "- Added the option to specify strict convergence: instead of terminating search once the probability threshold $\\gamma$ has been reached, search continues as long the objective function still improves.\n",
    "\n",
    "## Installation 🚩\n",
    "\n",
    "The first release of this package is now on [Julia's General Registry](https://github.com/JuliaRegistries/General) and can be installed as follows:\n",
    "\n",
    "```julia\n",
    "using Pkg\n",
    "Pkg.add(\"CounterfactualExplanations\")\n",
    "```\n",
    "\n",
    "CounterfactualExplanations.jl is currently under active development. To install the development version of the package you can run the following command:\n",
    "\n",
    "```julia\n",
    "using Pkg\n",
    "Pkg.add(url=\"https://github.com/pat-alt/CounterfactualExplanations.jl\")\n",
    "```\n",
    "\n",
    "## Background and motivation \n",
    "\n",
    "#### The Need for Explainability ⬛\n",
    "\n",
    "Machine learning models like deep neural networks have become so complex, opaque and underspecified in the data that they are generally considered as black boxes. Nonetheless, such models often play a key role in data-driven decision-making systems. This often creates the following problem: human operators in charge of such systems have to rely on them blindly, while those individuals subject to them generally have no way of challenging an undesirable outcome:\n",
    "\n",
    "> “You cannot appeal to (algorithms). They do not listen. Nor do they bend.”\n",
    ">\n",
    "> — Cathy O’Neil in [*Weapons of Math Destruction*](https://en.wikipedia.org/wiki/Weapons_of_Math_Destruction), 2016\n",
    "\n",
    "#### Enter: Counterfactual Explanations 🔮\n",
    "\n",
    "Counterfactual Explanations can help human stakeholders make sense of the systems they develop, use or endure: they explain how inputs into a system need to change for it to produce different decisions. Explainability benefits internal as well as external quality assurance. The figure below, for example, shows various counterfactuals generated through different approaches that all turn the predicted label of some classifier from a 9 into a 4. CEs that involve realistic and actionable changes such as the one on the far right can be used for the purpose of algorithmic recourse.\n",
    "\n",
    "\n",
    "![Realistic counterfactual explanations for MNIST data: turning a 4 into a 9.](https://raw.githubusercontent.com/pat-alt/CounterfactualExplanations.jl/main/docs/src/examples/image/www/MNIST_9to4.png)\n",
    "\n",
    "Explanations that involve realistic and actionable changes can be used for the purpose of algorithmic recourse (AR): they offer human stakeholders a way to not only understand the system's behaviour, but also react to it or adjust it. The figure below illustrates the point of AR through a toy example: it shows the counterfactual path of one sad cat 🐱 that would like to be grouped with her cool dog friends. Unfortunately, based on her tail length and height she was classified as a cat by a black-box classifier. The recourse algorithm perturbs her features in such a way that she ends up crossing the decision boundary into a dense region inside the target class.\n",
    "\n",
    "![A sad 🐱 on its counterfactual path to its cool dog friends.](https://raw.githubusercontent.com/pat-alt/CounterfactualExplanations.jl/main/docs/src/www/recourse_laplace.gif)\n",
    "\n",
    "Counterfactual Explanations have certain advantages over related tools for explainable artificial intelligence (XAI) like surrogate eplainers (LIME and SHAP). These include:\n",
    "\n",
    "- Full fidelity to the black-box model, since no proxy is involved. \n",
    "- No need for (reasonably) interpretable features as opposed to LIME and SHAP.\n",
    "- Clear link to Causal Inference and Bayesian Machine Learning.\n",
    "- Less susceptible to adversarial attacks than LIME and SHAP.\n",
    "\n",
    "## Usage example 🔍\n",
    "\n",
    "Generating counterfactuals will typically look like follows:"
   ]
  },
  {
   "cell_type": "code",
   "execution_count": 2,
   "id": "d625126e",
   "metadata": {},
   "outputs": [
    {
     "data": {
      "text/plain": [
       "GenericGenerator(nothing, LinearAlgebra.norm, 0.1, 0.5, Flux.Optimise.Descent(0.1), 1.0e-5)"
      ]
     },
     "execution_count": 8,
     "metadata": {},
     "output_type": "execute_result"
    }
   ],
   "source": [
    "using CounterfactualExplanations\n",
    "\n",
    "# Data:\n",
    "using CounterfactualExplanations.Data\n",
    "using Random\n",
    "Random.seed!(1234)\n",
    "xs, ys = Data.toy_data_linear()\n",
    "X = hcat(xs...)\n",
    "counterfactual_data = CounterfactualData(X,ys')\n",
    "\n",
    "# Model\n",
    "using CounterfactualExplanations.Models: LogisticModel, probs \n",
    "# Logit model:\n",
    "w = [1.0 1.0] # true coefficients\n",
    "b = 0\n",
    "M = LogisticModel(w, [b])\n",
    "\n",
    "# Randomly selected factual:\n",
    "x = select_factual(counterfactual_data,rand(1:size(X)[2]))\n",
    "y = round(probs(M, x)[1])\n",
    "target = round(probs(M, x)[1])==0 ? 1 : 0 \n",
    "\n",
    "# Counterfactual search:\n",
    "generator = GenericGenerator()"
   ]
  },
  {
   "cell_type": "markdown",
   "id": "8a46e1cd",
   "metadata": {},
   "source": [
    "Running the counterfactual search yields:"
   ]
  },
  {
   "cell_type": "code",
   "execution_count": 3,
   "id": "4e09ef08",
   "metadata": {},
   "outputs": [
    {
     "data": {
      "text/plain": [
       "\u001b[0m\u001b[1mConvergence: ✅\u001b[22m"
      ]
     },
     "execution_count": 9,
     "metadata": {},
     "output_type": "execute_result"
    },
    {
     "name": "stdout",
     "output_type": "stream",
     "text": [
      " after 29 steps.\n"
     ]
    }
   ],
   "source": [
    "#| output: true\n",
    "counterfactual = generate_counterfactual(x, target, counterfactual_data, M, generator)"
   ]
  },
  {
   "cell_type": "markdown",
   "id": "377d864e",
   "metadata": {},
   "source": [
    "## Implemented Counterfactual Generators:\n",
    "\n",
    "Currently the following counterfactual generators are implemented:\n",
    "\n",
    "- Generic [@wachter2017counterfactual]\n",
    "- Greedy [@schut2021generating]\n",
    "- DiCE [@mothilal2020explaining]\n",
    "- Latent Space Search as in REVISE [@joshi2019realistic] and CLUE [@antoran2020getting]\n",
    "\n",
    "## Goals and limitations 🎯\n",
    "\n",
    "The goal for this library is to contribute to efforts towards trustworthy machine learning in Julia. The Julia language has an edge when it comes to trustworthiness: it is very transparent. Packages like this one are generally written in pure Julia, which makes it easy for users and developers to understand and contribute to open source code. Eventually the aim for this project is to offer a one-stop-shop of counterfactual explanations. We want to deliver a package that is at least at par with the [CARLA](https://github.com/carla-recourse/CARLA) Python library in terms of its functionality. Contrary to CARLA, we aim for languague interoperability in the long-term. Currently the package falls short of this goal in a number of ways: 1) the number of counterfactual generators is limited, 2) the data preprocessing functionality needs to be extended.\n",
    "\n",
    "## Contribute 🛠\n",
    "\n",
    "Contributions of any kind are very much welcome! If any of the below applies to you, this might be the right open-source project for you:\n",
    "\n",
    "- You're an expert in Counterfactual Explanations or Explainable AI more broadly and you are curious about Julia. \n",
    "- You're an experienced Julian and are happy to help a less experienced Julian (yours truly) up their game. Ideally, you are also curious about Trustworthy AI.\n",
    "- You're new to Julia and open-source development and would like to start your learning journey by contributing to a recent but promising development. Ideally you are familiar with machine learning.\n",
    "\n",
    "I am still very much at the beginning of my Julia journey, so if you spot any issues or have any suggestions for design improvement, please just open [issue](https://github.com/pat-alt/CounterfactualExplanations.jl/issues) or start a [discussion](https://github.com/pat-alt/CounterfactualExplanations.jl/discussions). Our goal is to provide a go-to place for counterfactual explanations in Julia. To this end, the following is a non-exhaustive list of exciting feature developments we envision:\n",
    "\n",
    "1. Additional counterfactual generators and predictive models.\n",
    "2. Additional datasets for testing, evaluation and benchmarking.\n",
    "3. Improved preprocessing including native support for categorical features.\n",
    "4. Support for regression models.\n",
    "\n",
    "For more details on how to contribute see [here](https://www.paltmeyer.com/CounterfactualExplanations.jl/dev/contributing/). Please follow the [SciML ColPrac guide](https://github.com/SciML/ColPrac).\n",
    "\n",
    "## Citation 🎓\n",
    "\n",
    "If you want to use this codebase, please consider citing:\n",
    "\n",
    "```\n",
    "@software{altmeyer2022CounterfactualExplanations,\n",
    "  author = {Patrick Altmeyer},\n",
    "  title = {{CounterfactualExplanations.jl - a Julia package for Counterfactual Explanations and Algorithmic Recourse}},\n",
    "  url = {https://github.com/pat-alt/CounterfactualExplanations.jl},\n",
    "  version = {0.1.1},\n",
    "  year = {2022}\n",
    "}\n",
    "```\n",
    "\n",
    "## References 📚\n"
   ]
  }
 ],
 "metadata": {
  "kernelspec": {
   "display_name": "Julia 1.8.1",
   "language": "julia",
   "name": "julia-1.8"
  }
 },
 "nbformat": 4,
 "nbformat_minor": 5
}
