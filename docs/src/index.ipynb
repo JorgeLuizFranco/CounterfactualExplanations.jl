{
  "cells": [
    {
      "cell_type": "markdown",
      "metadata": {},
      "source": [
        "```@meta\n",
        "CurrentModule = CounterfactualExplanations\n",
        "```\n",
        "\n",
        "![](assets/wide_logo.png)\n",
        "\n",
        "Documentation for [CounterfactualExplanations.jl](https://github.com/juliatrustworthyai/CounterfactualExplanations.jl).\n",
        "\n",
        "*Counterfactual Explanations and Algorithmic Recourse in Julia.*\n",
        "\n",
        "[![Stable](https://img.shields.io/badge/docs-stable-blue.svg)](https://juliatrustworthyai.github.io/CounterfactualExplanations.jl/stable)\n",
        "[![Dev](https://img.shields.io/badge/docs-dev-blue.svg)](https://juliatrustworthyai.github.io/CounterfactualExplanations.jl/dev)\n",
        "[![Build Status](https://github.com/juliatrustworthyai/CounterfactualExplanations.jl/actions/workflows/CI.yml/badge.svg?branch=main)](https://github.com/juliatrustworthyai/CounterfactualExplanations.jl/actions/workflows/CI.yml?query=branch%3Amain)\n",
        "[![Coverage](https://codecov.io/gh/juliatrustworthyai/CounterfactualExplanations.jl/branch/main/graph/badge.svg)](https://codecov.io/gh/juliatrustworthyai/CounterfactualExplanations.jl)\n",
        "[![Code Style: Blue](https://img.shields.io/badge/code%20style-blue-4495d1.svg)](https://github.com/invenia/BlueStyle)\n",
        "[![License](https://img.shields.io/github/license/juliatrustworthyai/CounterfactualExplanations.jl)](LICENSE)"
      ],
      "id": "be861e23"
    },
    {
      "cell_type": "code",
      "metadata": {},
      "source": [
        "#| echo: false\n",
        "include(\"docs/setup_docs.jl\")\n",
        "eval(setup_docs)"
      ],
      "id": "728502f6",
      "execution_count": null,
      "outputs": []
    },
    {
      "cell_type": "markdown",
      "metadata": {},
      "source": [
        "`CounterfactualExplanations.jl` is a package for generating Counterfactual Explanations (CE) and Algorithmic Recourse (AR) for black-box algorithms. Both CE and AR are related tools for explainable artificial intelligence (XAI). While the package is written purely in Julia, it can be used to explain machine learning algorithms developed and trained in other popular programming languages like Python and R. See below for a short introduction and other resources or dive straight into the [docs](https://juliatrustworthyai.github.io/CounterfactualExplanations.jl/dev).\n",
        "\n",
        "## 🚩 Installation \n",
        "\n",
        "You can install the stable release from [Julia's General Registry](https://github.com/JuliaRegistries/General) as follows:\n",
        "\n",
        "```{.julia}\n",
        "using Pkg\n",
        "Pkg.add(\"CounterfactualExplanations\")\n",
        "```\n",
        "\n",
        "`CounterfactualExplanations.jl` is under active development. To install the development version of the package you can run the following command:\n",
        "\n",
        "```{.julia}\n",
        "using Pkg\n",
        "Pkg.add(url=\"https://github.com/juliatrustworthyai/CounterfactualExplanations.jl\")\n",
        "```\n",
        "\n",
        "## 🤔 Background and Motivation \n",
        "\n",
        "Machine learning models like Deep Neural Networks have become so complex, opaque and underspecified in the data that they are generally considered Black Boxes. Nonetheless, such models often play a key role in data-driven decision-making systems. This creates the following problem: human operators in charge of such systems have to rely on them blindly, while those individuals subject to them generally have no way of challenging an undesirable outcome:\n",
        "\n",
        "> “You cannot appeal to (algorithms). They do not listen. Nor do they bend.”\n",
        ">\n",
        "> — Cathy O’Neil in [*Weapons of Math Destruction*](https://en.wikipedia.org/wiki/Weapons_of_Math_Destruction), 2016\n",
        "\n",
        "## 🔮 Enter: Counterfactual Explanations \n",
        "\n",
        "Counterfactual Explanations can help human stakeholders make sense of the systems they develop, use or endure: they explain how inputs into a system need to change for it to produce different decisions. Explainability benefits internal as well as external quality assurance.  \n",
        "\n",
        "Counterfactual Explanations have a few properties that are desirable in the context of Explainable Artificial Intelligence (XAI). These include:\n",
        "\n",
        "- Full fidelity to the black-box model, since no proxy is involved. \n",
        "- No need for (reasonably) interpretable features as opposed to LIME and SHAP.\n",
        "- Clear link to Algorithmic Recourse and Causal Inference.\n",
        "- Less susceptible to adversarial attacks than LIME and SHAP.\n",
        "\n",
        "### Example: Give Me Some Credit"
      ],
      "id": "20db6ae6"
    },
    {
      "cell_type": "code",
      "metadata": {},
      "source": [
        "#| echo: false\n",
        "Random.seed!(42)\n",
        "\n",
        "# Data and Model:\n",
        "counterfactual_data = load_gmsc(10000)\n",
        "train_data, test_data = CounterfactualExplanations.DataPreprocessing.train_test_split(counterfactual_data)\n",
        "flux_training_params.batchsize = 50\n",
        "flux_training_params.verbose = true\n",
        "M = fit_model(train_data, :MLP; dropout=true, n_hidden=64, n_layers=4)\n",
        "ŷ = predict_label(M, train_data)\n",
        "\n",
        "# Randomly selected factual:\n",
        "target_class = 1\n",
        "non_target_class = 0\n",
        "n_ce = 10\n",
        "x = select_factual(train_data,rand(findall(vec(ŷ).==non_target_class), n_ce))\n",
        "CounterfactualExplanations.reset!(flux_training_params)\n",
        "\n",
        "# Mutability:\n",
        "input_names = Symbol.([\n",
        "  \"unsecured_lines\",\n",
        "  \"age\",\n",
        "  \"times_past_due\",\n",
        "  \"debt_ratio\",\n",
        "  \"income\",\n",
        "  \"number_loans\",\n",
        "  \"times_late\",\n",
        "  \"number_mortgages\",\n",
        "  \"times_past_due_2\",\n",
        "  \"number_dependents\",\n",
        "])\n",
        "_mut = [:both for i in 1:length(input_names)]\n",
        "_mut[2] = :increase\n",
        "counterfactual_data.mutability = _mut\n",
        "x1 = :income   # Amount of given credit\n",
        "x2 = :age\n",
        "\n",
        "# Generator:\n",
        "generator = GravitationalGenerator(\n",
        "    decision_threshold = 0.9,\n",
        "    opt = Descent(0.1)\n",
        ")"
      ],
      "id": "e72e56e3",
      "execution_count": null,
      "outputs": []
    },
    {
      "cell_type": "markdown",
      "metadata": {},
      "source": [
        "Consider the following real-world scenario: a retail bank is using a black-box model trained on their clients' credit history to decide whether they will provide credit to new applicants. To simulate this scenario, we have pre-trained a binary classifier on the publically available Give Me Some Credit dataset that ships with this package [@kaggle2011give]."
      ],
      "id": "862d2c6d"
    },
    {
      "cell_type": "code",
      "metadata": {},
      "source": [
        "#| echo: false\n",
        "#| output: true\n",
        "\n",
        "Markdown.parse(\n",
        "  \"\"\"\n",
        "  The figure below shows counterfactuals for $(n_ce) randomly chosen individuals that would have been denied credit initially. \n",
        "  \"\"\"\n",
        ")"
      ],
      "id": "70c223c5",
      "execution_count": null,
      "outputs": []
    },
    {
      "cell_type": "code",
      "metadata": {},
      "source": [
        "#| output: true\n",
        "#| echo: false\n",
        "\n",
        "counterfactuals = generate_counterfactual(\n",
        "  x, target_class, counterfactual_data, M, generator;\n",
        "  initialization = :identity\n",
        ")\n",
        "\n",
        "# Plotting:\n",
        "plt = plot()\n",
        "\n",
        "map(enumerate(counterfactuals)) do (idx, x)\n",
        "\n",
        "    x_origin = x.x\n",
        "    x_origin = selectdim(x_origin,3,1)\n",
        "    x_origin = vcat(x_origin[findall(input_names.==x1)], x_origin[findall(input_names.==x2)])\n",
        "\n",
        "    _x = CounterfactualExplanations.counterfactual(x)\n",
        "    _x = selectdim(_x,3,1)\n",
        "    _x = vcat(_x[findall(input_names.==x1)], _x[findall(input_names.==x2)])\n",
        "\n",
        "    if idx == 1\n",
        "        non_target_label = \"loan denied\"\n",
        "        target_label = \"loan provided\"\n",
        "    else\n",
        "        non_target_label = \"\"\n",
        "        target_label = \"\"\n",
        "    end\n",
        "\n",
        "    scatter!(\n",
        "        plt, \n",
        "        [x_origin[1]],\n",
        "        [x_origin[2]],\n",
        "        xlabel = x1,\n",
        "        ylabel = x2,\n",
        "        colour = non_target_class,\n",
        "        label = non_target_label,\n",
        "        ms = 10\n",
        "    )\n",
        "\n",
        "    # Marker\n",
        "    scatter!(\n",
        "        plt, \n",
        "        [_x[1]],\n",
        "        [_x[2]],\n",
        "        colour = target_class,\n",
        "        label = target_label,\n",
        "        ms = 10\n",
        "    )\n",
        "\n",
        "    # Arrow\n",
        "    plot!(\n",
        "        plt, \n",
        "        vcat(x_origin[1],_x[1]), \n",
        "        vcat(x_origin[2],_x[2]), \n",
        "        arrow=true, color=:black, linewidth=2, label=\"\"\n",
        "    )\n",
        " \n",
        "end\n",
        "\n",
        "plt = plot(plt, size=(500, 400), legend=:bottomright)\n",
        "display(plt)"
      ],
      "id": "9a15f13c",
      "execution_count": null,
      "outputs": []
    },
    {
      "cell_type": "markdown",
      "metadata": {},
      "source": [
        "### Example: MNIST"
      ],
      "id": "19ea7061"
    },
    {
      "cell_type": "code",
      "metadata": {},
      "source": [
        "#| echo: false\n",
        "using CounterfactualExplanations.Models: load_mnist_mlp, load_mnist_vae\n",
        "counterfactual_data = load_mnist()\n",
        "X, y = unpack_data(counterfactual_data)\n",
        "input_dim, n_obs = size(counterfactual_data.X)\n",
        "M = load_mnist_mlp()\n",
        "vae = load_mnist_vae()\n",
        "counterfactual_data.generative_model = vae # assign generative model"
      ],
      "id": "f870bcef",
      "execution_count": null,
      "outputs": []
    },
    {
      "cell_type": "code",
      "metadata": {},
      "source": [
        "#| echo: false\n",
        "factual_label = 9\n",
        "x = reshape(X[:,rand(findall(predict_label(M, counterfactual_data).==factual_label))],input_dim,1)\n",
        "target = 4\n",
        "factual = predict_label(M, counterfactual_data, x)[1]"
      ],
      "id": "5194fdd7",
      "execution_count": null,
      "outputs": []
    },
    {
      "cell_type": "code",
      "metadata": {},
      "source": [
        "#| echo: false\n",
        "#| output: true\n",
        "\n",
        "Markdown.parse(\n",
        "  \"\"\"\n",
        "  The figure below shows a counterfactual generated for an image classifier trained on MNIST: in particular, it demonstrates which pixels need to change in order for the classifier to predict $(target) instead of $(factual). \n",
        "  \"\"\"\n",
        ")"
      ],
      "id": "318a6b9c",
      "execution_count": null,
      "outputs": []
    },
    {
      "cell_type": "markdown",
      "metadata": {},
      "source": [
        "The counterfactual was produced using REVISE [@joshi2019realistic]:"
      ],
      "id": "4dbcb5c9"
    },
    {
      "cell_type": "code",
      "metadata": {},
      "source": [
        "# Define generator:\n",
        "generator = REVISEGenerator(\n",
        "  opt = Descent(0.1),\n",
        "  decision_threshold = 0.95,\n",
        "  λ = 0.01\n",
        ")\n",
        "# Generate recourse:\n",
        "ce = generate_counterfactual(x, target, counterfactual_data, M, generator)"
      ],
      "id": "3363d8d9",
      "execution_count": null,
      "outputs": []
    },
    {
      "cell_type": "code",
      "metadata": {},
      "source": [
        "#| echo: false\n",
        "#| output: true\n",
        "\n",
        "image_size = 300\n",
        "p1 = plot(\n",
        "    convert2image(MNIST, reshape(x,28,28)),\n",
        "    axis=nothing, \n",
        "    size=(image_size, image_size),\n",
        "    title=\"Factual\"\n",
        ")\n",
        "savefig(p1, joinpath(www_path, \"mnist_factual.png\"))\n",
        "target_prob = round(target_probs(ce)[1],digits=2)\n",
        "ŷ = CounterfactualExplanations.counterfactual_label(ce)[1]\n",
        "p2 = plot(\n",
        "    convert2image(MNIST, reshape(CounterfactualExplanations.counterfactual(ce),28,28)),\n",
        "    axis=nothing, \n",
        "    size=(image_size, image_size),\n",
        "    title=\"Counterfactual\"\n",
        ")\n",
        "plot(p1,p2;size=(image_size * 2,image_size), layout=(1,2))"
      ],
      "id": "172b2920",
      "execution_count": null,
      "outputs": []
    },
    {
      "cell_type": "markdown",
      "metadata": {},
      "source": [
        "## 🔍 Usage example \n",
        "\n",
        "Generating counterfactuals will typically look like follows.\n",
        "\n",
        "We have some pre-trained model that was fitted to data:"
      ],
      "id": "bf57363c"
    },
    {
      "cell_type": "code",
      "metadata": {},
      "source": [
        "# Data and Classifier:\n",
        "counterfactual_data = load_linearly_separable(1000)\n",
        "M = fit_model(counterfactual_data, :Linear)"
      ],
      "id": "7c113e09",
      "execution_count": null,
      "outputs": []
    },
    {
      "cell_type": "markdown",
      "metadata": {},
      "source": [
        "For some individual and target outcome, we want to understand what a valid counterfactual in the target class looks like:"
      ],
      "id": "cb3f441f"
    },
    {
      "cell_type": "code",
      "metadata": {},
      "source": [
        "# Randomly selected factual:\n",
        "x = select_factual(counterfactual_data,rand(1:size(counterfactual_data.X,2)))\n",
        "y = predict_label(M, counterfactual_data, x)[1]\n",
        "target = counterfactual_data.y_levels[counterfactual_data.y_levels .!= y][1]"
      ],
      "id": "63618d11",
      "execution_count": null,
      "outputs": []
    },
    {
      "cell_type": "markdown",
      "metadata": {},
      "source": [
        "To this end, we specify a counterfactual generator of our choice:"
      ],
      "id": "4a9bb6c6"
    },
    {
      "cell_type": "code",
      "metadata": {},
      "source": [
        "# Counterfactual search:\n",
        "generator = DiCEGenerator(\n",
        "  opt = Descent(0.01)\n",
        ")"
      ],
      "id": "5c641061",
      "execution_count": null,
      "outputs": []
    },
    {
      "cell_type": "code",
      "metadata": {},
      "source": [
        "#| output: true\n",
        "#| echo: false\n",
        "Markdown.parse(\n",
        "  \"\"\"\n",
        "  Here, we have chosen to use the `$(typeof(generator))` to move the individual from its factual label $(y) to the target label $(target).\n",
        "  \"\"\"\n",
        ")"
      ],
      "id": "d969aa43",
      "execution_count": null,
      "outputs": []
    },
    {
      "cell_type": "markdown",
      "metadata": {},
      "source": [
        "With all of our ingredients specified, we finally generate counterfactuals using a simple API call:"
      ],
      "id": "d21f0258"
    },
    {
      "cell_type": "code",
      "metadata": {},
      "source": [
        "ce = generate_counterfactual(\n",
        "  x, target, counterfactual_data, M, generator; \n",
        "  num_counterfactuals=3\n",
        ")"
      ],
      "id": "fad7c678",
      "execution_count": null,
      "outputs": []
    },
    {
      "cell_type": "markdown",
      "metadata": {},
      "source": [
        "The animation below shows the resulting counterfactual path:"
      ],
      "id": "c89dbb44"
    },
    {
      "cell_type": "code",
      "metadata": {},
      "source": [
        "#| echo: false\n",
        "\n",
        "anim = animate_path(ce; title=\"Factual: $(y) → Target: $(target)\")\n",
        "gif(anim, joinpath(www_path, \"intro.gif\"))\n",
        "gif(anim, \"README_files/intro.gif\")"
      ],
      "id": "0e8a9033",
      "execution_count": null,
      "outputs": []
    },
    {
      "cell_type": "markdown",
      "metadata": {},
      "source": [
        "![](www/intro.gif)\n",
        "\n",
        "![](README_files/intro.gif)\n",
        "\n",
        "## ☑️ Implemented Counterfactual Generators\n",
        "\n",
        "Currently, the following counterfactual generators are implemented:\n",
        "\n",
        "- Generic [@wachter2017counterfactual]\n",
        "- Greedy [@schut2021generating]\n",
        "- DiCE [@mothilal2020explaining]\n",
        "- Latent Space Search as in REVISE [@joshi2019realistic] and CLUE [@antoran2020getting]\n",
        "- ClaPROAR [@altmeyer2023endogenous]\n",
        "- GravitationalGenerator [@altmeyer2023endogenous]\n",
        "\n",
        "## 🎯 Goals and limitations \n",
        "\n",
        "The goal of this library is to contribute to efforts towards trustworthy machine learning in Julia. The Julia language has an edge when it comes to trustworthiness: it is very transparent. Packages like this one are generally written in pure Julia, which makes it easy for users and developers to understand and contribute to open-source code. Eventually, this project aims to offer a one-stop-shop of counterfactual explanations. We want to deliver a package that is at least at par with the [CARLA](https://github.com/carla-recourse/CARLA) Python library in terms of its functionality. Currently, the package falls short of this goal in some ways: \n",
        "\n",
        "1. The number of counterfactual generators is still limited.\n",
        "2. Mutability constraints are still not supported for Latent Space generators. \n",
        "\n",
        "Additionally, our ambition is to enhance the package through the following features:\n",
        "\n",
        "4. Language interoperability with Python and R: currently still only experimental. \n",
        "5. Support for machine learning models trained in [`MLJ.jl`](https://alan-turing-institute.github.io/MLJ.jl/dev/).\n",
        "6. Additional datasets for testing, evaluation and benchmarking.\n",
        "7. Support for regression models.\n",
        "\n",
        "## 🛠 Contribute \n",
        "\n",
        "Contributions of any kind are very much welcome! Take a look at the [issue](https://github.com/juliatrustworthyai/CounterfactualExplanations.jl/issues) to see what things we are currently working on. \n",
        "\n",
        "If any of the below applies to you, this might be the right open-source project for you:\n",
        "\n",
        "- You're an expert in Counterfactual Explanations or Explainable AI more broadly and you are curious about Julia. \n",
        "- You're experienced with Julia and are happy to help someone less experienced to up their game. Ideally, you are also curious about Trustworthy AI.\n",
        "- You're new to Julia and open-source development and would like to start your learning journey by contributing to a recent and active development. Ideally, you are familiar with machine learning.\n",
        "\n",
        "[\\@pat-alt](https://github.com/pat-alt) here: I am still very much at the beginning of my Julia journey, so if you spot any issues or have any suggestions for design improvement, please just open [issue](https://github.com/juliatrustworthyai/CounterfactualExplanations.jl/issues) or start a [discussion](https://github.com/juliatrustworthyai/CounterfactualExplanations.jl/discussions). Our goal is to provide a go-to place for counterfactual explanations in Julia.\n",
        "\n",
        "For more details on how to contribute see [here](https://www.paltmeyer.com/CounterfactualExplanations.jl/dev/contributing/). Please follow the [SciML ColPrac guide](https://github.com/SciML/ColPrac).\n",
        "\n",
        "## 🎓 Citation \n",
        "\n",
        "If you want to use this codebase, please consider citing:\n",
        "\n",
        "```\n",
        "@software{altmeyer2022CounterfactualExplanations,\n",
        "  author = {Patrick Altmeyer},\n",
        "  title = {{CounterfactualExplanations.jl - a Julia package for Counterfactual Explanations and Algorithmic Recourse}},\n",
        "  url = {https://github.com/juliatrustworthyai/CounterfactualExplanations.jl},\n",
        "  year = {2022}\n",
        "}\n",
        "```\n",
        "\n",
        "## 📚 References \n"
      ],
      "id": "87de94eb"
    }
  ],
  "metadata": {
    "kernelspec": {
      "name": "julia-1.8",
      "language": "julia",
      "display_name": "Julia 1.8.5"
    }
  },
  "nbformat": 4,
  "nbformat_minor": 5
}